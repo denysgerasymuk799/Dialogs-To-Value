{
 "cells": [
  {
   "cell_type": "code",
   "execution_count": 1,
   "metadata": {},
   "outputs": [],
   "source": [
    "import pandas as pd\n",
    "import matplotlib.pylab as plt"
   ]
  },
  {
   "cell_type": "code",
   "execution_count": 2,
   "metadata": {},
   "outputs": [
    {
     "name": "stdout",
     "output_type": "stream",
     "text": [
      "Enter dialog id: 594508393\n"
     ]
    }
   ],
   "source": [
    "# Path to dialog's csv\n",
    "\n",
    "csv_path = f\"data/dialogs/{input('Enter dialog id: ')}.csv\""
   ]
  },
  {
   "cell_type": "code",
   "execution_count": 3,
   "metadata": {},
   "outputs": [],
   "source": [
    "plot_data = {}"
   ]
  },
  {
   "cell_type": "code",
   "execution_count": 5,
   "metadata": {},
   "outputs": [
    {
     "data": {
      "text/html": [
       "<div>\n",
       "<style scoped>\n",
       "    .dataframe tbody tr th:only-of-type {\n",
       "        vertical-align: middle;\n",
       "    }\n",
       "\n",
       "    .dataframe tbody tr th {\n",
       "        vertical-align: top;\n",
       "    }\n",
       "\n",
       "    .dataframe thead th {\n",
       "        text-align: right;\n",
       "    }\n",
       "</style>\n",
       "<table border=\"1\" class=\"dataframe\">\n",
       "  <thead>\n",
       "    <tr style=\"text-align: right;\">\n",
       "      <th></th>\n",
       "      <th>Unnamed: 0</th>\n",
       "      <th>id</th>\n",
       "      <th>date</th>\n",
       "      <th>from_id</th>\n",
       "      <th>to_id</th>\n",
       "      <th>fwd_from</th>\n",
       "      <th>message</th>\n",
       "    </tr>\n",
       "  </thead>\n",
       "  <tbody>\n",
       "    <tr>\n",
       "      <th>0</th>\n",
       "      <td>0</td>\n",
       "      <td>41838</td>\n",
       "      <td>2020-08-12 18:50:50+00:00</td>\n",
       "      <td>594508393</td>\n",
       "      <td>418590848</td>\n",
       "      <td>NaN</td>\n",
       "      <td>NaN</td>\n",
       "    </tr>\n",
       "    <tr>\n",
       "      <th>1</th>\n",
       "      <td>1</td>\n",
       "      <td>41812</td>\n",
       "      <td>2020-08-12 18:20:11+00:00</td>\n",
       "      <td>594508393</td>\n",
       "      <td>418590848</td>\n",
       "      <td>NaN</td>\n",
       "      <td>Ахах</td>\n",
       "    </tr>\n",
       "    <tr>\n",
       "      <th>2</th>\n",
       "      <td>2</td>\n",
       "      <td>41806</td>\n",
       "      <td>2020-08-12 18:18:55+00:00</td>\n",
       "      <td>594508393</td>\n",
       "      <td>418590848</td>\n",
       "      <td>NaN</td>\n",
       "      <td>))))))</td>\n",
       "    </tr>\n",
       "    <tr>\n",
       "      <th>3</th>\n",
       "      <td>3</td>\n",
       "      <td>41805</td>\n",
       "      <td>2020-08-12 18:18:53+00:00</td>\n",
       "      <td>594508393</td>\n",
       "      <td>418590848</td>\n",
       "      <td>MessageFwdHeader(date=datetime.datetime(2020, ...</td>\n",
       "      <td>Некоторые стесняются</td>\n",
       "    </tr>\n",
       "    <tr>\n",
       "      <th>4</th>\n",
       "      <td>4</td>\n",
       "      <td>41804</td>\n",
       "      <td>2020-08-12 18:18:53+00:00</td>\n",
       "      <td>594508393</td>\n",
       "      <td>418590848</td>\n",
       "      <td>NaN</td>\n",
       "      <td>Настільки що будуть слухати лекцію на німо</td>\n",
       "    </tr>\n",
       "    <tr>\n",
       "      <th>...</th>\n",
       "      <td>...</td>\n",
       "      <td>...</td>\n",
       "      <td>...</td>\n",
       "      <td>...</td>\n",
       "      <td>...</td>\n",
       "      <td>...</td>\n",
       "      <td>...</td>\n",
       "    </tr>\n",
       "    <tr>\n",
       "      <th>10915</th>\n",
       "      <td>10915</td>\n",
       "      <td>283</td>\n",
       "      <td>2018-04-19 18:39:35+00:00</td>\n",
       "      <td>594508393</td>\n",
       "      <td>418590848</td>\n",
       "      <td>NaN</td>\n",
       "      <td>NaN</td>\n",
       "    </tr>\n",
       "    <tr>\n",
       "      <th>10916</th>\n",
       "      <td>10916</td>\n",
       "      <td>282</td>\n",
       "      <td>2018-04-19 18:17:47+00:00</td>\n",
       "      <td>594508393</td>\n",
       "      <td>418590848</td>\n",
       "      <td>NaN</td>\n",
       "      <td>far cry 5  це просто топ</td>\n",
       "    </tr>\n",
       "    <tr>\n",
       "      <th>10917</th>\n",
       "      <td>10917</td>\n",
       "      <td>281</td>\n",
       "      <td>2018-04-19 08:56:25+00:00</td>\n",
       "      <td>594508393</td>\n",
       "      <td>418590848</td>\n",
       "      <td>NaN</td>\n",
       "      <td>NaN</td>\n",
       "    </tr>\n",
       "    <tr>\n",
       "      <th>10918</th>\n",
       "      <td>10918</td>\n",
       "      <td>280</td>\n",
       "      <td>2018-04-19 08:53:46+00:00</td>\n",
       "      <td>418590848</td>\n",
       "      <td>594508393</td>\n",
       "      <td>NaN</td>\n",
       "      <td>NaN</td>\n",
       "    </tr>\n",
       "    <tr>\n",
       "      <th>10919</th>\n",
       "      <td>10919</td>\n",
       "      <td>279</td>\n",
       "      <td>2018-04-19 08:14:23+00:00</td>\n",
       "      <td>594508393</td>\n",
       "      <td>418590848</td>\n",
       "      <td>NaN</td>\n",
       "      <td>NaN</td>\n",
       "    </tr>\n",
       "  </tbody>\n",
       "</table>\n",
       "<p>10920 rows × 7 columns</p>\n",
       "</div>"
      ],
      "text/plain": [
       "       Unnamed: 0     id                       date    from_id      to_id  \\\n",
       "0               0  41838  2020-08-12 18:50:50+00:00  594508393  418590848   \n",
       "1               1  41812  2020-08-12 18:20:11+00:00  594508393  418590848   \n",
       "2               2  41806  2020-08-12 18:18:55+00:00  594508393  418590848   \n",
       "3               3  41805  2020-08-12 18:18:53+00:00  594508393  418590848   \n",
       "4               4  41804  2020-08-12 18:18:53+00:00  594508393  418590848   \n",
       "...           ...    ...                        ...        ...        ...   \n",
       "10915       10915    283  2018-04-19 18:39:35+00:00  594508393  418590848   \n",
       "10916       10916    282  2018-04-19 18:17:47+00:00  594508393  418590848   \n",
       "10917       10917    281  2018-04-19 08:56:25+00:00  594508393  418590848   \n",
       "10918       10918    280  2018-04-19 08:53:46+00:00  418590848  594508393   \n",
       "10919       10919    279  2018-04-19 08:14:23+00:00  594508393  418590848   \n",
       "\n",
       "                                                fwd_from  \\\n",
       "0                                                    NaN   \n",
       "1                                                    NaN   \n",
       "2                                                    NaN   \n",
       "3      MessageFwdHeader(date=datetime.datetime(2020, ...   \n",
       "4                                                    NaN   \n",
       "...                                                  ...   \n",
       "10915                                                NaN   \n",
       "10916                                                NaN   \n",
       "10917                                                NaN   \n",
       "10918                                                NaN   \n",
       "10919                                                NaN   \n",
       "\n",
       "                                          message  \n",
       "0                                             NaN  \n",
       "1                                            Ахах  \n",
       "2                                          ))))))  \n",
       "3                            Некоторые стесняются  \n",
       "4      Настільки що будуть слухати лекцію на німо  \n",
       "...                                           ...  \n",
       "10915                                         NaN  \n",
       "10916                    far cry 5  це просто топ  \n",
       "10917                                         NaN  \n",
       "10918                                         NaN  \n",
       "10919                                         NaN  \n",
       "\n",
       "[10920 rows x 7 columns]"
      ]
     },
     "execution_count": 5,
     "metadata": {},
     "output_type": "execute_result"
    }
   ],
   "source": [
    "# Loading csv to pandas DataFrame\n",
    "\n",
    "data = pd.read_csv(csv_path)\n",
    "data"
   ]
  },
  {
   "cell_type": "code",
   "execution_count": 6,
   "metadata": {},
   "outputs": [],
   "source": [
    "# Counting messages throughout hours.\n",
    "\n",
    "for x in data.index:\n",
    "    if not plot_data.get(data['date'][x][11:13]):\n",
    "        plot_data.setdefault(data['date'][x][11:13], 1)\n",
    "    else:\n",
    "        plot_data[data['date'][x][11:13]] += 1"
   ]
  },
  {
   "cell_type": "code",
   "execution_count": 7,
   "metadata": {
    "pycharm": {
     "name": "#%%\n"
    }
   },
   "outputs": [
    {
     "data": {
      "image/png": "[encoded data removed]",
      "text/plain": [
       "<Figure size 432x288 with 1 Axes>"
      ]
     },
     "metadata": {
      "needs_background": "light"
     },
     "output_type": "display_data"
    }
   ],
   "source": [
    "# Ploting data\n",
    "\n",
    "lists = sorted(plot_data.items())\n",
    "x, y = zip(*lists)\n",
    "\n",
    "\n",
    "plt.plot(x, y)\n",
    "plt.xlabel('Hours')\n",
    "plt.ylabel('Number of messages overall')\n",
    "plt.show()\n",
    "\n",
    "\n",
    "\n"
   ]
  },
  {
   "cell_type": "code",
   "execution_count": null,
   "metadata": {},
   "outputs": [],
   "source": []
  },
  {
   "cell_type": "code",
   "execution_count": null,
   "metadata": {},
   "outputs": [],
   "source": [
    "from messages_per_hours"
   ]
  }
 ],
 "metadata": {
  "kernelspec": {
   "display_name": "Python 3",
   "language": "python",
   "name": "python3"
  },
  "language_info": {
   "codemirror_mode": {
    "name": "ipython",
    "version": 3
   },
   "file_extension": ".py",
   "mimetype": "text/x-python",
   "name": "python",
   "nbconvert_exporter": "python",
   "pygments_lexer": "ipython3",
   "version": "3.8.5"
  }
 },
 "nbformat": 4,
 "nbformat_minor": 4
}
