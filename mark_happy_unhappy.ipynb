{
 "cells": [
  {
   "cell_type": "code",
   "execution_count": 1,
   "metadata": {
    "scrolled": false
   },
   "outputs": [],
   "source": [
    "import pandas as pd\n",
    "import matplotlib.pyplot as plt\n",
    "\n",
    "from datetime import datetime, timezone, timedelta"
   ]
  },
  {
   "cell_type": "code",
   "execution_count": 7,
   "metadata": {},
   "outputs": [],
   "source": [
    "data = pd.read_csv(\"data/dialogs/347963763.csv\")"
   ]
  },
  {
   "cell_type": "code",
   "execution_count": 8,
   "metadata": {},
   "outputs": [],
   "source": [
    "def tsv_to_dict(tsv_path=\"dicts/tone-dict-uk.tsv\"):\n",
    "    \"\"\"\n",
    "    Convert downloaded .tsv with word tonality to\n",
    "    python dict\n",
    "    \"\"\"\n",
    "    sentiment_data = pd.read_csv(tsv_path, sep=\"\\t\")\n",
    "    sentiment_dict = dict(zip(sentiment_data.iloc[:, 0], sentiment_data.iloc[:, 1]))\n",
    "\n",
    "    return sentiment_dict \n",
    "    \n",
    "    \n",
    "def is_date_after(check_date, days_ago = 365):\n",
    "    \"\"\"\n",
    "    Check if {days_ago} date < {check_date} < current date\n",
    "    \"\"\"\n",
    "    date_today = datetime.now(timezone.utc)\n",
    "    days_ago = timedelta(days = days_ago)\n",
    "    final_date = date_today - days_ago\n",
    "    if check_date > final_date:\n",
    "        return True\n",
    "    return False\n",
    "\n",
    "\n",
    "def divide_and_prepare_data(data, days_ago = 365):\n",
    "    \"\"\"\n",
    "    Divide messages by User and Day of the week\n",
    "    \"\"\"\n",
    "    prepped_data = {}\n",
    "    for index, row in data.iterrows():\n",
    "        \n",
    "        msg_date = datetime.fromisoformat(row['date'])\n",
    "        if not is_date_after(msg_date, days_ago):\n",
    "            break\n",
    "        if not row['from_id'] in prepped_data:\n",
    "            prepped_data[row['from_id']] = {\n",
    "                day_num : set() for day_num in range(1, 8)\n",
    "            }\n",
    "        \n",
    "        msg_week_day = msg_date.isoweekday()\n",
    "        prepped_data[row['from_id']][msg_week_day].add(row['message'])\n",
    "        \n",
    "    return prepped_data\n",
    "    \n",
    "    \n",
    "def sentiment_text_analysis(data, sentiment_dict_path=\"dicts/tone-dict-uk.tsv\"):\n",
    "    \"\"\"\n",
    "    Calculate sentiment of each word, and store the result\n",
    "    as a sentiment for a specific week day (of a specific user)\n",
    "    \n",
    "    P.S Messages that are not in word_dict are perceived as Neutral (sentiment = 0)\n",
    "    \"\"\"\n",
    "    sentiment_result = {}\n",
    "    text_data = divide_and_prepare_data(data)\n",
    "    word_dict = tsv_to_dict(sentiment_dict_path)\n",
    "    for user_id in text_data:\n",
    "        \n",
    "        if not user_id in sentiment_result:\n",
    "            sentiment_result[user_id] = {\n",
    "                day_num : 0 for day_num in range(1, 8)\n",
    "            }\n",
    "        \n",
    "        for day_number in text_data[user_id]:\n",
    "            \n",
    "            score = 0\n",
    "            \n",
    "            while text_data[user_id][day_number]:\n",
    "                \n",
    "                msg = text_data[user_id][day_number].pop()\n",
    "\n",
    "                if isinstance(msg, str):\n",
    "                    tokens = msg.strip().split()\n",
    "                    for token in tokens:\n",
    "                        if token.lower() in word_dict:\n",
    "                            score += word_dict[token.lower()]\n",
    "                 \n",
    "            sentiment_result[user_id][day_number] = score\n",
    "            \n",
    "            \n",
    "    return sentiment_result\n",
    "    \n",
    "    \n",
    "def plot_sentiment_analysis_results(result_data):\n",
    "    \n",
    "    days = [\"Mon\", \"Tue\", \"Wed\", \"Thu\", \"Fri\", \"Sat\", \"Sun\"]\n",
    "    \n",
    "    for user_id, sentiment_info in result_data.items():\n",
    "            \n",
    "        sentiment_values = list(sentiment_info.values())\n",
    "        positions = list(sentiment_info.keys())\n",
    "        \n",
    "        fig = plt.figure(figsize=(10,8))\n",
    "        plt.style.use(\"seaborn-muted\")\n",
    "        plt.bar(positions, sentiment_values)\n",
    "        plt.ylabel('Relative sentiment of messages')\n",
    "        plt.xticks(positions, days)\n",
    "        plt.title(f\"Sentiment for user with ID {user_id}\")\n",
    "        plt.show()\n",
    "\n",
    "\n"
   ]
  },
  {
   "cell_type": "code",
   "execution_count": 9,
   "metadata": {},
   "outputs": [
    {
     "data": {
      "text/plain": "<Figure size 720x576 with 1 Axes>",
      "image/png": "[encoded data removed]"
     },
     "metadata": {
      "needs_background": "light"
     },
     "output_type": "display_data"
    },
    {
     "data": {
      "text/plain": "<Figure size 720x576 with 1 Axes>",
      "image/png": "[encoded data removed]"
     },
     "metadata": {
      "needs_background": "light"
     },
     "output_type": "display_data"
    }
   ],
   "source": [
    "result = sentiment_text_analysis(data)\n",
    "plot_sentiment_analysis_results(result)"
   ]
  },
  {
   "cell_type": "code",
   "execution_count": 11,
   "metadata": {},
   "outputs": [],
   "source": [
    "# TODO: stuff doesn't work. pls fix it. and always check if things work properly before you open PR"
   ]
  },
  {
   "cell_type": "code",
   "execution_count": null,
   "metadata": {},
   "outputs": [],
   "source": []
  }
 ],
 "metadata": {
  "kernelspec": {
   "display_name": "Python 3",
   "language": "python",
   "name": "python3"
  },
  "language_info": {
   "codemirror_mode": {
    "name": "ipython",
    "version": 3
   },
   "file_extension": ".py",
   "mimetype": "text/x-python",
   "name": "python",
   "nbconvert_exporter": "python",
   "pygments_lexer": "ipython3",
   "version": "3.8.5"
  }
 },
 "nbformat": 4,
 "nbformat_minor": 4
}