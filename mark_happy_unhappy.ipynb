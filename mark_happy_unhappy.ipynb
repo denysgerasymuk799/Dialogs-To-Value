{
 "cells": [
  {
   "cell_type": "code",
   "execution_count": 180,
   "metadata": {
    "scrolled": false
   },
   "outputs": [
    {
     "name": "stdout",
     "output_type": "stream",
     "text": [
      "{594508393: {1: -6, 2: -1, 3: 11, 4: -6, 5: -3, 6: 3, 7: -1}, 418590848: {1: -4, 2: -7, 3: -5, 4: -4, 5: -8, 6: -3, 7: -9}}\n",
      "{1: -6, 2: -1, 3: 11, 4: -6, 5: -3, 6: 3, 7: -1}\n",
      "{1: -4, 2: -7, 3: -5, 4: -4, 5: -8, 6: -3, 7: -9}\n"
     ]
    }
   ],
   "source": [
    "import pandas as pd\n",
    "import matplotlib.pylab as plt\n",
    "from datetime import datetime, timezone, timedelta\n",
    "\n",
    "plot_data = {}\n",
    "\n",
    "data = pd.read_csv(\"data/dialogs/594508393.csv\")\n",
    "\n",
    "def tsv_to_dict(tsv_path=\"tone-dict-uk.tsv\"):\n",
    "    \n",
    "    \n",
    "    sentiment_data = pd.read_csv(\"tone-dict-uk.tsv\", sep=\"\\t\")\n",
    "    sentiment_dict = dict(zip(sentiment_data.iloc[:, 0], sentiment_data.iloc[:, 1]))\n",
    "\n",
    "    return sentiment_dict \n",
    "    \n",
    "def is_date_after(check_date, days_ago = 365):\n",
    "\n",
    "    date_today = datetime.now(timezone.utc)\n",
    "    days_ago = timedelta(days = days_ago)\n",
    "    final_date = date_today - days_ago\n",
    "    if check_date > final_date:\n",
    "        return True\n",
    "    return False\n",
    "\n",
    "def divide_and_prepare_data(data, days_ago = 365):\n",
    "    \n",
    "    prepped_data = {}\n",
    "    for index, row in data.iterrows():\n",
    "        \n",
    "        msg_date = datetime.fromisoformat(row['date'])\n",
    "        if not is_date_after(msg_date, days_ago):\n",
    "            break\n",
    "        if not row['from_id'] in prepped_data:\n",
    "            prepped_data[row['from_id']] = {\n",
    "                day_num : set() for day_num in range(1, 8)\n",
    "            }\n",
    "        \n",
    "        msg_week_day = msg_date.isoweekday()\n",
    "        prepped_data[row['from_id']][msg_week_day].add(row['message'])\n",
    "        \n",
    "    return prepped_data\n",
    "    \n",
    "def sentiment_text_analysis(data, sentiment_dict_path=\"tone-dict-uk.tsv\"):\n",
    "    \n",
    "    sentiment_result = {}\n",
    "    text_data = divide_and_prepare_data(data)\n",
    "    word_dict = tsv_to_dict(sentiment_dict_path)\n",
    "    for user_id in text_data:\n",
    "        \n",
    "        if not user_id in sentiment_result:\n",
    "            sentiment_result[user_id] = {\n",
    "                day_num : 0 for day_num in range(1, 8)\n",
    "            }\n",
    "        \n",
    "        for day_number in text_data[user_id]:\n",
    "            \n",
    "            score = 0\n",
    "            \n",
    "            while text_data[user_id][day_number]:\n",
    "                \n",
    "                msg = text_data[user_id][day_number].pop()\n",
    "\n",
    "                if isinstance(msg, str):\n",
    "                    tokens = msg.strip().split()\n",
    "                    for token in tokens:\n",
    "                        if token.lower() in word_dict:\n",
    "                            score += word_dict[token.lower()]\n",
    "                 \n",
    "            sentiment_result[user_id][day_number] = score\n",
    "            \n",
    "            \n",
    "    return sentiment_result\n",
    "    \n",
    "res = sentiment_text_analysis(data)\n",
    "print(res)\n",
    "def plot_sentiment_analysis_results(result_data):\n",
    "    \n",
    "    for user_id, sentiment_info in result_data.items():\n",
    "        print(sentiment_info)\n",
    "\n",
    "\n",
    "\n",
    "plot_sentiment_analysis_results(res)\n",
    "\n",
    "\n"
   ]
  },
  {
   "cell_type": "code",
   "execution_count": null,
   "metadata": {},
   "outputs": [],
   "source": []
  },
  {
   "cell_type": "code",
   "execution_count": 32,
   "metadata": {},
   "outputs": [],
   "source": [
    "# Counting messages throughout hours.\n",
    "\n",
    "for x in data.index:\n",
    "    if not plot_data.get(data['date'][x][11:13]):\n",
    "        plot_data.setdefault(data['date'][x][11:13], 1)\n",
    "    else:\n",
    "        plot_data[data['date'][x][11:13]] += 1"
   ]
  },
  {
   "cell_type": "code",
   "execution_count": null,
   "metadata": {
    "pycharm": {
     "name": "#%%\n"
    }
   },
   "outputs": [],
   "source": [
    "# Ploting data\n",
    "\n",
    "lists = sorted(plot_data.items())\n",
    "x, y = zip(*lists)\n",
    "\n",
    "\n",
    "plt.plot(x, y)\n",
    "plt.xlabel('Hours')\n",
    "plt.ylabel('Number of messages overall')\n",
    "plt.show()\n",
    "\n",
    "\n",
    "\n"
   ]
  },
  {
   "cell_type": "code",
   "execution_count": null,
   "metadata": {},
   "outputs": [],
   "source": []
  },
  {
   "cell_type": "code",
   "execution_count": null,
   "metadata": {},
   "outputs": [],
   "source": [
    "from messages_per_hours"
   ]
  },
  {
   "cell_type": "code",
   "execution_count": null,
   "metadata": {},
   "outputs": [],
   "source": []
  }
 ],
 "metadata": {
  "kernelspec": {
   "display_name": "Python 3",
   "language": "python",
   "name": "python3"
  },
  "language_info": {
   "codemirror_mode": {
    "name": "ipython",
    "version": 3
   },
   "file_extension": ".py",
   "mimetype": "text/x-python",
   "name": "python",
   "nbconvert_exporter": "python",
   "pygments_lexer": "ipython3",
   "version": "3.8.5"
  }
 },
 "nbformat": 4,
 "nbformat_minor": 4
}
