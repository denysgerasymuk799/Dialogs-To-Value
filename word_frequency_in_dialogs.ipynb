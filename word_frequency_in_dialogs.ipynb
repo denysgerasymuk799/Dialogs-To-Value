{
 "cells": [
  {
   "cell_type": "code",
   "execution_count": 7,
   "metadata": {
    "collapsed": true
   },
   "outputs": [],
   "source": [
    "import datetime\n",
    "import json\n",
    "import os\n",
    "import pandas as pd\n",
    "import logging\n",
    "\n",
    "from utils.data_transformation import prepare_dialogs, if_in_date_range"
   ]
  },
  {
   "cell_type": "code",
   "execution_count": 8,
   "outputs": [],
   "source": [
    "def calculate_df(dialog_data, date_before, date_after, user_id_get_msg, dialog_id, path_to_static):\n",
    "    \"\"\"\n",
    "\n",
    "    :param dialog_data: a pandas dataframe of dialogs\n",
    "    :param date_before: datetime type, from what time start to analyse msgs\n",
    "    :param date_after: datetime type, to what time to analyse msgs\n",
    "    :param user_id_get_msg: a user chat id, who msgs to analyse or \"all\" - for all participants of the dialog\n",
    "    :param dialog_id: str\n",
    "    :return: a sorted df - sorted dict of user_id_get_msg most used words\n",
    "    \"\"\"\n",
    "    DF = {}\n",
    "    file_text = \"\"\n",
    "\n",
    "    for row in dialog_data.index:\n",
    "        if user_id_get_msg != \"all\":\n",
    "            if dialog_data[\"from_id\"][row] != user_id_get_msg:\n",
    "                continue\n",
    "\n",
    "        if if_in_date_range(dialog_data[\"date\"][row][:-6], date_before, date_after) == 'Dialog after date_after':\n",
    "            continue\n",
    "\n",
    "        elif if_in_date_range(dialog_data[\"date\"][row][:-6], date_before, date_after):\n",
    "            if not pd.isnull(dialog_data[\"message\"][row]):\n",
    "                file_text += dialog_data[\"message\"][row] + \" \"\n",
    "                for w in dialog_data[\"message\"][row].split():\n",
    "                    try:\n",
    "                        DF[w] += 1\n",
    "                    except:\n",
    "                        DF[w] = 1\n",
    "        else:\n",
    "            break\n",
    "\n",
    "    with open(path_to_static + \"{}/1_{}.txt\".format(dialog_id, dialog_id), \"w\", encoding=\"utf-8\") as f:\n",
    "        f.write(file_text)\n",
    "\n",
    "    DF_sorted = {k: v for k, v in sorted(DF.items(), key=lambda item: item[1], reverse=True)}\n",
    "    return DF_sorted\n"
   ],
   "metadata": {
    "collapsed": false,
    "pycharm": {
     "name": "#%%\n"
    }
   }
  },
  {
   "cell_type": "code",
   "execution_count": 9,
   "outputs": [
    {
     "name": "stdout",
     "output_type": "stream",
     "text": [
      "{'мочь': 20, 'com': 19, 'делать': 15, 'video': 12, 'привет': 10, 'какой': 9, 'видео': 9, 'сообщение': 9, 'operationalerror': 8, 'давать': 7, 'добавить': 7, 'завтра': 7, 'большой': 7, 'бота': 7, 'test': 7, 'юзер': 7, 'писать': 7, 'url': 7, 'сайте': 6, 'тесть': 6, 'работать': 6, 'sandbox': 6, 'harmix': 6, 'текст': 6, 'get': 6, 'скинуть': 5, 'сайт': 5, 'пробовать': 5, 'subscription': 5, 'role': 5, 'оплата': 5, 'тестьлитр': 5, 'щас': 5, 'подписка': 5, 'ошибка': 5, 'отправлять': 5, 'опрос': 5, 'git': 5, 'heroku': 5, 'загрузка': 5, 'назар': 4, 'комент': 4, 'использовать': 4, 'менять': 4, 'sqlalchemy': 4, 'exc': 4, 'psycopg2': 4, 'fatal': 4, 'many': 4, 'connections': 4, 'vjyqekootlowoqо': 4, 'интересный': 4, 'скоро': 4, 'код': 4, 'говорить': 4, 'херока': 4, 'public': 4, 'key': 4, 'команда': 4, 'наш': 4, 'второй': 4, 'аккаунт': 4, 'upload': 4, 'бизнес': 4, 'сразу': 4, 'кстати': 4, 'твой': 4, 'телегра': 4, 'сылка': 3, 'start': 3, 'свой': 3, 'помощь': 3, 'сдесь': 3, 'нашлитр': 3, 'загрузить': 3, 'работает': 3, 'запушу': 3, 'добавитьь': 3, 'веб': 3, 'bot': 3, 'сделлитр': 3, 'знать': 3, 'таки': 3, 'сдестьлитр': 3, 'хотеть': 3, 'потестить': 3, 'google': 3, 'bar': 3, 'вначале': 3, 'download': 3, 'link': 3, 'central': 3, 'amazonaws': 3, 'stored': 3, 'hours': 3, 'service': 3, 'need': 3, 'please': 3, 'device': 3, 'powered': 3, 'напишийскиыййу': 3, 'учитывя': 3, 'телефон': 3, 'нети': 3, 'грузьт': 3, 'оформление': 3, 'колбэк': 3, 'первый': 3, 'кнопка': 3, 'смотреть': 3, 'задание': 2, 'сервер': 2, 'найти': 2, 'conda': 2, 'elitedatascience': 2, 'который': 2, 'попробайаа': 2, 'карточка': 2, 'делолитр': 2, 'норметр': 2, 'делатьь': 2, 'начинать': 2, 'подключение': 2, 'план': 2, 'скинь': 2, 'затестить': 2, 'тестить': 2, 'файл': 2, 'поменялитр': 2, 'переменный': 2, 'тестовый': 2, 'тип': 2, 'дать': 2, 'напишешо': 2, 'загружать': 2, 'кидать': 2, 'хероку': 2, 'поменять': 2, 'work': 2, 'can': 2, 'receive': 2, 'liqpay': 2, 'пофиксьлитр': 2, 'функция': 2, 'изменьлитр': 2, 'пользоваться': 2, 'телеграе': 2, 'затестоь': 2, 'согласно': 2, 'языкийв': 2, 'terms': 2, 'informate': 2, 'end': 2, 'привіт': 2, 'разный': 2, 'язык': 2, 'оплатить': 2, 'быстро': 2, 'точно': 2, 'акаунт': 2, 'материал': 2, 'страничке': 2, 'страничка': 2, 'вообще': 2, 'vocalizer': 2, 'голос': 2, 'читать': 2, 'рекомендыь': 2, 'play': 2, 'играться': 2, 'время': 2, 'окончание': 2, 'думаюить': 2, 'получитьр': 2, 'продолжить': 2, 'обработку': 2, 'тоесть': 2, 'встреча': 2, 'видеть': 2, 'видо': 2, 'magisto': 2, 'проблема': 2, 'will': 2, 'uah': 2, 'invoice': 2, 'созвониться': 2, 'лимит': 2, 'силка': 2, 'теститьь': 2, 'думать': 2, 'количество': 2, 'отправить': 2, 'decode': 2, 'скачивать': 2, 'облако': 2, 'castbox': 2, 'запрос': 2, 'проверять': 2, 'вернуть': 2, 'увеличивать': 2, 'бан': 2, 'глебо': 1, 'потихоньку': 1, 'провестиюи': 1, 'фонд': 1, 'стартапов': 1, 'перенас': 1, 'занимаешся': 1, 'отлично': 1, 'лабораторный': 1, 'анализировать': 1, 'даный': 1, 'телеграа': 1, 'мочьу': 1, 'делаеться': 1, 'ок': 1, 'доко': 1, 'происходитьь': 1, 'подадить': 1, 'док': 1, 'полтавська': 1, 'обл': 1, 'лохвиця': 1, 'поо': 1, 'космонавтіл': 1, 'будалее': 1, 'герасимук': 1, 'денис': 1, 'вікторовичас': 1, 'install': 1, 'forge': 1, 'catboost': 1, 'пофикситьь': 1, 'anaconda': 1, 'org': 1, 'machine': 1, 'learning': 1, 'курси': 1, 'towardsdatascience': 1, 'first': 1, 'courses': 1, 'mrdbourke': 1, 'useful': 1, 'blog': 1, 'github': 1, 'roadmap': 1, 'архив': 1, 'смотретьь': 1, 'мелкий': 1, 'поправка': 1, 'ексепт': 1, 'пуш': 1, 'делоюить': 1, 'отпидоошот': 1, 'чекнийметр': 1, 'проверитьлитр': 1, 'понятнытьо': 1, 'date': 1, 'счойт': 1, 'разшитоватьсьяияя': 1, 'мой': 1, 'аке': 1, 'хелпер': 1, 'buy': 1, 'хелпера': 1, 'твое': 1, 'остальной': 1, 'удатьюи': 1, 'темплейт': 1, 'создлитр': 1, 'оплатаа': 1, 'подключить': 1, 'написоошитр': 1, 'нобор': 1, 'хуууух': 1, 'теститьр': 1, 'позакрывать': 1, 'ус': 1, 'стаковера': 1, 'флоу': 1, 'никакой': 1, 'фиксилитр': 1, 'ошибкаа': 1, 'теелфона': 1, 'botfather': 1, 'сорбщение': 1, 'удалитьь': 1, 'удаляй': 1, 'сохраньлитр': 1, 'раща': 1, 'пислитр': 1, 'сохрань': 1, 'удать': 1, 'готовыйо': 1, 'приватный': 1, 'пвблик': 1, 'ключ': 1, 'вид': 1, 'файла': 1, 'запушить': 1, 'убралитр': 1, 'сообщениона': 1, 'тестил': 1, 'формат': 1, 'поддерживать': 1, 'нашего': 1, 'заблитр': 1, 'токный': 1, 'старайаа': 1, 'сильно': 1, 'окружение': 1, 'добавнтььюи': 1, 'мастерометр': 1, 'похожоее': 1, 'второе': 1, 'называються': 1, 'ключас': 1, 'параметр': 1, 'i50218840496': 1, '5fzospfli0slpyhuigxz8icrupvqibofrjjuvvix': 1, 'токий': 1, 'ликпя': 1, 'скинутьь': 1, 'потшот': 1, 'мастер': 1, 'отпишу': 1, 'вернешся': 1, 'узер': 1, 'sea': 1, 'i11184644108': 1, 'сколька': 1, 'встречаа': 1, 'настроино': 1, 'меняеться': 1, 'starsea': 1, 'хука': 1, 'написоошот': 1, 'ошибок': 1, 'чтобьы': 1, 'хук': 1, 'перекину': 1, 'найстрый': 1, 'хотелитр': 1, 'yes': 1, 'enter': 1, 'command': 1, 'mykey': 1, 'within': 1, 'minutes': 1, 'instead': 1, 'store': 1, 'i73176380277': 1, 'bind': 1, 'merchant': 1, 'identifier': 1, 'settings': 1, 'дома': 1, 'добавляюыть': 1, 'другой': 1, 'показывать': 1, 'название': 1, 'тещийу': 1, 'ньюанси': 1, 'багод': 1, 'основной': 1, 'затещи': 1, 'потестилитр': 1, 'быьт': 1, 'никнеймы': 1, 'изменитьр': 1, 'chat': 1, 'доступатьсьиь': 1, 'пообщатьсяяя': 1, 'приколитр': 1, 'символов': 1, 'help': 1, 'choose': 1, 'right': 1, 'music': 1, 'contact': 1, 'nazarponochevnyi': 1, 'website': 1, 'www': 1, 'оформлитьр': 1, 'format': 1, 'continuing': 1, 'agree': 1, 'use': 1, 'privacy': 1, 'policy': 1, 'день': 1, 'остатьь': 1, 'затестетьь': 1, 'пофиксить': 1, 'новойаа': 1, 'приходитьо': 1, 'eng': 1, 'hello': 1, 'поменяюыть': 1, 'сообщеньона': 1, 'message': 1, 'усіма': 1, 'тестове': 1, 'повідомлення': 1, 'оплатойаа': 1, 'сдатьюи': 1, 'слаться': 1, 'тебок': 1, 'уберметр': 1, 'знатьт': 1, 'возможность': 1, 'закончиться': 1, 'предложий': 1, 'сделатаь': 1, 'исправить': 1, 'написатр': 1, 'сарафанный': 1, 'радио': 1, 'пересмотреть': 1, 'исправитьтьь': 1, 'оцифровать': 1, 'запись': 1, 'минута': 1, 'увереный': 1, 'деньги': 1, 'платять': 1, 'максимально': 1, 'оплату': 1, 'тестетьь': 1, 'ликпайаа': 1, 'крутой': 1, 'идея': 1, 'любойу': 1, 'маркетингу': 1, 'научиться': 1, 'gtest': 1, 'лаба': 1, 'ага': 1, 'нормала': 1, 'снимать': 1, 'гривенх': 1, 'детствое': 1, 'проэкт': 1, 'клемат': 1, 'ардуино': 1, 'stm': 1, 'преподаватель': 1, 'начать': 1, 'курс': 1, 'выйди': 1, 'оффлайн': 1, 'неделя': 1, 'практика': 1, 'занялись': 1, 'настроиша': 1, 'live': 1, 'токенометр': 1, 'несущественныйо': 1, 'трачау': 1, 'работа': 1, 'лаб': 1, 'вуза': 1, 'настройко': 1, 'выбирать': 1, 'юрий': 1, 'ставить': 1, 'настройка': 1, 'цифра': 1, 'ставишатьь': 1, 'русский': 1, 'pocketbook': 1, 'reader': 1, 'читалка': 1, 'книга': 1, 'epub': 1, 'fb2': 1, 'pdf': 1, 'удобный': 1, 'выйдет': 1, 'интернийссийт': 1, 'точнао': 1, 'говоритьь': 1, 'пофиситьь': 1, 'зарано': 1, 'такой': 1, 'важный': 1, 'вещех': 1, 'progressive': 1, 'дизайн': 1, 'самый': 1, 'вроде': 1, 'проверятьэра': 1, 'status': 1, 'конец': 1, 'говорб': 1, 'формлетьметр': 1, 'ухаживать': 1, 'мозг': 1, 'dodo': 1, 'pizza': 1, 'engineering': 1, 'хабр': 1, 'habr': 1, 'колбккаа': 1, 'reply': 1, 'делатьр': 1, 'эом': 1, 'подумйаа': 1, 'брать': 1, 'сылкойаа': 1, 'больши': 1, 'илм': 1, 'появляеться': 1, 'вначатьона': 1, 'должен': 1, 'тест': 1, 'даватьр': 1, 'рад': 1, 'наеишей': 1, 'рекомендация': 1, 'йти': 1, 'тогл': 1, 'шикарно': 1, 'благодарный': 1, 'маркетолог': 1, 'раскручивать': 1, 'сервис': 1, 'побывать': 1, 'улышать': 1, 'уста': 1, 'работатьт': 1, 'проситьь': 1, 'понравиться': 1, 'цвет': 1, 'дизайнаа': 1, 'саиый': 1, 'страница': 1, 'ведка': 1, 'фейд': 1, 'эффект': 1, 'залипательныйо': 1, 'штука': 1, 'понравиласнутьь': 1, 'online': 1, 'editor': 1, 'smart': 1, 'maker': 1, 'справа': 1, 'кау': 1, 'думатьь': 1, 'будующе': 1, 'фич': 1, 'добавьметр': 1, 'side': 1, 'слева': 1, 'ставитьр': 1, 'глаз': 1, 'бросаться': 1, 'кажеться': 1, 'место': 1, 'бокметр': 1, 'вообщий': 1, 'круто': 1, 'провестийаа': 1, 'измениься': 1, 'пишуу': 1, 'логичныйо': 1, 'воркерох': 1, 'любой': 1, 'делаить': 1, 'думаешр': 1, 'pythonanywhere': 1, 'ламать': 1, 'никто': 1, 'над': 1, 'запуститься': 1, 'перфексионистометр': 1, 'думайаа': 1, 'получаеться': 1, 'тестироватьь': 1, 'изменить': 1, 'логично': 1, 'unfortunately': 1, 'payed': 1, 'provides': 1, 'function': 1, 'adapt': 1, 'pro': 1, 'monthly': 1, 'plan': 1, 'uploading': 1, 'files': 1, 'adding': 1, 'fade': 1, 'effects': 1, 'features': 1, 'added': 1, 'soon': 1, 'price': 1, 'month': 1, 'just': 1, 'per': 1, 'day': 1, 'выглядетьт': 1, 'телеграма': 1, 'обязательно': 1, 'парметр': 1, 'send': 1, 'missing': 1, 'required': 1, 'positional': 1, 'arguments': 1, 'title': 1, 'description': 1, 'payload': 1, 'parameter': 1, 'появитьсь': 1, 'обновь': 1, 'добавляйт': 1, 'начатьона': 1, 'загружатьь': 1, 'us02web': 1, 'zoom': 1, 'order': 1, 'затестьь': 1, 'затестишаь': 1, 'затесть': 1, 'вчера': 1, 'бот': 1, 'тебп': 1, 'поле': 1, 'рекламный': 1, 'кампания': 1, 'вариант': 1, 'предложьлитр': 1, 'давойаа': 1, 'двоих': 1, 'тедеграм': 1, 'багов': 1, 'kill': 1, 'локально': 1, 'чинитьр': 1, 'глянь': 1, 'увеличить': 1, 'расспислитр': 1, 'стараться': 1, 'починитьь': 1, 'поламать': 1, 'пофикшу': 1, 'напислитр': 1, 'пол': 1, 'снять': 1, 'тестирование': 1, 'try': 1, 'except': 1, 'подобавляюыть': 1, 'поставьлитр': 1, 'сказать': 1, 'какиона': 1, 'ялитр': 1, 'пагасть': 1, 'посмотрюыть': 1, 'особонно': 1, 'подумать': 1, 'новый': 1, 'понятно': 1, 'кнопок': 1, 'продумать': 1, 'структура': 1, 'информирование': 1, 'запутатьсяя': 1, 'опроыс': 1, 'мнение': 1, 'юзера': 1, 'avi': 1, 'разоюратьсья': 1, 'попробую': 1, 'интересно': 1, 'статьо': 1, 'ограничение': 1, 'вообщаона': 1, 'связать': 1, 'доступнха': 1, 'читлитр': 1, 'заметить': 1, 'выскакиватьт': 1, 'небольшой': 1, 'содержание': 1, 'папка': 1, 'юзеров': 1, 'присылать': 1, 'байт': 1, 'строка': 1, 'записывать': 1, 'линка': 1, 'скачивание': 1, 'конкурса': 1, 'никак': 1, 'помещлитр': 1, 'напиши': 1, 'протестировать': 1, 'полность': 1, 'течтировка': 1, 'отдатьр': 1, 'доделать': 1, 'слушать': 1, 'послушай': 1, 'открыть': 1, 'счет': 1, 'оформить': 1, 'запуск': 1, 'остаться': 1, 'соединить': 1, 'flask': 1, 'приложение': 1, 'completed': 1, 'закончить': 1, 'payment': 1, 'server': 1, 'настроить': 1, 'уведомление': 1, 'отзыв': 1, 'правило': 1, 'пользование': 1, 'протестить': 1, 'вместе': 1, 'нужный': 1, 'пункта': 1, 'назариусяй': 1, 'спомнить': 1, 'синоним': 1, 'имя': 1, 'странах': 1, 'наплутать': 1, 'маленькойаа': 1, 'true': 1, 'буква': 1, 'spaces': 1, 'разобраться': 1, 'серверона': 1, 'yаes': 1, 'course': 1, 'запустимся': 1, 'писалитр': 1, 'изначально': 1, 'вебхук': 1, 'отправка': 1, 'http': 1, 'телегрметр': 1, 'тойсть': 1, 'оптимизировать': 1, 'вебхука': 1, 'переписать': 1, 'ловить': 1, 'ошибкау': 1, 'поскольку': 1, 'аудиторий': 1, 'выводалее': 1, 'узнать': 1, 'бог': 1, 'количесвто': 1, 'секундау': 1, 'hangouts': 1, 'messagequeue': 1, 'необходимый': 1, 'контроль': 1, 'доставка': 1, 'каждый': 1, 'проверитьр': 1, 'мешать': 1, 'наличие': 1, 'получить': 1, 'повторитьр': 1, 'остановиться': 1, 'превышение': 1, 'бана': 1, 'документация': 1, 'антона': 1, 'респонс': 1, 'помжный': 1, 'клачас': 1, 'делаеметр': 1}\n"
     ]
    }
   ],
   "source": [
    "logging.basicConfig(filename='logs/project_logs.log', level=0)\n",
    "logging.info(\"starting logs for tf_idf_dialogs\")\n",
    "\n",
    "# 0) in console input: import nltk; nltk.download()\n",
    "#\n",
    "# Install (or update) NLP-Cube with:\n",
    "# pip3 install -U nlpcube\n",
    "#\n",
    "# use telegram-data-collection/0_download_dialogs_list.py and 1_download_dialogs_data.py\n",
    "# to get some files to analyse\n",
    "# files SHOULD be in data/dialogs and data/dialogs_meta\n",
    "\n",
    "# 1) change a dialog_id, which you want to investigate\n",
    "dialog_id = \"347963763\"\n",
    "\n",
    "# 2) change user_id_get_msg\n",
    "# int type - user chat id, who massages you want to analyse,\n",
    "# you can find it in <dialog_id>.csv\n",
    "# str type \"all\" if you want to analyse msgs of all users of the dialog\n",
    "user_id_get_msg = 511986933\n",
    "dialog_path = \"data/dialogs/\"\n",
    "prep_path = 'data/prepared_dialogs/'\n",
    "path_to_static = \"data/tmp_static/\"\n",
    "\n",
    "# 3) change to date range in what you want to analyse messages of user_id_get_msg - from date_before to date_after;\n",
    "# format \"%Y-%m-%d %H:%M:%S\"\n",
    "date_before = datetime.datetime(2020, 7, 9, 0, 0, 0)\n",
    "date_after = datetime.datetime(2020, 8, 10, 0, 0, 0)\n",
    "\n",
    "if not os.path.exists(path_to_static + dialog_id):\n",
    "    os.mkdir(path_to_static + dialog_id)\n",
    "\n",
    "# 4) change \"ua\" to a language of your dialog (\"ua\", \"ru\" or \"en\")\n",
    "# if you write \"ua\" or \"ru\" - dialog will be cleaned from stop_words_ua + stop_words_ru + stop_words_en\n",
    "# so do not bother about these languages if you can not write an exactly language of the dialog\n",
    "# prepare_dialogs(dialog_id, dialog_path, prep_path, date_before,\n",
    "#                 date_after, \"ru\", \"words_frequency\")\n",
    "\n",
    "dialog_data = pd.read_csv(prep_path + dialog_id + \".csv\")\n",
    "\n",
    "DF_sorted = calculate_df(dialog_data, date_before, date_after, user_id_get_msg, dialog_id, path_to_static)\n",
    "\n",
    "with open(path_to_static + \"{}/words_frequency1_{}.json\".format(dialog_id, dialog_id), \"w\", encoding=\"utf-8\") as f:\n",
    "    json.dump(DF_sorted, f, indent=4, ensure_ascii=False)\n",
    "\n",
    "# 4) after work of this module look at results in static/<dialog_id> dir\n",
    "# use command under to make a wordcloud, to understand its parameters use - wordcloud_cli --help\n",
    "# wordcloud_cli --text static/<dialog_id>/1_<dialog_id>.txt --mask static/logo_telegram.jpg --imagefile static/my_words_nazar2.png\n",
    "print(DF_sorted)"
   ],
   "metadata": {
    "collapsed": false,
    "pycharm": {
     "name": "#%%\n"
    }
   }
  },
  {
   "cell_type": "code",
   "execution_count": null,
   "outputs": [],
   "source": [],
   "metadata": {
    "collapsed": false,
    "pycharm": {
     "name": "#%%\n"
    }
   }
  }
 ],
 "metadata": {
  "kernelspec": {
   "display_name": "Python 3",
   "language": "python",
   "name": "python3"
  },
  "language_info": {
   "codemirror_mode": {
    "name": "ipython",
    "version": 2
   },
   "file_extension": ".py",
   "mimetype": "text/x-python",
   "name": "python",
   "nbconvert_exporter": "python",
   "pygments_lexer": "ipython2",
   "version": "2.7.6"
  }
 },
 "nbformat": 4,
 "nbformat_minor": 0
}