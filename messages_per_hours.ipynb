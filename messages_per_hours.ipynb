{
 "cells": [
  {
   "cell_type": "code",
   "execution_count": null,
   "metadata": {},
   "outputs": [],
   "source": [
    "from utils.text_data_transformation import prepare_messages\n",
    "from utils.dialog_manipulation import add_subdialogs_ids, add_reply_time\n",
    "import ipywidgets as widgets\n",
    "import altair as alt\n",
    "import pandas as pd\n",
    "import json\n",
    "import copy\n",
    "import glob\n",
    "import math\n",
    "import re\n",
    "import os"
   ]
  },
  {
   "cell_type": "code",
   "execution_count": null,
   "metadata": {},
   "outputs": [],
   "source": [
    "pd.set_option('display.max_rows', None)"
   ]
  },
  {
   "cell_type": "code",
   "execution_count": null,
   "metadata": {},
   "outputs": [],
   "source": [
    "DIALOGS_FOLDER = \"data/dialogs/\"\n",
    "RESULT_FOLDER = \"result/\"\n",
    "PREPARED_FOLDER = 'data/prepared_dialogs/'"
   ]
  },
  {
   "cell_type": "code",
   "execution_count": null,
   "metadata": {},
   "outputs": [],
   "source": [
    "def preparing_dialogs(dialog_path: str, dialog_id: str, prep_path: str) -> None:\n",
    "    \"\"\"\n",
    "    Reads raw csv data and creates prepared copy\n",
    "    \"\"\"\n",
    "\n",
    "    data = pd.read_csv(f'{dialog_path}{dialog_id}.csv')\n",
    "    prepare_messages(data)\n",
    "    add_reply_time(data)\n",
    "    add_subdialogs_ids(data)\n",
    "    data.to_csv(f'{prep_path}{dialog_id}.csv')\n",
    "    \n",
    "\n",
    "    \n",
    "if os.path.isdir(DIALOGS_FOLDER):\n",
    "    if not os.path.isdir(PREPARED_FOLDER):\n",
    "        os.mkdir(PREPARED_FOLDER)\n",
    "        \n",
    "    if not os.path.isdir(RESULT_FOLDER):\n",
    "        os.mkdir(RESULT_FOLDER)\n",
    "    \n",
    "    for dialog in glob.glob(DIALOGS_FOLDER+'/*.csv'):\n",
    "        preparing_dialogs(DIALOGS_FOLDER, re.findall(r'\\d\\d+', dialog)[0], PREPARED_FOLDER)"
   ]
  },
  {
   "cell_type": "code",
   "execution_count": null,
   "metadata": {
    "pycharm": {
     "name": "#%%\n"
    }
   },
   "outputs": [],
   "source": [
    "# Initialization\n",
    "\n",
    "# Your dialogs must be under data/prepared_dialogs/\n",
    "dialogs = glob.glob(PREPARED_FOLDER+'/*.csv')\n",
    "\n",
    "basic_info = {}\n",
    "\n",
    "user = {\n",
    "    'msg_count': 1,\n",
    "    'msg_len': 0,\n",
    "    'total_word_num': 0,\n",
    "    'reply_avg_time': [],\n",
    "    'msg_per_hour': {x: 0 for x in range(24)},\n",
    "    'reply_per_hour': {x: [] for x in range(24)},\n",
    "    'reply_time_word_length': {}\n",
    "}"
   ]
  },
  {
   "cell_type": "code",
   "execution_count": null,
   "metadata": {},
   "outputs": [],
   "source": [
    "# Extracting basic information from all dialogs\n",
    "\n",
    "for dialog_csv_path in dialogs:\n",
    "    data = pd.read_csv(dialog_csv_path)\n",
    "    dialog = re.findall(r'\\d\\d+', dialog_csv_path)[0]\n",
    "\n",
    "    if not basic_info.get(dialog):\n",
    "        basic_info.setdefault(dialog, {})\n",
    "\n",
    "    # Gathering data for each user\n",
    "    for i in data.index:\n",
    "        sender = str(data['from_id'][i])\n",
    "        msg_length = len(str(data['message'][i]))\n",
    "\n",
    "        if not basic_info[dialog].get(sender):\n",
    "            basic_info[dialog].setdefault(sender, copy.deepcopy(user))\n",
    "\n",
    "        basic_info[dialog][sender]['msg_count'] += 1\n",
    "        basic_info[dialog][sender]['msg_len'] += msg_length\n",
    "        basic_info[dialog][sender]['msg_per_hour'][int(data['date'][i][11:13])] += 1\n",
    "        basic_info[dialog][sender]['total_word_num'] += len(str(data['message'][i]).split())\n",
    "\n",
    "        if reply_time := data['reply_time'][i]:\n",
    "            basic_info[dialog][sender]['reply_avg_time'].append(reply_time)\n",
    "            basic_info[dialog][sender]['reply_per_hour'][int(data['date'][i][11:13])].append(reply_time)\n",
    "\n",
    "        reply_time = int(data['reply_time'][i])\n",
    "        reply_frequency = basic_info[dialog][sender]['reply_time_word_length']\n",
    "        if not reply_frequency.get(reply_time):\n",
    "            reply_frequency.setdefault(reply_time, [msg_length])\n",
    "        else:\n",
    "            reply_frequency[reply_time].append(msg_length)\n",
    "\n",
    "    # Calculate average values\n",
    "    for sender, value in basic_info[dialog].items():\n",
    "        basic_info[dialog][sender]['msg_len'] /= data['id'].count()\n",
    "        reply_time = basic_info[dialog][sender]['reply_avg_time']\n",
    "        basic_info[dialog][sender]['reply_avg_time'] = sum(reply_time) / len(reply_time)\n",
    "\n",
    "        # Calculating avg reply_time per hour\n",
    "        reply_per_hour = basic_info[dialog][sender]['reply_per_hour']\n",
    "        for k, v in reply_per_hour.items():\n",
    "            if reply_time := reply_per_hour[k]:\n",
    "                reply_per_hour[k] = sum(reply_time) / len(reply_time)\n",
    "            else:\n",
    "                reply_per_hour[k] = -1\n",
    "\n",
    "        # Calculating avg msg length per reply_time\n",
    "        reply_time_word_length = basic_info[dialog][sender]['reply_time_word_length']\n",
    "        for k, v in reply_time_word_length.items():\n",
    "            reply_time_word_length[k] = sum(v) / len(v)"
   ]
  },
  {
   "cell_type": "code",
   "execution_count": null,
   "metadata": {},
   "outputs": [],
   "source": [
    "# Dumping gathered data to data/basic_info.json\n",
    "\n",
    "with open(f'{RESULT_FOLDER}dialogs_statistics.json', 'w', encoding='utf-8') as f:\n",
    "    json.dump(basic_info, f, ensure_ascii=False, indent=4)"
   ]
  },
  {
   "cell_type": "code",
   "execution_count": null,
   "metadata": {},
   "outputs": [],
   "source": [
    "# Selecting dialog id to plot data\n",
    "\n",
    "dialogs = list(basic_info.keys())\n",
    "dialog_id = widgets.Dropdown(\n",
    "    options=dialogs,\n",
    "    value=dialogs[0],\n",
    "    description='Dialog:',\n",
    "    disabled=False,\n",
    ")\n",
    "display(dialog_id)\n"
   ]
  },
  {
   "cell_type": "code",
   "execution_count": null,
   "metadata": {
    "pycharm": {
     "name": "#%%\n"
    }
   },
   "outputs": [],
   "source": [
    "# Selecting user id to plot data\n",
    "\n",
    "users = list(basic_info[dialog_id.value].keys())\n",
    "user_id = widgets.Dropdown(\n",
    "    options=users,\n",
    "    value=users[0],\n",
    "    description='User:',\n",
    "    disabled=False,\n",
    ")\n",
    "display(user_id)\n"
   ]
  },
  {
   "cell_type": "code",
   "execution_count": null,
   "metadata": {},
   "outputs": [],
   "source": [
    "# Reply time on y-axis, daytime hours on x-axis, radius of circles corespondes to the message number\n",
    "# at that hour.\n",
    "\n",
    "plotting_data = pd.DataFrame({'Hour': range(24),\n",
    "                              'ReplyTime': list(basic_info[dialog_id.value][user_id.value]['reply_per_hour'].values()),\n",
    "                              'MessageNumber': list(basic_info[dialog_id.value][user_id.value]['msg_per_hour'].values())}).sort_values(by='Hour')\n",
    "\n",
    "alt.Chart(plotting_data).mark_circle(size=60).encode(\n",
    "    x='Hour',\n",
    "    y='ReplyTime',\n",
    "    size='MessageNumber:Q',\n",
    "    tooltip=['Hour', 'ReplyTime', 'MessageNumber']\n",
    ").properties(\n",
    "    width=800,\n",
    "    height=300\n",
    ")"
   ]
  },
  {
   "cell_type": "code",
   "execution_count": null,
   "metadata": {
    "pycharm": {
     "name": "#%%\n"
    }
   },
   "outputs": [],
   "source": [
    "# Plot: Reply time sec on x-axis, radius of mark_circle avg message length\n",
    "\n",
    "# Create DataFrame for plotting\n",
    "reply_time_word_length = basic_info[dialog_id.value][user_id.value]['reply_time_word_length']\n",
    "plotting_data = pd.DataFrame({'ReplyTime': list(reply_time_word_length.keys()),\n",
    "                              'MessageLength': list(reply_time_word_length.values())}).sort_values(by='ReplyTime')\n",
    "\n",
    "alt.Chart(plotting_data).mark_circle().encode(\n",
    "    alt.X('ReplyTime:Q',),\n",
    "    size='MessageLength:Q'\n",
    ").properties(\n",
    "    width=800,\n",
    "    height=300\n",
    ")\n"
   ]
  }
 ],
 "metadata": {
  "kernelspec": {
   "display_name": "PyCharm (telegram-dialogs-analysis)",
   "language": "python",
   "name": "pycharm-ee032017"
  },
  "language_info": {
   "codemirror_mode": {
    "name": "ipython",
    "version": 3
   },
   "file_extension": ".py",
   "mimetype": "text/x-python",
   "name": "python",
   "nbconvert_exporter": "python",
   "pygments_lexer": "ipython3",
   "version": "3.8.5"
  }
 },
 "nbformat": 4,
 "nbformat_minor": 4
}
