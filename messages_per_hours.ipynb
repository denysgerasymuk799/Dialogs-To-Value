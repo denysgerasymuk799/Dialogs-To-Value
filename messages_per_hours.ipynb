{
 "cells": [
  {
   "cell_type": "code",
   "execution_count": 1,
   "metadata": {},
   "outputs": [],
   "source": [
    "import pandas as pd\n",
    "import matplotlib.pylab as plt"
   ]
  },
  {
   "cell_type": "code",
   "execution_count": 4,
   "metadata": {},
   "outputs": [],
   "source": [
    "# !ls data/dialogs"
   ]
  },
  {
   "cell_type": "code",
   "execution_count": 5,
   "metadata": {},
   "outputs": [
    {
     "name": "stdout",
     "output_type": "stream",
     "text": [
      "Enter dialog id: -1001004393721\n"
     ]
    }
   ],
   "source": [
    "# Path to dialog's csv\n",
    "\n",
    "csv_path = f\"data/dialogs/{input('Enter dialog id: ')}.csv\""
   ]
  },
  {
   "cell_type": "code",
   "execution_count": 6,
   "metadata": {},
   "outputs": [],
   "source": [
    "plot_data = {}"
   ]
  },
  {
   "cell_type": "code",
   "execution_count": 7,
   "metadata": {},
   "outputs": [
    {
     "data": {
      "text/html": [
       "<div>\n",
       "<style scoped>\n",
       "    .dataframe tbody tr th:only-of-type {\n",
       "        vertical-align: middle;\n",
       "    }\n",
       "\n",
       "    .dataframe tbody tr th {\n",
       "        vertical-align: top;\n",
       "    }\n",
       "\n",
       "    .dataframe thead th {\n",
       "        text-align: right;\n",
       "    }\n",
       "</style>\n",
       "<table border=\"1\" class=\"dataframe\">\n",
       "  <thead>\n",
       "    <tr style=\"text-align: right;\">\n",
       "      <th></th>\n",
       "      <th>Unnamed: 0</th>\n",
       "      <th>id</th>\n",
       "      <th>date</th>\n",
       "      <th>from_id</th>\n",
       "      <th>to_id</th>\n",
       "      <th>fwd_from</th>\n",
       "      <th>message</th>\n",
       "    </tr>\n",
       "  </thead>\n",
       "  <tbody>\n",
       "    <tr>\n",
       "      <th>0</th>\n",
       "      <td>0</td>\n",
       "      <td>3197</td>\n",
       "      <td>2020-08-14 07:42:21+00:00</td>\n",
       "      <td>NaN</td>\n",
       "      <td>PeerChannel(channel_id=1004393721)</td>\n",
       "      <td>NaN</td>\n",
       "      <td>Ссылка на анкету заявок докладов на онлайн-Мат...</td>\n",
       "    </tr>\n",
       "    <tr>\n",
       "      <th>1</th>\n",
       "      <td>1</td>\n",
       "      <td>3196</td>\n",
       "      <td>2020-08-13 08:25:28+00:00</td>\n",
       "      <td>NaN</td>\n",
       "      <td>PeerChannel(channel_id=1004393721)</td>\n",
       "      <td>NaN</td>\n",
       "      <td>NaN</td>\n",
       "    </tr>\n",
       "    <tr>\n",
       "      <th>2</th>\n",
       "      <td>2</td>\n",
       "      <td>3195</td>\n",
       "      <td>2020-08-11 08:41:28+00:00</td>\n",
       "      <td>NaN</td>\n",
       "      <td>PeerChannel(channel_id=1004393721)</td>\n",
       "      <td>NaN</td>\n",
       "      <td>Сегодня и завтра вечером пройдёт хороший интен...</td>\n",
       "    </tr>\n",
       "    <tr>\n",
       "      <th>3</th>\n",
       "      <td>3</td>\n",
       "      <td>3194</td>\n",
       "      <td>2020-08-11 08:15:22+00:00</td>\n",
       "      <td>NaN</td>\n",
       "      <td>PeerChannel(channel_id=1004393721)</td>\n",
       "      <td>NaN</td>\n",
       "      <td>Говорят, в Казань приехало китайское такси Did...</td>\n",
       "    </tr>\n",
       "    <tr>\n",
       "      <th>4</th>\n",
       "      <td>4</td>\n",
       "      <td>3193</td>\n",
       "      <td>2020-08-11 08:09:49+00:00</td>\n",
       "      <td>NaN</td>\n",
       "      <td>PeerChannel(channel_id=1004393721)</td>\n",
       "      <td>MessageFwdHeader(date=datetime.datetime(2020, ...</td>\n",
       "      <td>Правда, по объему активной аудитории Тиктоку е...</td>\n",
       "    </tr>\n",
       "    <tr>\n",
       "      <th>...</th>\n",
       "      <td>...</td>\n",
       "      <td>...</td>\n",
       "      <td>...</td>\n",
       "      <td>...</td>\n",
       "      <td>...</td>\n",
       "      <td>...</td>\n",
       "      <td>...</td>\n",
       "    </tr>\n",
       "    <tr>\n",
       "      <th>995</th>\n",
       "      <td>995</td>\n",
       "      <td>1786</td>\n",
       "      <td>2018-01-05 22:45:12+00:00</td>\n",
       "      <td>NaN</td>\n",
       "      <td>PeerChannel(channel_id=1004393721)</td>\n",
       "      <td>NaN</td>\n",
       "      <td>На просторах Рунета нашел карту, на которой в ...</td>\n",
       "    </tr>\n",
       "    <tr>\n",
       "      <th>996</th>\n",
       "      <td>996</td>\n",
       "      <td>1783</td>\n",
       "      <td>2017-12-27 19:47:48+00:00</td>\n",
       "      <td>NaN</td>\n",
       "      <td>PeerChannel(channel_id=1004393721)</td>\n",
       "      <td>NaN</td>\n",
       "      <td>В преддверии 2018-го предполагаемые расходы на...</td>\n",
       "    </tr>\n",
       "    <tr>\n",
       "      <th>997</th>\n",
       "      <td>997</td>\n",
       "      <td>1782</td>\n",
       "      <td>2017-12-26 19:30:48+00:00</td>\n",
       "      <td>NaN</td>\n",
       "      <td>PeerChannel(channel_id=1004393721)</td>\n",
       "      <td>NaN</td>\n",
       "      <td>Про E-mail маркетинг. В работе с e-mail-канало...</td>\n",
       "    </tr>\n",
       "    <tr>\n",
       "      <th>998</th>\n",
       "      <td>998</td>\n",
       "      <td>1780</td>\n",
       "      <td>2017-12-26 19:01:43+00:00</td>\n",
       "      <td>NaN</td>\n",
       "      <td>PeerChannel(channel_id=1004393721)</td>\n",
       "      <td>NaN</td>\n",
       "      <td>Основные факты об Instagram, Stories, а также ...</td>\n",
       "    </tr>\n",
       "    <tr>\n",
       "      <th>999</th>\n",
       "      <td>999</td>\n",
       "      <td>1778</td>\n",
       "      <td>2017-12-22 19:35:48+00:00</td>\n",
       "      <td>NaN</td>\n",
       "      <td>PeerChannel(channel_id=1004393721)</td>\n",
       "      <td>NaN</td>\n",
       "      <td>Если вам нужно скрыть падение количества/темпо...</td>\n",
       "    </tr>\n",
       "  </tbody>\n",
       "</table>\n",
       "<p>1000 rows × 7 columns</p>\n",
       "</div>"
      ],
      "text/plain": [
       "     Unnamed: 0    id                       date  from_id  \\\n",
       "0             0  3197  2020-08-14 07:42:21+00:00      NaN   \n",
       "1             1  3196  2020-08-13 08:25:28+00:00      NaN   \n",
       "2             2  3195  2020-08-11 08:41:28+00:00      NaN   \n",
       "3             3  3194  2020-08-11 08:15:22+00:00      NaN   \n",
       "4             4  3193  2020-08-11 08:09:49+00:00      NaN   \n",
       "..          ...   ...                        ...      ...   \n",
       "995         995  1786  2018-01-05 22:45:12+00:00      NaN   \n",
       "996         996  1783  2017-12-27 19:47:48+00:00      NaN   \n",
       "997         997  1782  2017-12-26 19:30:48+00:00      NaN   \n",
       "998         998  1780  2017-12-26 19:01:43+00:00      NaN   \n",
       "999         999  1778  2017-12-22 19:35:48+00:00      NaN   \n",
       "\n",
       "                                  to_id  \\\n",
       "0    PeerChannel(channel_id=1004393721)   \n",
       "1    PeerChannel(channel_id=1004393721)   \n",
       "2    PeerChannel(channel_id=1004393721)   \n",
       "3    PeerChannel(channel_id=1004393721)   \n",
       "4    PeerChannel(channel_id=1004393721)   \n",
       "..                                  ...   \n",
       "995  PeerChannel(channel_id=1004393721)   \n",
       "996  PeerChannel(channel_id=1004393721)   \n",
       "997  PeerChannel(channel_id=1004393721)   \n",
       "998  PeerChannel(channel_id=1004393721)   \n",
       "999  PeerChannel(channel_id=1004393721)   \n",
       "\n",
       "                                              fwd_from  \\\n",
       "0                                                  NaN   \n",
       "1                                                  NaN   \n",
       "2                                                  NaN   \n",
       "3                                                  NaN   \n",
       "4    MessageFwdHeader(date=datetime.datetime(2020, ...   \n",
       "..                                                 ...   \n",
       "995                                                NaN   \n",
       "996                                                NaN   \n",
       "997                                                NaN   \n",
       "998                                                NaN   \n",
       "999                                                NaN   \n",
       "\n",
       "                                               message  \n",
       "0    Ссылка на анкету заявок докладов на онлайн-Мат...  \n",
       "1                                                  NaN  \n",
       "2    Сегодня и завтра вечером пройдёт хороший интен...  \n",
       "3    Говорят, в Казань приехало китайское такси Did...  \n",
       "4    Правда, по объему активной аудитории Тиктоку е...  \n",
       "..                                                 ...  \n",
       "995  На просторах Рунета нашел карту, на которой в ...  \n",
       "996  В преддверии 2018-го предполагаемые расходы на...  \n",
       "997  Про E-mail маркетинг. В работе с e-mail-канало...  \n",
       "998  Основные факты об Instagram, Stories, а также ...  \n",
       "999  Если вам нужно скрыть падение количества/темпо...  \n",
       "\n",
       "[1000 rows x 7 columns]"
      ]
     },
     "execution_count": 7,
     "metadata": {},
     "output_type": "execute_result"
    }
   ],
   "source": [
    "# Loading csv to pandas DataFrame\n",
    "\n",
    "data = pd.read_csv(csv_path)\n",
    "data"
   ]
  },
  {
   "cell_type": "code",
   "execution_count": 8,
   "metadata": {},
   "outputs": [],
   "source": [
    "# Counting messages throughout hours.\n",
    "\n",
    "for x in data.index:\n",
    "    if not plot_data.get(data['date'][x][11:13]):\n",
    "        plot_data.setdefault(data['date'][x][11:13], 1)\n",
    "    else:\n",
    "        plot_data[data['date'][x][11:13]] += 1"
   ]
  },
  {
   "cell_type": "code",
   "execution_count": 9,
   "metadata": {
    "pycharm": {
     "name": "#%%\n"
    }
   },
   "outputs": [
    {
     "data": {
      "image/png": "[encoded data removed]",
      "text/plain": [
       "<Figure size 432x288 with 1 Axes>"
      ]
     },
     "metadata": {
      "needs_background": "light"
     },
     "output_type": "display_data"
    }
   ],
   "source": [
    "# Ploting data\n",
    "\n",
    "lists = sorted(plot_data.items())\n",
    "x, y = zip(*lists)\n",
    "\n",
    "\n",
    "plt.plot(x, y)\n",
    "plt.xlabel('Hours')\n",
    "plt.ylabel('Number of messages overall')\n",
    "plt.show()\n",
    "\n",
    "\n",
    "\n"
   ]
  },
  {
   "cell_type": "code",
   "execution_count": null,
   "metadata": {},
   "outputs": [],
   "source": [
    "# TODO: add same plot for all dialogs\n",
    "# add titels to the plots"
   ]
  }
 ],
 "metadata": {
  "kernelspec": {
   "display_name": "Python 3",
   "language": "python",
   "name": "python3"
  },
  "language_info": {
   "codemirror_mode": {
    "name": "ipython",
    "version": 3
   },
   "file_extension": ".py",
   "mimetype": "text/x-python",
   "name": "python",
   "nbconvert_exporter": "python",
   "pygments_lexer": "ipython3",
   "version": "3.8.5"
  }
 },
 "nbformat": 4,
 "nbformat_minor": 4
}
