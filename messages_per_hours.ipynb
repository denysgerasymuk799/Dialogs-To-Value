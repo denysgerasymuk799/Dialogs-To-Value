{
 "cells": [
  {
   "cell_type": "code",
   "execution_count": 3,
   "metadata": {},
   "outputs": [],
   "source": [
    "import ipywidgets as widgets\n",
    "import altair as alt\n",
    "import pandas as pd\n",
    "import json\n",
    "import copy\n",
    "import glob\n",
    "import math\n",
    "import re"
   ]
  },
  {
   "cell_type": "code",
   "execution_count": 4,
   "metadata": {},
   "outputs": [],
   "source": [
    "pd.set_option('display.max_rows', None)"
   ]
  },
  {
   "cell_type": "code",
   "execution_count": 5,
   "metadata": {},
   "outputs": [
    {
     "name": "stdout",
     "output_type": "stream",
     "text": [
      "\u001b[01;34m.\u001b[00m\r\n",
      "├── 0_make_initial_preparation.py\r\n",
      "├── README.md\r\n",
      "├── \u001b[01;34mdata\u001b[00m\r\n",
      "│   ├── \u001b[01;34mdialogs\u001b[00m [417 entries exceeds filelimit, not opening dir]\r\n",
      "│   └── \u001b[01;34mdialogs_list\u001b[00m [417 entries exceeds filelimit, not opening dir]\r\n",
      "├── messages_per_hours.ipynb\r\n",
      "├── requirements.txt\r\n",
      "├── \u001b[01;34mtelegram-data-collection\u001b[00m\r\n",
      "│   ├── 0_download_dialogs_list.py\r\n",
      "│   ├── 1_download_dialogs_data.py\r\n",
      "│   ├── README.md\r\n",
      "│   ├── \u001b[01;34mconfig\u001b[00m\r\n",
      "│   │   ├── config.json\r\n",
      "│   │   └── config_example.json\r\n",
      "│   ├── requirements.txt\r\n",
      "│   ├── tmp.session\r\n",
      "│   └── \u001b[01;34mutils\u001b[00m\r\n",
      "│       ├── \u001b[01;34m__pycache__\u001b[00m\r\n",
      "│       │   └── utils.cpython-37.pyc\r\n",
      "│       └── utils.py\r\n",
      "└── \u001b[01;34mutils\u001b[00m\r\n",
      "    └── data_transformation.py\r\n",
      "\r\n",
      "8 directories, 14 files\r\n"
     ]
    }
   ],
   "source": [
    "# just to show files structure, we should keep it same\n",
    "\n",
    "! tree . --filelimit 10"
   ]
  },
  {
   "cell_type": "markdown",
   "metadata": {},
   "source": [
    "## REVIEW:\n",
    "### 1. pls move data preparetion with related comments in this file\n",
    "### 2. save all results (example: basic_info.json) in the related \"result\" subfolders\n",
    "### 3. basic_info.json should be renamed to the \"dialogs_statistics.json\". this name should be variable\n",
    "### 4. move all global/config variables in the section below"
   ]
  },
  {
   "cell_type": "code",
   "execution_count": 6,
   "metadata": {},
   "outputs": [],
   "source": [
    "DIALOGS_FOLDER = \"data/dialogs\"\n",
    "RESULT_FOLDER = \"result\""
   ]
  },
  {
   "cell_type": "code",
   "execution_count": 7,
   "metadata": {},
   "outputs": [],
   "source": [
    "# Initialization\n",
    "\n",
    "# Your dialogs must be under data/prepared_dialogs/\n",
    "dialogs = glob.glob(DIALOGS_FOLDER+'/*.csv')\n",
    "\n",
    "basic_info = {}\n",
    "\n",
    "user = {\n",
    "    'msg_count': 1,\n",
    "    'msg_len': 0,\n",
    "    'total_word_num': 0,\n",
    "    'reply_avg_time': [],\n",
    "    'msg_per_hour': {x: 0 for x in range(24)},\n",
    "    'reply_per_hour': {x: [] for x in range(24)},\n",
    "    'reply_time_word_length': {}\n",
    "}"
   ]
  },
  {
   "cell_type": "code",
   "execution_count": 8,
   "metadata": {},
   "outputs": [
    {
     "ename": "KeyError",
     "evalue": "'reply_time'",
     "output_type": "error",
     "traceback": [
      "\u001b[0;31m---------------------------------------------------------------------------\u001b[0m",
      "\u001b[0;31mKeyError\u001b[0m                                  Traceback (most recent call last)",
      "\u001b[0;32m~/testenv/lib/python3.8/site-packages/pandas/core/indexes/base.py\u001b[0m in \u001b[0;36mget_loc\u001b[0;34m(self, key, method, tolerance)\u001b[0m\n\u001b[1;32m   2888\u001b[0m             \u001b[0;32mtry\u001b[0m\u001b[0;34m:\u001b[0m\u001b[0;34m\u001b[0m\u001b[0;34m\u001b[0m\u001b[0m\n\u001b[0;32m-> 2889\u001b[0;31m                 \u001b[0;32mreturn\u001b[0m \u001b[0mself\u001b[0m\u001b[0;34m.\u001b[0m\u001b[0m_engine\u001b[0m\u001b[0;34m.\u001b[0m\u001b[0mget_loc\u001b[0m\u001b[0;34m(\u001b[0m\u001b[0mcasted_key\u001b[0m\u001b[0;34m)\u001b[0m\u001b[0;34m\u001b[0m\u001b[0;34m\u001b[0m\u001b[0m\n\u001b[0m\u001b[1;32m   2890\u001b[0m             \u001b[0;32mexcept\u001b[0m \u001b[0mKeyError\u001b[0m \u001b[0;32mas\u001b[0m \u001b[0merr\u001b[0m\u001b[0;34m:\u001b[0m\u001b[0;34m\u001b[0m\u001b[0;34m\u001b[0m\u001b[0m\n",
      "\u001b[0;32mpandas/_libs/index.pyx\u001b[0m in \u001b[0;36mpandas._libs.index.IndexEngine.get_loc\u001b[0;34m()\u001b[0m\n",
      "\u001b[0;32mpandas/_libs/index.pyx\u001b[0m in \u001b[0;36mpandas._libs.index.IndexEngine.get_loc\u001b[0;34m()\u001b[0m\n",
      "\u001b[0;32mpandas/_libs/hashtable_class_helper.pxi\u001b[0m in \u001b[0;36mpandas._libs.hashtable.PyObjectHashTable.get_item\u001b[0;34m()\u001b[0m\n",
      "\u001b[0;32mpandas/_libs/hashtable_class_helper.pxi\u001b[0m in \u001b[0;36mpandas._libs.hashtable.PyObjectHashTable.get_item\u001b[0;34m()\u001b[0m\n",
      "\u001b[0;31mKeyError\u001b[0m: 'reply_time'",
      "\nThe above exception was the direct cause of the following exception:\n",
      "\u001b[0;31mKeyError\u001b[0m                                  Traceback (most recent call last)",
      "\u001b[0;32m<ipython-input-8-ac3112ce8099>\u001b[0m in \u001b[0;36m<module>\u001b[0;34m\u001b[0m\n\u001b[1;32m     21\u001b[0m         \u001b[0mbasic_info\u001b[0m\u001b[0;34m[\u001b[0m\u001b[0mdialog\u001b[0m\u001b[0;34m]\u001b[0m\u001b[0;34m[\u001b[0m\u001b[0msender\u001b[0m\u001b[0;34m]\u001b[0m\u001b[0;34m[\u001b[0m\u001b[0;34m'total_word_num'\u001b[0m\u001b[0;34m]\u001b[0m \u001b[0;34m+=\u001b[0m \u001b[0mlen\u001b[0m\u001b[0;34m(\u001b[0m\u001b[0mstr\u001b[0m\u001b[0;34m(\u001b[0m\u001b[0mdata\u001b[0m\u001b[0;34m[\u001b[0m\u001b[0;34m'message'\u001b[0m\u001b[0;34m]\u001b[0m\u001b[0;34m[\u001b[0m\u001b[0mi\u001b[0m\u001b[0;34m]\u001b[0m\u001b[0;34m)\u001b[0m\u001b[0;34m.\u001b[0m\u001b[0msplit\u001b[0m\u001b[0;34m(\u001b[0m\u001b[0;34m)\u001b[0m\u001b[0;34m)\u001b[0m\u001b[0;34m\u001b[0m\u001b[0;34m\u001b[0m\u001b[0m\n\u001b[1;32m     22\u001b[0m \u001b[0;34m\u001b[0m\u001b[0m\n\u001b[0;32m---> 23\u001b[0;31m         \u001b[0;32mif\u001b[0m \u001b[0mreply_time\u001b[0m \u001b[0;34m:=\u001b[0m \u001b[0mdata\u001b[0m\u001b[0;34m[\u001b[0m\u001b[0;34m'reply_time'\u001b[0m\u001b[0;34m]\u001b[0m\u001b[0;34m[\u001b[0m\u001b[0mi\u001b[0m\u001b[0;34m]\u001b[0m\u001b[0;34m:\u001b[0m\u001b[0;34m\u001b[0m\u001b[0;34m\u001b[0m\u001b[0m\n\u001b[0m\u001b[1;32m     24\u001b[0m             \u001b[0mbasic_info\u001b[0m\u001b[0;34m[\u001b[0m\u001b[0mdialog\u001b[0m\u001b[0;34m]\u001b[0m\u001b[0;34m[\u001b[0m\u001b[0msender\u001b[0m\u001b[0;34m]\u001b[0m\u001b[0;34m[\u001b[0m\u001b[0;34m'reply_avg_time'\u001b[0m\u001b[0;34m]\u001b[0m\u001b[0;34m.\u001b[0m\u001b[0mappend\u001b[0m\u001b[0;34m(\u001b[0m\u001b[0mreply_time\u001b[0m\u001b[0;34m)\u001b[0m\u001b[0;34m\u001b[0m\u001b[0;34m\u001b[0m\u001b[0m\n\u001b[1;32m     25\u001b[0m             \u001b[0mbasic_info\u001b[0m\u001b[0;34m[\u001b[0m\u001b[0mdialog\u001b[0m\u001b[0;34m]\u001b[0m\u001b[0;34m[\u001b[0m\u001b[0msender\u001b[0m\u001b[0;34m]\u001b[0m\u001b[0;34m[\u001b[0m\u001b[0;34m'reply_per_hour'\u001b[0m\u001b[0;34m]\u001b[0m\u001b[0;34m[\u001b[0m\u001b[0mint\u001b[0m\u001b[0;34m(\u001b[0m\u001b[0mdata\u001b[0m\u001b[0;34m[\u001b[0m\u001b[0;34m'date'\u001b[0m\u001b[0;34m]\u001b[0m\u001b[0;34m[\u001b[0m\u001b[0mi\u001b[0m\u001b[0;34m]\u001b[0m\u001b[0;34m[\u001b[0m\u001b[0;36m11\u001b[0m\u001b[0;34m:\u001b[0m\u001b[0;36m13\u001b[0m\u001b[0;34m]\u001b[0m\u001b[0;34m)\u001b[0m\u001b[0;34m]\u001b[0m\u001b[0;34m.\u001b[0m\u001b[0mappend\u001b[0m\u001b[0;34m(\u001b[0m\u001b[0mreply_time\u001b[0m\u001b[0;34m)\u001b[0m\u001b[0;34m\u001b[0m\u001b[0;34m\u001b[0m\u001b[0m\n",
      "\u001b[0;32m~/testenv/lib/python3.8/site-packages/pandas/core/frame.py\u001b[0m in \u001b[0;36m__getitem__\u001b[0;34m(self, key)\u001b[0m\n\u001b[1;32m   2897\u001b[0m             \u001b[0;32mif\u001b[0m \u001b[0mself\u001b[0m\u001b[0;34m.\u001b[0m\u001b[0mcolumns\u001b[0m\u001b[0;34m.\u001b[0m\u001b[0mnlevels\u001b[0m \u001b[0;34m>\u001b[0m \u001b[0;36m1\u001b[0m\u001b[0;34m:\u001b[0m\u001b[0;34m\u001b[0m\u001b[0;34m\u001b[0m\u001b[0m\n\u001b[1;32m   2898\u001b[0m                 \u001b[0;32mreturn\u001b[0m \u001b[0mself\u001b[0m\u001b[0;34m.\u001b[0m\u001b[0m_getitem_multilevel\u001b[0m\u001b[0;34m(\u001b[0m\u001b[0mkey\u001b[0m\u001b[0;34m)\u001b[0m\u001b[0;34m\u001b[0m\u001b[0;34m\u001b[0m\u001b[0m\n\u001b[0;32m-> 2899\u001b[0;31m             \u001b[0mindexer\u001b[0m \u001b[0;34m=\u001b[0m \u001b[0mself\u001b[0m\u001b[0;34m.\u001b[0m\u001b[0mcolumns\u001b[0m\u001b[0;34m.\u001b[0m\u001b[0mget_loc\u001b[0m\u001b[0;34m(\u001b[0m\u001b[0mkey\u001b[0m\u001b[0;34m)\u001b[0m\u001b[0;34m\u001b[0m\u001b[0;34m\u001b[0m\u001b[0m\n\u001b[0m\u001b[1;32m   2900\u001b[0m             \u001b[0;32mif\u001b[0m \u001b[0mis_integer\u001b[0m\u001b[0;34m(\u001b[0m\u001b[0mindexer\u001b[0m\u001b[0;34m)\u001b[0m\u001b[0;34m:\u001b[0m\u001b[0;34m\u001b[0m\u001b[0;34m\u001b[0m\u001b[0m\n\u001b[1;32m   2901\u001b[0m                 \u001b[0mindexer\u001b[0m \u001b[0;34m=\u001b[0m \u001b[0;34m[\u001b[0m\u001b[0mindexer\u001b[0m\u001b[0;34m]\u001b[0m\u001b[0;34m\u001b[0m\u001b[0;34m\u001b[0m\u001b[0m\n",
      "\u001b[0;32m~/testenv/lib/python3.8/site-packages/pandas/core/indexes/base.py\u001b[0m in \u001b[0;36mget_loc\u001b[0;34m(self, key, method, tolerance)\u001b[0m\n\u001b[1;32m   2889\u001b[0m                 \u001b[0;32mreturn\u001b[0m \u001b[0mself\u001b[0m\u001b[0;34m.\u001b[0m\u001b[0m_engine\u001b[0m\u001b[0;34m.\u001b[0m\u001b[0mget_loc\u001b[0m\u001b[0;34m(\u001b[0m\u001b[0mcasted_key\u001b[0m\u001b[0;34m)\u001b[0m\u001b[0;34m\u001b[0m\u001b[0;34m\u001b[0m\u001b[0m\n\u001b[1;32m   2890\u001b[0m             \u001b[0;32mexcept\u001b[0m \u001b[0mKeyError\u001b[0m \u001b[0;32mas\u001b[0m \u001b[0merr\u001b[0m\u001b[0;34m:\u001b[0m\u001b[0;34m\u001b[0m\u001b[0;34m\u001b[0m\u001b[0m\n\u001b[0;32m-> 2891\u001b[0;31m                 \u001b[0;32mraise\u001b[0m \u001b[0mKeyError\u001b[0m\u001b[0;34m(\u001b[0m\u001b[0mkey\u001b[0m\u001b[0;34m)\u001b[0m \u001b[0;32mfrom\u001b[0m \u001b[0merr\u001b[0m\u001b[0;34m\u001b[0m\u001b[0;34m\u001b[0m\u001b[0m\n\u001b[0m\u001b[1;32m   2892\u001b[0m \u001b[0;34m\u001b[0m\u001b[0m\n\u001b[1;32m   2893\u001b[0m         \u001b[0;32mif\u001b[0m \u001b[0mtolerance\u001b[0m \u001b[0;32mis\u001b[0m \u001b[0;32mnot\u001b[0m \u001b[0;32mNone\u001b[0m\u001b[0;34m:\u001b[0m\u001b[0;34m\u001b[0m\u001b[0;34m\u001b[0m\u001b[0m\n",
      "\u001b[0;31mKeyError\u001b[0m: 'reply_time'"
     ]
    }
   ],
   "source": [
    "# Extracting basic information from all dialogs\n",
    "\n",
    "for dialog_csv_path in dialogs:\n",
    "    data = pd.read_csv(dialog_csv_path)\n",
    "    dialog = re.findall(r'\\d\\d+', dialog_csv_path)[0]\n",
    "\n",
    "    if not basic_info.get(dialog):\n",
    "        basic_info.setdefault(dialog, {})\n",
    "\n",
    "    # Gathering data for each user\n",
    "    for i in data.index:\n",
    "        sender = str(data['from_id'][i])\n",
    "        msg_length = len(str(data['message'][i]))\n",
    "\n",
    "        if not basic_info[dialog].get(sender):\n",
    "            basic_info[dialog].setdefault(sender, copy.deepcopy(user))\n",
    "\n",
    "        basic_info[dialog][sender]['msg_count'] += 1\n",
    "        basic_info[dialog][sender]['msg_len'] += msg_length\n",
    "        basic_info[dialog][sender]['msg_per_hour'][int(data['date'][i][11:13])] += 1\n",
    "        basic_info[dialog][sender]['total_word_num'] += len(str(data['message'][i]).split())\n",
    "\n",
    "        if reply_time := data['reply_time'][i]:\n",
    "            basic_info[dialog][sender]['reply_avg_time'].append(reply_time)\n",
    "            basic_info[dialog][sender]['reply_per_hour'][int(data['date'][i][11:13])].append(reply_time)\n",
    "\n",
    "        reply_time = int(data['reply_time'][i])\n",
    "        reply_frequency = basic_info[dialog][sender]['reply_time_word_length']\n",
    "        if not reply_frequency.get(reply_time):\n",
    "            reply_frequency.setdefault(reply_time, [msg_length])\n",
    "        else:\n",
    "            reply_frequency[reply_time].append(msg_length)\n",
    "\n",
    "    # Calculate average values\n",
    "    for sender, value in basic_info[dialog].items():\n",
    "        basic_info[dialog][sender]['msg_len'] /= data['id'].count()\n",
    "        reply_time = basic_info[dialog][sender]['reply_avg_time']\n",
    "        basic_info[dialog][sender]['reply_avg_time'] = sum(reply_time) / len(reply_time)\n",
    "\n",
    "        # Calculating avg reply_time per hour\n",
    "        reply_per_hour = basic_info[dialog][sender]['reply_per_hour']\n",
    "        for k, v in reply_per_hour.items():\n",
    "            if reply_time := reply_per_hour[k]:\n",
    "                reply_per_hour[k] = sum(reply_time) / len(reply_time)\n",
    "            else:\n",
    "                reply_per_hour[k] = -1\n",
    "\n",
    "        # Calculating avg msg length per reply_time\n",
    "        reply_time_word_length = basic_info[dialog][sender]['reply_time_word_length']\n",
    "        for k, v in reply_time_word_length.items():\n",
    "            reply_time_word_length[k] = sum(v) / len(v)"
   ]
  },
  {
   "cell_type": "code",
   "execution_count": 4,
   "metadata": {},
   "outputs": [],
   "source": [
    "# Dumping gathered data to data/basic_info.json\n",
    "\n",
    "with open('data/basic_info.json', 'w', encoding='utf-8') as f:\n",
    "    json.dump(basic_info, f, ensure_ascii=False, indent=4)"
   ]
  },
  {
   "cell_type": "code",
   "execution_count": 5,
   "metadata": {},
   "outputs": [
    {
     "ename": "IndexError",
     "evalue": "list index out of range",
     "output_type": "error",
     "traceback": [
      "\u001b[0;31m---------------------------------------------------------------------------\u001b[0m",
      "\u001b[0;31mIndexError\u001b[0m                                Traceback (most recent call last)",
      "\u001b[0;32m<ipython-input-5-3ac021f96717>\u001b[0m in \u001b[0;36m<module>\u001b[0;34m\u001b[0m\n\u001b[1;32m      4\u001b[0m dialog_id = widgets.Dropdown(\n\u001b[1;32m      5\u001b[0m     \u001b[0moptions\u001b[0m\u001b[0;34m=\u001b[0m\u001b[0mdialogs\u001b[0m\u001b[0;34m,\u001b[0m\u001b[0;34m\u001b[0m\u001b[0;34m\u001b[0m\u001b[0m\n\u001b[0;32m----> 6\u001b[0;31m     \u001b[0mvalue\u001b[0m\u001b[0;34m=\u001b[0m\u001b[0mdialogs\u001b[0m\u001b[0;34m[\u001b[0m\u001b[0;36m0\u001b[0m\u001b[0;34m]\u001b[0m\u001b[0;34m,\u001b[0m\u001b[0;34m\u001b[0m\u001b[0;34m\u001b[0m\u001b[0m\n\u001b[0m\u001b[1;32m      7\u001b[0m     \u001b[0mdescription\u001b[0m\u001b[0;34m=\u001b[0m\u001b[0;34m'Dialog:'\u001b[0m\u001b[0;34m,\u001b[0m\u001b[0;34m\u001b[0m\u001b[0;34m\u001b[0m\u001b[0m\n\u001b[1;32m      8\u001b[0m     \u001b[0mdisabled\u001b[0m\u001b[0;34m=\u001b[0m\u001b[0;32mFalse\u001b[0m\u001b[0;34m,\u001b[0m\u001b[0;34m\u001b[0m\u001b[0;34m\u001b[0m\u001b[0m\n",
      "\u001b[0;31mIndexError\u001b[0m: list index out of range"
     ]
    }
   ],
   "source": [
    "# Selecting dialog id to plot data\n",
    "\n",
    "dialogs = list(basic_info.keys())\n",
    "dialog_id = widgets.Dropdown(\n",
    "    options=dialogs,\n",
    "    value=dialogs[0],\n",
    "    description='Dialog:',\n",
    "    disabled=False,\n",
    ")\n",
    "display(dialog_id)\n"
   ]
  },
  {
   "cell_type": "code",
   "execution_count": null,
   "metadata": {
    "pycharm": {
     "name": "#%%\n"
    }
   },
   "outputs": [],
   "source": [
    "# Selecting user id to plot data\n",
    "\n",
    "users = list(basic_info[dialog_id.value].keys())\n",
    "user_id = widgets.Dropdown(\n",
    "    options=users,\n",
    "    value=users[0],\n",
    "    description='User:',\n",
    "    disabled=False,\n",
    ")\n",
    "display(user_id)\n"
   ]
  },
  {
   "cell_type": "code",
   "execution_count": null,
   "metadata": {},
   "outputs": [],
   "source": [
    "# Reply time on y-axis, daytime hours on x-axis, radius of circles corespondes to the message number\n",
    "# at that hour.\n",
    "\n",
    "plotting_data = pd.DataFrame({'Hour': range(24),\n",
    "                              'ReplyTime': list(basic_info[dialog_id.value][user_id.value]['reply_per_hour'].values()),\n",
    "                              'MessageNumber': list(basic_info[dialog_id.value][user_id.value]['msg_per_hour'].values())}).sort_values(by='Hour')\n",
    "\n",
    "alt.Chart(plotting_data).mark_circle(size=60).encode(\n",
    "    x='Hour',\n",
    "    y='ReplyTime',\n",
    "    size='MessageNumber:Q',\n",
    "    tooltip=['Hour', 'ReplyTime', 'MessageNumber']\n",
    ").properties(\n",
    "    width=800,\n",
    "    height=300\n",
    ")"
   ]
  },
  {
   "cell_type": "code",
   "execution_count": null,
   "metadata": {
    "pycharm": {
     "name": "#%%\n"
    }
   },
   "outputs": [],
   "source": [
    "# Plot: Reply time sec on x-axis, radius of mark_circle avg message length\n",
    "\n",
    "# Create DataFrame for plotting\n",
    "reply_time_word_length = basic_info[dialog_id.value][user_id.value]['reply_time_word_length']\n",
    "plotting_data = pd.DataFrame({'ReplyTime': list(reply_time_word_length.keys()),\n",
    "                              'MessageLength': list(reply_time_word_length.values())}).sort_values(by='ReplyTime')\n",
    "\n",
    "alt.Chart(plotting_data).mark_circle().encode(\n",
    "    alt.X('ReplyTime:Q',),\n",
    "    size='MessageLength:Q'\n",
    ").properties(\n",
    "    width=800,\n",
    "    height=300\n",
    ")\n"
   ]
  },
  {
   "cell_type": "code",
   "execution_count": null,
   "metadata": {},
   "outputs": [],
   "source": []
  },
  {
   "cell_type": "code",
   "execution_count": null,
   "metadata": {},
   "outputs": [],
   "source": []
  }
 ],
 "metadata": {
  "kernelspec": {
   "display_name": "Python 3",
   "language": "python",
   "name": "python3"
  },
  "language_info": {
   "codemirror_mode": {
    "name": "ipython",
    "version": 3
   },
   "file_extension": ".py",
   "mimetype": "text/x-python",
   "name": "python",
   "nbconvert_exporter": "python",
   "pygments_lexer": "ipython3",
   "version": "3.8.5"
  }
 },
 "nbformat": 4,
 "nbformat_minor": 4
}
