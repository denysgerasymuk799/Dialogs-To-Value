{
 "cells": [
  {
   "cell_type": "code",
   "execution_count": 3,
   "metadata": {},
   "outputs": [],
   "source": [
    "import ipywidgets as widgets\n",
    "import altair as alt\n",
    "import pandas as pd\n",
    "import json\n",
    "import copy\n",
    "import glob\n",
    "import math\n",
    "import re"
   ]
  },
  {
   "cell_type": "code",
   "execution_count": 4,
   "metadata": {},
   "outputs": [],
   "source": [
    "pd.set_option('display.max_rows', None)"
   ]
  },
  {
   "cell_type": "code",
   "execution_count": 5,
   "metadata": {},
   "outputs": [
    {
     "name": "stdout",
     "output_type": "stream",
     "text": [
      "\u001b[01;34m.\u001b[00m\r\n",
      "├── 0_make_initial_preparation.py\r\n",
      "├── README.md\r\n",
      "├── \u001b[01;34mdata\u001b[00m\r\n",
      "│   ├── \u001b[01;34mdialogs\u001b[00m [417 entries exceeds filelimit, not opening dir]\r\n",
      "│   └── \u001b[01;34mdialogs_list\u001b[00m [417 entries exceeds filelimit, not opening dir]\r\n",
      "├── messages_per_hours.ipynb\r\n",
      "├── requirements.txt\r\n",
      "├── \u001b[01;34mtelegram-data-collection\u001b[00m\r\n",
      "│   ├── 0_download_dialogs_list.py\r\n",
      "│   ├── 1_download_dialogs_data.py\r\n",
      "│   ├── README.md\r\n",
      "│   ├── \u001b[01;34mconfig\u001b[00m\r\n",
      "│   │   ├── config.json\r\n",
      "│   │   └── config_example.json\r\n",
      "│   ├── requirements.txt\r\n",
      "│   ├── tmp.session\r\n",
      "│   └── \u001b[01;34mutils\u001b[00m\r\n",
      "│       ├── \u001b[01;34m__pycache__\u001b[00m\r\n",
      "│       │   └── utils.cpython-37.pyc\r\n",
      "│       └── utils.py\r\n",
      "└── \u001b[01;34mutils\u001b[00m\r\n",
      "    └── data_transformation.py\r\n",
      "\r\n",
      "8 directories, 14 files\r\n"
     ]
    }
   ],
   "source": [
    "# just to show files structure, we should keep it same\n",
    "\n",
    "! tree . --filelimit 10"
   ]
  },
  {
   "cell_type": "markdown",
   "metadata": {},
   "source": [
    "## REVIEW:\n",
    "### 1. pls move data preparetion with related comments in this file\n",
    "### 2. save all results (example: basic_info.json) in the related \"result\" subfolders\n",
    "### 3. basic_info.json should be renamed to the \"dialogs_statistics.json\". this name should be variable\n",
    "### 4. move all global/config variables in the section below"
   ]
  },
  {
   "cell_type": "code",
   "execution_count": 6,
   "metadata": {},
   "outputs": [],
   "source": [
    "DIALOGS_FOLDER = \"data/dialogs\"\n",
    "RESULT_FOLDER = \"result\""
   ]
  },
  {
   "cell_type": "code",
   "execution_count": 7,
   "metadata": {},
   "outputs": [],
   "source": [
    "# Initialization\n",
    "\n",
    "# Your dialogs must be under data/prepared_dialogs/\n",
    "dialogs = glob.glob(DIALOGS_FOLDER+'/*.csv')\n",
    "\n",
    "basic_info = {}\n",
    "\n",
    "user = {\n",
    "    'msg_count': 1,\n",
    "    'msg_len': 0,\n",
    "    'total_word_num': 0,\n",
    "    'reply_avg_time': [],\n",
    "    'msg_per_hour': {x: 0 for x in range(24)},\n",
    "    'reply_per_hour': {x: [] for x in range(24)},\n",
    "    'reply_time_word_length': {}\n",
    "}"
   ]
  },
  {
   "cell_type": "code",
   "execution_count": 8,
   "metadata": {},
   "outputs": [
    {
     "ename": "KeyError",
     "evalue": "'reply_time'",
     "output_type": "error",
     "traceback": [
      "\u001b[0;31m---------------------------------------------------------------------------\u001b[0m",
      "\u001b[0;31mKeyError\u001b[0m                                  Traceback (most recent call last)",
      "\u001b[0;32m~/testenv/lib/python3.8/site-packages/pandas/core/indexes/base.py\u001b[0m in \u001b[0;36mget_loc\u001b[0;34m(self, key, method, tolerance)\u001b[0m\n\u001b[1;32m   2888\u001b[0m             \u001b[0;32mtry\u001b[0m\u001b[0;34m:\u001b[0m\u001b[0;34m\u001b[0m\u001b[0;34m\u001b[0m\u001b[0m\n\u001b[0;32m-> 2889\u001b[0;31m                 \u001b[0;32mreturn\u001b[0m \u001b[0mself\u001b[0m\u001b[0;34m.\u001b[0m\u001b[0m_engine\u001b[0m\u001b[0;34m.\u001b[0m\u001b[0mget_loc\u001b[0m\u001b[0;34m(\u001b[0m\u001b[0mcasted_key\u001b[0m\u001b[0;34m)\u001b[0m\u001b[0;34m\u001b[0m\u001b[0;34m\u001b[0m\u001b[0m\n\u001b[0m\u001b[1;32m   2890\u001b[0m             \u001b[0;32mexcept\u001b[0m \u001b[0mKeyError\u001b[0m \u001b[0;32mas\u001b[0m \u001b[0merr\u001b[0m\u001b[0;34m:\u001b[0m\u001b[0;34m\u001b[0m\u001b[0;34m\u001b[0m\u001b[0m\n",
      "\u001b[0;32mpandas/_libs/index.pyx\u001b[0m in \u001b[0;36mpandas._libs.index.IndexEngine.get_loc\u001b[0;34m()\u001b[0m\n",
      "\u001b[0;32mpandas/_libs/index.pyx\u001b[0m in \u001b[0;36mpandas._libs.index.IndexEngine.get_loc\u001b[0;34m()\u001b[0m\n",
      "\u001b[0;32mpandas/_libs/hashtable_class_helper.pxi\u001b[0m in \u001b[0;36mpandas._libs.hashtable.PyObjectHashTable.get_item\u001b[0;34m()\u001b[0m\n",
      "\u001b[0;32mpandas/_libs/hashtable_class_helper.pxi\u001b[0m in \u001b[0;36mpandas._libs.hashtable.PyObjectHashTable.get_item\u001b[0;34m()\u001b[0m\n",
      "\u001b[0;31mKeyError\u001b[0m: 'reply_time'",
      "\nThe above exception was the direct cause of the following exception:\n",
      "\u001b[0;31mKeyError\u001b[0m                                  Traceback (most recent call last)",
      "\u001b[0;32m<ipython-input-8-ac3112ce8099>\u001b[0m in \u001b[0;36m<module>\u001b[0;34m\u001b[0m\n\u001b[1;32m     21\u001b[0m         \u001b[0mbasic_info\u001b[0m\u001b[0;34m[\u001b[0m\u001b[0mdialog\u001b[0m\u001b[0;34m]\u001b[0m\u001b[0;34m[\u001b[0m\u001b[0msender\u001b[0m\u001b[0;34m]\u001b[0m\u001b[0;34m[\u001b[0m\u001b[0;34m'total_word_num'\u001b[0m\u001b[0;34m]\u001b[0m \u001b[0;34m+=\u001b[0m \u001b[0mlen\u001b[0m\u001b[0;34m(\u001b[0m\u001b[0mstr\u001b[0m\u001b[0;34m(\u001b[0m\u001b[0mdata\u001b[0m\u001b[0;34m[\u001b[0m\u001b[0;34m'message'\u001b[0m\u001b[0;34m]\u001b[0m\u001b[0;34m[\u001b[0m\u001b[0mi\u001b[0m\u001b[0;34m]\u001b[0m\u001b[0;34m)\u001b[0m\u001b[0;34m.\u001b[0m\u001b[0msplit\u001b[0m\u001b[0;34m(\u001b[0m\u001b[0;34m)\u001b[0m\u001b[0;34m)\u001b[0m\u001b[0;34m\u001b[0m\u001b[0;34m\u001b[0m\u001b[0m\n\u001b[1;32m     22\u001b[0m \u001b[0;34m\u001b[0m\u001b[0m\n\u001b[0;32m---> 23\u001b[0;31m         \u001b[0;32mif\u001b[0m \u001b[0mreply_time\u001b[0m \u001b[0;34m:=\u001b[0m \u001b[0mdata\u001b[0m\u001b[0;34m[\u001b[0m\u001b[0;34m'reply_time'\u001b[0m\u001b[0;34m]\u001b[0m\u001b[0;34m[\u001b[0m\u001b[0mi\u001b[0m\u001b[0;34m]\u001b[0m\u001b[0;34m:\u001b[0m\u001b[0;34m\u001b[0m\u001b[0;34m\u001b[0m\u001b[0m\n\u001b[0m\u001b[1;32m     24\u001b[0m             \u001b[0mbasic_info\u001b[0m\u001b[0;34m[\u001b[0m\u001b[0mdialog\u001b[0m\u001b[0;34m]\u001b[0m\u001b[0;34m[\u001b[0m\u001b[0msender\u001b[0m\u001b[0;34m]\u001b[0m\u001b[0;34m[\u001b[0m\u001b[0;34m'reply_avg_time'\u001b[0m\u001b[0;34m]\u001b[0m\u001b[0;34m.\u001b[0m\u001b[0mappend\u001b[0m\u001b[0;34m(\u001b[0m\u001b[0mreply_time\u001b[0m\u001b[0;34m)\u001b[0m\u001b[0;34m\u001b[0m\u001b[0;34m\u001b[0m\u001b[0m\n\u001b[1;32m     25\u001b[0m             \u001b[0mbasic_info\u001b[0m\u001b[0;34m[\u001b[0m\u001b[0mdialog\u001b[0m\u001b[0;34m]\u001b[0m\u001b[0;34m[\u001b[0m\u001b[0msender\u001b[0m\u001b[0;34m]\u001b[0m\u001b[0;34m[\u001b[0m\u001b[0;34m'reply_per_hour'\u001b[0m\u001b[0;34m]\u001b[0m\u001b[0;34m[\u001b[0m\u001b[0mint\u001b[0m\u001b[0;34m(\u001b[0m\u001b[0mdata\u001b[0m\u001b[0;34m[\u001b[0m\u001b[0;34m'date'\u001b[0m\u001b[0;34m]\u001b[0m\u001b[0;34m[\u001b[0m\u001b[0mi\u001b[0m\u001b[0;34m]\u001b[0m\u001b[0;34m[\u001b[0m\u001b[0;36m11\u001b[0m\u001b[0;34m:\u001b[0m\u001b[0;36m13\u001b[0m\u001b[0;34m]\u001b[0m\u001b[0;34m)\u001b[0m\u001b[0;34m]\u001b[0m\u001b[0;34m.\u001b[0m\u001b[0mappend\u001b[0m\u001b[0;34m(\u001b[0m\u001b[0mreply_time\u001b[0m\u001b[0;34m)\u001b[0m\u001b[0;34m\u001b[0m\u001b[0;34m\u001b[0m\u001b[0m\n",
      "\u001b[0;32m~/testenv/lib/python3.8/site-packages/pandas/core/frame.py\u001b[0m in \u001b[0;36m__getitem__\u001b[0;34m(self, key)\u001b[0m\n\u001b[1;32m   2897\u001b[0m             \u001b[0;32mif\u001b[0m \u001b[0mself\u001b[0m\u001b[0;34m.\u001b[0m\u001b[0mcolumns\u001b[0m\u001b[0;34m.\u001b[0m\u001b[0mnlevels\u001b[0m \u001b[0;34m>\u001b[0m \u001b[0;36m1\u001b[0m\u001b[0;34m:\u001b[0m\u001b[0;34m\u001b[0m\u001b[0;34m\u001b[0m\u001b[0m\n\u001b[1;32m   2898\u001b[0m                 \u001b[0;32mreturn\u001b[0m \u001b[0mself\u001b[0m\u001b[0;34m.\u001b[0m\u001b[0m_getitem_multilevel\u001b[0m\u001b[0;34m(\u001b[0m\u001b[0mkey\u001b[0m\u001b[0;34m)\u001b[0m\u001b[0;34m\u001b[0m\u001b[0;34m\u001b[0m\u001b[0m\n\u001b[0;32m-> 2899\u001b[0;31m             \u001b[0mindexer\u001b[0m \u001b[0;34m=\u001b[0m \u001b[0mself\u001b[0m\u001b[0;34m.\u001b[0m\u001b[0mcolumns\u001b[0m\u001b[0;34m.\u001b[0m\u001b[0mget_loc\u001b[0m\u001b[0;34m(\u001b[0m\u001b[0mkey\u001b[0m\u001b[0;34m)\u001b[0m\u001b[0;34m\u001b[0m\u001b[0;34m\u001b[0m\u001b[0m\n\u001b[0m\u001b[1;32m   2900\u001b[0m             \u001b[0;32mif\u001b[0m \u001b[0mis_integer\u001b[0m\u001b[0;34m(\u001b[0m\u001b[0mindexer\u001b[0m\u001b[0;34m)\u001b[0m\u001b[0;34m:\u001b[0m\u001b[0;34m\u001b[0m\u001b[0;34m\u001b[0m\u001b[0m\n\u001b[1;32m   2901\u001b[0m                 \u001b[0mindexer\u001b[0m \u001b[0;34m=\u001b[0m \u001b[0;34m[\u001b[0m\u001b[0mindexer\u001b[0m\u001b[0;34m]\u001b[0m\u001b[0;34m\u001b[0m\u001b[0;34m\u001b[0m\u001b[0m\n",
      "\u001b[0;32m~/testenv/lib/python3.8/site-packages/pandas/core/indexes/base.py\u001b[0m in \u001b[0;36mget_loc\u001b[0;34m(self, key, method, tolerance)\u001b[0m\n\u001b[1;32m   2889\u001b[0m                 \u001b[0;32mreturn\u001b[0m \u001b[0mself\u001b[0m\u001b[0;34m.\u001b[0m\u001b[0m_engine\u001b[0m\u001b[0;34m.\u001b[0m\u001b[0mget_loc\u001b[0m\u001b[0;34m(\u001b[0m\u001b[0mcasted_key\u001b[0m\u001b[0;34m)\u001b[0m\u001b[0;34m\u001b[0m\u001b[0;34m\u001b[0m\u001b[0m\n\u001b[1;32m   2890\u001b[0m             \u001b[0;32mexcept\u001b[0m \u001b[0mKeyError\u001b[0m \u001b[0;32mas\u001b[0m \u001b[0merr\u001b[0m\u001b[0;34m:\u001b[0m\u001b[0;34m\u001b[0m\u001b[0;34m\u001b[0m\u001b[0m\n\u001b[0;32m-> 2891\u001b[0;31m                 \u001b[0;32mraise\u001b[0m \u001b[0mKeyError\u001b[0m\u001b[0;34m(\u001b[0m\u001b[0mkey\u001b[0m\u001b[0;34m)\u001b[0m \u001b[0;32mfrom\u001b[0m \u001b[0merr\u001b[0m\u001b[0;34m\u001b[0m\u001b[0;34m\u001b[0m\u001b[0m\n\u001b[0m\u001b[1;32m   2892\u001b[0m \u001b[0;34m\u001b[0m\u001b[0m\n\u001b[1;32m   2893\u001b[0m         \u001b[0;32mif\u001b[0m \u001b[0mtolerance\u001b[0m \u001b[0;32mis\u001b[0m \u001b[0;32mnot\u001b[0m \u001b[0;32mNone\u001b[0m\u001b[0;34m:\u001b[0m\u001b[0;34m\u001b[0m\u001b[0;34m\u001b[0m\u001b[0m\n",
      "\u001b[0;31mKeyError\u001b[0m: 'reply_time'"
     ]
    }
   ],
   "source": [
    "# Extracting basic information from all dialogs\n",
    "\n",
    "for dialog_csv_path in dialogs:\n",
    "    data = pd.read_csv(dialog_csv_path)\n",
    "    dialog = re.findall(r'\\d\\d+', dialog_csv_path)[0]\n",
    "\n",
    "    if not basic_info.get(dialog):\n",
    "        basic_info.setdefault(dialog, {})\n",
    "\n",
    "    # Gathering data for each user\n",
    "    for i in data.index:\n",
    "        sender = str(data['from_id'][i])\n",
    "        msg_length = len(str(data['message'][i]))\n",
    "\n",
    "        if not basic_info[dialog].get(sender):\n",
    "            basic_info[dialog].setdefault(sender, copy.deepcopy(user))\n",
    "\n",
    "        basic_info[dialog][sender]['msg_count'] += 1\n",
    "        basic_info[dialog][sender]['msg_len'] += msg_length\n",
    "        basic_info[dialog][sender]['msg_per_hour'][int(data['date'][i][11:13])] += 1\n",
    "        basic_info[dialog][sender]['total_word_num'] += len(str(data['message'][i]).split())\n",
    "\n",
    "        if reply_time := data['reply_time'][i]:\n",
    "            basic_info[dialog][sender]['reply_avg_time'].append(reply_time)\n",
    "            basic_info[dialog][sender]['reply_per_hour'][int(data['date'][i][11:13])].append(reply_time)\n",
    "\n",
    "        reply_time = int(data['reply_time'][i])\n",
    "        reply_frequency = basic_info[dialog][sender]['reply_time_word_length']\n",
    "        if not reply_frequency.get(reply_time):\n",
    "            reply_frequency.setdefault(reply_time, [msg_length])\n",
    "        else:\n",
    "            reply_frequency[reply_time].append(msg_length)\n",
    "\n",
    "    # Calculate average values\n",
    "    for sender, value in basic_info[dialog].items():\n",
    "        basic_info[dialog][sender]['msg_len'] /= data['id'].count()\n",
    "        reply_time = basic_info[dialog][sender]['reply_avg_time']\n",
    "        basic_info[dialog][sender]['reply_avg_time'] = sum(reply_time) / len(reply_time)\n",
    "\n",
    "        # Calculating avg reply_time per hour\n",
    "        reply_per_hour = basic_info[dialog][sender]['reply_per_hour']\n",
    "        for k, v in reply_per_hour.items():\n",
    "            if reply_time := reply_per_hour[k]:\n",
    "                reply_per_hour[k] = sum(reply_time) / len(reply_time)\n",
    "            else:\n",
    "                reply_per_hour[k] = -1\n",
    "\n",
    "        # Calculating avg msg length per reply_time\n",
    "        reply_time_word_length = basic_info[dialog][sender]['reply_time_word_length']\n",
    "        for k, v in reply_time_word_length.items():\n",
    "            reply_time_word_length[k] = sum(v) / len(v)"
   ]
  },
  {
   "cell_type": "code",
   "execution_count": 4,
   "metadata": {},
   "outputs": [],
   "source": [
    "# Dumping gathered data to data/basic_info.json\n",
    "\n",
    "with open('data/basic_info.json', 'w', encoding='utf-8') as f:\n",
    "    json.dump(basic_info, f, ensure_ascii=False, indent=4)"
   ]
  },
  {
   "cell_type": "code",
   "execution_count": 5,
   "metadata": {},
   "outputs": [
    {
     "data": {
      "application/vnd.jupyter.widget-view+json": {
       "model_id": "a50ae0f9e6b741c3915f3e3428bdcf95",
       "version_major": 2,
       "version_minor": 0
      },
      "text/plain": [
       "Dropdown(description='Dialog:', options=('418590848', '7897590848'), value='418590848')"
      ]
     },
     "metadata": {},
     "output_type": "display_data"
    }
   ],
   "source": [
    "# Selecting dialog id to plot data\n",
    "\n",
    "dialogs = list(basic_info.keys())\n",
    "dialog_id = widgets.Dropdown(\n",
    "    options=dialogs,\n",
    "    value=dialogs[0],\n",
    "    description='Dialog:',\n",
    "    disabled=False,\n",
    ")\n",
    "display(dialog_id)\n"
   ]
  },
  {
   "cell_type": "code",
   "execution_count": 6,
   "metadata": {
    "pycharm": {
     "name": "#%%\n"
    }
   },
   "outputs": [
    {
     "data": {
      "application/vnd.jupyter.widget-view+json": {
       "model_id": "ddeea760309f41b483b904d763fba95f",
       "version_major": 2,
       "version_minor": 0
      },
      "text/plain": [
       "Dropdown(description='User:', options=('418590848', '594508393'), value='418590848')"
      ]
     },
     "metadata": {},
     "output_type": "display_data"
    }
   ],
   "source": [
    "# Selecting user id to plot data\n",
    "\n",
    "users = list(basic_info[dialog_id.value].keys())\n",
    "user_id = widgets.Dropdown(\n",
    "    options=users,\n",
    "    value=users[0],\n",
    "    description='User:',\n",
    "    disabled=False,\n",
    ")\n",
    "display(user_id)\n"
   ]
  },
  {
   "cell_type": "code",
   "execution_count": 10,
   "metadata": {},
   "outputs": [
    {
     "data": {
      "text/html": [
       "\n",
       "<div id=\"altair-viz-f4257afcc0144a4a81348875a10d282b\"></div>\n",
       "<script type=\"text/javascript\">\n",
       "  (function(spec, embedOpt){\n",
       "    let outputDiv = document.currentScript.previousElementSibling;\n",
       "    if (outputDiv.id !== \"altair-viz-f4257afcc0144a4a81348875a10d282b\") {\n",
       "      outputDiv = document.getElementById(\"altair-viz-f4257afcc0144a4a81348875a10d282b\");\n",
       "    }\n",
       "    const paths = {\n",
       "      \"vega\": \"https://cdn.jsdelivr.net/npm//vega@5?noext\",\n",
       "      \"vega-lib\": \"https://cdn.jsdelivr.net/npm//vega-lib?noext\",\n",
       "      \"vega-lite\": \"https://cdn.jsdelivr.net/npm//vega-lite@4.8.1?noext\",\n",
       "      \"vega-embed\": \"https://cdn.jsdelivr.net/npm//vega-embed@6?noext\",\n",
       "    };\n",
       "\n",
       "    function loadScript(lib) {\n",
       "      return new Promise(function(resolve, reject) {\n",
       "        var s = document.createElement('script');\n",
       "        s.src = paths[lib];\n",
       "        s.async = true;\n",
       "        s.onload = () => resolve(paths[lib]);\n",
       "        s.onerror = () => reject(`Error loading script: ${paths[lib]}`);\n",
       "        document.getElementsByTagName(\"head\")[0].appendChild(s);\n",
       "      });\n",
       "    }\n",
       "\n",
       "    function showError(err) {\n",
       "      outputDiv.innerHTML = `<div class=\"error\" style=\"color:red;\">${err}</div>`;\n",
       "      throw err;\n",
       "    }\n",
       "\n",
       "    function displayChart(vegaEmbed) {\n",
       "      vegaEmbed(outputDiv, spec, embedOpt)\n",
       "        .catch(err => showError(`Javascript Error: ${err.message}<br>This usually means there's a typo in your chart specification. See the javascript console for the full traceback.`));\n",
       "    }\n",
       "\n",
       "    if(typeof define === \"function\" && define.amd) {\n",
       "      requirejs.config({paths});\n",
       "      require([\"vega-embed\"], displayChart, err => showError(`Error loading script: ${err.message}`));\n",
       "    } else if (typeof vegaEmbed === \"function\") {\n",
       "      displayChart(vegaEmbed);\n",
       "    } else {\n",
       "      loadScript(\"vega\")\n",
       "        .then(() => loadScript(\"vega-lite\"))\n",
       "        .then(() => loadScript(\"vega-embed\"))\n",
       "        .catch(showError)\n",
       "        .then(() => displayChart(vegaEmbed));\n",
       "    }\n",
       "  })({\"config\": {\"view\": {\"continuousWidth\": 400, \"continuousHeight\": 300}}, \"data\": {\"name\": \"data-56cdaa2fb1810fa2f775cbe0416435ad\"}, \"mark\": {\"type\": \"circle\", \"size\": 60}, \"encoding\": {\"size\": {\"type\": \"quantitative\", \"field\": \"MessageNumber\"}, \"tooltip\": [{\"type\": \"quantitative\", \"field\": \"Hour\"}, {\"type\": \"quantitative\", \"field\": \"ReplyTime\"}, {\"type\": \"quantitative\", \"field\": \"MessageNumber\"}], \"x\": {\"type\": \"quantitative\", \"field\": \"Hour\"}, \"y\": {\"type\": \"quantitative\", \"field\": \"ReplyTime\"}}, \"height\": 300, \"width\": 800, \"$schema\": \"https://vega.github.io/schema/vega-lite/v4.8.1.json\", \"datasets\": {\"data-56cdaa2fb1810fa2f775cbe0416435ad\": [{\"Hour\": 0, \"ReplyTime\": 1537.1612903225807, \"MessageNumber\": 47}, {\"Hour\": 1, \"ReplyTime\": 913.875, \"MessageNumber\": 12}, {\"Hour\": 2, \"ReplyTime\": 2215.5263157894738, \"MessageNumber\": 31}, {\"Hour\": 3, \"ReplyTime\": 686.0, \"MessageNumber\": 21}, {\"Hour\": 4, \"ReplyTime\": 1024.8823529411766, \"MessageNumber\": 66}, {\"Hour\": 5, \"ReplyTime\": 12951.57142857143, \"MessageNumber\": 53}, {\"Hour\": 6, \"ReplyTime\": 5244.422535211268, \"MessageNumber\": 127}, {\"Hour\": 7, \"ReplyTime\": 1198.63, \"MessageNumber\": 221}, {\"Hour\": 8, \"ReplyTime\": 6511.923728813559, \"MessageNumber\": 194}, {\"Hour\": 9, \"ReplyTime\": 12078.127659574468, \"MessageNumber\": 157}, {\"Hour\": 10, \"ReplyTime\": 57179.034782608695, \"MessageNumber\": 216}, {\"Hour\": 11, \"ReplyTime\": 21834.322784810127, \"MessageNumber\": 244}, {\"Hour\": 12, \"ReplyTime\": 9750.137096774193, \"MessageNumber\": 214}, {\"Hour\": 13, \"ReplyTime\": 7542.758620689655, \"MessageNumber\": 151}, {\"Hour\": 14, \"ReplyTime\": 3494.2, \"MessageNumber\": 228}, {\"Hour\": 15, \"ReplyTime\": 3474.694214876033, \"MessageNumber\": 230}, {\"Hour\": 16, \"ReplyTime\": 1659.990099009901, \"MessageNumber\": 142}, {\"Hour\": 17, \"ReplyTime\": 1938.7923076923078, \"MessageNumber\": 236}, {\"Hour\": 18, \"ReplyTime\": 1625.967741935484, \"MessageNumber\": 251}, {\"Hour\": 19, \"ReplyTime\": 1357.1153846153845, \"MessageNumber\": 318}, {\"Hour\": 20, \"ReplyTime\": 1747.6381322957197, \"MessageNumber\": 454}, {\"Hour\": 21, \"ReplyTime\": 2787.0388349514565, \"MessageNumber\": 342}, {\"Hour\": 22, \"ReplyTime\": 369.0480769230769, \"MessageNumber\": 179}, {\"Hour\": 23, \"ReplyTime\": 850.5757575757576, \"MessageNumber\": 120}]}}, {\"mode\": \"vega-lite\"});\n",
       "</script>"
      ],
      "text/plain": [
       "alt.Chart(...)"
      ]
     },
     "execution_count": 10,
     "metadata": {},
     "output_type": "execute_result"
    }
   ],
   "source": [
    "# Reply time on y-axis, daytime hours on x-axis, radius of circles corespondes to the message number\n",
    "# at that hour.\n",
    "\n",
    "plotting_data = pd.DataFrame({'Hour': range(24),\n",
    "                              'ReplyTime': list(basic_info[dialog_id.value][user_id.value]['reply_per_hour'].values()),\n",
    "                              'MessageNumber': list(basic_info[dialog_id.value][user_id.value]['msg_per_hour'].values())}).sort_values(by='Hour')\n",
    "\n",
    "alt.Chart(plotting_data).mark_circle(size=60).encode(\n",
    "    x='Hour',\n",
    "    y='ReplyTime',\n",
    "    size='MessageNumber:Q',\n",
    "    tooltip=['Hour', 'ReplyTime', 'MessageNumber']\n",
    ").properties(\n",
    "    width=800,\n",
    "    height=300\n",
    ")"
   ]
  },
  {
   "cell_type": "code",
   "execution_count": 11,
   "metadata": {
    "pycharm": {
     "name": "#%%\n"
    }
   },
   "outputs": [
    {
     "data": {
      "text/html": [
       "\n",
       "<div id=\"altair-viz-0ee0ceda621448de978babad5a313d83\"></div>\n",
       "<script type=\"text/javascript\">\n",
       "  (function(spec, embedOpt){\n",
       "    let outputDiv = document.currentScript.previousElementSibling;\n",
       "    if (outputDiv.id !== \"altair-viz-0ee0ceda621448de978babad5a313d83\") {\n",
       "      outputDiv = document.getElementById(\"altair-viz-0ee0ceda621448de978babad5a313d83\");\n",
       "    }\n",
       "    const paths = {\n",
       "      \"vega\": \"https://cdn.jsdelivr.net/npm//vega@5?noext\",\n",
       "      \"vega-lib\": \"https://cdn.jsdelivr.net/npm//vega-lib?noext\",\n",
       "      \"vega-lite\": \"https://cdn.jsdelivr.net/npm//vega-lite@4.8.1?noext\",\n",
       "      \"vega-embed\": \"https://cdn.jsdelivr.net/npm//vega-embed@6?noext\",\n",
       "    };\n",
       "\n",
       "    function loadScript(lib) {\n",
       "      return new Promise(function(resolve, reject) {\n",
       "        var s = document.createElement('script');\n",
       "        s.src = paths[lib];\n",
       "        s.async = true;\n",
       "        s.onload = () => resolve(paths[lib]);\n",
       "        s.onerror = () => reject(`Error loading script: ${paths[lib]}`);\n",
       "        document.getElementsByTagName(\"head\")[0].appendChild(s);\n",
       "      });\n",
       "    }\n",
       "\n",
       "    function showError(err) {\n",
       "      outputDiv.innerHTML = `<div class=\"error\" style=\"color:red;\">${err}</div>`;\n",
       "      throw err;\n",
       "    }\n",
       "\n",
       "    function displayChart(vegaEmbed) {\n",
       "      vegaEmbed(outputDiv, spec, embedOpt)\n",
       "        .catch(err => showError(`Javascript Error: ${err.message}<br>This usually means there's a typo in your chart specification. See the javascript console for the full traceback.`));\n",
       "    }\n",
       "\n",
       "    if(typeof define === \"function\" && define.amd) {\n",
       "      requirejs.config({paths});\n",
       "      require([\"vega-embed\"], displayChart, err => showError(`Error loading script: ${err.message}`));\n",
       "    } else if (typeof vegaEmbed === \"function\") {\n",
       "      displayChart(vegaEmbed);\n",
       "    } else {\n",
       "      loadScript(\"vega\")\n",
       "        .then(() => loadScript(\"vega-lite\"))\n",
       "        .then(() => loadScript(\"vega-embed\"))\n",
       "        .catch(showError)\n",
       "        .then(() => displayChart(vegaEmbed));\n",
       "    }\n",
       "  })({\"config\": {\"view\": {\"continuousWidth\": 400, \"continuousHeight\": 300}}, \"data\": {\"name\": \"data-e0826556d3f8dce07967a23285f1f7f6\"}, \"mark\": \"circle\", \"encoding\": {\"size\": {\"type\": \"quantitative\", \"field\": \"MessageLength\"}, \"x\": {\"type\": \"quantitative\", \"field\": \"ReplyTime\"}}, \"height\": 300, \"width\": 800, \"$schema\": \"https://vega.github.io/schema/vega-lite/v4.8.1.json\", \"datasets\": {\"data-e0826556d3f8dce07967a23285f1f7f6\": [{\"ReplyTime\": 0, \"MessageLength\": 16.661529994496423}, {\"ReplyTime\": 1, \"MessageLength\": 10.204081632653061}, {\"ReplyTime\": 2, \"MessageLength\": 12.0}, {\"ReplyTime\": 3, \"MessageLength\": 11.215189873417721}, {\"ReplyTime\": 4, \"MessageLength\": 12.94047619047619}, {\"ReplyTime\": 5, \"MessageLength\": 11.978494623655914}, {\"ReplyTime\": 6, \"MessageLength\": 13.450704225352112}, {\"ReplyTime\": 7, \"MessageLength\": 11.91566265060241}, {\"ReplyTime\": 8, \"MessageLength\": 11.987012987012987}, {\"ReplyTime\": 9, \"MessageLength\": 19.706666666666667}, {\"ReplyTime\": 10, \"MessageLength\": 11.714285714285714}, {\"ReplyTime\": 11, \"MessageLength\": 18.130434782608695}, {\"ReplyTime\": 12, \"MessageLength\": 14.716981132075471}, {\"ReplyTime\": 13, \"MessageLength\": 11.610169491525424}, {\"ReplyTime\": 14, \"MessageLength\": 11.693877551020408}, {\"ReplyTime\": 15, \"MessageLength\": 13.462962962962964}, {\"ReplyTime\": 16, \"MessageLength\": 17.942857142857143}, {\"ReplyTime\": 17, \"MessageLength\": 12.958333333333334}, {\"ReplyTime\": 18, \"MessageLength\": 13.64102564102564}, {\"ReplyTime\": 19, \"MessageLength\": 14.636363636363637}, {\"ReplyTime\": 20, \"MessageLength\": 15.451612903225806}, {\"ReplyTime\": 21, \"MessageLength\": 18.25}, {\"ReplyTime\": 22, \"MessageLength\": 10.764705882352942}, {\"ReplyTime\": 23, \"MessageLength\": 14.0}, {\"ReplyTime\": 24, \"MessageLength\": 13.217391304347826}, {\"ReplyTime\": 25, \"MessageLength\": 10.166666666666666}, {\"ReplyTime\": 26, \"MessageLength\": 13.956521739130435}, {\"ReplyTime\": 27, \"MessageLength\": 13.03225806451613}, {\"ReplyTime\": 28, \"MessageLength\": 10.222222222222221}, {\"ReplyTime\": 29, \"MessageLength\": 8.352941176470589}, {\"ReplyTime\": 30, \"MessageLength\": 9.0}, {\"ReplyTime\": 31, \"MessageLength\": 10.666666666666666}, {\"ReplyTime\": 32, \"MessageLength\": 11.3125}, {\"ReplyTime\": 33, \"MessageLength\": 9.0}, {\"ReplyTime\": 34, \"MessageLength\": 7.25}, {\"ReplyTime\": 35, \"MessageLength\": 11.416666666666666}, {\"ReplyTime\": 36, \"MessageLength\": 16.09090909090909}, {\"ReplyTime\": 37, \"MessageLength\": 12.76923076923077}, {\"ReplyTime\": 38, \"MessageLength\": 19.2}, {\"ReplyTime\": 39, \"MessageLength\": 10.384615384615385}, {\"ReplyTime\": 40, \"MessageLength\": 13.666666666666666}, {\"ReplyTime\": 41, \"MessageLength\": 10.833333333333334}, {\"ReplyTime\": 42, \"MessageLength\": 8.333333333333334}, {\"ReplyTime\": 43, \"MessageLength\": 12.3}, {\"ReplyTime\": 44, \"MessageLength\": 21.166666666666668}, {\"ReplyTime\": 45, \"MessageLength\": 8.818181818181818}, {\"ReplyTime\": 46, \"MessageLength\": 16.0}, {\"ReplyTime\": 47, \"MessageLength\": 7.4}, {\"ReplyTime\": 48, \"MessageLength\": 10.0}, {\"ReplyTime\": 49, \"MessageLength\": 11.428571428571429}, {\"ReplyTime\": 50, \"MessageLength\": 13.666666666666666}, {\"ReplyTime\": 51, \"MessageLength\": 10.4}, {\"ReplyTime\": 52, \"MessageLength\": 2.0}, {\"ReplyTime\": 53, \"MessageLength\": 36.0}, {\"ReplyTime\": 54, \"MessageLength\": 6.0}, {\"ReplyTime\": 55, \"MessageLength\": 4.0}, {\"ReplyTime\": 56, \"MessageLength\": 7.8}, {\"ReplyTime\": 57, \"MessageLength\": 5.75}, {\"ReplyTime\": 58, \"MessageLength\": 7.153846153846154}, {\"ReplyTime\": 59, \"MessageLength\": 6.666666666666667}, {\"ReplyTime\": 60, \"MessageLength\": 2.0}, {\"ReplyTime\": 61, \"MessageLength\": 21.0}, {\"ReplyTime\": 63, \"MessageLength\": 3.0}, {\"ReplyTime\": 64, \"MessageLength\": 10.0}, {\"ReplyTime\": 65, \"MessageLength\": 19.5}, {\"ReplyTime\": 66, \"MessageLength\": 26.0}, {\"ReplyTime\": 67, \"MessageLength\": 13.5}, {\"ReplyTime\": 68, \"MessageLength\": 12.0}, {\"ReplyTime\": 69, \"MessageLength\": 9.0}, {\"ReplyTime\": 70, \"MessageLength\": 1.0}, {\"ReplyTime\": 71, \"MessageLength\": 15.0}, {\"ReplyTime\": 72, \"MessageLength\": 13.666666666666666}, {\"ReplyTime\": 73, \"MessageLength\": 2.6666666666666665}, {\"ReplyTime\": 74, \"MessageLength\": 12.2}, {\"ReplyTime\": 75, \"MessageLength\": 9.333333333333334}, {\"ReplyTime\": 76, \"MessageLength\": 12.666666666666666}, {\"ReplyTime\": 78, \"MessageLength\": 19.0}, {\"ReplyTime\": 79, \"MessageLength\": 3.0}, {\"ReplyTime\": 80, \"MessageLength\": 3.0}, {\"ReplyTime\": 81, \"MessageLength\": 19.0}, {\"ReplyTime\": 82, \"MessageLength\": 162.33333333333334}, {\"ReplyTime\": 83, \"MessageLength\": 3.0}, {\"ReplyTime\": 84, \"MessageLength\": 15.0}, {\"ReplyTime\": 86, \"MessageLength\": 11.333333333333334}, {\"ReplyTime\": 87, \"MessageLength\": 13.333333333333334}, {\"ReplyTime\": 90, \"MessageLength\": 9.5}, {\"ReplyTime\": 91, \"MessageLength\": 29.0}, {\"ReplyTime\": 92, \"MessageLength\": 11.666666666666666}, {\"ReplyTime\": 93, \"MessageLength\": 28.0}, {\"ReplyTime\": 96, \"MessageLength\": 2.0}, {\"ReplyTime\": 97, \"MessageLength\": 16.0}, {\"ReplyTime\": 98, \"MessageLength\": 3.0}, {\"ReplyTime\": 99, \"MessageLength\": 43.0}, {\"ReplyTime\": 100, \"MessageLength\": 3.0}, {\"ReplyTime\": 102, \"MessageLength\": 13.0}, {\"ReplyTime\": 103, \"MessageLength\": 3.0}, {\"ReplyTime\": 104, \"MessageLength\": 54.0}, {\"ReplyTime\": 105, \"MessageLength\": 12.0}, {\"ReplyTime\": 106, \"MessageLength\": 17.5}, {\"ReplyTime\": 108, \"MessageLength\": 14.0}, {\"ReplyTime\": 109, \"MessageLength\": 18.5}, {\"ReplyTime\": 110, \"MessageLength\": 4.5}, {\"ReplyTime\": 111, \"MessageLength\": 3.0}, {\"ReplyTime\": 113, \"MessageLength\": 65.0}, {\"ReplyTime\": 114, \"MessageLength\": 84.0}, {\"ReplyTime\": 115, \"MessageLength\": 7.0}, {\"ReplyTime\": 116, \"MessageLength\": 12.0}, {\"ReplyTime\": 118, \"MessageLength\": 5.333333333333333}, {\"ReplyTime\": 119, \"MessageLength\": 2.0}, {\"ReplyTime\": 120, \"MessageLength\": 23.0}, {\"ReplyTime\": 122, \"MessageLength\": 3.0}, {\"ReplyTime\": 124, \"MessageLength\": 22.0}, {\"ReplyTime\": 126, \"MessageLength\": 16.333333333333332}, {\"ReplyTime\": 127, \"MessageLength\": 6.5}, {\"ReplyTime\": 128, \"MessageLength\": 52.0}, {\"ReplyTime\": 129, \"MessageLength\": 27.0}, {\"ReplyTime\": 130, \"MessageLength\": 3.0}, {\"ReplyTime\": 131, \"MessageLength\": 10.5}, {\"ReplyTime\": 133, \"MessageLength\": 5.0}, {\"ReplyTime\": 134, \"MessageLength\": 12.0}, {\"ReplyTime\": 135, \"MessageLength\": 3.0}, {\"ReplyTime\": 137, \"MessageLength\": 3.0}, {\"ReplyTime\": 138, \"MessageLength\": 17.0}, {\"ReplyTime\": 139, \"MessageLength\": 3.0}, {\"ReplyTime\": 140, \"MessageLength\": 10.0}, {\"ReplyTime\": 143, \"MessageLength\": 6.666666666666667}, {\"ReplyTime\": 144, \"MessageLength\": 3.0}, {\"ReplyTime\": 145, \"MessageLength\": 10.0}, {\"ReplyTime\": 146, \"MessageLength\": 3.0}, {\"ReplyTime\": 147, \"MessageLength\": 8.0}, {\"ReplyTime\": 148, \"MessageLength\": 3.0}, {\"ReplyTime\": 149, \"MessageLength\": 2.5}, {\"ReplyTime\": 150, \"MessageLength\": 10.0}, {\"ReplyTime\": 151, \"MessageLength\": 2.5}, {\"ReplyTime\": 153, \"MessageLength\": 4.333333333333333}, {\"ReplyTime\": 156, \"MessageLength\": 16.5}, {\"ReplyTime\": 158, \"MessageLength\": 5.0}, {\"ReplyTime\": 159, \"MessageLength\": 8.0}, {\"ReplyTime\": 160, \"MessageLength\": 11.333333333333334}, {\"ReplyTime\": 161, \"MessageLength\": 3.0}, {\"ReplyTime\": 163, \"MessageLength\": 7.0}, {\"ReplyTime\": 164, \"MessageLength\": 12.0}, {\"ReplyTime\": 168, \"MessageLength\": 3.0}, {\"ReplyTime\": 169, \"MessageLength\": 3.0}, {\"ReplyTime\": 173, \"MessageLength\": 4.0}, {\"ReplyTime\": 175, \"MessageLength\": 13.666666666666666}, {\"ReplyTime\": 180, \"MessageLength\": 4.666666666666667}, {\"ReplyTime\": 181, \"MessageLength\": 623.0}, {\"ReplyTime\": 183, \"MessageLength\": 2.0}, {\"ReplyTime\": 184, \"MessageLength\": 2.0}, {\"ReplyTime\": 185, \"MessageLength\": 4.0}, {\"ReplyTime\": 186, \"MessageLength\": 6.0}, {\"ReplyTime\": 187, \"MessageLength\": 8.333333333333334}, {\"ReplyTime\": 188, \"MessageLength\": 3.0}, {\"ReplyTime\": 189, \"MessageLength\": 5.0}, {\"ReplyTime\": 191, \"MessageLength\": 18.5}, {\"ReplyTime\": 192, \"MessageLength\": 3.0}, {\"ReplyTime\": 193, \"MessageLength\": 11.0}, {\"ReplyTime\": 194, \"MessageLength\": 3.0}, {\"ReplyTime\": 196, \"MessageLength\": 3.0}, {\"ReplyTime\": 197, \"MessageLength\": 17.0}, {\"ReplyTime\": 198, \"MessageLength\": 13.0}, {\"ReplyTime\": 199, \"MessageLength\": 3.0}, {\"ReplyTime\": 200, \"MessageLength\": 4.5}, {\"ReplyTime\": 201, \"MessageLength\": 20.0}, {\"ReplyTime\": 204, \"MessageLength\": 3.0}, {\"ReplyTime\": 206, \"MessageLength\": 1.0}, {\"ReplyTime\": 207, \"MessageLength\": 2.0}, {\"ReplyTime\": 209, \"MessageLength\": 3.0}, {\"ReplyTime\": 213, \"MessageLength\": 3.0}, {\"ReplyTime\": 215, \"MessageLength\": 3.0}, {\"ReplyTime\": 217, \"MessageLength\": 1.0}, {\"ReplyTime\": 218, \"MessageLength\": 12.0}, {\"ReplyTime\": 221, \"MessageLength\": 1.0}, {\"ReplyTime\": 224, \"MessageLength\": 13.666666666666666}, {\"ReplyTime\": 226, \"MessageLength\": 3.6666666666666665}, {\"ReplyTime\": 227, \"MessageLength\": 3.0}, {\"ReplyTime\": 230, \"MessageLength\": 3.0}, {\"ReplyTime\": 233, \"MessageLength\": 12.0}, {\"ReplyTime\": 234, \"MessageLength\": 3.0}, {\"ReplyTime\": 236, \"MessageLength\": 3.0}, {\"ReplyTime\": 237, \"MessageLength\": 10.0}, {\"ReplyTime\": 238, \"MessageLength\": 14.333333333333334}, {\"ReplyTime\": 241, \"MessageLength\": 2.0}, {\"ReplyTime\": 250, \"MessageLength\": 7.0}, {\"ReplyTime\": 252, \"MessageLength\": 9.0}, {\"ReplyTime\": 255, \"MessageLength\": 3.0}, {\"ReplyTime\": 256, \"MessageLength\": 9.0}, {\"ReplyTime\": 260, \"MessageLength\": 27.0}, {\"ReplyTime\": 261, \"MessageLength\": 15.0}, {\"ReplyTime\": 264, \"MessageLength\": 3.0}, {\"ReplyTime\": 267, \"MessageLength\": 3.0}, {\"ReplyTime\": 268, \"MessageLength\": 3.0}, {\"ReplyTime\": 269, \"MessageLength\": 3.0}, {\"ReplyTime\": 274, \"MessageLength\": 2.0}, {\"ReplyTime\": 275, \"MessageLength\": 8.0}, {\"ReplyTime\": 277, \"MessageLength\": 3.0}, {\"ReplyTime\": 278, \"MessageLength\": 1.0}, {\"ReplyTime\": 279, \"MessageLength\": 7.0}, {\"ReplyTime\": 280, \"MessageLength\": 3.0}, {\"ReplyTime\": 282, \"MessageLength\": 1.0}, {\"ReplyTime\": 284, \"MessageLength\": 3.0}, {\"ReplyTime\": 289, \"MessageLength\": 17.0}, {\"ReplyTime\": 291, \"MessageLength\": 9.0}, {\"ReplyTime\": 298, \"MessageLength\": 2.0}, {\"ReplyTime\": 301, \"MessageLength\": 5.0}, {\"ReplyTime\": 303, \"MessageLength\": 12.0}, {\"ReplyTime\": 304, \"MessageLength\": 12.0}, {\"ReplyTime\": 310, \"MessageLength\": 19.5}, {\"ReplyTime\": 313, \"MessageLength\": 10.0}, {\"ReplyTime\": 316, \"MessageLength\": 21.0}, {\"ReplyTime\": 321, \"MessageLength\": 35.0}, {\"ReplyTime\": 324, \"MessageLength\": 11.0}, {\"ReplyTime\": 327, \"MessageLength\": 4.0}, {\"ReplyTime\": 330, \"MessageLength\": 2.0}, {\"ReplyTime\": 332, \"MessageLength\": 3.0}, {\"ReplyTime\": 333, \"MessageLength\": 3.0}, {\"ReplyTime\": 334, \"MessageLength\": 6.0}, {\"ReplyTime\": 344, \"MessageLength\": 2.0}, {\"ReplyTime\": 345, \"MessageLength\": 14.0}, {\"ReplyTime\": 346, \"MessageLength\": 3.0}, {\"ReplyTime\": 348, \"MessageLength\": 3.0}, {\"ReplyTime\": 350, \"MessageLength\": 23.0}, {\"ReplyTime\": 351, \"MessageLength\": 3.0}, {\"ReplyTime\": 352, \"MessageLength\": 13.5}, {\"ReplyTime\": 354, \"MessageLength\": 27.0}, {\"ReplyTime\": 356, \"MessageLength\": 11.5}, {\"ReplyTime\": 357, \"MessageLength\": 32.0}, {\"ReplyTime\": 359, \"MessageLength\": 3.0}, {\"ReplyTime\": 363, \"MessageLength\": 3.0}, {\"ReplyTime\": 364, \"MessageLength\": 3.0}, {\"ReplyTime\": 367, \"MessageLength\": 3.0}, {\"ReplyTime\": 374, \"MessageLength\": 15.0}, {\"ReplyTime\": 376, \"MessageLength\": 8.0}, {\"ReplyTime\": 380, \"MessageLength\": 15.0}, {\"ReplyTime\": 389, \"MessageLength\": 7.0}, {\"ReplyTime\": 391, \"MessageLength\": 2.0}, {\"ReplyTime\": 400, \"MessageLength\": 7.0}, {\"ReplyTime\": 401, \"MessageLength\": 8.0}, {\"ReplyTime\": 407, \"MessageLength\": 3.0}, {\"ReplyTime\": 410, \"MessageLength\": 9.0}, {\"ReplyTime\": 417, \"MessageLength\": 85.0}, {\"ReplyTime\": 420, \"MessageLength\": 3.0}, {\"ReplyTime\": 421, \"MessageLength\": 3.0}, {\"ReplyTime\": 423, \"MessageLength\": 3.0}, {\"ReplyTime\": 427, \"MessageLength\": 2.0}, {\"ReplyTime\": 430, \"MessageLength\": 64.0}, {\"ReplyTime\": 431, \"MessageLength\": 11.0}, {\"ReplyTime\": 433, \"MessageLength\": 3.0}, {\"ReplyTime\": 435, \"MessageLength\": 3.0}, {\"ReplyTime\": 436, \"MessageLength\": 3.0}, {\"ReplyTime\": 437, \"MessageLength\": 3.5}, {\"ReplyTime\": 441, \"MessageLength\": 7.0}, {\"ReplyTime\": 442, \"MessageLength\": 3.0}, {\"ReplyTime\": 444, \"MessageLength\": 18.0}, {\"ReplyTime\": 448, \"MessageLength\": 4.0}, {\"ReplyTime\": 455, \"MessageLength\": 14.0}, {\"ReplyTime\": 459, \"MessageLength\": 8.0}, {\"ReplyTime\": 461, \"MessageLength\": 19.0}, {\"ReplyTime\": 467, \"MessageLength\": 2.0}, {\"ReplyTime\": 468, \"MessageLength\": 3.0}, {\"ReplyTime\": 469, \"MessageLength\": 3.0}, {\"ReplyTime\": 475, \"MessageLength\": 14.0}, {\"ReplyTime\": 486, \"MessageLength\": 3.0}, {\"ReplyTime\": 490, \"MessageLength\": 3.0}, {\"ReplyTime\": 494, \"MessageLength\": 16.0}, {\"ReplyTime\": 495, \"MessageLength\": 10.0}, {\"ReplyTime\": 502, \"MessageLength\": 29.0}, {\"ReplyTime\": 506, \"MessageLength\": 2.0}, {\"ReplyTime\": 512, \"MessageLength\": 9.0}, {\"ReplyTime\": 515, \"MessageLength\": 3.0}, {\"ReplyTime\": 521, \"MessageLength\": 13.0}, {\"ReplyTime\": 522, \"MessageLength\": 7.0}, {\"ReplyTime\": 524, \"MessageLength\": 12.0}, {\"ReplyTime\": 527, \"MessageLength\": 6.0}, {\"ReplyTime\": 537, \"MessageLength\": 3.0}, {\"ReplyTime\": 545, \"MessageLength\": 6.0}, {\"ReplyTime\": 549, \"MessageLength\": 16.0}, {\"ReplyTime\": 551, \"MessageLength\": 4.0}, {\"ReplyTime\": 557, \"MessageLength\": 3.0}, {\"ReplyTime\": 566, \"MessageLength\": 3.0}, {\"ReplyTime\": 570, \"MessageLength\": 6.0}, {\"ReplyTime\": 573, \"MessageLength\": 31.0}, {\"ReplyTime\": 576, \"MessageLength\": 23.0}, {\"ReplyTime\": 588, \"MessageLength\": 14.5}, {\"ReplyTime\": 590, \"MessageLength\": 40.0}, {\"ReplyTime\": 592, \"MessageLength\": 3.0}, {\"ReplyTime\": 599, \"MessageLength\": 2.0}, {\"ReplyTime\": 602, \"MessageLength\": 2.0}, {\"ReplyTime\": 611, \"MessageLength\": 2.0}, {\"ReplyTime\": 615, \"MessageLength\": 4.0}, {\"ReplyTime\": 617, \"MessageLength\": 4.0}, {\"ReplyTime\": 619, \"MessageLength\": 3.0}, {\"ReplyTime\": 623, \"MessageLength\": 2.0}, {\"ReplyTime\": 624, \"MessageLength\": 3.0}, {\"ReplyTime\": 626, \"MessageLength\": 3.0}, {\"ReplyTime\": 628, \"MessageLength\": 13.0}, {\"ReplyTime\": 642, \"MessageLength\": 1.0}, {\"ReplyTime\": 644, \"MessageLength\": 9.0}, {\"ReplyTime\": 645, \"MessageLength\": 6.0}, {\"ReplyTime\": 654, \"MessageLength\": 13.0}, {\"ReplyTime\": 659, \"MessageLength\": 29.0}, {\"ReplyTime\": 660, \"MessageLength\": 3.0}, {\"ReplyTime\": 665, \"MessageLength\": 7.0}, {\"ReplyTime\": 667, \"MessageLength\": 3.0}, {\"ReplyTime\": 671, \"MessageLength\": 22.0}, {\"ReplyTime\": 677, \"MessageLength\": 10.0}, {\"ReplyTime\": 678, \"MessageLength\": 3.0}, {\"ReplyTime\": 686, \"MessageLength\": 32.0}, {\"ReplyTime\": 691, \"MessageLength\": 7.0}, {\"ReplyTime\": 695, \"MessageLength\": 55.0}, {\"ReplyTime\": 696, \"MessageLength\": 10.0}, {\"ReplyTime\": 701, \"MessageLength\": 3.0}, {\"ReplyTime\": 709, \"MessageLength\": 27.0}, {\"ReplyTime\": 713, \"MessageLength\": 8.0}, {\"ReplyTime\": 721, \"MessageLength\": 5.0}, {\"ReplyTime\": 729, \"MessageLength\": 26.0}, {\"ReplyTime\": 730, \"MessageLength\": 3.0}, {\"ReplyTime\": 738, \"MessageLength\": 13.0}, {\"ReplyTime\": 751, \"MessageLength\": 20.0}, {\"ReplyTime\": 758, \"MessageLength\": 6.0}, {\"ReplyTime\": 759, \"MessageLength\": 8.0}, {\"ReplyTime\": 763, \"MessageLength\": 2.0}, {\"ReplyTime\": 767, \"MessageLength\": 6.0}, {\"ReplyTime\": 782, \"MessageLength\": 6.0}, {\"ReplyTime\": 789, \"MessageLength\": 3.0}, {\"ReplyTime\": 790, \"MessageLength\": 27.0}, {\"ReplyTime\": 793, \"MessageLength\": 3.0}, {\"ReplyTime\": 794, \"MessageLength\": 3.0}, {\"ReplyTime\": 804, \"MessageLength\": 2.5}, {\"ReplyTime\": 811, \"MessageLength\": 5.0}, {\"ReplyTime\": 816, \"MessageLength\": 3.0}, {\"ReplyTime\": 821, \"MessageLength\": 13.0}, {\"ReplyTime\": 836, \"MessageLength\": 10.0}, {\"ReplyTime\": 846, \"MessageLength\": 3.0}, {\"ReplyTime\": 850, \"MessageLength\": 4.0}, {\"ReplyTime\": 861, \"MessageLength\": 3.0}, {\"ReplyTime\": 867, \"MessageLength\": 19.0}, {\"ReplyTime\": 868, \"MessageLength\": 11.0}, {\"ReplyTime\": 877, \"MessageLength\": 15.0}, {\"ReplyTime\": 878, \"MessageLength\": 22.0}, {\"ReplyTime\": 888, \"MessageLength\": 8.0}, {\"ReplyTime\": 893, \"MessageLength\": 3.0}, {\"ReplyTime\": 903, \"MessageLength\": 6.0}, {\"ReplyTime\": 904, \"MessageLength\": 2.0}, {\"ReplyTime\": 908, \"MessageLength\": 12.0}, {\"ReplyTime\": 911, \"MessageLength\": 2.0}, {\"ReplyTime\": 913, \"MessageLength\": 27.0}, {\"ReplyTime\": 915, \"MessageLength\": 13.0}, {\"ReplyTime\": 918, \"MessageLength\": 15.0}, {\"ReplyTime\": 920, \"MessageLength\": 27.0}, {\"ReplyTime\": 925, \"MessageLength\": 3.0}, {\"ReplyTime\": 954, \"MessageLength\": 43.0}, {\"ReplyTime\": 966, \"MessageLength\": 3.0}, {\"ReplyTime\": 974, \"MessageLength\": 1492.0}, {\"ReplyTime\": 977, \"MessageLength\": 5.0}, {\"ReplyTime\": 982, \"MessageLength\": 49.0}, {\"ReplyTime\": 985, \"MessageLength\": 34.0}, {\"ReplyTime\": 999, \"MessageLength\": 3.0}, {\"ReplyTime\": 1006, \"MessageLength\": 3.0}, {\"ReplyTime\": 1007, \"MessageLength\": 7.0}, {\"ReplyTime\": 1021, \"MessageLength\": 3.0}, {\"ReplyTime\": 1028, \"MessageLength\": 1.0}, {\"ReplyTime\": 1032, \"MessageLength\": 60.0}, {\"ReplyTime\": 1042, \"MessageLength\": 15.5}, {\"ReplyTime\": 1048, \"MessageLength\": 9.0}, {\"ReplyTime\": 1050, \"MessageLength\": 6.0}, {\"ReplyTime\": 1052, \"MessageLength\": 3.0}, {\"ReplyTime\": 1053, \"MessageLength\": 16.0}, {\"ReplyTime\": 1066, \"MessageLength\": 3.0}, {\"ReplyTime\": 1085, \"MessageLength\": 6.0}, {\"ReplyTime\": 1089, \"MessageLength\": 35.0}, {\"ReplyTime\": 1090, \"MessageLength\": 2.0}, {\"ReplyTime\": 1092, \"MessageLength\": 3.0}, {\"ReplyTime\": 1095, \"MessageLength\": 4.0}, {\"ReplyTime\": 1099, \"MessageLength\": 14.0}, {\"ReplyTime\": 1109, \"MessageLength\": 27.0}, {\"ReplyTime\": 1114, \"MessageLength\": 29.0}, {\"ReplyTime\": 1121, \"MessageLength\": 12.0}, {\"ReplyTime\": 1165, \"MessageLength\": 1.0}, {\"ReplyTime\": 1166, \"MessageLength\": 3.0}, {\"ReplyTime\": 1187, \"MessageLength\": 14.0}, {\"ReplyTime\": 1191, \"MessageLength\": 3.0}, {\"ReplyTime\": 1209, \"MessageLength\": 3.0}, {\"ReplyTime\": 1213, \"MessageLength\": 2.0}, {\"ReplyTime\": 1218, \"MessageLength\": 177.0}, {\"ReplyTime\": 1228, \"MessageLength\": 14.0}, {\"ReplyTime\": 1258, \"MessageLength\": 11.0}, {\"ReplyTime\": 1269, \"MessageLength\": 17.0}, {\"ReplyTime\": 1282, \"MessageLength\": 21.5}, {\"ReplyTime\": 1286, \"MessageLength\": 9.0}, {\"ReplyTime\": 1287, \"MessageLength\": 8.0}, {\"ReplyTime\": 1289, \"MessageLength\": 1.0}, {\"ReplyTime\": 1305, \"MessageLength\": 2.0}, {\"ReplyTime\": 1312, \"MessageLength\": 16.0}, {\"ReplyTime\": 1330, \"MessageLength\": 18.0}, {\"ReplyTime\": 1332, \"MessageLength\": 11.0}, {\"ReplyTime\": 1338, \"MessageLength\": 5.0}, {\"ReplyTime\": 1347, \"MessageLength\": 4.0}, {\"ReplyTime\": 1436, \"MessageLength\": 11.0}, {\"ReplyTime\": 1437, \"MessageLength\": 14.0}, {\"ReplyTime\": 1449, \"MessageLength\": 17.0}, {\"ReplyTime\": 1462, \"MessageLength\": 3.0}, {\"ReplyTime\": 1474, \"MessageLength\": 3.0}, {\"ReplyTime\": 1486, \"MessageLength\": 1.0}, {\"ReplyTime\": 1491, \"MessageLength\": 3.0}, {\"ReplyTime\": 1511, \"MessageLength\": 8.0}, {\"ReplyTime\": 1517, \"MessageLength\": 3.0}, {\"ReplyTime\": 1520, \"MessageLength\": 20.0}, {\"ReplyTime\": 1534, \"MessageLength\": 3.0}, {\"ReplyTime\": 1535, \"MessageLength\": 1.0}, {\"ReplyTime\": 1538, \"MessageLength\": 3.0}, {\"ReplyTime\": 1551, \"MessageLength\": 3.0}, {\"ReplyTime\": 1568, \"MessageLength\": 9.0}, {\"ReplyTime\": 1599, \"MessageLength\": 6.0}, {\"ReplyTime\": 1602, \"MessageLength\": 10.0}, {\"ReplyTime\": 1606, \"MessageLength\": 21.0}, {\"ReplyTime\": 1618, \"MessageLength\": 354.0}, {\"ReplyTime\": 1626, \"MessageLength\": 18.0}, {\"ReplyTime\": 1633, \"MessageLength\": 4.0}, {\"ReplyTime\": 1654, \"MessageLength\": 30.0}, {\"ReplyTime\": 1667, \"MessageLength\": 11.0}, {\"ReplyTime\": 1685, \"MessageLength\": 1.0}, {\"ReplyTime\": 1701, \"MessageLength\": 4.0}, {\"ReplyTime\": 1705, \"MessageLength\": 3.0}, {\"ReplyTime\": 1716, \"MessageLength\": 16.0}, {\"ReplyTime\": 1725, \"MessageLength\": 1.0}, {\"ReplyTime\": 1729, \"MessageLength\": 1.0}, {\"ReplyTime\": 1745, \"MessageLength\": 22.0}, {\"ReplyTime\": 1755, \"MessageLength\": 3.0}, {\"ReplyTime\": 1765, \"MessageLength\": 3.0}, {\"ReplyTime\": 1769, \"MessageLength\": 3.0}, {\"ReplyTime\": 1774, \"MessageLength\": 31.0}, {\"ReplyTime\": 1819, \"MessageLength\": 11.0}, {\"ReplyTime\": 1825, \"MessageLength\": 3.0}, {\"ReplyTime\": 1827, \"MessageLength\": 16.0}, {\"ReplyTime\": 1845, \"MessageLength\": 2.0}, {\"ReplyTime\": 1866, \"MessageLength\": 15.0}, {\"ReplyTime\": 1871, \"MessageLength\": 3.0}, {\"ReplyTime\": 1879, \"MessageLength\": 3.0}, {\"ReplyTime\": 1895, \"MessageLength\": 1.0}, {\"ReplyTime\": 1901, \"MessageLength\": 2.0}, {\"ReplyTime\": 1925, \"MessageLength\": 30.0}, {\"ReplyTime\": 1942, \"MessageLength\": 9.0}, {\"ReplyTime\": 1949, \"MessageLength\": 12.0}, {\"ReplyTime\": 1959, \"MessageLength\": 3.0}, {\"ReplyTime\": 1965, \"MessageLength\": 15.0}, {\"ReplyTime\": 1977, \"MessageLength\": 25.0}, {\"ReplyTime\": 1985, \"MessageLength\": 3.0}, {\"ReplyTime\": 1992, \"MessageLength\": 2.0}, {\"ReplyTime\": 2000, \"MessageLength\": 6.0}, {\"ReplyTime\": 2005, \"MessageLength\": 24.0}, {\"ReplyTime\": 2022, \"MessageLength\": 11.0}, {\"ReplyTime\": 2045, \"MessageLength\": 3.0}, {\"ReplyTime\": 2056, \"MessageLength\": 2.5}, {\"ReplyTime\": 2059, \"MessageLength\": 22.0}, {\"ReplyTime\": 2129, \"MessageLength\": 20.0}, {\"ReplyTime\": 2142, \"MessageLength\": 5.0}, {\"ReplyTime\": 2155, \"MessageLength\": 3.0}, {\"ReplyTime\": 2163, \"MessageLength\": 2.0}, {\"ReplyTime\": 2240, \"MessageLength\": 31.0}, {\"ReplyTime\": 2243, \"MessageLength\": 15.0}, {\"ReplyTime\": 2345, \"MessageLength\": 3.0}, {\"ReplyTime\": 2365, \"MessageLength\": 41.0}, {\"ReplyTime\": 2372, \"MessageLength\": 3.0}, {\"ReplyTime\": 2399, \"MessageLength\": 3.0}, {\"ReplyTime\": 2415, \"MessageLength\": 12.0}, {\"ReplyTime\": 2426, \"MessageLength\": 3.0}, {\"ReplyTime\": 2464, \"MessageLength\": 3.0}, {\"ReplyTime\": 2504, \"MessageLength\": 2.0}, {\"ReplyTime\": 2517, \"MessageLength\": 3.0}, {\"ReplyTime\": 2521, \"MessageLength\": 6.0}, {\"ReplyTime\": 2525, \"MessageLength\": 3.0}, {\"ReplyTime\": 2534, \"MessageLength\": 3.0}, {\"ReplyTime\": 2543, \"MessageLength\": 2.0}, {\"ReplyTime\": 2578, \"MessageLength\": 3.0}, {\"ReplyTime\": 2586, \"MessageLength\": 2.0}, {\"ReplyTime\": 2636, \"MessageLength\": 3.0}, {\"ReplyTime\": 2679, \"MessageLength\": 3.0}, {\"ReplyTime\": 2696, \"MessageLength\": 3.0}, {\"ReplyTime\": 2753, \"MessageLength\": 1.0}, {\"ReplyTime\": 2767, \"MessageLength\": 1.0}, {\"ReplyTime\": 2781, \"MessageLength\": 5.0}, {\"ReplyTime\": 2791, \"MessageLength\": 5.0}, {\"ReplyTime\": 2812, \"MessageLength\": 11.0}, {\"ReplyTime\": 2831, \"MessageLength\": 6.0}, {\"ReplyTime\": 2862, \"MessageLength\": 10.0}, {\"ReplyTime\": 2893, \"MessageLength\": 20.0}, {\"ReplyTime\": 2896, \"MessageLength\": 3.0}, {\"ReplyTime\": 2966, \"MessageLength\": 17.0}, {\"ReplyTime\": 2984, \"MessageLength\": 6.0}, {\"ReplyTime\": 3011, \"MessageLength\": 4.0}, {\"ReplyTime\": 3023, \"MessageLength\": 17.0}, {\"ReplyTime\": 3261, \"MessageLength\": 15.0}, {\"ReplyTime\": 3267, \"MessageLength\": 9.0}, {\"ReplyTime\": 3286, \"MessageLength\": 8.0}, {\"ReplyTime\": 3291, \"MessageLength\": 2.0}, {\"ReplyTime\": 3308, \"MessageLength\": 2.0}, {\"ReplyTime\": 3309, \"MessageLength\": 2.0}, {\"ReplyTime\": 3331, \"MessageLength\": 17.0}, {\"ReplyTime\": 3359, \"MessageLength\": 2.0}, {\"ReplyTime\": 3469, \"MessageLength\": 7.0}, {\"ReplyTime\": 3608, \"MessageLength\": 18.0}, {\"ReplyTime\": 3631, \"MessageLength\": 3.0}, {\"ReplyTime\": 3662, \"MessageLength\": 3.0}, {\"ReplyTime\": 3764, \"MessageLength\": 3.0}, {\"ReplyTime\": 3765, \"MessageLength\": 4.0}, {\"ReplyTime\": 3805, \"MessageLength\": 30.0}, {\"ReplyTime\": 3822, \"MessageLength\": 10.0}, {\"ReplyTime\": 3836, \"MessageLength\": 1.0}, {\"ReplyTime\": 3858, \"MessageLength\": 379.0}, {\"ReplyTime\": 3898, \"MessageLength\": 11.0}, {\"ReplyTime\": 3932, \"MessageLength\": 8.0}, {\"ReplyTime\": 3947, \"MessageLength\": 3.0}, {\"ReplyTime\": 4004, \"MessageLength\": 3.0}, {\"ReplyTime\": 4012, \"MessageLength\": 1.0}, {\"ReplyTime\": 4051, \"MessageLength\": 7.0}, {\"ReplyTime\": 4057, \"MessageLength\": 3.0}, {\"ReplyTime\": 4120, \"MessageLength\": 3.0}, {\"ReplyTime\": 4121, \"MessageLength\": 17.0}, {\"ReplyTime\": 4139, \"MessageLength\": 2.0}, {\"ReplyTime\": 4156, \"MessageLength\": 13.5}, {\"ReplyTime\": 4166, \"MessageLength\": 5.0}, {\"ReplyTime\": 4256, \"MessageLength\": 19.0}, {\"ReplyTime\": 4273, \"MessageLength\": 20.0}, {\"ReplyTime\": 4314, \"MessageLength\": 3.0}, {\"ReplyTime\": 4405, \"MessageLength\": 2.0}, {\"ReplyTime\": 4411, \"MessageLength\": 29.0}, {\"ReplyTime\": 4447, \"MessageLength\": 4.0}, {\"ReplyTime\": 4477, \"MessageLength\": 6.0}, {\"ReplyTime\": 4496, \"MessageLength\": 15.0}, {\"ReplyTime\": 4614, \"MessageLength\": 7.0}, {\"ReplyTime\": 4631, \"MessageLength\": 3.0}, {\"ReplyTime\": 4641, \"MessageLength\": 11.0}, {\"ReplyTime\": 4653, \"MessageLength\": 19.0}, {\"ReplyTime\": 4702, \"MessageLength\": 9.0}, {\"ReplyTime\": 4859, \"MessageLength\": 3.0}, {\"ReplyTime\": 4898, \"MessageLength\": 3.0}, {\"ReplyTime\": 4948, \"MessageLength\": 3.0}, {\"ReplyTime\": 5019, \"MessageLength\": 13.0}, {\"ReplyTime\": 5049, \"MessageLength\": 28.0}, {\"ReplyTime\": 5053, \"MessageLength\": 47.0}, {\"ReplyTime\": 5065, \"MessageLength\": 3.0}, {\"ReplyTime\": 5143, \"MessageLength\": 1.0}, {\"ReplyTime\": 5286, \"MessageLength\": 3.0}, {\"ReplyTime\": 5301, \"MessageLength\": 15.0}, {\"ReplyTime\": 5357, \"MessageLength\": 3.0}, {\"ReplyTime\": 5364, \"MessageLength\": 17.0}, {\"ReplyTime\": 5453, \"MessageLength\": 17.0}, {\"ReplyTime\": 5495, \"MessageLength\": 3.0}, {\"ReplyTime\": 5539, \"MessageLength\": 3.0}, {\"ReplyTime\": 5588, \"MessageLength\": 8.0}, {\"ReplyTime\": 5654, \"MessageLength\": 3.0}, {\"ReplyTime\": 5655, \"MessageLength\": 3.0}, {\"ReplyTime\": 5687, \"MessageLength\": 12.0}, {\"ReplyTime\": 5703, \"MessageLength\": 3.0}, {\"ReplyTime\": 5760, \"MessageLength\": 3.0}, {\"ReplyTime\": 5803, \"MessageLength\": 2.0}, {\"ReplyTime\": 5821, \"MessageLength\": 21.0}, {\"ReplyTime\": 5835, \"MessageLength\": 3.0}, {\"ReplyTime\": 5862, \"MessageLength\": 32.0}, {\"ReplyTime\": 5895, \"MessageLength\": 13.0}, {\"ReplyTime\": 5908, \"MessageLength\": 3.0}, {\"ReplyTime\": 5983, \"MessageLength\": 10.0}, {\"ReplyTime\": 6025, \"MessageLength\": 32.0}, {\"ReplyTime\": 6032, \"MessageLength\": 24.0}, {\"ReplyTime\": 6099, \"MessageLength\": 3.0}, {\"ReplyTime\": 6298, \"MessageLength\": 8.0}, {\"ReplyTime\": 6331, \"MessageLength\": 10.0}, {\"ReplyTime\": 6370, \"MessageLength\": 3.0}, {\"ReplyTime\": 6406, \"MessageLength\": 3.0}, {\"ReplyTime\": 6463, \"MessageLength\": 3.0}, {\"ReplyTime\": 6489, \"MessageLength\": 3.0}, {\"ReplyTime\": 6640, \"MessageLength\": 21.0}, {\"ReplyTime\": 6740, \"MessageLength\": 3.0}, {\"ReplyTime\": 6798, \"MessageLength\": 5.0}, {\"ReplyTime\": 6806, \"MessageLength\": 12.0}, {\"ReplyTime\": 6943, \"MessageLength\": 3.0}, {\"ReplyTime\": 6955, \"MessageLength\": 10.0}, {\"ReplyTime\": 7027, \"MessageLength\": 15.0}, {\"ReplyTime\": 7052, \"MessageLength\": 3.0}, {\"ReplyTime\": 7123, \"MessageLength\": 3.0}, {\"ReplyTime\": 7124, \"MessageLength\": 3.0}, {\"ReplyTime\": 7146, \"MessageLength\": 2.0}, {\"ReplyTime\": 7161, \"MessageLength\": 5.0}, {\"ReplyTime\": 7248, \"MessageLength\": 8.0}, {\"ReplyTime\": 7289, \"MessageLength\": 27.0}, {\"ReplyTime\": 7304, \"MessageLength\": 4.0}, {\"ReplyTime\": 7305, \"MessageLength\": 8.0}, {\"ReplyTime\": 7341, \"MessageLength\": 3.0}, {\"ReplyTime\": 7349, \"MessageLength\": 25.0}, {\"ReplyTime\": 7534, \"MessageLength\": 18.0}, {\"ReplyTime\": 7624, \"MessageLength\": 23.0}, {\"ReplyTime\": 7844, \"MessageLength\": 3.0}, {\"ReplyTime\": 7994, \"MessageLength\": 21.0}, {\"ReplyTime\": 8054, \"MessageLength\": 2.0}, {\"ReplyTime\": 8074, \"MessageLength\": 14.0}, {\"ReplyTime\": 8096, \"MessageLength\": 6.0}, {\"ReplyTime\": 8413, \"MessageLength\": 20.0}, {\"ReplyTime\": 8421, \"MessageLength\": 23.0}, {\"ReplyTime\": 8465, \"MessageLength\": 4.0}, {\"ReplyTime\": 8672, \"MessageLength\": 18.0}, {\"ReplyTime\": 8758, \"MessageLength\": 3.0}, {\"ReplyTime\": 8814, \"MessageLength\": 3.0}, {\"ReplyTime\": 8924, \"MessageLength\": 3.0}, {\"ReplyTime\": 9053, \"MessageLength\": 2.0}, {\"ReplyTime\": 9204, \"MessageLength\": 42.0}, {\"ReplyTime\": 9282, \"MessageLength\": 29.0}, {\"ReplyTime\": 9463, \"MessageLength\": 3.0}, {\"ReplyTime\": 9469, \"MessageLength\": 5.0}, {\"ReplyTime\": 9512, \"MessageLength\": 3.0}, {\"ReplyTime\": 9534, \"MessageLength\": 2.0}, {\"ReplyTime\": 9839, \"MessageLength\": 21.0}, {\"ReplyTime\": 9902, \"MessageLength\": 20.0}, {\"ReplyTime\": 10462, \"MessageLength\": 1.0}, {\"ReplyTime\": 10524, \"MessageLength\": 9.0}, {\"ReplyTime\": 10544, \"MessageLength\": 5.0}, {\"ReplyTime\": 10812, \"MessageLength\": 3.0}, {\"ReplyTime\": 11101, \"MessageLength\": 2.0}, {\"ReplyTime\": 11218, \"MessageLength\": 2.0}, {\"ReplyTime\": 11404, \"MessageLength\": 3.0}, {\"ReplyTime\": 11787, \"MessageLength\": 36.0}, {\"ReplyTime\": 11937, \"MessageLength\": 48.0}, {\"ReplyTime\": 11996, \"MessageLength\": 3.0}, {\"ReplyTime\": 12022, \"MessageLength\": 2.0}, {\"ReplyTime\": 12271, \"MessageLength\": 3.0}, {\"ReplyTime\": 12334, \"MessageLength\": 1.0}, {\"ReplyTime\": 12368, \"MessageLength\": 5.0}, {\"ReplyTime\": 12661, \"MessageLength\": 3.0}, {\"ReplyTime\": 12866, \"MessageLength\": 13.0}, {\"ReplyTime\": 12981, \"MessageLength\": 3.0}, {\"ReplyTime\": 13062, \"MessageLength\": 2.0}, {\"ReplyTime\": 13066, \"MessageLength\": 3.0}, {\"ReplyTime\": 13886, \"MessageLength\": 3.0}, {\"ReplyTime\": 13902, \"MessageLength\": 3.0}, {\"ReplyTime\": 13913, \"MessageLength\": 5.0}, {\"ReplyTime\": 13935, \"MessageLength\": 7.0}, {\"ReplyTime\": 14172, \"MessageLength\": 21.0}, {\"ReplyTime\": 14816, \"MessageLength\": 3.0}, {\"ReplyTime\": 15964, \"MessageLength\": 2.0}, {\"ReplyTime\": 16400, \"MessageLength\": 1.0}, {\"ReplyTime\": 16427, \"MessageLength\": 3.0}, {\"ReplyTime\": 16793, \"MessageLength\": 1.0}, {\"ReplyTime\": 16853, \"MessageLength\": 28.0}, {\"ReplyTime\": 16861, \"MessageLength\": 5.0}, {\"ReplyTime\": 16903, \"MessageLength\": 2.0}, {\"ReplyTime\": 17200, \"MessageLength\": 2.0}, {\"ReplyTime\": 17202, \"MessageLength\": 5.0}, {\"ReplyTime\": 17227, \"MessageLength\": 12.0}, {\"ReplyTime\": 17478, \"MessageLength\": 3.0}, {\"ReplyTime\": 17851, \"MessageLength\": 39.0}, {\"ReplyTime\": 18078, \"MessageLength\": 3.0}, {\"ReplyTime\": 18106, \"MessageLength\": 12.0}, {\"ReplyTime\": 18285, \"MessageLength\": 6.0}, {\"ReplyTime\": 18592, \"MessageLength\": 1.0}, {\"ReplyTime\": 18862, \"MessageLength\": 129.0}, {\"ReplyTime\": 18891, \"MessageLength\": 24.0}, {\"ReplyTime\": 19186, \"MessageLength\": 3.0}, {\"ReplyTime\": 19442, \"MessageLength\": 11.0}, {\"ReplyTime\": 20094, \"MessageLength\": 2.0}, {\"ReplyTime\": 20349, \"MessageLength\": 8.0}, {\"ReplyTime\": 20356, \"MessageLength\": 2.0}, {\"ReplyTime\": 20372, \"MessageLength\": 3.0}, {\"ReplyTime\": 20673, \"MessageLength\": 736.0}, {\"ReplyTime\": 21409, \"MessageLength\": 21.0}, {\"ReplyTime\": 22660, \"MessageLength\": 3.0}, {\"ReplyTime\": 23153, \"MessageLength\": 15.0}, {\"ReplyTime\": 23758, \"MessageLength\": 2.0}, {\"ReplyTime\": 23778, \"MessageLength\": 3.0}, {\"ReplyTime\": 24637, \"MessageLength\": 3.0}, {\"ReplyTime\": 24864, \"MessageLength\": 3.0}, {\"ReplyTime\": 25305, \"MessageLength\": 3.0}, {\"ReplyTime\": 25667, \"MessageLength\": 2.0}, {\"ReplyTime\": 26182, \"MessageLength\": 17.0}, {\"ReplyTime\": 27804, \"MessageLength\": 17.0}, {\"ReplyTime\": 28289, \"MessageLength\": 2.0}, {\"ReplyTime\": 29043, \"MessageLength\": 10.0}, {\"ReplyTime\": 30163, \"MessageLength\": 7.0}, {\"ReplyTime\": 33034, \"MessageLength\": 21.0}, {\"ReplyTime\": 33957, \"MessageLength\": 18.0}, {\"ReplyTime\": 33962, \"MessageLength\": 3.0}, {\"ReplyTime\": 36031, \"MessageLength\": 13.0}, {\"ReplyTime\": 36815, \"MessageLength\": 1.0}, {\"ReplyTime\": 37721, \"MessageLength\": 5.0}, {\"ReplyTime\": 42037, \"MessageLength\": 3.0}, {\"ReplyTime\": 43294, \"MessageLength\": 15.0}, {\"ReplyTime\": 43684, \"MessageLength\": 7.0}, {\"ReplyTime\": 45646, \"MessageLength\": 2.0}, {\"ReplyTime\": 46109, \"MessageLength\": 17.0}, {\"ReplyTime\": 48267, \"MessageLength\": 14.0}, {\"ReplyTime\": 48655, \"MessageLength\": 4.0}, {\"ReplyTime\": 49941, \"MessageLength\": 1.0}, {\"ReplyTime\": 51503, \"MessageLength\": 8.0}, {\"ReplyTime\": 53922, \"MessageLength\": 3.0}, {\"ReplyTime\": 54555, \"MessageLength\": 11.0}, {\"ReplyTime\": 71336, \"MessageLength\": 15.0}, {\"ReplyTime\": 74939, \"MessageLength\": 2.0}, {\"ReplyTime\": 76113, \"MessageLength\": 6.0}, {\"ReplyTime\": 78600, \"MessageLength\": 1.0}, {\"ReplyTime\": 79521, \"MessageLength\": 9.0}, {\"ReplyTime\": 82921, \"MessageLength\": 3.0}, {\"ReplyTime\": 84173, \"MessageLength\": 6.0}, {\"ReplyTime\": 86334, \"MessageLength\": 3.0}, {\"ReplyTime\": 87794, \"MessageLength\": 10.0}, {\"ReplyTime\": 90658, \"MessageLength\": 8.0}, {\"ReplyTime\": 96982, \"MessageLength\": 11.0}, {\"ReplyTime\": 97515, \"MessageLength\": 2.0}, {\"ReplyTime\": 98925, \"MessageLength\": 6.0}, {\"ReplyTime\": 106848, \"MessageLength\": 2.0}, {\"ReplyTime\": 116119, \"MessageLength\": 4.0}, {\"ReplyTime\": 130890, \"MessageLength\": 5.0}, {\"ReplyTime\": 136187, \"MessageLength\": 8.0}, {\"ReplyTime\": 150521, \"MessageLength\": 3.0}, {\"ReplyTime\": 155055, \"MessageLength\": 26.0}, {\"ReplyTime\": 165301, \"MessageLength\": 4.0}, {\"ReplyTime\": 174208, \"MessageLength\": 4.0}, {\"ReplyTime\": 180522, \"MessageLength\": 14.0}, {\"ReplyTime\": 186766, \"MessageLength\": 34.0}, {\"ReplyTime\": 199523, \"MessageLength\": 32.0}, {\"ReplyTime\": 254683, \"MessageLength\": 3.0}, {\"ReplyTime\": 260159, \"MessageLength\": 3.0}, {\"ReplyTime\": 272953, \"MessageLength\": 15.0}, {\"ReplyTime\": 328342, \"MessageLength\": 2.0}, {\"ReplyTime\": 353075, \"MessageLength\": 3.0}, {\"ReplyTime\": 511688, \"MessageLength\": 3.0}, {\"ReplyTime\": 949739, \"MessageLength\": 1.0}, {\"ReplyTime\": 2890046, \"MessageLength\": 3.0}, {\"ReplyTime\": 6048005, \"MessageLength\": 3.0}]}}, {\"mode\": \"vega-lite\"});\n",
       "</script>"
      ],
      "text/plain": [
       "alt.Chart(...)"
      ]
     },
     "execution_count": 11,
     "metadata": {},
     "output_type": "execute_result"
    }
   ],
   "source": [
    "# Plot: Reply time sec on x-axis, radius of mark_circle avg message length\n",
    "\n",
    "# Create DataFrame for plotting\n",
    "reply_time_word_length = basic_info[dialog_id.value][user_id.value]['reply_time_word_length']\n",
    "plotting_data = pd.DataFrame({'ReplyTime': list(reply_time_word_length.keys()),\n",
    "                              'MessageLength': list(reply_time_word_length.values())}).sort_values(by='ReplyTime')\n",
    "\n",
    "alt.Chart(plotting_data).mark_circle().encode(\n",
    "    alt.X('ReplyTime:Q',),\n",
    "    size='MessageLength:Q'\n",
    ").properties(\n",
    "    width=800,\n",
    "    height=300\n",
    ")\n"
   ]
  },
  {
   "cell_type": "code",
   "execution_count": null,
   "metadata": {},
   "outputs": [],
   "source": []
  },
  {
   "cell_type": "code",
   "execution_count": null,
   "metadata": {},
   "outputs": [],
   "source": []
  }
 ],
 "metadata": {
  "kernelspec": {
   "display_name": "Python 3",
   "language": "python",
   "name": "python3"
  },
  "language_info": {
   "codemirror_mode": {
    "name": "ipython",
    "version": 3
   },
   "file_extension": ".py",
   "mimetype": "text/x-python",
   "name": "python",
   "nbconvert_exporter": "python",
   "pygments_lexer": "ipython3",
   "version": "3.8.5"
  }
 },
 "nbformat": 4,
 "nbformat_minor": 4
}
