{
 "cells": [
  {
   "cell_type": "code",
   "execution_count": 1,
   "metadata": {
    "scrolled": false
   },
   "outputs": [],
   "source": [
    "import pandas as pd\n",
    "import matplotlib.pyplot as plt\n",
    "\n",
    "from datetime import datetime, timezone, timedelta"
   ]
  },
  {
   "cell_type": "code",
   "execution_count": 6,
   "metadata": {},
   "outputs": [
    {
     "name": "stdout",
     "output_type": "stream",
     "text": [
      "ua\n"
     ]
    }
   ],
   "source": [
    "data = pd.read_csv(\"data/prepared_dialogs/594508393.csv\")\n",
    "\n"
   ]
  },
  {
   "cell_type": "code",
   "execution_count": null,
   "metadata": {},
   "outputs": [],
   "source": []
  },
  {
   "cell_type": "code",
   "execution_count": null,
   "metadata": {},
   "outputs": [],
   "source": [
    "# USER_ID = ?\n",
    "\n",
    "\n",
    "def calculate_dialog_sentiment(dataframe, result_path):\n",
    "    \"\"\"\n",
    "    Calculate sentiment for each message in a dialog,\n",
    "    and add it in a new column for a particular message,\n",
    "    save result as a .csv file in {resultpath}\n",
    "    \n",
    "    Supported languages: eng, ru, ua\n",
    "    \"\"\"\n",
    "    pass\n",
    "\n",
    "    \n",
    "def visualize_user_sentiment(sentiment_data):\n",
    "    \"\"\"\n",
    "    Visualize sentiment data for a specific user\n",
    "    in a timeline (linear graph), starting at 00:00 on Monday,\n",
    "    finishing at 23:59 on Sunday\n",
    "    \"\"\"\n",
    "    pass\n",
    "    \n",
    "\n",
    "\n",
    "def detect_data_language(data):\n",
    "    key_letters = {\n",
    "        \"ua\": {\n",
    "            \"є\": 0, \"і\": 0, \"ї\": 0, \"б\": 0, \"д\": 0, \"г\": 0, \"п\": 0, \"ц\": 0, \"я\": 0, \"ю\": 0,\n",
    "            \"total\": 0\n",
    "        },\n",
    "        \"ru\": {\n",
    "            \"ё\": 0, \"б\": 0, \"д\": 0, \"г\": 0, \"п\": 0, \"ц\": 0, \"я\": 0, \"ю\": 0, \"ы\": 0, \"э\": 0,\n",
    "            \"total\": 0\n",
    "        },\n",
    "        \"en\": {\n",
    "            \"d\": 0, \"f\": 0, \"g\": 0, \"j\": 0, \"q\": 0, \"r\": 0, \"s\": 0, \"v\": 0, \"w\": 0, \"z\": 0,\n",
    "            \"total\": 0\n",
    "        }\n",
    "    }\n",
    "    dialog_step_msgs = []\n",
    "    if data.index[-1] < 149:\n",
    "        msgs_step = 1\n",
    "\n",
    "    else:\n",
    "        # in such way with msgs_step I can get 150 messages\n",
    "        # which are at the different parts of the dialog, so\n",
    "        # when I analyse there 150 msgs I can get a real language\n",
    "        msgs_step = data.index[-1] // 150\n",
    "\n",
    "    for i in range(0, data.index[-1], msgs_step):\n",
    "        dialog_step_msgs.append(data['message'][i])\n",
    "\n",
    "    for msg in dialog_step_msgs:\n",
    "        if not pd.isnull(msg):\n",
    "            for letter in msg:\n",
    "                if letter in key_letters[\"ua\"]:\n",
    "                    lang = \"ua\"\n",
    "                    key_letters[lang][letter] += 1\n",
    "\n",
    "                if letter in key_letters[\"ru\"]:\n",
    "                    lang = \"ru\"\n",
    "                    key_letters[lang][letter] += 1\n",
    "\n",
    "                elif letter in key_letters[\"en\"]:\n",
    "                    lang = \"en\"\n",
    "                    key_letters[lang][letter] += 1\n",
    "\n",
    "    # get total sum of all values in languages dicts\n",
    "    # in key_letters to detect the most common language\n",
    "    mx_total, mx_total_lang = 0, ''\n",
    "    for lang in key_letters.keys():\n",
    "        key_letters[lang][\"total\"] = sum(key_letters[lang].values())\n",
    "        if key_letters[lang][\"total\"] >= mx_total:\n",
    "            mx_total_lang = lang\n",
    "            mx_total = key_letters[lang][\"total\"]\n",
    "\n",
    "    return mx_total_lang"
   ]
  },
  {
   "cell_type": "code",
   "execution_count": null,
   "metadata": {},
   "outputs": [],
   "source": []
  },
  {
   "cell_type": "code",
   "execution_count": 3,
   "metadata": {},
   "outputs": [],
   "source": [
    "def tsv_to_dict(tsv_path=\"dicts/tone-dict-uk.tsv\"):\n",
    "    \"\"\"\n",
    "    Convert downloaded .tsv with word tonality to\n",
    "    python dict\n",
    "    \"\"\"\n",
    "    sentiment_data = pd.read_csv(tsv_path, sep=\"\\t\")\n",
    "    sentiment_dict = dict(zip(sentiment_data.iloc[:, 0], sentiment_data.iloc[:, 1]))\n",
    "\n",
    "    return sentiment_dict \n",
    "    \n",
    "    \n",
    "def is_date_after(check_date, days_ago = 365):\n",
    "    \"\"\"\n",
    "    Check if {days_ago} date < {check_date} < current date\n",
    "    \"\"\"\n",
    "    date_today = datetime.now(timezone.utc)\n",
    "    days_ago = timedelta(days = days_ago)\n",
    "    final_date = date_today - days_ago\n",
    "    if check_date > final_date:\n",
    "        return True\n",
    "    return False\n",
    "\n",
    "\n",
    "def divide_and_prepare_data(data, days_ago = 365):\n",
    "    \"\"\"\n",
    "    Divide messages by User and Day of the week\n",
    "    \"\"\"\n",
    "    prepped_data = {}\n",
    "    for index, row in data.iterrows():\n",
    "        \n",
    "        msg_date = datetime.fromisoformat(row['date'])\n",
    "        if not is_date_after(msg_date, days_ago):\n",
    "            break\n",
    "        if not row['from_id'] in prepped_data:\n",
    "            prepped_data[row['from_id']] = {\n",
    "                day_num : set() for day_num in range(1, 8)\n",
    "            }\n",
    "        \n",
    "        msg_week_day = msg_date.isoweekday()\n",
    "        prepped_data[row['from_id']][msg_week_day].add(row['message'])\n",
    "        \n",
    "    return prepped_data\n",
    "    \n",
    "    \n",
    "def sentiment_text_analysis(data, sentiment_dict_path=\"dicts/tone-dict-uk.tsv\"):\n",
    "    \"\"\"\n",
    "    Calculate sentiment of each word, and store the result\n",
    "    as a sentiment for a specific week day (of a specific user)\n",
    "    \n",
    "    P.S Messages that are not in word_dict are perceived as Neutral (sentiment = 0)\n",
    "    \"\"\"\n",
    "    sentiment_result = {}\n",
    "    text_data = divide_and_prepare_data(data)\n",
    "    word_dict = tsv_to_dict(sentiment_dict_path)\n",
    "    for user_id in text_data:\n",
    "        \n",
    "        if not user_id in sentiment_result:\n",
    "            sentiment_result[user_id] = {\n",
    "                day_num : 0 for day_num in range(1, 8)\n",
    "            }\n",
    "        \n",
    "        for day_number in text_data[user_id]:\n",
    "            \n",
    "            score = 0\n",
    "            \n",
    "            while text_data[user_id][day_number]:\n",
    "                \n",
    "                msg = text_data[user_id][day_number].pop()\n",
    "\n",
    "                if isinstance(msg, str):\n",
    "                    tokens = msg.strip().split()\n",
    "                    for token in tokens:\n",
    "                        if token.lower() in word_dict:\n",
    "                            score += word_dict[token.lower()]\n",
    "                 \n",
    "            sentiment_result[user_id][day_number] = score\n",
    "            \n",
    "            \n",
    "    return sentiment_result\n",
    "    \n",
    "    \n",
    "def plot_sentiment_analysis_results(result_data):\n",
    "    \n",
    "    days = [\"Mon\", \"Tue\", \"Wed\", \"Thu\", \"Fri\", \"Sat\", \"Sun\"]\n",
    "    \n",
    "    for user_id, sentiment_info in result_data.items():\n",
    "            \n",
    "        sentiment_values = list(sentiment_info.values())\n",
    "        positions = list(sentiment_info.keys())\n",
    "        \n",
    "        fig = plt.figure(figsize=(10,8))\n",
    "        plt.style.use(\"seaborn-muted\")\n",
    "        plt.bar(positions, sentiment_values)\n",
    "        plt.ylabel('Relative sentiment of messages')\n",
    "        plt.xticks(positions, days)\n",
    "        plt.title(f\"Sentiment for user with ID {user_id}\")\n",
    "        plt.show()\n",
    "\n",
    "\n"
   ]
  },
  {
   "cell_type": "code",
   "execution_count": 4,
   "metadata": {},
   "outputs": [
    {
     "data": {
      "image/png": "[encoded data removed]",
      "text/plain": [
       "<Figure size 720x576 with 1 Axes>"
      ]
     },
     "metadata": {
      "needs_background": "light"
     },
     "output_type": "display_data"
    },
    {
     "data": {
      "image/png": "[encoded data removed]",
      "text/plain": [
       "<Figure size 720x576 with 1 Axes>"
      ]
     },
     "metadata": {
      "needs_background": "light"
     },
     "output_type": "display_data"
    }
   ],
   "source": [
    "result = sentiment_text_analysis(data)\n",
    "plot_sentiment_analysis_results(result)"
   ]
  },
  {
   "cell_type": "code",
   "execution_count": null,
   "metadata": {},
   "outputs": [],
   "source": [
    "# TODO: add plot for sentiment by hours for a week. start 00:00 mon - end sun 23:59, it should be curve line\n",
    "# TODO: plot same graph for all dialogs\n",
    "# TODO: add a new column to the dialog DF - sentiment - it should be measurment of the sentiment for current message, it should work with ukrainian, english and russian languages\n"
   ]
  }
 ],
 "metadata": {
  "kernelspec": {
   "display_name": "Python 3",
   "language": "python",
   "name": "python3"
  },
  "language_info": {
   "codemirror_mode": {
    "name": "ipython",
    "version": 3
   },
   "file_extension": ".py",
   "mimetype": "text/x-python",
   "name": "python",
   "nbconvert_exporter": "python",
   "pygments_lexer": "ipython3",
   "version": "3.7.4"
  }
 },
 "nbformat": 4,
 "nbformat_minor": 4
}
