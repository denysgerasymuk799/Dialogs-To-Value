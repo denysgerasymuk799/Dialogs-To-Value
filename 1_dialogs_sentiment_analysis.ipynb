{
 "cells": [
  {
   "cell_type": "code",
   "execution_count": 39,
   "metadata": {
    "scrolled": false
   },
   "outputs": [],
   "source": [
    "import pandas as pd\n",
    "import matplotlib.pyplot as plt\n",
    "from textblob import TextBlob\n",
    "from googletrans import Translator\n",
    "\n",
    "from datetime import datetime, timezone, timedelta"
   ]
  },
  {
   "cell_type": "code",
   "execution_count": 40,
   "metadata": {},
   "outputs": [],
   "source": [
    "data = pd.read_csv(\"data/processed_dialog_files/general_dialogs_df.csv\")\n",
    "\n"
   ]
  },
  {
   "cell_type": "code",
   "execution_count": 72,
   "metadata": {},
   "outputs": [
    {
     "data": {
      "text/plain": [
       "5"
      ]
     },
     "execution_count": 72,
     "metadata": {},
     "output_type": "execute_result"
    }
   ],
   "source": []
  },
  {
   "cell_type": "code",
   "execution_count": 91,
   "metadata": {
    "scrolled": true
   },
   "outputs": [
    {
     "name": "stdout",
     "output_type": "stream",
     "text": [
      "{'hour': 14, 'day': 1}\n",
      "{138918380: {0: {1: 0.213, 2: 0.278, 3: 0.318, 4: 0.287, 5: 0.465, 6: 0.0, 7: 0.284, 8: 0.415, 9: 0.133, 10: 0.315, 11: 0.212, 12: 0.226, 13: -0.029, 14: 0.0, 15: 0.0, 16: 0.263, 17: -0.05, 18: 0.205, 19: 0.465, 20: 0.474, 21: 0.377, 22: 0.35, 23: 0.534, 24: 0.246, 25: 0.36, 26: 0.031, 27: 0.177, 28: 0.37, 29: 0.0, 30: 0.258, 31: 0.186, 32: 0.055, 33: 0.271, 34: 0.0, 35: -0.001}}, 511986933: {0: {1: 0.257, 2: -0.046, 3: 0.373, 4: 0.955, 5: 0.39, 6: 0.416, 7: 0.0, 8: 0.282, 9: 0.318, 10: 0.0, 11: 0.378, 12: 0.189, 13: 0.0, 15: 0.0, 16: 0.387, 17: 0.0, 18: 0.134, 19: 0.312, 20: 0.34, 21: 0.198, 22: 0.304, 23: 0.412, 24: 0.389, 25: 0.39, 26: 0.012, 27: 0.311, 28: 0.451, 29: 0.24, 30: 0.201, 31: 0.108, 32: 0.08, 33: 0.468, 34: 0.0, 35: 0.186}, 1: {1: 0.34, 2: 0.414, 3: 0.188, 4: 0.346, 5: 0.0, 6: 0.258, 7: 0.0, 8: 0.276, 9: 0.286, 10: 0.028, 11: 0.295, 12: 0.102, 13: 0.368, 14: 0.012, 15: 0.214, 16: 0.293, 17: 0.282, 18: 0.342, 19: 0.392, 20: 0.033, 21: 0.162, 22: 0.348, 23: 0.048, 24: 0.156, 25: 0.389, 26: 0.646, 27: 0.16, 28: 0.333, 29: 0.245}}, 347963763: {1: {1: 0.161, 2: 0.377, 3: 0.391, 4: 0.233, 5: 0.019, 6: 0.277, 7: 0.407, 8: 0.231, 9: 0.32, 10: 0.264, 11: 0.327, 12: 0.123, 13: 0.17, 14: 0.48, 15: 0.297, 16: 0.42, 17: 0.284, 18: 0.224, 19: 0.0, 20: 0.137, 21: 0.199, 22: 0.347, 23: 0.425, 24: 0.0, 25: 0.002, 26: 0.0, 27: 0.33, 28: 0.295, 29: 0.239}}}\n"
     ]
    }
   ],
   "source": [
    "# TODO: Move these functions to utils/ \n",
    "\n",
    "def get_ua_tonality_dict(dict_path=\"dicts/tone-dict-ua.csv\"):\n",
    "    \"\"\"\n",
    "    Read dictionary of ukrainian words tonality and\n",
    "    return is a a python dict\n",
    "    \"\"\"\n",
    "    sentiment_data = pd.read_csv(dict_path)\n",
    "    sentiment_dict = dict(zip(sentiment_data.iloc[:, 1], sentiment_data.iloc[:, 3]))\n",
    "\n",
    "    return sentiment_dict \n",
    "\n",
    "def get_ru_tonality_dict(dict_path=\"dicts/tone-dict-ru.csv\"):\n",
    "    \"\"\"\n",
    "    Read dictionary of russian words tonality and\n",
    "    return is a a python dict\n",
    "    \"\"\"\n",
    "    sentiment_data = pd.read_csv(dict_path, sep=\";\")\n",
    "    sentiment_dict = dict(zip(sentiment_data.iloc[:, 0], sentiment_data.iloc[:, 2]))\n",
    "    \n",
    "    return sentiment_dict \n",
    "\n",
    "\n",
    "def get_day_and_hour(date):\n",
    "    \"\"\"\n",
    "    Parse date string, \n",
    "    return hour and day of a week\n",
    "    \"\"\"\n",
    "    date = datetime.fromisoformat(date)\n",
    "    \n",
    "    return {'hour': date.hour, 'day': date.isoweekday()}\n",
    "\n",
    "# __________________________________\n",
    "\n",
    "\n",
    "tonality_dict_ua = get_ua_tonality_dict()\n",
    "tonality_dict_ru = get_ru_tonality_dict()\n",
    "\n",
    "\n",
    "def calculate_msg_sentiment(msg, lang):\n",
    "    \"\"\"\n",
    "    Calculate dictionary-base sentiment of a particular message.\n",
    "    Return average sentiment of a message.\n",
    "    \n",
    "    Works for en, ua, ru\n",
    "    \"\"\"\n",
    "    if not isinstance(msg, str):\n",
    "        return 0\n",
    "    \n",
    "    if lang == \"en\":     \n",
    "        return round(TextBlob(msg).sentiment.polarity, 4)\n",
    "    elif lang == \"ua\":\n",
    "        tonality_dict = tonality_dict_ua\n",
    "    elif lang == \"ru\":\n",
    "        tonality_dict = tonality_dict_ru\n",
    "           \n",
    "    tokenized_msg = msg.split()  \n",
    "    overall_sentiment = 0\n",
    "    words_num = 0\n",
    "    \n",
    "    for token in tokenized_msg:             \n",
    "        token_sentiment = tonality_dict.get(token.lower(), 0)\n",
    "        if token_sentiment:\n",
    "            overall_sentiment += token_sentiment\n",
    "            words_num += 1\n",
    "    \n",
    "    if not words_num:\n",
    "        return 0\n",
    "    \n",
    "    avg_sentiment = overall_sentiment / words_num\n",
    "    \n",
    "    return avg_sentiment\n",
    "\n",
    "\n",
    "\n",
    "def add_dialog_sentiment(data):\n",
    "    \"\"\"\n",
    "    Add sentiment for each message in a dialog,\n",
    "    and add it in a new column for a particular message,\n",
    "    return new dataframe\n",
    "    \n",
    "    Supported languages: eng, ru, ua\n",
    "    \"\"\"\n",
    "    data['msg_sentiment'] = data.apply(lambda x: calculate_msg_sentiment(x['preprocessed_message'], \n",
    "                                                                         x['dialog_language']), \n",
    "                                       axis=1)\n",
    "    \n",
    "    return data\n",
    "\n",
    "\n",
    "# Save dataframe with sentiment as a physical file :\n",
    "\n",
    "# result_path=\"data/processed_dialog_files/general_dialogs_sentiment.csv\"\n",
    "# add_dialog_sentiment(data).to_csv(result_path, index=False)\n",
    "    \n",
    "\n",
    "def calculate_avg_subdialog_sentiment(data):\n",
    "    \"\"\"\n",
    "    Calculate average sentiment for each subdialog in a dataframe,\n",
    "    save results in a dictionary in form of:\n",
    "    \n",
    "    {*USER_ID* : {*DIALOG_ID* : {*SUBDIALOG_ID* : *AVG_SENTIMENT*, ... }, ... }, ... }\n",
    "    \n",
    "    Return dict\n",
    "    \"\"\"\n",
    "    avg_sentiment_dict = {}\n",
    "    \n",
    "    for index, row in data.iterrows():\n",
    "\n",
    "        sender_id = row['from_id']\n",
    "        dialog_id = row['dialog ID']\n",
    "        subdialog_id = row['subdialog_id']\n",
    "        \n",
    "        if not sender_id in avg_sentiment_dict:\n",
    "            avg_sentiment_dict[sender_id] = {}\n",
    "        if not dialog_id in avg_sentiment_dict[sender_id]:\n",
    "            avg_sentiment_dict[sender_id][dialog_id] = {}\n",
    "        if not subdialog_id in avg_sentiment_dict[sender_id][dialog_id]:\n",
    "            avg_sentiment_dict[sender_id][dialog_id][subdialog_id] = set()\n",
    "            \n",
    "        avg_sentiment_dict[sender_id][dialog_id][subdialog_id].add(row['msg_sentiment'])\n",
    "    \n",
    "    for sender_id, sentiment_dict in avg_sentiment_dict.items():      \n",
    "        for dialog_id, subdialog_dict in sentiment_dict.items():\n",
    "            for subdialog_id, sentiment_set in subdialog_dict.items():\n",
    "            \n",
    "                avg_sentiment = round(sum(sentiment_set) / len(sentiment_set), 3)            \n",
    "                avg_sentiment_dict[sender_id][dialog_id][subdialog_id] = avg_sentiment\n",
    "            \n",
    "    return avg_sentiment_dict\n",
    "\n",
    "        \n",
    "\n"
   ]
  },
  {
   "cell_type": "code",
   "execution_count": 99,
   "metadata": {},
   "outputs": [
    {
     "name": "stdout",
     "output_type": "stream",
     "text": [
      "{138918380: {1: {0: 0, 1: 0, 2: 0, 3: 0, 4: 0, 5: 0, 6: 0, 7: 0, 8: 0, 9: 0, 10: 0, 11: 0, 12: 0, 13: 0.278, 14: 0.106, 15: 0, 16: 0, 17: 0, 18: 0, 19: 0, 20: 0, 21: 0.177, 22: 0, 23: 0}, 7: {0: 0, 1: 0, 2: 0, 3: 0, 4: 0, 5: 0, 6: 0.315, 7: 0, 8: 0, 9: 0.186, 10: 0.35, 11: 0, 12: 0.247, 13: 0, 14: 0, 15: 0, 16: 0, 17: 0.173, 18: 0.133, 19: 0, 20: 0.177, 21: 0, 22: 0, 23: 0}, 6: {0: 0, 1: 0, 2: 0, 3: 0, 4: 0, 5: 0, 6: 0.474, 7: 0, 8: 0.37, 9: 0.37, 10: 0.422, 11: 0.422, 12: 0.396, 13: 0.343, 14: 0.213, 15: 0.213, 16: 0.213, 17: 0.213, 18: 0.534, 19: 0.213, 20: 0.295, 21: 0.291, 22: 0, 23: 0}, 5: {0: 0, 1: 0, 2: 0, 3: 0, 4: 0, 5: -0.015, 6: 0.534, 7: 0.373, 8: 0.213, 9: 0.235, 10: 0, 11: 0.213, 12: 0.271, 13: 0.213, 14: 0.213, 15: 0.287, 16: 0.066, 17: 0.0, 18: 0.213, 19: 0.474, 20: 0, 21: 0, 22: 0, 23: 0}, 4: {0: 0, 1: 0, 2: 0, 3: 0, 4: 0, 5: 0, 6: 0, 7: 0, 8: 0.0, 9: 0.213, 10: 0.465, 11: 0, 12: 0.212, 13: 0.229, 14: 0.465, 15: 0.339, 16: 0, 17: 0, 18: 0.339, 19: 0.465, 20: 0, 21: 0.265, 22: 0, 23: 0}, 3: {0: 0, 1: 0, 2: 0, 3: 0, 4: 0, 5: 0, 6: 0.077, 7: 0, 8: -0.001, 9: 0.212, 10: 0, 11: 0.213, 12: 0.263, 13: 0.213, 14: 0, 15: 0, 16: 0, 17: 0, 18: 0.233, 19: 0, 20: 0, 21: 0.415, 22: 0, 23: 0}, 2: {0: 0, 1: 0, 2: 0, 3: 0, 4: 0, 5: 0, 6: 0, 7: 0, 8: 0.229, 9: 0, 10: 0, 11: 0.465, 12: 0, 13: 0.18, 14: 0.36, 15: 0, 16: 0.36, 17: 0, 18: 0, 19: 0.343, 20: 0.278, 21: 0, 22: 0, 23: 0}}, 511986933: {1: {0: 0, 1: 0, 2: 0, 3: 0, 4: 0, 5: 0, 6: 0, 7: 0.221, 8: 0.414, 9: 0, 10: 0, 11: 0.248, 12: 0.378, 13: 0.34, 14: 0.298, 15: 0.271, 16: 0.416, 17: 0, 18: 0, 19: 0, 20: 0, 21: 0.518, 22: 0, 23: 0}, 7: {0: 0, 1: 0, 2: 0, 3: 0, 4: 0, 5: 0, 6: 0.189, 7: 0.094, 8: 0.26, 9: 0, 10: 0.358, 11: 0.113, 12: 0.305, 13: 0, 14: 0.138, 15: 0.239, 16: 0.155, 17: 0.211, 18: 0.258, 19: 0.267, 20: 0.365, 21: 0, 22: 0, 23: 0}, 6: {0: 0, 1: 0, 2: 0, 3: 0, 4: 0, 5: 0.289, 6: 0.34, 7: 0.287, 8: 0.322, 9: 0.451, 10: 0.354, 11: 0.451, 12: 0.556, 13: 0.281, 14: 0.293, 15: 0.29, 16: 0.334, 17: 0.334, 18: 0.329, 19: 0.284, 20: 0.304, 21: 0.414, 22: 0, 23: 0}, 5: {0: 0, 1: 0, 2: 0, 3: 0, 4: 0, 5: 0, 6: 0.4, 7: 0.247, 8: 0.219, 9: 0.293, 10: 0.263, 11: 0.265, 12: 0.268, 13: 0.279, 14: 0.316, 15: 0.221, 16: 0.208, 17: 0.276, 18: 0, 19: 0.269, 20: 0.299, 21: 0.299, 22: 0, 23: 0}, 4: {0: 0, 1: 0, 2: 0, 3: 0, 4: 0, 5: 0, 6: 0, 7: 0, 8: 0.341, 9: 0.257, 10: 0.39, 11: 0.271, 12: 0.332, 13: 0.384, 14: 0.336, 15: 0.319, 16: 0.378, 17: 0.286, 18: 0.384, 19: 0.338, 20: 0.225, 21: 0.275, 22: 0, 23: 0}, 3: {0: 0, 1: 0, 2: 0, 3: 0, 4: 0, 5: 0, 6: 0, 7: 0.13, 8: 0.173, 9: 0.378, 10: 0.258, 11: 0.257, 12: 0.255, 13: 0.311, 14: 0, 15: 0.286, 16: 0, 17: 0.257, 18: 0.262, 19: 0.299, 20: 0.312, 21: 0.282, 22: 0, 23: 0}, 2: {0: 0, 1: 0, 2: 0, 3: 0, 4: 0, 5: 0, 6: 0.156, 7: 0.416, 8: 0.21, 9: 0.321, 10: 0, 11: 0.203, 12: 0, 13: 0.273, 14: 0.39, 15: 0, 16: 0.231, 17: 0.295, 18: 0.295, 19: 0, 20: 0.179, 21: 0.242, 22: 0, 23: 0}}, 347963763: {1: {0: 0, 1: 0, 2: 0, 3: 0, 4: 0, 5: 0.148, 6: 0.384, 7: 0.123, 8: 0.019, 9: 0, 10: 0, 11: 0.269, 12: 0, 13: 0.161, 14: 0.161, 15: 0.327, 16: 0, 17: 0.327, 18: 0.019, 19: 0, 20: 0, 21: 0, 22: 0, 23: 0}, 7: {0: 0, 1: 0, 2: 0, 3: 0, 4: 0, 5: 0, 6: 0, 7: 0.231, 8: 0.297, 9: 0.264, 10: 0.233, 11: 0, 12: 0.0, 13: 0, 14: 0.407, 15: 0, 16: 0.277, 17: 0.277, 18: 0, 19: 0, 20: 0.325, 21: 0, 22: 0, 23: 0}, 2: {0: 0, 1: 0, 2: 0, 3: 0, 4: 0, 5: 0.002, 6: 0.0, 7: 0, 8: 0.327, 9: 0.327, 10: 0.233, 11: 0.327, 12: 0.327, 13: 0.386, 14: 0, 15: 0, 16: 0.337, 17: 0.327, 18: 0.327, 19: 0, 20: 0.327, 21: 0.263, 22: 0, 23: 0}, 6: {0: 0, 1: 0, 2: 0, 3: 0, 4: 0, 5: 0, 6: 0.231, 7: 0.326, 8: 0.315, 9: 0, 10: 0.295, 11: 0.42, 12: 0, 13: 0.42, 14: 0.33, 15: 0.375, 16: 0.42, 17: 0.375, 18: 0.375, 19: 0.326, 20: 0.231, 21: 0, 22: 0, 23: 0}, 5: {0: 0, 1: 0, 2: 0, 3: 0, 4: 0, 5: 0, 6: 0.302, 7: 0.302, 8: 0.261, 9: 0.261, 10: 0.261, 11: 0.261, 12: 0.251, 13: 0.258, 14: 0.258, 15: 0.231, 16: 0.231, 17: 0.235, 18: 0.258, 19: 0.258, 20: 0.258, 21: 0.258, 22: 0.284, 23: 0}, 4: {0: 0, 1: 0, 2: 0, 3: 0, 4: 0, 5: 0, 6: 0.32, 7: 0, 8: 0, 9: 0, 10: 0.32, 11: 0.32, 12: 0.302, 13: 0.284, 14: 0.302, 15: 0.32, 16: 0.302, 17: 0.284, 18: 0.32, 19: 0.32, 20: 0.32, 21: 0.32, 22: 0, 23: 0}, 3: {0: 0, 1: 0, 2: 0, 3: 0, 4: 0, 5: 0.199, 6: 0, 7: 0.201, 8: 0, 9: 0, 10: 0.0, 11: 0, 12: 0.32, 13: 0.32, 14: 0.32, 15: 0.32, 16: 0, 17: 0, 18: 0, 19: 0.224, 20: 0.224, 21: 0, 22: 0, 23: 0}}}\n"
     ]
    }
   ],
   "source": [
    "\n",
    "def calculate_sentiment_by_hour_and_day(data, avg_sentiment_dict):\n",
    "    \"\"\"\n",
    "    Calculate sentiment by day of the week and hour\n",
    "    for each user.\n",
    "    \n",
    "    Sentiment for a particular message is the average sentiment\n",
    "    for a message in a particular dialog and subdialog (data from \n",
    "    avg_sentiment_dict)\n",
    "     \n",
    "    Return dict with data ready for visualization\n",
    "    \"\"\"\n",
    "    sentiment_by_time = {}\n",
    "    \n",
    "    for index, row in data.iterrows():\n",
    "     \n",
    "        msg_date_data = get_day_and_hour(row['date'])\n",
    "        \n",
    "        sender_id = row['from_id']\n",
    "        day_of_week = msg_date_data['day']\n",
    "        hour = msg_date_data['hour']\n",
    "               \n",
    "        dialog_id = row['dialog ID']\n",
    "        subdialog_id = row['subdialog_id']\n",
    "        sentiment = avg_sentiment_dict[sender_id][dialog_id][subdialog_id]\n",
    "    \n",
    "        if not sender_id in sentiment_by_time:\n",
    "            sentiment_by_time[sender_id] = {}\n",
    "        if not day_of_week in sentiment_by_time[sender_id]:\n",
    "            sentiment_by_time[sender_id][day_of_week] = {hr : set() for hr in range(24)}\n",
    "            \n",
    "        sentiment_by_time[sender_id][day_of_week][hour].add(sentiment)\n",
    "        \n",
    "    for sender_id, sentiment_timeline_dict in sentiment_by_time.items():\n",
    "        for day_of_week, hour_data in sentiment_timeline_dict.items():\n",
    "            for hour in hour_data:\n",
    "                try:\n",
    "                    hour_data[hour] = round(sum(hour_data[hour]) / len(hour_data[hour]), 3)\n",
    "                except ZeroDivisionError:\n",
    "                    hour_data[hour] = 0\n",
    "                    \n",
    "    return sentiment_by_time\n",
    "\n",
    "\n",
    "sent_data = add_dialog_sentiment(data) \n",
    "avg_sent = calculate_avg_subdialog_sentiment(sent_data)\n",
    "sentiment_data_by_hours = calculate_sentiment_by_hour_and_day(data, avg_sent)\n",
    "\n",
    "print(sentiment_data_by_hours)"
   ]
  },
  {
   "cell_type": "code",
   "execution_count": 101,
   "metadata": {},
   "outputs": [
    {
     "name": "stdout",
     "output_type": "stream",
     "text": [
      "{1: {0: 0, 1: 0, 2: 0, 3: 0, 4: 0, 5: 0, 6: 0, 7: 0.221, 8: 0.414, 9: 0, 10: 0, 11: 0.248, 12: 0.378, 13: 0.34, 14: 0.298, 15: 0.271, 16: 0.416, 17: 0, 18: 0, 19: 0, 20: 0, 21: 0.518, 22: 0, 23: 0}, 7: {0: 0, 1: 0, 2: 0, 3: 0, 4: 0, 5: 0, 6: 0.189, 7: 0.094, 8: 0.26, 9: 0, 10: 0.358, 11: 0.113, 12: 0.305, 13: 0, 14: 0.138, 15: 0.239, 16: 0.155, 17: 0.211, 18: 0.258, 19: 0.267, 20: 0.365, 21: 0, 22: 0, 23: 0}, 6: {0: 0, 1: 0, 2: 0, 3: 0, 4: 0, 5: 0.289, 6: 0.34, 7: 0.287, 8: 0.322, 9: 0.451, 10: 0.354, 11: 0.451, 12: 0.556, 13: 0.281, 14: 0.293, 15: 0.29, 16: 0.334, 17: 0.334, 18: 0.329, 19: 0.284, 20: 0.304, 21: 0.414, 22: 0, 23: 0}, 5: {0: 0, 1: 0, 2: 0, 3: 0, 4: 0, 5: 0, 6: 0.4, 7: 0.247, 8: 0.219, 9: 0.293, 10: 0.263, 11: 0.265, 12: 0.268, 13: 0.279, 14: 0.316, 15: 0.221, 16: 0.208, 17: 0.276, 18: 0, 19: 0.269, 20: 0.299, 21: 0.299, 22: 0, 23: 0}, 4: {0: 0, 1: 0, 2: 0, 3: 0, 4: 0, 5: 0, 6: 0, 7: 0, 8: 0.341, 9: 0.257, 10: 0.39, 11: 0.271, 12: 0.332, 13: 0.384, 14: 0.336, 15: 0.319, 16: 0.378, 17: 0.286, 18: 0.384, 19: 0.338, 20: 0.225, 21: 0.275, 22: 0, 23: 0}, 3: {0: 0, 1: 0, 2: 0, 3: 0, 4: 0, 5: 0, 6: 0, 7: 0.13, 8: 0.173, 9: 0.378, 10: 0.258, 11: 0.257, 12: 0.255, 13: 0.311, 14: 0, 15: 0.286, 16: 0, 17: 0.257, 18: 0.262, 19: 0.299, 20: 0.312, 21: 0.282, 22: 0, 23: 0}, 2: {0: 0, 1: 0, 2: 0, 3: 0, 4: 0, 5: 0, 6: 0.156, 7: 0.416, 8: 0.21, 9: 0.321, 10: 0, 11: 0.203, 12: 0, 13: 0.273, 14: 0.39, 15: 0, 16: 0.231, 17: 0.295, 18: 0.295, 19: 0, 20: 0.179, 21: 0.242, 22: 0, 23: 0}}\n"
     ]
    }
   ],
   "source": [
    "def visualize_user_sentiment(sentiment_data, user_id):\n",
    "    \"\"\"\n",
    "    Visualize sentiment data for a specific user\n",
    "    in a timeline (linear graph), starting at 00:00 on Monday,\n",
    "    finishing at 23:59 on Sunday\n",
    "    \"\"\"\n",
    "    print(sentiment_data[user_id])\n",
    "    \n",
    "    \n",
    "visualize_user_sentiment(sentiment_data_by_hours, 511986933)"
   ]
  },
  {
   "cell_type": "code",
   "execution_count": null,
   "metadata": {},
   "outputs": [],
   "source": []
  },
  {
   "cell_type": "code",
   "execution_count": null,
   "metadata": {},
   "outputs": [],
   "source": []
  },
  {
   "cell_type": "code",
   "execution_count": null,
   "metadata": {},
   "outputs": [],
   "source": []
  },
  {
   "cell_type": "code",
   "execution_count": null,
   "metadata": {},
   "outputs": [],
   "source": [
    "# Don't know if that below will ever be used "
   ]
  },
  {
   "cell_type": "code",
   "execution_count": null,
   "metadata": {},
   "outputs": [],
   "source": [
    "def is_date_after(check_date, days_ago = 365):\n",
    "    \"\"\"\n",
    "    Check if {days_ago} date < {check_date} < current date\n",
    "    \"\"\"\n",
    "    date_today = datetime.now(timezone.utc)\n",
    "    days_ago = timedelta(days = days_ago)\n",
    "    final_date = date_today - days_ago\n",
    "    if check_date > final_date:\n",
    "        return True\n",
    "    return False\n",
    "\n",
    "\n",
    "def divide_and_prepare_data(data, days_ago = 365):\n",
    "    \"\"\"\n",
    "    Divide messages by User and Day of the week\n",
    "    \"\"\"\n",
    "    prepped_data = {}\n",
    "    for index, row in data.iterrows():\n",
    "        \n",
    "        msg_date = datetime.fromisoformat(row['date'])\n",
    "        if not is_date_after(msg_date, days_ago):\n",
    "            break\n",
    "        if not row['from_id'] in prepped_data:\n",
    "            prepped_data[row['from_id']] = {\n",
    "                day_num : set() for day_num in range(1, 8)\n",
    "            }\n",
    "        \n",
    "        msg_week_day = msg_date.isoweekday()\n",
    "        prepped_data[row['from_id']][msg_week_day].add(row['message'])\n",
    "        \n",
    "    return prepped_data\n",
    "    \n",
    "    \n",
    "def sentiment_text_analysis(data, sentiment_dict_path=\"dicts/tone-dict-uk.tsv\"):\n",
    "    \"\"\"\n",
    "    Calculate sentiment of each word, and store the result\n",
    "    as a sentiment for a specific week day (of a specific user)\n",
    "    \n",
    "    P.S Messages that are not in word_dict are perceived as Neutral (sentiment = 0)\n",
    "    \"\"\"\n",
    "    sentiment_result = {}\n",
    "    text_data = divide_and_prepare_data(data)\n",
    "    word_dict = tsv_to_dict(sentiment_dict_path)\n",
    "    for user_id in text_data:\n",
    "        \n",
    "        if not user_id in sentiment_result:\n",
    "            sentiment_result[user_id] = {\n",
    "                day_num : 0 for day_num in range(1, 8)\n",
    "            }\n",
    "        \n",
    "        for day_number in text_data[user_id]:\n",
    "            \n",
    "            score = 0\n",
    "            \n",
    "            while text_data[user_id][day_number]:\n",
    "                \n",
    "                msg = text_data[user_id][day_number].pop()\n",
    "\n",
    "                if isinstance(msg, str):\n",
    "                    tokens = msg.strip().split()\n",
    "                    for token in tokens:\n",
    "                        if token.lower() in word_dict:\n",
    "                            score += word_dict[token.lower()]\n",
    "                 \n",
    "            sentiment_result[user_id][day_number] = score\n",
    "            \n",
    "            \n",
    "    return sentiment_result\n",
    "    \n",
    "    \n",
    "def plot_sentiment_analysis_results(result_data):\n",
    "    \n",
    "    days = [\"Mon\", \"Tue\", \"Wed\", \"Thu\", \"Fri\", \"Sat\", \"Sun\"]\n",
    "    \n",
    "    for user_id, sentiment_info in result_data.items():\n",
    "            \n",
    "        sentiment_values = list(sentiment_info.values())\n",
    "        positions = list(sentiment_info.keys())\n",
    "        \n",
    "        fig = plt.figure(figsize=(10,8))\n",
    "        plt.style.use(\"seaborn-muted\")\n",
    "        plt.bar(positions, sentiment_values)\n",
    "        plt.ylabel('Relative sentiment of messages')\n",
    "        plt.xticks(positions, days)\n",
    "        plt.title(f\"Sentiment for user with ID {user_id}\")\n",
    "        plt.show()\n"
   ]
  },
  {
   "cell_type": "code",
   "execution_count": 4,
   "metadata": {
    "scrolled": false
   },
   "outputs": [
    {
     "data": {
      "image/png": "[encoded data removed]",
      "text/plain": [
       "<Figure size 720x576 with 1 Axes>"
      ]
     },
     "metadata": {
      "needs_background": "light"
     },
     "output_type": "display_data"
    },
    {
     "data": {
      "image/png": "[encoded data removed]",
      "text/plain": [
       "<Figure size 720x576 with 1 Axes>"
      ]
     },
     "metadata": {
      "needs_background": "light"
     },
     "output_type": "display_data"
    }
   ],
   "source": [
    "result = sentiment_text_analysis(data)\n",
    "plot_sentiment_analysis_results(result)"
   ]
  },
  {
   "cell_type": "code",
   "execution_count": null,
   "metadata": {},
   "outputs": [],
   "source": []
  }
 ],
 "metadata": {
  "kernelspec": {
   "display_name": "Python 3",
   "language": "python",
   "name": "python3"
  },
  "language_info": {
   "codemirror_mode": {
    "name": "ipython",
    "version": 3
   },
   "file_extension": ".py",
   "mimetype": "text/x-python",
   "name": "python",
   "nbconvert_exporter": "python",
   "pygments_lexer": "ipython3",
   "version": "3.8.5"
  },
  "pycharm": {
   "stem_cell": {
    "cell_type": "raw",
    "metadata": {
     "collapsed": false
    },
    "source": []
   }
  }
 },
 "nbformat": 4,
 "nbformat_minor": 4
}
