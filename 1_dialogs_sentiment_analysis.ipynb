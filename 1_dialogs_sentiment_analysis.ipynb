{
 "cells": [
  {
   "cell_type": "code",
   "execution_count": null,
   "metadata": {
    "scrolled": false
   },
   "outputs": [],
   "source": [
    "import pandas as pd\n",
    "import matplotlib.pyplot as plt\n",
    "import plotly.graph_objects as go\n",
    "\n",
    "from plotly.subplots import make_subplots\n",
    "from textblob import TextBlob\n",
    "from datetime import datetime\n",
    "from utils.dict_manipulation import get_ua_tonality_dict_combined, get_ru_tonality_dict\n",
    "from utils.date import get_day_and_hour, get_week_day_from_number"
   ]
  },
  {
   "cell_type": "code",
   "execution_count": null,
   "metadata": {},
   "outputs": [],
   "source": [
    "\n",
    "data = pd.read_csv(\"data/processed_dialog_files/old_gen.csv\")\n"
   ]
  },
  {
   "cell_type": "code",
   "execution_count": null,
   "metadata": {},
   "outputs": [],
   "source": [
    "\n",
    "tonality_dict_ua = get_ua_tonality_dict_combined()\n",
    "tonality_dict_ru = get_ru_tonality_dict()\n"
   ]
  },
  {
   "cell_type": "code",
   "execution_count": null,
   "metadata": {
    "scrolled": true
   },
   "outputs": [],
   "source": [
    "\n",
    "def calculate_msg_sentiment(msg, lang):\n",
    "    \"\"\"\n",
    "    Calculate dictionary-base sentiment of a particular message.\n",
    "    Return average sentiment of a message.\n",
    "    \n",
    "    Works for en, ua, ru\n",
    "    \"\"\"\n",
    "    if not isinstance(msg, str):\n",
    "        return 0\n",
    "    \n",
    "    if lang == \"en\":     \n",
    "        return round(TextBlob(msg).sentiment.polarity, 4)\n",
    "    elif lang == \"ua\":\n",
    "        tonality_dict = tonality_dict_ua\n",
    "    elif lang == \"ru\":\n",
    "        tonality_dict = tonality_dict_ru\n",
    "           \n",
    "    tokenized_msg = msg.split()  \n",
    "    overall_sentiment = 0\n",
    "    words_num = 0\n",
    "    \n",
    "    for token in tokenized_msg:             \n",
    "        token_sentiment = tonality_dict.get(token.lower(), 0)\n",
    "        if token_sentiment:\n",
    "            overall_sentiment += token_sentiment\n",
    "            words_num += 1\n",
    "    \n",
    "    if not words_num:\n",
    "        return 0\n",
    "    \n",
    "    avg_sentiment = overall_sentiment / words_num\n",
    "    \n",
    "    return avg_sentiment\n",
    "\n",
    "\n",
    "def add_dialog_sentiment(data, save_to_file=False, \n",
    "                         save_path=\"data/processed_dialog_files/general_dialogs_sentiment.csv\"):\n",
    "    \"\"\"\n",
    "    Add sentiment for each message in a dialog,\n",
    "    and add it in a new column for a particular message,\n",
    "    return new dataframe\n",
    "    \n",
    "    Supported languages: eng, ru, ua\n",
    "    \"\"\"\n",
    "    data['msg_sentiment'] = data.apply(lambda x: calculate_msg_sentiment(x['preprocessed_message'], \n",
    "                                                                         x['dialog_language']), \n",
    "                                       axis=1)\n",
    "    \n",
    "    if save_to_file:\n",
    "        data.to_csv(save_path, index=False)\n",
    "    \n",
    "    return data\n"
   ]
  },
  {
   "cell_type": "code",
   "execution_count": null,
   "metadata": {
    "scrolled": true
   },
   "outputs": [],
   "source": [
    "def calculate_avg_subdialog_sentiment(data):\n",
    "    \"\"\"\n",
    "    Calculate average sentiment for each subdialog in a dataframe,\n",
    "    save results in a new column and return an updated dataframe.\n",
    "    \"\"\"\n",
    "    grouped_data = sentiment_data_for_each_msg.groupby(['from_id', 'dialog ID', 'subdialog_id'])\n",
    "    data['avg_subdialog_sentiment'] = grouped_data['msg_sentiment'].transform(lambda x: x.mean().round(3))\n",
    "    \n",
    "    return data\n",
    "\n",
    "# This adds 'sentiment' column to a df\n",
    "sentiment_data_for_each_msg = add_dialog_sentiment(data) \n",
    "\n",
    "# This adds 'avg_subdialog_sentiment' column to a df\n",
    "avg_sentiment_data = calculate_avg_subdialog_sentiment(sentiment_data_for_each_msg)\n"
   ]
  },
  {
   "cell_type": "code",
   "execution_count": null,
   "metadata": {
    "scrolled": true
   },
   "outputs": [],
   "source": [
    "def add_hour_and_dayoweek(data):\n",
    "    \"\"\"\n",
    "    Add hour and day of the week column to a dataframe\n",
    "    \n",
    "    Return updated dataframe\n",
    "    \"\"\"\n",
    "    data[['hour_of_day', 'day_of_week']] = data.apply(lambda x: get_day_and_hour(x['date']), \n",
    "                                                      axis=1, \n",
    "                                                      result_type=\"expand\")\n",
    "    \n",
    "    return data\n",
    "\n",
    "\n",
    "def analyze_sentiment_for_hour_and_dayoweek(data):\n",
    "    \"\"\"\n",
    "    Calculate sentiment by day of the week and hour\n",
    "    for each user.\n",
    "    \n",
    "    Sentiment for a particular message is the average sentiment\n",
    "    for a message in a particular dialog and subdialog\n",
    "    \n",
    "    Return a dataframe ready for visualization\n",
    "    \"\"\"\n",
    "    grouped_by_date = data_with_hour_and_week.groupby(['from_id', 'day_of_week', 'hour_of_day'])\n",
    "    finalized_data = grouped_by_date['avg_subdialog_sentiment'].mean().round(3).reset_index()\n",
    "    \n",
    "    return finalized_data\n",
    "\n",
    "# This adds 'hour_of_day' and 'day_of_week' columns to a df\n",
    "data_with_hour_and_week = add_hour_and_dayoweek(avg_sentiment_data)\n",
    "\n",
    "# This combines data for a specific day of a week and hour, ready to be visualized\n",
    "final_sentiment_data = analyze_sentiment_for_hour_and_dayoweek(data_with_hour_and_week)"
   ]
  },
  {
   "cell_type": "code",
   "execution_count": null,
   "metadata": {},
   "outputs": [],
   "source": []
  },
  {
   "cell_type": "code",
   "execution_count": null,
   "metadata": {},
   "outputs": [],
   "source": [
    "\n",
    "def visualize_user_sentiment(sentiment_data, user_id):\n",
    "    \"\"\"\n",
    "    Visualize sentiment data for a specific user\n",
    "    in a timeline (linear graph), starting at 00:00 on Monday,\n",
    "    finishing at 23:59 on Sunday\n",
    "    \"\"\"\n",
    "    \n",
    "    user_sent_data = sentiment_data[ready_to_viz['from_id'] == user_id]\n",
    "    \n",
    "    fig = make_subplots(rows=1, cols=7, \n",
    "                   subplot_titles=(\"Monday\", \"Tuesday\", \"Wednesday\", \"Thursday\",\n",
    "                                   \"Friday\", \"Saturday\", \"Sunday\"),\n",
    "                   shared_yaxes=True,\n",
    "                   x_title=\"Hours\",\n",
    "                   y_title=\"Sentiment\",\n",
    "                   horizontal_spacing=0.005)\n",
    "    \n",
    "    fig.update_layout(title_text=f\"Weekly sentiment analysis for {user_id}\", height=450)\n",
    "    \n",
    "    for day_of_week in range(1, 8):\n",
    "        \n",
    "        day_of_week_data = user_sent_data.query(f'day_of_week == {day_of_week}')\n",
    "        hourly_data = dict(zip(day_of_week_data.hour_of_day, day_of_week_data.avg_subdialog_sentiment))\n",
    "        hourly_data_dict = {hour : 0 for hour in range(24)}\n",
    "        hourly_data_dict.update(hourly_data)\n",
    "\n",
    "        fig.add_scatter(x=list(hourly_data_dict.keys()), \n",
    "                        y=list(hourly_data_dict.values()), \n",
    "                        name=get_week_day_from_number(day_of_week), \n",
    "                        row=1, col=day_of_week)\n",
    "\n",
    "    \n",
    "    fig.show()\n",
    "    \n",
    "\n",
    "    \n",
    "visualize_user_sentiment(final_sentiment_data, 511986933)"
   ]
  },
  {
   "cell_type": "code",
   "execution_count": null,
   "metadata": {},
   "outputs": [],
   "source": []
  },
  {
   "cell_type": "code",
   "execution_count": null,
   "metadata": {},
   "outputs": [],
   "source": []
<<<<<<< HEAD
  },
  {
   "cell_type": "code",
   "execution_count": null,
   "metadata": {},
   "outputs": [],
   "source": []
  },
  {
   "cell_type": "code",
   "execution_count": null,
   "outputs": [],
   "source": [],
   "metadata": {
    "collapsed": false,
    "pycharm": {
     "name": "#%%\n"
    }
   }
  },
  {
   "cell_type": "code",
   "execution_count": null,
   "outputs": [],
   "source": [],
   "metadata": {
    "collapsed": false,
    "pycharm": {
     "name": "#%%\n"
    }
   }
  },
  {
   "cell_type": "code",
   "execution_count": null,
   "outputs": [],
   "source": [
    "# Don't know if that below will ever be used "
   ],
   "metadata": {
    "collapsed": false,
    "pycharm": {
     "name": "#%%\n"
    }
   }
  },
  {
   "cell_type": "code",
   "execution_count": null,
   "outputs": [],
   "source": [
    "def is_date_after(check_date, days_ago = 365):\n",
    "    \"\"\"\n",
    "    Check if {days_ago} date < {check_date} < current date\n",
    "    \"\"\"\n",
    "    date_today = datetime.now(timezone.utc)\n",
    "    days_ago = timedelta(days = days_ago)\n",
    "    final_date = date_today - days_ago\n",
    "    if check_date > final_date:\n",
    "        return True\n",
    "    return False\n",
    "\n",
    "\n",
    "def divide_and_prepare_data(data, days_ago = 365):\n",
    "    \"\"\"\n",
    "    Divide messages by User and Day of the week\n",
    "    \"\"\"\n",
    "    prepped_data = {}\n",
    "    for index, row in data.iterrows():\n",
    "        \n",
    "        msg_date = datetime.fromisoformat(row['date'])\n",
    "        if not is_date_after(msg_date, days_ago):\n",
    "            break\n",
    "        if not row['from_id'] in prepped_data:\n",
    "            prepped_data[row['from_id']] = {\n",
    "                day_num : set() for day_num in range(1, 8)\n",
    "            }\n",
    "        \n",
    "        msg_week_day = msg_date.isoweekday()\n",
    "        prepped_data[row['from_id']][msg_week_day].add(row['message'])\n",
    "        \n",
    "    return prepped_data\n",
    "    \n",
    "    \n",
    "def sentiment_text_analysis(data, sentiment_dict_path=\"dicts/tone-dict-uk.tsv\"):\n",
    "    \"\"\"\n",
    "    Calculate sentiment of each word, and store the result\n",
    "    as a sentiment for a specific week day (of a specific user)\n",
    "    \n",
    "    P.S Messages that are not in word_dict are perceived as Neutral (sentiment = 0)\n",
    "    \"\"\"\n",
    "    sentiment_result = {}\n",
    "    text_data = divide_and_prepare_data(data)\n",
    "    word_dict = tsv_to_dict(sentiment_dict_path)\n",
    "    for user_id in text_data:\n",
    "        \n",
    "        if not user_id in sentiment_result:\n",
    "            sentiment_result[user_id] = {\n",
    "                day_num : 0 for day_num in range(1, 8)\n",
    "            }\n",
    "        \n",
    "        for day_number in text_data[user_id]:\n",
    "            \n",
    "            score = 0\n",
    "            \n",
    "            while text_data[user_id][day_number]:\n",
    "                \n",
    "                msg = text_data[user_id][day_number].pop()\n",
    "\n",
    "                if isinstance(msg, str):\n",
    "                    tokens = msg.strip().split()\n",
    "                    for token in tokens:\n",
    "                        if token.lower() in word_dict:\n",
    "                            score += word_dict[token.lower()]\n",
    "                 \n",
    "            sentiment_result[user_id][day_number] = score\n",
    "            \n",
    "            \n",
    "    return sentiment_result\n",
    "    \n",
    "    \n",
    "def plot_sentiment_analysis_results(result_data):\n",
    "    \n",
    "    days = [\"Mon\", \"Tue\", \"Wed\", \"Thu\", \"Fri\", \"Sat\", \"Sun\"]\n",
    "    \n",
    "    for user_id, sentiment_info in result_data.items():\n",
    "            \n",
    "        sentiment_values = list(sentiment_info.values())\n",
    "        positions = list(sentiment_info.keys())\n",
    "        \n",
    "        fig = plt.figure(figsize=(10,8))\n",
    "        plt.style.use(\"seaborn-muted\")\n",
    "        plt.bar(positions, sentiment_values)\n",
    "        plt.ylabel('Relative sentiment of messages')\n",
    "        plt.xticks(positions, days)\n",
    "        plt.title(f\"Sentiment for user with ID {user_id}\")\n",
    "        plt.show()\n"
   ],
   "metadata": {
    "collapsed": false,
    "pycharm": {
     "name": "#%%\n"
    }
   }
  },
  {
   "cell_type": "code",
   "execution_count": null,
   "outputs": [],
   "source": [
    "result = sentiment_text_analysis(data)\n",
    "plot_sentiment_analysis_results(result)"
   ],
   "metadata": {
    "collapsed": false,
    "pycharm": {
     "name": "#%%\n"
    }
   }
  },
  {
   "cell_type": "code",
   "execution_count": null,
   "outputs": [],
   "source": [],
   "metadata": {
    "collapsed": false,
    "pycharm": {
     "name": "#%%\n"
    }
   }
  },
  {
   "cell_type": "code",
   "execution_count": null,
   "outputs": [],
   "source": [],
   "metadata": {
    "collapsed": false,
    "pycharm": {
     "name": "#%%\n"
    }
   }
  },
  {
   "cell_type": "code",
   "execution_count": null,
   "outputs": [],
   "source": [
    "# Don't know if that below will ever be used "
   ],
   "metadata": {
    "collapsed": false,
    "pycharm": {
     "name": "#%%\n"
    }
   }
  },
  {
   "cell_type": "code",
   "execution_count": null,
   "outputs": [],
   "source": [
    "def is_date_after(check_date, days_ago = 365):\n",
    "    \"\"\"\n",
    "    Check if {days_ago} date < {check_date} < current date\n",
    "    \"\"\"\n",
    "    date_today = datetime.now(timezone.utc)\n",
    "    days_ago = timedelta(days = days_ago)\n",
    "    final_date = date_today - days_ago\n",
    "    if check_date > final_date:\n",
    "        return True\n",
    "    return False\n",
    "\n",
    "\n",
    "def divide_and_prepare_data(data, days_ago = 365):\n",
    "    \"\"\"\n",
    "    Divide messages by User and Day of the week\n",
    "    \"\"\"\n",
    "    prepped_data = {}\n",
    "    for index, row in data.iterrows():\n",
    "        \n",
    "        msg_date = datetime.fromisoformat(row['date'])\n",
    "        if not is_date_after(msg_date, days_ago):\n",
    "            break\n",
    "        if not row['from_id'] in prepped_data:\n",
    "            prepped_data[row['from_id']] = {\n",
    "                day_num : set() for day_num in range(1, 8)\n",
    "            }\n",
    "        \n",
    "        msg_week_day = msg_date.isoweekday()\n",
    "        prepped_data[row['from_id']][msg_week_day].add(row['message'])\n",
    "        \n",
    "    return prepped_data\n",
    "    \n",
    "    \n",
    "def sentiment_text_analysis(data, sentiment_dict_path=\"dicts/tone-dict-uk.tsv\"):\n",
    "    \"\"\"\n",
    "    Calculate sentiment of each word, and store the result\n",
    "    as a sentiment for a specific week day (of a specific user)\n",
    "    \n",
    "    P.S Messages that are not in word_dict are perceived as Neutral (sentiment = 0)\n",
    "    \"\"\"\n",
    "    sentiment_result = {}\n",
    "    text_data = divide_and_prepare_data(data)\n",
    "    word_dict = tsv_to_dict(sentiment_dict_path)\n",
    "    for user_id in text_data:\n",
    "        \n",
    "        if not user_id in sentiment_result:\n",
    "            sentiment_result[user_id] = {\n",
    "                day_num : 0 for day_num in range(1, 8)\n",
    "            }\n",
    "        \n",
    "        for day_number in text_data[user_id]:\n",
    "            \n",
    "            score = 0\n",
    "            \n",
    "            while text_data[user_id][day_number]:\n",
    "                \n",
    "                msg = text_data[user_id][day_number].pop()\n",
    "\n",
    "                if isinstance(msg, str):\n",
    "                    tokens = msg.strip().split()\n",
    "                    for token in tokens:\n",
    "                        if token.lower() in word_dict:\n",
    "                            score += word_dict[token.lower()]\n",
    "                 \n",
    "            sentiment_result[user_id][day_number] = score\n",
    "            \n",
    "            \n",
    "    return sentiment_result\n",
    "    \n",
    "    \n",
    "def plot_sentiment_analysis_results(result_data):\n",
    "    \n",
    "    days = [\"Mon\", \"Tue\", \"Wed\", \"Thu\", \"Fri\", \"Sat\", \"Sun\"]\n",
    "    \n",
    "    for user_id, sentiment_info in result_data.items():\n",
    "            \n",
    "        sentiment_values = list(sentiment_info.values())\n",
    "        positions = list(sentiment_info.keys())\n",
    "        \n",
    "        fig = plt.figure(figsize=(10,8))\n",
    "        plt.style.use(\"seaborn-muted\")\n",
    "        plt.bar(positions, sentiment_values)\n",
    "        plt.ylabel('Relative sentiment of messages')\n",
    "        plt.xticks(positions, days)\n",
    "        plt.title(f\"Sentiment for user with ID {user_id}\")\n",
    "        plt.show()\n"
   ],
   "metadata": {
    "collapsed": false,
    "pycharm": {
     "name": "#%%\n"
    }
   }
  },
  {
   "cell_type": "code",
   "execution_count": null,
   "outputs": [],
   "source": [
    "result = sentiment_text_analysis(data)\n",
    "plot_sentiment_analysis_results(result)"
   ],
   "metadata": {
    "collapsed": false,
    "pycharm": {
     "name": "#%%\n"
    }
   }
  },
  {
   "cell_type": "code",
   "execution_count": null,
   "outputs": [],
   "source": [],
   "metadata": {
    "collapsed": false,
    "pycharm": {
     "name": "#%%\n"
    }
   }
  },
  {
   "cell_type": "code",
   "execution_count": null,
   "outputs": [],
   "source": [],
   "metadata": {
    "collapsed": false,
    "pycharm": {
     "name": "#%%\n"
    }
   }
  },
  {
   "cell_type": "code",
   "execution_count": null,
   "outputs": [],
   "source": [
    "# Don't know if that below will ever be used "
   ],
   "metadata": {
    "collapsed": false,
    "pycharm": {
     "name": "#%%\n"
    }
   }
  },
  {
   "cell_type": "code",
   "execution_count": null,
   "outputs": [],
   "source": [
    "def is_date_after(check_date, days_ago = 365):\n",
    "    \"\"\"\n",
    "    Check if {days_ago} date < {check_date} < current date\n",
    "    \"\"\"\n",
    "    date_today = datetime.now(timezone.utc)\n",
    "    days_ago = timedelta(days = days_ago)\n",
    "    final_date = date_today - days_ago\n",
    "    if check_date > final_date:\n",
    "        return True\n",
    "    return False\n",
    "\n",
    "\n",
    "def divide_and_prepare_data(data, days_ago = 365):\n",
    "    \"\"\"\n",
    "    Divide messages by User and Day of the week\n",
    "    \"\"\"\n",
    "    prepped_data = {}\n",
    "    for index, row in data.iterrows():\n",
    "        \n",
    "        msg_date = datetime.fromisoformat(row['date'])\n",
    "        if not is_date_after(msg_date, days_ago):\n",
    "            break\n",
    "        if not row['from_id'] in prepped_data:\n",
    "            prepped_data[row['from_id']] = {\n",
    "                day_num : set() for day_num in range(1, 8)\n",
    "            }\n",
    "        \n",
    "        msg_week_day = msg_date.isoweekday()\n",
    "        prepped_data[row['from_id']][msg_week_day].add(row['message'])\n",
    "        \n",
    "    return prepped_data\n",
    "    \n",
    "    \n",
    "def sentiment_text_analysis(data, sentiment_dict_path=\"dicts/tone-dict-uk.tsv\"):\n",
    "    \"\"\"\n",
    "    Calculate sentiment of each word, and store the result\n",
    "    as a sentiment for a specific week day (of a specific user)\n",
    "    \n",
    "    P.S Messages that are not in word_dict are perceived as Neutral (sentiment = 0)\n",
    "    \"\"\"\n",
    "    sentiment_result = {}\n",
    "    text_data = divide_and_prepare_data(data)\n",
    "    word_dict = tsv_to_dict(sentiment_dict_path)\n",
    "    for user_id in text_data:\n",
    "        \n",
    "        if not user_id in sentiment_result:\n",
    "            sentiment_result[user_id] = {\n",
    "                day_num : 0 for day_num in range(1, 8)\n",
    "            }\n",
    "        \n",
    "        for day_number in text_data[user_id]:\n",
    "            \n",
    "            score = 0\n",
    "            \n",
    "            while text_data[user_id][day_number]:\n",
    "                \n",
    "                msg = text_data[user_id][day_number].pop()\n",
    "\n",
    "                if isinstance(msg, str):\n",
    "                    tokens = msg.strip().split()\n",
    "                    for token in tokens:\n",
    "                        if token.lower() in word_dict:\n",
    "                            score += word_dict[token.lower()]\n",
    "                 \n",
    "            sentiment_result[user_id][day_number] = score\n",
    "            \n",
    "            \n",
    "    return sentiment_result\n",
    "    \n",
    "    \n",
    "def plot_sentiment_analysis_results(result_data):\n",
    "    \n",
    "    days = [\"Mon\", \"Tue\", \"Wed\", \"Thu\", \"Fri\", \"Sat\", \"Sun\"]\n",
    "    \n",
    "    for user_id, sentiment_info in result_data.items():\n",
    "            \n",
    "        sentiment_values = list(sentiment_info.values())\n",
    "        positions = list(sentiment_info.keys())\n",
    "        \n",
    "        fig = plt.figure(figsize=(10,8))\n",
    "        plt.style.use(\"seaborn-muted\")\n",
    "        plt.bar(positions, sentiment_values)\n",
    "        plt.ylabel('Relative sentiment of messages')\n",
    "        plt.xticks(positions, days)\n",
    "        plt.title(f\"Sentiment for user with ID {user_id}\")\n",
    "        plt.show()\n"
   ],
   "metadata": {
    "collapsed": false,
    "pycharm": {
     "name": "#%%\n"
    }
   }
  },
  {
   "cell_type": "code",
   "execution_count": null,
   "outputs": [],
   "source": [
    "result = sentiment_text_analysis(data)\n",
    "plot_sentiment_analysis_results(result)"
   ],
   "metadata": {
    "collapsed": false,
    "pycharm": {
     "name": "#%%\n"
    }
   }
  },
  {
   "cell_type": "code",
   "execution_count": null,
   "outputs": [],
   "source": [],
   "metadata": {
    "collapsed": false,
    "pycharm": {
     "name": "#%%\n"
    }
   }
  },
  {
   "cell_type": "code",
   "execution_count": null,
   "outputs": [],
   "source": [
    "# Don't know if that below will ever be used "
   ],
   "metadata": {
    "collapsed": false,
    "pycharm": {
     "name": "#%%\n"
    }
   }
  },
  {
   "cell_type": "code",
   "execution_count": null,
   "outputs": [],
   "source": [
    "def is_date_after(check_date, days_ago = 365):\n",
    "    \"\"\"\n",
    "    Check if {days_ago} date < {check_date} < current date\n",
    "    \"\"\"\n",
    "    date_today = datetime.now(timezone.utc)\n",
    "    days_ago = timedelta(days = days_ago)\n",
    "    final_date = date_today - days_ago\n",
    "    if check_date > final_date:\n",
    "        return True\n",
    "    return False\n",
    "\n",
    "\n",
    "def divide_and_prepare_data(data, days_ago = 365):\n",
    "    \"\"\"\n",
    "    Divide messages by User and Day of the week\n",
    "    \"\"\"\n",
    "    prepped_data = {}\n",
    "    for index, row in data.iterrows():\n",
    "        \n",
    "        msg_date = datetime.fromisoformat(row['date'])\n",
    "        if not is_date_after(msg_date, days_ago):\n",
    "            break\n",
    "        if not row['from_id'] in prepped_data:\n",
    "            prepped_data[row['from_id']] = {\n",
    "                day_num : set() for day_num in range(1, 8)\n",
    "            }\n",
    "        \n",
    "        msg_week_day = msg_date.isoweekday()\n",
    "        prepped_data[row['from_id']][msg_week_day].add(row['message'])\n",
    "        \n",
    "    return prepped_data\n",
    "    \n",
    "    \n",
    "def sentiment_text_analysis(data, sentiment_dict_path=\"dicts/tone-dict-uk.tsv\"):\n",
    "    \"\"\"\n",
    "    Calculate sentiment of each word, and store the result\n",
    "    as a sentiment for a specific week day (of a specific user)\n",
    "    \n",
    "    P.S Messages that are not in word_dict are perceived as Neutral (sentiment = 0)\n",
    "    \"\"\"\n",
    "    sentiment_result = {}\n",
    "    text_data = divide_and_prepare_data(data)\n",
    "    word_dict = tsv_to_dict(sentiment_dict_path)\n",
    "    for user_id in text_data:\n",
    "        \n",
    "        if not user_id in sentiment_result:\n",
    "            sentiment_result[user_id] = {\n",
    "                day_num : 0 for day_num in range(1, 8)\n",
    "            }\n",
    "        \n",
    "        for day_number in text_data[user_id]:\n",
    "            \n",
    "            score = 0\n",
    "            \n",
    "            while text_data[user_id][day_number]:\n",
    "                \n",
    "                msg = text_data[user_id][day_number].pop()\n",
    "\n",
    "                if isinstance(msg, str):\n",
    "                    tokens = msg.strip().split()\n",
    "                    for token in tokens:\n",
    "                        if token.lower() in word_dict:\n",
    "                            score += word_dict[token.lower()]\n",
    "                 \n",
    "            sentiment_result[user_id][day_number] = score\n",
    "            \n",
    "            \n",
    "    return sentiment_result\n",
    "    \n",
    "    \n",
    "def plot_sentiment_analysis_results(result_data):\n",
    "    \n",
    "    days = [\"Mon\", \"Tue\", \"Wed\", \"Thu\", \"Fri\", \"Sat\", \"Sun\"]\n",
    "    \n",
    "    for user_id, sentiment_info in result_data.items():\n",
    "            \n",
    "        sentiment_values = list(sentiment_info.values())\n",
    "        positions = list(sentiment_info.keys())\n",
    "        \n",
    "        fig = plt.figure(figsize=(10,8))\n",
    "        plt.style.use(\"seaborn-muted\")\n",
    "        plt.bar(positions, sentiment_values)\n",
    "        plt.ylabel('Relative sentiment of messages')\n",
    "        plt.xticks(positions, days)\n",
    "        plt.title(f\"Sentiment for user with ID {user_id}\")\n",
    "        plt.show()\n"
   ],
   "metadata": {
    "collapsed": false,
    "pycharm": {
     "name": "#%%\n"
    }
   }
  },
  {
   "cell_type": "code",
   "execution_count": null,
   "outputs": [],
   "source": [
    "result = sentiment_text_analysis(data)\n",
    "plot_sentiment_analysis_results(result)"
   ],
   "metadata": {
    "collapsed": false,
    "pycharm": {
     "name": "#%%\n"
    }
   }
  },
  {
   "cell_type": "code",
   "execution_count": null,
   "metadata": {},
   "outputs": [],
   "source": []
  },
  {
   "cell_type": "code",
   "execution_count": null,
   "outputs": [],
   "source": [],
   "metadata": {
    "collapsed": false,
    "pycharm": {
     "name": "#%%\n"
    }
   }
  },
  {
   "cell_type": "code",
   "execution_count": null,
   "outputs": [],
   "source": [
    "# Don't know if that below will ever be used "
   ],
   "metadata": {
    "collapsed": false,
    "pycharm": {
     "name": "#%%\n"
    }
   }
  },
  {
   "cell_type": "code",
   "execution_count": null,
   "outputs": [],
   "source": [
    "def is_date_after(check_date, days_ago = 365):\n",
    "    \"\"\"\n",
    "    Check if {days_ago} date < {check_date} < current date\n",
    "    \"\"\"\n",
    "    date_today = datetime.now(timezone.utc)\n",
    "    days_ago = timedelta(days = days_ago)\n",
    "    final_date = date_today - days_ago\n",
    "    if check_date > final_date:\n",
    "        return True\n",
    "    return False\n",
    "\n",
    "\n",
    "def divide_and_prepare_data(data, days_ago = 365):\n",
    "    \"\"\"\n",
    "    Divide messages by User and Day of the week\n",
    "    \"\"\"\n",
    "    prepped_data = {}\n",
    "    for index, row in data.iterrows():\n",
    "        \n",
    "        msg_date = datetime.fromisoformat(row['date'])\n",
    "        if not is_date_after(msg_date, days_ago):\n",
    "            break\n",
    "        if not row['from_id'] in prepped_data:\n",
    "            prepped_data[row['from_id']] = {\n",
    "                day_num : set() for day_num in range(1, 8)\n",
    "            }\n",
    "        \n",
    "        msg_week_day = msg_date.isoweekday()\n",
    "        prepped_data[row['from_id']][msg_week_day].add(row['message'])\n",
    "        \n",
    "    return prepped_data\n",
    "    \n",
    "    \n",
    "def sentiment_text_analysis(data, sentiment_dict_path=\"dicts/tone-dict-uk.tsv\"):\n",
    "    \"\"\"\n",
    "    Calculate sentiment of each word, and store the result\n",
    "    as a sentiment for a specific week day (of a specific user)\n",
    "    \n",
    "    P.S Messages that are not in word_dict are perceived as Neutral (sentiment = 0)\n",
    "    \"\"\"\n",
    "    sentiment_result = {}\n",
    "    text_data = divide_and_prepare_data(data)\n",
    "    word_dict = tsv_to_dict(sentiment_dict_path)\n",
    "    for user_id in text_data:\n",
    "        \n",
    "        if not user_id in sentiment_result:\n",
    "            sentiment_result[user_id] = {\n",
    "                day_num : 0 for day_num in range(1, 8)\n",
    "            }\n",
    "        \n",
    "        for day_number in text_data[user_id]:\n",
    "            \n",
    "            score = 0\n",
    "            \n",
    "            while text_data[user_id][day_number]:\n",
    "                \n",
    "                msg = text_data[user_id][day_number].pop()\n",
    "\n",
    "                if isinstance(msg, str):\n",
    "                    tokens = msg.strip().split()\n",
    "                    for token in tokens:\n",
    "                        if token.lower() in word_dict:\n",
    "                            score += word_dict[token.lower()]\n",
    "                 \n",
    "            sentiment_result[user_id][day_number] = score\n",
    "            \n",
    "            \n",
    "    return sentiment_result\n",
    "    \n",
    "    \n",
    "def plot_sentiment_analysis_results(result_data):\n",
    "    \n",
    "    days = [\"Mon\", \"Tue\", \"Wed\", \"Thu\", \"Fri\", \"Sat\", \"Sun\"]\n",
    "    \n",
    "    for user_id, sentiment_info in result_data.items():\n",
    "            \n",
    "        sentiment_values = list(sentiment_info.values())\n",
    "        positions = list(sentiment_info.keys())\n",
    "        \n",
    "        fig = plt.figure(figsize=(10,8))\n",
    "        plt.style.use(\"seaborn-muted\")\n",
    "        plt.bar(positions, sentiment_values)\n",
    "        plt.ylabel('Relative sentiment of messages')\n",
    "        plt.xticks(positions, days)\n",
    "        plt.title(f\"Sentiment for user with ID {user_id}\")\n",
    "        plt.show()\n"
   ],
   "metadata": {
    "collapsed": false,
    "pycharm": {
     "name": "#%%\n"
    }
   }
  },
  {
   "cell_type": "code",
   "execution_count": null,
   "outputs": [],
   "source": [
    "result = sentiment_text_analysis(data)\n",
    "plot_sentiment_analysis_results(result)"
   ],
   "metadata": {
    "collapsed": false,
    "pycharm": {
     "name": "#%%\n"
    }
   }
  },
  {
   "cell_type": "code",
   "execution_count": null,
   "outputs": [],
   "source": [],
   "metadata": {
    "collapsed": false,
    "pycharm": {
     "name": "#%%\n"
    }
   }
  },
  {
   "cell_type": "code",
   "execution_count": null,
   "metadata": {},
   "outputs": [],
   "source": []
  },
  {
   "cell_type": "code",
   "execution_count": null,
   "metadata": {},
   "outputs": [],
   "source": [
    "# Don't know if that below will ever be used "
   ]
  },
  {
   "cell_type": "code",
   "execution_count": null,
   "metadata": {},
   "outputs": [],
   "source": [
    "def is_date_after(check_date, days_ago = 365):\n",
    "    \"\"\"\n",
    "    Check if {days_ago} date < {check_date} < current date\n",
    "    \"\"\"\n",
    "    date_today = datetime.now(timezone.utc)\n",
    "    days_ago = timedelta(days = days_ago)\n",
    "    final_date = date_today - days_ago\n",
    "    if check_date > final_date:\n",
    "        return True\n",
    "    return False\n",
    "\n",
    "\n",
    "def divide_and_prepare_data(data, days_ago = 365):\n",
    "    \"\"\"\n",
    "    Divide messages by User and Day of the week\n",
    "    \"\"\"\n",
    "    prepped_data = {}\n",
    "    for index, row in data.iterrows():\n",
    "        \n",
    "        msg_date = datetime.fromisoformat(row['date'])\n",
    "        if not is_date_after(msg_date, days_ago):\n",
    "            break\n",
    "        if not row['from_id'] in prepped_data:\n",
    "            prepped_data[row['from_id']] = {\n",
    "                day_num : set() for day_num in range(1, 8)\n",
    "            }\n",
    "        \n",
    "        msg_week_day = msg_date.isoweekday()\n",
    "        prepped_data[row['from_id']][msg_week_day].add(row['message'])\n",
    "        \n",
    "    return prepped_data\n",
    "    \n",
    "    \n",
    "def sentiment_text_analysis(data, sentiment_dict_path=\"dicts/tone-dict-uk.tsv\"):\n",
    "    \"\"\"\n",
    "    Calculate sentiment of each word, and store the result\n",
    "    as a sentiment for a specific week day (of a specific user)\n",
    "    \n",
    "    P.S Messages that are not in word_dict are perceived as Neutral (sentiment = 0)\n",
    "    \"\"\"\n",
    "    sentiment_result = {}\n",
    "    text_data = divide_and_prepare_data(data)\n",
    "    word_dict = tsv_to_dict(sentiment_dict_path)\n",
    "    for user_id in text_data:\n",
    "        \n",
    "        if not user_id in sentiment_result:\n",
    "            sentiment_result[user_id] = {\n",
    "                day_num : 0 for day_num in range(1, 8)\n",
    "            }\n",
    "        \n",
    "        for day_number in text_data[user_id]:\n",
    "            \n",
    "            score = 0\n",
    "            \n",
    "            while text_data[user_id][day_number]:\n",
    "                \n",
    "                msg = text_data[user_id][day_number].pop()\n",
    "\n",
    "                if isinstance(msg, str):\n",
    "                    tokens = msg.strip().split()\n",
    "                    for token in tokens:\n",
    "                        if token.lower() in word_dict:\n",
    "                            score += word_dict[token.lower()]\n",
    "                 \n",
    "            sentiment_result[user_id][day_number] = score\n",
    "            \n",
    "            \n",
    "    return sentiment_result\n",
    "    \n",
    "    \n",
    "def plot_sentiment_analysis_results(result_data):\n",
    "    \n",
    "    days = [\"Mon\", \"Tue\", \"Wed\", \"Thu\", \"Fri\", \"Sat\", \"Sun\"]\n",
    "    \n",
    "    for user_id, sentiment_info in result_data.items():\n",
    "            \n",
    "        sentiment_values = list(sentiment_info.values())\n",
    "        positions = list(sentiment_info.keys())\n",
    "        \n",
    "        fig = plt.figure(figsize=(10,8))\n",
    "        plt.style.use(\"seaborn-muted\")\n",
    "        plt.bar(positions, sentiment_values)\n",
    "        plt.ylabel('Relative sentiment of messages')\n",
    "        plt.xticks(positions, days)\n",
    "        plt.title(f\"Sentiment for user with ID {user_id}\")\n",
    "        plt.show()\n"
   ]
  },
  {
   "cell_type": "code",
   "execution_count": null,
   "metadata": {
    "scrolled": false
   },
   "outputs": [],
   "source": [
    "result = sentiment_text_analysis(data)\n",
    "plot_sentiment_analysis_results(result)"
   ]
  },
  {
   "cell_type": "code",
   "execution_count": null,
   "metadata": {},
   "outputs": [],
   "source": []
=======
>>>>>>> dev
  }
 ],
 "metadata": {
  "kernelspec": {
   "display_name": "Python 3",
   "language": "python",
   "name": "python3"
  },
  "language_info": {
   "codemirror_mode": {
    "name": "ipython",
    "version": 3
   },
   "file_extension": ".py",
   "mimetype": "text/x-python",
   "name": "python",
   "nbconvert_exporter": "python",
   "pygments_lexer": "ipython3",
   "version": "3.7.4"
  },
  "pycharm": {
   "stem_cell": {
    "cell_type": "raw",
    "metadata": {
     "collapsed": false
    },
    "source": []
   }
  }
 },
 "nbformat": 4,
 "nbformat_minor": 4
}