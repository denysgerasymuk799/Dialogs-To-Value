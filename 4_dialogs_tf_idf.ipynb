{
 "cells": [
  {
   "cell_type": "code",
   "execution_count": 1,
   "metadata": {},
   "outputs": [],
   "source": [
    "import os\n",
    "import pandas as pd\n",
    "import numpy as np\n",
    "\n",
    "from cube.api import Cube\n",
    "from config import PATH_TO_SAVE_PROCESSED_FILES, PATH_TO_SAVE_GENERAL_DF\n",
    "from utils.text_data_transformation import transform_raw_data\n",
    "from utils.dialog_manipulation import prepare_dialogs"
   ]
  },
  {
   "cell_type": "code",
   "execution_count": 2,
   "metadata": {
    "pycharm": {
     "name": "#%%\n"
    }
   },
   "outputs": [
    {
     "data": {
      "text/plain": "      dialog_id                                               text\n0             1   ​50 русскоязычных YouTube-каналов о языках пр...\n1             2   ​JavaScript для Python-программистов: познани...\n2             3   ​Как в Google Chrome измерить использование п...\n3             4    интенсив практикум penetration testing получ...\n4             5    python проект оказать огромный влияние разра...\n...         ...                                                ...\n4718       4719                               просити передзвонити\n4719       4720                               Подчеркни недостатки\n4720       4721                                 случайная карточка\n4721       4722                                 случайная карточка\n4722       4723                                 случайная карточка\n\n[4723 rows x 2 columns]",
      "text/html": "<div>\n<style scoped>\n    .dataframe tbody tr th:only-of-type {\n        vertical-align: middle;\n    }\n\n    .dataframe tbody tr th {\n        vertical-align: top;\n    }\n\n    .dataframe thead th {\n        text-align: right;\n    }\n</style>\n<table border=\"1\" class=\"dataframe\">\n  <thead>\n    <tr style=\"text-align: right;\">\n      <th></th>\n      <th>dialog_id</th>\n      <th>text</th>\n    </tr>\n  </thead>\n  <tbody>\n    <tr>\n      <th>0</th>\n      <td>1</td>\n      <td>​50 русскоязычных YouTube-каналов о языках пр...</td>\n    </tr>\n    <tr>\n      <th>1</th>\n      <td>2</td>\n      <td>​JavaScript для Python-программистов: познани...</td>\n    </tr>\n    <tr>\n      <th>2</th>\n      <td>3</td>\n      <td>​Как в Google Chrome измерить использование п...</td>\n    </tr>\n    <tr>\n      <th>3</th>\n      <td>4</td>\n      <td>интенсив практикум penetration testing получ...</td>\n    </tr>\n    <tr>\n      <th>4</th>\n      <td>5</td>\n      <td>python проект оказать огромный влияние разра...</td>\n    </tr>\n    <tr>\n      <th>...</th>\n      <td>...</td>\n      <td>...</td>\n    </tr>\n    <tr>\n      <th>4718</th>\n      <td>4719</td>\n      <td>просити передзвонити</td>\n    </tr>\n    <tr>\n      <th>4719</th>\n      <td>4720</td>\n      <td>Подчеркни недостатки</td>\n    </tr>\n    <tr>\n      <th>4720</th>\n      <td>4721</td>\n      <td>случайная карточка</td>\n    </tr>\n    <tr>\n      <th>4721</th>\n      <td>4722</td>\n      <td>случайная карточка</td>\n    </tr>\n    <tr>\n      <th>4722</th>\n      <td>4723</td>\n      <td>случайная карточка</td>\n    </tr>\n  </tbody>\n</table>\n<p>4723 rows × 2 columns</p>\n</div>"
     },
     "execution_count": 2,
     "metadata": {},
     "output_type": "execute_result"
    }
   ],
   "source": [
    "# 0) Firstly, use data_transformation.py to get \"subdialogs_{id}.csv\" files\n",
    "\n",
    "\n",
    "# or DIALOG_IDS = [-1] for all in dir\n",
    "DIALOG_IDS = [-1]\n",
    "# DIALOG_IDS = [\"138918380\", \"470409323\", \"347963763\", \"850978724\", \"511986933\"]\n",
    "path_to_save_result = os.path.join(PATH_TO_SAVE_PROCESSED_FILES, \"subdialog_keywords.csv\")\n",
    "\n",
    "# flag_get_all = 0\n",
    "# if DIALOG_IDS[0] == -1:\n",
    "#     DIALOG_IDS = os.listdir(path_to_prepared_dialogs)\n",
    "#     flag_get_all = 1\n",
    "\n",
    "frames = []\n",
    "df_idf = pd.DataFrame()\n",
    "general_n_subdialogs = 0\n",
    "\n",
    "\n",
    "data_for_df = []\n",
    "data = pd.read_csv(PATH_TO_SAVE_GENERAL_DF)\n",
    "\n",
    "n_subdialog = 0\n",
    "dialog_dict, dialog_text = {}, ''\n",
    "for index, row in data.iterrows():\n",
    "    if n_subdialog != row.subdialog_id:\n",
    "        n_subdialog += 1\n",
    "        general_n_subdialogs += 1\n",
    "        if n_subdialog != 1:\n",
    "            dialog_dict[\"text\"] = dialog_text\n",
    "            data_for_df.append(dialog_dict)\n",
    "\n",
    "        dialog_dict = {}\n",
    "        dialog_text = ''\n",
    "        dialog_dict[\"dialog_id\"] = general_n_subdialogs\n",
    "\n",
    "    if not pd.isnull(row.preprocessed_message):\n",
    "        dialog_text += \" \" + row.preprocessed_message\n",
    "\n",
    "df_idf = pd.DataFrame(data_for_df)\n",
    "df_idf"
   ]
  },
  {
   "cell_type": "code",
   "execution_count": 3,
   "metadata": {
    "pycharm": {
     "name": "#%%\n"
    }
   },
   "outputs": [
    {
     "data": {
      "text/plain": "' \\u200bКак в Google Chrome измерить использование памяти веб-страницей\\n\\nДержим руку на пульсе производительного веба. В этой статье учимся измерять утечки памяти страницы Google Chrome с помощью нового интерфейса performance.measureMemory().\\n\\nhttps://proglib.io/w/4e1c965a'"
     },
     "execution_count": 3,
     "metadata": {},
     "output_type": "execute_result"
    }
   ],
   "source": [
    "df_idf['text'].replace('', np.nan, inplace=True)\n",
    "df_idf.dropna(subset = [\"text\"], inplace=True)\n",
    "\n",
    "# if you have untransformed_data so uncomment it !!!!!!!!!!!!!\n",
    "# if lang == \"ua\":\n",
    "#     cube = Cube(verbose=True)\n",
    "#     cube.load(\"uk\")\n",
    "# df_idf['text'] = df_idf['text'].apply(lambda x: transform_raw_data(x, lang, \"words_frequency\", cube))\n",
    "\n",
    "#show the first 'text'\n",
    "df_idf['text'][2]"
   ]
  },
  {
   "cell_type": "code",
   "execution_count": 4,
   "metadata": {
    "pycharm": {
     "name": "#%%\n"
    }
   },
   "outputs": [
    {
     "name": "stderr",
     "output_type": "stream",
     "text": [
      "d:\\python\\envs\\venv_telegram_analysis\\lib\\site-packages\\sklearn\\feature_extraction\\text.py:386: UserWarning: Your stop_words may be inconsistent with your preprocessing. Tokenizing the stop words generated tokens ['_io', 'analysis', 'dialogs', 'dicts', 'encoding', 'mode', 'my_work', 'name', 'programming', 'telegram', 'textiowrapper', 'txt', 'ukrainian_stopwords', 'utf'] not in stop_words.\n",
      "  'stop_words.' % sorted(inconsistent))\n"
     ]
    }
   ],
   "source": [
    "from sklearn.feature_extraction.text import CountVectorizer\n",
    "import re\n",
    "\n",
    "def get_stop_words():\n",
    "    \"\"\"load stop words \"\"\"\n",
    "\n",
    "    try:\n",
    "        with open(os.path.join(os.getcwd(), \"..\", \"dicts\", \"ukrainian_stopwords.txt\"), \"r\", encoding=\"utf-8\") as file:\n",
    "            stop_words = str(file).strip().split()\n",
    "\n",
    "    except FileNotFoundError:\n",
    "        with open(os.path.join(os.getcwd(), \"dicts\", \"ukrainian_stopwords.txt\"), \"r\",\n",
    "                  encoding=\"utf-8\") as file:\n",
    "            stop_words = str(file).strip().split()\n",
    "\n",
    "    return stop_words\n",
    "\n",
    "#load a set of stop words\n",
    "stopwords=get_stop_words()\n",
    "\n",
    "#get the text column\n",
    "docs=df_idf['text'].tolist()\n",
    "\n",
    "#create a vocabulary of words,\n",
    "#ignore words that appear in 85% of documents,\n",
    "#eliminate stop words\n",
    "cv=CountVectorizer(max_df=0.85,stop_words=stopwords)\n",
    "word_count_vector=cv.fit_transform(docs)"
   ]
  },
  {
   "cell_type": "code",
   "execution_count": 5,
   "metadata": {
    "pycharm": {
     "name": "#%%\n"
    }
   },
   "outputs": [
    {
     "data": {
      "text/plain": "(4220, 10000)"
     },
     "execution_count": 5,
     "metadata": {},
     "output_type": "execute_result"
    }
   ],
   "source": [
    "cv=CountVectorizer(max_df=0.85,stop_words=stopwords,max_features=10000, ngram_range=(2, 2))\n",
    "word_count_vector=cv.fit_transform(docs)\n",
    "word_count_vector.shape"
   ]
  },
  {
   "cell_type": "code",
   "execution_count": 6,
   "metadata": {
    "pycharm": {
     "name": "#%%\n"
    }
   },
   "outputs": [],
   "source": [
    "from sklearn.feature_extraction.text import TfidfTransformer\n",
    "\n",
    "tfidf_transformer=TfidfTransformer(smooth_idf=True,use_idf=True)\n",
    "tfidf_transformer.fit(word_count_vector)\n",
    "\n",
    "# get text docs into a list\n",
    "docs_text=df_idf['text'].tolist()"
   ]
  },
  {
   "cell_type": "code",
   "execution_count": 7,
   "metadata": {
    "pycharm": {
     "name": "#%%\n"
    }
   },
   "outputs": [
    {
     "name": "stdout",
     "output_type": "stream",
     "text": [
      "\n",
      "=====Text=====\n",
      " ​JavaScript для Python-программистов: познание через сравнение\n",
      "\n",
      "Если вы ранее не использовали JavaScript, но знакомы с Python, этот лонгрид поможет вашему знакомству. Имеющиеся знания помогут пропустить очевидные вещи и быстрее войти в тему. \n",
      "\n",
      "https://proglib.io/w/2434f8cd ⚡️ 15 – 17 сентября приглашаем на онлайн-конференцию ESCAPE (Essential Skills, Competencies and People Engineering). ⚡️Это нетехническая конференция для всех, кто работает в IT и первая конференция EPAM, посвященная Essential skills.\n",
      "\n",
      "✍🏼 Три дня мы будем делиться полезной информацией о том, что делает инженеров и руководителей профессионалами, помимо технологий.\n",
      "\n",
      "👨🏻‍💻Вас ждут доклады и воркшопы про обучение, осознанность, коммуникацию. \n",
      " \n",
      "🤝Вы узнаете, как эффективно общаться с заказчиками и с людьми разных культур, как построить работу в распределенной команде, как справиться с профессиональным выгоранием. Поговорим и на другие важные темы.  \n",
      "\n",
      "🚀 Зарегистрироваться и посмотреть программу конференции можно по ссылке - https://epa.ms/escape-conference-epam.\n",
      "\n",
      "===Keywords===\n",
      "кто работает 0.29\n",
      "знания помогут 0.29\n",
      "ждут доклады 0.29\n",
      "вас ждут 0.29\n",
      "что делает 0.28\n",
      "на онлайн 0.28\n",
      "мы будем 0.28\n",
      "узнаете как 0.272\n",
      "если вы 0.266\n",
      "том что 0.26\n"
     ]
    }
   ],
   "source": [
    "def sort_coo(coo_matrix):\n",
    "    tuples = zip(coo_matrix.col, coo_matrix.data)\n",
    "    return sorted(tuples, key=lambda x: (x[1], x[0]), reverse=True)\n",
    "\n",
    "def extract_topn_from_vector(feature_names, sorted_items, topn=10):\n",
    "    \"\"\"get the feature names and tf-idf score of top n items\"\"\"\n",
    "\n",
    "    #use only topn items from vector\n",
    "    sorted_items = sorted_items[:topn]\n",
    "\n",
    "    score_vals = []\n",
    "    feature_vals = []\n",
    "\n",
    "    for idx, score in sorted_items:\n",
    "        fname = feature_names[idx]\n",
    "\n",
    "        #keep track of feature name and its corresponding score\n",
    "        score_vals.append(round(score, 3))\n",
    "        feature_vals.append(feature_names[idx])\n",
    "\n",
    "    #create a tuples of feature,score\n",
    "    results= {}\n",
    "    for idx in range(len(feature_vals)):\n",
    "        results[feature_vals[idx]]=score_vals[idx]\n",
    "\n",
    "    return results\n",
    "\n",
    "# you only needs to do this once\n",
    "feature_names=cv.get_feature_names()\n",
    "\n",
    "# get the document that we want to extract keywords from\n",
    "doc=docs_text[1]\n",
    "\n",
    "#generate tf-idf for the given document\n",
    "tf_idf_vector=tfidf_transformer.transform(cv.transform([doc]))\n",
    "\n",
    "#sort the tf-idf vectors by descending order of scores\n",
    "sorted_items=sort_coo(tf_idf_vector.tocoo())\n",
    "\n",
    "#extract only the top n; n here is 10\n",
    "keywords=extract_topn_from_vector(feature_names,sorted_items,10)\n",
    "\n",
    "# now print the results\n",
    "print(\"\\n=====Text=====\")\n",
    "print(docs_text[1])\n",
    "print(\"\\n===Keywords===\")\n",
    "for k in keywords:\n",
    "    print(k,keywords[k])"
   ]
  },
  {
   "cell_type": "code",
   "execution_count": 8,
   "metadata": {
    "pycharm": {
     "name": "#%%\n"
    }
   },
   "outputs": [],
   "source": [
    "# put the common code into several methods\n",
    "def get_keywords(idx):\n",
    "\n",
    "    #generate tf-idf for the given document\n",
    "    tf_idf_vector=tfidf_transformer.transform(cv.transform([docs_text[idx]]))\n",
    "\n",
    "    #sort the tf-idf vectors by descending order of scores\n",
    "    sorted_items=sort_coo(tf_idf_vector.tocoo())\n",
    "\n",
    "    #extract only the top n; n here is 10\n",
    "    keywords=extract_topn_from_vector(feature_names,sorted_items,10)\n",
    "\n",
    "    return keywords\n",
    "\n",
    "def print_results(idx,keywords):\n",
    "    # now print the results\n",
    "    print(\"\\n=====Text=====\")\n",
    "    print(docs_text[idx])\n",
    "    print(\"\\n===Keywords===\")\n",
    "    for k in keywords:\n",
    "        print(k,keywords[k])"
   ]
  },
  {
   "cell_type": "code",
   "execution_count": 9,
   "metadata": {
    "pycharm": {
     "name": "#%%\n"
    }
   },
   "outputs": [
    {
     "name": "stdout",
     "output_type": "stream",
     "text": [
      "result df\n"
     ]
    },
    {
     "data": {
      "text/plain": "                                                    doc  \\\n0      ​50 русскоязычных YouTube-каналов о языках пр...   \n1      ​JavaScript для Python-программистов: познани...   \n2      ​Как в Google Chrome измерить использование п...   \n3       интенсив практикум penetration testing получ...   \n4       python проект оказать огромный влияние разра...   \n...                                                 ...   \n4215                               просити передзвонити   \n4216                               Подчеркни недостатки   \n4217                                 случайная карточка   \n4218                                 случайная карточка   \n4219                                 случайная карточка   \n\n                                               keywords  \n0     {'https proglib': 0.49, 'proglib io': 0.329, '...  \n1     {'кто работает': 0.29, 'знания помогут': 0.29,...  \n2     {'google chrome': 0.889, 'https proglib': 0.38...  \n3     {'цикл python': 0.225, 'программа операционный...  \n4     {'python проект': 0.677, 'proglib io': 0.388, ...  \n...                                                 ...  \n4215                                                 {}  \n4216                                                 {}  \n4217                        {'случайная карточка': 1.0}  \n4218                        {'случайная карточка': 1.0}  \n4219                        {'случайная карточка': 1.0}  \n\n[4220 rows x 2 columns]",
      "text/html": "<div>\n<style scoped>\n    .dataframe tbody tr th:only-of-type {\n        vertical-align: middle;\n    }\n\n    .dataframe tbody tr th {\n        vertical-align: top;\n    }\n\n    .dataframe thead th {\n        text-align: right;\n    }\n</style>\n<table border=\"1\" class=\"dataframe\">\n  <thead>\n    <tr style=\"text-align: right;\">\n      <th></th>\n      <th>doc</th>\n      <th>keywords</th>\n    </tr>\n  </thead>\n  <tbody>\n    <tr>\n      <th>0</th>\n      <td>​50 русскоязычных YouTube-каналов о языках пр...</td>\n      <td>{'https proglib': 0.49, 'proglib io': 0.329, '...</td>\n    </tr>\n    <tr>\n      <th>1</th>\n      <td>​JavaScript для Python-программистов: познани...</td>\n      <td>{'кто работает': 0.29, 'знания помогут': 0.29,...</td>\n    </tr>\n    <tr>\n      <th>2</th>\n      <td>​Как в Google Chrome измерить использование п...</td>\n      <td>{'google chrome': 0.889, 'https proglib': 0.38...</td>\n    </tr>\n    <tr>\n      <th>3</th>\n      <td>интенсив практикум penetration testing получ...</td>\n      <td>{'цикл python': 0.225, 'программа операционный...</td>\n    </tr>\n    <tr>\n      <th>4</th>\n      <td>python проект оказать огромный влияние разра...</td>\n      <td>{'python проект': 0.677, 'proglib io': 0.388, ...</td>\n    </tr>\n    <tr>\n      <th>...</th>\n      <td>...</td>\n      <td>...</td>\n    </tr>\n    <tr>\n      <th>4215</th>\n      <td>просити передзвонити</td>\n      <td>{}</td>\n    </tr>\n    <tr>\n      <th>4216</th>\n      <td>Подчеркни недостатки</td>\n      <td>{}</td>\n    </tr>\n    <tr>\n      <th>4217</th>\n      <td>случайная карточка</td>\n      <td>{'случайная карточка': 1.0}</td>\n    </tr>\n    <tr>\n      <th>4218</th>\n      <td>случайная карточка</td>\n      <td>{'случайная карточка': 1.0}</td>\n    </tr>\n    <tr>\n      <th>4219</th>\n      <td>случайная карточка</td>\n      <td>{'случайная карточка': 1.0}</td>\n    </tr>\n  </tbody>\n</table>\n<p>4220 rows × 2 columns</p>\n</div>"
     },
     "execution_count": 9,
     "metadata": {},
     "output_type": "execute_result"
    }
   ],
   "source": [
    "#generate tf-idf for all documents in your list. docs_text has 500 documents\n",
    "tf_idf_vector=tfidf_transformer.transform(cv.transform(docs_text))\n",
    "\n",
    "results=[]\n",
    "for i in range(tf_idf_vector.shape[0]):\n",
    "\n",
    "    # get vector for a single document\n",
    "    curr_vector=tf_idf_vector[i]\n",
    "\n",
    "    #sort the tf-idf vector by descending order of scores\n",
    "    sorted_items=sort_coo(curr_vector.tocoo())\n",
    "\n",
    "    #extract only the top n; n here is 10\n",
    "    keywords=extract_topn_from_vector(feature_names,sorted_items,10)\n",
    "\n",
    "    results.append(keywords)\n",
    "\n",
    "df=pd.DataFrame(zip(docs,results),columns=['doc','keywords'])\n",
    "for result in results:\n",
    "    result2 = {k: v for k, v in sorted(result.items(), key=lambda item: item[1], reverse=True)}\n",
    "\n",
    "df.to_csv(path_to_save_result, index=False)\n",
    "print(\"result df\")\n",
    "df"
   ]
  },
  {
   "cell_type": "code",
   "execution_count": 9,
   "outputs": [],
   "source": [
    "\n"
   ],
   "metadata": {
    "collapsed": false,
    "pycharm": {
     "name": "#%%\n"
    }
   }
  }
 ],
 "metadata": {
  "kernelspec": {
   "display_name": "Python 3",
   "language": "python",
   "name": "python3"
  },
  "language_info": {
   "codemirror_mode": {
    "name": "ipython",
    "version": 3
   },
   "file_extension": ".py",
   "mimetype": "text/x-python",
   "name": "python",
   "nbconvert_exporter": "python",
   "pygments_lexer": "ipython3",
   "version": "3.7.4"
  }
 },
 "nbformat": 4,
 "nbformat_minor": 1
}