{
 "cells": [
  {
   "cell_type": "code",
   "execution_count": 1,
   "metadata": {},
   "outputs": [
    {
     "ename": "KeyboardInterrupt",
     "evalue": "",
     "output_type": "error",
     "traceback": [
      "\u001B[1;31m---------------------------------------------------------------------------\u001B[0m",
      "\u001B[1;31mKeyboardInterrupt\u001B[0m                         Traceback (most recent call last)",
      "\u001B[1;32m<ipython-input-1-2f2aa4e99c65>\u001B[0m in \u001B[0;36m<module>\u001B[1;34m\u001B[0m\n\u001B[0;32m      3\u001B[0m \u001B[1;32mimport\u001B[0m \u001B[0mos\u001B[0m\u001B[1;33m\u001B[0m\u001B[1;33m\u001B[0m\u001B[0m\n\u001B[0;32m      4\u001B[0m \u001B[1;32mimport\u001B[0m \u001B[0mglob\u001B[0m\u001B[1;33m\u001B[0m\u001B[1;33m\u001B[0m\u001B[0m\n\u001B[1;32m----> 5\u001B[1;33m \u001B[1;32mimport\u001B[0m \u001B[0mpandas\u001B[0m \u001B[1;32mas\u001B[0m \u001B[0mpd\u001B[0m\u001B[1;33m\u001B[0m\u001B[1;33m\u001B[0m\u001B[0m\n\u001B[0m\u001B[0;32m      6\u001B[0m \u001B[1;33m\u001B[0m\u001B[0m\n\u001B[0;32m      7\u001B[0m \u001B[1;32mfrom\u001B[0m \u001B[0mutils\u001B[0m\u001B[1;33m.\u001B[0m\u001B[0mdialog_manipulation\u001B[0m \u001B[1;32mimport\u001B[0m \u001B[0mprepare_dialogs_sorted_by_lang\u001B[0m\u001B[1;33m\u001B[0m\u001B[1;33m\u001B[0m\u001B[0m\n",
      "\u001B[1;32md:\\python\\envs\\venv_telegram_analysis\\lib\\site-packages\\pandas\\__init__.py\u001B[0m in \u001B[0;36m<module>\u001B[1;34m\u001B[0m\n\u001B[0;32m     28\u001B[0m \u001B[1;33m\u001B[0m\u001B[0m\n\u001B[0;32m     29\u001B[0m \u001B[1;32mtry\u001B[0m\u001B[1;33m:\u001B[0m\u001B[1;33m\u001B[0m\u001B[1;33m\u001B[0m\u001B[0m\n\u001B[1;32m---> 30\u001B[1;33m     \u001B[1;32mfrom\u001B[0m \u001B[0mpandas\u001B[0m\u001B[1;33m.\u001B[0m\u001B[0m_libs\u001B[0m \u001B[1;32mimport\u001B[0m \u001B[0mhashtable\u001B[0m \u001B[1;32mas\u001B[0m \u001B[0m_hashtable\u001B[0m\u001B[1;33m,\u001B[0m \u001B[0mlib\u001B[0m \u001B[1;32mas\u001B[0m \u001B[0m_lib\u001B[0m\u001B[1;33m,\u001B[0m \u001B[0mtslib\u001B[0m \u001B[1;32mas\u001B[0m \u001B[0m_tslib\u001B[0m\u001B[1;33m\u001B[0m\u001B[1;33m\u001B[0m\u001B[0m\n\u001B[0m\u001B[0;32m     31\u001B[0m \u001B[1;32mexcept\u001B[0m \u001B[0mImportError\u001B[0m \u001B[1;32mas\u001B[0m \u001B[0me\u001B[0m\u001B[1;33m:\u001B[0m  \u001B[1;31m# pragma: no cover\u001B[0m\u001B[1;33m\u001B[0m\u001B[1;33m\u001B[0m\u001B[0m\n\u001B[0;32m     32\u001B[0m     \u001B[1;31m# hack but overkill to use re\u001B[0m\u001B[1;33m\u001B[0m\u001B[1;33m\u001B[0m\u001B[1;33m\u001B[0m\u001B[0m\n",
      "\u001B[1;32md:\\python\\envs\\venv_telegram_analysis\\lib\\site-packages\\pandas\\_libs\\__init__.py\u001B[0m in \u001B[0;36m<module>\u001B[1;34m\u001B[0m\n\u001B[0;32m      1\u001B[0m \u001B[1;31m# flake8: noqa\u001B[0m\u001B[1;33m\u001B[0m\u001B[1;33m\u001B[0m\u001B[1;33m\u001B[0m\u001B[0m\n\u001B[0;32m      2\u001B[0m \u001B[1;33m\u001B[0m\u001B[0m\n\u001B[1;32m----> 3\u001B[1;33m from .tslibs import (\n\u001B[0m\u001B[0;32m      4\u001B[0m     \u001B[0mNaT\u001B[0m\u001B[1;33m,\u001B[0m\u001B[1;33m\u001B[0m\u001B[1;33m\u001B[0m\u001B[0m\n\u001B[0;32m      5\u001B[0m     \u001B[0mNaTType\u001B[0m\u001B[1;33m,\u001B[0m\u001B[1;33m\u001B[0m\u001B[1;33m\u001B[0m\u001B[0m\n",
      "\u001B[1;32md:\\python\\envs\\venv_telegram_analysis\\lib\\site-packages\\pandas\\_libs\\tslibs\\__init__.py\u001B[0m in \u001B[0;36m<module>\u001B[1;34m\u001B[0m\n\u001B[0;32m      1\u001B[0m \u001B[1;31m# flake8: noqa\u001B[0m\u001B[1;33m\u001B[0m\u001B[1;33m\u001B[0m\u001B[1;33m\u001B[0m\u001B[0m\n\u001B[0;32m      2\u001B[0m \u001B[1;33m\u001B[0m\u001B[0m\n\u001B[1;32m----> 3\u001B[1;33m \u001B[1;32mfrom\u001B[0m \u001B[1;33m.\u001B[0m\u001B[0mconversion\u001B[0m \u001B[1;32mimport\u001B[0m \u001B[0mlocalize_pydatetime\u001B[0m\u001B[1;33m,\u001B[0m \u001B[0mnormalize_date\u001B[0m\u001B[1;33m\u001B[0m\u001B[1;33m\u001B[0m\u001B[0m\n\u001B[0m\u001B[0;32m      4\u001B[0m \u001B[1;32mfrom\u001B[0m \u001B[1;33m.\u001B[0m\u001B[0mnattype\u001B[0m \u001B[1;32mimport\u001B[0m \u001B[0mNaT\u001B[0m\u001B[1;33m,\u001B[0m \u001B[0mNaTType\u001B[0m\u001B[1;33m,\u001B[0m \u001B[0miNaT\u001B[0m\u001B[1;33m,\u001B[0m \u001B[0mis_null_datetimelike\u001B[0m\u001B[1;33m\u001B[0m\u001B[1;33m\u001B[0m\u001B[0m\n\u001B[0;32m      5\u001B[0m \u001B[1;32mfrom\u001B[0m \u001B[1;33m.\u001B[0m\u001B[0mnp_datetime\u001B[0m \u001B[1;32mimport\u001B[0m \u001B[0mOutOfBoundsDatetime\u001B[0m\u001B[1;33m\u001B[0m\u001B[1;33m\u001B[0m\u001B[0m\n",
      "\u001B[1;32mpandas/_libs/tslibs/c_timestamp.pxd\u001B[0m in \u001B[0;36minit pandas._libs.tslibs.conversion\u001B[1;34m()\u001B[0m\n",
      "\u001B[1;32mpandas/_libs/tslibs/c_timestamp.pyx\u001B[0m in \u001B[0;36minit pandas._libs.tslibs.c_timestamp\u001B[1;34m()\u001B[0m\n",
      "\u001B[1;32mpandas/_libs/tslibs/tzconversion.pyx\u001B[0m in \u001B[0;36minit pandas._libs.tslibs.tzconversion\u001B[1;34m()\u001B[0m\n",
      "\u001B[1;32mpandas/_libs/tslibs/timedeltas.pyx\u001B[0m in \u001B[0;36minit pandas._libs.tslibs.timedeltas\u001B[1;34m()\u001B[0m\n",
      "\u001B[1;32mpandas/_libs/tslibs/offsets.pyx\u001B[0m in \u001B[0;36minit pandas._libs.tslibs.offsets\u001B[1;34m()\u001B[0m\n",
      "\u001B[1;32mpandas/_libs/tslibs/ccalendar.pyx\u001B[0m in \u001B[0;36minit pandas._libs.tslibs.ccalendar\u001B[1;34m()\u001B[0m\n",
      "\u001B[1;32mpandas/_libs/tslibs/strptime.pyx\u001B[0m in \u001B[0;36minit pandas._libs.tslibs.strptime\u001B[1;34m()\u001B[0m\n",
      "\u001B[1;32mpandas/_libs/tslibs/strptime.pyx\u001B[0m in \u001B[0;36mpandas._libs.tslibs.strptime.TimeRE.__init__\u001B[1;34m()\u001B[0m\n",
      "\u001B[1;32mpandas/_libs/tslibs/strptime.pyx\u001B[0m in \u001B[0;36mpandas._libs.tslibs.strptime.TimeRE.__seqToRE\u001B[1;34m()\u001B[0m\n",
      "\u001B[1;32md:\\python\\envs\\venv_telegram_analysis\\lib\\site-packages\\pytz\\lazy.py\u001B[0m in \u001B[0;36m_lazy\u001B[1;34m(self, *args, **kw)\u001B[0m\n\u001B[0;32m     99\u001B[0m                 \u001B[1;32mtry\u001B[0m\u001B[1;33m:\u001B[0m\u001B[1;33m\u001B[0m\u001B[1;33m\u001B[0m\u001B[0m\n\u001B[0;32m    100\u001B[0m                     \u001B[1;32mif\u001B[0m \u001B[0mlen\u001B[0m\u001B[1;33m(\u001B[0m\u001B[0mfill_iter\u001B[0m\u001B[1;33m)\u001B[0m \u001B[1;33m>\u001B[0m \u001B[1;36m0\u001B[0m\u001B[1;33m:\u001B[0m\u001B[1;33m\u001B[0m\u001B[1;33m\u001B[0m\u001B[0m\n\u001B[1;32m--> 101\u001B[1;33m                         \u001B[0mlist\u001B[0m\u001B[1;33m.\u001B[0m\u001B[0mextend\u001B[0m\u001B[1;33m(\u001B[0m\u001B[0mself\u001B[0m\u001B[1;33m,\u001B[0m \u001B[0mfill_iter\u001B[0m\u001B[1;33m.\u001B[0m\u001B[0mpop\u001B[0m\u001B[1;33m(\u001B[0m\u001B[1;33m)\u001B[0m\u001B[1;33m)\u001B[0m\u001B[1;33m\u001B[0m\u001B[1;33m\u001B[0m\u001B[0m\n\u001B[0m\u001B[0;32m    102\u001B[0m                         \u001B[1;32mfor\u001B[0m \u001B[0mmethod_name\u001B[0m \u001B[1;32min\u001B[0m \u001B[0mcls\u001B[0m\u001B[1;33m.\u001B[0m\u001B[0m_props\u001B[0m\u001B[1;33m:\u001B[0m\u001B[1;33m\u001B[0m\u001B[1;33m\u001B[0m\u001B[0m\n\u001B[0;32m    103\u001B[0m                             \u001B[0mdelattr\u001B[0m\u001B[1;33m(\u001B[0m\u001B[0mLazyList\u001B[0m\u001B[1;33m,\u001B[0m \u001B[0mmethod_name\u001B[0m\u001B[1;33m)\u001B[0m\u001B[1;33m\u001B[0m\u001B[1;33m\u001B[0m\u001B[0m\n",
      "\u001B[1;32md:\\python\\envs\\venv_telegram_analysis\\lib\\site-packages\\pytz\\__init__.py\u001B[0m in \u001B[0;36m<genexpr>\u001B[1;34m(.0)\u001B[0m\n\u001B[0;32m   1103\u001B[0m  'Zulu']\n\u001B[0;32m   1104\u001B[0m all_timezones = LazyList(\n\u001B[1;32m-> 1105\u001B[1;33m         tz for tz in all_timezones if resource_exists(tz))\n\u001B[0m\u001B[0;32m   1106\u001B[0m \u001B[1;33m\u001B[0m\u001B[0m\n\u001B[0;32m   1107\u001B[0m \u001B[0mall_timezones_set\u001B[0m \u001B[1;33m=\u001B[0m \u001B[0mLazySet\u001B[0m\u001B[1;33m(\u001B[0m\u001B[0mall_timezones\u001B[0m\u001B[1;33m)\u001B[0m\u001B[1;33m\u001B[0m\u001B[1;33m\u001B[0m\u001B[0m\n",
      "\u001B[1;32md:\\python\\envs\\venv_telegram_analysis\\lib\\site-packages\\pytz\\__init__.py\u001B[0m in \u001B[0;36mresource_exists\u001B[1;34m(name)\u001B[0m\n\u001B[0;32m    112\u001B[0m     \u001B[1;34m\"\"\"Return true if the given resource exists\"\"\"\u001B[0m\u001B[1;33m\u001B[0m\u001B[1;33m\u001B[0m\u001B[0m\n\u001B[0;32m    113\u001B[0m     \u001B[1;32mtry\u001B[0m\u001B[1;33m:\u001B[0m\u001B[1;33m\u001B[0m\u001B[1;33m\u001B[0m\u001B[0m\n\u001B[1;32m--> 114\u001B[1;33m         \u001B[0mopen_resource\u001B[0m\u001B[1;33m(\u001B[0m\u001B[0mname\u001B[0m\u001B[1;33m)\u001B[0m\u001B[1;33m.\u001B[0m\u001B[0mclose\u001B[0m\u001B[1;33m(\u001B[0m\u001B[1;33m)\u001B[0m\u001B[1;33m\u001B[0m\u001B[1;33m\u001B[0m\u001B[0m\n\u001B[0m\u001B[0;32m    115\u001B[0m         \u001B[1;32mreturn\u001B[0m \u001B[1;32mTrue\u001B[0m\u001B[1;33m\u001B[0m\u001B[1;33m\u001B[0m\u001B[0m\n\u001B[0;32m    116\u001B[0m     \u001B[1;32mexcept\u001B[0m \u001B[0mIOError\u001B[0m\u001B[1;33m:\u001B[0m\u001B[1;33m\u001B[0m\u001B[1;33m\u001B[0m\u001B[0m\n",
      "\u001B[1;32md:\\python\\envs\\venv_telegram_analysis\\lib\\site-packages\\pytz\\__init__.py\u001B[0m in \u001B[0;36mopen_resource\u001B[1;34m(name)\u001B[0m\n\u001B[0;32m     95\u001B[0m         filename = os.path.join(os.path.dirname(__file__),\n\u001B[0;32m     96\u001B[0m                                 'zoneinfo', *name_parts)\n\u001B[1;32m---> 97\u001B[1;33m         \u001B[1;32mif\u001B[0m \u001B[1;32mnot\u001B[0m \u001B[0mos\u001B[0m\u001B[1;33m.\u001B[0m\u001B[0mpath\u001B[0m\u001B[1;33m.\u001B[0m\u001B[0mexists\u001B[0m\u001B[1;33m(\u001B[0m\u001B[0mfilename\u001B[0m\u001B[1;33m)\u001B[0m\u001B[1;33m:\u001B[0m\u001B[1;33m\u001B[0m\u001B[1;33m\u001B[0m\u001B[0m\n\u001B[0m\u001B[0;32m     98\u001B[0m             \u001B[1;31m# http://bugs.launchpad.net/bugs/383171 - we avoid using this\u001B[0m\u001B[1;33m\u001B[0m\u001B[1;33m\u001B[0m\u001B[1;33m\u001B[0m\u001B[0m\n\u001B[0;32m     99\u001B[0m             \u001B[1;31m# unless absolutely necessary to help when a broken version of\u001B[0m\u001B[1;33m\u001B[0m\u001B[1;33m\u001B[0m\u001B[1;33m\u001B[0m\u001B[0m\n",
      "\u001B[1;32mD:\\python\\lib\\genericpath.py\u001B[0m in \u001B[0;36mexists\u001B[1;34m(path)\u001B[0m\n\u001B[0;32m     17\u001B[0m     \u001B[1;34m\"\"\"Test whether a path exists.  Returns False for broken symbolic links\"\"\"\u001B[0m\u001B[1;33m\u001B[0m\u001B[1;33m\u001B[0m\u001B[0m\n\u001B[0;32m     18\u001B[0m     \u001B[1;32mtry\u001B[0m\u001B[1;33m:\u001B[0m\u001B[1;33m\u001B[0m\u001B[1;33m\u001B[0m\u001B[0m\n\u001B[1;32m---> 19\u001B[1;33m         \u001B[0mos\u001B[0m\u001B[1;33m.\u001B[0m\u001B[0mstat\u001B[0m\u001B[1;33m(\u001B[0m\u001B[0mpath\u001B[0m\u001B[1;33m)\u001B[0m\u001B[1;33m\u001B[0m\u001B[1;33m\u001B[0m\u001B[0m\n\u001B[0m\u001B[0;32m     20\u001B[0m     \u001B[1;32mexcept\u001B[0m \u001B[0mOSError\u001B[0m\u001B[1;33m:\u001B[0m\u001B[1;33m\u001B[0m\u001B[1;33m\u001B[0m\u001B[0m\n\u001B[0;32m     21\u001B[0m         \u001B[1;32mreturn\u001B[0m \u001B[1;32mFalse\u001B[0m\u001B[1;33m\u001B[0m\u001B[1;33m\u001B[0m\u001B[0m\n",
      "\u001B[1;31mKeyboardInterrupt\u001B[0m: "
     ]
    }
   ],
   "source": [
    "import datetime\n",
    "import logging\n",
    "import os\n",
    "import glob\n",
    "import pandas as pd\n",
    "\n",
    "from utils.dialog_manipulation import prepare_dialogs_sorted_by_lang\n",
    "from utils.dialog_manipulation import add_reply_time, add_subdialogs_ids"
   ]
  },
  {
   "cell_type": "code",
   "execution_count": null,
   "metadata": {},
   "outputs": [],
   "source": [
    "# def init_args():\n",
    "#     parser = argparse.ArgumentParser(description=\"Step #3.Prepare dialogs data.\")\n",
    "    \n",
    "#     parser.add_argument(\n",
    "#         \"--dialogs_ids\",\n",
    "#         nargs=\"+\",\n",
    "#         type=int,\n",
    "#         help=\"id(s) of dialog(s) to download, -1 for all\",\n",
    "#         required=True,\n",
    "#     )\n",
    "#     parser.add_argument(\n",
    "#         \"--config_path\",\n",
    "#         type=str,\n",
    "#         help=\"path to config file\",\n",
    "#         default=\"config/config.json\",\n",
    "#     )\n",
    "#     parser.add_argument(\"--debug_mode\", type=int, help=\"Debug mode\", default=0)\n",
    "#     return parser.parse_args()"
   ]
  },
  {
   "cell_type": "markdown",
   "metadata": {
    "pycharm": {
     "name": "#%% md\n"
    }
   },
   "source": [
    "## Change all this block to your parameters"
   ]
  },
  {
   "cell_type": "code",
   "execution_count": null,
   "metadata": {
    "pycharm": {
     "name": "#%%\n"
    }
   },
   "outputs": [],
   "source": [
    "# args = init_args()\n",
    "\n",
    "\n",
    "# DIALOGS_IDS = args.dialogs_ids\n",
    "# DEBUG_MODE = args.debug_mode\n",
    "\n",
    "\n",
    "# input dialogs_ids (it should be a list) or -1 for all\n",
    "DIALOGS_IDS = [-1]\n",
    "DEBUG_MODE = 0\n",
    "DIALOG_PATH = os.path.join('data', 'dialogs')\n",
    "LOGS_PATH = 'logs/project_logs.log'\n",
    "\n",
    "FINAL_DF_NAME = \"all.csv\"\n",
    "PATH_TO_PREPARED_DIALOGS = os.path.join(\"data\", \"dialogs_prepared\")\n",
    "PATH_TO_SAVE_GENERAL_DF = os.path.join(\"data\", \"dialogs_prepared\", FINAL_DF_NAME)\n",
    "\n",
    "# change to date range in what you want to analyse messages of user_id_get_msg - from START_DATE to END_DATE;\n",
    "# format \"%Y-%m-%d %H:%M:%S\"\n",
    "START_DATE = datetime.datetime(2016, 8, 9, 0, 0, 0)\n",
    "END_DATE = datetime.datetime(2020, 8, 10, 0, 0, 0)\n"
   ]
  },
  {
   "cell_type": "code",
   "execution_count": null,
   "outputs": [],
   "source": [
    "# !pip install -r requirements.txt\n",
    "# !pip install -U nlpcube"
   ],
   "metadata": {
    "collapsed": false,
    "pycharm": {
     "name": "#%%\n"
    }
   }
  },
  {
   "cell_type": "code",
   "execution_count": null,
   "outputs": [],
   "source": [
    "if DEBUG_MODE:\n",
    "    logging.basicConfig(filename=LOGS_PATH, level=logging.DEBUG)\n",
    "\n",
    "if os.path.isdir(DIALOG_PATH):\n",
    "    if not os.path.isdir(PATH_TO_PREPARED_DIALOGS):\n",
    "        os.mkdir(PATH_TO_PREPARED_DIALOGS)\n",
    "\n",
    "    prepare_dialogs_sorted_by_lang(DIALOGS_IDS, DIALOG_PATH, PATH_TO_PREPARED_DIALOGS,\n",
    "                                   START_DATE, END_DATE, \"add_lang_column\")\n",
    "\n",
    "else:\n",
    "    logging.error('Dialogs dir does not exist !')"
   ],
   "metadata": {
    "collapsed": false,
    "pycharm": {
     "name": "#%%\n"
    }
   }
  },
  {
   "cell_type": "code",
   "execution_count": null,
   "outputs": [],
   "source": [
    "flag_get_all = 0\n",
    "\n",
    "if DIALOGS_IDS[0] == -1:\n",
    "    DIALOGS_IDS = glob.glob(f\"{PATH_TO_PREPARED_DIALOGS}/*.csv\")\n",
    "    flag_get_all = 1"
   ],
   "metadata": {
    "collapsed": false,
    "pycharm": {
     "name": "#%%\n"
    }
   }
  },
  {
   "cell_type": "code",
   "execution_count": null,
   "outputs": [],
   "source": [
    "DIALOGS_IDS"
   ],
   "metadata": {
    "collapsed": false,
    "pycharm": {
     "name": "#%%\n"
    }
   }
  },
  {
   "cell_type": "code",
   "execution_count": null,
   "outputs": [],
   "source": [
    "frames = []\n",
    "\n",
    "general_df = pd.DataFrame()\n",
    "general_n_subdialogs = 0\n",
    "general_dialog_id = 0\n",
    "len_dialogs = len(DIALOGS_IDS)\n",
    "\n",
    "for n_dialog_id, dialog_file in enumerate(DIALOGS_IDS):\n",
    "    dialog_id = dialog_file.split('/')[-1]\n",
    "\n",
    "    if dialog_id == os.path.join(PATH_TO_PREPARED_DIALOGS, FINAL_DF_NAME):\n",
    "        continue\n",
    "\n",
    "    if flag_get_all == 1:\n",
    "        dialog_id = str(dialog_id)[:-4]\n",
    "\n",
    "    data = pd.read_csv(dialog_file)\n",
    "\n",
    "    data[\"reply_btw_sender_time\"], data[\"reply_btw_own_time\"] = add_reply_time(data)\n",
    "    data[\"subdialog_id\"] = add_subdialogs_ids(data)\n",
    "\n",
    "    data[\"dialog ID\"] = n_dialog_id\n",
    "\n",
    "    general_df = pd.concat([general_df, data])\n",
    "    print(f\"{n_dialog_id + 1} dialogs csv from {len_dialogs} succeeded\")\n",
    "\n",
    "\n",
    "general_df.rename(columns={'id': 'message_id'}, inplace=True)\n",
    "\n",
    "general_df = general_df.drop(\"Unnamed: 0\", axis=1)\n",
    "general_df = general_df.drop(\"Unnamed: 0.1\", axis=1)\n",
    "\n",
    "cols = ['dialog ID', \"message_id\", \"date\", \"from_id\", 'to_id', 'fwd_from', 'dialog_language',\n",
    "        'reply_btw_sender_time', 'reply_btw_own_time', 'subdialog_id', 'message', 'preprocessed_message']\n",
    "\n",
    "rest_cols = [col for col in general_df.columns if col not in cols]\n",
    "\n",
    "# place long text columns at the end of df\n",
    "cols = cols[:-2] + rest_cols + cols[-2:]\n",
    "general_df = general_df[cols]"
   ],
   "metadata": {
    "collapsed": false,
    "pycharm": {
     "name": "#%%\n"
    }
   }
  },
  {
   "cell_type": "code",
   "execution_count": null,
   "outputs": [],
   "source": [
    "general_df.to_csv(PATH_TO_SAVE_GENERAL_DF, index=False)\n"
   ],
   "metadata": {
    "collapsed": false,
    "pycharm": {
     "name": "#%%\n"
    }
   }
  },
  {
   "cell_type": "code",
   "execution_count": null,
   "outputs": [],
   "source": [],
   "metadata": {
    "collapsed": false,
    "pycharm": {
     "name": "#%%\n"
    }
   }
  }
 ],
 "metadata": {
  "kernelspec": {
   "display_name": "Python 3",
   "language": "python",
   "name": "python3"
  },
  "language_info": {
   "codemirror_mode": {
    "name": "ipython",
    "version": 3
   },
   "file_extension": ".py",
   "mimetype": "text/x-python",
   "name": "python",
   "nbconvert_exporter": "python",
   "pygments_lexer": "ipython3",
   "version": "3.7.4"
  }
 },
 "nbformat": 4,
 "nbformat_minor": 1
}