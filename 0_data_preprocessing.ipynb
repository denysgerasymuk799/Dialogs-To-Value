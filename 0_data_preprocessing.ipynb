{
 "cells": [
  {
   "cell_type": "code",
   "execution_count": 6,
   "metadata": {},
   "outputs": [],
   "source": [
    "import datetime\n",
    "import logging\n",
    "import os\n",
    "import glob\n",
    "import pandas as pd\n",
    "\n",
    "from utils.dialog_manipulation import prepare_dialogs_sorted_by_lang\n",
    "from utils.dialog_manipulation import add_reply_time, add_subdialogs_ids"
   ]
  },
  {
   "cell_type": "code",
   "execution_count": 2,
   "metadata": {},
   "outputs": [],
   "source": [
    "# def init_args():\n",
    "#     parser = argparse.ArgumentParser(description=\"Step #3.Prepare dialogs data.\")\n",
    "    \n",
    "#     parser.add_argument(\n",
    "#         \"--dialogs_ids\",\n",
    "#         nargs=\"+\",\n",
    "#         type=int,\n",
    "#         help=\"id(s) of dialog(s) to download, -1 for all\",\n",
    "#         required=True,\n",
    "#     )\n",
    "#     parser.add_argument(\n",
    "#         \"--config_path\",\n",
    "#         type=str,\n",
    "#         help=\"path to config file\",\n",
    "#         default=\"config/config.json\",\n",
    "#     )\n",
    "#     parser.add_argument(\"--debug_mode\", type=int, help=\"Debug mode\", default=0)\n",
    "#     return parser.parse_args()"
   ]
  },
  {
   "cell_type": "markdown",
   "metadata": {
    "pycharm": {
     "name": "#%% md\n"
    }
   },
   "source": [
    "## Change all this block to your parameters"
   ]
  },
  {
   "cell_type": "code",

   "execution_count": 3,
   "metadata": {
    "pycharm": {
     "name": "#%%\n"
    }
   },
   "outputs": [],
   "source": [
    "# args = init_args()\n",
    "\n",
    "\n",
    "# DIALOGS_IDS = args.dialogs_ids\n",
    "# DEBUG_MODE = args.debug_mode\n",
    "\n",
    "\n",
    "# input dialogs_ids (it should be a list) or -1 for all\n",
    "DIALOGS_IDS = [-1]\n",
    "DEBUG_MODE = 0\n",
    "DIALOG_PATH = os.path.join('data', 'all_dialogs2')\n",
    "LOGS_PATH = 'logs/project_logs.log'\n",
    "\n",
    "FINAL_DF_NAME = \"final_all2.csv\"\n",
    "PATH_TO_PREPARED_DIALOGS = os.path.join(\"data\", \"all_prepared_dialogs2\")\n",
    "PATH_TO_SAVE_GENERAL_DF = os.path.join(\"data\", \"all_prepared_dialogs2\", FINAL_DF_NAME)\n",
    "\n",
    "# change to date range in what you want to analyse messages of user_id_get_msg - from START_DATE to END_DATE;\n",
    "# format \"%Y-%m-%d %H:%M:%S\"\n",
    "START_DATE = datetime.datetime(2016, 8, 9, 0, 0, 0)\n",
    "END_DATE = datetime.datetime(2020, 8, 10, 0, 0, 0)\n"
   ]
  },
  {
   "cell_type": "code",
   "execution_count": null,
   "execution_count": 4,
   "metadata": {
    "pycharm": {
     "name": "#%%\n"
    }
   },

   "outputs": [],
   "source": [
    "# !pip install -r requirements.txt\n",
    "# !pip install -U nlpcube"
   ]
  },
  {
   "cell_type": "markdown",
   "metadata": {},
   "source": [
    "## TODO:\n",
    "\n",
    "### 1. sometimes prepare_dialogs_sorted_by_lang function checks 999msgs, sometimes it uses 5msgs. this behaviour should be fixed\n",
    "### 2. pls add index=False in places where you save DF in the file\n",
    "### 3. if you make this method to performe in the reasonble time(fast) - you can avoid saving temporary files as it's time consuming proccess(save file)"
   ]
  },
  {
   "cell_type": "code",
   "execution_count": 5,
   "metadata": {
    "pycharm": {
     "name": "#%%\n"
    }
   },
   "outputs": [],
   "source": [
    "# !pip install -r requirements.txt\n",
    "# !pip install -U nlpcube"
   ]
  },
  {
   "cell_type": "code",
   "execution_count": null,
   "metadata": {
    "pycharm": {
     "name": "#%%\n"
    }
   },
   "outputs": [],

   "source": [
    "if DEBUG_MODE:\n",
    "    logging.basicConfig(filename=LOGS_PATH, level=logging.DEBUG)\n",
    "\n",
    "if os.path.isdir(DIALOG_PATH):\n",
    "    if not os.path.isdir(PATH_TO_PREPARED_DIALOGS):\n",
    "        os.mkdir(PATH_TO_PREPARED_DIALOGS)\n",
    "\n",
    "    prepare_dialogs_sorted_by_lang(DIALOGS_IDS, DIALOG_PATH, PATH_TO_PREPARED_DIALOGS,\n",
    "                                   START_DATE, END_DATE, \"add_lang_column\")\n",
    "\n",
    "else:\n",
    "    logging.error('Dialogs dir does not exist !')"
   ]
  },
  {
   "cell_type": "code",
   "execution_count": null,

   "metadata": {
    "pycharm": {
     "name": "#%%\n"
    }

   },
   "outputs": [],
   "source": [
    "flag_get_all = 0\n",
    "\n",
    "if DIALOGS_IDS[0] == -1:\n",
    "    DIALOGS_IDS = glob.glob(f\"{PATH_TO_PREPARED_DIALOGS}/*.csv\")\n",
    "    flag_get_all = 1"
   ]

  },
  {
   "cell_type": "code",
   "execution_count": 7,
   "metadata": {
    "pycharm": {
     "name": "#%%\n"
    }
   },
   "outputs": [
    {
     "data": {
      "text/plain": [
       "['data/dialogs_prepared/448703929.csv',\n",
       " 'data/dialogs_prepared/-411310808.csv',\n",
       " 'data/dialogs_prepared/-377680544.csv',\n",
       " 'data/dialogs_prepared/862064268.csv',\n",
       " 'data/dialogs_prepared/-328284553.csv',\n",
       " 'data/dialogs_prepared/-362548330.csv',\n",
       " 'data/dialogs_prepared/619023365.csv',\n",
       " 'data/dialogs_prepared/566042888.csv',\n",
       " 'data/dialogs_prepared/875082281.csv',\n",
       " 'data/dialogs_prepared/818427788.csv',\n",
       " 'data/dialogs_prepared/721785597.csv',\n",
       " 'data/dialogs_prepared/138036599.csv',\n",
       " 'data/dialogs_prepared/730752982.csv',\n",
       " 'data/dialogs_prepared/153198645.csv',\n",
       " 'data/dialogs_prepared/-169766999.csv',\n",
       " 'data/dialogs_prepared/-193231004.csv',\n",
       " 'data/dialogs_prepared/all.csv',\n",
       " 'data/dialogs_prepared/-197859086.csv']"
      ]
     },
     "execution_count": 7,
     "metadata": {},
     "output_type": "execute_result"
    }
   ],
   "source": [
    "DIALOGS_IDS"
   ]
  },
  {
   "cell_type": "markdown",
   "metadata": {},
   "source": [
    "## TODO: \n",
    "### 4. pls move prepare_dialogs_sorted_by_lang function in the for loop\n",
    "### 5. fix code in the lines:\n",
    "    data[\"reply_btw_sender_time\"], data[\"reply_btw_own_time\"] = add_reply_time(data)\n",
    "    data[\"subdialog_id\"] = add_subdialogs_ids(data)"
   ]
  },
  {
   "cell_type": "code",
   "execution_count": 8,
   "metadata": {
    "pycharm": {
     "name": "#%%\n"
    }

   },
   "outputs": [],
   "source": [
    "DIALOGS_IDS"
   ]
  },
  {
   "cell_type": "code",
   "execution_count": null,
   "metadata": {
    "pycharm": {
     "name": "#%%\n"
    }
   },
   "outputs": [],

   "source": [
    "frames = []\n",
    "\n",
    "general_df = pd.DataFrame()\n",
    "general_n_subdialogs = 0\n",
    "general_dialog_id = 0\n",
    "len_dialogs = len(DIALOGS_IDS)\n",
    "\n",
    "for n_dialog_id, dialog_file in enumerate(DIALOGS_IDS):\n",
    "    dialog_id = dialog_file.split('/')[-1]\n",
    "\n",
    "    if dialog_id == os.path.join(PATH_TO_PREPARED_DIALOGS, FINAL_DF_NAME):\n",
    "        continue\n",
    "\n",
    "    if flag_get_all == 1:\n",
    "        dialog_id = str(dialog_id)[:-4]\n",
    "\n",
    "    data = pd.read_csv(dialog_file)\n",
    "\n",
    "    \n",
    "    data[\"reply_btw_sender_time\"], data[\"reply_btw_own_time\"] = add_reply_time(data)\n",
    "    data[\"subdialog_id\"] = add_subdialogs_ids(data)\n",
    "\n",
    "    data[\"dialog ID\"] = n_dialog_id\n",
    "\n",
    "    general_df = pd.concat([general_df, data])\n",
    "    \n",
    "    print(f\"{n_dialog_id + 1} dialogs csv from {len_dialogs} succeeded\")\n",
    "\n",
    "\n",
    "general_df.rename(columns={'id': 'message_id'}, inplace=True)\n",
    "\n",
    "# general_df = general_df.drop(\"Unnamed: 0\", axis=1)\n",
    "# general_df = general_df.drop(\"Unnamed: 0.1\", axis=1)\n",
    "\n",
    "cols = ['dialog ID', \"message_id\", \"date\", \"from_id\", 'to_id', 'fwd_from', 'dialog_language',\n",
    "        'reply_btw_sender_time', 'reply_btw_own_time', 'subdialog_id', 'message', 'preprocessed_message']\n",
    "\n",
    "rest_cols = [col for col in general_df.columns if col not in cols]\n",
    "\n",
    "# place long text columns at the end of df\n",
    "cols = cols[:-2] + rest_cols + cols[-2:]\n",
    "general_df = general_df[cols]"
   ]
  },
  {
   "cell_type": "code",
   "execution_count": null,
   "metadata": {
    "pycharm": {
     "name": "#%%\n"
    }
   },
   "outputs": [],
   "source": [
    "general_df.to_csv(PATH_TO_SAVE_GENERAL_DF, index=False)\n"
   ]
  },
  {
   "cell_type": "code",
   "execution_count": null,
   "metadata": {
    "pycharm": {
     "name": "#%%\n"
    }
   },
   "outputs": [],
   "source": []
  }
 ],
 "metadata": {
  "kernelspec": {
   "display_name": "Python 3",
   "language": "python",
   "name": "python3"
  },
  "language_info": {
   "codemirror_mode": {
    "name": "ipython",
    "version": 3
   },
   "file_extension": ".py",
   "mimetype": "text/x-python",
   "name": "python",
   "nbconvert_exporter": "python",
   "pygments_lexer": "ipython3",
   "version": "3.7.4"
  }
 },
 "nbformat": 4,
 "nbformat_minor": 1
}
