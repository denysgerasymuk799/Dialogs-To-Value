{
 "cells": [
  {
   "cell_type": "code",
   "execution_count": 6,
   "metadata": {},
   "outputs": [
    {
     "ename": "AttributeError",
     "evalue": "module 'nltk' has no attribute 'internals'",
     "output_type": "error",
     "traceback": [
      "\u001B[1;31m---------------------------------------------------------------------------\u001B[0m",
      "\u001B[1;31mAttributeError\u001B[0m                            Traceback (most recent call last)",
      "\u001B[1;32m<ipython-input-6-2f2aa4e99c65>\u001B[0m in \u001B[0;36m<module>\u001B[1;34m\u001B[0m\n\u001B[0;32m      5\u001B[0m \u001B[1;32mimport\u001B[0m \u001B[0mpandas\u001B[0m \u001B[1;32mas\u001B[0m \u001B[0mpd\u001B[0m\u001B[1;33m\u001B[0m\u001B[1;33m\u001B[0m\u001B[0m\n\u001B[0;32m      6\u001B[0m \u001B[1;33m\u001B[0m\u001B[0m\n\u001B[1;32m----> 7\u001B[1;33m \u001B[1;32mfrom\u001B[0m \u001B[0mutils\u001B[0m\u001B[1;33m.\u001B[0m\u001B[0mdialog_manipulation\u001B[0m \u001B[1;32mimport\u001B[0m \u001B[0mprepare_dialogs_sorted_by_lang\u001B[0m\u001B[1;33m\u001B[0m\u001B[1;33m\u001B[0m\u001B[0m\n\u001B[0m\u001B[0;32m      8\u001B[0m \u001B[1;32mfrom\u001B[0m \u001B[0mutils\u001B[0m\u001B[1;33m.\u001B[0m\u001B[0mdialog_manipulation\u001B[0m \u001B[1;32mimport\u001B[0m \u001B[0madd_reply_time\u001B[0m\u001B[1;33m,\u001B[0m \u001B[0madd_subdialogs_ids\u001B[0m\u001B[1;33m\u001B[0m\u001B[1;33m\u001B[0m\u001B[0m\n\u001B[0;32m      9\u001B[0m \u001B[1;33m\u001B[0m\u001B[0m\n",
      "\u001B[1;32mD:\\my_work\\programming\\telegram-dialogs-analysis\\utils\\dialog_manipulation.py\u001B[0m in \u001B[0;36m<module>\u001B[1;34m\u001B[0m\n\u001B[0;32m      7\u001B[0m \u001B[1;32mfrom\u001B[0m \u001B[0mcube\u001B[0m\u001B[1;33m.\u001B[0m\u001B[0mapi\u001B[0m \u001B[1;32mimport\u001B[0m \u001B[0mCube\u001B[0m\u001B[1;33m\u001B[0m\u001B[1;33m\u001B[0m\u001B[0m\n\u001B[0;32m      8\u001B[0m \u001B[1;33m\u001B[0m\u001B[0m\n\u001B[1;32m----> 9\u001B[1;33m \u001B[1;32mfrom\u001B[0m \u001B[0mutils\u001B[0m\u001B[1;33m.\u001B[0m\u001B[0mtext_data_transformation\u001B[0m \u001B[1;32mimport\u001B[0m \u001B[0mtransform_raw_data\u001B[0m\u001B[1;33m\u001B[0m\u001B[1;33m\u001B[0m\u001B[0m\n\u001B[0m\u001B[0;32m     10\u001B[0m \u001B[1;33m\u001B[0m\u001B[0m\n\u001B[0;32m     11\u001B[0m \u001B[1;33m\u001B[0m\u001B[0m\n",
      "\u001B[1;32mD:\\my_work\\programming\\telegram-dialogs-analysis\\utils\\text_data_transformation.py\u001B[0m in \u001B[0;36m<module>\u001B[1;34m\u001B[0m\n\u001B[0;32m     10\u001B[0m \u001B[1;32mimport\u001B[0m \u001B[0mpymorphy2\u001B[0m\u001B[1;33m\u001B[0m\u001B[1;33m\u001B[0m\u001B[0m\n\u001B[0;32m     11\u001B[0m \u001B[1;32mimport\u001B[0m \u001B[0mtokenize_uk\u001B[0m\u001B[1;33m\u001B[0m\u001B[1;33m\u001B[0m\u001B[0m\n\u001B[1;32m---> 12\u001B[1;33m \u001B[1;32mfrom\u001B[0m \u001B[0mnltk\u001B[0m\u001B[1;33m.\u001B[0m\u001B[0mstem\u001B[0m\u001B[1;33m.\u001B[0m\u001B[0msnowball\u001B[0m \u001B[1;32mimport\u001B[0m \u001B[0mSnowballStemmer\u001B[0m\u001B[1;33m\u001B[0m\u001B[1;33m\u001B[0m\u001B[0m\n\u001B[0m\u001B[0;32m     13\u001B[0m \u001B[1;32mfrom\u001B[0m \u001B[0mnltk\u001B[0m\u001B[1;33m.\u001B[0m\u001B[0mtokenize\u001B[0m \u001B[1;32mimport\u001B[0m \u001B[0mword_tokenize\u001B[0m\u001B[1;33m\u001B[0m\u001B[1;33m\u001B[0m\u001B[0m\n\u001B[0;32m     14\u001B[0m \u001B[1;32mfrom\u001B[0m \u001B[0mnum2words\u001B[0m \u001B[1;32mimport\u001B[0m \u001B[0mnum2words\u001B[0m\u001B[1;33m\u001B[0m\u001B[1;33m\u001B[0m\u001B[0m\n",
      "\u001B[1;32md:\\python\\envs\\venv_telegram_analysis\\lib\\site-packages\\nltk\\__init__.py\u001B[0m in \u001B[0;36m<module>\u001B[1;34m\u001B[0m\n\u001B[0;32m    173\u001B[0m     \u001B[1;32mfrom\u001B[0m \u001B[0mnltk\u001B[0m \u001B[1;32mimport\u001B[0m \u001B[0mcluster\u001B[0m\u001B[1;33m\u001B[0m\u001B[1;33m\u001B[0m\u001B[0m\n\u001B[0;32m    174\u001B[0m \u001B[1;33m\u001B[0m\u001B[0m\n\u001B[1;32m--> 175\u001B[1;33m \u001B[1;32mfrom\u001B[0m \u001B[0mnltk\u001B[0m\u001B[1;33m.\u001B[0m\u001B[0mdownloader\u001B[0m \u001B[1;32mimport\u001B[0m \u001B[0mdownload\u001B[0m\u001B[1;33m,\u001B[0m \u001B[0mdownload_shell\u001B[0m\u001B[1;33m\u001B[0m\u001B[1;33m\u001B[0m\u001B[0m\n\u001B[0m\u001B[0;32m    176\u001B[0m \u001B[1;33m\u001B[0m\u001B[0m\n\u001B[0;32m    177\u001B[0m \u001B[1;32mtry\u001B[0m\u001B[1;33m:\u001B[0m\u001B[1;33m\u001B[0m\u001B[1;33m\u001B[0m\u001B[0m\n",
      "\u001B[1;32md:\\python\\envs\\venv_telegram_analysis\\lib\\site-packages\\nltk\\downloader.py\u001B[0m in \u001B[0;36m<module>\u001B[1;34m\u001B[0m\n\u001B[0;32m   2466\u001B[0m \u001B[1;33m\u001B[0m\u001B[0m\n\u001B[0;32m   2467\u001B[0m \u001B[1;31m# Aliases\u001B[0m\u001B[1;33m\u001B[0m\u001B[1;33m\u001B[0m\u001B[1;33m\u001B[0m\u001B[0m\n\u001B[1;32m-> 2468\u001B[1;33m \u001B[0m_downloader\u001B[0m \u001B[1;33m=\u001B[0m \u001B[0mDownloader\u001B[0m\u001B[1;33m(\u001B[0m\u001B[1;33m)\u001B[0m\u001B[1;33m\u001B[0m\u001B[1;33m\u001B[0m\u001B[0m\n\u001B[0m\u001B[0;32m   2469\u001B[0m \u001B[0mdownload\u001B[0m \u001B[1;33m=\u001B[0m \u001B[0m_downloader\u001B[0m\u001B[1;33m.\u001B[0m\u001B[0mdownload\u001B[0m\u001B[1;33m\u001B[0m\u001B[1;33m\u001B[0m\u001B[0m\n\u001B[0;32m   2470\u001B[0m \u001B[1;33m\u001B[0m\u001B[0m\n",
      "\u001B[1;32md:\\python\\envs\\venv_telegram_analysis\\lib\\site-packages\\nltk\\downloader.py\u001B[0m in \u001B[0;36m__init__\u001B[1;34m(self, server_index_url, download_dir)\u001B[0m\n\u001B[0;32m    512\u001B[0m         \u001B[1;31m# decide where we're going to save things to.\u001B[0m\u001B[1;33m\u001B[0m\u001B[1;33m\u001B[0m\u001B[1;33m\u001B[0m\u001B[0m\n\u001B[0;32m    513\u001B[0m         \u001B[1;32mif\u001B[0m \u001B[0mself\u001B[0m\u001B[1;33m.\u001B[0m\u001B[0m_download_dir\u001B[0m \u001B[1;32mis\u001B[0m \u001B[1;32mNone\u001B[0m\u001B[1;33m:\u001B[0m\u001B[1;33m\u001B[0m\u001B[1;33m\u001B[0m\u001B[0m\n\u001B[1;32m--> 514\u001B[1;33m             \u001B[0mself\u001B[0m\u001B[1;33m.\u001B[0m\u001B[0m_download_dir\u001B[0m \u001B[1;33m=\u001B[0m \u001B[0mself\u001B[0m\u001B[1;33m.\u001B[0m\u001B[0mdefault_download_dir\u001B[0m\u001B[1;33m(\u001B[0m\u001B[1;33m)\u001B[0m\u001B[1;33m\u001B[0m\u001B[1;33m\u001B[0m\u001B[0m\n\u001B[0m\u001B[0;32m    515\u001B[0m \u001B[1;33m\u001B[0m\u001B[0m\n\u001B[0;32m    516\u001B[0m     \u001B[1;31m# /////////////////////////////////////////////////////////////////\u001B[0m\u001B[1;33m\u001B[0m\u001B[1;33m\u001B[0m\u001B[1;33m\u001B[0m\u001B[0m\n",
      "\u001B[1;32md:\\python\\envs\\venv_telegram_analysis\\lib\\site-packages\\nltk\\downloader.py\u001B[0m in \u001B[0;36mdefault_download_dir\u001B[1;34m(self)\u001B[0m\n\u001B[0;32m   1072\u001B[0m         \u001B[1;31m# variety of system-wide locations.\u001B[0m\u001B[1;33m\u001B[0m\u001B[1;33m\u001B[0m\u001B[1;33m\u001B[0m\u001B[0m\n\u001B[0;32m   1073\u001B[0m         \u001B[1;32mfor\u001B[0m \u001B[0mnltkdir\u001B[0m \u001B[1;32min\u001B[0m \u001B[0mnltk\u001B[0m\u001B[1;33m.\u001B[0m\u001B[0mdata\u001B[0m\u001B[1;33m.\u001B[0m\u001B[0mpath\u001B[0m\u001B[1;33m:\u001B[0m\u001B[1;33m\u001B[0m\u001B[1;33m\u001B[0m\u001B[0m\n\u001B[1;32m-> 1074\u001B[1;33m             \u001B[1;32mif\u001B[0m \u001B[0mos\u001B[0m\u001B[1;33m.\u001B[0m\u001B[0mpath\u001B[0m\u001B[1;33m.\u001B[0m\u001B[0mexists\u001B[0m\u001B[1;33m(\u001B[0m\u001B[0mnltkdir\u001B[0m\u001B[1;33m)\u001B[0m \u001B[1;32mand\u001B[0m \u001B[0mnltk\u001B[0m\u001B[1;33m.\u001B[0m\u001B[0minternals\u001B[0m\u001B[1;33m.\u001B[0m\u001B[0mis_writable\u001B[0m\u001B[1;33m(\u001B[0m\u001B[0mnltkdir\u001B[0m\u001B[1;33m)\u001B[0m\u001B[1;33m:\u001B[0m\u001B[1;33m\u001B[0m\u001B[1;33m\u001B[0m\u001B[0m\n\u001B[0m\u001B[0;32m   1075\u001B[0m                 \u001B[1;32mreturn\u001B[0m \u001B[0mnltkdir\u001B[0m\u001B[1;33m\u001B[0m\u001B[1;33m\u001B[0m\u001B[0m\n\u001B[0;32m   1076\u001B[0m \u001B[1;33m\u001B[0m\u001B[0m\n",
      "\u001B[1;31mAttributeError\u001B[0m: module 'nltk' has no attribute 'internals'"
     ]
    }
   ],
   "source": [
    "import datetime\n",
    "import logging\n",
    "import os\n",
    "import glob\n",
    "import pandas as pd\n",
    "\n",
    "from utils.dialog_manipulation import prepare_dialogs_sorted_by_lang\n",
    "from utils.dialog_manipulation import add_reply_time, add_subdialogs_ids"
   ]
  },
  {
   "cell_type": "code",
   "execution_count": 7,
   "metadata": {},
   "outputs": [],
   "source": [
    "# def init_args():\n",
    "#     parser = argparse.ArgumentParser(description=\"Step #3.Prepare dialogs data.\")\n",
    "    \n",
    "#     parser.add_argument(\n",
    "#         \"--dialogs_ids\",\n",
    "#         nargs=\"+\",\n",
    "#         type=int,\n",
    "#         help=\"id(s) of dialog(s) to download, -1 for all\",\n",
    "#         required=True,\n",
    "#     )\n",
    "#     parser.add_argument(\n",
    "#         \"--config_path\",\n",
    "#         type=str,\n",
    "#         help=\"path to config file\",\n",
    "#         default=\"config/config.json\",\n",
    "#     )\n",
    "#     parser.add_argument(\"--debug_mode\", type=int, help=\"Debug mode\", default=0)\n",
    "#     return parser.parse_args()"
   ]
  },
  {
   "cell_type": "markdown",
   "metadata": {
    "pycharm": {
     "name": "#%% md\n"
    }
   },
   "source": [
    "## Change all this block to your parameters"
   ]
  },
  {
   "cell_type": "code",
   "execution_count": 8,
   "metadata": {
    "pycharm": {
     "name": "#%%\n"
    }
   },
   "outputs": [],
   "source": [
    "# args = init_args()\n",
    "\n",
    "\n",
    "# DIALOGS_IDS = args.dialogs_ids\n",
    "# DEBUG_MODE = args.debug_mode\n",
    "\n",
    "\n",
    "# input dialogs_ids (it should be a list) or -1 for all\n",
    "DIALOGS_IDS = [-1]\n",
    "DEBUG_MODE = 0\n",
    "DIALOG_PATH = os.path.join('data', 'all_dialogs2')\n",
    "LOGS_PATH = 'logs/project_logs.log'\n",
    "\n",
    "FINAL_DF_NAME = \"final_all2.csv\"\n",
    "PATH_TO_PREPARED_DIALOGS = os.path.join(\"data\", \"all_prepared_dialogs2\")\n",
    "PATH_TO_SAVE_GENERAL_DF = os.path.join(\"data\", \"all_prepared_dialogs2\", FINAL_DF_NAME)\n",
    "\n",
    "# change to date range in what you want to analyse messages of user_id_get_msg - from START_DATE to END_DATE;\n",
    "# format \"%Y-%m-%d %H:%M:%S\"\n",
    "START_DATE = datetime.datetime(2016, 8, 9, 0, 0, 0)\n",
    "END_DATE = datetime.datetime(2020, 8, 10, 0, 0, 0)\n"
   ]
  },
  {
   "cell_type": "code",
   "execution_count": 9,
   "outputs": [],
   "source": [
    "# !pip install -r requirements.txt\n",
    "# !pip install -U nlpcube"
   ],
   "metadata": {
    "collapsed": false,
    "pycharm": {
     "name": "#%%\n"
    }
   }
  },
  {
   "cell_type": "code",
   "execution_count": 10,
   "outputs": [
    {
     "ename": "NameError",
     "evalue": "name 'prepare_dialogs_sorted_by_lang' is not defined",
     "output_type": "error",
     "traceback": [
      "\u001B[1;31m---------------------------------------------------------------------------\u001B[0m",
      "\u001B[1;31mNameError\u001B[0m                                 Traceback (most recent call last)",
      "\u001B[1;32m<ipython-input-10-45f93654f77a>\u001B[0m in \u001B[0;36m<module>\u001B[1;34m\u001B[0m\n\u001B[0;32m      6\u001B[0m         \u001B[0mos\u001B[0m\u001B[1;33m.\u001B[0m\u001B[0mmkdir\u001B[0m\u001B[1;33m(\u001B[0m\u001B[0mPATH_TO_PREPARED_DIALOGS\u001B[0m\u001B[1;33m)\u001B[0m\u001B[1;33m\u001B[0m\u001B[1;33m\u001B[0m\u001B[0m\n\u001B[0;32m      7\u001B[0m \u001B[1;33m\u001B[0m\u001B[0m\n\u001B[1;32m----> 8\u001B[1;33m     prepare_dialogs_sorted_by_lang(DIALOGS_IDS, DIALOG_PATH, PATH_TO_PREPARED_DIALOGS,\n\u001B[0m\u001B[0;32m      9\u001B[0m                                    START_DATE, END_DATE, \"add_lang_column\")\n\u001B[0;32m     10\u001B[0m \u001B[1;33m\u001B[0m\u001B[0m\n",
      "\u001B[1;31mNameError\u001B[0m: name 'prepare_dialogs_sorted_by_lang' is not defined"
     ]
    }
   ],
   "source": [
    "if DEBUG_MODE:\n",
    "    logging.basicConfig(filename=LOGS_PATH, level=logging.DEBUG)\n",
    "\n",
    "if os.path.isdir(DIALOG_PATH):\n",
    "    if not os.path.isdir(PATH_TO_PREPARED_DIALOGS):\n",
    "        os.mkdir(PATH_TO_PREPARED_DIALOGS)\n",
    "\n",
    "    prepare_dialogs_sorted_by_lang(DIALOGS_IDS, DIALOG_PATH, PATH_TO_PREPARED_DIALOGS,\n",
    "                                   START_DATE, END_DATE, \"add_lang_column\")\n",
    "\n",
    "else:\n",
    "    logging.error('Dialogs dir does not exist !')"
   ],
   "metadata": {
    "collapsed": false,
    "pycharm": {
     "name": "#%%\n"
    }
   }
  },
  {
   "cell_type": "code",
   "execution_count": 5,
   "outputs": [],
   "source": [
    "flag_get_all = 0\n",
    "\n",
    "if DIALOGS_IDS[0] == -1:\n",
    "    DIALOGS_IDS = glob.glob(f\"{PATH_TO_PREPARED_DIALOGS}/*.csv\")\n",
    "    flag_get_all = 1"
   ],
   "metadata": {
    "collapsed": false,
    "pycharm": {
     "name": "#%%\n"
    }
   }
  },
  {
   "cell_type": "code",
   "execution_count": null,
   "outputs": [],
   "source": [
    "DIALOGS_IDS"
   ],
   "metadata": {
    "collapsed": false,
    "pycharm": {
     "name": "#%%\n"
    }
   }
  },
  {
   "cell_type": "code",
   "execution_count": 66,
   "outputs": [
    {
     "ename": "AttributeError",
     "evalue": "'int' object has no attribute 'split'",
     "output_type": "error",
     "traceback": [
      "\u001B[1;31m---------------------------------------------------------------------------\u001B[0m",
      "\u001B[1;31mAttributeError\u001B[0m                            Traceback (most recent call last)",
      "\u001B[1;32m<ipython-input-66-ae0d00d22ab3>\u001B[0m in \u001B[0;36m<module>\u001B[1;34m\u001B[0m\n\u001B[0;32m      7\u001B[0m \u001B[1;33m\u001B[0m\u001B[0m\n\u001B[0;32m      8\u001B[0m \u001B[1;32mfor\u001B[0m \u001B[0mn_dialog_id\u001B[0m\u001B[1;33m,\u001B[0m \u001B[0mdialog_file\u001B[0m \u001B[1;32min\u001B[0m \u001B[0menumerate\u001B[0m\u001B[1;33m(\u001B[0m\u001B[0mDIALOGS_IDS\u001B[0m\u001B[1;33m)\u001B[0m\u001B[1;33m:\u001B[0m\u001B[1;33m\u001B[0m\u001B[1;33m\u001B[0m\u001B[0m\n\u001B[1;32m----> 9\u001B[1;33m     \u001B[0mdialog_id\u001B[0m \u001B[1;33m=\u001B[0m \u001B[0mdialog_file\u001B[0m\u001B[1;33m.\u001B[0m\u001B[0msplit\u001B[0m\u001B[1;33m(\u001B[0m\u001B[1;34m'/'\u001B[0m\u001B[1;33m)\u001B[0m\u001B[1;33m[\u001B[0m\u001B[1;33m-\u001B[0m\u001B[1;36m1\u001B[0m\u001B[1;33m]\u001B[0m\u001B[1;33m\u001B[0m\u001B[1;33m\u001B[0m\u001B[0m\n\u001B[0m\u001B[0;32m     10\u001B[0m \u001B[1;33m\u001B[0m\u001B[0m\n\u001B[0;32m     11\u001B[0m     \u001B[1;32mif\u001B[0m \u001B[0mdialog_id\u001B[0m \u001B[1;33m==\u001B[0m \u001B[0mos\u001B[0m\u001B[1;33m.\u001B[0m\u001B[0mpath\u001B[0m\u001B[1;33m.\u001B[0m\u001B[0mjoin\u001B[0m\u001B[1;33m(\u001B[0m\u001B[0mPATH_TO_PREPARED_DIALOGS\u001B[0m\u001B[1;33m,\u001B[0m \u001B[0mFINAL_DF_NAME\u001B[0m\u001B[1;33m)\u001B[0m\u001B[1;33m:\u001B[0m\u001B[1;33m\u001B[0m\u001B[1;33m\u001B[0m\u001B[0m\n",
      "\u001B[1;31mAttributeError\u001B[0m: 'int' object has no attribute 'split'"
     ]
    }
   ],
   "source": [
    "frames = []\n",
    "\n",
    "general_df = pd.DataFrame()\n",
    "general_n_subdialogs = 0\n",
    "general_dialog_id = 0\n",
    "len_dialogs = len(DIALOGS_IDS)\n",
    "\n",
    "for n_dialog_id, dialog_file in enumerate(DIALOGS_IDS):\n",
    "    dialog_id = dialog_file.split('/')[-1]\n",
    "\n",
    "    if dialog_id == os.path.join(PATH_TO_PREPARED_DIALOGS, FINAL_DF_NAME):\n",
    "        continue\n",
    "\n",
    "    if flag_get_all == 1:\n",
    "        dialog_id = str(dialog_id)[:-4]\n",
    "\n",
    "    data = pd.read_csv(dialog_file)\n",
    "\n",
    "    data[\"reply_btw_sender_time\"], data[\"reply_btw_own_time\"] = add_reply_time(data)\n",
    "    data[\"subdialog_id\"] = add_subdialogs_ids(data)\n",
    "\n",
    "    data[\"dialog ID\"] = n_dialog_id\n",
    "\n",
    "    general_df = pd.concat([general_df, data])\n",
    "    print(f\"{n_dialog_id + 1} dialogs csv from {len_dialogs} succeeded\")\n",
    "\n",
    "\n",
    "general_df.rename(columns={'id': 'message_id'}, inplace=True)\n",
    "\n",
    "# general_df = general_df.drop(\"Unnamed: 0\", axis=1)\n",
    "# general_df = general_df.drop(\"Unnamed: 0.1\", axis=1)\n",
    "\n",
    "cols = ['dialog ID', \"message_id\", \"date\", \"from_id\", 'to_id', 'fwd_from', 'dialog_language',\n",
    "        'reply_btw_sender_time', 'reply_btw_own_time', 'subdialog_id', 'message', 'preprocessed_message']\n",
    "\n",
    "rest_cols = [col for col in general_df.columns if col not in cols]\n",
    "\n",
    "# place long text columns at the end of df\n",
    "cols = cols[:-2] + rest_cols + cols[-2:]\n",
    "general_df = general_df[cols]"
   ],
   "metadata": {
    "collapsed": false,
    "pycharm": {
     "name": "#%%\n"
    }
   }
  },
  {
   "cell_type": "code",
   "execution_count": null,
   "outputs": [],
   "source": [
    "general_df.to_csv(PATH_TO_SAVE_GENERAL_DF, index=False)\n"
   ],
   "metadata": {
    "collapsed": false,
    "pycharm": {
     "name": "#%%\n"
    }
   }
  },
  {
   "cell_type": "code",
   "execution_count": null,
   "outputs": [],
   "source": [],
   "metadata": {
    "collapsed": false,
    "pycharm": {
     "name": "#%%\n"
    }
   }
  }
 ],
 "metadata": {
  "kernelspec": {
   "display_name": "Python 3",
   "language": "python",
   "name": "python3"
  },
  "language_info": {
   "codemirror_mode": {
    "name": "ipython",
    "version": 3
   },
   "file_extension": ".py",
   "mimetype": "text/x-python",
   "name": "python",
   "nbconvert_exporter": "python",
   "pygments_lexer": "ipython3",
   "version": "3.7.4"
  }
 },
 "nbformat": 4,
 "nbformat_minor": 1
}