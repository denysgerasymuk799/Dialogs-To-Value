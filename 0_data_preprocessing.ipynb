{
 "cells": [
  {
   "cell_type": "code",
   "execution_count": 1,
   "metadata": {},
   "outputs": [],
   "source": [
    "import datetime\n",
    "import logging\n",
    "import os\n",
    "import glob\n",
    "import pandas as pd\n",
    "\n",
    "from utils.dialog_manipulation import prepare_dialogs_sorted_by_lang\n",
    "from utils.dialog_manipulation import add_reply_time, add_subdialogs_ids"
   ]
  },
  {
   "cell_type": "code",
   "execution_count": 14,
   "metadata": {},
   "outputs": [],
   "source": [
    "# def init_args():\n",
    "#     parser = argparse.ArgumentParser(description=\"Step #3.Prepare dialogs data.\")\n",
    "    \n",
    "#     parser.add_argument(\n",
    "#         \"--dialogs_ids\",\n",
    "#         nargs=\"+\",\n",
    "#         type=int,\n",
    "#         help=\"id(s) of dialog(s) to download, -1 for all\",\n",
    "#         required=True,\n",
    "#     )\n",
    "#     parser.add_argument(\n",
    "#         \"--config_path\",\n",
    "#         type=str,\n",
    "#         help=\"path to config file\",\n",
    "#         default=\"config/config.json\",\n",
    "#     )\n",
    "#     parser.add_argument(\"--debug_mode\", type=int, help=\"Debug mode\", default=0)\n",
    "#     return parser.parse_args()"
   ]
  },
  {
   "cell_type": "markdown",
   "metadata": {},
   "source": [
    "## Change all this block to your parameters"
   ]
  },
  {
   "cell_type": "code",
   "execution_count": 8,
   "metadata": {
    "pycharm": {
     "name": "#%%\n"
    }
   },
   "outputs": [],
   "source": [
    "# args = init_args()\n",
    "\n",
    "\n",
    "# DIALOGS_IDS = args.dialogs_ids\n",
    "# DEBUG_MODE = args.debug_mode\n",
    "\n",
    "\n",
    "# input dialogs_ids (it should be a list) or -1 for all\n",
    "DIALOGS_IDS = [-1]\n",
    "DEBUG_MODE = 0\n",
    "DIALOG_PATH = os.path.join('data', 'test_dialogs')\n",
    "LOGS_PATH = 'logs/project_logs.log'\n",
    "\n",
    "FINAL_DF_NAME = \"all.csv\"\n",
    "PATH_TO_PREPARED_DIALOGS = os.path.join(\"data\", \"dialogs_prepared\")\n",
    "PATH_TO_SAVE_GENERAL_DF = os.path.join(\"data\", \"dialogs_prepared\", FINAL_DF_NAME)\n",
    "\n",
    "# change to date range in what you want to analyse messages of user_id_get_msg - from START_DATE to END_DATE;\n",
    "# format \"%Y-%m-%d %H:%M:%S\"\n",
    "START_DATE = datetime.datetime(2020, 8, 9, 0, 0, 0)\n",
    "END_DATE = datetime.datetime(2020, 8, 10, 0, 0, 0)"
   ]
  },
  {
   "cell_type": "code",
   "execution_count": 5,
   "metadata": {},
   "outputs": [],
   "source": [
    "# !pip install -r requirements.txt\n",
    "# !pip install -U nlpcube"
   ]
  },
  {
   "cell_type": "code",
   "execution_count": 17,
   "metadata": {
    "pycharm": {
     "name": "#%%\n"
    }
   },
   "outputs": [
    {
     "name": "stdout",
     "output_type": "stream",
     "text": [
      "[-1]\n",
      "dialog_ids_sorted_by_lang\n",
      "{'en': [], 'ru': ['-169766999'], 'ua': ['-193231004', '-197859086']}\n",
      "Loading latest local model: uk-1.1\n",
      "\tLoading embeddings ... \n",
      "\tLoading tokenization model ...\n",
      "\tLoading lemmatization model ...\n",
      "\tLoading tagger model ...\n",
      "\tLoading parser model ...\n"
     ]
    },
    {
     "name": "stderr",
     "output_type": "stream",
     "text": [
      "WARNING:root:saved dialog!\n",
      "WARNING:root:saved dialog!\n"
     ]
    },
    {
     "name": "stdout",
     "output_type": "stream",
     "text": [
      "Model loading complete.\n",
      "\n",
      "\n",
      "=======Language ua -- 1 from 3=======\n",
      "\n",
      "=======Language ua -- 2 from 3=======\n",
      "\n",
      "=======Language ru -- 3 from 3=======\n",
      "INDEX 0 from 454\n",
      "INDEX 1 from 454\n",
      "INDEX 2 from 454\n",
      "INDEX 4 from 454\n",
      "INDEX 5 from 454\n",
      "INDEX 6 from 454\n",
      "INDEX 7 from 454\n",
      "INDEX 9 from 454\n",
      "INDEX 10 from 454\n",
      "INDEX 11 from 454\n",
      "INDEX 12 from 454\n",
      "INDEX 18 from 454\n",
      "INDEX 19 from 454\n",
      "INDEX 20 from 454\n",
      "INDEX 21 from 454\n",
      "INDEX 26 from 454\n",
      "INDEX 27 from 454\n",
      "INDEX 28 from 454\n",
      "INDEX 38 from 454\n",
      "INDEX 39 from 454\n",
      "INDEX 40 from 454\n",
      "INDEX 41 from 454\n",
      "INDEX 42 from 454\n",
      "INDEX 43 from 454\n",
      "INDEX 44 from 454\n",
      "INDEX 45 from 454\n",
      "INDEX 46 from 454\n",
      "INDEX 47 from 454\n",
      "INDEX 48 from 454\n",
      "INDEX 49 from 454\n",
      "INDEX 50 from 454\n",
      "INDEX 51 from 454\n",
      "INDEX 52 from 454\n",
      "INDEX 53 from 454\n",
      "INDEX 54 from 454\n",
      "INDEX 55 from 454\n",
      "INDEX 56 from 454\n",
      "INDEX 57 from 454\n",
      "INDEX 60 from 454\n",
      "INDEX 61 from 454\n",
      "INDEX 62 from 454\n",
      "INDEX 63 from 454\n",
      "INDEX 65 from 454\n",
      "INDEX 66 from 454\n",
      "INDEX 67 from 454\n",
      "INDEX 69 from 454\n",
      "INDEX 70 from 454\n",
      "INDEX 71 from 454\n",
      "INDEX 72 from 454\n",
      "INDEX 73 from 454\n",
      "INDEX 75 from 454\n",
      "INDEX 76 from 454\n",
      "INDEX 77 from 454\n",
      "INDEX 78 from 454\n",
      "INDEX 79 from 454\n",
      "INDEX 80 from 454\n",
      "INDEX 82 from 454\n",
      "INDEX 83 from 454\n",
      "INDEX 84 from 454\n",
      "INDEX 85 from 454\n",
      "INDEX 86 from 454\n",
      "INDEX 87 from 454\n",
      "INDEX 88 from 454\n",
      "INDEX 89 from 454\n",
      "INDEX 90 from 454\n",
      "INDEX 91 from 454\n",
      "INDEX 92 from 454\n",
      "INDEX 93 from 454\n",
      "INDEX 94 from 454\n",
      "INDEX 95 from 454\n",
      "INDEX 96 from 454\n",
      "INDEX 97 from 454\n",
      "INDEX 98 from 454\n",
      "INDEX 99 from 454\n",
      "INDEX 100 from 454\n",
      "INDEX 101 from 454\n",
      "INDEX 102 from 454\n",
      "INDEX 103 from 454\n",
      "INDEX 104 from 454\n",
      "INDEX 105 from 454\n",
      "INDEX 106 from 454\n",
      "INDEX 107 from 454\n",
      "INDEX 108 from 454\n",
      "INDEX 109 from 454\n",
      "INDEX 110 from 454\n",
      "INDEX 111 from 454\n",
      "INDEX 112 from 454\n",
      "INDEX 113 from 454\n",
      "INDEX 114 from 454\n"
     ]
    },
    {
     "name": "stderr",
     "output_type": "stream",
     "text": [
      "WARNING:root:saved dialog!\n"
     ]
    },
    {
     "name": "stdout",
     "output_type": "stream",
     "text": [
      "INDEX 115 from 454\n"
     ]
    }
   ],
   "source": [
    "if DEBUG_MODE:\n",
    "    logging.basicConfig(filename=LOGS_PATH, level=logging.DEBUG)\n",
    "\n",
    "if os.path.isdir(DIALOG_PATH):\n",
    "    if not os.path.isdir(PATH_TO_PREPARED_DIALOGS):\n",
    "        os.mkdir(PATH_TO_PREPARED_DIALOGS)\n",
    "    \n",
    "    prepare_dialogs_sorted_by_lang(DIALOGS_IDS, DIALOG_PATH, PATH_TO_PREPARED_DIALOGS,\n",
    "                                   START_DATE, END_DATE, \"add_lang_column\")\n",
    "\n",
    "else:\n",
    "    logging.error('Dialogs dir does not exist !')"
   ]
  },
  {
   "cell_type": "code",
   "execution_count": 10,
   "metadata": {},
   "outputs": [],
   "source": [
    "flag_get_all = 0\n",
    "\n",
    "if DIALOGS_IDS[0] == -1:\n",
    "    DIALOGS_IDS = glob.glob(f\"{PATH_TO_PREPARED_DIALOGS}/*.csv\")\n",
    "    flag_get_all = 1"
   ]
  },
  {
   "cell_type": "code",
   "execution_count": 11,
   "metadata": {},
   "outputs": [
    {
     "data": {
      "text/plain": [
       "['data/dialogs_prepared/-169766999.csv',\n",
       " 'data/dialogs_prepared/-193231004.csv',\n",
       " 'data/dialogs_prepared/all.csv',\n",
       " 'data/dialogs_prepared/-197859086.csv']"
      ]
     },
     "execution_count": 11,
     "metadata": {},
     "output_type": "execute_result"
    }
   ],
   "source": [
    "DIALOGS_IDS"
   ]
  },
  {
   "cell_type": "code",
   "execution_count": 13,
   "metadata": {
    "pycharm": {
     "name": "#%%\n"
    }
   },
   "outputs": [
    {
     "name": "stderr",
     "output_type": "stream",
     "text": [
      "/Users/akurochkin/main/project/python/telegram-dialogs-analysis/utils/dialog_manipulation.py:52: SettingWithCopyWarning: \n",
      "A value is trying to be set on a copy of a slice from a DataFrame\n",
      "\n",
      "See the caveats in the documentation: http://pandas.pydata.org/pandas-docs/stable/user_guide/indexing.html#returning-a-view-versus-a-copy\n",
      "  data[\"reply_time\"][index] = 0\n",
      "/Users/akurochkin/main/project/python/telegram-dialogs-analysis/utils/dialog_manipulation.py:50: SettingWithCopyWarning: \n",
      "A value is trying to be set on a copy of a slice from a DataFrame\n",
      "\n",
      "See the caveats in the documentation: http://pandas.pydata.org/pandas-docs/stable/user_guide/indexing.html#returning-a-view-versus-a-copy\n",
      "  data[\"reply_time\"][index] = time_diff.total_seconds()\n",
      "/Users/akurochkin/main/project/python/telegram-dialogs-analysis/utils/dialog_manipulation.py:92: SettingWithCopyWarning: \n",
      "A value is trying to be set on a copy of a slice from a DataFrame\n",
      "\n",
      "See the caveats in the documentation: http://pandas.pydata.org/pandas-docs/stable/user_guide/indexing.html#returning-a-view-versus-a-copy\n",
      "  data[\"subdialog_id\"][i] = subdialog_count\n"
     ]
    },
    {
     "name": "stdout",
     "output_type": "stream",
     "text": [
      "1 dialogs csv from 4 succeeded\n",
      "2 dialogs csv from 4 succeeded\n",
      "4 dialogs csv from 4 succeeded\n"
     ]
    }
   ],
   "source": [
    "frames = []\n",
    "\n",
    "general_df = pd.DataFrame()\n",
    "general_n_subdialogs = 0\n",
    "general_dialog_id = 0\n",
    "len_dialogs = len(DIALOGS_IDS)\n",
    "\n",
    "for n_dialog_id, dialog_file in enumerate(DIALOGS_IDS):\n",
    "    dialog_id = dialog_file.split('/')[-1]\n",
    "    \n",
    "    if dialog_id == FINAL_DF_NAME:\n",
    "        continue\n",
    "    \n",
    "    if flag_get_all == 1:\n",
    "        dialog_id = str(dialog_id)[:-4]\n",
    "\n",
    "    data = pd.read_csv(os.path.join(PATH_TO_PREPARED_DIALOGS, f\"{dialog_id}.csv\"))\n",
    "\n",
    "    add_reply_time(data)\n",
    "    add_subdialogs_ids(data)\n",
    "\n",
    "    data[\"dialog ID\"] = n_dialog_id\n",
    "\n",
    "    general_df = pd.concat([general_df, data])\n",
    "    print(f\"{n_dialog_id + 1} dialogs csv from {len_dialogs} succeeded\")\n",
    "\n",
    "\n",
    "general_df.rename(columns={'id': 'message_id'}, inplace=True)\n",
    "\n",
    "general_df = general_df.drop(\"Unnamed: 0\", axis=1)\n",
    "general_df = general_df.drop(\"Unnamed: 0.1\", axis=1)\n",
    "\n",
    "cols = ['dialog ID', \"message_id\", \"date\", \"from_id\", 'to_id', 'fwd_from', 'dialog_language',\n",
    "        'reply_time', 'subdialog_id', 'message', 'preprocessed_message']\n",
    "\n",
    "general_df = general_df[cols]"
   ]
  },
  {
   "cell_type": "code",
   "execution_count": 14,
   "metadata": {
    "pycharm": {
     "name": "#%%\n"
    }
   },
   "outputs": [],
   "source": [
    "general_df.to_csv(PATH_TO_SAVE_GENERAL_DF, index=False)"
   ]
  },
  {
   "cell_type": "code",
   "execution_count": null,
   "metadata": {},
   "outputs": [],
   "source": []
  }
 ],
 "metadata": {
  "kernelspec": {
   "display_name": "Python 3",
   "language": "python",
   "name": "python3"
  },
  "language_info": {
   "codemirror_mode": {
    "name": "ipython",
    "version": 3
   },
   "file_extension": ".py",
   "mimetype": "text/x-python",
   "name": "python",
   "nbconvert_exporter": "python",
   "pygments_lexer": "ipython3",
   "version": "3.7.4"
  }
 },
 "nbformat": 4,
 "nbformat_minor": 1
}
