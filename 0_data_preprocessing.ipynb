{
 "cells": [
  {
   "cell_type": "code",
   "execution_count": 19,
   "metadata": {},
   "outputs": [],
   "source": [
    "import datetime\n",
    "import logging\n",
    "import os\n",
    "import glob\n",
    "import pandas as pd\n",
    "\n",
    "from utils.dialog_manipulation import prepare_dialogs_sorted_by_lang\n",
    "from utils.dialog_manipulation import add_reply_time, add_subdialogs_ids"
   ]
  },
  {
   "cell_type": "code",
   "execution_count": 20,
   "metadata": {},
   "outputs": [],
   "source": [
    "# def init_args():\n",
    "#     parser = argparse.ArgumentParser(description=\"Step #3.Prepare dialogs data.\")\n",
    "    \n",
    "#     parser.add_argument(\n",
    "#         \"--dialogs_ids\",\n",
    "#         nargs=\"+\",\n",
    "#         type=int,\n",
    "#         help=\"id(s) of dialog(s) to download, -1 for all\",\n",
    "#         required=True,\n",
    "#     )\n",
    "#     parser.add_argument(\n",
    "#         \"--config_path\",\n",
    "#         type=str,\n",
    "#         help=\"path to config file\",\n",
    "#         default=\"config/config.json\",\n",
    "#     )\n",
    "#     parser.add_argument(\"--debug_mode\", type=int, help=\"Debug mode\", default=0)\n",
    "#     return parser.parse_args()"
   ]
  },
  {
   "cell_type": "markdown",
   "metadata": {
    "pycharm": {
     "name": "#%% md\n"
    }
   },
   "source": [
    "## Change all this block to your parameters"
   ]
  },
  {
   "cell_type": "code",
   "execution_count": 21,
   "metadata": {
    "pycharm": {
     "name": "#%%\n"
    }
   },
   "outputs": [],
   "source": [
    "# args = init_args()\n",
    "\n",
    "\n",
    "# DIALOGS_IDS = args.dialogs_ids\n",
    "# DEBUG_MODE = args.debug_mode\n",
    "\n",
    "\n",
    "# input dialogs_ids (it should be a list) or -1 for all\n",
    "DIALOGS_IDS = [-1]\n",
    "DEBUG_MODE = 0\n",
    "DIALOG_PATH = os.path.join('data', 'new_type_dialogs')\n",
    "LOGS_PATH = 'logs/project_logs.log'\n",
    "\n",
    "FINAL_DF_NAME = \"final_all.csv\"\n",
    "PATH_TO_PREPARED_DIALOGS = os.path.join(\"data\", \"new_type_dialogs_prepared\")\n",
    "PATH_TO_SAVE_GENERAL_DF = os.path.join(\"data\", \"new_type_dialogs_prepared\", FINAL_DF_NAME)\n",
    "\n",
    "# change to date range in what you want to analyse messages of user_id_get_msg - from START_DATE to END_DATE;\n",
    "# format \"%Y-%m-%d %H:%M:%S\"\n",
    "START_DATE = datetime.datetime(2016, 8, 9, 0, 0, 0)\n",
    "END_DATE = datetime.datetime(2020, 8, 10, 0, 0, 0)\n"
   ]
  },
  {
   "cell_type": "code",
   "execution_count": 22,
   "outputs": [],
   "source": [
    "# !pip install -r requirements.txt\n",
    "# !pip install -U nlpcube"
   ],
   "metadata": {
    "collapsed": false,
    "pycharm": {
     "name": "#%%\n"
    }
   }
  },
  {
   "cell_type": "code",
   "execution_count": 23,
   "outputs": [],
   "source": [
    "if DEBUG_MODE:\n",
    "    logging.basicConfig(filename=LOGS_PATH, level=logging.DEBUG)\n",
    "\n",
    "if os.path.isdir(DIALOG_PATH):\n",
    "    if not os.path.isdir(PATH_TO_PREPARED_DIALOGS):\n",
    "        os.mkdir(PATH_TO_PREPARED_DIALOGS)\n",
    "\n",
    "    prepare_dialogs_sorted_by_lang(DIALOGS_IDS, DIALOG_PATH, PATH_TO_PREPARED_DIALOGS,\n",
    "                                   START_DATE, END_DATE, \"add_lang_column\")\n",
    "\n",
    "else:\n",
    "    logging.error('Dialogs dir does not exist !')"
   ],
   "metadata": {
    "collapsed": false,
    "pycharm": {
     "name": "#%%\n"
    }
   }
  },
  {
   "cell_type": "code",
   "execution_count": 24,
   "outputs": [],
   "source": [
    "flag_get_all = 0\n",
    "\n",
    "if DIALOGS_IDS[0] == -1:\n",
    "    DIALOGS_IDS = glob.glob(f\"{PATH_TO_PREPARED_DIALOGS}/*.csv\")\n",
    "    flag_get_all = 1"
   ],
   "metadata": {
    "collapsed": false,
    "pycharm": {
     "name": "#%%\n"
    }
   }
  },
  {
   "cell_type": "code",
   "execution_count": 25,
   "outputs": [
    {
     "data": {
      "text/plain": "['data\\\\new_type_dialogs_prepared\\\\-1001006273516.csv',\n 'data\\\\new_type_dialogs_prepared\\\\-1001019025346.csv',\n 'data\\\\new_type_dialogs_prepared\\\\-1001039626561.csv',\n 'data\\\\new_type_dialogs_prepared\\\\-1001042449782.csv',\n 'data\\\\new_type_dialogs_prepared\\\\-1001044917656.csv',\n 'data\\\\new_type_dialogs_prepared\\\\-1001057263640.csv',\n 'data\\\\new_type_dialogs_prepared\\\\-1001084476048.csv',\n 'data\\\\new_type_dialogs_prepared\\\\-1001095341243.csv',\n 'data\\\\new_type_dialogs_prepared\\\\-1001112677952.csv',\n 'data\\\\new_type_dialogs_prepared\\\\-1001113226920.csv',\n 'data\\\\new_type_dialogs_prepared\\\\-1001117020066.csv',\n 'data\\\\new_type_dialogs_prepared\\\\-1001117906346.csv',\n 'data\\\\new_type_dialogs_prepared\\\\-1001119756543.csv',\n 'data\\\\new_type_dialogs_prepared\\\\-1001119802548.csv',\n 'data\\\\new_type_dialogs_prepared\\\\-1001120222237.csv',\n 'data\\\\new_type_dialogs_prepared\\\\-1001126387620.csv',\n 'data\\\\new_type_dialogs_prepared\\\\-1001132693664.csv',\n 'data\\\\new_type_dialogs_prepared\\\\-1001135553470.csv',\n 'data\\\\new_type_dialogs_prepared\\\\-1001138587070.csv',\n 'data\\\\new_type_dialogs_prepared\\\\-1001140957884.csv',\n 'data\\\\new_type_dialogs_prepared\\\\-1001143384902.csv',\n 'data\\\\new_type_dialogs_prepared\\\\-1001143471470.csv',\n 'data\\\\new_type_dialogs_prepared\\\\-1001150353283.csv',\n 'data\\\\new_type_dialogs_prepared\\\\-1001163276781.csv',\n 'data\\\\new_type_dialogs_prepared\\\\-1001163904855.csv',\n 'data\\\\new_type_dialogs_prepared\\\\-1001168495971.csv',\n 'data\\\\new_type_dialogs_prepared\\\\-1001173653750.csv',\n 'data\\\\new_type_dialogs_prepared\\\\-1001178543893.csv',\n 'data\\\\new_type_dialogs_prepared\\\\-1001289547687.csv',\n 'data\\\\new_type_dialogs_prepared\\\\-1001352468185.csv',\n 'data\\\\new_type_dialogs_prepared\\\\-1001356582355.csv',\n 'data\\\\new_type_dialogs_prepared\\\\-1001356681601.csv',\n 'data\\\\new_type_dialogs_prepared\\\\-1001357366316.csv',\n 'data\\\\new_type_dialogs_prepared\\\\-1001364309126.csv',\n 'data\\\\new_type_dialogs_prepared\\\\-1001364727687.csv',\n 'data\\\\new_type_dialogs_prepared\\\\-1001475290427.csv',\n 'data\\\\new_type_dialogs_prepared\\\\-284455188.csv',\n 'data\\\\new_type_dialogs_prepared\\\\-331540789.csv',\n 'data\\\\new_type_dialogs_prepared\\\\-341859313.csv',\n 'data\\\\new_type_dialogs_prepared\\\\-384034938.csv',\n 'data\\\\new_type_dialogs_prepared\\\\-415482428.csv',\n 'data\\\\new_type_dialogs_prepared\\\\-428367896.csv',\n 'data\\\\new_type_dialogs_prepared\\\\1006233436.csv',\n 'data\\\\new_type_dialogs_prepared\\\\138918380.csv',\n 'data\\\\new_type_dialogs_prepared\\\\147336686.csv',\n 'data\\\\new_type_dialogs_prepared\\\\160069176.csv',\n 'data\\\\new_type_dialogs_prepared\\\\229708851.csv',\n 'data\\\\new_type_dialogs_prepared\\\\331192040.csv',\n 'data\\\\new_type_dialogs_prepared\\\\381318275.csv',\n 'data\\\\new_type_dialogs_prepared\\\\382647027.csv',\n 'data\\\\new_type_dialogs_prepared\\\\386414449.csv',\n 'data\\\\new_type_dialogs_prepared\\\\411338391.csv',\n 'data\\\\new_type_dialogs_prepared\\\\421391021.csv',\n 'data\\\\new_type_dialogs_prepared\\\\422330444.csv',\n 'data\\\\new_type_dialogs_prepared\\\\443572820.csv',\n 'data\\\\new_type_dialogs_prepared\\\\466047508.csv',\n 'data\\\\new_type_dialogs_prepared\\\\470409323.csv',\n 'data\\\\new_type_dialogs_prepared\\\\473625679.csv',\n 'data\\\\new_type_dialogs_prepared\\\\477552514.csv',\n 'data\\\\new_type_dialogs_prepared\\\\502435275.csv',\n 'data\\\\new_type_dialogs_prepared\\\\547811138.csv',\n 'data\\\\new_type_dialogs_prepared\\\\594508393.csv',\n 'data\\\\new_type_dialogs_prepared\\\\620593584.csv',\n 'data\\\\new_type_dialogs_prepared\\\\671814490.csv',\n 'data\\\\new_type_dialogs_prepared\\\\708101596.csv',\n 'data\\\\new_type_dialogs_prepared\\\\731296316.csv',\n 'data\\\\new_type_dialogs_prepared\\\\743629483.csv',\n 'data\\\\new_type_dialogs_prepared\\\\786509208.csv',\n 'data\\\\new_type_dialogs_prepared\\\\816375990.csv',\n 'data\\\\new_type_dialogs_prepared\\\\840783413.csv',\n 'data\\\\new_type_dialogs_prepared\\\\850978724.csv',\n 'data\\\\new_type_dialogs_prepared\\\\861401661.csv',\n 'data\\\\new_type_dialogs_prepared\\\\900118215.csv',\n 'data\\\\new_type_dialogs_prepared\\\\all.csv']"
     },
     "execution_count": 25,
     "metadata": {},
     "output_type": "execute_result"
    }
   ],
   "source": [
    "DIALOGS_IDS"
   ],
   "metadata": {
    "collapsed": false,
    "pycharm": {
     "name": "#%%\n"
    }
   }
  },
  {
   "cell_type": "code",
   "execution_count": 26,
   "outputs": [
    {
     "name": "stdout",
     "output_type": "stream",
     "text": [
      "1 dialogs csv from 74 succeeded\n",
      "2 dialogs csv from 74 succeeded\n",
      "3 dialogs csv from 74 succeeded\n",
      "4 dialogs csv from 74 succeeded\n",
      "5 dialogs csv from 74 succeeded\n",
      "6 dialogs csv from 74 succeeded\n",
      "7 dialogs csv from 74 succeeded\n",
      "8 dialogs csv from 74 succeeded\n",
      "9 dialogs csv from 74 succeeded\n",
      "10 dialogs csv from 74 succeeded\n",
      "11 dialogs csv from 74 succeeded\n",
      "12 dialogs csv from 74 succeeded\n",
      "13 dialogs csv from 74 succeeded\n",
      "14 dialogs csv from 74 succeeded\n",
      "15 dialogs csv from 74 succeeded\n",
      "16 dialogs csv from 74 succeeded\n",
      "17 dialogs csv from 74 succeeded\n",
      "18 dialogs csv from 74 succeeded\n",
      "19 dialogs csv from 74 succeeded\n",
      "20 dialogs csv from 74 succeeded\n",
      "21 dialogs csv from 74 succeeded\n",
      "22 dialogs csv from 74 succeeded\n",
      "23 dialogs csv from 74 succeeded\n",
      "24 dialogs csv from 74 succeeded\n",
      "25 dialogs csv from 74 succeeded\n",
      "26 dialogs csv from 74 succeeded\n",
      "27 dialogs csv from 74 succeeded\n",
      "28 dialogs csv from 74 succeeded\n",
      "29 dialogs csv from 74 succeeded\n",
      "30 dialogs csv from 74 succeeded\n",
      "31 dialogs csv from 74 succeeded\n",
      "32 dialogs csv from 74 succeeded\n",
      "33 dialogs csv from 74 succeeded\n",
      "34 dialogs csv from 74 succeeded\n",
      "35 dialogs csv from 74 succeeded\n",
      "36 dialogs csv from 74 succeeded\n",
      "37 dialogs csv from 74 succeeded\n",
      "38 dialogs csv from 74 succeeded\n",
      "39 dialogs csv from 74 succeeded\n",
      "40 dialogs csv from 74 succeeded\n",
      "41 dialogs csv from 74 succeeded\n",
      "42 dialogs csv from 74 succeeded\n",
      "43 dialogs csv from 74 succeeded\n",
      "44 dialogs csv from 74 succeeded\n",
      "45 dialogs csv from 74 succeeded\n",
      "46 dialogs csv from 74 succeeded\n",
      "47 dialogs csv from 74 succeeded\n",
      "48 dialogs csv from 74 succeeded\n",
      "49 dialogs csv from 74 succeeded\n",
      "50 dialogs csv from 74 succeeded\n",
      "51 dialogs csv from 74 succeeded\n",
      "52 dialogs csv from 74 succeeded\n",
      "53 dialogs csv from 74 succeeded\n",
      "54 dialogs csv from 74 succeeded\n",
      "55 dialogs csv from 74 succeeded\n",
      "56 dialogs csv from 74 succeeded\n",
      "57 dialogs csv from 74 succeeded\n",
      "58 dialogs csv from 74 succeeded\n",
      "59 dialogs csv from 74 succeeded\n",
      "60 dialogs csv from 74 succeeded\n",
      "61 dialogs csv from 74 succeeded\n",
      "62 dialogs csv from 74 succeeded\n",
      "63 dialogs csv from 74 succeeded\n",
      "64 dialogs csv from 74 succeeded\n",
      "65 dialogs csv from 74 succeeded\n",
      "66 dialogs csv from 74 succeeded\n",
      "67 dialogs csv from 74 succeeded\n",
      "68 dialogs csv from 74 succeeded\n",
      "69 dialogs csv from 74 succeeded\n",
      "70 dialogs csv from 74 succeeded\n",
      "71 dialogs csv from 74 succeeded\n",
      "72 dialogs csv from 74 succeeded\n",
      "73 dialogs csv from 74 succeeded\n",
      "74 dialogs csv from 74 succeeded\n"
     ]
    },
    {
     "name": "stderr",
     "output_type": "stream",
     "text": [
      "d:\\python\\envs\\venv_telegram_analysis\\lib\\site-packages\\ipykernel_launcher.py:24: FutureWarning: Sorting because non-concatenation axis is not aligned. A future version\n",
      "of pandas will change to not sort by default.\n",
      "\n",
      "To accept the future behavior, pass 'sort=False'.\n",
      "\n",
      "To retain the current behavior and silence the warning, pass 'sort=True'.\n",
      "\n"
     ]
    }
   ],
   "source": [
    "frames = []\n",
    "\n",
    "general_df = pd.DataFrame()\n",
    "general_n_subdialogs = 0\n",
    "general_dialog_id = 0\n",
    "len_dialogs = len(DIALOGS_IDS)\n",
    "\n",
    "for n_dialog_id, dialog_file in enumerate(DIALOGS_IDS):\n",
    "    dialog_id = dialog_file.split('/')[-1]\n",
    "\n",
    "    if dialog_id == os.path.join(PATH_TO_PREPARED_DIALOGS, FINAL_DF_NAME):\n",
    "        continue\n",
    "\n",
    "    if flag_get_all == 1:\n",
    "        dialog_id = str(dialog_id)[:-4]\n",
    "\n",
    "    data = pd.read_csv(dialog_file)\n",
    "\n",
    "    data[\"reply_btw_sender_time\"], data[\"reply_btw_own_time\"] = add_reply_time(data)\n",
    "    data[\"subdialog_id\"] = add_subdialogs_ids(data)\n",
    "\n",
    "    data[\"dialog ID\"] = n_dialog_id\n",
    "\n",
    "    general_df = pd.concat([general_df, data])\n",
    "    print(f\"{n_dialog_id + 1} dialogs csv from {len_dialogs} succeeded\")\n",
    "\n",
    "\n",
    "general_df.rename(columns={'id': 'message_id'}, inplace=True)\n",
    "\n",
    "general_df = general_df.drop(\"Unnamed: 0\", axis=1)\n",
    "general_df = general_df.drop(\"Unnamed: 0.1\", axis=1)\n",
    "\n",
    "cols = ['dialog ID', \"message_id\", \"date\", \"from_id\", 'to_id', 'fwd_from', 'dialog_language',\n",
    "        'reply_btw_sender_time', 'reply_btw_own_time', 'subdialog_id', 'message', 'preprocessed_message']\n",
    "\n",
    "rest_cols = [col for col in general_df.columns if col not in cols]\n",
    "\n",
    "# place long text columns at the end of df\n",
    "cols = cols[:-2] + rest_cols + cols[-2:]\n",
    "general_df = general_df[cols]"
   ],
   "metadata": {
    "collapsed": false,
    "pycharm": {
     "name": "#%%\n"
    }
   }
  },
  {
   "cell_type": "code",
   "execution_count": 27,
   "outputs": [],
   "source": [
    "general_df.to_csv(PATH_TO_SAVE_GENERAL_DF, index=False)\n"
   ],
   "metadata": {
    "collapsed": false,
    "pycharm": {
     "name": "#%%\n"
    }
   }
  },
  {
   "cell_type": "code",
   "execution_count": null,
   "outputs": [],
   "source": [],
   "metadata": {
    "collapsed": false,
    "pycharm": {
     "name": "#%%\n"
    }
   }
  }
 ],
 "metadata": {
  "kernelspec": {
   "display_name": "Python 3",
   "language": "python",
   "name": "python3"
  },
  "language_info": {
   "codemirror_mode": {
    "name": "ipython",
    "version": 3
   },
   "file_extension": ".py",
   "mimetype": "text/x-python",
   "name": "python",
   "nbconvert_exporter": "python",
   "pygments_lexer": "ipython3",
   "version": "3.7.4"
  }
 },
 "nbformat": 4,
 "nbformat_minor": 1
}