{
 "cells": [
  {
   "cell_type": "code",
   "execution_count": null,
   "metadata": {
    "collapsed": true
   },
   "outputs": [],
   "source": [
    "import datetime\n",
    "import logging\n",
    "import os\n",
    "import pandas as pd\n",
    "\n",
    "\n",
    "from utils.dialog_manipulation import prepare_dialogs_sorted_by_lang\n",
    "from utils.user_input_functs import init_tool_config_arg\n",
    "from utils.dialog_manipulation import add_reply_time, add_subdialogs_ids"
   ]
  },
  {
   "cell_type": "code",
   "execution_count": null,
   "metadata": {
    "pycharm": {
     "name": "#%%\n"
    }
   },
   "outputs": [],
   "source": [
    "# args = init_tool_config_arg()\n",
    "#\n",
    "#\n",
    "# DIALOGS_IDS = args.dialogs_ids\n",
    "# DEBUG_MODE = args.debug_mode\n",
    "\n",
    "\n",
    "## change all this block to your parameters !!!!\n",
    "# input dialogs_ids or -1 for all\n",
    "DIALOGS_IDS = [-1]\n",
    "DEBUG_MODE = 0\n",
    "DIALOG_PATH = os.path.join('data', 'dialogs')\n",
    "LOGS_PATH = 'logs/project_logs.log'\n",
    "PATH_TO_PREPARED_DIALOGS = os.path.join(\"data\", \"prepared_dialogs\")\n",
    "PATH_TO_SAVE_GENERAL_DF = os.path.join(\"data\", \"processed_dialog_files\", \"general_dialogs_df.csv\")\n",
    "\n",
    "# change to date range in what you want to analyse messages of user_id_get_msg - from START_DATE to END_DATE;\n",
    "# format \"%Y-%m-%d %H:%M:%S\"\n",
    "START_DATE = datetime.datetime(2020, 8, 9, 0, 0, 0)\n",
    "END_DATE = datetime.datetime(2020, 8, 10, 0, 0, 0)"
   ]
  },
  {
   "cell_type": "code",
   "execution_count": null,
   "metadata": {
    "pycharm": {
     "name": "#%%\n"
    }
   },
   "outputs": [],
   "source": [
    "if DEBUG_MODE:\n",
    "    logging.basicConfig(filename=LOGS_PATH, level=logging.DEBUG)\n",
    "\n",
    "if os.path.isdir(DIALOG_PATH):\n",
    "    if not os.path.isdir(PATH_TO_PREPARED_DIALOGS):\n",
    "        os.mkdir(PATH_TO_PREPARED_DIALOGS)\n",
    "\n",
    "    prepare_dialogs_sorted_by_lang(DIALOGS_IDS, DIALOG_PATH, PATH_TO_PREPARED_DIALOGS,\n",
    "                                   START_DATE, END_DATE, \"add_lang_column\")\n",
    "\n",
    "else:\n",
    "    logging.error('Dialogs dir does not exist !')"
   ]
  },
  {
   "cell_type": "code",
   "execution_count": null,
   "metadata": {
    "pycharm": {
     "name": "#%%\n"
    }
   },
   "outputs": [],
   "source": [
    "flag_get_all = 0\n",
    "if DIALOGS_IDS[0] == -1:\n",
    "    DIALOGS_IDS = os.listdir(PATH_TO_PREPARED_DIALOGS)\n",
    "    flag_get_all = 1\n",
    "\n",
    "frames = []\n",
    "general_df = pd.DataFrame()\n",
    "general_n_subdialogs = 0\n",
    "general_dialog_id = 0\n",
    "len_dialogs = len(DIALOGS_IDS)\n",
    "\n",
    "for n_dialog_id, dialog_id in enumerate(DIALOGS_IDS):\n",
    "    if flag_get_all == 1:\n",
    "        dialog_id = str(dialog_id)[:-4]\n",
    "\n",
    "    data = pd.read_csv(os.path.join(PATH_TO_PREPARED_DIALOGS, f\"{dialog_id}.csv\"))\n",
    "\n",
    "    add_reply_time(data)\n",
    "    add_subdialogs_ids(data)\n",
    "\n",
    "    data[\"dialog ID\"] = n_dialog_id\n",
    "\n",
    "    general_df = pd.concat([general_df, data])\n",
    "    print(f\"{n_dialog_id + 1} dialogs csv from {len_dialogs} succeeded\")\n",
    "\n",
    "\n",
    "general_df.rename(columns={'id': 'message_id'}, inplace=True)\n",
    "general_df = general_df.drop(\"Unnamed: 0\", axis=1)\n",
    "general_df = general_df.drop(\"Unnamed: 0.1\", axis=1)\n",
    "\n",
    "cols = ['dialog ID', \"message_id\", \"date\", \"from_id\", 'to_id', 'fwd_from', 'dialog_language',\n",
    "        'reply_time', 'subdialog_id', 'message', 'preprocessed_message']\n",
    "\n",
    "general_df = general_df[cols]\n",
    "\n",
    "general_df.to_csv(PATH_TO_SAVE_GENERAL_DF)"
   ]
  }
 ],
 "metadata": {
  "kernelspec": {
   "display_name": "Python 3",
   "language": "python",
   "name": "python3"
  },
  "language_info": {
   "codemirror_mode": {
    "name": "ipython",
    "version": 3
   },
   "file_extension": ".py",
   "mimetype": "text/x-python",
   "name": "python",
   "nbconvert_exporter": "python",
   "pygments_lexer": "ipython3",
   "version": "3.8.5"
  }
 },
 "nbformat": 4,
 "nbformat_minor": 1
}
