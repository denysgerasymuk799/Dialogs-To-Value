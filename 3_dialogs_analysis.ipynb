{
 "cells": [
  {
   "cell_type": "code",
   "execution_count": 1,
   "metadata": {},
   "outputs": [],
   "source": [
    "%matplotlib inline\n",
    "from pprint import pprint\n",
    "from utils.date import if_in_date_range\n",
    "import json\n",
    "import os\n",
    "import pandas as pd\n",
    "import matplotlib.pyplot as plt\n",
    "import datetime\n",
    "import numpy as np\n",
    "\n",
    "from matplotlib.pyplot import figure\n",
    "import plotly.graph_objects as go"
   ]
  },
  {
   "cell_type": "markdown",
   "metadata": {
    "pycharm": {
     "name": "#%% md\n"
    }
   },
   "source": [
    "### 1) Change USER_ID and paths to your dir locations\n",
    "#### you can get your USER_ID from downloaded csv files"
   ]
  },
  {
   "cell_type": "code",
   "execution_count": 2,
   "outputs": [],
   "source": [
    "# set paths to dirs in data dir\n",
    "path_data_dir = os.path.join(os.getcwd(), \"data\")\n",
    "\n",
    "path_dialogs_meta_dir = os.path.join(path_data_dir, \"dialogs_meta\")\n",
    "path_dialogs_csv_dir = os.path.join(path_data_dir, \"dialogs\")\n",
    "\n",
    "path_to_dialogs_info = os.path.join(\"data\", \"processed_dialog_files\", \"dialogs_info.json\")\n",
    "\n",
    "USER_ID = 511986933\n",
    "RESULT_NAME_STATISTICS = \"dialogs_data\""
   ],
   "metadata": {
    "collapsed": false,
    "pycharm": {
     "name": "#%%\n"
    }
   }
  },
  {
   "cell_type": "code",
   "execution_count": 3,
   "metadata": {
    "pycharm": {
     "name": "#%%\n"
    }
   },
   "outputs": [],
   "source": [
    "dialogs_info = {\n",
    "    \"Private dialog\": {},\n",
    "    \"Group\": {},\n",
    "    \"Channel\": {}\n",
    "}\n",
    "\n",
    "# make dialogs_info dict: first level keys - \"Channel\", \"Private dialog\", \"Group\"\n",
    "# second level items - \"<name_of_dialog>\": <id>\n",
    "for file in os.listdir(path_dialogs_meta_dir):\n",
    "    if file[-4:] == \"json\":\n",
    "        with open(os.path.join(path_dialogs_meta_dir, file), \"r\", encoding=\"utf8\") as meta_file:\n",
    "            data = json.load(meta_file)\n",
    "\n",
    "        dialogs_info[data[\"type\"]][data[\"name\"]] = data[\"id\"]\n",
    "\n",
    "# save results\n",
    "with open(path_to_dialogs_info, \"w\", encoding=\"utf-8\") as f:\n",
    "    json.dump(dialogs_info, f, indent=4, ensure_ascii=False)\n",
    "\n",
    "# print(\"dialogs_info\")\n",
    "# pprint(dialogs_info)"
   ]
  },
  {
   "cell_type": "markdown",
   "metadata": {
    "pycharm": {
     "name": "#%% md\n"
    }
   },
   "source": [
    "## Plot of daily activity (09.08.2020)"
   ]
  },
  {
   "cell_type": "code",
   "execution_count": 4,
   "metadata": {
    "pycharm": {
     "name": "#%%\n"
    }
   },
   "outputs": [],
   "source": [
    "def get_hours_dict():\n",
    "    plot_data = {}\n",
    "    for hour in range(24):\n",
    "        if hour < 10:\n",
    "            hour = '0' + str(hour)\n",
    "            plot_data[hour] = 0\n",
    "        else:\n",
    "            plot_data[str(hour)] = 0\n",
    "    return plot_data\n",
    "\n",
    "\n",
    "def get_ukraine_local_time(msg_time):\n",
    "    our_local_time = int(msg_time) + 3\n",
    "    if our_local_time > 23:\n",
    "        our_local_time %= 24\n",
    "\n",
    "    if our_local_time < 10:\n",
    "        our_local_time = \"0\" + str(our_local_time)\n",
    "\n",
    "    else:\n",
    "        our_local_time = str(our_local_time)\n",
    "\n",
    "    return our_local_time\n",
    "\n",
    "\n",
    "def get_user_daily_activity(dialogs_info, dialog_type, user_id_get_msg, start_date, end_date):\n",
    "    plot_data = get_hours_dict()\n",
    "\n",
    "    # go through all dialogs on special dialog type in dialogs_info dict\n",
    "    # friend - name of dialog\n",
    "    for friend, dialog_id in dialogs_info[dialog_type].items():\n",
    "        dialog_id = str(dialog_id)\n",
    "        if dialog_id + \".csv\" not in os.listdir(path_dialogs_csv_dir):\n",
    "            continue\n",
    "\n",
    "        dialog_data = pd.read_csv(os.path.join(path_dialogs_csv_dir, dialog_id + \".csv\"))\n",
    "\n",
    "        for row in dialog_data.index:\n",
    "            if user_id_get_msg != \"all\":\n",
    "                if dialog_data[\"from_id\"][row] != user_id_get_msg:\n",
    "                    continue\n",
    "\n",
    "            dialog_datetime = dialog_data[\"date\"][row][:-6]\n",
    "            flag_in_range = if_in_date_range(dialog_datetime, start_date, end_date)\n",
    "            if flag_in_range == 'Dialog after end_date':\n",
    "                continue\n",
    "\n",
    "            elif not flag_in_range:\n",
    "                break\n",
    "\n",
    "            elif flag_in_range:\n",
    "                our_local_time = get_ukraine_local_time(dialog_data['date'][row][11:13])\n",
    "                plot_data[our_local_time] += 1\n",
    "\n",
    "    lists = sorted(plot_data.items())\n",
    "    x, y = zip(*lists)\n",
    "\n",
    "    return x, y, lists"
   ]
  },
  {
   "cell_type": "markdown",
   "source": [
    "### Change START_WEEK_YEAR, START_WEEK_MONTH and START_WEEK_DAY variables to yours to get"
   ],
   "metadata": {
    "collapsed": false
   }
  },
  {
   "cell_type": "code",
   "execution_count": 14,
   "metadata": {
    "pycharm": {
     "name": "#%%\n"
    }
   },
   "outputs": [
    {
     "data": {
      "text/plain": "<Figure size 800x640 with 1 Axes>",
      "image/png": "[encoded data removed]"
     },
     "metadata": {},
     "output_type": "display_data"
    },
    {
     "data": {
      "application/vnd.plotly.v1+json": {
       "config": {
        "plotlyServerURL": "https://plot.ly"
       },
       "data": [
        {
         "marker": {
          "line": {
           "color": "rgb(105, 105, 105, 1.0)",
           "width": 3
          }
         },
         "name": "28-7-2020",
         "orientation": "h",
         "type": "bar",
         "x": [
          47,
          0,
          0,
          0,
          0,
          0,
          0,
          0,
          0,
          2,
          30,
          62,
          21,
          23,
          43,
          66,
          22,
          41,
          48,
          31,
          86,
          46,
          31,
          77
         ],
         "y": [
          "00",
          "01",
          "02",
          "03",
          "04",
          "05",
          "06",
          "07",
          "08",
          "09",
          "10",
          "11",
          "12",
          "13",
          "14",
          "15",
          "16",
          "17",
          "18",
          "19",
          "20",
          "21",
          "22",
          "23"
         ]
        },
        {
         "marker": {
          "line": {
           "color": "rgb(105, 105, 105, 1.0)",
           "width": 3
          }
         },
         "name": "29-7-2020",
         "orientation": "h",
         "type": "bar",
         "x": [
          45,
          0,
          0,
          0,
          0,
          0,
          0,
          0,
          0,
          2,
          27,
          58,
          18,
          23,
          38,
          66,
          19,
          41,
          48,
          31,
          39,
          28,
          31,
          55
         ],
         "y": [
          "00",
          "01",
          "02",
          "03",
          "04",
          "05",
          "06",
          "07",
          "08",
          "09",
          "10",
          "11",
          "12",
          "13",
          "14",
          "15",
          "16",
          "17",
          "18",
          "19",
          "20",
          "21",
          "22",
          "23"
         ]
        },
        {
         "marker": {
          "line": {
           "color": "rgb(105, 105, 105, 1.0)",
           "width": 3
          }
         },
         "name": "30-7-2020",
         "orientation": "h",
         "type": "bar",
         "x": [
          35,
          0,
          0,
          0,
          0,
          0,
          0,
          0,
          0,
          2,
          25,
          58,
          18,
          16,
          38,
          65,
          9,
          41,
          44,
          31,
          39,
          18,
          31,
          25
         ],
         "y": [
          "00",
          "01",
          "02",
          "03",
          "04",
          "05",
          "06",
          "07",
          "08",
          "09",
          "10",
          "11",
          "12",
          "13",
          "14",
          "15",
          "16",
          "17",
          "18",
          "19",
          "20",
          "21",
          "22",
          "23"
         ]
        },
        {
         "marker": {
          "line": {
           "color": "rgb(105, 105, 105, 1.0)",
           "width": 3
          }
         },
         "name": "31-7-2020",
         "orientation": "h",
         "type": "bar",
         "x": [
          34,
          0,
          0,
          0,
          0,
          0,
          0,
          0,
          0,
          2,
          25,
          54,
          18,
          15,
          29,
          53,
          9,
          38,
          31,
          31,
          37,
          17,
          23,
          21
         ],
         "y": [
          "00",
          "01",
          "02",
          "03",
          "04",
          "05",
          "06",
          "07",
          "08",
          "09",
          "10",
          "11",
          "12",
          "13",
          "14",
          "15",
          "16",
          "17",
          "18",
          "19",
          "20",
          "21",
          "22",
          "23"
         ]
        },
        {
         "marker": {
          "line": {
           "color": "rgb(105, 105, 105, 1.0)",
           "width": 3
          }
         },
         "name": "1-8-2020",
         "orientation": "h",
         "type": "bar",
         "x": [
          27,
          0,
          0,
          0,
          0,
          0,
          0,
          0,
          0,
          2,
          17,
          54,
          16,
          15,
          25,
          50,
          6,
          28,
          31,
          31,
          26,
          17,
          23,
          9
         ],
         "y": [
          "00",
          "01",
          "02",
          "03",
          "04",
          "05",
          "06",
          "07",
          "08",
          "09",
          "10",
          "11",
          "12",
          "13",
          "14",
          "15",
          "16",
          "17",
          "18",
          "19",
          "20",
          "21",
          "22",
          "23"
         ]
        },
        {
         "marker": {
          "line": {
           "color": "rgb(105, 105, 105, 1.0)",
           "width": 3
          }
         },
         "name": "2-8-2020",
         "orientation": "h",
         "type": "bar",
         "x": [
          21,
          0,
          0,
          0,
          0,
          0,
          0,
          0,
          0,
          2,
          17,
          51,
          16,
          15,
          25,
          25,
          6,
          28,
          31,
          31,
          26,
          17,
          22,
          6
         ],
         "y": [
          "00",
          "01",
          "02",
          "03",
          "04",
          "05",
          "06",
          "07",
          "08",
          "09",
          "10",
          "11",
          "12",
          "13",
          "14",
          "15",
          "16",
          "17",
          "18",
          "19",
          "20",
          "21",
          "22",
          "23"
         ]
        },
        {
         "marker": {
          "line": {
           "color": "rgb(105, 105, 105, 1.0)",
           "width": 3
          }
         },
         "name": "3-8-2020",
         "orientation": "h",
         "type": "bar",
         "x": [
          21,
          0,
          0,
          0,
          0,
          0,
          0,
          0,
          0,
          2,
          17,
          50,
          16,
          15,
          25,
          25,
          6,
          23,
          31,
          30,
          24,
          15,
          22,
          6
         ],
         "y": [
          "00",
          "01",
          "02",
          "03",
          "04",
          "05",
          "06",
          "07",
          "08",
          "09",
          "10",
          "11",
          "12",
          "13",
          "14",
          "15",
          "16",
          "17",
          "18",
          "19",
          "20",
          "21",
          "22",
          "23"
         ]
        }
       ],
       "layout": {
        "autosize": false,
        "barmode": "stack",
        "height": 800,
        "template": {
         "data": {
          "bar": [
           {
            "error_x": {
             "color": "#2a3f5f"
            },
            "error_y": {
             "color": "#2a3f5f"
            },
            "marker": {
             "line": {
              "color": "#E5ECF6",
              "width": 0.5
             }
            },
            "type": "bar"
           }
          ],
          "barpolar": [
           {
            "marker": {
             "line": {
              "color": "#E5ECF6",
              "width": 0.5
             }
            },
            "type": "barpolar"
           }
          ],
          "carpet": [
           {
            "aaxis": {
             "endlinecolor": "#2a3f5f",
             "gridcolor": "white",
             "linecolor": "white",
             "minorgridcolor": "white",
             "startlinecolor": "#2a3f5f"
            },
            "baxis": {
             "endlinecolor": "#2a3f5f",
             "gridcolor": "white",
             "linecolor": "white",
             "minorgridcolor": "white",
             "startlinecolor": "#2a3f5f"
            },
            "type": "carpet"
           }
          ],
          "choropleth": [
           {
            "colorbar": {
             "outlinewidth": 0,
             "ticks": ""
            },
            "type": "choropleth"
           }
          ],
          "contour": [
           {
            "colorbar": {
             "outlinewidth": 0,
             "ticks": ""
            },
            "colorscale": [
             [
              0.0,
              "#0d0887"
             ],
             [
              0.1111111111111111,
              "#46039f"
             ],
             [
              0.2222222222222222,
              "#7201a8"
             ],
             [
              0.3333333333333333,
              "#9c179e"
             ],
             [
              0.4444444444444444,
              "#bd3786"
             ],
             [
              0.5555555555555556,
              "#d8576b"
             ],
             [
              0.6666666666666666,
              "#ed7953"
             ],
             [
              0.7777777777777778,
              "#fb9f3a"
             ],
             [
              0.8888888888888888,
              "#fdca26"
             ],
             [
              1.0,
              "#f0f921"
             ]
            ],
            "type": "contour"
           }
          ],
          "contourcarpet": [
           {
            "colorbar": {
             "outlinewidth": 0,
             "ticks": ""
            },
            "type": "contourcarpet"
           }
          ],
          "heatmap": [
           {
            "colorbar": {
             "outlinewidth": 0,
             "ticks": ""
            },
            "colorscale": [
             [
              0.0,
              "#0d0887"
             ],
             [
              0.1111111111111111,
              "#46039f"
             ],
             [
              0.2222222222222222,
              "#7201a8"
             ],
             [
              0.3333333333333333,
              "#9c179e"
             ],
             [
              0.4444444444444444,
              "#bd3786"
             ],
             [
              0.5555555555555556,
              "#d8576b"
             ],
             [
              0.6666666666666666,
              "#ed7953"
             ],
             [
              0.7777777777777778,
              "#fb9f3a"
             ],
             [
              0.8888888888888888,
              "#fdca26"
             ],
             [
              1.0,
              "#f0f921"
             ]
            ],
            "type": "heatmap"
           }
          ],
          "heatmapgl": [
           {
            "colorbar": {
             "outlinewidth": 0,
             "ticks": ""
            },
            "colorscale": [
             [
              0.0,
              "#0d0887"
             ],
             [
              0.1111111111111111,
              "#46039f"
             ],
             [
              0.2222222222222222,
              "#7201a8"
             ],
             [
              0.3333333333333333,
              "#9c179e"
             ],
             [
              0.4444444444444444,
              "#bd3786"
             ],
             [
              0.5555555555555556,
              "#d8576b"
             ],
             [
              0.6666666666666666,
              "#ed7953"
             ],
             [
              0.7777777777777778,
              "#fb9f3a"
             ],
             [
              0.8888888888888888,
              "#fdca26"
             ],
             [
              1.0,
              "#f0f921"
             ]
            ],
            "type": "heatmapgl"
           }
          ],
          "histogram": [
           {
            "marker": {
             "colorbar": {
              "outlinewidth": 0,
              "ticks": ""
             }
            },
            "type": "histogram"
           }
          ],
          "histogram2d": [
           {
            "colorbar": {
             "outlinewidth": 0,
             "ticks": ""
            },
            "colorscale": [
             [
              0.0,
              "#0d0887"
             ],
             [
              0.1111111111111111,
              "#46039f"
             ],
             [
              0.2222222222222222,
              "#7201a8"
             ],
             [
              0.3333333333333333,
              "#9c179e"
             ],
             [
              0.4444444444444444,
              "#bd3786"
             ],
             [
              0.5555555555555556,
              "#d8576b"
             ],
             [
              0.6666666666666666,
              "#ed7953"
             ],
             [
              0.7777777777777778,
              "#fb9f3a"
             ],
             [
              0.8888888888888888,
              "#fdca26"
             ],
             [
              1.0,
              "#f0f921"
             ]
            ],
            "type": "histogram2d"
           }
          ],
          "histogram2dcontour": [
           {
            "colorbar": {
             "outlinewidth": 0,
             "ticks": ""
            },
            "colorscale": [
             [
              0.0,
              "#0d0887"
             ],
             [
              0.1111111111111111,
              "#46039f"
             ],
             [
              0.2222222222222222,
              "#7201a8"
             ],
             [
              0.3333333333333333,
              "#9c179e"
             ],
             [
              0.4444444444444444,
              "#bd3786"
             ],
             [
              0.5555555555555556,
              "#d8576b"
             ],
             [
              0.6666666666666666,
              "#ed7953"
             ],
             [
              0.7777777777777778,
              "#fb9f3a"
             ],
             [
              0.8888888888888888,
              "#fdca26"
             ],
             [
              1.0,
              "#f0f921"
             ]
            ],
            "type": "histogram2dcontour"
           }
          ],
          "mesh3d": [
           {
            "colorbar": {
             "outlinewidth": 0,
             "ticks": ""
            },
            "type": "mesh3d"
           }
          ],
          "parcoords": [
           {
            "line": {
             "colorbar": {
              "outlinewidth": 0,
              "ticks": ""
             }
            },
            "type": "parcoords"
           }
          ],
          "pie": [
           {
            "automargin": true,
            "type": "pie"
           }
          ],
          "scatter": [
           {
            "marker": {
             "colorbar": {
              "outlinewidth": 0,
              "ticks": ""
             }
            },
            "type": "scatter"
           }
          ],
          "scatter3d": [
           {
            "line": {
             "colorbar": {
              "outlinewidth": 0,
              "ticks": ""
             }
            },
            "marker": {
             "colorbar": {
              "outlinewidth": 0,
              "ticks": ""
             }
            },
            "type": "scatter3d"
           }
          ],
          "scattercarpet": [
           {
            "marker": {
             "colorbar": {
              "outlinewidth": 0,
              "ticks": ""
             }
            },
            "type": "scattercarpet"
           }
          ],
          "scattergeo": [
           {
            "marker": {
             "colorbar": {
              "outlinewidth": 0,
              "ticks": ""
             }
            },
            "type": "scattergeo"
           }
          ],
          "scattergl": [
           {
            "marker": {
             "colorbar": {
              "outlinewidth": 0,
              "ticks": ""
             }
            },
            "type": "scattergl"
           }
          ],
          "scattermapbox": [
           {
            "marker": {
             "colorbar": {
              "outlinewidth": 0,
              "ticks": ""
             }
            },
            "type": "scattermapbox"
           }
          ],
          "scatterpolar": [
           {
            "marker": {
             "colorbar": {
              "outlinewidth": 0,
              "ticks": ""
             }
            },
            "type": "scatterpolar"
           }
          ],
          "scatterpolargl": [
           {
            "marker": {
             "colorbar": {
              "outlinewidth": 0,
              "ticks": ""
             }
            },
            "type": "scatterpolargl"
           }
          ],
          "scatterternary": [
           {
            "marker": {
             "colorbar": {
              "outlinewidth": 0,
              "ticks": ""
             }
            },
            "type": "scatterternary"
           }
          ],
          "surface": [
           {
            "colorbar": {
             "outlinewidth": 0,
             "ticks": ""
            },
            "colorscale": [
             [
              0.0,
              "#0d0887"
             ],
             [
              0.1111111111111111,
              "#46039f"
             ],
             [
              0.2222222222222222,
              "#7201a8"
             ],
             [
              0.3333333333333333,
              "#9c179e"
             ],
             [
              0.4444444444444444,
              "#bd3786"
             ],
             [
              0.5555555555555556,
              "#d8576b"
             ],
             [
              0.6666666666666666,
              "#ed7953"
             ],
             [
              0.7777777777777778,
              "#fb9f3a"
             ],
             [
              0.8888888888888888,
              "#fdca26"
             ],
             [
              1.0,
              "#f0f921"
             ]
            ],
            "type": "surface"
           }
          ],
          "table": [
           {
            "cells": {
             "fill": {
              "color": "#EBF0F8"
             },
             "line": {
              "color": "white"
             }
            },
            "header": {
             "fill": {
              "color": "#C8D4E3"
             },
             "line": {
              "color": "white"
             }
            },
            "type": "table"
           }
          ]
         },
         "layout": {
          "annotationdefaults": {
           "arrowcolor": "#2a3f5f",
           "arrowhead": 0,
           "arrowwidth": 1
          },
          "coloraxis": {
           "colorbar": {
            "outlinewidth": 0,
            "ticks": ""
           }
          },
          "colorscale": {
           "diverging": [
            [
             0,
             "#8e0152"
            ],
            [
             0.1,
             "#c51b7d"
            ],
            [
             0.2,
             "#de77ae"
            ],
            [
             0.3,
             "#f1b6da"
            ],
            [
             0.4,
             "#fde0ef"
            ],
            [
             0.5,
             "#f7f7f7"
            ],
            [
             0.6,
             "#e6f5d0"
            ],
            [
             0.7,
             "#b8e186"
            ],
            [
             0.8,
             "#7fbc41"
            ],
            [
             0.9,
             "#4d9221"
            ],
            [
             1,
             "#276419"
            ]
           ],
           "sequential": [
            [
             0.0,
             "#0d0887"
            ],
            [
             0.1111111111111111,
             "#46039f"
            ],
            [
             0.2222222222222222,
             "#7201a8"
            ],
            [
             0.3333333333333333,
             "#9c179e"
            ],
            [
             0.4444444444444444,
             "#bd3786"
            ],
            [
             0.5555555555555556,
             "#d8576b"
            ],
            [
             0.6666666666666666,
             "#ed7953"
            ],
            [
             0.7777777777777778,
             "#fb9f3a"
            ],
            [
             0.8888888888888888,
             "#fdca26"
            ],
            [
             1.0,
             "#f0f921"
            ]
           ],
           "sequentialminus": [
            [
             0.0,
             "#0d0887"
            ],
            [
             0.1111111111111111,
             "#46039f"
            ],
            [
             0.2222222222222222,
             "#7201a8"
            ],
            [
             0.3333333333333333,
             "#9c179e"
            ],
            [
             0.4444444444444444,
             "#bd3786"
            ],
            [
             0.5555555555555556,
             "#d8576b"
            ],
            [
             0.6666666666666666,
             "#ed7953"
            ],
            [
             0.7777777777777778,
             "#fb9f3a"
            ],
            [
             0.8888888888888888,
             "#fdca26"
            ],
            [
             1.0,
             "#f0f921"
            ]
           ]
          },
          "colorway": [
           "#636efa",
           "#EF553B",
           "#00cc96",
           "#ab63fa",
           "#FFA15A",
           "#19d3f3",
           "#FF6692",
           "#B6E880",
           "#FF97FF",
           "#FECB52"
          ],
          "font": {
           "color": "#2a3f5f"
          },
          "geo": {
           "bgcolor": "white",
           "lakecolor": "white",
           "landcolor": "#E5ECF6",
           "showlakes": true,
           "showland": true,
           "subunitcolor": "white"
          },
          "hoverlabel": {
           "align": "left"
          },
          "hovermode": "closest",
          "mapbox": {
           "style": "light"
          },
          "paper_bgcolor": "white",
          "plot_bgcolor": "#E5ECF6",
          "polar": {
           "angularaxis": {
            "gridcolor": "white",
            "linecolor": "white",
            "ticks": ""
           },
           "bgcolor": "#E5ECF6",
           "radialaxis": {
            "gridcolor": "white",
            "linecolor": "white",
            "ticks": ""
           }
          },
          "scene": {
           "xaxis": {
            "backgroundcolor": "#E5ECF6",
            "gridcolor": "white",
            "gridwidth": 2,
            "linecolor": "white",
            "showbackground": true,
            "ticks": "",
            "zerolinecolor": "white"
           },
           "yaxis": {
            "backgroundcolor": "#E5ECF6",
            "gridcolor": "white",
            "gridwidth": 2,
            "linecolor": "white",
            "showbackground": true,
            "ticks": "",
            "zerolinecolor": "white"
           },
           "zaxis": {
            "backgroundcolor": "#E5ECF6",
            "gridcolor": "white",
            "gridwidth": 2,
            "linecolor": "white",
            "showbackground": true,
            "ticks": "",
            "zerolinecolor": "white"
           }
          },
          "shapedefaults": {
           "line": {
            "color": "#2a3f5f"
           }
          },
          "ternary": {
           "aaxis": {
            "gridcolor": "white",
            "linecolor": "white",
            "ticks": ""
           },
           "baxis": {
            "gridcolor": "white",
            "linecolor": "white",
            "ticks": ""
           },
           "bgcolor": "#E5ECF6",
           "caxis": {
            "gridcolor": "white",
            "linecolor": "white",
            "ticks": ""
           }
          },
          "title": {
           "x": 0.05
          },
          "xaxis": {
           "automargin": true,
           "gridcolor": "white",
           "linecolor": "white",
           "ticks": "",
           "title": {
            "standoff": 15
           },
           "zerolinecolor": "white",
           "zerolinewidth": 2
          },
          "yaxis": {
           "automargin": true,
           "gridcolor": "white",
           "linecolor": "white",
           "ticks": "",
           "title": {
            "standoff": 15
           },
           "zerolinecolor": "white",
           "zerolinewidth": 2
          }
         }
        },
        "width": 800,
        "xaxis": {
         "tickfont": {
          "size": 14
         },
         "title": {
          "font": {
           "size": 16
          },
          "text": "Number of messages"
         }
        },
        "yaxis": {
         "tickfont": {
          "size": 14
         },
         "tickmode": "array",
         "tickvals": [
          0,
          1,
          2,
          3,
          4,
          5,
          6,
          7,
          8,
          9,
          10,
          11,
          12,
          13,
          14,
          15,
          16,
          17,
          18,
          19,
          20,
          21,
          22,
          23
         ],
         "title": {
          "font": {
           "size": 16
          },
          "text": "Hours"
         }
        }
       }
      },
      "text/html": "<div>\n        \n        \n            <div id=\"fd80f8e0-55df-4375-9e95-f310a9726887\" class=\"plotly-graph-div\" style=\"height:800px; width:800px;\"></div>\n            <script type=\"text/javascript\">\n                require([\"plotly\"], function(Plotly) {\n                    window.PLOTLYENV=window.PLOTLYENV || {};\n                    \n                if (document.getElementById(\"fd80f8e0-55df-4375-9e95-f310a9726887\")) {\n                    Plotly.newPlot(\n                        'fd80f8e0-55df-4375-9e95-f310a9726887',\n                        [{\"marker\": {\"line\": {\"color\": \"rgb(105, 105, 105, 1.0)\", \"width\": 3}}, \"name\": \"28-7-2020\", \"orientation\": \"h\", \"type\": \"bar\", \"x\": [47, 0, 0, 0, 0, 0, 0, 0, 0, 2, 30, 62, 21, 23, 43, 66, 22, 41, 48, 31, 86, 46, 31, 77], \"y\": [\"00\", \"01\", \"02\", \"03\", \"04\", \"05\", \"06\", \"07\", \"08\", \"09\", \"10\", \"11\", \"12\", \"13\", \"14\", \"15\", \"16\", \"17\", \"18\", \"19\", \"20\", \"21\", \"22\", \"23\"]}, {\"marker\": {\"line\": {\"color\": \"rgb(105, 105, 105, 1.0)\", \"width\": 3}}, \"name\": \"29-7-2020\", \"orientation\": \"h\", \"type\": \"bar\", \"x\": [45, 0, 0, 0, 0, 0, 0, 0, 0, 2, 27, 58, 18, 23, 38, 66, 19, 41, 48, 31, 39, 28, 31, 55], \"y\": [\"00\", \"01\", \"02\", \"03\", \"04\", \"05\", \"06\", \"07\", \"08\", \"09\", \"10\", \"11\", \"12\", \"13\", \"14\", \"15\", \"16\", \"17\", \"18\", \"19\", \"20\", \"21\", \"22\", \"23\"]}, {\"marker\": {\"line\": {\"color\": \"rgb(105, 105, 105, 1.0)\", \"width\": 3}}, \"name\": \"30-7-2020\", \"orientation\": \"h\", \"type\": \"bar\", \"x\": [35, 0, 0, 0, 0, 0, 0, 0, 0, 2, 25, 58, 18, 16, 38, 65, 9, 41, 44, 31, 39, 18, 31, 25], \"y\": [\"00\", \"01\", \"02\", \"03\", \"04\", \"05\", \"06\", \"07\", \"08\", \"09\", \"10\", \"11\", \"12\", \"13\", \"14\", \"15\", \"16\", \"17\", \"18\", \"19\", \"20\", \"21\", \"22\", \"23\"]}, {\"marker\": {\"line\": {\"color\": \"rgb(105, 105, 105, 1.0)\", \"width\": 3}}, \"name\": \"31-7-2020\", \"orientation\": \"h\", \"type\": \"bar\", \"x\": [34, 0, 0, 0, 0, 0, 0, 0, 0, 2, 25, 54, 18, 15, 29, 53, 9, 38, 31, 31, 37, 17, 23, 21], \"y\": [\"00\", \"01\", \"02\", \"03\", \"04\", \"05\", \"06\", \"07\", \"08\", \"09\", \"10\", \"11\", \"12\", \"13\", \"14\", \"15\", \"16\", \"17\", \"18\", \"19\", \"20\", \"21\", \"22\", \"23\"]}, {\"marker\": {\"line\": {\"color\": \"rgb(105, 105, 105, 1.0)\", \"width\": 3}}, \"name\": \"1-8-2020\", \"orientation\": \"h\", \"type\": \"bar\", \"x\": [27, 0, 0, 0, 0, 0, 0, 0, 0, 2, 17, 54, 16, 15, 25, 50, 6, 28, 31, 31, 26, 17, 23, 9], \"y\": [\"00\", \"01\", \"02\", \"03\", \"04\", \"05\", \"06\", \"07\", \"08\", \"09\", \"10\", \"11\", \"12\", \"13\", \"14\", \"15\", \"16\", \"17\", \"18\", \"19\", \"20\", \"21\", \"22\", \"23\"]}, {\"marker\": {\"line\": {\"color\": \"rgb(105, 105, 105, 1.0)\", \"width\": 3}}, \"name\": \"2-8-2020\", \"orientation\": \"h\", \"type\": \"bar\", \"x\": [21, 0, 0, 0, 0, 0, 0, 0, 0, 2, 17, 51, 16, 15, 25, 25, 6, 28, 31, 31, 26, 17, 22, 6], \"y\": [\"00\", \"01\", \"02\", \"03\", \"04\", \"05\", \"06\", \"07\", \"08\", \"09\", \"10\", \"11\", \"12\", \"13\", \"14\", \"15\", \"16\", \"17\", \"18\", \"19\", \"20\", \"21\", \"22\", \"23\"]}, {\"marker\": {\"line\": {\"color\": \"rgb(105, 105, 105, 1.0)\", \"width\": 3}}, \"name\": \"3-8-2020\", \"orientation\": \"h\", \"type\": \"bar\", \"x\": [21, 0, 0, 0, 0, 0, 0, 0, 0, 2, 17, 50, 16, 15, 25, 25, 6, 23, 31, 30, 24, 15, 22, 6], \"y\": [\"00\", \"01\", \"02\", \"03\", \"04\", \"05\", \"06\", \"07\", \"08\", \"09\", \"10\", \"11\", \"12\", \"13\", \"14\", \"15\", \"16\", \"17\", \"18\", \"19\", \"20\", \"21\", \"22\", \"23\"]}],\n                        {\"autosize\": false, \"barmode\": \"stack\", \"height\": 800, \"template\": {\"data\": {\"bar\": [{\"error_x\": {\"color\": \"#2a3f5f\"}, \"error_y\": {\"color\": \"#2a3f5f\"}, \"marker\": {\"line\": {\"color\": \"#E5ECF6\", \"width\": 0.5}}, \"type\": \"bar\"}], \"barpolar\": [{\"marker\": {\"line\": {\"color\": \"#E5ECF6\", \"width\": 0.5}}, \"type\": \"barpolar\"}], \"carpet\": [{\"aaxis\": {\"endlinecolor\": \"#2a3f5f\", \"gridcolor\": \"white\", \"linecolor\": \"white\", \"minorgridcolor\": \"white\", \"startlinecolor\": \"#2a3f5f\"}, \"baxis\": {\"endlinecolor\": \"#2a3f5f\", \"gridcolor\": \"white\", \"linecolor\": \"white\", \"minorgridcolor\": \"white\", \"startlinecolor\": \"#2a3f5f\"}, \"type\": \"carpet\"}], \"choropleth\": [{\"colorbar\": {\"outlinewidth\": 0, \"ticks\": \"\"}, \"type\": \"choropleth\"}], \"contour\": [{\"colorbar\": {\"outlinewidth\": 0, \"ticks\": \"\"}, \"colorscale\": [[0.0, \"#0d0887\"], [0.1111111111111111, \"#46039f\"], [0.2222222222222222, \"#7201a8\"], [0.3333333333333333, \"#9c179e\"], [0.4444444444444444, \"#bd3786\"], [0.5555555555555556, \"#d8576b\"], [0.6666666666666666, \"#ed7953\"], [0.7777777777777778, \"#fb9f3a\"], [0.8888888888888888, \"#fdca26\"], [1.0, \"#f0f921\"]], \"type\": \"contour\"}], \"contourcarpet\": [{\"colorbar\": {\"outlinewidth\": 0, \"ticks\": \"\"}, \"type\": \"contourcarpet\"}], \"heatmap\": [{\"colorbar\": {\"outlinewidth\": 0, \"ticks\": \"\"}, \"colorscale\": [[0.0, \"#0d0887\"], [0.1111111111111111, \"#46039f\"], [0.2222222222222222, \"#7201a8\"], [0.3333333333333333, \"#9c179e\"], [0.4444444444444444, \"#bd3786\"], [0.5555555555555556, \"#d8576b\"], [0.6666666666666666, \"#ed7953\"], [0.7777777777777778, \"#fb9f3a\"], [0.8888888888888888, \"#fdca26\"], [1.0, \"#f0f921\"]], \"type\": \"heatmap\"}], \"heatmapgl\": [{\"colorbar\": {\"outlinewidth\": 0, \"ticks\": \"\"}, \"colorscale\": [[0.0, \"#0d0887\"], [0.1111111111111111, \"#46039f\"], [0.2222222222222222, \"#7201a8\"], [0.3333333333333333, \"#9c179e\"], [0.4444444444444444, \"#bd3786\"], [0.5555555555555556, \"#d8576b\"], [0.6666666666666666, \"#ed7953\"], [0.7777777777777778, \"#fb9f3a\"], [0.8888888888888888, \"#fdca26\"], [1.0, \"#f0f921\"]], \"type\": \"heatmapgl\"}], \"histogram\": [{\"marker\": {\"colorbar\": {\"outlinewidth\": 0, \"ticks\": \"\"}}, \"type\": \"histogram\"}], \"histogram2d\": [{\"colorbar\": {\"outlinewidth\": 0, \"ticks\": \"\"}, \"colorscale\": [[0.0, \"#0d0887\"], [0.1111111111111111, \"#46039f\"], [0.2222222222222222, \"#7201a8\"], [0.3333333333333333, \"#9c179e\"], [0.4444444444444444, \"#bd3786\"], [0.5555555555555556, \"#d8576b\"], [0.6666666666666666, \"#ed7953\"], [0.7777777777777778, \"#fb9f3a\"], [0.8888888888888888, \"#fdca26\"], [1.0, \"#f0f921\"]], \"type\": \"histogram2d\"}], \"histogram2dcontour\": [{\"colorbar\": {\"outlinewidth\": 0, \"ticks\": \"\"}, \"colorscale\": [[0.0, \"#0d0887\"], [0.1111111111111111, \"#46039f\"], [0.2222222222222222, \"#7201a8\"], [0.3333333333333333, \"#9c179e\"], [0.4444444444444444, \"#bd3786\"], [0.5555555555555556, \"#d8576b\"], [0.6666666666666666, \"#ed7953\"], [0.7777777777777778, \"#fb9f3a\"], [0.8888888888888888, \"#fdca26\"], [1.0, \"#f0f921\"]], \"type\": \"histogram2dcontour\"}], \"mesh3d\": [{\"colorbar\": {\"outlinewidth\": 0, \"ticks\": \"\"}, \"type\": \"mesh3d\"}], \"parcoords\": [{\"line\": {\"colorbar\": {\"outlinewidth\": 0, \"ticks\": \"\"}}, \"type\": \"parcoords\"}], \"pie\": [{\"automargin\": true, \"type\": \"pie\"}], \"scatter\": [{\"marker\": {\"colorbar\": {\"outlinewidth\": 0, \"ticks\": \"\"}}, \"type\": \"scatter\"}], \"scatter3d\": [{\"line\": {\"colorbar\": {\"outlinewidth\": 0, \"ticks\": \"\"}}, \"marker\": {\"colorbar\": {\"outlinewidth\": 0, \"ticks\": \"\"}}, \"type\": \"scatter3d\"}], \"scattercarpet\": [{\"marker\": {\"colorbar\": {\"outlinewidth\": 0, \"ticks\": \"\"}}, \"type\": \"scattercarpet\"}], \"scattergeo\": [{\"marker\": {\"colorbar\": {\"outlinewidth\": 0, \"ticks\": \"\"}}, \"type\": \"scattergeo\"}], \"scattergl\": [{\"marker\": {\"colorbar\": {\"outlinewidth\": 0, \"ticks\": \"\"}}, \"type\": \"scattergl\"}], \"scattermapbox\": [{\"marker\": {\"colorbar\": {\"outlinewidth\": 0, \"ticks\": \"\"}}, \"type\": \"scattermapbox\"}], \"scatterpolar\": [{\"marker\": {\"colorbar\": {\"outlinewidth\": 0, \"ticks\": \"\"}}, \"type\": \"scatterpolar\"}], \"scatterpolargl\": [{\"marker\": {\"colorbar\": {\"outlinewidth\": 0, \"ticks\": \"\"}}, \"type\": \"scatterpolargl\"}], \"scatterternary\": [{\"marker\": {\"colorbar\": {\"outlinewidth\": 0, \"ticks\": \"\"}}, \"type\": \"scatterternary\"}], \"surface\": [{\"colorbar\": {\"outlinewidth\": 0, \"ticks\": \"\"}, \"colorscale\": [[0.0, \"#0d0887\"], [0.1111111111111111, \"#46039f\"], [0.2222222222222222, \"#7201a8\"], [0.3333333333333333, \"#9c179e\"], [0.4444444444444444, \"#bd3786\"], [0.5555555555555556, \"#d8576b\"], [0.6666666666666666, \"#ed7953\"], [0.7777777777777778, \"#fb9f3a\"], [0.8888888888888888, \"#fdca26\"], [1.0, \"#f0f921\"]], \"type\": \"surface\"}], \"table\": [{\"cells\": {\"fill\": {\"color\": \"#EBF0F8\"}, \"line\": {\"color\": \"white\"}}, \"header\": {\"fill\": {\"color\": \"#C8D4E3\"}, \"line\": {\"color\": \"white\"}}, \"type\": \"table\"}]}, \"layout\": {\"annotationdefaults\": {\"arrowcolor\": \"#2a3f5f\", \"arrowhead\": 0, \"arrowwidth\": 1}, \"coloraxis\": {\"colorbar\": {\"outlinewidth\": 0, \"ticks\": \"\"}}, \"colorscale\": {\"diverging\": [[0, \"#8e0152\"], [0.1, \"#c51b7d\"], [0.2, \"#de77ae\"], [0.3, \"#f1b6da\"], [0.4, \"#fde0ef\"], [0.5, \"#f7f7f7\"], [0.6, \"#e6f5d0\"], [0.7, \"#b8e186\"], [0.8, \"#7fbc41\"], [0.9, \"#4d9221\"], [1, \"#276419\"]], \"sequential\": [[0.0, \"#0d0887\"], [0.1111111111111111, \"#46039f\"], [0.2222222222222222, \"#7201a8\"], [0.3333333333333333, \"#9c179e\"], [0.4444444444444444, \"#bd3786\"], [0.5555555555555556, \"#d8576b\"], [0.6666666666666666, \"#ed7953\"], [0.7777777777777778, \"#fb9f3a\"], [0.8888888888888888, \"#fdca26\"], [1.0, \"#f0f921\"]], \"sequentialminus\": [[0.0, \"#0d0887\"], [0.1111111111111111, \"#46039f\"], [0.2222222222222222, \"#7201a8\"], [0.3333333333333333, \"#9c179e\"], [0.4444444444444444, \"#bd3786\"], [0.5555555555555556, \"#d8576b\"], [0.6666666666666666, \"#ed7953\"], [0.7777777777777778, \"#fb9f3a\"], [0.8888888888888888, \"#fdca26\"], [1.0, \"#f0f921\"]]}, \"colorway\": [\"#636efa\", \"#EF553B\", \"#00cc96\", \"#ab63fa\", \"#FFA15A\", \"#19d3f3\", \"#FF6692\", \"#B6E880\", \"#FF97FF\", \"#FECB52\"], \"font\": {\"color\": \"#2a3f5f\"}, \"geo\": {\"bgcolor\": \"white\", \"lakecolor\": \"white\", \"landcolor\": \"#E5ECF6\", \"showlakes\": true, \"showland\": true, \"subunitcolor\": \"white\"}, \"hoverlabel\": {\"align\": \"left\"}, \"hovermode\": \"closest\", \"mapbox\": {\"style\": \"light\"}, \"paper_bgcolor\": \"white\", \"plot_bgcolor\": \"#E5ECF6\", \"polar\": {\"angularaxis\": {\"gridcolor\": \"white\", \"linecolor\": \"white\", \"ticks\": \"\"}, \"bgcolor\": \"#E5ECF6\", \"radialaxis\": {\"gridcolor\": \"white\", \"linecolor\": \"white\", \"ticks\": \"\"}}, \"scene\": {\"xaxis\": {\"backgroundcolor\": \"#E5ECF6\", \"gridcolor\": \"white\", \"gridwidth\": 2, \"linecolor\": \"white\", \"showbackground\": true, \"ticks\": \"\", \"zerolinecolor\": \"white\"}, \"yaxis\": {\"backgroundcolor\": \"#E5ECF6\", \"gridcolor\": \"white\", \"gridwidth\": 2, \"linecolor\": \"white\", \"showbackground\": true, \"ticks\": \"\", \"zerolinecolor\": \"white\"}, \"zaxis\": {\"backgroundcolor\": \"#E5ECF6\", \"gridcolor\": \"white\", \"gridwidth\": 2, \"linecolor\": \"white\", \"showbackground\": true, \"ticks\": \"\", \"zerolinecolor\": \"white\"}}, \"shapedefaults\": {\"line\": {\"color\": \"#2a3f5f\"}}, \"ternary\": {\"aaxis\": {\"gridcolor\": \"white\", \"linecolor\": \"white\", \"ticks\": \"\"}, \"baxis\": {\"gridcolor\": \"white\", \"linecolor\": \"white\", \"ticks\": \"\"}, \"bgcolor\": \"#E5ECF6\", \"caxis\": {\"gridcolor\": \"white\", \"linecolor\": \"white\", \"ticks\": \"\"}}, \"title\": {\"x\": 0.05}, \"xaxis\": {\"automargin\": true, \"gridcolor\": \"white\", \"linecolor\": \"white\", \"ticks\": \"\", \"title\": {\"standoff\": 15}, \"zerolinecolor\": \"white\", \"zerolinewidth\": 2}, \"yaxis\": {\"automargin\": true, \"gridcolor\": \"white\", \"linecolor\": \"white\", \"ticks\": \"\", \"title\": {\"standoff\": 15}, \"zerolinecolor\": \"white\", \"zerolinewidth\": 2}}}, \"width\": 800, \"xaxis\": {\"tickfont\": {\"size\": 14}, \"title\": {\"font\": {\"size\": 16}, \"text\": \"Number of messages\"}}, \"yaxis\": {\"tickfont\": {\"size\": 14}, \"tickmode\": \"array\", \"tickvals\": [0, 1, 2, 3, 4, 5, 6, 7, 8, 9, 10, 11, 12, 13, 14, 15, 16, 17, 18, 19, 20, 21, 22, 23], \"title\": {\"font\": {\"size\": 16}, \"text\": \"Hours\"}}},\n                        {\"responsive\": true}\n                    ).then(function(){\n                            \nvar gd = document.getElementById('fd80f8e0-55df-4375-9e95-f310a9726887');\nvar x = new MutationObserver(function (mutations, observer) {{\n        var display = window.getComputedStyle(gd).display;\n        if (!display || display === 'none') {{\n            console.log([gd, 'removed!']);\n            Plotly.purge(gd);\n            observer.disconnect();\n        }}\n}});\n\n// Listen for the removal of the full notebook cells\nvar notebookContainer = gd.closest('#notebook-container');\nif (notebookContainer) {{\n    x.observe(notebookContainer, {childList: true});\n}}\n\n// Listen for the clearing of the current output cell\nvar outputEl = gd.closest('.output');\nif (outputEl) {{\n    x.observe(outputEl, {childList: true});\n}}\n\n                        })\n                };\n                });\n            </script>\n        </div>"
     },
     "metadata": {},
     "output_type": "display_data"
    }
   ],
   "source": [
    "figure(num=None, figsize=(10, 8), dpi=80, facecolor='w', edgecolor='k')\n",
    "fig = go.Figure()\n",
    "\n",
    "START_WEEK_YEAR = 2020\n",
    "START_WEEK_MONTH = 7\n",
    "START_WEEK_DAY = 28\n",
    "\n",
    "if START_WEEK_MONTH in [1, 3, 5, 7, 8, 10, 12]:\n",
    "    days_in_month = 31\n",
    "\n",
    "elif START_WEEK_MONTH == 2:\n",
    "    days_in_month = 28\n",
    "\n",
    "else:\n",
    "    days_in_month = 30\n",
    "\n",
    "for i in range(7):\n",
    "    week_day = START_WEEK_DAY + i\n",
    "    next_day = START_WEEK_DAY + i + 1\n",
    "    day_month = START_WEEK_MONTH\n",
    "    next_day_month = START_WEEK_MONTH\n",
    "\n",
    "    if week_day >= days_in_month + 1:\n",
    "        week_day = week_day % (days_in_month + 1) + 1\n",
    "        day_month = START_WEEK_MONTH + 1\n",
    "\n",
    "    if next_day >= days_in_month + 1:\n",
    "        next_day = next_day % (days_in_month + 1) + 1\n",
    "        next_day_month = START_WEEK_MONTH + 1\n",
    "\n",
    "    start_date = datetime.datetime(START_WEEK_YEAR, day_month,\n",
    "                                    week_day, 0, 0, 0)\n",
    "\n",
    "    end_date = datetime.datetime(START_WEEK_YEAR, next_day_month,\n",
    "                                    next_day, 0, 0, 0)\n",
    "\n",
    "    x, y, lists = get_user_daily_activity(dialogs_info, \"Private dialog\", USER_ID, start_date, end_date)\n",
    "\n",
    "    fig.add_trace(go.Bar(\n",
    "        y=x,\n",
    "        x=y,\n",
    "        name=f\"{week_day}-{day_month}-{START_WEEK_YEAR}\",\n",
    "        orientation='h',\n",
    "        marker=dict(\n",
    "            line=dict(color='rgb(105, 105, 105, 1.0)', width=3)\n",
    "        )\n",
    "    ))\n",
    "    plt.plot(x, y, linewidth=2.5, marker='o', linestyle=\"-\", label=f\"{week_day}-{day_month}-{START_WEEK_YEAR}\")\n",
    "\n",
    "plt.xticks([i for i in range(0, 24)])\n",
    "plt.xlabel(\"Hours\")\n",
    "plt.ylabel(\"Number of messages\")\n",
    "plt.legend(loc='upper left', frameon=False)\n",
    "plt.show()\n",
    "\n",
    "# show comparing bar\n",
    "fig.update_layout(\n",
    "    barmode='stack',\n",
    "    autosize=False,\n",
    "    width=800,\n",
    "    height=800,\n",
    "    yaxis = dict(\n",
    "            title='Hours',\n",
    "            titlefont_size=16,\n",
    "            tickfont_size=14,\n",
    "            tickmode = 'array',\n",
    "            tickvals = [i for i in range(24)]),\n",
    "    xaxis = dict(\n",
    "            title='Number of messages',\n",
    "            titlefont_size=16,\n",
    "            tickfont_size=14)\n",
    ")\n",
    "fig.show()"
   ]
  },
  {
   "cell_type": "markdown",
   "metadata": {},
   "source": [
    "## Collect general statistics for user during start_date - end_date"
   ]
  },
  {
   "cell_type": "code",
   "execution_count": 6,
   "metadata": {
    "pycharm": {
     "name": "#%%\n"
    }
   },
   "outputs": [],
   "source": [
    "def get_statistics_msgs(df, user_id_get_msg, dialog_type, statistics_type,\n",
    "                        start_date, end_date):\n",
    "    \"\"\"\n",
    "\n",
    "    :param df: your dataframe\n",
    "    :param user_id_get_msg: int, user id\n",
    "    :param dialog_type: \"Channel\" or \"Private dialog\" or \"Group\"\n",
    "    :param statistics_type: \"received\" or \"sent\", to analyse received or sent messages\n",
    "    :param start_date: datetime type, from what time start to analyse msgs\n",
    "    :param end_date: datetime type, to what time to analyse msgs\n",
    "    :return: added dataframe with statistics in range (start_date, end_date) and\n",
    "    average_n_msgs, average_n_words\n",
    "    \"\"\"\n",
    "    dialogs_places_dict = {}\n",
    "\n",
    "    # go through all dialogs on special dialog type in dialogs_info dict\n",
    "    # friend - name of dialog\n",
    "    msgs_lst, words_lst = [], []\n",
    "    for friend, dialog_id in dialogs_info[dialog_type].items():\n",
    "        dialog_id = str(dialog_id)\n",
    "        if dialog_id + \".csv\" not in os.listdir(path_dialogs_csv_dir):\n",
    "            msgs_lst.append(0)\n",
    "            words_lst.append(0)\n",
    "            dialogs_places_dict[friend] = 0\n",
    "            continue\n",
    "\n",
    "        dialog_data = pd.read_csv(os.path.join(path_dialogs_csv_dir, dialog_id + \".csv\"))\n",
    "\n",
    "        # if it is Group, so to get number of received messages to you in it\n",
    "        # it is sent to_id like PeerChannel(channel_id=1387547322), it is not your id\n",
    "        # so we change it\n",
    "        if dialog_type == \"Group\" and statistics_type == \"received\":\n",
    "            user_id_get_msg = dialog_data[\"to_id\"][dialog_data.index[0]]\n",
    "\n",
    "        n_msgs_in_date_range, n_words_in_date_range = 0, 0\n",
    "        dialogs_places_dict[friend] = 0\n",
    "\n",
    "        for row in dialog_data.index:\n",
    "            dialog_datetime = dialog_data[\"date\"][row][:-6]\n",
    "            flag_in_range = if_in_date_range(dialog_datetime, start_date, end_date)\n",
    "            if flag_in_range == 'Dialog after end_date':\n",
    "                continue\n",
    "\n",
    "            if not flag_in_range:\n",
    "                break\n",
    "\n",
    "            if statistics_type == \"received\":\n",
    "                if dialog_data[\"from_id\"][row] == user_id_get_msg:\n",
    "                    continue\n",
    "                    \n",
    "            elif statistics_type == \"sent\":\n",
    "                if dialog_data[\"from_id\"][row] != user_id_get_msg:\n",
    "                    continue\n",
    "\n",
    "            if not pd.isnull(dialog_data[\"message\"][row]):\n",
    "                n_words_in_date_range += len(dialog_data[\"message\"][row].split())\n",
    "            dialogs_places_dict[friend] = dialogs_places_dict.get(friend, 0) + 1\n",
    "\n",
    "        words_lst.append(n_words_in_date_range)\n",
    "\n",
    "    dialogs_places_dict = {k: v for k, v in sorted(dialogs_places_dict.items(), key=lambda item: item[1], reverse=True)}\n",
    "    msgs_lst = []\n",
    "    for i in df.index:\n",
    "        msgs_lst.append(dialogs_places_dict[df[\"dialog_name\"][i]])\n",
    "\n",
    "    df[\"n_{}_msgs_in_date_range\".format(statistics_type)] = msgs_lst\n",
    "    df[\"n_{}_words_in_date_range\".format(statistics_type)] = words_lst\n",
    "\n",
    "    df[\"place_dialog_by_n_{}_msgs\".format(statistics_type)] = [0 for _ in range(len(df.index))]\n",
    "\n",
    "    print(\"Top 10 {} by {} messages during {} - {}\".format(dialog_type, statistics_type, start_date, end_date))\n",
    "    for place, friend in enumerate(dialogs_places_dict.items()):\n",
    "        if place < 10:\n",
    "            print(\"{} place is {} with {} messages\".format(place + 1, friend[0], friend[1]))\n",
    "        n_row = df.loc[df['dialog_name'] == friend[0]][\"id\"]\n",
    "        df[\"place_dialog_by_n_{}_msgs\".format(statistics_type)][n_row] = place + 1\n",
    "\n",
    "    print(\"\\n\\n\")\n",
    "    average_n_msgs = int(df[\"n_{}_msgs_in_date_range\".format(statistics_type)].mean(skipna = True))\n",
    "    average_n_words = int(df[\"n_{}_words_in_date_range\".format(statistics_type)].mean(skipna = True))\n",
    "\n",
    "    return df, average_n_msgs, average_n_words\n"
   ]
  },
  {
   "cell_type": "markdown",
   "source": [
    "### 2) Change start_date and end_date to yours"
   ],
   "metadata": {
    "collapsed": false
   }
  },
  {
   "cell_type": "code",
   "execution_count": 7,
   "outputs": [],
   "source": [
    "# from what time start to analyse msgs - to what time to analyse msgs\n",
    "start_date = datetime.datetime(2017, 1, 10, 0, 0, 0)\n",
    "end_date = datetime.datetime(2020, 8, 10, 0, 0, 0)\n",
    "\n",
    "# get general statistics\n",
    "df = pd.DataFrame(dialogs_info[\"Private dialog\"].items(), columns=[\"dialog_name\", \"dialog_id\"])\n",
    "df[\"id\"] = [i for i in range(df.index[-1] + 1)]"
   ],
   "metadata": {
    "collapsed": false,
    "pycharm": {
     "name": "#%%\n"
    }
   }
  },
  {
   "cell_type": "markdown",
   "metadata": {},
   "source": [
    "## Top people with whom communicate during start_date - end_date"
   ]
  },
  {
   "cell_type": "code",
   "execution_count": 8,
   "metadata": {
    "pycharm": {
     "name": "#%%\n"
    }
   },
   "outputs": [
    {
     "name": "stdout",
     "output_type": "stream",
     "text": [
      "Top 10 Private dialog by received messages during 2017-01-10 00:00:00 - 2020-08-10 00:00:00\n",
      "1 place is Назар Поночевний with 510 messages\n",
      "2 place is Діма Лопушанський with 487 messages\n",
      "3 place is Паша Уку Астроном with 432 messages\n",
      "4 place is Добосевич Олесь with 367 messages\n",
      "5 place is Христина БА with 177 messages\n",
      "6 place is Gleb Plakhtiy with 107 messages\n",
      "7 place is Володя Савчук with 91 messages\n",
      "8 place is Denys Herasymuk with 0 messages\n",
      "9 place is Telegram with 0 messages\n",
      "\n",
      "\n",
      "\n",
      "Top 10 Private dialog by sent messages during 2017-01-10 00:00:00 - 2020-08-10 00:00:00\n",
      "1 place is Denys Herasymuk with 1000 messages\n",
      "2 place is Добосевич Олесь with 633 messages\n",
      "3 place is Паша Уку Астроном with 568 messages\n",
      "4 place is Діма Лопушанський with 513 messages\n",
      "5 place is Назар Поночевний with 490 messages\n",
      "6 place is Христина БА with 234 messages\n",
      "7 place is Gleb Plakhtiy with 213 messages\n",
      "8 place is Володя Савчук with 97 messages\n",
      "9 place is Telegram with 0 messages\n",
      "\n",
      "\n",
      "\n"
     ]
    },
    {
     "name": "stderr",
     "output_type": "stream",
     "text": [
      "d:\\python\\envs\\venv_telegram_analysis\\lib\\site-packages\\ipykernel_launcher.py:76: SettingWithCopyWarning:\n",
      "\n",
      "\n",
      "A value is trying to be set on a copy of a slice from a DataFrame\n",
      "\n",
      "See the caveats in the documentation: http://pandas.pydata.org/pandas-docs/stable/user_guide/indexing.html#returning-a-view-versus-a-copy\n",
      "\n"
     ]
    },
    {
     "data": {
      "text/plain": "                     dialog_name  dialog_id   id  \\\n0              Діма Лопушанський  138918380  0.0   \n1                  Володя Савчук  147336686  1.0   \n2                Добосевич Олесь  229708851  2.0   \n3               Назар Поночевний  347963763  3.0   \n4                  Gleb Plakhtiy  394056405  4.0   \n5              Паша Уку Астроном  470409323  5.0   \n6                Denys Herasymuk  511986933  6.0   \n7                    Христина БА  620593584  7.0   \n8                       Telegram     777000  8.0   \n9  Total average statistics msgs         -1  NaN   \n\n   n_received_msgs_in_date_range  n_received_words_in_date_range  \\\n0                            487                            3049   \n1                             91                             445   \n2                            367                            1982   \n3                            510                            8643   \n4                            107                             981   \n5                            432                            2599   \n6                              0                               0   \n7                            177                            1380   \n8                              0                               0   \n9                            241                            2119   \n\n   place_dialog_by_n_received_msgs  n_sent_msgs_in_date_range  \\\n0                                2                        513   \n1                                7                         97   \n2                                4                        633   \n3                                1                        490   \n4                                6                        213   \n5                                3                        568   \n6                                8                       1000   \n7                                5                        234   \n8                                9                          0   \n9                               -1                        416   \n\n   n_sent_words_in_date_range  place_dialog_by_n_sent_msgs  \n0                        3209                            4  \n1                         528                            8  \n2                        5581                            2  \n3                        2775                            5  \n4                        1461                            7  \n5                        4097                            3  \n6                       21309                            1  \n7                        1784                            6  \n8                           0                            9  \n9                        4527                           -1  ",
      "text/html": "<div>\n<style scoped>\n    .dataframe tbody tr th:only-of-type {\n        vertical-align: middle;\n    }\n\n    .dataframe tbody tr th {\n        vertical-align: top;\n    }\n\n    .dataframe thead th {\n        text-align: right;\n    }\n</style>\n<table border=\"1\" class=\"dataframe\">\n  <thead>\n    <tr style=\"text-align: right;\">\n      <th></th>\n      <th>dialog_name</th>\n      <th>dialog_id</th>\n      <th>id</th>\n      <th>n_received_msgs_in_date_range</th>\n      <th>n_received_words_in_date_range</th>\n      <th>place_dialog_by_n_received_msgs</th>\n      <th>n_sent_msgs_in_date_range</th>\n      <th>n_sent_words_in_date_range</th>\n      <th>place_dialog_by_n_sent_msgs</th>\n    </tr>\n  </thead>\n  <tbody>\n    <tr>\n      <th>0</th>\n      <td>Діма Лопушанський</td>\n      <td>138918380</td>\n      <td>0.0</td>\n      <td>487</td>\n      <td>3049</td>\n      <td>2</td>\n      <td>513</td>\n      <td>3209</td>\n      <td>4</td>\n    </tr>\n    <tr>\n      <th>1</th>\n      <td>Володя Савчук</td>\n      <td>147336686</td>\n      <td>1.0</td>\n      <td>91</td>\n      <td>445</td>\n      <td>7</td>\n      <td>97</td>\n      <td>528</td>\n      <td>8</td>\n    </tr>\n    <tr>\n      <th>2</th>\n      <td>Добосевич Олесь</td>\n      <td>229708851</td>\n      <td>2.0</td>\n      <td>367</td>\n      <td>1982</td>\n      <td>4</td>\n      <td>633</td>\n      <td>5581</td>\n      <td>2</td>\n    </tr>\n    <tr>\n      <th>3</th>\n      <td>Назар Поночевний</td>\n      <td>347963763</td>\n      <td>3.0</td>\n      <td>510</td>\n      <td>8643</td>\n      <td>1</td>\n      <td>490</td>\n      <td>2775</td>\n      <td>5</td>\n    </tr>\n    <tr>\n      <th>4</th>\n      <td>Gleb Plakhtiy</td>\n      <td>394056405</td>\n      <td>4.0</td>\n      <td>107</td>\n      <td>981</td>\n      <td>6</td>\n      <td>213</td>\n      <td>1461</td>\n      <td>7</td>\n    </tr>\n    <tr>\n      <th>5</th>\n      <td>Паша Уку Астроном</td>\n      <td>470409323</td>\n      <td>5.0</td>\n      <td>432</td>\n      <td>2599</td>\n      <td>3</td>\n      <td>568</td>\n      <td>4097</td>\n      <td>3</td>\n    </tr>\n    <tr>\n      <th>6</th>\n      <td>Denys Herasymuk</td>\n      <td>511986933</td>\n      <td>6.0</td>\n      <td>0</td>\n      <td>0</td>\n      <td>8</td>\n      <td>1000</td>\n      <td>21309</td>\n      <td>1</td>\n    </tr>\n    <tr>\n      <th>7</th>\n      <td>Христина БА</td>\n      <td>620593584</td>\n      <td>7.0</td>\n      <td>177</td>\n      <td>1380</td>\n      <td>5</td>\n      <td>234</td>\n      <td>1784</td>\n      <td>6</td>\n    </tr>\n    <tr>\n      <th>8</th>\n      <td>Telegram</td>\n      <td>777000</td>\n      <td>8.0</td>\n      <td>0</td>\n      <td>0</td>\n      <td>9</td>\n      <td>0</td>\n      <td>0</td>\n      <td>9</td>\n    </tr>\n    <tr>\n      <th>9</th>\n      <td>Total average statistics msgs</td>\n      <td>-1</td>\n      <td>NaN</td>\n      <td>241</td>\n      <td>2119</td>\n      <td>-1</td>\n      <td>416</td>\n      <td>4527</td>\n      <td>-1</td>\n    </tr>\n  </tbody>\n</table>\n</div>"
     },
     "execution_count": 8,
     "metadata": {},
     "output_type": "execute_result"
    }
   ],
   "source": [
    "df, average_n_received_msgs, average_n_received_words = get_statistics_msgs(df, USER_ID, \"Private dialog\", \"received\",\n",
    "                                                                            start_date, end_date)\n",
    "df, average_n_sent_msgs, average_n_sent_words = get_statistics_msgs(df, USER_ID, \"Private dialog\", \"sent\",\n",
    "                                                                    start_date, end_date)\n",
    "\n",
    "new_row = {\n",
    "    \"dialog_name\": \"Total average statistics msgs\",\n",
    "    \"dialog_id\": -1,\n",
    "    \"n_received_msgs_in_date_range\": average_n_received_msgs,\n",
    "    \"n_received_words_in_date_range\": average_n_received_words,\n",
    "    \"n_sent_msgs_in_date_range\": average_n_sent_msgs,\n",
    "    \"n_sent_words_in_date_range\": average_n_sent_words,\n",
    "    \"place_dialog_by_n_received_msgs\": -1,\n",
    "    \"place_dialog_by_n_sent_msgs\": -1\n",
    "}\n",
    "\n",
    "df = df.append(new_row, ignore_index=True)\n",
    "\n",
    "df.to_csv(os.path.join(\"data\", \"processed_dialog_files\", f\"private_{RESULT_NAME_STATISTICS}.csv\"))\n",
    "df"
   ]
  },
  {
   "cell_type": "markdown",
   "metadata": {
    "pycharm": {
     "name": "#%% md\n"
    }
   },
   "source": [
    "## Top groups with whom communicate during start_date - end_date"
   ]
  },
  {
   "cell_type": "code",
   "execution_count": 9,
   "metadata": {
    "pycharm": {
     "name": "#%%\n"
    }
   },
   "outputs": [
    {
     "name": "stdout",
     "output_type": "stream",
     "text": [
      "Top 10 Group by received messages during 2017-01-10 00:00:00 - 2020-08-10 00:00:00\n",
      "1 place is BookCrossing - Обмен книгами with 2000 messages\n",
      "2 place is React Kyiv with 2000 messages\n",
      "3 place is Arch Linux RU with 2000 messages\n",
      "4 place is УКУ Рандом | REBOOTED with 2000 messages\n",
      "5 place is APPS@UCU (всі) ❤️ with 2000 messages\n",
      "6 place is sns_internships with 2000 messages\n",
      "7 place is 🤪Будущі бомжі (4K)🥴 with 1000 messages\n",
      "8 place is Group with 1000 messages\n",
      "9 place is d2v with 195 messages\n",
      "10 place is ПОК Проект with 44 messages\n",
      "\n",
      "\n",
      "\n",
      "Top 10 Group by sent messages during 2017-01-10 00:00:00 - 2020-08-10 00:00:00\n",
      "1 place is Group with 525 messages\n",
      "2 place is d2v with 82 messages\n",
      "3 place is React Kyiv with 13 messages\n",
      "4 place is ПОК Проект with 9 messages\n",
      "5 place is APPS@UCU (всі) ❤️ with 8 messages\n",
      "6 place is 🤪Будущі бомжі (4K)🥴 with 7 messages\n",
      "7 place is УКУ Рандом | REBOOTED with 2 messages\n",
      "8 place is BookCrossing - Обмен книгами with 0 messages\n",
      "9 place is Arch Linux RU with 0 messages\n",
      "10 place is sns_internships with 0 messages\n",
      "\n",
      "\n",
      "\n"
     ]
    },
    {
     "name": "stderr",
     "output_type": "stream",
     "text": [
      "d:\\python\\envs\\venv_telegram_analysis\\lib\\site-packages\\ipykernel_launcher.py:76: SettingWithCopyWarning:\n",
      "\n",
      "\n",
      "A value is trying to be set on a copy of a slice from a DataFrame\n",
      "\n",
      "See the caveats in the documentation: http://pandas.pydata.org/pandas-docs/stable/user_guide/indexing.html#returning-a-view-versus-a-copy\n",
      "\n"
     ]
    },
    {
     "data": {
      "text/plain": "                      dialog_name  dialog_id   id  \\\n0               Діма Лопушанський  138918380  0.0   \n1                   Володя Савчук  147336686  1.0   \n2                 Добосевич Олесь  229708851  2.0   \n3                Назар Поночевний  347963763  3.0   \n4                   Gleb Plakhtiy  394056405  4.0   \n5               Паша Уку Астроном  470409323  5.0   \n6                 Denys Herasymuk  511986933  6.0   \n7                     Христина БА  620593584  7.0   \n8                        Telegram     777000  8.0   \n9   Total average statistics msgs         -1  NaN   \n10  Total average statistics msgs         -1  NaN   \n\n    n_received_msgs_in_date_range  n_received_words_in_date_range  \\\n0                             487                            3049   \n1                              91                             445   \n2                             367                            1982   \n3                             510                            8643   \n4                             107                             981   \n5                             432                            2599   \n6                               0                               0   \n7                             177                            1380   \n8                               0                               0   \n9                             241                            2119   \n10                           1423                           11320   \n\n    place_dialog_by_n_received_msgs  n_sent_msgs_in_date_range  \\\n0                                 2                        513   \n1                                 7                         97   \n2                                 4                        633   \n3                                 1                        490   \n4                                 6                        213   \n5                                 3                        568   \n6                                 8                       1000   \n7                                 5                        234   \n8                                 9                          0   \n9                                -1                        416   \n10                               -1                         64   \n\n    n_sent_words_in_date_range  place_dialog_by_n_sent_msgs  \n0                         3209                            4  \n1                          528                            8  \n2                         5581                            2  \n3                         2775                            5  \n4                         1461                            7  \n5                         4097                            3  \n6                        21309                            1  \n7                         1784                            6  \n8                            0                            9  \n9                         4527                           -1  \n10                        1092                           -1  ",
      "text/html": "<div>\n<style scoped>\n    .dataframe tbody tr th:only-of-type {\n        vertical-align: middle;\n    }\n\n    .dataframe tbody tr th {\n        vertical-align: top;\n    }\n\n    .dataframe thead th {\n        text-align: right;\n    }\n</style>\n<table border=\"1\" class=\"dataframe\">\n  <thead>\n    <tr style=\"text-align: right;\">\n      <th></th>\n      <th>dialog_name</th>\n      <th>dialog_id</th>\n      <th>id</th>\n      <th>n_received_msgs_in_date_range</th>\n      <th>n_received_words_in_date_range</th>\n      <th>place_dialog_by_n_received_msgs</th>\n      <th>n_sent_msgs_in_date_range</th>\n      <th>n_sent_words_in_date_range</th>\n      <th>place_dialog_by_n_sent_msgs</th>\n    </tr>\n  </thead>\n  <tbody>\n    <tr>\n      <th>0</th>\n      <td>Діма Лопушанський</td>\n      <td>138918380</td>\n      <td>0.0</td>\n      <td>487</td>\n      <td>3049</td>\n      <td>2</td>\n      <td>513</td>\n      <td>3209</td>\n      <td>4</td>\n    </tr>\n    <tr>\n      <th>1</th>\n      <td>Володя Савчук</td>\n      <td>147336686</td>\n      <td>1.0</td>\n      <td>91</td>\n      <td>445</td>\n      <td>7</td>\n      <td>97</td>\n      <td>528</td>\n      <td>8</td>\n    </tr>\n    <tr>\n      <th>2</th>\n      <td>Добосевич Олесь</td>\n      <td>229708851</td>\n      <td>2.0</td>\n      <td>367</td>\n      <td>1982</td>\n      <td>4</td>\n      <td>633</td>\n      <td>5581</td>\n      <td>2</td>\n    </tr>\n    <tr>\n      <th>3</th>\n      <td>Назар Поночевний</td>\n      <td>347963763</td>\n      <td>3.0</td>\n      <td>510</td>\n      <td>8643</td>\n      <td>1</td>\n      <td>490</td>\n      <td>2775</td>\n      <td>5</td>\n    </tr>\n    <tr>\n      <th>4</th>\n      <td>Gleb Plakhtiy</td>\n      <td>394056405</td>\n      <td>4.0</td>\n      <td>107</td>\n      <td>981</td>\n      <td>6</td>\n      <td>213</td>\n      <td>1461</td>\n      <td>7</td>\n    </tr>\n    <tr>\n      <th>5</th>\n      <td>Паша Уку Астроном</td>\n      <td>470409323</td>\n      <td>5.0</td>\n      <td>432</td>\n      <td>2599</td>\n      <td>3</td>\n      <td>568</td>\n      <td>4097</td>\n      <td>3</td>\n    </tr>\n    <tr>\n      <th>6</th>\n      <td>Denys Herasymuk</td>\n      <td>511986933</td>\n      <td>6.0</td>\n      <td>0</td>\n      <td>0</td>\n      <td>8</td>\n      <td>1000</td>\n      <td>21309</td>\n      <td>1</td>\n    </tr>\n    <tr>\n      <th>7</th>\n      <td>Христина БА</td>\n      <td>620593584</td>\n      <td>7.0</td>\n      <td>177</td>\n      <td>1380</td>\n      <td>5</td>\n      <td>234</td>\n      <td>1784</td>\n      <td>6</td>\n    </tr>\n    <tr>\n      <th>8</th>\n      <td>Telegram</td>\n      <td>777000</td>\n      <td>8.0</td>\n      <td>0</td>\n      <td>0</td>\n      <td>9</td>\n      <td>0</td>\n      <td>0</td>\n      <td>9</td>\n    </tr>\n    <tr>\n      <th>9</th>\n      <td>Total average statistics msgs</td>\n      <td>-1</td>\n      <td>NaN</td>\n      <td>241</td>\n      <td>2119</td>\n      <td>-1</td>\n      <td>416</td>\n      <td>4527</td>\n      <td>-1</td>\n    </tr>\n    <tr>\n      <th>10</th>\n      <td>Total average statistics msgs</td>\n      <td>-1</td>\n      <td>NaN</td>\n      <td>1423</td>\n      <td>11320</td>\n      <td>-1</td>\n      <td>64</td>\n      <td>1092</td>\n      <td>-1</td>\n    </tr>\n  </tbody>\n</table>\n</div>"
     },
     "execution_count": 9,
     "metadata": {},
     "output_type": "execute_result"
    }
   ],
   "source": [
    "# get general statistics\n",
    "df_groups = pd.DataFrame(dialogs_info[\"Group\"].items(), columns=[\"dialog_name\", \"dialog_id\"])\n",
    "df_groups[\"id\"] = [i for i in range(df_groups.index[-1] + 1)]\n",
    "\n",
    "df_groups, average_n_received_msgs, average_n_received_words = get_statistics_msgs(df_groups, \"all\", \"Group\", \"received\",\n",
    "                                                                            start_date, end_date)\n",
    "df_groups, average_n_sent_msgs, average_n_sent_words = get_statistics_msgs(df_groups, USER_ID, \"Group\", \"sent\",\n",
    "                                                                    start_date, end_date)\n",
    "\n",
    "new_row = {\n",
    "    \"dialog_name\": \"Total average statistics msgs\",\n",
    "    \"dialog_id\": -1,\n",
    "    \"n_received_msgs_in_date_range\": average_n_received_msgs,\n",
    "    \"n_received_words_in_date_range\": average_n_received_words,\n",
    "    \"n_sent_msgs_in_date_range\": average_n_sent_msgs,\n",
    "    \"n_sent_words_in_date_range\": average_n_sent_words,\n",
    "    \"place_dialog_by_n_received_msgs\": -1,\n",
    "    \"place_dialog_by_n_sent_msgs\": -1\n",
    "}\n",
    "\n",
    "df = df.append(new_row, ignore_index=True)\n",
    "\n",
    "df.to_csv(os.path.join(\"data\", \"processed_dialog_files\", f\"groups_{RESULT_NAME_STATISTICS}.csv\"))\n",
    "df"
   ]
  },
  {
   "cell_type": "markdown",
   "metadata": {},
   "source": [
    "## Time spending on conversations during start_date - end_date\n",
    "\n",
    "#### 3) Change to yours next global variables"
   ]
  },
  {
   "cell_type": "code",
   "execution_count": 10,
   "outputs": [],
   "source": [
    "# if time between messages is more TIME_BETWEEN_USER_REPLIES sec,\n",
    "# so the dialog is stopped and\n",
    "# we should not add this time to general time\n",
    "TIME_BETWEEN_USER_REPLIES = 300\n",
    "\n",
    "# WORDS_SPEED_READING per a minute\n",
    "WORDS_SPEED_READING = 140\n",
    "\n",
    "# WORDS_SPEED_READING per a minute\n",
    "CHAR_SPEED_WRITING = 140"
   ],
   "metadata": {
    "collapsed": false,
    "pycharm": {
     "name": "#%%\n"
    }
   }
  },
  {
   "cell_type": "code",
   "execution_count": 11,
   "outputs": [],
   "source": [
    "def get_user_active_minutes_per_day(dialogs_info, start_date, end_date, dialog_type, user_id_get_msg):\n",
    "    \"\"\"\n",
    "\n",
    "    :param dialogs_info: dict: first level keys - \"Channel\", \"Private dialog\", \"Group\"\n",
    "    second level items - \"<name_of_dialog>\": <id>\n",
    "    :param start_date: datetime type, from what time start to analyse msgs\n",
    "    :param end_date: datetime type, to what time to analyse msgs\n",
    "    :param dialog_type: \"Channel\" or \"Private dialog\" or \"Group\"\n",
    "    :param user_id_get_msg: int, user id\n",
    "    :return: lists for a plot of \"top_friends\" or \"daily_activity\", depends on\n",
    "    your input plot_type\n",
    "    \"\"\"\n",
    "    dialog_active_seconds, previous_message_time = 0, 0\n",
    "\n",
    "    # go through all dialogs on special dialog type in dialogs_info dict\n",
    "    # friend - name of dialog\n",
    "    print(f\"Active minutes per day({start_date}) in {dialog_type}\")\n",
    "\n",
    "    for friend, dialog_id in dialogs_info[dialog_type].items():\n",
    "        dialog_id = str(dialog_id)\n",
    "        start_dialog_time, stop_dialog_time = 0, 0\n",
    "\n",
    "        if dialog_id + \".csv\" not in os.listdir(path_dialogs_csv_dir):\n",
    "            continue\n",
    "\n",
    "        dialog_data = pd.read_csv(os.path.join(path_dialogs_csv_dir, dialog_id + \".csv\"))\n",
    "        dialog_active_seconds_before = dialog_active_seconds\n",
    "        flag_first_my_message = 0\n",
    "\n",
    "        for row in dialog_data.index:\n",
    "            if pd.isnull(dialog_data[\"message\"][row]):\n",
    "                continue\n",
    "\n",
    "            dialog_datetime = dialog_data[\"date\"][row][:-6]\n",
    "            flag_in_range = if_in_date_range(dialog_datetime, start_date, end_date)\n",
    "            if flag_in_range == 'Dialog after END_DATE':\n",
    "                continue\n",
    "\n",
    "            elif not flag_in_range:\n",
    "                break\n",
    "\n",
    "            elif flag_in_range:\n",
    "                if user_id_get_msg != \"all\":\n",
    "                    if dialog_data[\"from_id\"][row] != user_id_get_msg:\n",
    "                        dialog_active_seconds += len(dialog_data[\"message\"][row].split()) / WORDS_SPEED_READING * 60\n",
    "                        continue\n",
    "                \n",
    "                dialog_datetime = datetime.datetime.strptime(dialog_data[\"date\"][row][:-6],\n",
    "                                                                         \"%Y-%m-%d %H:%M:%S\")\n",
    "                if flag_first_my_message == 0:\n",
    "                    previous_message_time = dialog_datetime\n",
    "                    flag_first_my_message = 1\n",
    "\n",
    "                time_before_my_messages = previous_message_time - dialog_datetime\n",
    "\n",
    "                # if message in user_id_get_msg queue of messages\n",
    "                if row != dialog_data.index[-1] and dialog_data[\"from_id\"][row + 1] == user_id_get_msg and \\\n",
    "                        time_before_my_messages.total_seconds() < 600:\n",
    "                    previous_message_time = dialog_datetime\n",
    "                    if stop_dialog_time == 0:\n",
    "                        stop_dialog_time = dialog_datetime\n",
    "\n",
    "                else:\n",
    "                    TIME_FOR_FIRST_YOUR_MESSAGE = 30 + \\\n",
    "                                                  len(dialog_data[\"message\"][row]) / CHAR_SPEED_WRITING * 60\n",
    "                    if stop_dialog_time == 0:\n",
    "                        # if in user_id_get_msg queue of messages is only 1 message so add\n",
    "                        # time for:\n",
    "                        # reading received messages + thinking + writing the message\n",
    "                        dialog_active_seconds += TIME_FOR_FIRST_YOUR_MESSAGE\n",
    "\n",
    "                    else:\n",
    "                        start_dialog_time = dialog_datetime\n",
    "\n",
    "                        # get time between your query of messages\n",
    "                        time_since = stop_dialog_time - start_dialog_time\n",
    "\n",
    "                        # if time between messages is more TIME_BETWEEN_USER_REPLIES sec,\n",
    "                        # so the dialog is stopped and\n",
    "                        # we should not add this time to general time\n",
    "                        if time_since.total_seconds() >= TIME_BETWEEN_USER_REPLIES:\n",
    "                            time_since = stop_dialog_time - previous_message_time\n",
    "                            dialog_active_seconds += time_since.total_seconds() + TIME_FOR_FIRST_YOUR_MESSAGE\n",
    "\n",
    "                        else:\n",
    "                            # add TIME_FOR_FIRST_YOUR_MESSAGE sec - time for reading + writing first message\n",
    "                            dialog_active_seconds += time_since.total_seconds() + TIME_FOR_FIRST_YOUR_MESSAGE\n",
    "\n",
    "                    previous_message_time = dialog_datetime\n",
    "                    start_dialog_time, stop_dialog_time = 0, 0\n",
    "\n",
    "        if (dialog_active_seconds - dialog_active_seconds_before) // 60 > 0:\n",
    "            print(\"Time spend on conversation: dialog {} {} minutes\".format(friend,\n",
    "                                                                            round((dialog_active_seconds -\n",
    "                                                                             dialog_active_seconds_before) / 60, 2)))\n",
    "    print(\"\\n\")\n",
    "    return dialog_active_seconds / 60\n"
   ],
   "metadata": {
    "collapsed": false,
    "pycharm": {
     "name": "#%%\n"
    }
   }
  },
  {
   "cell_type": "markdown",
   "metadata": {
    "pycharm": {
     "name": "#%% md\n"
    }
   },
   "source": [
    "### 4) Change START_WEEK_YEAR, START_WEEK_MONTH and START_WEEK_DAY to yours\n",
    "#### Be sure to input date of messages which exists in your data, NOT date in the future (add 7 to your START_WEEK_DAY to understand if it exists in your data) !!!"
   ]
  },
  {
   "cell_type": "code",
   "execution_count": 12,
   "outputs": [
    {
     "name": "stdout",
     "output_type": "stream",
     "text": [
      "Active minutes per day(2020-07-28 00:00:00) in Private dialog\n",
      "Time spend on conversation: dialog Діма Лопушанський 1.28 minutes\n",
      "Time spend on conversation: dialog Назар Поночевний 38.28 minutes\n",
      "Time spend on conversation: dialog Паша Уку Астроном 6.06 minutes\n",
      "Time spend on conversation: dialog Denys Herasymuk 9.61 minutes\n",
      "\n",
      "\n",
      "Active minutes per day(2020-07-28 00:00:00) in Group\n",
      "Time spend on conversation: dialog React Kyiv 2.64 minutes\n",
      "Time spend on conversation: dialog УКУ Рандом | REBOOTED 1.11 minutes\n",
      "\n",
      "\n",
      "Active minutes per day(2020-07-29 00:00:00) in Private dialog\n",
      "Time spend on conversation: dialog Діма Лопушанський 7.03 minutes\n",
      "Time spend on conversation: dialog Назар Поночевний 16.92 minutes\n",
      "Time spend on conversation: dialog Паша Уку Астроном 16.8 minutes\n",
      "\n",
      "\n",
      "Active minutes per day(2020-07-29 00:00:00) in Group\n",
      "Time spend on conversation: dialog React Kyiv 1.64 minutes\n",
      "Time spend on conversation: dialog УКУ Рандом | REBOOTED 2.04 minutes\n",
      "\n",
      "\n",
      "Active minutes per day(2020-07-30 00:00:00) in Private dialog\n",
      "Time spend on conversation: dialog Діма Лопушанський 3.93 minutes\n",
      "Time spend on conversation: dialog Володя Савчук 2.5 minutes\n",
      "Time spend on conversation: dialog Назар Поночевний 32.01 minutes\n",
      "\n",
      "\n",
      "Active minutes per day(2020-07-30 00:00:00) in Group\n",
      "Time spend on conversation: dialog React Kyiv 1.57 minutes\n",
      "Time spend on conversation: dialog УКУ Рандом | REBOOTED 2.29 minutes\n",
      "Time spend on conversation: dialog sns_internships 4.44 minutes\n",
      "\n",
      "\n",
      "Active minutes per day(2020-07-31 00:00:00) in Private dialog\n",
      "Time spend on conversation: dialog Назар Поночевний 34.01 minutes\n",
      "\n",
      "\n",
      "Active minutes per day(2020-07-31 00:00:00) in Group\n",
      "Time spend on conversation: dialog React Kyiv 1.66 minutes\n",
      "Time spend on conversation: dialog УКУ Рандом | REBOOTED 1.17 minutes\n",
      "\n",
      "\n",
      "Active minutes per day(2020-08-01 00:00:00) in Private dialog\n",
      "Time spend on conversation: dialog Діма Лопушанський 24.06 minutes\n",
      "Time spend on conversation: dialog Назар Поночевний 5.07 minutes\n",
      "Time spend on conversation: dialog Паша Уку Астроном 3.55 minutes\n",
      "\n",
      "\n",
      "Active minutes per day(2020-08-01 00:00:00) in Group\n",
      "Time spend on conversation: dialog React Kyiv 3.46 minutes\n",
      "Time spend on conversation: dialog sns_internships 2.6 minutes\n",
      "\n",
      "\n",
      "Active minutes per day(2020-08-02 00:00:00) in Private dialog\n",
      "Time spend on conversation: dialog Назар Поночевний 5.93 minutes\n",
      "\n",
      "\n",
      "Active minutes per day(2020-08-02 00:00:00) in Group\n",
      "\n",
      "\n",
      "Active minutes per day(2020-08-03 00:00:00) in Private dialog\n",
      "Time spend on conversation: dialog Діма Лопушанський 1.77 minutes\n",
      "Time spend on conversation: dialog Назар Поночевний 3.46 minutes\n",
      "Time spend on conversation: dialog Denys Herasymuk 1.93 minutes\n",
      "Time spend on conversation: dialog Христина БА 3.63 minutes\n",
      "\n",
      "\n",
      "Active minutes per day(2020-08-03 00:00:00) in Group\n",
      "Time spend on conversation: dialog React Kyiv 1.33 minutes\n",
      "Time spend on conversation: dialog УКУ Рандом | REBOOTED 2.34 minutes\n",
      "Time spend on conversation: dialog sns_internships 8.01 minutes\n",
      "\n",
      "\n"
     ]
    }
   ],
   "source": [
    "START_WEEK_YEAR = 2020\n",
    "START_WEEK_MONTH = 7\n",
    "START_WEEK_DAY = 28\n",
    "\n",
    "plot_data = {}\n",
    "if START_WEEK_MONTH in [1, 3, 5, 7, 8, 10, 12]:\n",
    "    days_in_month = 31\n",
    "\n",
    "elif START_WEEK_MONTH == 2:\n",
    "    days_in_month = 28\n",
    "\n",
    "else:\n",
    "    days_in_month = 30\n",
    "\n",
    "for i in range(7):\n",
    "    week_day = START_WEEK_DAY + i\n",
    "    next_day = START_WEEK_DAY + i + 1\n",
    "    day_month = START_WEEK_MONTH\n",
    "    next_day_month = START_WEEK_MONTH\n",
    "\n",
    "    if week_day >= days_in_month + 1:\n",
    "        week_day = week_day % (days_in_month + 1) + 1\n",
    "        day_month = START_WEEK_MONTH + 1\n",
    "\n",
    "    if next_day >= days_in_month + 1:\n",
    "        next_day = next_day % (days_in_month + 1) + 1\n",
    "        next_day_month = START_WEEK_MONTH + 1\n",
    "\n",
    "    start_date = datetime.datetime(START_WEEK_YEAR, day_month,\n",
    "                                    week_day, 0, 0, 0)\n",
    "\n",
    "    end_date = datetime.datetime(START_WEEK_YEAR, next_day_month,\n",
    "                                    next_day, 0, 0, 0)\n",
    "\n",
    "    general_dialog_time = get_user_active_minutes_per_day(dialogs_info, start_date, end_date, \"Private dialog\", USER_ID) \\\n",
    "                          + get_user_active_minutes_per_day(dialogs_info, start_date, end_date, \"Group\", USER_ID)\n",
    "    plot_data[datetime.date(START_WEEK_YEAR, day_month, week_day)] = general_dialog_time\n",
    "\n",
    "lists = sorted(plot_data.items())\n",
    "dates, n_minutes_lst = zip(*lists)"
   ],
   "metadata": {
    "collapsed": false,
    "pycharm": {
     "name": "#%%\n"
    }
   }
  },
  {
   "cell_type": "code",
   "execution_count": 13,
   "metadata": {
    "pycharm": {
     "name": "#%%\n"
    }
   },
   "outputs": [
    {
     "data": {
      "application/vnd.plotly.v1+json": {
       "config": {
        "plotlyServerURL": "https://plot.ly"
       },
       "data": [
        {
         "name": "Data 1",
         "type": "bar",
         "x": [
          "2020-07-28",
          "2020-07-29",
          "2020-07-30",
          "2020-07-31",
          "2020-08-01",
          "2020-08-02",
          "2020-08-03"
         ],
         "y": [
          58.98333333333336,
          46.164285714285725,
          46.9357142857143,
          37.81904761904761,
          39.77142857142856,
          7.3809523809523805,
          22.47380952380953
         ]
        }
       ],
       "layout": {
        "autosize": false,
        "height": 800,
        "template": {
         "data": {
          "bar": [
           {
            "error_x": {
             "color": "#2a3f5f"
            },
            "error_y": {
             "color": "#2a3f5f"
            },
            "marker": {
             "line": {
              "color": "#E5ECF6",
              "width": 0.5
             }
            },
            "type": "bar"
           }
          ],
          "barpolar": [
           {
            "marker": {
             "line": {
              "color": "#E5ECF6",
              "width": 0.5
             }
            },
            "type": "barpolar"
           }
          ],
          "carpet": [
           {
            "aaxis": {
             "endlinecolor": "#2a3f5f",
             "gridcolor": "white",
             "linecolor": "white",
             "minorgridcolor": "white",
             "startlinecolor": "#2a3f5f"
            },
            "baxis": {
             "endlinecolor": "#2a3f5f",
             "gridcolor": "white",
             "linecolor": "white",
             "minorgridcolor": "white",
             "startlinecolor": "#2a3f5f"
            },
            "type": "carpet"
           }
          ],
          "choropleth": [
           {
            "colorbar": {
             "outlinewidth": 0,
             "ticks": ""
            },
            "type": "choropleth"
           }
          ],
          "contour": [
           {
            "colorbar": {
             "outlinewidth": 0,
             "ticks": ""
            },
            "colorscale": [
             [
              0.0,
              "#0d0887"
             ],
             [
              0.1111111111111111,
              "#46039f"
             ],
             [
              0.2222222222222222,
              "#7201a8"
             ],
             [
              0.3333333333333333,
              "#9c179e"
             ],
             [
              0.4444444444444444,
              "#bd3786"
             ],
             [
              0.5555555555555556,
              "#d8576b"
             ],
             [
              0.6666666666666666,
              "#ed7953"
             ],
             [
              0.7777777777777778,
              "#fb9f3a"
             ],
             [
              0.8888888888888888,
              "#fdca26"
             ],
             [
              1.0,
              "#f0f921"
             ]
            ],
            "type": "contour"
           }
          ],
          "contourcarpet": [
           {
            "colorbar": {
             "outlinewidth": 0,
             "ticks": ""
            },
            "type": "contourcarpet"
           }
          ],
          "heatmap": [
           {
            "colorbar": {
             "outlinewidth": 0,
             "ticks": ""
            },
            "colorscale": [
             [
              0.0,
              "#0d0887"
             ],
             [
              0.1111111111111111,
              "#46039f"
             ],
             [
              0.2222222222222222,
              "#7201a8"
             ],
             [
              0.3333333333333333,
              "#9c179e"
             ],
             [
              0.4444444444444444,
              "#bd3786"
             ],
             [
              0.5555555555555556,
              "#d8576b"
             ],
             [
              0.6666666666666666,
              "#ed7953"
             ],
             [
              0.7777777777777778,
              "#fb9f3a"
             ],
             [
              0.8888888888888888,
              "#fdca26"
             ],
             [
              1.0,
              "#f0f921"
             ]
            ],
            "type": "heatmap"
           }
          ],
          "heatmapgl": [
           {
            "colorbar": {
             "outlinewidth": 0,
             "ticks": ""
            },
            "colorscale": [
             [
              0.0,
              "#0d0887"
             ],
             [
              0.1111111111111111,
              "#46039f"
             ],
             [
              0.2222222222222222,
              "#7201a8"
             ],
             [
              0.3333333333333333,
              "#9c179e"
             ],
             [
              0.4444444444444444,
              "#bd3786"
             ],
             [
              0.5555555555555556,
              "#d8576b"
             ],
             [
              0.6666666666666666,
              "#ed7953"
             ],
             [
              0.7777777777777778,
              "#fb9f3a"
             ],
             [
              0.8888888888888888,
              "#fdca26"
             ],
             [
              1.0,
              "#f0f921"
             ]
            ],
            "type": "heatmapgl"
           }
          ],
          "histogram": [
           {
            "marker": {
             "colorbar": {
              "outlinewidth": 0,
              "ticks": ""
             }
            },
            "type": "histogram"
           }
          ],
          "histogram2d": [
           {
            "colorbar": {
             "outlinewidth": 0,
             "ticks": ""
            },
            "colorscale": [
             [
              0.0,
              "#0d0887"
             ],
             [
              0.1111111111111111,
              "#46039f"
             ],
             [
              0.2222222222222222,
              "#7201a8"
             ],
             [
              0.3333333333333333,
              "#9c179e"
             ],
             [
              0.4444444444444444,
              "#bd3786"
             ],
             [
              0.5555555555555556,
              "#d8576b"
             ],
             [
              0.6666666666666666,
              "#ed7953"
             ],
             [
              0.7777777777777778,
              "#fb9f3a"
             ],
             [
              0.8888888888888888,
              "#fdca26"
             ],
             [
              1.0,
              "#f0f921"
             ]
            ],
            "type": "histogram2d"
           }
          ],
          "histogram2dcontour": [
           {
            "colorbar": {
             "outlinewidth": 0,
             "ticks": ""
            },
            "colorscale": [
             [
              0.0,
              "#0d0887"
             ],
             [
              0.1111111111111111,
              "#46039f"
             ],
             [
              0.2222222222222222,
              "#7201a8"
             ],
             [
              0.3333333333333333,
              "#9c179e"
             ],
             [
              0.4444444444444444,
              "#bd3786"
             ],
             [
              0.5555555555555556,
              "#d8576b"
             ],
             [
              0.6666666666666666,
              "#ed7953"
             ],
             [
              0.7777777777777778,
              "#fb9f3a"
             ],
             [
              0.8888888888888888,
              "#fdca26"
             ],
             [
              1.0,
              "#f0f921"
             ]
            ],
            "type": "histogram2dcontour"
           }
          ],
          "mesh3d": [
           {
            "colorbar": {
             "outlinewidth": 0,
             "ticks": ""
            },
            "type": "mesh3d"
           }
          ],
          "parcoords": [
           {
            "line": {
             "colorbar": {
              "outlinewidth": 0,
              "ticks": ""
             }
            },
            "type": "parcoords"
           }
          ],
          "pie": [
           {
            "automargin": true,
            "type": "pie"
           }
          ],
          "scatter": [
           {
            "marker": {
             "colorbar": {
              "outlinewidth": 0,
              "ticks": ""
             }
            },
            "type": "scatter"
           }
          ],
          "scatter3d": [
           {
            "line": {
             "colorbar": {
              "outlinewidth": 0,
              "ticks": ""
             }
            },
            "marker": {
             "colorbar": {
              "outlinewidth": 0,
              "ticks": ""
             }
            },
            "type": "scatter3d"
           }
          ],
          "scattercarpet": [
           {
            "marker": {
             "colorbar": {
              "outlinewidth": 0,
              "ticks": ""
             }
            },
            "type": "scattercarpet"
           }
          ],
          "scattergeo": [
           {
            "marker": {
             "colorbar": {
              "outlinewidth": 0,
              "ticks": ""
             }
            },
            "type": "scattergeo"
           }
          ],
          "scattergl": [
           {
            "marker": {
             "colorbar": {
              "outlinewidth": 0,
              "ticks": ""
             }
            },
            "type": "scattergl"
           }
          ],
          "scattermapbox": [
           {
            "marker": {
             "colorbar": {
              "outlinewidth": 0,
              "ticks": ""
             }
            },
            "type": "scattermapbox"
           }
          ],
          "scatterpolar": [
           {
            "marker": {
             "colorbar": {
              "outlinewidth": 0,
              "ticks": ""
             }
            },
            "type": "scatterpolar"
           }
          ],
          "scatterpolargl": [
           {
            "marker": {
             "colorbar": {
              "outlinewidth": 0,
              "ticks": ""
             }
            },
            "type": "scatterpolargl"
           }
          ],
          "scatterternary": [
           {
            "marker": {
             "colorbar": {
              "outlinewidth": 0,
              "ticks": ""
             }
            },
            "type": "scatterternary"
           }
          ],
          "surface": [
           {
            "colorbar": {
             "outlinewidth": 0,
             "ticks": ""
            },
            "colorscale": [
             [
              0.0,
              "#0d0887"
             ],
             [
              0.1111111111111111,
              "#46039f"
             ],
             [
              0.2222222222222222,
              "#7201a8"
             ],
             [
              0.3333333333333333,
              "#9c179e"
             ],
             [
              0.4444444444444444,
              "#bd3786"
             ],
             [
              0.5555555555555556,
              "#d8576b"
             ],
             [
              0.6666666666666666,
              "#ed7953"
             ],
             [
              0.7777777777777778,
              "#fb9f3a"
             ],
             [
              0.8888888888888888,
              "#fdca26"
             ],
             [
              1.0,
              "#f0f921"
             ]
            ],
            "type": "surface"
           }
          ],
          "table": [
           {
            "cells": {
             "fill": {
              "color": "#EBF0F8"
             },
             "line": {
              "color": "white"
             }
            },
            "header": {
             "fill": {
              "color": "#C8D4E3"
             },
             "line": {
              "color": "white"
             }
            },
            "type": "table"
           }
          ]
         },
         "layout": {
          "annotationdefaults": {
           "arrowcolor": "#2a3f5f",
           "arrowhead": 0,
           "arrowwidth": 1
          },
          "coloraxis": {
           "colorbar": {
            "outlinewidth": 0,
            "ticks": ""
           }
          },
          "colorscale": {
           "diverging": [
            [
             0,
             "#8e0152"
            ],
            [
             0.1,
             "#c51b7d"
            ],
            [
             0.2,
             "#de77ae"
            ],
            [
             0.3,
             "#f1b6da"
            ],
            [
             0.4,
             "#fde0ef"
            ],
            [
             0.5,
             "#f7f7f7"
            ],
            [
             0.6,
             "#e6f5d0"
            ],
            [
             0.7,
             "#b8e186"
            ],
            [
             0.8,
             "#7fbc41"
            ],
            [
             0.9,
             "#4d9221"
            ],
            [
             1,
             "#276419"
            ]
           ],
           "sequential": [
            [
             0.0,
             "#0d0887"
            ],
            [
             0.1111111111111111,
             "#46039f"
            ],
            [
             0.2222222222222222,
             "#7201a8"
            ],
            [
             0.3333333333333333,
             "#9c179e"
            ],
            [
             0.4444444444444444,
             "#bd3786"
            ],
            [
             0.5555555555555556,
             "#d8576b"
            ],
            [
             0.6666666666666666,
             "#ed7953"
            ],
            [
             0.7777777777777778,
             "#fb9f3a"
            ],
            [
             0.8888888888888888,
             "#fdca26"
            ],
            [
             1.0,
             "#f0f921"
            ]
           ],
           "sequentialminus": [
            [
             0.0,
             "#0d0887"
            ],
            [
             0.1111111111111111,
             "#46039f"
            ],
            [
             0.2222222222222222,
             "#7201a8"
            ],
            [
             0.3333333333333333,
             "#9c179e"
            ],
            [
             0.4444444444444444,
             "#bd3786"
            ],
            [
             0.5555555555555556,
             "#d8576b"
            ],
            [
             0.6666666666666666,
             "#ed7953"
            ],
            [
             0.7777777777777778,
             "#fb9f3a"
            ],
            [
             0.8888888888888888,
             "#fdca26"
            ],
            [
             1.0,
             "#f0f921"
            ]
           ]
          },
          "colorway": [
           "#636efa",
           "#EF553B",
           "#00cc96",
           "#ab63fa",
           "#FFA15A",
           "#19d3f3",
           "#FF6692",
           "#B6E880",
           "#FF97FF",
           "#FECB52"
          ],
          "font": {
           "color": "#2a3f5f"
          },
          "geo": {
           "bgcolor": "white",
           "lakecolor": "white",
           "landcolor": "#E5ECF6",
           "showlakes": true,
           "showland": true,
           "subunitcolor": "white"
          },
          "hoverlabel": {
           "align": "left"
          },
          "hovermode": "closest",
          "mapbox": {
           "style": "light"
          },
          "paper_bgcolor": "white",
          "plot_bgcolor": "#E5ECF6",
          "polar": {
           "angularaxis": {
            "gridcolor": "white",
            "linecolor": "white",
            "ticks": ""
           },
           "bgcolor": "#E5ECF6",
           "radialaxis": {
            "gridcolor": "white",
            "linecolor": "white",
            "ticks": ""
           }
          },
          "scene": {
           "xaxis": {
            "backgroundcolor": "#E5ECF6",
            "gridcolor": "white",
            "gridwidth": 2,
            "linecolor": "white",
            "showbackground": true,
            "ticks": "",
            "zerolinecolor": "white"
           },
           "yaxis": {
            "backgroundcolor": "#E5ECF6",
            "gridcolor": "white",
            "gridwidth": 2,
            "linecolor": "white",
            "showbackground": true,
            "ticks": "",
            "zerolinecolor": "white"
           },
           "zaxis": {
            "backgroundcolor": "#E5ECF6",
            "gridcolor": "white",
            "gridwidth": 2,
            "linecolor": "white",
            "showbackground": true,
            "ticks": "",
            "zerolinecolor": "white"
           }
          },
          "shapedefaults": {
           "line": {
            "color": "#2a3f5f"
           }
          },
          "ternary": {
           "aaxis": {
            "gridcolor": "white",
            "linecolor": "white",
            "ticks": ""
           },
           "baxis": {
            "gridcolor": "white",
            "linecolor": "white",
            "ticks": ""
           },
           "bgcolor": "#E5ECF6",
           "caxis": {
            "gridcolor": "white",
            "linecolor": "white",
            "ticks": ""
           }
          },
          "title": {
           "x": 0.05
          },
          "xaxis": {
           "automargin": true,
           "gridcolor": "white",
           "linecolor": "white",
           "ticks": "",
           "title": {
            "standoff": 15
           },
           "zerolinecolor": "white",
           "zerolinewidth": 2
          },
          "yaxis": {
           "automargin": true,
           "gridcolor": "white",
           "linecolor": "white",
           "ticks": "",
           "title": {
            "standoff": 15
           },
           "zerolinecolor": "white",
           "zerolinewidth": 2
          }
         }
        },
        "width": 800,
        "xaxis": {
         "tickfont": {
          "size": 14
         },
         "title": {
          "font": {
           "size": 16
          },
          "text": "Dates"
         }
        },
        "yaxis": {
         "tickfont": {
          "size": 14
         },
         "title": {
          "font": {
           "size": 16
          },
          "text": "N minutes"
         }
        }
       }
      },
      "text/html": "<div>\n        \n        \n            <div id=\"365e3823-97b6-4094-ac14-00dd4411cb21\" class=\"plotly-graph-div\" style=\"height:800px; width:800px;\"></div>\n            <script type=\"text/javascript\">\n                require([\"plotly\"], function(Plotly) {\n                    window.PLOTLYENV=window.PLOTLYENV || {};\n                    \n                if (document.getElementById(\"365e3823-97b6-4094-ac14-00dd4411cb21\")) {\n                    Plotly.newPlot(\n                        '365e3823-97b6-4094-ac14-00dd4411cb21',\n                        [{\"name\": \"Data 1\", \"type\": \"bar\", \"x\": [\"2020-07-28\", \"2020-07-29\", \"2020-07-30\", \"2020-07-31\", \"2020-08-01\", \"2020-08-02\", \"2020-08-03\"], \"y\": [58.98333333333336, 46.164285714285725, 46.9357142857143, 37.81904761904761, 39.77142857142856, 7.3809523809523805, 22.47380952380953]}],\n                        {\"autosize\": false, \"height\": 800, \"template\": {\"data\": {\"bar\": [{\"error_x\": {\"color\": \"#2a3f5f\"}, \"error_y\": {\"color\": \"#2a3f5f\"}, \"marker\": {\"line\": {\"color\": \"#E5ECF6\", \"width\": 0.5}}, \"type\": \"bar\"}], \"barpolar\": [{\"marker\": {\"line\": {\"color\": \"#E5ECF6\", \"width\": 0.5}}, \"type\": \"barpolar\"}], \"carpet\": [{\"aaxis\": {\"endlinecolor\": \"#2a3f5f\", \"gridcolor\": \"white\", \"linecolor\": \"white\", \"minorgridcolor\": \"white\", \"startlinecolor\": \"#2a3f5f\"}, \"baxis\": {\"endlinecolor\": \"#2a3f5f\", \"gridcolor\": \"white\", \"linecolor\": \"white\", \"minorgridcolor\": \"white\", \"startlinecolor\": \"#2a3f5f\"}, \"type\": \"carpet\"}], \"choropleth\": [{\"colorbar\": {\"outlinewidth\": 0, \"ticks\": \"\"}, \"type\": \"choropleth\"}], \"contour\": [{\"colorbar\": {\"outlinewidth\": 0, \"ticks\": \"\"}, \"colorscale\": [[0.0, \"#0d0887\"], [0.1111111111111111, \"#46039f\"], [0.2222222222222222, \"#7201a8\"], [0.3333333333333333, \"#9c179e\"], [0.4444444444444444, \"#bd3786\"], [0.5555555555555556, \"#d8576b\"], [0.6666666666666666, \"#ed7953\"], [0.7777777777777778, \"#fb9f3a\"], [0.8888888888888888, \"#fdca26\"], [1.0, \"#f0f921\"]], \"type\": \"contour\"}], \"contourcarpet\": [{\"colorbar\": {\"outlinewidth\": 0, \"ticks\": \"\"}, \"type\": \"contourcarpet\"}], \"heatmap\": [{\"colorbar\": {\"outlinewidth\": 0, \"ticks\": \"\"}, \"colorscale\": [[0.0, \"#0d0887\"], [0.1111111111111111, \"#46039f\"], [0.2222222222222222, \"#7201a8\"], [0.3333333333333333, \"#9c179e\"], [0.4444444444444444, \"#bd3786\"], [0.5555555555555556, \"#d8576b\"], [0.6666666666666666, \"#ed7953\"], [0.7777777777777778, \"#fb9f3a\"], [0.8888888888888888, \"#fdca26\"], [1.0, \"#f0f921\"]], \"type\": \"heatmap\"}], \"heatmapgl\": [{\"colorbar\": {\"outlinewidth\": 0, \"ticks\": \"\"}, \"colorscale\": [[0.0, \"#0d0887\"], [0.1111111111111111, \"#46039f\"], [0.2222222222222222, \"#7201a8\"], [0.3333333333333333, \"#9c179e\"], [0.4444444444444444, \"#bd3786\"], [0.5555555555555556, \"#d8576b\"], [0.6666666666666666, \"#ed7953\"], [0.7777777777777778, \"#fb9f3a\"], [0.8888888888888888, \"#fdca26\"], [1.0, \"#f0f921\"]], \"type\": \"heatmapgl\"}], \"histogram\": [{\"marker\": {\"colorbar\": {\"outlinewidth\": 0, \"ticks\": \"\"}}, \"type\": \"histogram\"}], \"histogram2d\": [{\"colorbar\": {\"outlinewidth\": 0, \"ticks\": \"\"}, \"colorscale\": [[0.0, \"#0d0887\"], [0.1111111111111111, \"#46039f\"], [0.2222222222222222, \"#7201a8\"], [0.3333333333333333, \"#9c179e\"], [0.4444444444444444, \"#bd3786\"], [0.5555555555555556, \"#d8576b\"], [0.6666666666666666, \"#ed7953\"], [0.7777777777777778, \"#fb9f3a\"], [0.8888888888888888, \"#fdca26\"], [1.0, \"#f0f921\"]], \"type\": \"histogram2d\"}], \"histogram2dcontour\": [{\"colorbar\": {\"outlinewidth\": 0, \"ticks\": \"\"}, \"colorscale\": [[0.0, \"#0d0887\"], [0.1111111111111111, \"#46039f\"], [0.2222222222222222, \"#7201a8\"], [0.3333333333333333, \"#9c179e\"], [0.4444444444444444, \"#bd3786\"], [0.5555555555555556, \"#d8576b\"], [0.6666666666666666, \"#ed7953\"], [0.7777777777777778, \"#fb9f3a\"], [0.8888888888888888, \"#fdca26\"], [1.0, \"#f0f921\"]], \"type\": \"histogram2dcontour\"}], \"mesh3d\": [{\"colorbar\": {\"outlinewidth\": 0, \"ticks\": \"\"}, \"type\": \"mesh3d\"}], \"parcoords\": [{\"line\": {\"colorbar\": {\"outlinewidth\": 0, \"ticks\": \"\"}}, \"type\": \"parcoords\"}], \"pie\": [{\"automargin\": true, \"type\": \"pie\"}], \"scatter\": [{\"marker\": {\"colorbar\": {\"outlinewidth\": 0, \"ticks\": \"\"}}, \"type\": \"scatter\"}], \"scatter3d\": [{\"line\": {\"colorbar\": {\"outlinewidth\": 0, \"ticks\": \"\"}}, \"marker\": {\"colorbar\": {\"outlinewidth\": 0, \"ticks\": \"\"}}, \"type\": \"scatter3d\"}], \"scattercarpet\": [{\"marker\": {\"colorbar\": {\"outlinewidth\": 0, \"ticks\": \"\"}}, \"type\": \"scattercarpet\"}], \"scattergeo\": [{\"marker\": {\"colorbar\": {\"outlinewidth\": 0, \"ticks\": \"\"}}, \"type\": \"scattergeo\"}], \"scattergl\": [{\"marker\": {\"colorbar\": {\"outlinewidth\": 0, \"ticks\": \"\"}}, \"type\": \"scattergl\"}], \"scattermapbox\": [{\"marker\": {\"colorbar\": {\"outlinewidth\": 0, \"ticks\": \"\"}}, \"type\": \"scattermapbox\"}], \"scatterpolar\": [{\"marker\": {\"colorbar\": {\"outlinewidth\": 0, \"ticks\": \"\"}}, \"type\": \"scatterpolar\"}], \"scatterpolargl\": [{\"marker\": {\"colorbar\": {\"outlinewidth\": 0, \"ticks\": \"\"}}, \"type\": \"scatterpolargl\"}], \"scatterternary\": [{\"marker\": {\"colorbar\": {\"outlinewidth\": 0, \"ticks\": \"\"}}, \"type\": \"scatterternary\"}], \"surface\": [{\"colorbar\": {\"outlinewidth\": 0, \"ticks\": \"\"}, \"colorscale\": [[0.0, \"#0d0887\"], [0.1111111111111111, \"#46039f\"], [0.2222222222222222, \"#7201a8\"], [0.3333333333333333, \"#9c179e\"], [0.4444444444444444, \"#bd3786\"], [0.5555555555555556, \"#d8576b\"], [0.6666666666666666, \"#ed7953\"], [0.7777777777777778, \"#fb9f3a\"], [0.8888888888888888, \"#fdca26\"], [1.0, \"#f0f921\"]], \"type\": \"surface\"}], \"table\": [{\"cells\": {\"fill\": {\"color\": \"#EBF0F8\"}, \"line\": {\"color\": \"white\"}}, \"header\": {\"fill\": {\"color\": \"#C8D4E3\"}, \"line\": {\"color\": \"white\"}}, \"type\": \"table\"}]}, \"layout\": {\"annotationdefaults\": {\"arrowcolor\": \"#2a3f5f\", \"arrowhead\": 0, \"arrowwidth\": 1}, \"coloraxis\": {\"colorbar\": {\"outlinewidth\": 0, \"ticks\": \"\"}}, \"colorscale\": {\"diverging\": [[0, \"#8e0152\"], [0.1, \"#c51b7d\"], [0.2, \"#de77ae\"], [0.3, \"#f1b6da\"], [0.4, \"#fde0ef\"], [0.5, \"#f7f7f7\"], [0.6, \"#e6f5d0\"], [0.7, \"#b8e186\"], [0.8, \"#7fbc41\"], [0.9, \"#4d9221\"], [1, \"#276419\"]], \"sequential\": [[0.0, \"#0d0887\"], [0.1111111111111111, \"#46039f\"], [0.2222222222222222, \"#7201a8\"], [0.3333333333333333, \"#9c179e\"], [0.4444444444444444, \"#bd3786\"], [0.5555555555555556, \"#d8576b\"], [0.6666666666666666, \"#ed7953\"], [0.7777777777777778, \"#fb9f3a\"], [0.8888888888888888, \"#fdca26\"], [1.0, \"#f0f921\"]], \"sequentialminus\": [[0.0, \"#0d0887\"], [0.1111111111111111, \"#46039f\"], [0.2222222222222222, \"#7201a8\"], [0.3333333333333333, \"#9c179e\"], [0.4444444444444444, \"#bd3786\"], [0.5555555555555556, \"#d8576b\"], [0.6666666666666666, \"#ed7953\"], [0.7777777777777778, \"#fb9f3a\"], [0.8888888888888888, \"#fdca26\"], [1.0, \"#f0f921\"]]}, \"colorway\": [\"#636efa\", \"#EF553B\", \"#00cc96\", \"#ab63fa\", \"#FFA15A\", \"#19d3f3\", \"#FF6692\", \"#B6E880\", \"#FF97FF\", \"#FECB52\"], \"font\": {\"color\": \"#2a3f5f\"}, \"geo\": {\"bgcolor\": \"white\", \"lakecolor\": \"white\", \"landcolor\": \"#E5ECF6\", \"showlakes\": true, \"showland\": true, \"subunitcolor\": \"white\"}, \"hoverlabel\": {\"align\": \"left\"}, \"hovermode\": \"closest\", \"mapbox\": {\"style\": \"light\"}, \"paper_bgcolor\": \"white\", \"plot_bgcolor\": \"#E5ECF6\", \"polar\": {\"angularaxis\": {\"gridcolor\": \"white\", \"linecolor\": \"white\", \"ticks\": \"\"}, \"bgcolor\": \"#E5ECF6\", \"radialaxis\": {\"gridcolor\": \"white\", \"linecolor\": \"white\", \"ticks\": \"\"}}, \"scene\": {\"xaxis\": {\"backgroundcolor\": \"#E5ECF6\", \"gridcolor\": \"white\", \"gridwidth\": 2, \"linecolor\": \"white\", \"showbackground\": true, \"ticks\": \"\", \"zerolinecolor\": \"white\"}, \"yaxis\": {\"backgroundcolor\": \"#E5ECF6\", \"gridcolor\": \"white\", \"gridwidth\": 2, \"linecolor\": \"white\", \"showbackground\": true, \"ticks\": \"\", \"zerolinecolor\": \"white\"}, \"zaxis\": {\"backgroundcolor\": \"#E5ECF6\", \"gridcolor\": \"white\", \"gridwidth\": 2, \"linecolor\": \"white\", \"showbackground\": true, \"ticks\": \"\", \"zerolinecolor\": \"white\"}}, \"shapedefaults\": {\"line\": {\"color\": \"#2a3f5f\"}}, \"ternary\": {\"aaxis\": {\"gridcolor\": \"white\", \"linecolor\": \"white\", \"ticks\": \"\"}, \"baxis\": {\"gridcolor\": \"white\", \"linecolor\": \"white\", \"ticks\": \"\"}, \"bgcolor\": \"#E5ECF6\", \"caxis\": {\"gridcolor\": \"white\", \"linecolor\": \"white\", \"ticks\": \"\"}}, \"title\": {\"x\": 0.05}, \"xaxis\": {\"automargin\": true, \"gridcolor\": \"white\", \"linecolor\": \"white\", \"ticks\": \"\", \"title\": {\"standoff\": 15}, \"zerolinecolor\": \"white\", \"zerolinewidth\": 2}, \"yaxis\": {\"automargin\": true, \"gridcolor\": \"white\", \"linecolor\": \"white\", \"ticks\": \"\", \"title\": {\"standoff\": 15}, \"zerolinecolor\": \"white\", \"zerolinewidth\": 2}}}, \"width\": 800, \"xaxis\": {\"tickfont\": {\"size\": 14}, \"title\": {\"font\": {\"size\": 16}, \"text\": \"Dates\"}}, \"yaxis\": {\"tickfont\": {\"size\": 14}, \"title\": {\"font\": {\"size\": 16}, \"text\": \"N minutes\"}}},\n                        {\"responsive\": true}\n                    ).then(function(){\n                            \nvar gd = document.getElementById('365e3823-97b6-4094-ac14-00dd4411cb21');\nvar x = new MutationObserver(function (mutations, observer) {{\n        var display = window.getComputedStyle(gd).display;\n        if (!display || display === 'none') {{\n            console.log([gd, 'removed!']);\n            Plotly.purge(gd);\n            observer.disconnect();\n        }}\n}});\n\n// Listen for the removal of the full notebook cells\nvar notebookContainer = gd.closest('#notebook-container');\nif (notebookContainer) {{\n    x.observe(notebookContainer, {childList: true});\n}}\n\n// Listen for the clearing of the current output cell\nvar outputEl = gd.closest('.output');\nif (outputEl) {{\n    x.observe(outputEl, {childList: true});\n}}\n\n                        })\n                };\n                });\n            </script>\n        </div>"
     },
     "metadata": {},
     "output_type": "display_data"
    }
   ],
   "source": [
    "import plotly.graph_objects as px\n",
    "\n",
    "\n",
    "plot = px.Figure(data=[go.Bar(\n",
    "    name = 'Data 1',\n",
    "    x = dates,\n",
    "    y = n_minutes_lst\n",
    "   )])\n",
    "\n",
    "plot.update_layout(\n",
    "    autosize=False,\n",
    "    width=800,\n",
    "    height=800,\n",
    "    yaxis = dict(\n",
    "            title='N minutes',\n",
    "            titlefont_size=16,\n",
    "            tickfont_size=14),\n",
    "    xaxis = dict(\n",
    "            title='Dates',\n",
    "            titlefont_size=16,\n",
    "            tickfont_size=14)\n",
    ")\n",
    "\n",
    "plot.show()\n"
   ]
  },
  {
   "cell_type": "code",
   "execution_count": 12,
   "metadata": {
    "pycharm": {
     "name": "#%%\n"
    }
   },
   "outputs": [],
   "source": []
  }
 ],
 "metadata": {
  "kernelspec": {
   "display_name": "Python 3",
   "language": "python",
   "name": "python3"
  },
  "language_info": {
   "codemirror_mode": {
    "name": "ipython",
    "version": 3
   },
   "file_extension": ".py",
   "mimetype": "text/x-python",
   "name": "python",
   "nbconvert_exporter": "python",
   "pygments_lexer": "ipython3",
   "version": "3.7.4"
  }
 },
 "nbformat": 4,
 "nbformat_minor": 2
}