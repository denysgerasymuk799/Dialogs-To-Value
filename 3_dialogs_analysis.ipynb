{
 "cells": [
  {
   "cell_type": "code",
   "execution_count": 34,
   "metadata": {},
   "outputs": [],
   "source": [
    "%matplotlib inline\n",
    "import json\n",
    "import os\n",
    "import pandas as pd\n",
    "import matplotlib.pyplot as plt\n",
    "import datetime\n",
    "import numpy as np\n",
    "import plotly.graph_objects as go\n",
    "\n",
    "from pprint import pprint\n",
    "from utils.date import if_in_date_range\n",
    "from plotly.subplots import make_subplots\n",
    "from matplotlib.pyplot import figure\n",
    "from utils.date import get_day_and_hour, get_week_day_from_number\n",
    "\n",
    "from config import PATH_TO_SAVE_PROCESSED_FILES, PATH_TO_SAVE_GENERAL_DF, PATH_TO_PREPARED_DIALOGS, \\\n",
    "    USER_PATH_TO_SAVE_GENERAL_DF"
   ]
  },
  {
   "cell_type": "markdown",
   "metadata": {
    "pycharm": {
     "name": "#%% md\n"
    }
   },
   "source": [
    "### 1) Change global variables to yours\n",
    "#### you can get your USER_ID from downloaded csv files\n",
    "#### Be sure that USER_ID exists in your general dialogs dataframe !!!"
   ]
  },
  {
   "cell_type": "code",
   "execution_count": 35,
   "outputs": [],
   "source": [
    "USER_ID = 511986933\n",
    "\n",
    "# time difference UTC (0 time zone) and your time zone\n",
    "TIME_DIFFERENCE = 3\n",
    "RESULT_NAME_STATISTICS = \"dialogs_data2\""
   ],
   "metadata": {
    "collapsed": false,
    "pycharm": {
     "name": "#%%\n"
    }
   }
  },
  {
   "cell_type": "code",
   "execution_count": 36,
   "metadata": {
    "pycharm": {
     "name": "#%%\n"
    }
   },
   "outputs": [],
   "source": [
    "with open(os.path.join(PATH_TO_SAVE_PROCESSED_FILES, \"all_dialogs_info.json\"), \"r\", encoding=\"utf-8\") as f:\n",
    "    dialogs_info = json.load(f)\n",
    "\n",
    "general_dialogs_df = pd.read_csv(PATH_TO_SAVE_GENERAL_DF)"
   ]
  },
  {
   "cell_type": "markdown",
   "metadata": {
    "pycharm": {
     "name": "#%% md\n"
    }
   },
   "source": [
    "## Plot of daily activity"
   ]
  },
  {
   "cell_type": "code",
   "execution_count": 37,
   "metadata": {
    "pycharm": {
     "name": "#%%\n"
    }
   },
   "outputs": [],
   "source": [
    "def get_hours_dict():\n",
    "    plot_data = {}\n",
    "    for hour in range(24):\n",
    "        if hour < 10:\n",
    "            hour = '0' + str(hour)\n",
    "            plot_data[hour] = 0\n",
    "        else:\n",
    "            plot_data[str(hour)] = 0\n",
    "    return plot_data\n",
    "\n",
    "\n",
    "def get_local_time(msg_time):\n",
    "    our_local_time = int(msg_time) + TIME_DIFFERENCE\n",
    "    if our_local_time > 23:\n",
    "        our_local_time %= 24\n",
    "\n",
    "    if our_local_time < 10:\n",
    "        our_local_time = \"0\" + str(our_local_time)\n",
    "\n",
    "    else:\n",
    "        our_local_time = str(our_local_time)\n",
    "\n",
    "    return our_local_time\n",
    "\n",
    "\n",
    "def get_user_daily_activity(dialogs_info, dialog_type, user_id_get_msg, start_date, end_date,\n",
    "                            func_type = ''):\n",
    "    plot_data = get_hours_dict()\n",
    "\n",
    "    # go through all dialogs on special dialog type in dialogs_info dict\n",
    "    # friend - name of dialog\n",
    "    for dialog_id, friend in dialogs_info[dialog_type].items():\n",
    "\n",
    "        dialog_data = general_dialogs_df.loc[general_dialogs_df['dialog ID'] == int(dialog_id)]\n",
    "        if dialog_data.empty:\n",
    "            continue\n",
    "\n",
    "        for index, row in dialog_data.iterrows():\n",
    "            if user_id_get_msg != \"all\":\n",
    "                if func_type == 'get_user_received_messages':\n",
    "                    if int(row.from_id) == user_id_get_msg:\n",
    "                        continue\n",
    "\n",
    "                elif func_type == 'get_user_sent_messages':\n",
    "                    if int(row.to_id) == user_id_get_msg:\n",
    "                        continue\n",
    "\n",
    "            dialog_datetime = str(row.date)[:-6]\n",
    "            flag_in_range = if_in_date_range(dialog_datetime, start_date, end_date)\n",
    "            if flag_in_range == 'Dialog after end_date':\n",
    "                continue\n",
    "\n",
    "            elif not flag_in_range:\n",
    "                break\n",
    "\n",
    "            elif flag_in_range:\n",
    "                our_local_time = get_local_time(str(row.date)[11:13])\n",
    "                plot_data[our_local_time] += 1\n",
    "\n",
    "    lists = sorted(plot_data.items())\n",
    "    x, y = zip(*lists)\n",
    "\n",
    "    return x, y, lists\n"
   ]
  },
  {
   "cell_type": "code",
   "execution_count": 38,
   "outputs": [
    {
     "data": {
      "application/vnd.plotly.v1+json": {
       "config": {
        "plotlyServerURL": "https://plot.ly"
       },
       "data": [],
       "layout": {
        "annotations": [
         {
          "font": {
           "size": 16
          },
          "showarrow": false,
          "text": "Monday",
          "x": 0.5,
          "xanchor": "center",
          "xref": "paper",
          "y": 0.9999999999999999,
          "yanchor": "bottom",
          "yref": "paper"
         },
         {
          "font": {
           "size": 16
          },
          "showarrow": false,
          "text": "Tuesday",
          "x": 0.5,
          "xanchor": "center",
          "xref": "paper",
          "y": 0.8469387755102039,
          "yanchor": "bottom",
          "yref": "paper"
         },
         {
          "font": {
           "size": 16
          },
          "showarrow": false,
          "text": "Wednesday",
          "x": 0.5,
          "xanchor": "center",
          "xref": "paper",
          "y": 0.6938775510204082,
          "yanchor": "bottom",
          "yref": "paper"
         },
         {
          "font": {
           "size": 16
          },
          "showarrow": false,
          "text": "Thursday",
          "x": 0.5,
          "xanchor": "center",
          "xref": "paper",
          "y": 0.5408163265306122,
          "yanchor": "bottom",
          "yref": "paper"
         },
         {
          "font": {
           "size": 16
          },
          "showarrow": false,
          "text": "Friday",
          "x": 0.5,
          "xanchor": "center",
          "xref": "paper",
          "y": 0.3877551020408163,
          "yanchor": "bottom",
          "yref": "paper"
         },
         {
          "font": {
           "size": 16
          },
          "showarrow": false,
          "text": "Saturday",
          "x": 0.5,
          "xanchor": "center",
          "xref": "paper",
          "y": 0.2346938775510204,
          "yanchor": "bottom",
          "yref": "paper"
         },
         {
          "font": {
           "size": 16
          },
          "showarrow": false,
          "text": "Sunday",
          "x": 0.5,
          "xanchor": "center",
          "xref": "paper",
          "y": 0.08163265306122448,
          "yanchor": "bottom",
          "yref": "paper"
         },
         {
          "font": {
           "size": 16
          },
          "showarrow": false,
          "text": "Hours",
          "x": 0.5,
          "xanchor": "center",
          "xref": "paper",
          "y": 0,
          "yanchor": "top",
          "yref": "paper",
          "yshift": -30
         },
         {
          "font": {
           "size": 16
          },
          "showarrow": false,
          "text": "Number of messages",
          "textangle": -90,
          "x": 0,
          "xanchor": "right",
          "xref": "paper",
          "xshift": -40,
          "y": 0.5,
          "yanchor": "middle",
          "yref": "paper"
         }
        ],
        "height": 1050,
        "showlegend": false,
        "template": {
         "data": {
          "bar": [
           {
            "error_x": {
             "color": "#2a3f5f"
            },
            "error_y": {
             "color": "#2a3f5f"
            },
            "marker": {
             "line": {
              "color": "#E5ECF6",
              "width": 0.5
             }
            },
            "type": "bar"
           }
          ],
          "barpolar": [
           {
            "marker": {
             "line": {
              "color": "#E5ECF6",
              "width": 0.5
             }
            },
            "type": "barpolar"
           }
          ],
          "carpet": [
           {
            "aaxis": {
             "endlinecolor": "#2a3f5f",
             "gridcolor": "white",
             "linecolor": "white",
             "minorgridcolor": "white",
             "startlinecolor": "#2a3f5f"
            },
            "baxis": {
             "endlinecolor": "#2a3f5f",
             "gridcolor": "white",
             "linecolor": "white",
             "minorgridcolor": "white",
             "startlinecolor": "#2a3f5f"
            },
            "type": "carpet"
           }
          ],
          "choropleth": [
           {
            "colorbar": {
             "outlinewidth": 0,
             "ticks": ""
            },
            "type": "choropleth"
           }
          ],
          "contour": [
           {
            "colorbar": {
             "outlinewidth": 0,
             "ticks": ""
            },
            "colorscale": [
             [
              0.0,
              "#0d0887"
             ],
             [
              0.1111111111111111,
              "#46039f"
             ],
             [
              0.2222222222222222,
              "#7201a8"
             ],
             [
              0.3333333333333333,
              "#9c179e"
             ],
             [
              0.4444444444444444,
              "#bd3786"
             ],
             [
              0.5555555555555556,
              "#d8576b"
             ],
             [
              0.6666666666666666,
              "#ed7953"
             ],
             [
              0.7777777777777778,
              "#fb9f3a"
             ],
             [
              0.8888888888888888,
              "#fdca26"
             ],
             [
              1.0,
              "#f0f921"
             ]
            ],
            "type": "contour"
           }
          ],
          "contourcarpet": [
           {
            "colorbar": {
             "outlinewidth": 0,
             "ticks": ""
            },
            "type": "contourcarpet"
           }
          ],
          "heatmap": [
           {
            "colorbar": {
             "outlinewidth": 0,
             "ticks": ""
            },
            "colorscale": [
             [
              0.0,
              "#0d0887"
             ],
             [
              0.1111111111111111,
              "#46039f"
             ],
             [
              0.2222222222222222,
              "#7201a8"
             ],
             [
              0.3333333333333333,
              "#9c179e"
             ],
             [
              0.4444444444444444,
              "#bd3786"
             ],
             [
              0.5555555555555556,
              "#d8576b"
             ],
             [
              0.6666666666666666,
              "#ed7953"
             ],
             [
              0.7777777777777778,
              "#fb9f3a"
             ],
             [
              0.8888888888888888,
              "#fdca26"
             ],
             [
              1.0,
              "#f0f921"
             ]
            ],
            "type": "heatmap"
           }
          ],
          "heatmapgl": [
           {
            "colorbar": {
             "outlinewidth": 0,
             "ticks": ""
            },
            "colorscale": [
             [
              0.0,
              "#0d0887"
             ],
             [
              0.1111111111111111,
              "#46039f"
             ],
             [
              0.2222222222222222,
              "#7201a8"
             ],
             [
              0.3333333333333333,
              "#9c179e"
             ],
             [
              0.4444444444444444,
              "#bd3786"
             ],
             [
              0.5555555555555556,
              "#d8576b"
             ],
             [
              0.6666666666666666,
              "#ed7953"
             ],
             [
              0.7777777777777778,
              "#fb9f3a"
             ],
             [
              0.8888888888888888,
              "#fdca26"
             ],
             [
              1.0,
              "#f0f921"
             ]
            ],
            "type": "heatmapgl"
           }
          ],
          "histogram": [
           {
            "marker": {
             "colorbar": {
              "outlinewidth": 0,
              "ticks": ""
             }
            },
            "type": "histogram"
           }
          ],
          "histogram2d": [
           {
            "colorbar": {
             "outlinewidth": 0,
             "ticks": ""
            },
            "colorscale": [
             [
              0.0,
              "#0d0887"
             ],
             [
              0.1111111111111111,
              "#46039f"
             ],
             [
              0.2222222222222222,
              "#7201a8"
             ],
             [
              0.3333333333333333,
              "#9c179e"
             ],
             [
              0.4444444444444444,
              "#bd3786"
             ],
             [
              0.5555555555555556,
              "#d8576b"
             ],
             [
              0.6666666666666666,
              "#ed7953"
             ],
             [
              0.7777777777777778,
              "#fb9f3a"
             ],
             [
              0.8888888888888888,
              "#fdca26"
             ],
             [
              1.0,
              "#f0f921"
             ]
            ],
            "type": "histogram2d"
           }
          ],
          "histogram2dcontour": [
           {
            "colorbar": {
             "outlinewidth": 0,
             "ticks": ""
            },
            "colorscale": [
             [
              0.0,
              "#0d0887"
             ],
             [
              0.1111111111111111,
              "#46039f"
             ],
             [
              0.2222222222222222,
              "#7201a8"
             ],
             [
              0.3333333333333333,
              "#9c179e"
             ],
             [
              0.4444444444444444,
              "#bd3786"
             ],
             [
              0.5555555555555556,
              "#d8576b"
             ],
             [
              0.6666666666666666,
              "#ed7953"
             ],
             [
              0.7777777777777778,
              "#fb9f3a"
             ],
             [
              0.8888888888888888,
              "#fdca26"
             ],
             [
              1.0,
              "#f0f921"
             ]
            ],
            "type": "histogram2dcontour"
           }
          ],
          "mesh3d": [
           {
            "colorbar": {
             "outlinewidth": 0,
             "ticks": ""
            },
            "type": "mesh3d"
           }
          ],
          "parcoords": [
           {
            "line": {
             "colorbar": {
              "outlinewidth": 0,
              "ticks": ""
             }
            },
            "type": "parcoords"
           }
          ],
          "pie": [
           {
            "automargin": true,
            "type": "pie"
           }
          ],
          "scatter": [
           {
            "marker": {
             "colorbar": {
              "outlinewidth": 0,
              "ticks": ""
             }
            },
            "type": "scatter"
           }
          ],
          "scatter3d": [
           {
            "line": {
             "colorbar": {
              "outlinewidth": 0,
              "ticks": ""
             }
            },
            "marker": {
             "colorbar": {
              "outlinewidth": 0,
              "ticks": ""
             }
            },
            "type": "scatter3d"
           }
          ],
          "scattercarpet": [
           {
            "marker": {
             "colorbar": {
              "outlinewidth": 0,
              "ticks": ""
             }
            },
            "type": "scattercarpet"
           }
          ],
          "scattergeo": [
           {
            "marker": {
             "colorbar": {
              "outlinewidth": 0,
              "ticks": ""
             }
            },
            "type": "scattergeo"
           }
          ],
          "scattergl": [
           {
            "marker": {
             "colorbar": {
              "outlinewidth": 0,
              "ticks": ""
             }
            },
            "type": "scattergl"
           }
          ],
          "scattermapbox": [
           {
            "marker": {
             "colorbar": {
              "outlinewidth": 0,
              "ticks": ""
             }
            },
            "type": "scattermapbox"
           }
          ],
          "scatterpolar": [
           {
            "marker": {
             "colorbar": {
              "outlinewidth": 0,
              "ticks": ""
             }
            },
            "type": "scatterpolar"
           }
          ],
          "scatterpolargl": [
           {
            "marker": {
             "colorbar": {
              "outlinewidth": 0,
              "ticks": ""
             }
            },
            "type": "scatterpolargl"
           }
          ],
          "scatterternary": [
           {
            "marker": {
             "colorbar": {
              "outlinewidth": 0,
              "ticks": ""
             }
            },
            "type": "scatterternary"
           }
          ],
          "surface": [
           {
            "colorbar": {
             "outlinewidth": 0,
             "ticks": ""
            },
            "colorscale": [
             [
              0.0,
              "#0d0887"
             ],
             [
              0.1111111111111111,
              "#46039f"
             ],
             [
              0.2222222222222222,
              "#7201a8"
             ],
             [
              0.3333333333333333,
              "#9c179e"
             ],
             [
              0.4444444444444444,
              "#bd3786"
             ],
             [
              0.5555555555555556,
              "#d8576b"
             ],
             [
              0.6666666666666666,
              "#ed7953"
             ],
             [
              0.7777777777777778,
              "#fb9f3a"
             ],
             [
              0.8888888888888888,
              "#fdca26"
             ],
             [
              1.0,
              "#f0f921"
             ]
            ],
            "type": "surface"
           }
          ],
          "table": [
           {
            "cells": {
             "fill": {
              "color": "#EBF0F8"
             },
             "line": {
              "color": "white"
             }
            },
            "header": {
             "fill": {
              "color": "#C8D4E3"
             },
             "line": {
              "color": "white"
             }
            },
            "type": "table"
           }
          ]
         },
         "layout": {
          "annotationdefaults": {
           "arrowcolor": "#2a3f5f",
           "arrowhead": 0,
           "arrowwidth": 1
          },
          "coloraxis": {
           "colorbar": {
            "outlinewidth": 0,
            "ticks": ""
           }
          },
          "colorscale": {
           "diverging": [
            [
             0,
             "#8e0152"
            ],
            [
             0.1,
             "#c51b7d"
            ],
            [
             0.2,
             "#de77ae"
            ],
            [
             0.3,
             "#f1b6da"
            ],
            [
             0.4,
             "#fde0ef"
            ],
            [
             0.5,
             "#f7f7f7"
            ],
            [
             0.6,
             "#e6f5d0"
            ],
            [
             0.7,
             "#b8e186"
            ],
            [
             0.8,
             "#7fbc41"
            ],
            [
             0.9,
             "#4d9221"
            ],
            [
             1,
             "#276419"
            ]
           ],
           "sequential": [
            [
             0.0,
             "#0d0887"
            ],
            [
             0.1111111111111111,
             "#46039f"
            ],
            [
             0.2222222222222222,
             "#7201a8"
            ],
            [
             0.3333333333333333,
             "#9c179e"
            ],
            [
             0.4444444444444444,
             "#bd3786"
            ],
            [
             0.5555555555555556,
             "#d8576b"
            ],
            [
             0.6666666666666666,
             "#ed7953"
            ],
            [
             0.7777777777777778,
             "#fb9f3a"
            ],
            [
             0.8888888888888888,
             "#fdca26"
            ],
            [
             1.0,
             "#f0f921"
            ]
           ],
           "sequentialminus": [
            [
             0.0,
             "#0d0887"
            ],
            [
             0.1111111111111111,
             "#46039f"
            ],
            [
             0.2222222222222222,
             "#7201a8"
            ],
            [
             0.3333333333333333,
             "#9c179e"
            ],
            [
             0.4444444444444444,
             "#bd3786"
            ],
            [
             0.5555555555555556,
             "#d8576b"
            ],
            [
             0.6666666666666666,
             "#ed7953"
            ],
            [
             0.7777777777777778,
             "#fb9f3a"
            ],
            [
             0.8888888888888888,
             "#fdca26"
            ],
            [
             1.0,
             "#f0f921"
            ]
           ]
          },
          "colorway": [
           "#636efa",
           "#EF553B",
           "#00cc96",
           "#ab63fa",
           "#FFA15A",
           "#19d3f3",
           "#FF6692",
           "#B6E880",
           "#FF97FF",
           "#FECB52"
          ],
          "font": {
           "color": "#2a3f5f"
          },
          "geo": {
           "bgcolor": "white",
           "lakecolor": "white",
           "landcolor": "#E5ECF6",
           "showlakes": true,
           "showland": true,
           "subunitcolor": "white"
          },
          "hoverlabel": {
           "align": "left"
          },
          "hovermode": "closest",
          "mapbox": {
           "style": "light"
          },
          "paper_bgcolor": "white",
          "plot_bgcolor": "#E5ECF6",
          "polar": {
           "angularaxis": {
            "gridcolor": "white",
            "linecolor": "white",
            "ticks": ""
           },
           "bgcolor": "#E5ECF6",
           "radialaxis": {
            "gridcolor": "white",
            "linecolor": "white",
            "ticks": ""
           }
          },
          "scene": {
           "xaxis": {
            "backgroundcolor": "#E5ECF6",
            "gridcolor": "white",
            "gridwidth": 2,
            "linecolor": "white",
            "showbackground": true,
            "ticks": "",
            "zerolinecolor": "white"
           },
           "yaxis": {
            "backgroundcolor": "#E5ECF6",
            "gridcolor": "white",
            "gridwidth": 2,
            "linecolor": "white",
            "showbackground": true,
            "ticks": "",
            "zerolinecolor": "white"
           },
           "zaxis": {
            "backgroundcolor": "#E5ECF6",
            "gridcolor": "white",
            "gridwidth": 2,
            "linecolor": "white",
            "showbackground": true,
            "ticks": "",
            "zerolinecolor": "white"
           }
          },
          "shapedefaults": {
           "line": {
            "color": "#2a3f5f"
           }
          },
          "ternary": {
           "aaxis": {
            "gridcolor": "white",
            "linecolor": "white",
            "ticks": ""
           },
           "baxis": {
            "gridcolor": "white",
            "linecolor": "white",
            "ticks": ""
           },
           "bgcolor": "#E5ECF6",
           "caxis": {
            "gridcolor": "white",
            "linecolor": "white",
            "ticks": ""
           }
          },
          "title": {
           "x": 0.05
          },
          "xaxis": {
           "automargin": true,
           "gridcolor": "white",
           "linecolor": "white",
           "ticks": "",
           "title": {
            "standoff": 15
           },
           "zerolinecolor": "white",
           "zerolinewidth": 2
          },
          "yaxis": {
           "automargin": true,
           "gridcolor": "white",
           "linecolor": "white",
           "ticks": "",
           "title": {
            "standoff": 15
           },
           "zerolinecolor": "white",
           "zerolinewidth": 2
          }
         }
        },
        "title": {
         "text": "Weekly received messages of 511986933"
        },
        "xaxis": {
         "anchor": "y",
         "domain": [
          0.0,
          1.0
         ],
         "matches": "x7",
         "showticklabels": false
        },
        "xaxis2": {
         "anchor": "y2",
         "domain": [
          0.0,
          1.0
         ],
         "matches": "x7",
         "showticklabels": false
        },
        "xaxis3": {
         "anchor": "y3",
         "domain": [
          0.0,
          1.0
         ],
         "matches": "x7",
         "showticklabels": false
        },
        "xaxis4": {
         "anchor": "y4",
         "domain": [
          0.0,
          1.0
         ],
         "matches": "x7",
         "showticklabels": false
        },
        "xaxis5": {
         "anchor": "y5",
         "domain": [
          0.0,
          1.0
         ],
         "matches": "x7",
         "showticklabels": false
        },
        "xaxis6": {
         "anchor": "y6",
         "domain": [
          0.0,
          1.0
         ],
         "matches": "x7",
         "showticklabels": false
        },
        "xaxis7": {
         "anchor": "y7",
         "domain": [
          0.0,
          1.0
         ]
        },
        "yaxis": {
         "anchor": "x",
         "domain": [
          0.9183673469387754,
          0.9999999999999999
         ]
        },
        "yaxis2": {
         "anchor": "x2",
         "domain": [
          0.7653061224489794,
          0.8469387755102039
         ]
        },
        "yaxis3": {
         "anchor": "x3",
         "domain": [
          0.6122448979591837,
          0.6938775510204082
         ]
        },
        "yaxis4": {
         "anchor": "x4",
         "domain": [
          0.4591836734693877,
          0.5408163265306122
         ]
        },
        "yaxis5": {
         "anchor": "x5",
         "domain": [
          0.30612244897959184,
          0.3877551020408163
         ]
        },
        "yaxis6": {
         "anchor": "x6",
         "domain": [
          0.15306122448979592,
          0.2346938775510204
         ]
        },
        "yaxis7": {
         "anchor": "x7",
         "domain": [
          0.0,
          0.08163265306122448
         ]
        }
       }
      },
      "text/html": "<div>\n        \n        \n            <div id=\"cb9adc1e-6e75-47d1-9d6b-26c5612ad18c\" class=\"plotly-graph-div\" style=\"height:1050px; width:100%;\"></div>\n            <script type=\"text/javascript\">\n                require([\"plotly\"], function(Plotly) {\n                    window.PLOTLYENV=window.PLOTLYENV || {};\n                    \n                if (document.getElementById(\"cb9adc1e-6e75-47d1-9d6b-26c5612ad18c\")) {\n                    Plotly.newPlot(\n                        'cb9adc1e-6e75-47d1-9d6b-26c5612ad18c',\n                        [],\n                        {\"annotations\": [{\"font\": {\"size\": 16}, \"showarrow\": false, \"text\": \"Monday\", \"x\": 0.5, \"xanchor\": \"center\", \"xref\": \"paper\", \"y\": 0.9999999999999999, \"yanchor\": \"bottom\", \"yref\": \"paper\"}, {\"font\": {\"size\": 16}, \"showarrow\": false, \"text\": \"Tuesday\", \"x\": 0.5, \"xanchor\": \"center\", \"xref\": \"paper\", \"y\": 0.8469387755102039, \"yanchor\": \"bottom\", \"yref\": \"paper\"}, {\"font\": {\"size\": 16}, \"showarrow\": false, \"text\": \"Wednesday\", \"x\": 0.5, \"xanchor\": \"center\", \"xref\": \"paper\", \"y\": 0.6938775510204082, \"yanchor\": \"bottom\", \"yref\": \"paper\"}, {\"font\": {\"size\": 16}, \"showarrow\": false, \"text\": \"Thursday\", \"x\": 0.5, \"xanchor\": \"center\", \"xref\": \"paper\", \"y\": 0.5408163265306122, \"yanchor\": \"bottom\", \"yref\": \"paper\"}, {\"font\": {\"size\": 16}, \"showarrow\": false, \"text\": \"Friday\", \"x\": 0.5, \"xanchor\": \"center\", \"xref\": \"paper\", \"y\": 0.3877551020408163, \"yanchor\": \"bottom\", \"yref\": \"paper\"}, {\"font\": {\"size\": 16}, \"showarrow\": false, \"text\": \"Saturday\", \"x\": 0.5, \"xanchor\": \"center\", \"xref\": \"paper\", \"y\": 0.2346938775510204, \"yanchor\": \"bottom\", \"yref\": \"paper\"}, {\"font\": {\"size\": 16}, \"showarrow\": false, \"text\": \"Sunday\", \"x\": 0.5, \"xanchor\": \"center\", \"xref\": \"paper\", \"y\": 0.08163265306122448, \"yanchor\": \"bottom\", \"yref\": \"paper\"}, {\"font\": {\"size\": 16}, \"showarrow\": false, \"text\": \"Hours\", \"x\": 0.5, \"xanchor\": \"center\", \"xref\": \"paper\", \"y\": 0, \"yanchor\": \"top\", \"yref\": \"paper\", \"yshift\": -30}, {\"font\": {\"size\": 16}, \"showarrow\": false, \"text\": \"Number of messages\", \"textangle\": -90, \"x\": 0, \"xanchor\": \"right\", \"xref\": \"paper\", \"xshift\": -40, \"y\": 0.5, \"yanchor\": \"middle\", \"yref\": \"paper\"}], \"height\": 1050, \"showlegend\": false, \"template\": {\"data\": {\"bar\": [{\"error_x\": {\"color\": \"#2a3f5f\"}, \"error_y\": {\"color\": \"#2a3f5f\"}, \"marker\": {\"line\": {\"color\": \"#E5ECF6\", \"width\": 0.5}}, \"type\": \"bar\"}], \"barpolar\": [{\"marker\": {\"line\": {\"color\": \"#E5ECF6\", \"width\": 0.5}}, \"type\": \"barpolar\"}], \"carpet\": [{\"aaxis\": {\"endlinecolor\": \"#2a3f5f\", \"gridcolor\": \"white\", \"linecolor\": \"white\", \"minorgridcolor\": \"white\", \"startlinecolor\": \"#2a3f5f\"}, \"baxis\": {\"endlinecolor\": \"#2a3f5f\", \"gridcolor\": \"white\", \"linecolor\": \"white\", \"minorgridcolor\": \"white\", \"startlinecolor\": \"#2a3f5f\"}, \"type\": \"carpet\"}], \"choropleth\": [{\"colorbar\": {\"outlinewidth\": 0, \"ticks\": \"\"}, \"type\": \"choropleth\"}], \"contour\": [{\"colorbar\": {\"outlinewidth\": 0, \"ticks\": \"\"}, \"colorscale\": [[0.0, \"#0d0887\"], [0.1111111111111111, \"#46039f\"], [0.2222222222222222, \"#7201a8\"], [0.3333333333333333, \"#9c179e\"], [0.4444444444444444, \"#bd3786\"], [0.5555555555555556, \"#d8576b\"], [0.6666666666666666, \"#ed7953\"], [0.7777777777777778, \"#fb9f3a\"], [0.8888888888888888, \"#fdca26\"], [1.0, \"#f0f921\"]], \"type\": \"contour\"}], \"contourcarpet\": [{\"colorbar\": {\"outlinewidth\": 0, \"ticks\": \"\"}, \"type\": \"contourcarpet\"}], \"heatmap\": [{\"colorbar\": {\"outlinewidth\": 0, \"ticks\": \"\"}, \"colorscale\": [[0.0, \"#0d0887\"], [0.1111111111111111, \"#46039f\"], [0.2222222222222222, \"#7201a8\"], [0.3333333333333333, \"#9c179e\"], [0.4444444444444444, \"#bd3786\"], [0.5555555555555556, \"#d8576b\"], [0.6666666666666666, \"#ed7953\"], [0.7777777777777778, \"#fb9f3a\"], [0.8888888888888888, \"#fdca26\"], [1.0, \"#f0f921\"]], \"type\": \"heatmap\"}], \"heatmapgl\": [{\"colorbar\": {\"outlinewidth\": 0, \"ticks\": \"\"}, \"colorscale\": [[0.0, \"#0d0887\"], [0.1111111111111111, \"#46039f\"], [0.2222222222222222, \"#7201a8\"], [0.3333333333333333, \"#9c179e\"], [0.4444444444444444, \"#bd3786\"], [0.5555555555555556, \"#d8576b\"], [0.6666666666666666, \"#ed7953\"], [0.7777777777777778, \"#fb9f3a\"], [0.8888888888888888, \"#fdca26\"], [1.0, \"#f0f921\"]], \"type\": \"heatmapgl\"}], \"histogram\": [{\"marker\": {\"colorbar\": {\"outlinewidth\": 0, \"ticks\": \"\"}}, \"type\": \"histogram\"}], \"histogram2d\": [{\"colorbar\": {\"outlinewidth\": 0, \"ticks\": \"\"}, \"colorscale\": [[0.0, \"#0d0887\"], [0.1111111111111111, \"#46039f\"], [0.2222222222222222, \"#7201a8\"], [0.3333333333333333, \"#9c179e\"], [0.4444444444444444, \"#bd3786\"], [0.5555555555555556, \"#d8576b\"], [0.6666666666666666, \"#ed7953\"], [0.7777777777777778, \"#fb9f3a\"], [0.8888888888888888, \"#fdca26\"], [1.0, \"#f0f921\"]], \"type\": \"histogram2d\"}], \"histogram2dcontour\": [{\"colorbar\": {\"outlinewidth\": 0, \"ticks\": \"\"}, \"colorscale\": [[0.0, \"#0d0887\"], [0.1111111111111111, \"#46039f\"], [0.2222222222222222, \"#7201a8\"], [0.3333333333333333, \"#9c179e\"], [0.4444444444444444, \"#bd3786\"], [0.5555555555555556, \"#d8576b\"], [0.6666666666666666, \"#ed7953\"], [0.7777777777777778, \"#fb9f3a\"], [0.8888888888888888, \"#fdca26\"], [1.0, \"#f0f921\"]], \"type\": \"histogram2dcontour\"}], \"mesh3d\": [{\"colorbar\": {\"outlinewidth\": 0, \"ticks\": \"\"}, \"type\": \"mesh3d\"}], \"parcoords\": [{\"line\": {\"colorbar\": {\"outlinewidth\": 0, \"ticks\": \"\"}}, \"type\": \"parcoords\"}], \"pie\": [{\"automargin\": true, \"type\": \"pie\"}], \"scatter\": [{\"marker\": {\"colorbar\": {\"outlinewidth\": 0, \"ticks\": \"\"}}, \"type\": \"scatter\"}], \"scatter3d\": [{\"line\": {\"colorbar\": {\"outlinewidth\": 0, \"ticks\": \"\"}}, \"marker\": {\"colorbar\": {\"outlinewidth\": 0, \"ticks\": \"\"}}, \"type\": \"scatter3d\"}], \"scattercarpet\": [{\"marker\": {\"colorbar\": {\"outlinewidth\": 0, \"ticks\": \"\"}}, \"type\": \"scattercarpet\"}], \"scattergeo\": [{\"marker\": {\"colorbar\": {\"outlinewidth\": 0, \"ticks\": \"\"}}, \"type\": \"scattergeo\"}], \"scattergl\": [{\"marker\": {\"colorbar\": {\"outlinewidth\": 0, \"ticks\": \"\"}}, \"type\": \"scattergl\"}], \"scattermapbox\": [{\"marker\": {\"colorbar\": {\"outlinewidth\": 0, \"ticks\": \"\"}}, \"type\": \"scattermapbox\"}], \"scatterpolar\": [{\"marker\": {\"colorbar\": {\"outlinewidth\": 0, \"ticks\": \"\"}}, \"type\": \"scatterpolar\"}], \"scatterpolargl\": [{\"marker\": {\"colorbar\": {\"outlinewidth\": 0, \"ticks\": \"\"}}, \"type\": \"scatterpolargl\"}], \"scatterternary\": [{\"marker\": {\"colorbar\": {\"outlinewidth\": 0, \"ticks\": \"\"}}, \"type\": \"scatterternary\"}], \"surface\": [{\"colorbar\": {\"outlinewidth\": 0, \"ticks\": \"\"}, \"colorscale\": [[0.0, \"#0d0887\"], [0.1111111111111111, \"#46039f\"], [0.2222222222222222, \"#7201a8\"], [0.3333333333333333, \"#9c179e\"], [0.4444444444444444, \"#bd3786\"], [0.5555555555555556, \"#d8576b\"], [0.6666666666666666, \"#ed7953\"], [0.7777777777777778, \"#fb9f3a\"], [0.8888888888888888, \"#fdca26\"], [1.0, \"#f0f921\"]], \"type\": \"surface\"}], \"table\": [{\"cells\": {\"fill\": {\"color\": \"#EBF0F8\"}, \"line\": {\"color\": \"white\"}}, \"header\": {\"fill\": {\"color\": \"#C8D4E3\"}, \"line\": {\"color\": \"white\"}}, \"type\": \"table\"}]}, \"layout\": {\"annotationdefaults\": {\"arrowcolor\": \"#2a3f5f\", \"arrowhead\": 0, \"arrowwidth\": 1}, \"coloraxis\": {\"colorbar\": {\"outlinewidth\": 0, \"ticks\": \"\"}}, \"colorscale\": {\"diverging\": [[0, \"#8e0152\"], [0.1, \"#c51b7d\"], [0.2, \"#de77ae\"], [0.3, \"#f1b6da\"], [0.4, \"#fde0ef\"], [0.5, \"#f7f7f7\"], [0.6, \"#e6f5d0\"], [0.7, \"#b8e186\"], [0.8, \"#7fbc41\"], [0.9, \"#4d9221\"], [1, \"#276419\"]], \"sequential\": [[0.0, \"#0d0887\"], [0.1111111111111111, \"#46039f\"], [0.2222222222222222, \"#7201a8\"], [0.3333333333333333, \"#9c179e\"], [0.4444444444444444, \"#bd3786\"], [0.5555555555555556, \"#d8576b\"], [0.6666666666666666, \"#ed7953\"], [0.7777777777777778, \"#fb9f3a\"], [0.8888888888888888, \"#fdca26\"], [1.0, \"#f0f921\"]], \"sequentialminus\": [[0.0, \"#0d0887\"], [0.1111111111111111, \"#46039f\"], [0.2222222222222222, \"#7201a8\"], [0.3333333333333333, \"#9c179e\"], [0.4444444444444444, \"#bd3786\"], [0.5555555555555556, \"#d8576b\"], [0.6666666666666666, \"#ed7953\"], [0.7777777777777778, \"#fb9f3a\"], [0.8888888888888888, \"#fdca26\"], [1.0, \"#f0f921\"]]}, \"colorway\": [\"#636efa\", \"#EF553B\", \"#00cc96\", \"#ab63fa\", \"#FFA15A\", \"#19d3f3\", \"#FF6692\", \"#B6E880\", \"#FF97FF\", \"#FECB52\"], \"font\": {\"color\": \"#2a3f5f\"}, \"geo\": {\"bgcolor\": \"white\", \"lakecolor\": \"white\", \"landcolor\": \"#E5ECF6\", \"showlakes\": true, \"showland\": true, \"subunitcolor\": \"white\"}, \"hoverlabel\": {\"align\": \"left\"}, \"hovermode\": \"closest\", \"mapbox\": {\"style\": \"light\"}, \"paper_bgcolor\": \"white\", \"plot_bgcolor\": \"#E5ECF6\", \"polar\": {\"angularaxis\": {\"gridcolor\": \"white\", \"linecolor\": \"white\", \"ticks\": \"\"}, \"bgcolor\": \"#E5ECF6\", \"radialaxis\": {\"gridcolor\": \"white\", \"linecolor\": \"white\", \"ticks\": \"\"}}, \"scene\": {\"xaxis\": {\"backgroundcolor\": \"#E5ECF6\", \"gridcolor\": \"white\", \"gridwidth\": 2, \"linecolor\": \"white\", \"showbackground\": true, \"ticks\": \"\", \"zerolinecolor\": \"white\"}, \"yaxis\": {\"backgroundcolor\": \"#E5ECF6\", \"gridcolor\": \"white\", \"gridwidth\": 2, \"linecolor\": \"white\", \"showbackground\": true, \"ticks\": \"\", \"zerolinecolor\": \"white\"}, \"zaxis\": {\"backgroundcolor\": \"#E5ECF6\", \"gridcolor\": \"white\", \"gridwidth\": 2, \"linecolor\": \"white\", \"showbackground\": true, \"ticks\": \"\", \"zerolinecolor\": \"white\"}}, \"shapedefaults\": {\"line\": {\"color\": \"#2a3f5f\"}}, \"ternary\": {\"aaxis\": {\"gridcolor\": \"white\", \"linecolor\": \"white\", \"ticks\": \"\"}, \"baxis\": {\"gridcolor\": \"white\", \"linecolor\": \"white\", \"ticks\": \"\"}, \"bgcolor\": \"#E5ECF6\", \"caxis\": {\"gridcolor\": \"white\", \"linecolor\": \"white\", \"ticks\": \"\"}}, \"title\": {\"x\": 0.05}, \"xaxis\": {\"automargin\": true, \"gridcolor\": \"white\", \"linecolor\": \"white\", \"ticks\": \"\", \"title\": {\"standoff\": 15}, \"zerolinecolor\": \"white\", \"zerolinewidth\": 2}, \"yaxis\": {\"automargin\": true, \"gridcolor\": \"white\", \"linecolor\": \"white\", \"ticks\": \"\", \"title\": {\"standoff\": 15}, \"zerolinecolor\": \"white\", \"zerolinewidth\": 2}}}, \"title\": {\"text\": \"Weekly received messages of 511986933\"}, \"xaxis\": {\"anchor\": \"y\", \"domain\": [0.0, 1.0], \"matches\": \"x7\", \"showticklabels\": false}, \"xaxis2\": {\"anchor\": \"y2\", \"domain\": [0.0, 1.0], \"matches\": \"x7\", \"showticklabels\": false}, \"xaxis3\": {\"anchor\": \"y3\", \"domain\": [0.0, 1.0], \"matches\": \"x7\", \"showticklabels\": false}, \"xaxis4\": {\"anchor\": \"y4\", \"domain\": [0.0, 1.0], \"matches\": \"x7\", \"showticklabels\": false}, \"xaxis5\": {\"anchor\": \"y5\", \"domain\": [0.0, 1.0], \"matches\": \"x7\", \"showticklabels\": false}, \"xaxis6\": {\"anchor\": \"y6\", \"domain\": [0.0, 1.0], \"matches\": \"x7\", \"showticklabels\": false}, \"xaxis7\": {\"anchor\": \"y7\", \"domain\": [0.0, 1.0]}, \"yaxis\": {\"anchor\": \"x\", \"domain\": [0.9183673469387754, 0.9999999999999999]}, \"yaxis2\": {\"anchor\": \"x2\", \"domain\": [0.7653061224489794, 0.8469387755102039]}, \"yaxis3\": {\"anchor\": \"x3\", \"domain\": [0.6122448979591837, 0.6938775510204082]}, \"yaxis4\": {\"anchor\": \"x4\", \"domain\": [0.4591836734693877, 0.5408163265306122]}, \"yaxis5\": {\"anchor\": \"x5\", \"domain\": [0.30612244897959184, 0.3877551020408163]}, \"yaxis6\": {\"anchor\": \"x6\", \"domain\": [0.15306122448979592, 0.2346938775510204]}, \"yaxis7\": {\"anchor\": \"x7\", \"domain\": [0.0, 0.08163265306122448]}},\n                        {\"responsive\": true}\n                    ).then(function(){\n                            \nvar gd = document.getElementById('cb9adc1e-6e75-47d1-9d6b-26c5612ad18c');\nvar x = new MutationObserver(function (mutations, observer) {{\n        var display = window.getComputedStyle(gd).display;\n        if (!display || display === 'none') {{\n            console.log([gd, 'removed!']);\n            Plotly.purge(gd);\n            observer.disconnect();\n        }}\n}});\n\n// Listen for the removal of the full notebook cells\nvar notebookContainer = gd.closest('#notebook-container');\nif (notebookContainer) {{\n    x.observe(notebookContainer, {childList: true});\n}}\n\n// Listen for the clearing of the current output cell\nvar outputEl = gd.closest('.output');\nif (outputEl) {{\n    x.observe(outputEl, {childList: true});\n}}\n\n                        })\n                };\n                });\n            </script>\n        </div>"
     },
     "metadata": {},
     "output_type": "display_data"
    }
   ],
   "source": [
    "fig_week_sent_msgs = make_subplots(rows=7, cols=1,\n",
    "               subplot_titles=(\"Monday\", \"Tuesday\", \"Wednesday\", \"Thursday\",\n",
    "                               \"Friday\", \"Saturday\", \"Sunday\"),\n",
    "               shared_yaxes=True,\n",
    "               shared_xaxes=True,\n",
    "               x_title=\"Hours\",\n",
    "               y_title=\"Number of messages\",\n",
    "               horizontal_spacing=0.005,\n",
    "                )\n",
    "\n",
    "fig_week_received_msgs = make_subplots(rows=7, cols=1,\n",
    "               subplot_titles=(\"Monday\", \"Tuesday\", \"Wednesday\", \"Thursday\",\n",
    "                               \"Friday\", \"Saturday\", \"Sunday\"),\n",
    "               shared_yaxes=True,\n",
    "               shared_xaxes=True,\n",
    "               x_title=\"Hours\",\n",
    "               y_title=\"Number of messages\",\n",
    "               horizontal_spacing=0.005,\n",
    "                )\n",
    "\n",
    "\n",
    "fig_week_sent_msgs.update_layout(title_text=f\"Weekly sent messages of {USER_ID}\", height=1050, showlegend=False)\n",
    "fig_week_received_msgs.update_layout(title_text=f\"Weekly received messages of {USER_ID}\", height=1050, showlegend=False)"
   ],
   "metadata": {
    "collapsed": false,
    "pycharm": {
     "name": "#%%\n"
    }
   }
  },
  {
   "cell_type": "markdown",
   "source": [
    "### Change START_WEEK_YEAR, START_WEEK_MONTH and START_WEEK_DAY variables to yours to get activity per day during this week range\n",
    "#### Be sure that this week date is in your general dialogs dataframe from 0_data_preprocessing.py\n",
    "#### example 11 means 10-11 time range of chatting"
   ],
   "metadata": {
    "collapsed": false
   }
  },
  {
   "cell_type": "code",
   "execution_count": 39,
   "outputs": [
    {
     "data": {
      "application/vnd.plotly.v1+json": {
       "config": {
        "plotlyServerURL": "https://plot.ly"
       },
       "data": [
        {
         "line": {
          "color": "#228B22"
         },
         "name": "Monday",
         "type": "scatter",
         "x": [
          "00",
          "01",
          "02",
          "03",
          "04",
          "05",
          "06",
          "07",
          "08",
          "09",
          "10",
          "11",
          "12",
          "13",
          "14",
          "15",
          "16",
          "17",
          "18",
          "19",
          "20",
          "21",
          "22",
          "23"
         ],
         "xaxis": "x",
         "y": [
          36,
          0,
          0,
          0,
          0,
          0,
          0,
          0,
          0,
          5,
          3,
          32,
          28,
          15,
          11,
          11,
          8,
          18,
          12,
          14,
          1,
          0,
          12,
          15
         ],
         "yaxis": "y"
        },
        {
         "line": {
          "color": "#228B22"
         },
         "name": "Tuesday",
         "type": "scatter",
         "x": [
          "00",
          "01",
          "02",
          "03",
          "04",
          "05",
          "06",
          "07",
          "08",
          "09",
          "10",
          "11",
          "12",
          "13",
          "14",
          "15",
          "16",
          "17",
          "18",
          "19",
          "20",
          "21",
          "22",
          "23"
         ],
         "xaxis": "x2",
         "y": [
          36,
          0,
          0,
          0,
          0,
          0,
          0,
          0,
          0,
          5,
          3,
          28,
          28,
          15,
          11,
          11,
          8,
          18,
          12,
          14,
          1,
          0,
          12,
          15
         ],
         "yaxis": "y2"
        },
        {
         "line": {
          "color": "#228B22"
         },
         "name": "Wednesday",
         "type": "scatter",
         "x": [
          "00",
          "01",
          "02",
          "03",
          "04",
          "05",
          "06",
          "07",
          "08",
          "09",
          "10",
          "11",
          "12",
          "13",
          "14",
          "15",
          "16",
          "17",
          "18",
          "19",
          "20",
          "21",
          "22",
          "23"
         ],
         "xaxis": "x3",
         "y": [
          36,
          0,
          0,
          0,
          0,
          0,
          0,
          0,
          0,
          5,
          3,
          28,
          28,
          15,
          11,
          11,
          8,
          18,
          12,
          14,
          1,
          0,
          12,
          15
         ],
         "yaxis": "y3"
        },
        {
         "line": {
          "color": "#228B22"
         },
         "name": "Thursday",
         "type": "scatter",
         "x": [
          "00",
          "01",
          "02",
          "03",
          "04",
          "05",
          "06",
          "07",
          "08",
          "09",
          "10",
          "11",
          "12",
          "13",
          "14",
          "15",
          "16",
          "17",
          "18",
          "19",
          "20",
          "21",
          "22",
          "23"
         ],
         "xaxis": "x4",
         "y": [
          36,
          0,
          0,
          0,
          0,
          0,
          0,
          0,
          0,
          5,
          3,
          28,
          28,
          15,
          11,
          11,
          8,
          18,
          12,
          14,
          1,
          0,
          12,
          15
         ],
         "yaxis": "y4"
        },
        {
         "line": {
          "color": "#228B22"
         },
         "name": "Friday",
         "type": "scatter",
         "x": [
          "00",
          "01",
          "02",
          "03",
          "04",
          "05",
          "06",
          "07",
          "08",
          "09",
          "10",
          "11",
          "12",
          "13",
          "14",
          "15",
          "16",
          "17",
          "18",
          "19",
          "20",
          "21",
          "22",
          "23"
         ],
         "xaxis": "x5",
         "y": [
          36,
          0,
          0,
          0,
          0,
          0,
          0,
          0,
          0,
          5,
          3,
          28,
          28,
          13,
          11,
          7,
          7,
          18,
          10,
          10,
          1,
          0,
          12,
          13
         ],
         "yaxis": "y5"
        },
        {
         "line": {
          "color": "#228B22"
         },
         "name": "Saturday",
         "type": "scatter",
         "x": [
          "00",
          "01",
          "02",
          "03",
          "04",
          "05",
          "06",
          "07",
          "08",
          "09",
          "10",
          "11",
          "12",
          "13",
          "14",
          "15",
          "16",
          "17",
          "18",
          "19",
          "20",
          "21",
          "22",
          "23"
         ],
         "xaxis": "x6",
         "y": [
          35,
          0,
          0,
          0,
          0,
          0,
          0,
          0,
          0,
          5,
          0,
          28,
          28,
          13,
          6,
          6,
          7,
          5,
          8,
          10,
          1,
          0,
          12,
          13
         ],
         "yaxis": "y6"
        },
        {
         "line": {
          "color": "#228B22"
         },
         "name": "Sunday",
         "type": "scatter",
         "x": [
          "00",
          "01",
          "02",
          "03",
          "04",
          "05",
          "06",
          "07",
          "08",
          "09",
          "10",
          "11",
          "12",
          "13",
          "14",
          "15",
          "16",
          "17",
          "18",
          "19",
          "20",
          "21",
          "22",
          "23"
         ],
         "xaxis": "x7",
         "y": [
          31,
          0,
          0,
          0,
          0,
          0,
          0,
          0,
          0,
          5,
          0,
          27,
          28,
          13,
          6,
          6,
          7,
          5,
          1,
          3,
          0,
          0,
          7,
          7
         ],
         "yaxis": "y7"
        }
       ],
       "layout": {
        "annotations": [
         {
          "font": {
           "size": 16
          },
          "showarrow": false,
          "text": "Monday",
          "x": 0.5,
          "xanchor": "center",
          "xref": "paper",
          "y": 0.9999999999999999,
          "yanchor": "bottom",
          "yref": "paper"
         },
         {
          "font": {
           "size": 16
          },
          "showarrow": false,
          "text": "Tuesday",
          "x": 0.5,
          "xanchor": "center",
          "xref": "paper",
          "y": 0.8469387755102039,
          "yanchor": "bottom",
          "yref": "paper"
         },
         {
          "font": {
           "size": 16
          },
          "showarrow": false,
          "text": "Wednesday",
          "x": 0.5,
          "xanchor": "center",
          "xref": "paper",
          "y": 0.6938775510204082,
          "yanchor": "bottom",
          "yref": "paper"
         },
         {
          "font": {
           "size": 16
          },
          "showarrow": false,
          "text": "Thursday",
          "x": 0.5,
          "xanchor": "center",
          "xref": "paper",
          "y": 0.5408163265306122,
          "yanchor": "bottom",
          "yref": "paper"
         },
         {
          "font": {
           "size": 16
          },
          "showarrow": false,
          "text": "Friday",
          "x": 0.5,
          "xanchor": "center",
          "xref": "paper",
          "y": 0.3877551020408163,
          "yanchor": "bottom",
          "yref": "paper"
         },
         {
          "font": {
           "size": 16
          },
          "showarrow": false,
          "text": "Saturday",
          "x": 0.5,
          "xanchor": "center",
          "xref": "paper",
          "y": 0.2346938775510204,
          "yanchor": "bottom",
          "yref": "paper"
         },
         {
          "font": {
           "size": 16
          },
          "showarrow": false,
          "text": "Sunday",
          "x": 0.5,
          "xanchor": "center",
          "xref": "paper",
          "y": 0.08163265306122448,
          "yanchor": "bottom",
          "yref": "paper"
         },
         {
          "font": {
           "size": 16
          },
          "showarrow": false,
          "text": "Hours",
          "x": 0.5,
          "xanchor": "center",
          "xref": "paper",
          "y": 0,
          "yanchor": "top",
          "yref": "paper",
          "yshift": -30
         },
         {
          "font": {
           "size": 16
          },
          "showarrow": false,
          "text": "Number of messages",
          "textangle": -90,
          "x": 0,
          "xanchor": "right",
          "xref": "paper",
          "xshift": -40,
          "y": 0.5,
          "yanchor": "middle",
          "yref": "paper"
         }
        ],
        "height": 1050,
        "showlegend": false,
        "template": {
         "data": {
          "bar": [
           {
            "error_x": {
             "color": "#2a3f5f"
            },
            "error_y": {
             "color": "#2a3f5f"
            },
            "marker": {
             "line": {
              "color": "#E5ECF6",
              "width": 0.5
             }
            },
            "type": "bar"
           }
          ],
          "barpolar": [
           {
            "marker": {
             "line": {
              "color": "#E5ECF6",
              "width": 0.5
             }
            },
            "type": "barpolar"
           }
          ],
          "carpet": [
           {
            "aaxis": {
             "endlinecolor": "#2a3f5f",
             "gridcolor": "white",
             "linecolor": "white",
             "minorgridcolor": "white",
             "startlinecolor": "#2a3f5f"
            },
            "baxis": {
             "endlinecolor": "#2a3f5f",
             "gridcolor": "white",
             "linecolor": "white",
             "minorgridcolor": "white",
             "startlinecolor": "#2a3f5f"
            },
            "type": "carpet"
           }
          ],
          "choropleth": [
           {
            "colorbar": {
             "outlinewidth": 0,
             "ticks": ""
            },
            "type": "choropleth"
           }
          ],
          "contour": [
           {
            "colorbar": {
             "outlinewidth": 0,
             "ticks": ""
            },
            "colorscale": [
             [
              0.0,
              "#0d0887"
             ],
             [
              0.1111111111111111,
              "#46039f"
             ],
             [
              0.2222222222222222,
              "#7201a8"
             ],
             [
              0.3333333333333333,
              "#9c179e"
             ],
             [
              0.4444444444444444,
              "#bd3786"
             ],
             [
              0.5555555555555556,
              "#d8576b"
             ],
             [
              0.6666666666666666,
              "#ed7953"
             ],
             [
              0.7777777777777778,
              "#fb9f3a"
             ],
             [
              0.8888888888888888,
              "#fdca26"
             ],
             [
              1.0,
              "#f0f921"
             ]
            ],
            "type": "contour"
           }
          ],
          "contourcarpet": [
           {
            "colorbar": {
             "outlinewidth": 0,
             "ticks": ""
            },
            "type": "contourcarpet"
           }
          ],
          "heatmap": [
           {
            "colorbar": {
             "outlinewidth": 0,
             "ticks": ""
            },
            "colorscale": [
             [
              0.0,
              "#0d0887"
             ],
             [
              0.1111111111111111,
              "#46039f"
             ],
             [
              0.2222222222222222,
              "#7201a8"
             ],
             [
              0.3333333333333333,
              "#9c179e"
             ],
             [
              0.4444444444444444,
              "#bd3786"
             ],
             [
              0.5555555555555556,
              "#d8576b"
             ],
             [
              0.6666666666666666,
              "#ed7953"
             ],
             [
              0.7777777777777778,
              "#fb9f3a"
             ],
             [
              0.8888888888888888,
              "#fdca26"
             ],
             [
              1.0,
              "#f0f921"
             ]
            ],
            "type": "heatmap"
           }
          ],
          "heatmapgl": [
           {
            "colorbar": {
             "outlinewidth": 0,
             "ticks": ""
            },
            "colorscale": [
             [
              0.0,
              "#0d0887"
             ],
             [
              0.1111111111111111,
              "#46039f"
             ],
             [
              0.2222222222222222,
              "#7201a8"
             ],
             [
              0.3333333333333333,
              "#9c179e"
             ],
             [
              0.4444444444444444,
              "#bd3786"
             ],
             [
              0.5555555555555556,
              "#d8576b"
             ],
             [
              0.6666666666666666,
              "#ed7953"
             ],
             [
              0.7777777777777778,
              "#fb9f3a"
             ],
             [
              0.8888888888888888,
              "#fdca26"
             ],
             [
              1.0,
              "#f0f921"
             ]
            ],
            "type": "heatmapgl"
           }
          ],
          "histogram": [
           {
            "marker": {
             "colorbar": {
              "outlinewidth": 0,
              "ticks": ""
             }
            },
            "type": "histogram"
           }
          ],
          "histogram2d": [
           {
            "colorbar": {
             "outlinewidth": 0,
             "ticks": ""
            },
            "colorscale": [
             [
              0.0,
              "#0d0887"
             ],
             [
              0.1111111111111111,
              "#46039f"
             ],
             [
              0.2222222222222222,
              "#7201a8"
             ],
             [
              0.3333333333333333,
              "#9c179e"
             ],
             [
              0.4444444444444444,
              "#bd3786"
             ],
             [
              0.5555555555555556,
              "#d8576b"
             ],
             [
              0.6666666666666666,
              "#ed7953"
             ],
             [
              0.7777777777777778,
              "#fb9f3a"
             ],
             [
              0.8888888888888888,
              "#fdca26"
             ],
             [
              1.0,
              "#f0f921"
             ]
            ],
            "type": "histogram2d"
           }
          ],
          "histogram2dcontour": [
           {
            "colorbar": {
             "outlinewidth": 0,
             "ticks": ""
            },
            "colorscale": [
             [
              0.0,
              "#0d0887"
             ],
             [
              0.1111111111111111,
              "#46039f"
             ],
             [
              0.2222222222222222,
              "#7201a8"
             ],
             [
              0.3333333333333333,
              "#9c179e"
             ],
             [
              0.4444444444444444,
              "#bd3786"
             ],
             [
              0.5555555555555556,
              "#d8576b"
             ],
             [
              0.6666666666666666,
              "#ed7953"
             ],
             [
              0.7777777777777778,
              "#fb9f3a"
             ],
             [
              0.8888888888888888,
              "#fdca26"
             ],
             [
              1.0,
              "#f0f921"
             ]
            ],
            "type": "histogram2dcontour"
           }
          ],
          "mesh3d": [
           {
            "colorbar": {
             "outlinewidth": 0,
             "ticks": ""
            },
            "type": "mesh3d"
           }
          ],
          "parcoords": [
           {
            "line": {
             "colorbar": {
              "outlinewidth": 0,
              "ticks": ""
             }
            },
            "type": "parcoords"
           }
          ],
          "pie": [
           {
            "automargin": true,
            "type": "pie"
           }
          ],
          "scatter": [
           {
            "marker": {
             "colorbar": {
              "outlinewidth": 0,
              "ticks": ""
             }
            },
            "type": "scatter"
           }
          ],
          "scatter3d": [
           {
            "line": {
             "colorbar": {
              "outlinewidth": 0,
              "ticks": ""
             }
            },
            "marker": {
             "colorbar": {
              "outlinewidth": 0,
              "ticks": ""
             }
            },
            "type": "scatter3d"
           }
          ],
          "scattercarpet": [
           {
            "marker": {
             "colorbar": {
              "outlinewidth": 0,
              "ticks": ""
             }
            },
            "type": "scattercarpet"
           }
          ],
          "scattergeo": [
           {
            "marker": {
             "colorbar": {
              "outlinewidth": 0,
              "ticks": ""
             }
            },
            "type": "scattergeo"
           }
          ],
          "scattergl": [
           {
            "marker": {
             "colorbar": {
              "outlinewidth": 0,
              "ticks": ""
             }
            },
            "type": "scattergl"
           }
          ],
          "scattermapbox": [
           {
            "marker": {
             "colorbar": {
              "outlinewidth": 0,
              "ticks": ""
             }
            },
            "type": "scattermapbox"
           }
          ],
          "scatterpolar": [
           {
            "marker": {
             "colorbar": {
              "outlinewidth": 0,
              "ticks": ""
             }
            },
            "type": "scatterpolar"
           }
          ],
          "scatterpolargl": [
           {
            "marker": {
             "colorbar": {
              "outlinewidth": 0,
              "ticks": ""
             }
            },
            "type": "scatterpolargl"
           }
          ],
          "scatterternary": [
           {
            "marker": {
             "colorbar": {
              "outlinewidth": 0,
              "ticks": ""
             }
            },
            "type": "scatterternary"
           }
          ],
          "surface": [
           {
            "colorbar": {
             "outlinewidth": 0,
             "ticks": ""
            },
            "colorscale": [
             [
              0.0,
              "#0d0887"
             ],
             [
              0.1111111111111111,
              "#46039f"
             ],
             [
              0.2222222222222222,
              "#7201a8"
             ],
             [
              0.3333333333333333,
              "#9c179e"
             ],
             [
              0.4444444444444444,
              "#bd3786"
             ],
             [
              0.5555555555555556,
              "#d8576b"
             ],
             [
              0.6666666666666666,
              "#ed7953"
             ],
             [
              0.7777777777777778,
              "#fb9f3a"
             ],
             [
              0.8888888888888888,
              "#fdca26"
             ],
             [
              1.0,
              "#f0f921"
             ]
            ],
            "type": "surface"
           }
          ],
          "table": [
           {
            "cells": {
             "fill": {
              "color": "#EBF0F8"
             },
             "line": {
              "color": "white"
             }
            },
            "header": {
             "fill": {
              "color": "#C8D4E3"
             },
             "line": {
              "color": "white"
             }
            },
            "type": "table"
           }
          ]
         },
         "layout": {
          "annotationdefaults": {
           "arrowcolor": "#2a3f5f",
           "arrowhead": 0,
           "arrowwidth": 1
          },
          "coloraxis": {
           "colorbar": {
            "outlinewidth": 0,
            "ticks": ""
           }
          },
          "colorscale": {
           "diverging": [
            [
             0,
             "#8e0152"
            ],
            [
             0.1,
             "#c51b7d"
            ],
            [
             0.2,
             "#de77ae"
            ],
            [
             0.3,
             "#f1b6da"
            ],
            [
             0.4,
             "#fde0ef"
            ],
            [
             0.5,
             "#f7f7f7"
            ],
            [
             0.6,
             "#e6f5d0"
            ],
            [
             0.7,
             "#b8e186"
            ],
            [
             0.8,
             "#7fbc41"
            ],
            [
             0.9,
             "#4d9221"
            ],
            [
             1,
             "#276419"
            ]
           ],
           "sequential": [
            [
             0.0,
             "#0d0887"
            ],
            [
             0.1111111111111111,
             "#46039f"
            ],
            [
             0.2222222222222222,
             "#7201a8"
            ],
            [
             0.3333333333333333,
             "#9c179e"
            ],
            [
             0.4444444444444444,
             "#bd3786"
            ],
            [
             0.5555555555555556,
             "#d8576b"
            ],
            [
             0.6666666666666666,
             "#ed7953"
            ],
            [
             0.7777777777777778,
             "#fb9f3a"
            ],
            [
             0.8888888888888888,
             "#fdca26"
            ],
            [
             1.0,
             "#f0f921"
            ]
           ],
           "sequentialminus": [
            [
             0.0,
             "#0d0887"
            ],
            [
             0.1111111111111111,
             "#46039f"
            ],
            [
             0.2222222222222222,
             "#7201a8"
            ],
            [
             0.3333333333333333,
             "#9c179e"
            ],
            [
             0.4444444444444444,
             "#bd3786"
            ],
            [
             0.5555555555555556,
             "#d8576b"
            ],
            [
             0.6666666666666666,
             "#ed7953"
            ],
            [
             0.7777777777777778,
             "#fb9f3a"
            ],
            [
             0.8888888888888888,
             "#fdca26"
            ],
            [
             1.0,
             "#f0f921"
            ]
           ]
          },
          "colorway": [
           "#636efa",
           "#EF553B",
           "#00cc96",
           "#ab63fa",
           "#FFA15A",
           "#19d3f3",
           "#FF6692",
           "#B6E880",
           "#FF97FF",
           "#FECB52"
          ],
          "font": {
           "color": "#2a3f5f"
          },
          "geo": {
           "bgcolor": "white",
           "lakecolor": "white",
           "landcolor": "#E5ECF6",
           "showlakes": true,
           "showland": true,
           "subunitcolor": "white"
          },
          "hoverlabel": {
           "align": "left"
          },
          "hovermode": "closest",
          "mapbox": {
           "style": "light"
          },
          "paper_bgcolor": "white",
          "plot_bgcolor": "#E5ECF6",
          "polar": {
           "angularaxis": {
            "gridcolor": "white",
            "linecolor": "white",
            "ticks": ""
           },
           "bgcolor": "#E5ECF6",
           "radialaxis": {
            "gridcolor": "white",
            "linecolor": "white",
            "ticks": ""
           }
          },
          "scene": {
           "xaxis": {
            "backgroundcolor": "#E5ECF6",
            "gridcolor": "white",
            "gridwidth": 2,
            "linecolor": "white",
            "showbackground": true,
            "ticks": "",
            "zerolinecolor": "white"
           },
           "yaxis": {
            "backgroundcolor": "#E5ECF6",
            "gridcolor": "white",
            "gridwidth": 2,
            "linecolor": "white",
            "showbackground": true,
            "ticks": "",
            "zerolinecolor": "white"
           },
           "zaxis": {
            "backgroundcolor": "#E5ECF6",
            "gridcolor": "white",
            "gridwidth": 2,
            "linecolor": "white",
            "showbackground": true,
            "ticks": "",
            "zerolinecolor": "white"
           }
          },
          "shapedefaults": {
           "line": {
            "color": "#2a3f5f"
           }
          },
          "ternary": {
           "aaxis": {
            "gridcolor": "white",
            "linecolor": "white",
            "ticks": ""
           },
           "baxis": {
            "gridcolor": "white",
            "linecolor": "white",
            "ticks": ""
           },
           "bgcolor": "#E5ECF6",
           "caxis": {
            "gridcolor": "white",
            "linecolor": "white",
            "ticks": ""
           }
          },
          "title": {
           "x": 0.05
          },
          "xaxis": {
           "automargin": true,
           "gridcolor": "white",
           "linecolor": "white",
           "ticks": "",
           "title": {
            "standoff": 15
           },
           "zerolinecolor": "white",
           "zerolinewidth": 2
          },
          "yaxis": {
           "automargin": true,
           "gridcolor": "white",
           "linecolor": "white",
           "ticks": "",
           "title": {
            "standoff": 15
           },
           "zerolinecolor": "white",
           "zerolinewidth": 2
          }
         }
        },
        "title": {
         "text": "Weekly sent messages of 511986933"
        },
        "xaxis": {
         "anchor": "y",
         "domain": [
          0.0,
          1.0
         ],
         "matches": "x7",
         "showticklabels": false
        },
        "xaxis2": {
         "anchor": "y2",
         "domain": [
          0.0,
          1.0
         ],
         "matches": "x7",
         "showticklabels": false
        },
        "xaxis3": {
         "anchor": "y3",
         "domain": [
          0.0,
          1.0
         ],
         "matches": "x7",
         "showticklabels": false
        },
        "xaxis4": {
         "anchor": "y4",
         "domain": [
          0.0,
          1.0
         ],
         "matches": "x7",
         "showticklabels": false
        },
        "xaxis5": {
         "anchor": "y5",
         "domain": [
          0.0,
          1.0
         ],
         "matches": "x7",
         "showticklabels": false
        },
        "xaxis6": {
         "anchor": "y6",
         "domain": [
          0.0,
          1.0
         ],
         "matches": "x7",
         "showticklabels": false
        },
        "xaxis7": {
         "anchor": "y7",
         "domain": [
          0.0,
          1.0
         ]
        },
        "yaxis": {
         "anchor": "x",
         "domain": [
          0.9183673469387754,
          0.9999999999999999
         ]
        },
        "yaxis2": {
         "anchor": "x2",
         "domain": [
          0.7653061224489794,
          0.8469387755102039
         ]
        },
        "yaxis3": {
         "anchor": "x3",
         "domain": [
          0.6122448979591837,
          0.6938775510204082
         ]
        },
        "yaxis4": {
         "anchor": "x4",
         "domain": [
          0.4591836734693877,
          0.5408163265306122
         ]
        },
        "yaxis5": {
         "anchor": "x5",
         "domain": [
          0.30612244897959184,
          0.3877551020408163
         ]
        },
        "yaxis6": {
         "anchor": "x6",
         "domain": [
          0.15306122448979592,
          0.2346938775510204
         ]
        },
        "yaxis7": {
         "anchor": "x7",
         "domain": [
          0.0,
          0.08163265306122448
         ]
        }
       }
      },
      "text/html": "<div>\n        \n        \n            <div id=\"e2caae3d-6ddd-45f1-9442-4a5d6dba9be8\" class=\"plotly-graph-div\" style=\"height:1050px; width:100%;\"></div>\n            <script type=\"text/javascript\">\n                require([\"plotly\"], function(Plotly) {\n                    window.PLOTLYENV=window.PLOTLYENV || {};\n                    \n                if (document.getElementById(\"e2caae3d-6ddd-45f1-9442-4a5d6dba9be8\")) {\n                    Plotly.newPlot(\n                        'e2caae3d-6ddd-45f1-9442-4a5d6dba9be8',\n                        [{\"line\": {\"color\": \"#228B22\"}, \"name\": \"Monday\", \"type\": \"scatter\", \"x\": [\"00\", \"01\", \"02\", \"03\", \"04\", \"05\", \"06\", \"07\", \"08\", \"09\", \"10\", \"11\", \"12\", \"13\", \"14\", \"15\", \"16\", \"17\", \"18\", \"19\", \"20\", \"21\", \"22\", \"23\"], \"xaxis\": \"x\", \"y\": [36, 0, 0, 0, 0, 0, 0, 0, 0, 5, 3, 32, 28, 15, 11, 11, 8, 18, 12, 14, 1, 0, 12, 15], \"yaxis\": \"y\"}, {\"line\": {\"color\": \"#228B22\"}, \"name\": \"Tuesday\", \"type\": \"scatter\", \"x\": [\"00\", \"01\", \"02\", \"03\", \"04\", \"05\", \"06\", \"07\", \"08\", \"09\", \"10\", \"11\", \"12\", \"13\", \"14\", \"15\", \"16\", \"17\", \"18\", \"19\", \"20\", \"21\", \"22\", \"23\"], \"xaxis\": \"x2\", \"y\": [36, 0, 0, 0, 0, 0, 0, 0, 0, 5, 3, 28, 28, 15, 11, 11, 8, 18, 12, 14, 1, 0, 12, 15], \"yaxis\": \"y2\"}, {\"line\": {\"color\": \"#228B22\"}, \"name\": \"Wednesday\", \"type\": \"scatter\", \"x\": [\"00\", \"01\", \"02\", \"03\", \"04\", \"05\", \"06\", \"07\", \"08\", \"09\", \"10\", \"11\", \"12\", \"13\", \"14\", \"15\", \"16\", \"17\", \"18\", \"19\", \"20\", \"21\", \"22\", \"23\"], \"xaxis\": \"x3\", \"y\": [36, 0, 0, 0, 0, 0, 0, 0, 0, 5, 3, 28, 28, 15, 11, 11, 8, 18, 12, 14, 1, 0, 12, 15], \"yaxis\": \"y3\"}, {\"line\": {\"color\": \"#228B22\"}, \"name\": \"Thursday\", \"type\": \"scatter\", \"x\": [\"00\", \"01\", \"02\", \"03\", \"04\", \"05\", \"06\", \"07\", \"08\", \"09\", \"10\", \"11\", \"12\", \"13\", \"14\", \"15\", \"16\", \"17\", \"18\", \"19\", \"20\", \"21\", \"22\", \"23\"], \"xaxis\": \"x4\", \"y\": [36, 0, 0, 0, 0, 0, 0, 0, 0, 5, 3, 28, 28, 15, 11, 11, 8, 18, 12, 14, 1, 0, 12, 15], \"yaxis\": \"y4\"}, {\"line\": {\"color\": \"#228B22\"}, \"name\": \"Friday\", \"type\": \"scatter\", \"x\": [\"00\", \"01\", \"02\", \"03\", \"04\", \"05\", \"06\", \"07\", \"08\", \"09\", \"10\", \"11\", \"12\", \"13\", \"14\", \"15\", \"16\", \"17\", \"18\", \"19\", \"20\", \"21\", \"22\", \"23\"], \"xaxis\": \"x5\", \"y\": [36, 0, 0, 0, 0, 0, 0, 0, 0, 5, 3, 28, 28, 13, 11, 7, 7, 18, 10, 10, 1, 0, 12, 13], \"yaxis\": \"y5\"}, {\"line\": {\"color\": \"#228B22\"}, \"name\": \"Saturday\", \"type\": \"scatter\", \"x\": [\"00\", \"01\", \"02\", \"03\", \"04\", \"05\", \"06\", \"07\", \"08\", \"09\", \"10\", \"11\", \"12\", \"13\", \"14\", \"15\", \"16\", \"17\", \"18\", \"19\", \"20\", \"21\", \"22\", \"23\"], \"xaxis\": \"x6\", \"y\": [35, 0, 0, 0, 0, 0, 0, 0, 0, 5, 0, 28, 28, 13, 6, 6, 7, 5, 8, 10, 1, 0, 12, 13], \"yaxis\": \"y6\"}, {\"line\": {\"color\": \"#228B22\"}, \"name\": \"Sunday\", \"type\": \"scatter\", \"x\": [\"00\", \"01\", \"02\", \"03\", \"04\", \"05\", \"06\", \"07\", \"08\", \"09\", \"10\", \"11\", \"12\", \"13\", \"14\", \"15\", \"16\", \"17\", \"18\", \"19\", \"20\", \"21\", \"22\", \"23\"], \"xaxis\": \"x7\", \"y\": [31, 0, 0, 0, 0, 0, 0, 0, 0, 5, 0, 27, 28, 13, 6, 6, 7, 5, 1, 3, 0, 0, 7, 7], \"yaxis\": \"y7\"}],\n                        {\"annotations\": [{\"font\": {\"size\": 16}, \"showarrow\": false, \"text\": \"Monday\", \"x\": 0.5, \"xanchor\": \"center\", \"xref\": \"paper\", \"y\": 0.9999999999999999, \"yanchor\": \"bottom\", \"yref\": \"paper\"}, {\"font\": {\"size\": 16}, \"showarrow\": false, \"text\": \"Tuesday\", \"x\": 0.5, \"xanchor\": \"center\", \"xref\": \"paper\", \"y\": 0.8469387755102039, \"yanchor\": \"bottom\", \"yref\": \"paper\"}, {\"font\": {\"size\": 16}, \"showarrow\": false, \"text\": \"Wednesday\", \"x\": 0.5, \"xanchor\": \"center\", \"xref\": \"paper\", \"y\": 0.6938775510204082, \"yanchor\": \"bottom\", \"yref\": \"paper\"}, {\"font\": {\"size\": 16}, \"showarrow\": false, \"text\": \"Thursday\", \"x\": 0.5, \"xanchor\": \"center\", \"xref\": \"paper\", \"y\": 0.5408163265306122, \"yanchor\": \"bottom\", \"yref\": \"paper\"}, {\"font\": {\"size\": 16}, \"showarrow\": false, \"text\": \"Friday\", \"x\": 0.5, \"xanchor\": \"center\", \"xref\": \"paper\", \"y\": 0.3877551020408163, \"yanchor\": \"bottom\", \"yref\": \"paper\"}, {\"font\": {\"size\": 16}, \"showarrow\": false, \"text\": \"Saturday\", \"x\": 0.5, \"xanchor\": \"center\", \"xref\": \"paper\", \"y\": 0.2346938775510204, \"yanchor\": \"bottom\", \"yref\": \"paper\"}, {\"font\": {\"size\": 16}, \"showarrow\": false, \"text\": \"Sunday\", \"x\": 0.5, \"xanchor\": \"center\", \"xref\": \"paper\", \"y\": 0.08163265306122448, \"yanchor\": \"bottom\", \"yref\": \"paper\"}, {\"font\": {\"size\": 16}, \"showarrow\": false, \"text\": \"Hours\", \"x\": 0.5, \"xanchor\": \"center\", \"xref\": \"paper\", \"y\": 0, \"yanchor\": \"top\", \"yref\": \"paper\", \"yshift\": -30}, {\"font\": {\"size\": 16}, \"showarrow\": false, \"text\": \"Number of messages\", \"textangle\": -90, \"x\": 0, \"xanchor\": \"right\", \"xref\": \"paper\", \"xshift\": -40, \"y\": 0.5, \"yanchor\": \"middle\", \"yref\": \"paper\"}], \"height\": 1050, \"showlegend\": false, \"template\": {\"data\": {\"bar\": [{\"error_x\": {\"color\": \"#2a3f5f\"}, \"error_y\": {\"color\": \"#2a3f5f\"}, \"marker\": {\"line\": {\"color\": \"#E5ECF6\", \"width\": 0.5}}, \"type\": \"bar\"}], \"barpolar\": [{\"marker\": {\"line\": {\"color\": \"#E5ECF6\", \"width\": 0.5}}, \"type\": \"barpolar\"}], \"carpet\": [{\"aaxis\": {\"endlinecolor\": \"#2a3f5f\", \"gridcolor\": \"white\", \"linecolor\": \"white\", \"minorgridcolor\": \"white\", \"startlinecolor\": \"#2a3f5f\"}, \"baxis\": {\"endlinecolor\": \"#2a3f5f\", \"gridcolor\": \"white\", \"linecolor\": \"white\", \"minorgridcolor\": \"white\", \"startlinecolor\": \"#2a3f5f\"}, \"type\": \"carpet\"}], \"choropleth\": [{\"colorbar\": {\"outlinewidth\": 0, \"ticks\": \"\"}, \"type\": \"choropleth\"}], \"contour\": [{\"colorbar\": {\"outlinewidth\": 0, \"ticks\": \"\"}, \"colorscale\": [[0.0, \"#0d0887\"], [0.1111111111111111, \"#46039f\"], [0.2222222222222222, \"#7201a8\"], [0.3333333333333333, \"#9c179e\"], [0.4444444444444444, \"#bd3786\"], [0.5555555555555556, \"#d8576b\"], [0.6666666666666666, \"#ed7953\"], [0.7777777777777778, \"#fb9f3a\"], [0.8888888888888888, \"#fdca26\"], [1.0, \"#f0f921\"]], \"type\": \"contour\"}], \"contourcarpet\": [{\"colorbar\": {\"outlinewidth\": 0, \"ticks\": \"\"}, \"type\": \"contourcarpet\"}], \"heatmap\": [{\"colorbar\": {\"outlinewidth\": 0, \"ticks\": \"\"}, \"colorscale\": [[0.0, \"#0d0887\"], [0.1111111111111111, \"#46039f\"], [0.2222222222222222, \"#7201a8\"], [0.3333333333333333, \"#9c179e\"], [0.4444444444444444, \"#bd3786\"], [0.5555555555555556, \"#d8576b\"], [0.6666666666666666, \"#ed7953\"], [0.7777777777777778, \"#fb9f3a\"], [0.8888888888888888, \"#fdca26\"], [1.0, \"#f0f921\"]], \"type\": \"heatmap\"}], \"heatmapgl\": [{\"colorbar\": {\"outlinewidth\": 0, \"ticks\": \"\"}, \"colorscale\": [[0.0, \"#0d0887\"], [0.1111111111111111, \"#46039f\"], [0.2222222222222222, \"#7201a8\"], [0.3333333333333333, \"#9c179e\"], [0.4444444444444444, \"#bd3786\"], [0.5555555555555556, \"#d8576b\"], [0.6666666666666666, \"#ed7953\"], [0.7777777777777778, \"#fb9f3a\"], [0.8888888888888888, \"#fdca26\"], [1.0, \"#f0f921\"]], \"type\": \"heatmapgl\"}], \"histogram\": [{\"marker\": {\"colorbar\": {\"outlinewidth\": 0, \"ticks\": \"\"}}, \"type\": \"histogram\"}], \"histogram2d\": [{\"colorbar\": {\"outlinewidth\": 0, \"ticks\": \"\"}, \"colorscale\": [[0.0, \"#0d0887\"], [0.1111111111111111, \"#46039f\"], [0.2222222222222222, \"#7201a8\"], [0.3333333333333333, \"#9c179e\"], [0.4444444444444444, \"#bd3786\"], [0.5555555555555556, \"#d8576b\"], [0.6666666666666666, \"#ed7953\"], [0.7777777777777778, \"#fb9f3a\"], [0.8888888888888888, \"#fdca26\"], [1.0, \"#f0f921\"]], \"type\": \"histogram2d\"}], \"histogram2dcontour\": [{\"colorbar\": {\"outlinewidth\": 0, \"ticks\": \"\"}, \"colorscale\": [[0.0, \"#0d0887\"], [0.1111111111111111, \"#46039f\"], [0.2222222222222222, \"#7201a8\"], [0.3333333333333333, \"#9c179e\"], [0.4444444444444444, \"#bd3786\"], [0.5555555555555556, \"#d8576b\"], [0.6666666666666666, \"#ed7953\"], [0.7777777777777778, \"#fb9f3a\"], [0.8888888888888888, \"#fdca26\"], [1.0, \"#f0f921\"]], \"type\": \"histogram2dcontour\"}], \"mesh3d\": [{\"colorbar\": {\"outlinewidth\": 0, \"ticks\": \"\"}, \"type\": \"mesh3d\"}], \"parcoords\": [{\"line\": {\"colorbar\": {\"outlinewidth\": 0, \"ticks\": \"\"}}, \"type\": \"parcoords\"}], \"pie\": [{\"automargin\": true, \"type\": \"pie\"}], \"scatter\": [{\"marker\": {\"colorbar\": {\"outlinewidth\": 0, \"ticks\": \"\"}}, \"type\": \"scatter\"}], \"scatter3d\": [{\"line\": {\"colorbar\": {\"outlinewidth\": 0, \"ticks\": \"\"}}, \"marker\": {\"colorbar\": {\"outlinewidth\": 0, \"ticks\": \"\"}}, \"type\": \"scatter3d\"}], \"scattercarpet\": [{\"marker\": {\"colorbar\": {\"outlinewidth\": 0, \"ticks\": \"\"}}, \"type\": \"scattercarpet\"}], \"scattergeo\": [{\"marker\": {\"colorbar\": {\"outlinewidth\": 0, \"ticks\": \"\"}}, \"type\": \"scattergeo\"}], \"scattergl\": [{\"marker\": {\"colorbar\": {\"outlinewidth\": 0, \"ticks\": \"\"}}, \"type\": \"scattergl\"}], \"scattermapbox\": [{\"marker\": {\"colorbar\": {\"outlinewidth\": 0, \"ticks\": \"\"}}, \"type\": \"scattermapbox\"}], \"scatterpolar\": [{\"marker\": {\"colorbar\": {\"outlinewidth\": 0, \"ticks\": \"\"}}, \"type\": \"scatterpolar\"}], \"scatterpolargl\": [{\"marker\": {\"colorbar\": {\"outlinewidth\": 0, \"ticks\": \"\"}}, \"type\": \"scatterpolargl\"}], \"scatterternary\": [{\"marker\": {\"colorbar\": {\"outlinewidth\": 0, \"ticks\": \"\"}}, \"type\": \"scatterternary\"}], \"surface\": [{\"colorbar\": {\"outlinewidth\": 0, \"ticks\": \"\"}, \"colorscale\": [[0.0, \"#0d0887\"], [0.1111111111111111, \"#46039f\"], [0.2222222222222222, \"#7201a8\"], [0.3333333333333333, \"#9c179e\"], [0.4444444444444444, \"#bd3786\"], [0.5555555555555556, \"#d8576b\"], [0.6666666666666666, \"#ed7953\"], [0.7777777777777778, \"#fb9f3a\"], [0.8888888888888888, \"#fdca26\"], [1.0, \"#f0f921\"]], \"type\": \"surface\"}], \"table\": [{\"cells\": {\"fill\": {\"color\": \"#EBF0F8\"}, \"line\": {\"color\": \"white\"}}, \"header\": {\"fill\": {\"color\": \"#C8D4E3\"}, \"line\": {\"color\": \"white\"}}, \"type\": \"table\"}]}, \"layout\": {\"annotationdefaults\": {\"arrowcolor\": \"#2a3f5f\", \"arrowhead\": 0, \"arrowwidth\": 1}, \"coloraxis\": {\"colorbar\": {\"outlinewidth\": 0, \"ticks\": \"\"}}, \"colorscale\": {\"diverging\": [[0, \"#8e0152\"], [0.1, \"#c51b7d\"], [0.2, \"#de77ae\"], [0.3, \"#f1b6da\"], [0.4, \"#fde0ef\"], [0.5, \"#f7f7f7\"], [0.6, \"#e6f5d0\"], [0.7, \"#b8e186\"], [0.8, \"#7fbc41\"], [0.9, \"#4d9221\"], [1, \"#276419\"]], \"sequential\": [[0.0, \"#0d0887\"], [0.1111111111111111, \"#46039f\"], [0.2222222222222222, \"#7201a8\"], [0.3333333333333333, \"#9c179e\"], [0.4444444444444444, \"#bd3786\"], [0.5555555555555556, \"#d8576b\"], [0.6666666666666666, \"#ed7953\"], [0.7777777777777778, \"#fb9f3a\"], [0.8888888888888888, \"#fdca26\"], [1.0, \"#f0f921\"]], \"sequentialminus\": [[0.0, \"#0d0887\"], [0.1111111111111111, \"#46039f\"], [0.2222222222222222, \"#7201a8\"], [0.3333333333333333, \"#9c179e\"], [0.4444444444444444, \"#bd3786\"], [0.5555555555555556, \"#d8576b\"], [0.6666666666666666, \"#ed7953\"], [0.7777777777777778, \"#fb9f3a\"], [0.8888888888888888, \"#fdca26\"], [1.0, \"#f0f921\"]]}, \"colorway\": [\"#636efa\", \"#EF553B\", \"#00cc96\", \"#ab63fa\", \"#FFA15A\", \"#19d3f3\", \"#FF6692\", \"#B6E880\", \"#FF97FF\", \"#FECB52\"], \"font\": {\"color\": \"#2a3f5f\"}, \"geo\": {\"bgcolor\": \"white\", \"lakecolor\": \"white\", \"landcolor\": \"#E5ECF6\", \"showlakes\": true, \"showland\": true, \"subunitcolor\": \"white\"}, \"hoverlabel\": {\"align\": \"left\"}, \"hovermode\": \"closest\", \"mapbox\": {\"style\": \"light\"}, \"paper_bgcolor\": \"white\", \"plot_bgcolor\": \"#E5ECF6\", \"polar\": {\"angularaxis\": {\"gridcolor\": \"white\", \"linecolor\": \"white\", \"ticks\": \"\"}, \"bgcolor\": \"#E5ECF6\", \"radialaxis\": {\"gridcolor\": \"white\", \"linecolor\": \"white\", \"ticks\": \"\"}}, \"scene\": {\"xaxis\": {\"backgroundcolor\": \"#E5ECF6\", \"gridcolor\": \"white\", \"gridwidth\": 2, \"linecolor\": \"white\", \"showbackground\": true, \"ticks\": \"\", \"zerolinecolor\": \"white\"}, \"yaxis\": {\"backgroundcolor\": \"#E5ECF6\", \"gridcolor\": \"white\", \"gridwidth\": 2, \"linecolor\": \"white\", \"showbackground\": true, \"ticks\": \"\", \"zerolinecolor\": \"white\"}, \"zaxis\": {\"backgroundcolor\": \"#E5ECF6\", \"gridcolor\": \"white\", \"gridwidth\": 2, \"linecolor\": \"white\", \"showbackground\": true, \"ticks\": \"\", \"zerolinecolor\": \"white\"}}, \"shapedefaults\": {\"line\": {\"color\": \"#2a3f5f\"}}, \"ternary\": {\"aaxis\": {\"gridcolor\": \"white\", \"linecolor\": \"white\", \"ticks\": \"\"}, \"baxis\": {\"gridcolor\": \"white\", \"linecolor\": \"white\", \"ticks\": \"\"}, \"bgcolor\": \"#E5ECF6\", \"caxis\": {\"gridcolor\": \"white\", \"linecolor\": \"white\", \"ticks\": \"\"}}, \"title\": {\"x\": 0.05}, \"xaxis\": {\"automargin\": true, \"gridcolor\": \"white\", \"linecolor\": \"white\", \"ticks\": \"\", \"title\": {\"standoff\": 15}, \"zerolinecolor\": \"white\", \"zerolinewidth\": 2}, \"yaxis\": {\"automargin\": true, \"gridcolor\": \"white\", \"linecolor\": \"white\", \"ticks\": \"\", \"title\": {\"standoff\": 15}, \"zerolinecolor\": \"white\", \"zerolinewidth\": 2}}}, \"title\": {\"text\": \"Weekly sent messages of 511986933\"}, \"xaxis\": {\"anchor\": \"y\", \"domain\": [0.0, 1.0], \"matches\": \"x7\", \"showticklabels\": false}, \"xaxis2\": {\"anchor\": \"y2\", \"domain\": [0.0, 1.0], \"matches\": \"x7\", \"showticklabels\": false}, \"xaxis3\": {\"anchor\": \"y3\", \"domain\": [0.0, 1.0], \"matches\": \"x7\", \"showticklabels\": false}, \"xaxis4\": {\"anchor\": \"y4\", \"domain\": [0.0, 1.0], \"matches\": \"x7\", \"showticklabels\": false}, \"xaxis5\": {\"anchor\": \"y5\", \"domain\": [0.0, 1.0], \"matches\": \"x7\", \"showticklabels\": false}, \"xaxis6\": {\"anchor\": \"y6\", \"domain\": [0.0, 1.0], \"matches\": \"x7\", \"showticklabels\": false}, \"xaxis7\": {\"anchor\": \"y7\", \"domain\": [0.0, 1.0]}, \"yaxis\": {\"anchor\": \"x\", \"domain\": [0.9183673469387754, 0.9999999999999999]}, \"yaxis2\": {\"anchor\": \"x2\", \"domain\": [0.7653061224489794, 0.8469387755102039]}, \"yaxis3\": {\"anchor\": \"x3\", \"domain\": [0.6122448979591837, 0.6938775510204082]}, \"yaxis4\": {\"anchor\": \"x4\", \"domain\": [0.4591836734693877, 0.5408163265306122]}, \"yaxis5\": {\"anchor\": \"x5\", \"domain\": [0.30612244897959184, 0.3877551020408163]}, \"yaxis6\": {\"anchor\": \"x6\", \"domain\": [0.15306122448979592, 0.2346938775510204]}, \"yaxis7\": {\"anchor\": \"x7\", \"domain\": [0.0, 0.08163265306122448]}},\n                        {\"responsive\": true}\n                    ).then(function(){\n                            \nvar gd = document.getElementById('e2caae3d-6ddd-45f1-9442-4a5d6dba9be8');\nvar x = new MutationObserver(function (mutations, observer) {{\n        var display = window.getComputedStyle(gd).display;\n        if (!display || display === 'none') {{\n            console.log([gd, 'removed!']);\n            Plotly.purge(gd);\n            observer.disconnect();\n        }}\n}});\n\n// Listen for the removal of the full notebook cells\nvar notebookContainer = gd.closest('#notebook-container');\nif (notebookContainer) {{\n    x.observe(notebookContainer, {childList: true});\n}}\n\n// Listen for the clearing of the current output cell\nvar outputEl = gd.closest('.output');\nif (outputEl) {{\n    x.observe(outputEl, {childList: true});\n}}\n\n                        })\n                };\n                });\n            </script>\n        </div>"
     },
     "metadata": {},
     "output_type": "display_data"
    },
    {
     "data": {
      "application/vnd.plotly.v1+json": {
       "config": {
        "plotlyServerURL": "https://plot.ly"
       },
       "data": [
        {
         "line": {
          "color": "#ff0000"
         },
         "name": "Monday",
         "type": "scatter",
         "x": [
          "00",
          "01",
          "02",
          "03",
          "04",
          "05",
          "06",
          "07",
          "08",
          "09",
          "10",
          "11",
          "12",
          "13",
          "14",
          "15",
          "16",
          "17",
          "18",
          "19",
          "20",
          "21",
          "22",
          "23"
         ],
         "xaxis": "x",
         "y": [
          47,
          1,
          0,
          0,
          0,
          1,
          3,
          5,
          0,
          2,
          2,
          27,
          29,
          8,
          18,
          3,
          20,
          16,
          3,
          12,
          14,
          4,
          4,
          7
         ],
         "yaxis": "y"
        },
        {
         "line": {
          "color": "#ff0000"
         },
         "name": "Tuesday",
         "type": "scatter",
         "x": [
          "00",
          "01",
          "02",
          "03",
          "04",
          "05",
          "06",
          "07",
          "08",
          "09",
          "10",
          "11",
          "12",
          "13",
          "14",
          "15",
          "16",
          "17",
          "18",
          "19",
          "20",
          "21",
          "22",
          "23"
         ],
         "xaxis": "x2",
         "y": [
          47,
          1,
          0,
          0,
          0,
          1,
          3,
          5,
          0,
          2,
          2,
          27,
          29,
          8,
          18,
          2,
          20,
          16,
          3,
          12,
          14,
          4,
          4,
          7
         ],
         "yaxis": "y2"
        },
        {
         "line": {
          "color": "#ff0000"
         },
         "name": "Wednesday",
         "type": "scatter",
         "x": [
          "00",
          "01",
          "02",
          "03",
          "04",
          "05",
          "06",
          "07",
          "08",
          "09",
          "10",
          "11",
          "12",
          "13",
          "14",
          "15",
          "16",
          "17",
          "18",
          "19",
          "20",
          "21",
          "22",
          "23"
         ],
         "xaxis": "x3",
         "y": [
          47,
          1,
          0,
          0,
          0,
          1,
          3,
          5,
          0,
          2,
          2,
          27,
          29,
          8,
          18,
          2,
          20,
          16,
          3,
          12,
          14,
          4,
          4,
          7
         ],
         "yaxis": "y3"
        },
        {
         "line": {
          "color": "#ff0000"
         },
         "name": "Thursday",
         "type": "scatter",
         "x": [
          "00",
          "01",
          "02",
          "03",
          "04",
          "05",
          "06",
          "07",
          "08",
          "09",
          "10",
          "11",
          "12",
          "13",
          "14",
          "15",
          "16",
          "17",
          "18",
          "19",
          "20",
          "21",
          "22",
          "23"
         ],
         "xaxis": "x4",
         "y": [
          47,
          1,
          0,
          0,
          0,
          1,
          3,
          5,
          0,
          2,
          2,
          27,
          29,
          8,
          18,
          2,
          20,
          16,
          3,
          12,
          14,
          4,
          4,
          7
         ],
         "yaxis": "y4"
        },
        {
         "line": {
          "color": "#ff0000"
         },
         "name": "Friday",
         "type": "scatter",
         "x": [
          "00",
          "01",
          "02",
          "03",
          "04",
          "05",
          "06",
          "07",
          "08",
          "09",
          "10",
          "11",
          "12",
          "13",
          "14",
          "15",
          "16",
          "17",
          "18",
          "19",
          "20",
          "21",
          "22",
          "23"
         ],
         "xaxis": "x5",
         "y": [
          47,
          1,
          0,
          0,
          0,
          1,
          3,
          5,
          0,
          2,
          2,
          27,
          29,
          7,
          18,
          2,
          11,
          15,
          3,
          9,
          12,
          3,
          4,
          5
         ],
         "yaxis": "y5"
        },
        {
         "line": {
          "color": "#ff0000"
         },
         "name": "Saturday",
         "type": "scatter",
         "x": [
          "00",
          "01",
          "02",
          "03",
          "04",
          "05",
          "06",
          "07",
          "08",
          "09",
          "10",
          "11",
          "12",
          "13",
          "14",
          "15",
          "16",
          "17",
          "18",
          "19",
          "20",
          "21",
          "22",
          "23"
         ],
         "xaxis": "x6",
         "y": [
          47,
          1,
          0,
          0,
          0,
          1,
          3,
          5,
          0,
          2,
          1,
          27,
          29,
          7,
          15,
          2,
          5,
          6,
          3,
          9,
          12,
          3,
          4,
          5
         ],
         "yaxis": "y6"
        },
        {
         "line": {
          "color": "#ff0000"
         },
         "name": "Sunday",
         "type": "scatter",
         "x": [
          "00",
          "01",
          "02",
          "03",
          "04",
          "05",
          "06",
          "07",
          "08",
          "09",
          "10",
          "11",
          "12",
          "13",
          "14",
          "15",
          "16",
          "17",
          "18",
          "19",
          "20",
          "21",
          "22",
          "23"
         ],
         "xaxis": "x7",
         "y": [
          46,
          1,
          0,
          0,
          0,
          1,
          3,
          5,
          0,
          2,
          1,
          27,
          29,
          7,
          15,
          2,
          5,
          5,
          0,
          2,
          10,
          3,
          2,
          0
         ],
         "yaxis": "y7"
        }
       ],
       "layout": {
        "annotations": [
         {
          "font": {
           "size": 16
          },
          "showarrow": false,
          "text": "Monday",
          "x": 0.5,
          "xanchor": "center",
          "xref": "paper",
          "y": 0.9999999999999999,
          "yanchor": "bottom",
          "yref": "paper"
         },
         {
          "font": {
           "size": 16
          },
          "showarrow": false,
          "text": "Tuesday",
          "x": 0.5,
          "xanchor": "center",
          "xref": "paper",
          "y": 0.8469387755102039,
          "yanchor": "bottom",
          "yref": "paper"
         },
         {
          "font": {
           "size": 16
          },
          "showarrow": false,
          "text": "Wednesday",
          "x": 0.5,
          "xanchor": "center",
          "xref": "paper",
          "y": 0.6938775510204082,
          "yanchor": "bottom",
          "yref": "paper"
         },
         {
          "font": {
           "size": 16
          },
          "showarrow": false,
          "text": "Thursday",
          "x": 0.5,
          "xanchor": "center",
          "xref": "paper",
          "y": 0.5408163265306122,
          "yanchor": "bottom",
          "yref": "paper"
         },
         {
          "font": {
           "size": 16
          },
          "showarrow": false,
          "text": "Friday",
          "x": 0.5,
          "xanchor": "center",
          "xref": "paper",
          "y": 0.3877551020408163,
          "yanchor": "bottom",
          "yref": "paper"
         },
         {
          "font": {
           "size": 16
          },
          "showarrow": false,
          "text": "Saturday",
          "x": 0.5,
          "xanchor": "center",
          "xref": "paper",
          "y": 0.2346938775510204,
          "yanchor": "bottom",
          "yref": "paper"
         },
         {
          "font": {
           "size": 16
          },
          "showarrow": false,
          "text": "Sunday",
          "x": 0.5,
          "xanchor": "center",
          "xref": "paper",
          "y": 0.08163265306122448,
          "yanchor": "bottom",
          "yref": "paper"
         },
         {
          "font": {
           "size": 16
          },
          "showarrow": false,
          "text": "Hours",
          "x": 0.5,
          "xanchor": "center",
          "xref": "paper",
          "y": 0,
          "yanchor": "top",
          "yref": "paper",
          "yshift": -30
         },
         {
          "font": {
           "size": 16
          },
          "showarrow": false,
          "text": "Number of messages",
          "textangle": -90,
          "x": 0,
          "xanchor": "right",
          "xref": "paper",
          "xshift": -40,
          "y": 0.5,
          "yanchor": "middle",
          "yref": "paper"
         }
        ],
        "height": 1050,
        "showlegend": false,
        "template": {
         "data": {
          "bar": [
           {
            "error_x": {
             "color": "#2a3f5f"
            },
            "error_y": {
             "color": "#2a3f5f"
            },
            "marker": {
             "line": {
              "color": "#E5ECF6",
              "width": 0.5
             }
            },
            "type": "bar"
           }
          ],
          "barpolar": [
           {
            "marker": {
             "line": {
              "color": "#E5ECF6",
              "width": 0.5
             }
            },
            "type": "barpolar"
           }
          ],
          "carpet": [
           {
            "aaxis": {
             "endlinecolor": "#2a3f5f",
             "gridcolor": "white",
             "linecolor": "white",
             "minorgridcolor": "white",
             "startlinecolor": "#2a3f5f"
            },
            "baxis": {
             "endlinecolor": "#2a3f5f",
             "gridcolor": "white",
             "linecolor": "white",
             "minorgridcolor": "white",
             "startlinecolor": "#2a3f5f"
            },
            "type": "carpet"
           }
          ],
          "choropleth": [
           {
            "colorbar": {
             "outlinewidth": 0,
             "ticks": ""
            },
            "type": "choropleth"
           }
          ],
          "contour": [
           {
            "colorbar": {
             "outlinewidth": 0,
             "ticks": ""
            },
            "colorscale": [
             [
              0.0,
              "#0d0887"
             ],
             [
              0.1111111111111111,
              "#46039f"
             ],
             [
              0.2222222222222222,
              "#7201a8"
             ],
             [
              0.3333333333333333,
              "#9c179e"
             ],
             [
              0.4444444444444444,
              "#bd3786"
             ],
             [
              0.5555555555555556,
              "#d8576b"
             ],
             [
              0.6666666666666666,
              "#ed7953"
             ],
             [
              0.7777777777777778,
              "#fb9f3a"
             ],
             [
              0.8888888888888888,
              "#fdca26"
             ],
             [
              1.0,
              "#f0f921"
             ]
            ],
            "type": "contour"
           }
          ],
          "contourcarpet": [
           {
            "colorbar": {
             "outlinewidth": 0,
             "ticks": ""
            },
            "type": "contourcarpet"
           }
          ],
          "heatmap": [
           {
            "colorbar": {
             "outlinewidth": 0,
             "ticks": ""
            },
            "colorscale": [
             [
              0.0,
              "#0d0887"
             ],
             [
              0.1111111111111111,
              "#46039f"
             ],
             [
              0.2222222222222222,
              "#7201a8"
             ],
             [
              0.3333333333333333,
              "#9c179e"
             ],
             [
              0.4444444444444444,
              "#bd3786"
             ],
             [
              0.5555555555555556,
              "#d8576b"
             ],
             [
              0.6666666666666666,
              "#ed7953"
             ],
             [
              0.7777777777777778,
              "#fb9f3a"
             ],
             [
              0.8888888888888888,
              "#fdca26"
             ],
             [
              1.0,
              "#f0f921"
             ]
            ],
            "type": "heatmap"
           }
          ],
          "heatmapgl": [
           {
            "colorbar": {
             "outlinewidth": 0,
             "ticks": ""
            },
            "colorscale": [
             [
              0.0,
              "#0d0887"
             ],
             [
              0.1111111111111111,
              "#46039f"
             ],
             [
              0.2222222222222222,
              "#7201a8"
             ],
             [
              0.3333333333333333,
              "#9c179e"
             ],
             [
              0.4444444444444444,
              "#bd3786"
             ],
             [
              0.5555555555555556,
              "#d8576b"
             ],
             [
              0.6666666666666666,
              "#ed7953"
             ],
             [
              0.7777777777777778,
              "#fb9f3a"
             ],
             [
              0.8888888888888888,
              "#fdca26"
             ],
             [
              1.0,
              "#f0f921"
             ]
            ],
            "type": "heatmapgl"
           }
          ],
          "histogram": [
           {
            "marker": {
             "colorbar": {
              "outlinewidth": 0,
              "ticks": ""
             }
            },
            "type": "histogram"
           }
          ],
          "histogram2d": [
           {
            "colorbar": {
             "outlinewidth": 0,
             "ticks": ""
            },
            "colorscale": [
             [
              0.0,
              "#0d0887"
             ],
             [
              0.1111111111111111,
              "#46039f"
             ],
             [
              0.2222222222222222,
              "#7201a8"
             ],
             [
              0.3333333333333333,
              "#9c179e"
             ],
             [
              0.4444444444444444,
              "#bd3786"
             ],
             [
              0.5555555555555556,
              "#d8576b"
             ],
             [
              0.6666666666666666,
              "#ed7953"
             ],
             [
              0.7777777777777778,
              "#fb9f3a"
             ],
             [
              0.8888888888888888,
              "#fdca26"
             ],
             [
              1.0,
              "#f0f921"
             ]
            ],
            "type": "histogram2d"
           }
          ],
          "histogram2dcontour": [
           {
            "colorbar": {
             "outlinewidth": 0,
             "ticks": ""
            },
            "colorscale": [
             [
              0.0,
              "#0d0887"
             ],
             [
              0.1111111111111111,
              "#46039f"
             ],
             [
              0.2222222222222222,
              "#7201a8"
             ],
             [
              0.3333333333333333,
              "#9c179e"
             ],
             [
              0.4444444444444444,
              "#bd3786"
             ],
             [
              0.5555555555555556,
              "#d8576b"
             ],
             [
              0.6666666666666666,
              "#ed7953"
             ],
             [
              0.7777777777777778,
              "#fb9f3a"
             ],
             [
              0.8888888888888888,
              "#fdca26"
             ],
             [
              1.0,
              "#f0f921"
             ]
            ],
            "type": "histogram2dcontour"
           }
          ],
          "mesh3d": [
           {
            "colorbar": {
             "outlinewidth": 0,
             "ticks": ""
            },
            "type": "mesh3d"
           }
          ],
          "parcoords": [
           {
            "line": {
             "colorbar": {
              "outlinewidth": 0,
              "ticks": ""
             }
            },
            "type": "parcoords"
           }
          ],
          "pie": [
           {
            "automargin": true,
            "type": "pie"
           }
          ],
          "scatter": [
           {
            "marker": {
             "colorbar": {
              "outlinewidth": 0,
              "ticks": ""
             }
            },
            "type": "scatter"
           }
          ],
          "scatter3d": [
           {
            "line": {
             "colorbar": {
              "outlinewidth": 0,
              "ticks": ""
             }
            },
            "marker": {
             "colorbar": {
              "outlinewidth": 0,
              "ticks": ""
             }
            },
            "type": "scatter3d"
           }
          ],
          "scattercarpet": [
           {
            "marker": {
             "colorbar": {
              "outlinewidth": 0,
              "ticks": ""
             }
            },
            "type": "scattercarpet"
           }
          ],
          "scattergeo": [
           {
            "marker": {
             "colorbar": {
              "outlinewidth": 0,
              "ticks": ""
             }
            },
            "type": "scattergeo"
           }
          ],
          "scattergl": [
           {
            "marker": {
             "colorbar": {
              "outlinewidth": 0,
              "ticks": ""
             }
            },
            "type": "scattergl"
           }
          ],
          "scattermapbox": [
           {
            "marker": {
             "colorbar": {
              "outlinewidth": 0,
              "ticks": ""
             }
            },
            "type": "scattermapbox"
           }
          ],
          "scatterpolar": [
           {
            "marker": {
             "colorbar": {
              "outlinewidth": 0,
              "ticks": ""
             }
            },
            "type": "scatterpolar"
           }
          ],
          "scatterpolargl": [
           {
            "marker": {
             "colorbar": {
              "outlinewidth": 0,
              "ticks": ""
             }
            },
            "type": "scatterpolargl"
           }
          ],
          "scatterternary": [
           {
            "marker": {
             "colorbar": {
              "outlinewidth": 0,
              "ticks": ""
             }
            },
            "type": "scatterternary"
           }
          ],
          "surface": [
           {
            "colorbar": {
             "outlinewidth": 0,
             "ticks": ""
            },
            "colorscale": [
             [
              0.0,
              "#0d0887"
             ],
             [
              0.1111111111111111,
              "#46039f"
             ],
             [
              0.2222222222222222,
              "#7201a8"
             ],
             [
              0.3333333333333333,
              "#9c179e"
             ],
             [
              0.4444444444444444,
              "#bd3786"
             ],
             [
              0.5555555555555556,
              "#d8576b"
             ],
             [
              0.6666666666666666,
              "#ed7953"
             ],
             [
              0.7777777777777778,
              "#fb9f3a"
             ],
             [
              0.8888888888888888,
              "#fdca26"
             ],
             [
              1.0,
              "#f0f921"
             ]
            ],
            "type": "surface"
           }
          ],
          "table": [
           {
            "cells": {
             "fill": {
              "color": "#EBF0F8"
             },
             "line": {
              "color": "white"
             }
            },
            "header": {
             "fill": {
              "color": "#C8D4E3"
             },
             "line": {
              "color": "white"
             }
            },
            "type": "table"
           }
          ]
         },
         "layout": {
          "annotationdefaults": {
           "arrowcolor": "#2a3f5f",
           "arrowhead": 0,
           "arrowwidth": 1
          },
          "coloraxis": {
           "colorbar": {
            "outlinewidth": 0,
            "ticks": ""
           }
          },
          "colorscale": {
           "diverging": [
            [
             0,
             "#8e0152"
            ],
            [
             0.1,
             "#c51b7d"
            ],
            [
             0.2,
             "#de77ae"
            ],
            [
             0.3,
             "#f1b6da"
            ],
            [
             0.4,
             "#fde0ef"
            ],
            [
             0.5,
             "#f7f7f7"
            ],
            [
             0.6,
             "#e6f5d0"
            ],
            [
             0.7,
             "#b8e186"
            ],
            [
             0.8,
             "#7fbc41"
            ],
            [
             0.9,
             "#4d9221"
            ],
            [
             1,
             "#276419"
            ]
           ],
           "sequential": [
            [
             0.0,
             "#0d0887"
            ],
            [
             0.1111111111111111,
             "#46039f"
            ],
            [
             0.2222222222222222,
             "#7201a8"
            ],
            [
             0.3333333333333333,
             "#9c179e"
            ],
            [
             0.4444444444444444,
             "#bd3786"
            ],
            [
             0.5555555555555556,
             "#d8576b"
            ],
            [
             0.6666666666666666,
             "#ed7953"
            ],
            [
             0.7777777777777778,
             "#fb9f3a"
            ],
            [
             0.8888888888888888,
             "#fdca26"
            ],
            [
             1.0,
             "#f0f921"
            ]
           ],
           "sequentialminus": [
            [
             0.0,
             "#0d0887"
            ],
            [
             0.1111111111111111,
             "#46039f"
            ],
            [
             0.2222222222222222,
             "#7201a8"
            ],
            [
             0.3333333333333333,
             "#9c179e"
            ],
            [
             0.4444444444444444,
             "#bd3786"
            ],
            [
             0.5555555555555556,
             "#d8576b"
            ],
            [
             0.6666666666666666,
             "#ed7953"
            ],
            [
             0.7777777777777778,
             "#fb9f3a"
            ],
            [
             0.8888888888888888,
             "#fdca26"
            ],
            [
             1.0,
             "#f0f921"
            ]
           ]
          },
          "colorway": [
           "#636efa",
           "#EF553B",
           "#00cc96",
           "#ab63fa",
           "#FFA15A",
           "#19d3f3",
           "#FF6692",
           "#B6E880",
           "#FF97FF",
           "#FECB52"
          ],
          "font": {
           "color": "#2a3f5f"
          },
          "geo": {
           "bgcolor": "white",
           "lakecolor": "white",
           "landcolor": "#E5ECF6",
           "showlakes": true,
           "showland": true,
           "subunitcolor": "white"
          },
          "hoverlabel": {
           "align": "left"
          },
          "hovermode": "closest",
          "mapbox": {
           "style": "light"
          },
          "paper_bgcolor": "white",
          "plot_bgcolor": "#E5ECF6",
          "polar": {
           "angularaxis": {
            "gridcolor": "white",
            "linecolor": "white",
            "ticks": ""
           },
           "bgcolor": "#E5ECF6",
           "radialaxis": {
            "gridcolor": "white",
            "linecolor": "white",
            "ticks": ""
           }
          },
          "scene": {
           "xaxis": {
            "backgroundcolor": "#E5ECF6",
            "gridcolor": "white",
            "gridwidth": 2,
            "linecolor": "white",
            "showbackground": true,
            "ticks": "",
            "zerolinecolor": "white"
           },
           "yaxis": {
            "backgroundcolor": "#E5ECF6",
            "gridcolor": "white",
            "gridwidth": 2,
            "linecolor": "white",
            "showbackground": true,
            "ticks": "",
            "zerolinecolor": "white"
           },
           "zaxis": {
            "backgroundcolor": "#E5ECF6",
            "gridcolor": "white",
            "gridwidth": 2,
            "linecolor": "white",
            "showbackground": true,
            "ticks": "",
            "zerolinecolor": "white"
           }
          },
          "shapedefaults": {
           "line": {
            "color": "#2a3f5f"
           }
          },
          "ternary": {
           "aaxis": {
            "gridcolor": "white",
            "linecolor": "white",
            "ticks": ""
           },
           "baxis": {
            "gridcolor": "white",
            "linecolor": "white",
            "ticks": ""
           },
           "bgcolor": "#E5ECF6",
           "caxis": {
            "gridcolor": "white",
            "linecolor": "white",
            "ticks": ""
           }
          },
          "title": {
           "x": 0.05
          },
          "xaxis": {
           "automargin": true,
           "gridcolor": "white",
           "linecolor": "white",
           "ticks": "",
           "title": {
            "standoff": 15
           },
           "zerolinecolor": "white",
           "zerolinewidth": 2
          },
          "yaxis": {
           "automargin": true,
           "gridcolor": "white",
           "linecolor": "white",
           "ticks": "",
           "title": {
            "standoff": 15
           },
           "zerolinecolor": "white",
           "zerolinewidth": 2
          }
         }
        },
        "title": {
         "text": "Weekly received messages of 511986933"
        },
        "xaxis": {
         "anchor": "y",
         "domain": [
          0.0,
          1.0
         ],
         "matches": "x7",
         "showticklabels": false
        },
        "xaxis2": {
         "anchor": "y2",
         "domain": [
          0.0,
          1.0
         ],
         "matches": "x7",
         "showticklabels": false
        },
        "xaxis3": {
         "anchor": "y3",
         "domain": [
          0.0,
          1.0
         ],
         "matches": "x7",
         "showticklabels": false
        },
        "xaxis4": {
         "anchor": "y4",
         "domain": [
          0.0,
          1.0
         ],
         "matches": "x7",
         "showticklabels": false
        },
        "xaxis5": {
         "anchor": "y5",
         "domain": [
          0.0,
          1.0
         ],
         "matches": "x7",
         "showticklabels": false
        },
        "xaxis6": {
         "anchor": "y6",
         "domain": [
          0.0,
          1.0
         ],
         "matches": "x7",
         "showticklabels": false
        },
        "xaxis7": {
         "anchor": "y7",
         "domain": [
          0.0,
          1.0
         ]
        },
        "yaxis": {
         "anchor": "x",
         "domain": [
          0.9183673469387754,
          0.9999999999999999
         ]
        },
        "yaxis2": {
         "anchor": "x2",
         "domain": [
          0.7653061224489794,
          0.8469387755102039
         ]
        },
        "yaxis3": {
         "anchor": "x3",
         "domain": [
          0.6122448979591837,
          0.6938775510204082
         ]
        },
        "yaxis4": {
         "anchor": "x4",
         "domain": [
          0.4591836734693877,
          0.5408163265306122
         ]
        },
        "yaxis5": {
         "anchor": "x5",
         "domain": [
          0.30612244897959184,
          0.3877551020408163
         ]
        },
        "yaxis6": {
         "anchor": "x6",
         "domain": [
          0.15306122448979592,
          0.2346938775510204
         ]
        },
        "yaxis7": {
         "anchor": "x7",
         "domain": [
          0.0,
          0.08163265306122448
         ]
        }
       }
      },
      "text/html": "<div>\n        \n        \n            <div id=\"a4282610-d6b7-4af7-93f3-5c59c0bda564\" class=\"plotly-graph-div\" style=\"height:1050px; width:100%;\"></div>\n            <script type=\"text/javascript\">\n                require([\"plotly\"], function(Plotly) {\n                    window.PLOTLYENV=window.PLOTLYENV || {};\n                    \n                if (document.getElementById(\"a4282610-d6b7-4af7-93f3-5c59c0bda564\")) {\n                    Plotly.newPlot(\n                        'a4282610-d6b7-4af7-93f3-5c59c0bda564',\n                        [{\"line\": {\"color\": \"#ff0000\"}, \"name\": \"Monday\", \"type\": \"scatter\", \"x\": [\"00\", \"01\", \"02\", \"03\", \"04\", \"05\", \"06\", \"07\", \"08\", \"09\", \"10\", \"11\", \"12\", \"13\", \"14\", \"15\", \"16\", \"17\", \"18\", \"19\", \"20\", \"21\", \"22\", \"23\"], \"xaxis\": \"x\", \"y\": [47, 1, 0, 0, 0, 1, 3, 5, 0, 2, 2, 27, 29, 8, 18, 3, 20, 16, 3, 12, 14, 4, 4, 7], \"yaxis\": \"y\"}, {\"line\": {\"color\": \"#ff0000\"}, \"name\": \"Tuesday\", \"type\": \"scatter\", \"x\": [\"00\", \"01\", \"02\", \"03\", \"04\", \"05\", \"06\", \"07\", \"08\", \"09\", \"10\", \"11\", \"12\", \"13\", \"14\", \"15\", \"16\", \"17\", \"18\", \"19\", \"20\", \"21\", \"22\", \"23\"], \"xaxis\": \"x2\", \"y\": [47, 1, 0, 0, 0, 1, 3, 5, 0, 2, 2, 27, 29, 8, 18, 2, 20, 16, 3, 12, 14, 4, 4, 7], \"yaxis\": \"y2\"}, {\"line\": {\"color\": \"#ff0000\"}, \"name\": \"Wednesday\", \"type\": \"scatter\", \"x\": [\"00\", \"01\", \"02\", \"03\", \"04\", \"05\", \"06\", \"07\", \"08\", \"09\", \"10\", \"11\", \"12\", \"13\", \"14\", \"15\", \"16\", \"17\", \"18\", \"19\", \"20\", \"21\", \"22\", \"23\"], \"xaxis\": \"x3\", \"y\": [47, 1, 0, 0, 0, 1, 3, 5, 0, 2, 2, 27, 29, 8, 18, 2, 20, 16, 3, 12, 14, 4, 4, 7], \"yaxis\": \"y3\"}, {\"line\": {\"color\": \"#ff0000\"}, \"name\": \"Thursday\", \"type\": \"scatter\", \"x\": [\"00\", \"01\", \"02\", \"03\", \"04\", \"05\", \"06\", \"07\", \"08\", \"09\", \"10\", \"11\", \"12\", \"13\", \"14\", \"15\", \"16\", \"17\", \"18\", \"19\", \"20\", \"21\", \"22\", \"23\"], \"xaxis\": \"x4\", \"y\": [47, 1, 0, 0, 0, 1, 3, 5, 0, 2, 2, 27, 29, 8, 18, 2, 20, 16, 3, 12, 14, 4, 4, 7], \"yaxis\": \"y4\"}, {\"line\": {\"color\": \"#ff0000\"}, \"name\": \"Friday\", \"type\": \"scatter\", \"x\": [\"00\", \"01\", \"02\", \"03\", \"04\", \"05\", \"06\", \"07\", \"08\", \"09\", \"10\", \"11\", \"12\", \"13\", \"14\", \"15\", \"16\", \"17\", \"18\", \"19\", \"20\", \"21\", \"22\", \"23\"], \"xaxis\": \"x5\", \"y\": [47, 1, 0, 0, 0, 1, 3, 5, 0, 2, 2, 27, 29, 7, 18, 2, 11, 15, 3, 9, 12, 3, 4, 5], \"yaxis\": \"y5\"}, {\"line\": {\"color\": \"#ff0000\"}, \"name\": \"Saturday\", \"type\": \"scatter\", \"x\": [\"00\", \"01\", \"02\", \"03\", \"04\", \"05\", \"06\", \"07\", \"08\", \"09\", \"10\", \"11\", \"12\", \"13\", \"14\", \"15\", \"16\", \"17\", \"18\", \"19\", \"20\", \"21\", \"22\", \"23\"], \"xaxis\": \"x6\", \"y\": [47, 1, 0, 0, 0, 1, 3, 5, 0, 2, 1, 27, 29, 7, 15, 2, 5, 6, 3, 9, 12, 3, 4, 5], \"yaxis\": \"y6\"}, {\"line\": {\"color\": \"#ff0000\"}, \"name\": \"Sunday\", \"type\": \"scatter\", \"x\": [\"00\", \"01\", \"02\", \"03\", \"04\", \"05\", \"06\", \"07\", \"08\", \"09\", \"10\", \"11\", \"12\", \"13\", \"14\", \"15\", \"16\", \"17\", \"18\", \"19\", \"20\", \"21\", \"22\", \"23\"], \"xaxis\": \"x7\", \"y\": [46, 1, 0, 0, 0, 1, 3, 5, 0, 2, 1, 27, 29, 7, 15, 2, 5, 5, 0, 2, 10, 3, 2, 0], \"yaxis\": \"y7\"}],\n                        {\"annotations\": [{\"font\": {\"size\": 16}, \"showarrow\": false, \"text\": \"Monday\", \"x\": 0.5, \"xanchor\": \"center\", \"xref\": \"paper\", \"y\": 0.9999999999999999, \"yanchor\": \"bottom\", \"yref\": \"paper\"}, {\"font\": {\"size\": 16}, \"showarrow\": false, \"text\": \"Tuesday\", \"x\": 0.5, \"xanchor\": \"center\", \"xref\": \"paper\", \"y\": 0.8469387755102039, \"yanchor\": \"bottom\", \"yref\": \"paper\"}, {\"font\": {\"size\": 16}, \"showarrow\": false, \"text\": \"Wednesday\", \"x\": 0.5, \"xanchor\": \"center\", \"xref\": \"paper\", \"y\": 0.6938775510204082, \"yanchor\": \"bottom\", \"yref\": \"paper\"}, {\"font\": {\"size\": 16}, \"showarrow\": false, \"text\": \"Thursday\", \"x\": 0.5, \"xanchor\": \"center\", \"xref\": \"paper\", \"y\": 0.5408163265306122, \"yanchor\": \"bottom\", \"yref\": \"paper\"}, {\"font\": {\"size\": 16}, \"showarrow\": false, \"text\": \"Friday\", \"x\": 0.5, \"xanchor\": \"center\", \"xref\": \"paper\", \"y\": 0.3877551020408163, \"yanchor\": \"bottom\", \"yref\": \"paper\"}, {\"font\": {\"size\": 16}, \"showarrow\": false, \"text\": \"Saturday\", \"x\": 0.5, \"xanchor\": \"center\", \"xref\": \"paper\", \"y\": 0.2346938775510204, \"yanchor\": \"bottom\", \"yref\": \"paper\"}, {\"font\": {\"size\": 16}, \"showarrow\": false, \"text\": \"Sunday\", \"x\": 0.5, \"xanchor\": \"center\", \"xref\": \"paper\", \"y\": 0.08163265306122448, \"yanchor\": \"bottom\", \"yref\": \"paper\"}, {\"font\": {\"size\": 16}, \"showarrow\": false, \"text\": \"Hours\", \"x\": 0.5, \"xanchor\": \"center\", \"xref\": \"paper\", \"y\": 0, \"yanchor\": \"top\", \"yref\": \"paper\", \"yshift\": -30}, {\"font\": {\"size\": 16}, \"showarrow\": false, \"text\": \"Number of messages\", \"textangle\": -90, \"x\": 0, \"xanchor\": \"right\", \"xref\": \"paper\", \"xshift\": -40, \"y\": 0.5, \"yanchor\": \"middle\", \"yref\": \"paper\"}], \"height\": 1050, \"showlegend\": false, \"template\": {\"data\": {\"bar\": [{\"error_x\": {\"color\": \"#2a3f5f\"}, \"error_y\": {\"color\": \"#2a3f5f\"}, \"marker\": {\"line\": {\"color\": \"#E5ECF6\", \"width\": 0.5}}, \"type\": \"bar\"}], \"barpolar\": [{\"marker\": {\"line\": {\"color\": \"#E5ECF6\", \"width\": 0.5}}, \"type\": \"barpolar\"}], \"carpet\": [{\"aaxis\": {\"endlinecolor\": \"#2a3f5f\", \"gridcolor\": \"white\", \"linecolor\": \"white\", \"minorgridcolor\": \"white\", \"startlinecolor\": \"#2a3f5f\"}, \"baxis\": {\"endlinecolor\": \"#2a3f5f\", \"gridcolor\": \"white\", \"linecolor\": \"white\", \"minorgridcolor\": \"white\", \"startlinecolor\": \"#2a3f5f\"}, \"type\": \"carpet\"}], \"choropleth\": [{\"colorbar\": {\"outlinewidth\": 0, \"ticks\": \"\"}, \"type\": \"choropleth\"}], \"contour\": [{\"colorbar\": {\"outlinewidth\": 0, \"ticks\": \"\"}, \"colorscale\": [[0.0, \"#0d0887\"], [0.1111111111111111, \"#46039f\"], [0.2222222222222222, \"#7201a8\"], [0.3333333333333333, \"#9c179e\"], [0.4444444444444444, \"#bd3786\"], [0.5555555555555556, \"#d8576b\"], [0.6666666666666666, \"#ed7953\"], [0.7777777777777778, \"#fb9f3a\"], [0.8888888888888888, \"#fdca26\"], [1.0, \"#f0f921\"]], \"type\": \"contour\"}], \"contourcarpet\": [{\"colorbar\": {\"outlinewidth\": 0, \"ticks\": \"\"}, \"type\": \"contourcarpet\"}], \"heatmap\": [{\"colorbar\": {\"outlinewidth\": 0, \"ticks\": \"\"}, \"colorscale\": [[0.0, \"#0d0887\"], [0.1111111111111111, \"#46039f\"], [0.2222222222222222, \"#7201a8\"], [0.3333333333333333, \"#9c179e\"], [0.4444444444444444, \"#bd3786\"], [0.5555555555555556, \"#d8576b\"], [0.6666666666666666, \"#ed7953\"], [0.7777777777777778, \"#fb9f3a\"], [0.8888888888888888, \"#fdca26\"], [1.0, \"#f0f921\"]], \"type\": \"heatmap\"}], \"heatmapgl\": [{\"colorbar\": {\"outlinewidth\": 0, \"ticks\": \"\"}, \"colorscale\": [[0.0, \"#0d0887\"], [0.1111111111111111, \"#46039f\"], [0.2222222222222222, \"#7201a8\"], [0.3333333333333333, \"#9c179e\"], [0.4444444444444444, \"#bd3786\"], [0.5555555555555556, \"#d8576b\"], [0.6666666666666666, \"#ed7953\"], [0.7777777777777778, \"#fb9f3a\"], [0.8888888888888888, \"#fdca26\"], [1.0, \"#f0f921\"]], \"type\": \"heatmapgl\"}], \"histogram\": [{\"marker\": {\"colorbar\": {\"outlinewidth\": 0, \"ticks\": \"\"}}, \"type\": \"histogram\"}], \"histogram2d\": [{\"colorbar\": {\"outlinewidth\": 0, \"ticks\": \"\"}, \"colorscale\": [[0.0, \"#0d0887\"], [0.1111111111111111, \"#46039f\"], [0.2222222222222222, \"#7201a8\"], [0.3333333333333333, \"#9c179e\"], [0.4444444444444444, \"#bd3786\"], [0.5555555555555556, \"#d8576b\"], [0.6666666666666666, \"#ed7953\"], [0.7777777777777778, \"#fb9f3a\"], [0.8888888888888888, \"#fdca26\"], [1.0, \"#f0f921\"]], \"type\": \"histogram2d\"}], \"histogram2dcontour\": [{\"colorbar\": {\"outlinewidth\": 0, \"ticks\": \"\"}, \"colorscale\": [[0.0, \"#0d0887\"], [0.1111111111111111, \"#46039f\"], [0.2222222222222222, \"#7201a8\"], [0.3333333333333333, \"#9c179e\"], [0.4444444444444444, \"#bd3786\"], [0.5555555555555556, \"#d8576b\"], [0.6666666666666666, \"#ed7953\"], [0.7777777777777778, \"#fb9f3a\"], [0.8888888888888888, \"#fdca26\"], [1.0, \"#f0f921\"]], \"type\": \"histogram2dcontour\"}], \"mesh3d\": [{\"colorbar\": {\"outlinewidth\": 0, \"ticks\": \"\"}, \"type\": \"mesh3d\"}], \"parcoords\": [{\"line\": {\"colorbar\": {\"outlinewidth\": 0, \"ticks\": \"\"}}, \"type\": \"parcoords\"}], \"pie\": [{\"automargin\": true, \"type\": \"pie\"}], \"scatter\": [{\"marker\": {\"colorbar\": {\"outlinewidth\": 0, \"ticks\": \"\"}}, \"type\": \"scatter\"}], \"scatter3d\": [{\"line\": {\"colorbar\": {\"outlinewidth\": 0, \"ticks\": \"\"}}, \"marker\": {\"colorbar\": {\"outlinewidth\": 0, \"ticks\": \"\"}}, \"type\": \"scatter3d\"}], \"scattercarpet\": [{\"marker\": {\"colorbar\": {\"outlinewidth\": 0, \"ticks\": \"\"}}, \"type\": \"scattercarpet\"}], \"scattergeo\": [{\"marker\": {\"colorbar\": {\"outlinewidth\": 0, \"ticks\": \"\"}}, \"type\": \"scattergeo\"}], \"scattergl\": [{\"marker\": {\"colorbar\": {\"outlinewidth\": 0, \"ticks\": \"\"}}, \"type\": \"scattergl\"}], \"scattermapbox\": [{\"marker\": {\"colorbar\": {\"outlinewidth\": 0, \"ticks\": \"\"}}, \"type\": \"scattermapbox\"}], \"scatterpolar\": [{\"marker\": {\"colorbar\": {\"outlinewidth\": 0, \"ticks\": \"\"}}, \"type\": \"scatterpolar\"}], \"scatterpolargl\": [{\"marker\": {\"colorbar\": {\"outlinewidth\": 0, \"ticks\": \"\"}}, \"type\": \"scatterpolargl\"}], \"scatterternary\": [{\"marker\": {\"colorbar\": {\"outlinewidth\": 0, \"ticks\": \"\"}}, \"type\": \"scatterternary\"}], \"surface\": [{\"colorbar\": {\"outlinewidth\": 0, \"ticks\": \"\"}, \"colorscale\": [[0.0, \"#0d0887\"], [0.1111111111111111, \"#46039f\"], [0.2222222222222222, \"#7201a8\"], [0.3333333333333333, \"#9c179e\"], [0.4444444444444444, \"#bd3786\"], [0.5555555555555556, \"#d8576b\"], [0.6666666666666666, \"#ed7953\"], [0.7777777777777778, \"#fb9f3a\"], [0.8888888888888888, \"#fdca26\"], [1.0, \"#f0f921\"]], \"type\": \"surface\"}], \"table\": [{\"cells\": {\"fill\": {\"color\": \"#EBF0F8\"}, \"line\": {\"color\": \"white\"}}, \"header\": {\"fill\": {\"color\": \"#C8D4E3\"}, \"line\": {\"color\": \"white\"}}, \"type\": \"table\"}]}, \"layout\": {\"annotationdefaults\": {\"arrowcolor\": \"#2a3f5f\", \"arrowhead\": 0, \"arrowwidth\": 1}, \"coloraxis\": {\"colorbar\": {\"outlinewidth\": 0, \"ticks\": \"\"}}, \"colorscale\": {\"diverging\": [[0, \"#8e0152\"], [0.1, \"#c51b7d\"], [0.2, \"#de77ae\"], [0.3, \"#f1b6da\"], [0.4, \"#fde0ef\"], [0.5, \"#f7f7f7\"], [0.6, \"#e6f5d0\"], [0.7, \"#b8e186\"], [0.8, \"#7fbc41\"], [0.9, \"#4d9221\"], [1, \"#276419\"]], \"sequential\": [[0.0, \"#0d0887\"], [0.1111111111111111, \"#46039f\"], [0.2222222222222222, \"#7201a8\"], [0.3333333333333333, \"#9c179e\"], [0.4444444444444444, \"#bd3786\"], [0.5555555555555556, \"#d8576b\"], [0.6666666666666666, \"#ed7953\"], [0.7777777777777778, \"#fb9f3a\"], [0.8888888888888888, \"#fdca26\"], [1.0, \"#f0f921\"]], \"sequentialminus\": [[0.0, \"#0d0887\"], [0.1111111111111111, \"#46039f\"], [0.2222222222222222, \"#7201a8\"], [0.3333333333333333, \"#9c179e\"], [0.4444444444444444, \"#bd3786\"], [0.5555555555555556, \"#d8576b\"], [0.6666666666666666, \"#ed7953\"], [0.7777777777777778, \"#fb9f3a\"], [0.8888888888888888, \"#fdca26\"], [1.0, \"#f0f921\"]]}, \"colorway\": [\"#636efa\", \"#EF553B\", \"#00cc96\", \"#ab63fa\", \"#FFA15A\", \"#19d3f3\", \"#FF6692\", \"#B6E880\", \"#FF97FF\", \"#FECB52\"], \"font\": {\"color\": \"#2a3f5f\"}, \"geo\": {\"bgcolor\": \"white\", \"lakecolor\": \"white\", \"landcolor\": \"#E5ECF6\", \"showlakes\": true, \"showland\": true, \"subunitcolor\": \"white\"}, \"hoverlabel\": {\"align\": \"left\"}, \"hovermode\": \"closest\", \"mapbox\": {\"style\": \"light\"}, \"paper_bgcolor\": \"white\", \"plot_bgcolor\": \"#E5ECF6\", \"polar\": {\"angularaxis\": {\"gridcolor\": \"white\", \"linecolor\": \"white\", \"ticks\": \"\"}, \"bgcolor\": \"#E5ECF6\", \"radialaxis\": {\"gridcolor\": \"white\", \"linecolor\": \"white\", \"ticks\": \"\"}}, \"scene\": {\"xaxis\": {\"backgroundcolor\": \"#E5ECF6\", \"gridcolor\": \"white\", \"gridwidth\": 2, \"linecolor\": \"white\", \"showbackground\": true, \"ticks\": \"\", \"zerolinecolor\": \"white\"}, \"yaxis\": {\"backgroundcolor\": \"#E5ECF6\", \"gridcolor\": \"white\", \"gridwidth\": 2, \"linecolor\": \"white\", \"showbackground\": true, \"ticks\": \"\", \"zerolinecolor\": \"white\"}, \"zaxis\": {\"backgroundcolor\": \"#E5ECF6\", \"gridcolor\": \"white\", \"gridwidth\": 2, \"linecolor\": \"white\", \"showbackground\": true, \"ticks\": \"\", \"zerolinecolor\": \"white\"}}, \"shapedefaults\": {\"line\": {\"color\": \"#2a3f5f\"}}, \"ternary\": {\"aaxis\": {\"gridcolor\": \"white\", \"linecolor\": \"white\", \"ticks\": \"\"}, \"baxis\": {\"gridcolor\": \"white\", \"linecolor\": \"white\", \"ticks\": \"\"}, \"bgcolor\": \"#E5ECF6\", \"caxis\": {\"gridcolor\": \"white\", \"linecolor\": \"white\", \"ticks\": \"\"}}, \"title\": {\"x\": 0.05}, \"xaxis\": {\"automargin\": true, \"gridcolor\": \"white\", \"linecolor\": \"white\", \"ticks\": \"\", \"title\": {\"standoff\": 15}, \"zerolinecolor\": \"white\", \"zerolinewidth\": 2}, \"yaxis\": {\"automargin\": true, \"gridcolor\": \"white\", \"linecolor\": \"white\", \"ticks\": \"\", \"title\": {\"standoff\": 15}, \"zerolinecolor\": \"white\", \"zerolinewidth\": 2}}}, \"title\": {\"text\": \"Weekly received messages of 511986933\"}, \"xaxis\": {\"anchor\": \"y\", \"domain\": [0.0, 1.0], \"matches\": \"x7\", \"showticklabels\": false}, \"xaxis2\": {\"anchor\": \"y2\", \"domain\": [0.0, 1.0], \"matches\": \"x7\", \"showticklabels\": false}, \"xaxis3\": {\"anchor\": \"y3\", \"domain\": [0.0, 1.0], \"matches\": \"x7\", \"showticklabels\": false}, \"xaxis4\": {\"anchor\": \"y4\", \"domain\": [0.0, 1.0], \"matches\": \"x7\", \"showticklabels\": false}, \"xaxis5\": {\"anchor\": \"y5\", \"domain\": [0.0, 1.0], \"matches\": \"x7\", \"showticklabels\": false}, \"xaxis6\": {\"anchor\": \"y6\", \"domain\": [0.0, 1.0], \"matches\": \"x7\", \"showticklabels\": false}, \"xaxis7\": {\"anchor\": \"y7\", \"domain\": [0.0, 1.0]}, \"yaxis\": {\"anchor\": \"x\", \"domain\": [0.9183673469387754, 0.9999999999999999]}, \"yaxis2\": {\"anchor\": \"x2\", \"domain\": [0.7653061224489794, 0.8469387755102039]}, \"yaxis3\": {\"anchor\": \"x3\", \"domain\": [0.6122448979591837, 0.6938775510204082]}, \"yaxis4\": {\"anchor\": \"x4\", \"domain\": [0.4591836734693877, 0.5408163265306122]}, \"yaxis5\": {\"anchor\": \"x5\", \"domain\": [0.30612244897959184, 0.3877551020408163]}, \"yaxis6\": {\"anchor\": \"x6\", \"domain\": [0.15306122448979592, 0.2346938775510204]}, \"yaxis7\": {\"anchor\": \"x7\", \"domain\": [0.0, 0.08163265306122448]}},\n                        {\"responsive\": true}\n                    ).then(function(){\n                            \nvar gd = document.getElementById('a4282610-d6b7-4af7-93f3-5c59c0bda564');\nvar x = new MutationObserver(function (mutations, observer) {{\n        var display = window.getComputedStyle(gd).display;\n        if (!display || display === 'none') {{\n            console.log([gd, 'removed!']);\n            Plotly.purge(gd);\n            observer.disconnect();\n        }}\n}});\n\n// Listen for the removal of the full notebook cells\nvar notebookContainer = gd.closest('#notebook-container');\nif (notebookContainer) {{\n    x.observe(notebookContainer, {childList: true});\n}}\n\n// Listen for the clearing of the current output cell\nvar outputEl = gd.closest('.output');\nif (outputEl) {{\n    x.observe(outputEl, {childList: true});\n}}\n\n                        })\n                };\n                });\n            </script>\n        </div>"
     },
     "metadata": {},
     "output_type": "display_data"
    }
   ],
   "source": [
    "START_WEEK_YEAR = 2020\n",
    "START_WEEK_MONTH = 8\n",
    "START_WEEK_DAY = 28\n",
    "\n",
    "if START_WEEK_MONTH in [1, 3, 5, 7, 8, 10, 12]:\n",
    "    days_in_month = 31\n",
    "\n",
    "elif START_WEEK_MONTH == 2:\n",
    "    days_in_month = 28\n",
    "\n",
    "else:\n",
    "    days_in_month = 30\n",
    "\n",
    "for i in range(7):\n",
    "    week_day = START_WEEK_DAY + i\n",
    "    next_day = START_WEEK_DAY + i + 1\n",
    "    day_month = START_WEEK_MONTH\n",
    "    next_day_month = START_WEEK_MONTH\n",
    "\n",
    "    if week_day >= days_in_month + 1:\n",
    "        week_day = week_day % (days_in_month + 1) + 1\n",
    "        day_month = START_WEEK_MONTH + 1\n",
    "\n",
    "    if next_day >= days_in_month + 1:\n",
    "        next_day = next_day % (days_in_month + 1) + 1\n",
    "        next_day_month = START_WEEK_MONTH + 1\n",
    "\n",
    "    start_date = datetime.datetime(START_WEEK_YEAR, day_month,\n",
    "                                    week_day, 0, 0, 0)\n",
    "\n",
    "    end_date = datetime.datetime(START_WEEK_YEAR, next_day_month,\n",
    "                                    next_day, 0, 0, 0)\n",
    "\n",
    "    hours_data, n_msgs, lists = get_user_daily_activity(dialogs_info, \"Private dialog\", USER_ID, start_date, end_date,\n",
    "                                                        'get_user_sent_messages')\n",
    "\n",
    "    day_of_week = i + 1\n",
    "\n",
    "    fig_week_sent_msgs.add_scatter(x=hours_data,\n",
    "                        y=n_msgs,\n",
    "                        name=get_week_day_from_number(day_of_week),\n",
    "                        row=day_of_week, col=1, line=dict(color=\"#228B22\")\n",
    "                       )\n",
    "\n",
    "    hours_data, n_msgs, lists = get_user_daily_activity(dialogs_info, \"Private dialog\", USER_ID, start_date, end_date,\n",
    "                                                        'get_user_received_messages')\n",
    "\n",
    "    fig_week_received_msgs.add_scatter(x=hours_data,\n",
    "                        y=n_msgs,\n",
    "                        name=get_week_day_from_number(day_of_week),\n",
    "                        row=day_of_week, col=1, line=dict(color=\"#ff0000\")\n",
    "                       )\n",
    "\n",
    "\n",
    "fig_week_sent_msgs.show()\n",
    "fig_week_received_msgs.show()"
   ],
   "metadata": {
    "collapsed": false,
    "pycharm": {
     "name": "#%%\n"
    }
   }
  },
  {
   "cell_type": "markdown",
   "metadata": {},
   "source": [
    "## Collect general statistics for user during start_date - end_date"
   ]
  },
  {
   "cell_type": "code",
   "execution_count": 40,
   "metadata": {
    "pycharm": {
     "name": "#%%\n"
    }
   },
   "outputs": [],
   "source": [
    "def get_statistics_msgs(df, user_id_get_msg, dialog_type, statistics_type,\n",
    "                        start_date, end_date):\n",
    "    \"\"\"\n",
    "\n",
    "    :param df: your dataframe\n",
    "    :param user_id_get_msg: int, user id\n",
    "    :param dialog_type: \"Channel\" or \"Private dialog\" or \"Group\"\n",
    "    :param statistics_type: \"received\" or \"sent\", to analyse received or sent messages\n",
    "    :param start_date: datetime type, from what time start to analyse msgs\n",
    "    :param end_date: datetime type, to what time to analyse msgs\n",
    "    :return: added dataframe with statistics in range (start_date, end_date) and\n",
    "    average_n_msgs, average_n_words\n",
    "    \"\"\"\n",
    "    dialogs_places_dict = {}\n",
    "\n",
    "    # go through all dialogs on special dialog type in dialogs_info dict\n",
    "    # friend - name of dialog\n",
    "    msgs_lst, words_lst = [], []\n",
    "    for dialog_id, friend in dialogs_info[dialog_type].items():\n",
    "        dialog_data = general_dialogs_df.loc[general_dialogs_df['dialog ID'] == int(dialog_id)]\n",
    "        if dialog_data.empty:\n",
    "            msgs_lst.append(0)\n",
    "            words_lst.append(0)\n",
    "            dialogs_places_dict[friend] = 0\n",
    "            continue\n",
    "\n",
    "        # if it is Group, so to get number of received messages to you in it\n",
    "        # it is sent to_id like PeerChannel(channel_id=1387547322), it is not your id\n",
    "        # so we change it\n",
    "        if dialog_type == \"Group\" and statistics_type == \"received\":\n",
    "            user_id_get_msg = dialog_data[\"to_id\"][dialog_data.index[0]]\n",
    "\n",
    "        n_msgs_in_date_range, n_words_in_date_range = 0, 0\n",
    "        dialogs_places_dict[friend] = 0\n",
    "\n",
    "        for index, row in dialog_data.iterrows():\n",
    "            dialog_datetime = row.date[:-6]\n",
    "            flag_in_range = if_in_date_range(dialog_datetime, start_date, end_date)\n",
    "            if flag_in_range == 'Dialog after end_date':\n",
    "                continue\n",
    "\n",
    "            if not flag_in_range:\n",
    "                break\n",
    "\n",
    "            if statistics_type == \"received\":\n",
    "                if row.from_id == user_id_get_msg:\n",
    "                    continue\n",
    "                    \n",
    "            elif statistics_type == \"sent\":\n",
    "                if row.from_id != user_id_get_msg:\n",
    "                    continue\n",
    "\n",
    "            if not pd.isnull(row.message):\n",
    "                n_words_in_date_range += len(row.message.split())\n",
    "            dialogs_places_dict[friend] = dialogs_places_dict.get(friend, 0) + 1\n",
    "\n",
    "        words_lst.append(n_words_in_date_range)\n",
    "\n",
    "    dialogs_places_dict = {k: v for k, v in sorted(dialogs_places_dict.items(), key=lambda item: item[1], reverse=True)}\n",
    "    msgs_lst = []\n",
    "    for i in df.index:\n",
    "        msgs_lst.append(dialogs_places_dict[df[\"dialog_name\"][i]])\n",
    "\n",
    "    df[\"n_{}_msgs_in_date_range\".format(statistics_type)] = msgs_lst\n",
    "    df[\"n_{}_words_in_date_range\".format(statistics_type)] = words_lst\n",
    "\n",
    "    df[\"place_dialog_by_n_{}_msgs\".format(statistics_type)] = [0 for _ in range(len(df.index))]\n",
    "\n",
    "    print(\"Top 10 {} by {} messages during {} - {}\".format(dialog_type, statistics_type, start_date, end_date))\n",
    "    for place, friend in enumerate(dialogs_places_dict.items()):\n",
    "        if place < 10:\n",
    "            print(\"{} place is {} with {} messages\".format(place + 1, friend[0], friend[1]))\n",
    "        n_row = df.loc[df['dialog_name'] == friend[0]][\"id\"]\n",
    "        df[\"place_dialog_by_n_{}_msgs\".format(statistics_type)][n_row] = place + 1\n",
    "\n",
    "    print(\"\\n\\n\")\n",
    "    df[\"n_{}_msgs_in_date_range\".format(statistics_type)] = df[\"n_{}_msgs_in_date_range\".format(statistics_type)].fillna(0)\n",
    "    df[\"n_{}_words_in_date_range\".format(statistics_type)] = df[\"n_{}_words_in_date_range\".format(statistics_type)].fillna(0)\n",
    "\n",
    "    average_n_msgs = int(df[\"n_{}_msgs_in_date_range\".format(statistics_type)].mean(skipna = True))\n",
    "    average_n_words = int(df[\"n_{}_words_in_date_range\".format(statistics_type)].mean(skipna = True))\n",
    "\n",
    "    return df, average_n_msgs, average_n_words\n"
   ]
  },
  {
   "cell_type": "markdown",
   "source": [
    "### 2) Change start_date and end_date to yours"
   ],
   "metadata": {
    "collapsed": false,
    "pycharm": {
     "name": "#%% md\n"
    }
   }
  },
  {
   "cell_type": "code",
   "execution_count": 41,
   "outputs": [],
   "source": [
    "# from what time start to analyse msgs - to what time to analyse msgs\n",
    "# set value to dates which are more on 1 day that days you want to be include\n",
    "# ex. if you set:\n",
    "# start_date = datetime.datetime(2020, 9, 1, 0, 0, 0)\n",
    "# end_date = datetime.datetime(2020, 9, 11, 0, 0, 0)\n",
    "# so real date range to analyse is 2.09.2020 - 10.09.2020\n",
    "start_date = datetime.datetime(2020, 9, 1, 0, 0, 0)\n",
    "end_date = datetime.datetime(2020, 9, 11, 0, 0, 0)\n",
    "\n",
    "# get general statistics\n",
    "df = pd.DataFrame(dialogs_info[\"Private dialog\"].items(), columns=[\"dialog_id\", \"dialog_name\"])\n"
   ],
   "metadata": {
    "collapsed": false,
    "pycharm": {
     "name": "#%%\n"
    }
   }
  },
  {
   "cell_type": "markdown",
   "source": [
    "## Top people with whom communicate during start_date - end_date"
   ],
   "metadata": {
    "collapsed": false,
    "pycharm": {
     "name": "#%% md\n"
    }
   }
  },
  {
   "cell_type": "code",
   "execution_count": 42,
   "outputs": [
    {
     "name": "stdout",
     "output_type": "stream",
     "text": [
      "Top 10 Private dialog by received messages during 2020-09-01 00:00:00 - 2020-09-11 00:00:00\n",
      "1 place is Andrew Kurochkin with 52 messages\n",
      "2 place is Марк with 49 messages\n",
      "3 place is Назар Поночевний with 44 messages\n",
      "4 place is Саша Дерен ЕПЕ with 42 messages\n",
      "5 place is Бек Андрій Уку with 9 messages\n",
      "6 place is Real Python RSS with 6 messages\n",
      "7 place is Костя Лєпєшов with 3 messages\n",
      "8 place is Обходные стратегии with 1 messages\n",
      "9 place is Denys Herasymuk with 0 messages\n",
      "10 place is Микола Карате with 0 messages\n",
      "\n",
      "\n",
      "\n",
      "Top 10 Private dialog by sent messages during 2020-09-01 00:00:00 - 2020-09-11 00:00:00\n",
      "1 place is Саша Дерен ЕПЕ with 57 messages\n",
      "2 place is Andrew Kurochkin with 45 messages\n",
      "3 place is Марк with 45 messages\n",
      "4 place is Denys Herasymuk with 30 messages\n",
      "5 place is Назар Поночевний with 27 messages\n",
      "6 place is Бек Андрій Уку with 23 messages\n",
      "7 place is Микола Карате with 3 messages\n",
      "8 place is Костя Лєпєшов with 2 messages\n",
      "9 place is Real Python RSS with 0 messages\n",
      "10 place is Обходные стратегии with 0 messages\n",
      "\n",
      "\n",
      "\n"
     ]
    },
    {
     "name": "stderr",
     "output_type": "stream",
     "text": [
      "d:\\python\\envs\\venv_telegram_analysis\\lib\\site-packages\\ipykernel_launcher.py:74: SettingWithCopyWarning:\n",
      "\n",
      "\n",
      "A value is trying to be set on a copy of a slice from a DataFrame\n",
      "\n",
      "See the caveats in the documentation: http://pandas.pydata.org/pandas-docs/stable/user_guide/indexing.html#returning-a-view-versus-a-copy\n",
      "\n"
     ]
    }
   ],
   "source": [
    "if len(df.index) != 0:\n",
    "    df[\"id\"] = [i for i in range(df.index[-1] + 1)]\n",
    "\n",
    "    df, average_n_received_msgs, average_n_received_words = get_statistics_msgs(df, USER_ID, \"Private dialog\", \"received\",\n",
    "                                                                                start_date, end_date)\n",
    "    df, average_n_sent_msgs, average_n_sent_words = get_statistics_msgs(df, USER_ID, \"Private dialog\", \"sent\",\n",
    "                                                                        start_date, end_date)\n",
    "\n",
    "    new_row = {\n",
    "        \"dialog_name\": \"Total average statistics msgs\",\n",
    "        \"dialog_id\": -1,\n",
    "        \"n_received_msgs_in_date_range\": average_n_received_msgs,\n",
    "        \"n_received_words_in_date_range\": average_n_received_words,\n",
    "        \"n_sent_msgs_in_date_range\": average_n_sent_msgs,\n",
    "        \"n_sent_words_in_date_range\": average_n_sent_words,\n",
    "        \"place_dialog_by_n_received_msgs\": -1,\n",
    "        \"place_dialog_by_n_sent_msgs\": -1\n",
    "    }\n",
    "\n",
    "    df = df.append(new_row, ignore_index=True)\n",
    "\n",
    "    df.to_csv(os.path.join(PATH_TO_SAVE_PROCESSED_FILES, f\"private_{RESULT_NAME_STATISTICS}.csv\"))\n",
    "    df"
   ],
   "metadata": {
    "collapsed": false,
    "pycharm": {
     "name": "#%%\n"
    }
   }
  },
  {
   "cell_type": "markdown",
   "metadata": {
    "pycharm": {
     "name": "#%% md\n"
    }
   },
   "source": [
    "## Top groups with whom communicate during start_date - end_date"
   ]
  },
  {
   "cell_type": "code",
   "execution_count": 43,
   "metadata": {
    "pycharm": {
     "name": "#%%\n"
    }
   },
   "outputs": [
    {
     "name": "stdout",
     "output_type": "stream",
     "text": [
      "Top 10 Group by received messages during 2020-09-01 00:00:00 - 2020-09-11 00:00:00\n",
      "1 place is BookCrossing - Обмен книгами with 100 messages\n",
      "2 place is React Kyiv with 100 messages\n",
      "3 place is Arch Linux RU with 100 messages\n",
      "4 place is УКУ Рандом | REBOOTED with 100 messages\n",
      "5 place is APPS@UCU (всі) ❤️ with 100 messages\n",
      "6 place is CS & BA 2019 💚💜 with 100 messages\n",
      "7 place is sns_internships with 100 messages\n",
      "8 place is Linux@ucu with 100 messages\n",
      "9 place is d2v with 100 messages\n",
      "10 place is Крильце Надії with 56 messages\n",
      "\n",
      "\n",
      "\n",
      "Top 10 Group by sent messages during 2020-09-01 00:00:00 - 2020-09-11 00:00:00\n",
      "1 place is d2v with 42 messages\n",
      "2 place is Group with 22 messages\n",
      "3 place is Курси та навчання with 13 messages\n",
      "4 place is BookCrossing - Обмен книгами with 0 messages\n",
      "5 place is React Kyiv with 0 messages\n",
      "6 place is Arch Linux RU with 0 messages\n",
      "7 place is УКУ Рандом | REBOOTED with 0 messages\n",
      "8 place is APPS@UCU (всі) ❤️ with 0 messages\n",
      "9 place is CS & BA 2019 💚💜 with 0 messages\n",
      "10 place is sns_internships with 0 messages\n",
      "\n",
      "\n",
      "\n"
     ]
    },
    {
     "name": "stderr",
     "output_type": "stream",
     "text": [
      "d:\\python\\envs\\venv_telegram_analysis\\lib\\site-packages\\ipykernel_launcher.py:74: SettingWithCopyWarning:\n",
      "\n",
      "\n",
      "A value is trying to be set on a copy of a slice from a DataFrame\n",
      "\n",
      "See the caveats in the documentation: http://pandas.pydata.org/pandas-docs/stable/user_guide/indexing.html#returning-a-view-versus-a-copy\n",
      "\n"
     ]
    }
   ],
   "source": [
    "# get general statistics\n",
    "df_groups = pd.DataFrame(dialogs_info[\"Group\"].items(), columns=[\"dialog_id\", \"dialog_name\"])\n",
    "if len(df_groups.index) != 0:\n",
    "    df_groups[\"id\"] = [i for i in range(df_groups.index[-1] + 1)]\n",
    "\n",
    "    df_groups, average_n_received_msgs, average_n_received_words = get_statistics_msgs(df_groups, \"all\", \"Group\", \"received\",\n",
    "                                                                                start_date, end_date)\n",
    "    df_groups, average_n_sent_msgs, average_n_sent_words = get_statistics_msgs(df_groups, USER_ID, \"Group\", \"sent\",\n",
    "                                                                        start_date, end_date)\n",
    "\n",
    "    new_row = {\n",
    "        \"dialog_name\": \"Total average statistics msgs\",\n",
    "        \"dialog_id\": -1,\n",
    "        \"n_received_msgs_in_date_range\": average_n_received_msgs,\n",
    "        \"n_received_words_in_date_range\": average_n_received_words,\n",
    "        \"n_sent_msgs_in_date_range\": average_n_sent_msgs,\n",
    "        \"n_sent_words_in_date_range\": average_n_sent_words,\n",
    "        \"place_dialog_by_n_received_msgs\": -1,\n",
    "        \"place_dialog_by_n_sent_msgs\": -1\n",
    "    }\n",
    "\n",
    "    df = df.append(new_row, ignore_index=True)\n",
    "\n",
    "    df.to_csv(os.path.join(PATH_TO_SAVE_PROCESSED_FILES, f\"groups_{RESULT_NAME_STATISTICS}.csv\"), index=False)\n",
    "    df"
   ]
  },
  {
   "cell_type": "markdown",
   "source": [
    "## Time spending on conversations during start_date - end_date\n",
    "\n",
    "#### 3) Change to yours next global variables"
   ],
   "metadata": {
    "collapsed": false
   }
  },
  {
   "cell_type": "code",
   "execution_count": 44,
   "outputs": [],
   "source": [
    "# if time between messages is more TIME_BETWEEN_USER_REPLIES sec,\n",
    "# so the dialog is stopped and\n",
    "# we should not add this time to general time\n",
    "TIME_BETWEEN_USER_REPLIES = 300\n",
    "\n",
    "# WORDS_SPEED_READING per a minute\n",
    "# Reference: https://irisreading.com/what-is-the-average-reading-speed/\n",
    "# Due to reading chat messages(a lot of little messages) this speed decrease to 2.5 words per a second\n",
    "WORDS_SPEED_READING = 150\n",
    "\n",
    "# WORDS_SPEED_READING per a minute\n",
    "CHAR_SPEED_WRITING = 160\n",
    "\n",
    "# time for thinking about what you will be write\n",
    "TIME_FOR_THINKING = 30\n"
   ],
   "metadata": {
    "collapsed": false,
    "pycharm": {
     "name": "#%%\n"
    }
   }
  },
  {
   "cell_type": "code",
   "execution_count": 45,
   "outputs": [],
   "source": [
    "def get_user_active_minutes_per_day(dialogs_info, start_date, end_date, dialog_type, user_id_get_msg):\n",
    "    \"\"\"\n",
    "\n",
    "    :param dialogs_info: dict: first level keys - \"Channel\", \"Private dialog\", \"Group\"\n",
    "    second level items - \"<name_of_dialog>\": <id>\n",
    "    :param start_date: datetime type, from what time start to analyse msgs\n",
    "    :param end_date: datetime type, to what time to analyse msgs\n",
    "    :param dialog_type: \"Channel\" or \"Private dialog\" or \"Group\"\n",
    "    :param user_id_get_msg: int, user id\n",
    "    :return: lists for a plot of \"top_friends\" or \"daily_activity\", depends on\n",
    "    your input plot_type\n",
    "    \"\"\"\n",
    "    dialog_active_seconds, dialog_active_minutes, previous_message_time = 0, 0, 0\n",
    "\n",
    "    # go through all dialogs on special dialog type in dialogs_info dict\n",
    "    # friend - name of dialog\n",
    "    print(f\"Active minutes per day({start_date}) in {dialog_type}\")\n",
    "\n",
    "    for dialog_id, friend in dialogs_info[dialog_type].items():\n",
    "        start_dialog_time, stop_dialog_time = 0, 0\n",
    "\n",
    "        dialog_data = general_dialogs_df.loc[general_dialogs_df['dialog ID'] == int(dialog_id)]\n",
    "        if dialog_data.empty:\n",
    "            continue\n",
    "\n",
    "        dialog_active_seconds_before = dialog_active_seconds\n",
    "        flag_first_my_message = 0\n",
    "\n",
    "        for index, row in dialog_data.iterrows():\n",
    "            if pd.isnull(row.message):\n",
    "                continue\n",
    "\n",
    "            dialog_datetime = row.date[:-6]\n",
    "            flag_in_range = if_in_date_range(dialog_datetime, start_date, end_date)\n",
    "            if flag_in_range == 'Dialog after END_DATE':\n",
    "                continue\n",
    "\n",
    "            elif not flag_in_range:\n",
    "                break\n",
    "\n",
    "            elif flag_in_range:\n",
    "                if user_id_get_msg != \"all\":\n",
    "                    if row.from_id != user_id_get_msg:\n",
    "                        dialog_active_seconds += len(row.message.split()) / WORDS_SPEED_READING * 60\n",
    "                        continue\n",
    "                \n",
    "                dialog_datetime = datetime.datetime.strptime(row.date[:-6],\n",
    "                                                                         \"%Y-%m-%d %H:%M:%S\")\n",
    "                if flag_first_my_message == 0:\n",
    "                    previous_message_time = dialog_datetime\n",
    "                    flag_first_my_message = 1\n",
    "\n",
    "                time_before_my_messages = previous_message_time - dialog_datetime\n",
    "\n",
    "                # if message in user_id_get_msg queue of messages\n",
    "                if index != dialog_data.index[-1] and dialog_data[\"from_id\"][index + 1] == user_id_get_msg and \\\n",
    "                        time_before_my_messages.total_seconds() < 600:\n",
    "                    previous_message_time = dialog_datetime\n",
    "                    if stop_dialog_time == 0:\n",
    "                        stop_dialog_time = dialog_datetime\n",
    "\n",
    "                else:\n",
    "                    TIME_FOR_FIRST_YOUR_MESSAGE = TIME_FOR_THINKING + \\\n",
    "                                                  len(row.message) / CHAR_SPEED_WRITING * 60\n",
    "                    if stop_dialog_time == 0:\n",
    "                        # if in user_id_get_msg queue of messages is only 1 message so add\n",
    "                        # time for:\n",
    "                        # reading received messages + thinking + writing the message\n",
    "                        dialog_active_seconds += TIME_FOR_FIRST_YOUR_MESSAGE\n",
    "\n",
    "                    else:\n",
    "                        start_dialog_time = dialog_datetime\n",
    "\n",
    "                        # get time between your query of messages\n",
    "                        time_since = stop_dialog_time - start_dialog_time\n",
    "\n",
    "                        # if time between messages is more TIME_BETWEEN_USER_REPLIES sec,\n",
    "                        # so the dialog is stopped and\n",
    "                        # we should not add this time to general time\n",
    "                        if time_since.total_seconds() >= TIME_BETWEEN_USER_REPLIES:\n",
    "                            time_since = stop_dialog_time - previous_message_time\n",
    "                            dialog_active_seconds += time_since.total_seconds() + TIME_FOR_FIRST_YOUR_MESSAGE\n",
    "\n",
    "                        else:\n",
    "                            # add TIME_FOR_FIRST_YOUR_MESSAGE sec - time for reading + writing first message\n",
    "                            dialog_active_seconds += time_since.total_seconds() + TIME_FOR_FIRST_YOUR_MESSAGE\n",
    "\n",
    "                    previous_message_time = dialog_datetime\n",
    "                    start_dialog_time, stop_dialog_time = 0, 0\n",
    "\n",
    "        if (dialog_active_seconds - dialog_active_seconds_before) // 60 > 0:\n",
    "            print(\"Time spend on conversation: dialog {} {} minutes\".format(friend,\n",
    "                                                                            round((dialog_active_seconds -\n",
    "                                                                                   dialog_active_seconds_before) / 60, 2)))\n",
    "    print(\"\\n\")\n",
    "    return round(dialog_active_seconds / 60, 2)\n"
   ],
   "metadata": {
    "collapsed": false,
    "pycharm": {
     "name": "#%%\n"
    }
   }
  },
  {
   "cell_type": "markdown",
   "source": [
    "### 4) Change START_WEEK_YEAR, START_WEEK_MONTH and START_WEEK_DAY to yours\n",
    "#### Be sure to input date of messages which exists in your data, NOT date in the future (add 365 to your START_WEEK_DAY\n",
    "#### to understand if it exists in your data) !!!"
   ],
   "metadata": {
    "collapsed": false,
    "pycharm": {
     "name": "#%% md\n"
    }
   }
  },
  {
   "cell_type": "code",
   "execution_count": 46,
   "outputs": [
    {
     "name": "stdout",
     "output_type": "stream",
     "text": [
      "Active minutes per day(2020-08-01 00:00:00) in Private dialog\n",
      "\n",
      "\n",
      "Active minutes per day(2020-08-01 00:00:00) in Group\n",
      "\n",
      "\n",
      "Active minutes per day(2020-08-02 00:00:00) in Private dialog\n",
      "\n",
      "\n",
      "Active minutes per day(2020-08-02 00:00:00) in Group\n",
      "\n",
      "\n",
      "Active minutes per day(2020-08-03 00:00:00) in Private dialog\n",
      "\n",
      "\n",
      "Active minutes per day(2020-08-03 00:00:00) in Group\n",
      "\n",
      "\n",
      "Active minutes per day(2020-08-04 00:00:00) in Private dialog\n",
      "Time spend on conversation: dialog Бек Андрій Уку 5.44 minutes\n",
      "\n",
      "\n",
      "Active minutes per day(2020-08-04 00:00:00) in Group\n",
      "\n",
      "\n",
      "Active minutes per day(2020-08-05 00:00:00) in Private dialog\n",
      "Time spend on conversation: dialog Denys Herasymuk 6.35 minutes\n",
      "\n",
      "\n",
      "Active minutes per day(2020-08-05 00:00:00) in Group\n",
      "\n",
      "\n",
      "Active minutes per day(2020-08-06 00:00:00) in Private dialog\n",
      "Time spend on conversation: dialog Denys Herasymuk 6.6 minutes\n",
      "\n",
      "\n",
      "Active minutes per day(2020-08-06 00:00:00) in Group\n",
      "\n",
      "\n",
      "Active minutes per day(2020-08-07 00:00:00) in Private dialog\n",
      "\n",
      "\n",
      "Active minutes per day(2020-08-07 00:00:00) in Group\n",
      "Time spend on conversation: dialog UGS Q&A 1.73 minutes\n",
      "\n",
      "\n",
      "Active minutes per day(2020-08-01 00:00:00) in Private dialog\n",
      "\n",
      "\n",
      "Active minutes per day(2020-08-01 00:00:00) in Group\n",
      "\n",
      "\n",
      "Active minutes per day(2020-08-02 00:00:00) in Private dialog\n",
      "\n",
      "\n",
      "Active minutes per day(2020-08-02 00:00:00) in Group\n",
      "\n",
      "\n",
      "Active minutes per day(2020-08-03 00:00:00) in Private dialog\n",
      "\n",
      "\n",
      "Active minutes per day(2020-08-03 00:00:00) in Group\n",
      "\n",
      "\n",
      "Active minutes per day(2020-08-04 00:00:00) in Private dialog\n",
      "Time spend on conversation: dialog Бек Андрій Уку 5.44 minutes\n",
      "\n",
      "\n",
      "Active minutes per day(2020-08-04 00:00:00) in Group\n",
      "\n",
      "\n",
      "Active minutes per day(2020-08-05 00:00:00) in Private dialog\n",
      "Time spend on conversation: dialog Denys Herasymuk 6.35 minutes\n",
      "\n",
      "\n",
      "Active minutes per day(2020-08-05 00:00:00) in Group\n",
      "\n",
      "\n",
      "Active minutes per day(2020-08-06 00:00:00) in Private dialog\n",
      "Time spend on conversation: dialog Denys Herasymuk 6.6 minutes\n",
      "\n",
      "\n",
      "Active minutes per day(2020-08-06 00:00:00) in Group\n",
      "\n",
      "\n",
      "Active minutes per day(2020-08-07 00:00:00) in Private dialog\n",
      "\n",
      "\n",
      "Active minutes per day(2020-08-07 00:00:00) in Group\n",
      "Time spend on conversation: dialog UGS Q&A 1.73 minutes\n",
      "\n",
      "\n",
      "Active minutes per day(2020-08-08 00:00:00) in Private dialog\n",
      "Time spend on conversation: dialog Denys Herasymuk 1.56 minutes\n",
      "Time spend on conversation: dialog Бек Андрій Уку 8.23 minutes\n",
      "\n",
      "\n",
      "Active minutes per day(2020-08-08 00:00:00) in Group\n",
      "\n",
      "\n",
      "Active minutes per day(2020-08-09 00:00:00) in Private dialog\n",
      "\n",
      "\n",
      "Active minutes per day(2020-08-09 00:00:00) in Group\n",
      "\n",
      "\n",
      "Active minutes per day(2020-08-10 00:00:00) in Private dialog\n",
      "Time spend on conversation: dialog Denys Herasymuk 1.04 minutes\n",
      "Time spend on conversation: dialog Бек Андрій Уку 1.06 minutes\n",
      "\n",
      "\n",
      "Active minutes per day(2020-08-10 00:00:00) in Group\n",
      "\n",
      "\n",
      "Active minutes per day(2020-08-11 00:00:00) in Private dialog\n",
      "\n",
      "\n",
      "Active minutes per day(2020-08-11 00:00:00) in Group\n",
      "\n",
      "\n",
      "Active minutes per day(2020-08-12 00:00:00) in Private dialog\n",
      "Time spend on conversation: dialog Denys Herasymuk 10.93 minutes\n",
      "\n",
      "\n",
      "Active minutes per day(2020-08-12 00:00:00) in Group\n",
      "\n",
      "\n",
      "Active minutes per day(2020-08-13 00:00:00) in Private dialog\n",
      "\n",
      "\n",
      "Active minutes per day(2020-08-13 00:00:00) in Group\n",
      "\n",
      "\n",
      "Active minutes per day(2020-08-14 00:00:00) in Private dialog\n",
      "\n",
      "\n",
      "Active minutes per day(2020-08-14 00:00:00) in Group\n",
      "\n",
      "\n",
      "Active minutes per day(2020-08-15 00:00:00) in Private dialog\n",
      "\n",
      "\n",
      "Active minutes per day(2020-08-15 00:00:00) in Group\n",
      "Time spend on conversation: dialog UGS Q&A 1.02 minutes\n",
      "\n",
      "\n",
      "Active minutes per day(2020-08-16 00:00:00) in Private dialog\n",
      "\n",
      "\n",
      "Active minutes per day(2020-08-16 00:00:00) in Group\n",
      "\n",
      "\n",
      "Active minutes per day(2020-08-17 00:00:00) in Private dialog\n",
      "Time spend on conversation: dialog Denys Herasymuk 1.98 minutes\n",
      "\n",
      "\n",
      "Active minutes per day(2020-08-17 00:00:00) in Group\n",
      "\n",
      "\n",
      "Active minutes per day(2020-08-18 00:00:00) in Private dialog\n",
      "Time spend on conversation: dialog Denys Herasymuk 1.03 minutes\n",
      "\n",
      "\n",
      "Active minutes per day(2020-08-18 00:00:00) in Group\n",
      "\n",
      "\n",
      "Active minutes per day(2020-08-19 00:00:00) in Private dialog\n",
      "\n",
      "\n",
      "Active minutes per day(2020-08-19 00:00:00) in Group\n",
      "\n",
      "\n",
      "Active minutes per day(2020-08-20 00:00:00) in Private dialog\n",
      "Time spend on conversation: dialog Бек Андрій Уку 10.84 minutes\n",
      "\n",
      "\n",
      "Active minutes per day(2020-08-20 00:00:00) in Group\n",
      "\n",
      "\n",
      "Active minutes per day(2020-08-21 00:00:00) in Private dialog\n",
      "\n",
      "\n",
      "Active minutes per day(2020-08-21 00:00:00) in Group\n",
      "\n",
      "\n",
      "Active minutes per day(2020-08-22 00:00:00) in Private dialog\n",
      "\n",
      "\n",
      "Active minutes per day(2020-08-22 00:00:00) in Group\n",
      "\n",
      "\n",
      "Active minutes per day(2020-08-23 00:00:00) in Private dialog\n",
      "\n",
      "\n",
      "Active minutes per day(2020-08-23 00:00:00) in Group\n",
      "\n",
      "\n",
      "Active minutes per day(2020-08-24 00:00:00) in Private dialog\n",
      "\n",
      "\n",
      "Active minutes per day(2020-08-24 00:00:00) in Group\n",
      "\n",
      "\n",
      "Active minutes per day(2020-08-25 00:00:00) in Private dialog\n",
      "\n",
      "\n",
      "Active minutes per day(2020-08-25 00:00:00) in Group\n",
      "\n",
      "\n",
      "Active minutes per day(2020-08-26 00:00:00) in Private dialog\n",
      "\n",
      "\n",
      "Active minutes per day(2020-08-26 00:00:00) in Group\n",
      "\n",
      "\n",
      "Active minutes per day(2020-08-27 00:00:00) in Private dialog\n",
      "\n",
      "\n",
      "Active minutes per day(2020-08-27 00:00:00) in Group\n",
      "Time spend on conversation: dialog UGS Q&A 1.74 minutes\n",
      "\n",
      "\n",
      "Active minutes per day(2020-08-28 00:00:00) in Private dialog\n",
      "Time spend on conversation: dialog Обходные стратегии 1.2 minutes\n",
      "\n",
      "\n",
      "Active minutes per day(2020-08-28 00:00:00) in Group\n",
      "\n",
      "\n",
      "Active minutes per day(2020-08-29 00:00:00) in Private dialog\n",
      "\n",
      "\n",
      "Active minutes per day(2020-08-29 00:00:00) in Group\n",
      "\n",
      "\n",
      "Active minutes per day(2020-08-30 00:00:00) in Private dialog\n",
      "\n",
      "\n",
      "Active minutes per day(2020-08-30 00:00:00) in Group\n",
      "\n",
      "\n",
      "Active minutes per day(2020-08-01 00:00:00) in Private dialog\n",
      "\n",
      "\n",
      "Active minutes per day(2020-08-01 00:00:00) in Group\n",
      "\n",
      "\n",
      "Active minutes per day(2020-08-02 00:00:00) in Private dialog\n",
      "\n",
      "\n",
      "Active minutes per day(2020-08-02 00:00:00) in Group\n",
      "\n",
      "\n",
      "Active minutes per day(2020-08-03 00:00:00) in Private dialog\n",
      "\n",
      "\n",
      "Active minutes per day(2020-08-03 00:00:00) in Group\n",
      "\n",
      "\n",
      "Active minutes per day(2020-08-04 00:00:00) in Private dialog\n",
      "Time spend on conversation: dialog Бек Андрій Уку 5.44 minutes\n",
      "\n",
      "\n",
      "Active minutes per day(2020-08-04 00:00:00) in Group\n",
      "\n",
      "\n",
      "Active minutes per day(2020-08-05 00:00:00) in Private dialog\n",
      "Time spend on conversation: dialog Denys Herasymuk 6.35 minutes\n",
      "\n",
      "\n",
      "Active minutes per day(2020-08-05 00:00:00) in Group\n",
      "\n",
      "\n",
      "Active minutes per day(2020-08-06 00:00:00) in Private dialog\n",
      "Time spend on conversation: dialog Denys Herasymuk 6.6 minutes\n",
      "\n",
      "\n",
      "Active minutes per day(2020-08-06 00:00:00) in Group\n",
      "\n",
      "\n",
      "Active minutes per day(2020-08-07 00:00:00) in Private dialog\n",
      "\n",
      "\n",
      "Active minutes per day(2020-08-07 00:00:00) in Group\n",
      "Time spend on conversation: dialog UGS Q&A 1.73 minutes\n",
      "\n",
      "\n",
      "Active minutes per day(2020-08-08 00:00:00) in Private dialog\n",
      "Time spend on conversation: dialog Denys Herasymuk 1.56 minutes\n",
      "Time spend on conversation: dialog Бек Андрій Уку 8.23 minutes\n",
      "\n",
      "\n",
      "Active minutes per day(2020-08-08 00:00:00) in Group\n",
      "\n",
      "\n",
      "Active minutes per day(2020-08-09 00:00:00) in Private dialog\n",
      "\n",
      "\n",
      "Active minutes per day(2020-08-09 00:00:00) in Group\n",
      "\n",
      "\n",
      "Active minutes per day(2020-08-10 00:00:00) in Private dialog\n",
      "Time spend on conversation: dialog Denys Herasymuk 1.04 minutes\n",
      "Time spend on conversation: dialog Бек Андрій Уку 1.06 minutes\n",
      "\n",
      "\n",
      "Active minutes per day(2020-08-10 00:00:00) in Group\n",
      "\n",
      "\n",
      "Active minutes per day(2020-08-11 00:00:00) in Private dialog\n",
      "\n",
      "\n",
      "Active minutes per day(2020-08-11 00:00:00) in Group\n",
      "\n",
      "\n",
      "Active minutes per day(2020-08-12 00:00:00) in Private dialog\n",
      "Time spend on conversation: dialog Denys Herasymuk 10.93 minutes\n",
      "\n",
      "\n",
      "Active minutes per day(2020-08-12 00:00:00) in Group\n",
      "\n",
      "\n",
      "Active minutes per day(2020-08-13 00:00:00) in Private dialog\n",
      "\n",
      "\n",
      "Active minutes per day(2020-08-13 00:00:00) in Group\n",
      "\n",
      "\n",
      "Active minutes per day(2020-08-14 00:00:00) in Private dialog\n",
      "\n",
      "\n",
      "Active minutes per day(2020-08-14 00:00:00) in Group\n",
      "\n",
      "\n",
      "Active minutes per day(2020-08-15 00:00:00) in Private dialog\n",
      "\n",
      "\n",
      "Active minutes per day(2020-08-15 00:00:00) in Group\n",
      "Time spend on conversation: dialog UGS Q&A 1.02 minutes\n",
      "\n",
      "\n",
      "Active minutes per day(2020-08-16 00:00:00) in Private dialog\n",
      "\n",
      "\n",
      "Active minutes per day(2020-08-16 00:00:00) in Group\n",
      "\n",
      "\n",
      "Active minutes per day(2020-08-17 00:00:00) in Private dialog\n",
      "Time spend on conversation: dialog Denys Herasymuk 1.98 minutes\n",
      "\n",
      "\n",
      "Active minutes per day(2020-08-17 00:00:00) in Group\n",
      "\n",
      "\n",
      "Active minutes per day(2020-08-18 00:00:00) in Private dialog\n",
      "Time spend on conversation: dialog Denys Herasymuk 1.03 minutes\n",
      "\n",
      "\n",
      "Active minutes per day(2020-08-18 00:00:00) in Group\n",
      "\n",
      "\n",
      "Active minutes per day(2020-08-19 00:00:00) in Private dialog\n",
      "\n",
      "\n",
      "Active minutes per day(2020-08-19 00:00:00) in Group\n",
      "\n",
      "\n",
      "Active minutes per day(2020-08-20 00:00:00) in Private dialog\n",
      "Time spend on conversation: dialog Бек Андрій Уку 10.84 minutes\n",
      "\n",
      "\n",
      "Active minutes per day(2020-08-20 00:00:00) in Group\n",
      "\n",
      "\n",
      "Active minutes per day(2020-08-21 00:00:00) in Private dialog\n",
      "\n",
      "\n",
      "Active minutes per day(2020-08-21 00:00:00) in Group\n",
      "\n",
      "\n",
      "Active minutes per day(2020-08-22 00:00:00) in Private dialog\n",
      "\n",
      "\n",
      "Active minutes per day(2020-08-22 00:00:00) in Group\n",
      "\n",
      "\n",
      "Active minutes per day(2020-08-23 00:00:00) in Private dialog\n",
      "\n",
      "\n",
      "Active minutes per day(2020-08-23 00:00:00) in Group\n",
      "\n",
      "\n",
      "Active minutes per day(2020-08-24 00:00:00) in Private dialog\n",
      "\n",
      "\n",
      "Active minutes per day(2020-08-24 00:00:00) in Group\n",
      "\n",
      "\n",
      "Active minutes per day(2020-08-25 00:00:00) in Private dialog\n",
      "\n",
      "\n",
      "Active minutes per day(2020-08-25 00:00:00) in Group\n",
      "\n",
      "\n",
      "Active minutes per day(2020-08-26 00:00:00) in Private dialog\n",
      "\n",
      "\n",
      "Active minutes per day(2020-08-26 00:00:00) in Group\n",
      "\n",
      "\n",
      "Active minutes per day(2020-08-27 00:00:00) in Private dialog\n",
      "\n",
      "\n",
      "Active minutes per day(2020-08-27 00:00:00) in Group\n",
      "Time spend on conversation: dialog UGS Q&A 1.74 minutes\n",
      "\n",
      "\n",
      "Active minutes per day(2020-08-28 00:00:00) in Private dialog\n",
      "Time spend on conversation: dialog Обходные стратегии 1.2 minutes\n",
      "\n",
      "\n",
      "Active minutes per day(2020-08-28 00:00:00) in Group\n",
      "\n",
      "\n",
      "Active minutes per day(2020-08-29 00:00:00) in Private dialog\n",
      "\n",
      "\n",
      "Active minutes per day(2020-08-29 00:00:00) in Group\n",
      "\n",
      "\n",
      "Active minutes per day(2020-08-30 00:00:00) in Private dialog\n",
      "\n",
      "\n",
      "Active minutes per day(2020-08-30 00:00:00) in Group\n",
      "\n",
      "\n",
      "Active minutes per day(2020-08-31 00:00:00) in Private dialog\n",
      "Time spend on conversation: dialog Andrew Kurochkin 1.57 minutes\n",
      "Time spend on conversation: dialog Назар Поночевний 5.5 minutes\n",
      "Time spend on conversation: dialog Denys Herasymuk 1.03 minutes\n",
      "\n",
      "\n",
      "Active minutes per day(2020-08-31 00:00:00) in Group\n",
      "\n",
      "\n",
      "Active minutes per day(2020-09-01 00:00:00) in Private dialog\n",
      "Time spend on conversation: dialog Denys Herasymuk 9.74 minutes\n",
      "Time spend on conversation: dialog Саша Дерен ЕПЕ 16.67 minutes\n",
      "\n",
      "\n",
      "Active minutes per day(2020-09-01 00:00:00) in Group\n",
      "\n",
      "\n",
      "Active minutes per day(2020-09-02 00:00:00) in Private dialog\n",
      "Time spend on conversation: dialog Denys Herasymuk 2.19 minutes\n",
      "Time spend on conversation: dialog Саша Дерен ЕПЕ 10.56 minutes\n",
      "Time spend on conversation: dialog Бек Андрій Уку 2.93 minutes\n",
      "\n",
      "\n",
      "Active minutes per day(2020-09-02 00:00:00) in Group\n",
      "Time spend on conversation: dialog Курси та навчання 2.67 minutes\n",
      "\n",
      "\n",
      "Active minutes per day(2020-09-03 00:00:00) in Private dialog\n",
      "Time spend on conversation: dialog Denys Herasymuk 1.26 minutes\n",
      "Time spend on conversation: dialog Саша Дерен ЕПЕ 3.42 minutes\n",
      "Time spend on conversation: dialog Бек Андрій Уку 1.43 minutes\n",
      "\n",
      "\n",
      "Active minutes per day(2020-09-03 00:00:00) in Group\n",
      "\n",
      "\n",
      "Active minutes per day(2020-09-04 00:00:00) in Private dialog\n",
      "Time spend on conversation: dialog Марк 1.56 minutes\n",
      "\n",
      "\n",
      "Active minutes per day(2020-09-04 00:00:00) in Group\n",
      "Time spend on conversation: dialog APPS@UCU (всі) ❤️ 3.47 minutes\n",
      "\n",
      "\n",
      "Active minutes per day(2020-09-05 00:00:00) in Private dialog\n",
      "Time spend on conversation: dialog Andrew Kurochkin 12.83 minutes\n",
      "\n",
      "\n",
      "Active minutes per day(2020-09-05 00:00:00) in Group\n",
      "Time spend on conversation: dialog APPS@UCU (всі) ❤️ 1.08 minutes\n",
      "Time spend on conversation: dialog Group 3.31 minutes\n",
      "\n",
      "\n",
      "Active minutes per day(2020-09-06 00:00:00) in Private dialog\n",
      "Time spend on conversation: dialog Марк 1.38 minutes\n",
      "\n",
      "\n",
      "Active minutes per day(2020-09-06 00:00:00) in Group\n",
      "Time spend on conversation: dialog React Kyiv 1.17 minutes\n",
      "Time spend on conversation: dialog Group 4.57 minutes\n",
      "\n",
      "\n",
      "Active minutes per day(2020-09-07 00:00:00) in Private dialog\n",
      "Time spend on conversation: dialog Andrew Kurochkin 15.31 minutes\n",
      "Time spend on conversation: dialog Назар Поночевний 1.66 minutes\n",
      "Time spend on conversation: dialog Denys Herasymuk 1.01 minutes\n",
      "\n",
      "\n",
      "Active minutes per day(2020-09-07 00:00:00) in Group\n",
      "Time spend on conversation: dialog Linux@ucu 3.38 minutes\n",
      "Time spend on conversation: dialog Group 4.63 minutes\n",
      "\n",
      "\n",
      "Active minutes per day(2020-09-08 00:00:00) in Private dialog\n",
      "Time spend on conversation: dialog Назар Поночевний 9.17 minutes\n",
      "Time spend on conversation: dialog Марк 7.82 minutes\n",
      "Time spend on conversation: dialog Denys Herasymuk 24.3 minutes\n",
      "\n",
      "\n",
      "Active minutes per day(2020-09-08 00:00:00) in Group\n",
      "Time spend on conversation: dialog React Kyiv 1.23 minutes\n",
      "Time spend on conversation: dialog Крильце Надії 1.04 minutes\n",
      "Time spend on conversation: dialog d2v 1.86 minutes\n",
      "\n",
      "\n",
      "Active minutes per day(2020-09-09 00:00:00) in Private dialog\n",
      "Time spend on conversation: dialog Andrew Kurochkin 9.87 minutes\n",
      "Time spend on conversation: dialog Назар Поночевний 4.59 minutes\n",
      "Time spend on conversation: dialog Марк 2.14 minutes\n",
      "Time spend on conversation: dialog Микола Карате 2.19 minutes\n",
      "\n",
      "\n",
      "Active minutes per day(2020-09-09 00:00:00) in Group\n",
      "Time spend on conversation: dialog BookCrossing - Обмен книгами 2.75 minutes\n",
      "Time spend on conversation: dialog React Kyiv 2.98 minutes\n",
      "Time spend on conversation: dialog Arch Linux RU 1.41 minutes\n",
      "Time spend on conversation: dialog УКУ Рандом | REBOOTED 1.46 minutes\n",
      "Time spend on conversation: dialog sns_internships 5.23 minutes\n",
      "Time spend on conversation: dialog Linux@ucu 1.44 minutes\n",
      "Time spend on conversation: dialog d2v 12.13 minutes\n",
      "\n",
      "\n",
      "Active minutes per day(2020-09-10 00:00:00) in Private dialog\n",
      "Time spend on conversation: dialog Марк 9.74 minutes\n",
      "Time spend on conversation: dialog Denys Herasymuk 10.36 minutes\n",
      "Time spend on conversation: dialog Саша Дерен ЕПЕ 4.6 minutes\n",
      "Time spend on conversation: dialog Бек Андрій Уку 3.46 minutes\n",
      "\n",
      "\n",
      "Active minutes per day(2020-09-10 00:00:00) in Group\n",
      "Time spend on conversation: dialog BookCrossing - Обмен книгами 1.36 minutes\n",
      "Time spend on conversation: dialog Arch Linux RU 5.34 minutes\n",
      "Time spend on conversation: dialog УКУ Рандом | REBOOTED 2.23 minutes\n",
      "Time spend on conversation: dialog d2v 27.18 minutes\n",
      "\n",
      "\n",
      "Active minutes per day(2020-09-11 00:00:00) in Private dialog\n",
      "\n",
      "\n",
      "Active minutes per day(2020-09-11 00:00:00) in Group\n",
      "\n",
      "\n",
      "Active minutes per day(2020-09-12 00:00:00) in Private dialog\n",
      "\n",
      "\n",
      "Active minutes per day(2020-09-12 00:00:00) in Group\n",
      "\n",
      "\n",
      "Active minutes per day(2020-09-13 00:00:00) in Private dialog\n",
      "\n",
      "\n",
      "Active minutes per day(2020-09-13 00:00:00) in Group\n",
      "\n",
      "\n",
      "Active minutes per day(2020-09-14 00:00:00) in Private dialog\n",
      "\n",
      "\n",
      "Active minutes per day(2020-09-14 00:00:00) in Group\n",
      "\n",
      "\n",
      "Active minutes per day(2020-09-15 00:00:00) in Private dialog\n",
      "\n",
      "\n",
      "Active minutes per day(2020-09-15 00:00:00) in Group\n",
      "\n",
      "\n",
      "Active minutes per day(2020-09-16 00:00:00) in Private dialog\n",
      "\n",
      "\n",
      "Active minutes per day(2020-09-16 00:00:00) in Group\n",
      "\n",
      "\n",
      "Active minutes per day(2020-09-17 00:00:00) in Private dialog\n",
      "\n",
      "\n",
      "Active minutes per day(2020-09-17 00:00:00) in Group\n",
      "\n",
      "\n",
      "Active minutes per day(2020-09-18 00:00:00) in Private dialog\n",
      "\n",
      "\n",
      "Active minutes per day(2020-09-18 00:00:00) in Group\n",
      "\n",
      "\n",
      "Active minutes per day(2020-09-19 00:00:00) in Private dialog\n",
      "\n",
      "\n",
      "Active minutes per day(2020-09-19 00:00:00) in Group\n",
      "\n",
      "\n",
      "Active minutes per day(2020-09-20 00:00:00) in Private dialog\n",
      "\n",
      "\n",
      "Active minutes per day(2020-09-20 00:00:00) in Group\n",
      "\n",
      "\n",
      "Active minutes per day(2020-09-21 00:00:00) in Private dialog\n",
      "\n",
      "\n",
      "Active minutes per day(2020-09-21 00:00:00) in Group\n",
      "\n",
      "\n",
      "Active minutes per day(2020-09-22 00:00:00) in Private dialog\n",
      "\n",
      "\n",
      "Active minutes per day(2020-09-22 00:00:00) in Group\n",
      "\n",
      "\n",
      "Active minutes per day(2020-09-23 00:00:00) in Private dialog\n",
      "\n",
      "\n",
      "Active minutes per day(2020-09-23 00:00:00) in Group\n",
      "\n",
      "\n",
      "Active minutes per day(2020-09-24 00:00:00) in Private dialog\n",
      "\n",
      "\n",
      "Active minutes per day(2020-09-24 00:00:00) in Group\n",
      "\n",
      "\n",
      "Active minutes per day(2020-09-25 00:00:00) in Private dialog\n",
      "\n",
      "\n",
      "Active minutes per day(2020-09-25 00:00:00) in Group\n",
      "\n",
      "\n",
      "Active minutes per day(2020-09-26 00:00:00) in Private dialog\n",
      "\n",
      "\n",
      "Active minutes per day(2020-09-26 00:00:00) in Group\n",
      "\n",
      "\n",
      "Active minutes per day(2020-09-27 00:00:00) in Private dialog\n",
      "\n",
      "\n",
      "Active minutes per day(2020-09-27 00:00:00) in Group\n",
      "\n",
      "\n",
      "Active minutes per day(2020-09-28 00:00:00) in Private dialog\n",
      "\n",
      "\n",
      "Active minutes per day(2020-09-28 00:00:00) in Group\n",
      "\n",
      "\n",
      "Active minutes per day(2020-09-29 00:00:00) in Private dialog\n",
      "\n",
      "\n",
      "Active minutes per day(2020-09-29 00:00:00) in Group\n",
      "\n",
      "\n",
      "Active minutes per day(2020-09-30 00:00:00) in Private dialog\n",
      "\n",
      "\n",
      "Active minutes per day(2020-09-30 00:00:00) in Group\n",
      "\n",
      "\n",
      "Active minutes per day(2020-10-01 00:00:00) in Private dialog\n",
      "\n",
      "\n",
      "Active minutes per day(2020-10-01 00:00:00) in Group\n",
      "\n",
      "\n",
      "Active minutes per day(2020-10-02 00:00:00) in Private dialog\n",
      "\n",
      "\n",
      "Active minutes per day(2020-10-02 00:00:00) in Group\n",
      "\n",
      "\n",
      "Active minutes per day(2020-10-03 00:00:00) in Private dialog\n",
      "\n",
      "\n",
      "Active minutes per day(2020-10-03 00:00:00) in Group\n",
      "\n",
      "\n",
      "Active minutes per day(2020-10-04 00:00:00) in Private dialog\n",
      "\n",
      "\n",
      "Active minutes per day(2020-10-04 00:00:00) in Group\n",
      "\n",
      "\n",
      "Active minutes per day(2020-10-05 00:00:00) in Private dialog\n",
      "\n",
      "\n",
      "Active minutes per day(2020-10-05 00:00:00) in Group\n",
      "\n",
      "\n",
      "Active minutes per day(2020-10-06 00:00:00) in Private dialog\n",
      "\n",
      "\n",
      "Active minutes per day(2020-10-06 00:00:00) in Group\n",
      "\n",
      "\n",
      "Active minutes per day(2020-10-07 00:00:00) in Private dialog\n",
      "\n",
      "\n",
      "Active minutes per day(2020-10-07 00:00:00) in Group\n",
      "\n",
      "\n",
      "Active minutes per day(2020-10-08 00:00:00) in Private dialog\n",
      "\n",
      "\n",
      "Active minutes per day(2020-10-08 00:00:00) in Group\n",
      "\n",
      "\n",
      "Active minutes per day(2020-10-09 00:00:00) in Private dialog\n",
      "\n",
      "\n",
      "Active minutes per day(2020-10-09 00:00:00) in Group\n",
      "\n",
      "\n",
      "Active minutes per day(2020-10-10 00:00:00) in Private dialog\n",
      "\n",
      "\n",
      "Active minutes per day(2020-10-10 00:00:00) in Group\n",
      "\n",
      "\n",
      "Active minutes per day(2020-10-11 00:00:00) in Private dialog\n",
      "\n",
      "\n",
      "Active minutes per day(2020-10-11 00:00:00) in Group\n",
      "\n",
      "\n",
      "Active minutes per day(2020-10-12 00:00:00) in Private dialog\n",
      "\n",
      "\n",
      "Active minutes per day(2020-10-12 00:00:00) in Group\n",
      "\n",
      "\n",
      "Active minutes per day(2020-10-13 00:00:00) in Private dialog\n",
      "\n",
      "\n",
      "Active minutes per day(2020-10-13 00:00:00) in Group\n",
      "\n",
      "\n",
      "Active minutes per day(2020-10-14 00:00:00) in Private dialog\n",
      "\n",
      "\n",
      "Active minutes per day(2020-10-14 00:00:00) in Group\n",
      "\n",
      "\n",
      "Active minutes per day(2020-10-15 00:00:00) in Private dialog\n",
      "\n",
      "\n",
      "Active minutes per day(2020-10-15 00:00:00) in Group\n",
      "\n",
      "\n",
      "Active minutes per day(2020-10-16 00:00:00) in Private dialog\n",
      "\n",
      "\n",
      "Active minutes per day(2020-10-16 00:00:00) in Group\n",
      "\n",
      "\n",
      "Active minutes per day(2020-10-17 00:00:00) in Private dialog\n",
      "\n",
      "\n",
      "Active minutes per day(2020-10-17 00:00:00) in Group\n",
      "\n",
      "\n",
      "Active minutes per day(2020-10-18 00:00:00) in Private dialog\n",
      "\n",
      "\n",
      "Active minutes per day(2020-10-18 00:00:00) in Group\n",
      "\n",
      "\n",
      "Active minutes per day(2020-10-19 00:00:00) in Private dialog\n",
      "\n",
      "\n",
      "Active minutes per day(2020-10-19 00:00:00) in Group\n",
      "\n",
      "\n",
      "Active minutes per day(2020-10-20 00:00:00) in Private dialog\n",
      "\n",
      "\n",
      "Active minutes per day(2020-10-20 00:00:00) in Group\n",
      "\n",
      "\n",
      "Active minutes per day(2020-10-21 00:00:00) in Private dialog\n",
      "\n",
      "\n",
      "Active minutes per day(2020-10-21 00:00:00) in Group\n",
      "\n",
      "\n",
      "Active minutes per day(2020-10-22 00:00:00) in Private dialog\n",
      "\n",
      "\n",
      "Active minutes per day(2020-10-22 00:00:00) in Group\n",
      "\n",
      "\n",
      "Active minutes per day(2020-10-23 00:00:00) in Private dialog\n",
      "\n",
      "\n",
      "Active minutes per day(2020-10-23 00:00:00) in Group\n",
      "\n",
      "\n",
      "Active minutes per day(2020-10-24 00:00:00) in Private dialog\n",
      "\n",
      "\n",
      "Active minutes per day(2020-10-24 00:00:00) in Group\n",
      "\n",
      "\n",
      "Active minutes per day(2020-10-25 00:00:00) in Private dialog\n",
      "\n",
      "\n",
      "Active minutes per day(2020-10-25 00:00:00) in Group\n",
      "\n",
      "\n",
      "Active minutes per day(2020-10-26 00:00:00) in Private dialog\n",
      "\n",
      "\n",
      "Active minutes per day(2020-10-26 00:00:00) in Group\n",
      "\n",
      "\n",
      "Active minutes per day(2020-10-27 00:00:00) in Private dialog\n",
      "\n",
      "\n",
      "Active minutes per day(2020-10-27 00:00:00) in Group\n",
      "\n",
      "\n",
      "Active minutes per day(2020-10-28 00:00:00) in Private dialog\n",
      "\n",
      "\n",
      "Active minutes per day(2020-10-28 00:00:00) in Group\n",
      "\n",
      "\n",
      "Active minutes per day(2020-10-29 00:00:00) in Private dialog\n",
      "\n",
      "\n",
      "Active minutes per day(2020-10-29 00:00:00) in Group\n",
      "\n",
      "\n",
      "Active minutes per day(2020-10-30 00:00:00) in Private dialog\n",
      "\n",
      "\n",
      "Active minutes per day(2020-10-30 00:00:00) in Group\n",
      "\n",
      "\n",
      "Active minutes per day(2020-10-31 00:00:00) in Private dialog\n",
      "\n",
      "\n",
      "Active minutes per day(2020-10-31 00:00:00) in Group\n",
      "\n",
      "\n",
      "Active minutes per day(2020-11-01 00:00:00) in Private dialog\n",
      "\n",
      "\n",
      "Active minutes per day(2020-11-01 00:00:00) in Group\n",
      "\n",
      "\n",
      "Active minutes per day(2020-11-02 00:00:00) in Private dialog\n",
      "\n",
      "\n",
      "Active minutes per day(2020-11-02 00:00:00) in Group\n",
      "\n",
      "\n",
      "Active minutes per day(2020-11-03 00:00:00) in Private dialog\n",
      "\n",
      "\n",
      "Active minutes per day(2020-11-03 00:00:00) in Group\n",
      "\n",
      "\n",
      "Active minutes per day(2020-11-04 00:00:00) in Private dialog\n",
      "\n",
      "\n",
      "Active minutes per day(2020-11-04 00:00:00) in Group\n",
      "\n",
      "\n",
      "Active minutes per day(2020-11-05 00:00:00) in Private dialog\n",
      "\n",
      "\n",
      "Active minutes per day(2020-11-05 00:00:00) in Group\n",
      "\n",
      "\n",
      "Active minutes per day(2020-11-06 00:00:00) in Private dialog\n",
      "\n",
      "\n",
      "Active minutes per day(2020-11-06 00:00:00) in Group\n",
      "\n",
      "\n",
      "Active minutes per day(2020-11-07 00:00:00) in Private dialog\n",
      "\n",
      "\n",
      "Active minutes per day(2020-11-07 00:00:00) in Group\n",
      "\n",
      "\n",
      "Active minutes per day(2020-11-08 00:00:00) in Private dialog\n",
      "\n",
      "\n",
      "Active minutes per day(2020-11-08 00:00:00) in Group\n",
      "\n",
      "\n",
      "Active minutes per day(2020-11-09 00:00:00) in Private dialog\n",
      "\n",
      "\n",
      "Active minutes per day(2020-11-09 00:00:00) in Group\n",
      "\n",
      "\n",
      "Active minutes per day(2020-11-10 00:00:00) in Private dialog\n",
      "\n",
      "\n",
      "Active minutes per day(2020-11-10 00:00:00) in Group\n",
      "\n",
      "\n",
      "Active minutes per day(2020-11-11 00:00:00) in Private dialog\n",
      "\n",
      "\n",
      "Active minutes per day(2020-11-11 00:00:00) in Group\n",
      "\n",
      "\n",
      "Active minutes per day(2020-11-12 00:00:00) in Private dialog\n",
      "\n",
      "\n",
      "Active minutes per day(2020-11-12 00:00:00) in Group\n",
      "\n",
      "\n",
      "Active minutes per day(2020-11-13 00:00:00) in Private dialog\n",
      "\n",
      "\n",
      "Active minutes per day(2020-11-13 00:00:00) in Group\n",
      "\n",
      "\n",
      "Active minutes per day(2020-11-14 00:00:00) in Private dialog\n",
      "\n",
      "\n",
      "Active minutes per day(2020-11-14 00:00:00) in Group\n",
      "\n",
      "\n",
      "Active minutes per day(2020-11-15 00:00:00) in Private dialog\n",
      "\n",
      "\n",
      "Active minutes per day(2020-11-15 00:00:00) in Group\n",
      "\n",
      "\n",
      "Active minutes per day(2020-11-16 00:00:00) in Private dialog\n",
      "\n",
      "\n",
      "Active minutes per day(2020-11-16 00:00:00) in Group\n",
      "\n",
      "\n",
      "Active minutes per day(2020-11-17 00:00:00) in Private dialog\n",
      "\n",
      "\n",
      "Active minutes per day(2020-11-17 00:00:00) in Group\n",
      "\n",
      "\n",
      "Active minutes per day(2020-11-18 00:00:00) in Private dialog\n",
      "\n",
      "\n",
      "Active minutes per day(2020-11-18 00:00:00) in Group\n",
      "\n",
      "\n",
      "Active minutes per day(2020-11-19 00:00:00) in Private dialog\n",
      "\n",
      "\n",
      "Active minutes per day(2020-11-19 00:00:00) in Group\n",
      "\n",
      "\n",
      "Active minutes per day(2020-11-20 00:00:00) in Private dialog\n",
      "\n",
      "\n",
      "Active minutes per day(2020-11-20 00:00:00) in Group\n",
      "\n",
      "\n",
      "Active minutes per day(2020-11-21 00:00:00) in Private dialog\n",
      "\n",
      "\n",
      "Active minutes per day(2020-11-21 00:00:00) in Group\n",
      "\n",
      "\n",
      "Active minutes per day(2020-11-22 00:00:00) in Private dialog\n",
      "\n",
      "\n",
      "Active minutes per day(2020-11-22 00:00:00) in Group\n",
      "\n",
      "\n",
      "Active minutes per day(2020-11-23 00:00:00) in Private dialog\n",
      "\n",
      "\n",
      "Active minutes per day(2020-11-23 00:00:00) in Group\n",
      "\n",
      "\n",
      "Active minutes per day(2020-11-24 00:00:00) in Private dialog\n",
      "\n",
      "\n",
      "Active minutes per day(2020-11-24 00:00:00) in Group\n",
      "\n",
      "\n",
      "Active minutes per day(2020-11-25 00:00:00) in Private dialog\n",
      "\n",
      "\n",
      "Active minutes per day(2020-11-25 00:00:00) in Group\n",
      "\n",
      "\n",
      "Active minutes per day(2020-11-26 00:00:00) in Private dialog\n",
      "\n",
      "\n",
      "Active minutes per day(2020-11-26 00:00:00) in Group\n",
      "\n",
      "\n",
      "Active minutes per day(2020-11-27 00:00:00) in Private dialog\n",
      "\n",
      "\n",
      "Active minutes per day(2020-11-27 00:00:00) in Group\n",
      "\n",
      "\n",
      "Active minutes per day(2020-11-28 00:00:00) in Private dialog\n",
      "\n",
      "\n",
      "Active minutes per day(2020-11-28 00:00:00) in Group\n",
      "\n",
      "\n",
      "Active minutes per day(2020-11-29 00:00:00) in Private dialog\n",
      "\n",
      "\n",
      "Active minutes per day(2020-11-29 00:00:00) in Group\n",
      "\n",
      "\n",
      "Active minutes per day(2020-11-30 00:00:00) in Private dialog\n",
      "\n",
      "\n",
      "Active minutes per day(2020-11-30 00:00:00) in Group\n",
      "\n",
      "\n",
      "Active minutes per day(2020-12-01 00:00:00) in Private dialog\n",
      "\n",
      "\n",
      "Active minutes per day(2020-12-01 00:00:00) in Group\n",
      "\n",
      "\n",
      "Active minutes per day(2020-12-02 00:00:00) in Private dialog\n",
      "\n",
      "\n",
      "Active minutes per day(2020-12-02 00:00:00) in Group\n",
      "\n",
      "\n",
      "Active minutes per day(2020-12-03 00:00:00) in Private dialog\n",
      "\n",
      "\n",
      "Active minutes per day(2020-12-03 00:00:00) in Group\n",
      "\n",
      "\n",
      "Active minutes per day(2020-12-04 00:00:00) in Private dialog\n",
      "\n",
      "\n",
      "Active minutes per day(2020-12-04 00:00:00) in Group\n",
      "\n",
      "\n",
      "Active minutes per day(2020-12-05 00:00:00) in Private dialog\n",
      "\n",
      "\n",
      "Active minutes per day(2020-12-05 00:00:00) in Group\n",
      "\n",
      "\n",
      "Active minutes per day(2020-12-06 00:00:00) in Private dialog\n",
      "\n",
      "\n",
      "Active minutes per day(2020-12-06 00:00:00) in Group\n",
      "\n",
      "\n",
      "Active minutes per day(2020-12-07 00:00:00) in Private dialog\n",
      "\n",
      "\n",
      "Active minutes per day(2020-12-07 00:00:00) in Group\n",
      "\n",
      "\n",
      "Active minutes per day(2020-12-08 00:00:00) in Private dialog\n",
      "\n",
      "\n",
      "Active minutes per day(2020-12-08 00:00:00) in Group\n",
      "\n",
      "\n",
      "Active minutes per day(2020-12-09 00:00:00) in Private dialog\n",
      "\n",
      "\n",
      "Active minutes per day(2020-12-09 00:00:00) in Group\n",
      "\n",
      "\n",
      "Active minutes per day(2020-12-10 00:00:00) in Private dialog\n",
      "\n",
      "\n",
      "Active minutes per day(2020-12-10 00:00:00) in Group\n",
      "\n",
      "\n",
      "Active minutes per day(2020-12-11 00:00:00) in Private dialog\n",
      "\n",
      "\n",
      "Active minutes per day(2020-12-11 00:00:00) in Group\n",
      "\n",
      "\n",
      "Active minutes per day(2020-12-12 00:00:00) in Private dialog\n",
      "\n",
      "\n",
      "Active minutes per day(2020-12-12 00:00:00) in Group\n",
      "\n",
      "\n",
      "Active minutes per day(2020-12-13 00:00:00) in Private dialog\n",
      "\n",
      "\n",
      "Active minutes per day(2020-12-13 00:00:00) in Group\n",
      "\n",
      "\n",
      "Active minutes per day(2020-12-14 00:00:00) in Private dialog\n",
      "\n",
      "\n",
      "Active minutes per day(2020-12-14 00:00:00) in Group\n",
      "\n",
      "\n",
      "Active minutes per day(2020-12-15 00:00:00) in Private dialog\n",
      "\n",
      "\n",
      "Active minutes per day(2020-12-15 00:00:00) in Group\n",
      "\n",
      "\n",
      "Active minutes per day(2020-12-16 00:00:00) in Private dialog\n",
      "\n",
      "\n",
      "Active minutes per day(2020-12-16 00:00:00) in Group\n",
      "\n",
      "\n",
      "Active minutes per day(2020-12-17 00:00:00) in Private dialog\n",
      "\n",
      "\n",
      "Active minutes per day(2020-12-17 00:00:00) in Group\n",
      "\n",
      "\n",
      "Active minutes per day(2020-12-18 00:00:00) in Private dialog\n",
      "\n",
      "\n",
      "Active minutes per day(2020-12-18 00:00:00) in Group\n",
      "\n",
      "\n",
      "Active minutes per day(2020-12-19 00:00:00) in Private dialog\n",
      "\n",
      "\n",
      "Active minutes per day(2020-12-19 00:00:00) in Group\n",
      "\n",
      "\n",
      "Active minutes per day(2020-12-20 00:00:00) in Private dialog\n",
      "\n",
      "\n",
      "Active minutes per day(2020-12-20 00:00:00) in Group\n",
      "\n",
      "\n",
      "Active minutes per day(2020-12-21 00:00:00) in Private dialog\n",
      "\n",
      "\n",
      "Active minutes per day(2020-12-21 00:00:00) in Group\n",
      "\n",
      "\n",
      "Active minutes per day(2020-12-22 00:00:00) in Private dialog\n",
      "\n",
      "\n",
      "Active minutes per day(2020-12-22 00:00:00) in Group\n",
      "\n",
      "\n",
      "Active minutes per day(2020-12-23 00:00:00) in Private dialog\n",
      "\n",
      "\n",
      "Active minutes per day(2020-12-23 00:00:00) in Group\n",
      "\n",
      "\n",
      "Active minutes per day(2020-12-24 00:00:00) in Private dialog\n",
      "\n",
      "\n",
      "Active minutes per day(2020-12-24 00:00:00) in Group\n",
      "\n",
      "\n",
      "Active minutes per day(2020-12-25 00:00:00) in Private dialog\n",
      "\n",
      "\n",
      "Active minutes per day(2020-12-25 00:00:00) in Group\n",
      "\n",
      "\n",
      "Active minutes per day(2020-12-26 00:00:00) in Private dialog\n",
      "\n",
      "\n",
      "Active minutes per day(2020-12-26 00:00:00) in Group\n",
      "\n",
      "\n",
      "Active minutes per day(2020-12-27 00:00:00) in Private dialog\n",
      "\n",
      "\n",
      "Active minutes per day(2020-12-27 00:00:00) in Group\n",
      "\n",
      "\n",
      "Active minutes per day(2020-12-28 00:00:00) in Private dialog\n",
      "\n",
      "\n",
      "Active minutes per day(2020-12-28 00:00:00) in Group\n",
      "\n",
      "\n",
      "Active minutes per day(2020-12-29 00:00:00) in Private dialog\n",
      "\n",
      "\n",
      "Active minutes per day(2020-12-29 00:00:00) in Group\n",
      "\n",
      "\n",
      "Active minutes per day(2020-12-30 00:00:00) in Private dialog\n",
      "\n",
      "\n",
      "Active minutes per day(2020-12-30 00:00:00) in Group\n",
      "\n",
      "\n",
      "Active minutes per day(2020-12-31 00:00:00) in Private dialog\n",
      "\n",
      "\n",
      "Active minutes per day(2020-12-31 00:00:00) in Group\n",
      "\n",
      "\n",
      "Active minutes per day(2021-01-01 00:00:00) in Private dialog\n",
      "\n",
      "\n",
      "Active minutes per day(2021-01-01 00:00:00) in Group\n",
      "\n",
      "\n",
      "Active minutes per day(2021-01-02 00:00:00) in Private dialog\n",
      "\n",
      "\n",
      "Active minutes per day(2021-01-02 00:00:00) in Group\n",
      "\n",
      "\n",
      "Active minutes per day(2021-01-03 00:00:00) in Private dialog\n",
      "\n",
      "\n",
      "Active minutes per day(2021-01-03 00:00:00) in Group\n",
      "\n",
      "\n",
      "Active minutes per day(2021-01-04 00:00:00) in Private dialog\n",
      "\n",
      "\n",
      "Active minutes per day(2021-01-04 00:00:00) in Group\n",
      "\n",
      "\n",
      "Active minutes per day(2021-01-05 00:00:00) in Private dialog\n",
      "\n",
      "\n",
      "Active minutes per day(2021-01-05 00:00:00) in Group\n",
      "\n",
      "\n",
      "Active minutes per day(2021-01-06 00:00:00) in Private dialog\n",
      "\n",
      "\n",
      "Active minutes per day(2021-01-06 00:00:00) in Group\n",
      "\n",
      "\n",
      "Active minutes per day(2021-01-07 00:00:00) in Private dialog\n",
      "\n",
      "\n",
      "Active minutes per day(2021-01-07 00:00:00) in Group\n",
      "\n",
      "\n",
      "Active minutes per day(2021-01-08 00:00:00) in Private dialog\n",
      "\n",
      "\n",
      "Active minutes per day(2021-01-08 00:00:00) in Group\n",
      "\n",
      "\n",
      "Active minutes per day(2021-01-09 00:00:00) in Private dialog\n",
      "\n",
      "\n",
      "Active minutes per day(2021-01-09 00:00:00) in Group\n",
      "\n",
      "\n",
      "Active minutes per day(2021-01-10 00:00:00) in Private dialog\n",
      "\n",
      "\n",
      "Active minutes per day(2021-01-10 00:00:00) in Group\n",
      "\n",
      "\n",
      "Active minutes per day(2021-01-11 00:00:00) in Private dialog\n",
      "\n",
      "\n",
      "Active minutes per day(2021-01-11 00:00:00) in Group\n",
      "\n",
      "\n",
      "Active minutes per day(2021-01-12 00:00:00) in Private dialog\n",
      "\n",
      "\n",
      "Active minutes per day(2021-01-12 00:00:00) in Group\n",
      "\n",
      "\n",
      "Active minutes per day(2021-01-13 00:00:00) in Private dialog\n",
      "\n",
      "\n",
      "Active minutes per day(2021-01-13 00:00:00) in Group\n",
      "\n",
      "\n",
      "Active minutes per day(2021-01-14 00:00:00) in Private dialog\n",
      "\n",
      "\n",
      "Active minutes per day(2021-01-14 00:00:00) in Group\n",
      "\n",
      "\n",
      "Active minutes per day(2021-01-15 00:00:00) in Private dialog\n",
      "\n",
      "\n",
      "Active minutes per day(2021-01-15 00:00:00) in Group\n",
      "\n",
      "\n",
      "Active minutes per day(2021-01-16 00:00:00) in Private dialog\n",
      "\n",
      "\n",
      "Active minutes per day(2021-01-16 00:00:00) in Group\n",
      "\n",
      "\n",
      "Active minutes per day(2021-01-17 00:00:00) in Private dialog\n",
      "\n",
      "\n",
      "Active minutes per day(2021-01-17 00:00:00) in Group\n",
      "\n",
      "\n",
      "Active minutes per day(2021-01-18 00:00:00) in Private dialog\n",
      "\n",
      "\n",
      "Active minutes per day(2021-01-18 00:00:00) in Group\n",
      "\n",
      "\n",
      "Active minutes per day(2021-01-19 00:00:00) in Private dialog\n",
      "\n",
      "\n",
      "Active minutes per day(2021-01-19 00:00:00) in Group\n",
      "\n",
      "\n",
      "Active minutes per day(2021-01-20 00:00:00) in Private dialog\n",
      "\n",
      "\n",
      "Active minutes per day(2021-01-20 00:00:00) in Group\n",
      "\n",
      "\n",
      "Active minutes per day(2021-01-21 00:00:00) in Private dialog\n",
      "\n",
      "\n",
      "Active minutes per day(2021-01-21 00:00:00) in Group\n",
      "\n",
      "\n",
      "Active minutes per day(2021-01-22 00:00:00) in Private dialog\n",
      "\n",
      "\n",
      "Active minutes per day(2021-01-22 00:00:00) in Group\n",
      "\n",
      "\n",
      "Active minutes per day(2021-01-23 00:00:00) in Private dialog\n",
      "\n",
      "\n",
      "Active minutes per day(2021-01-23 00:00:00) in Group\n",
      "\n",
      "\n",
      "Active minutes per day(2021-01-24 00:00:00) in Private dialog\n",
      "\n",
      "\n",
      "Active minutes per day(2021-01-24 00:00:00) in Group\n",
      "\n",
      "\n",
      "Active minutes per day(2021-01-25 00:00:00) in Private dialog\n",
      "\n",
      "\n",
      "Active minutes per day(2021-01-25 00:00:00) in Group\n",
      "\n",
      "\n",
      "Active minutes per day(2021-01-26 00:00:00) in Private dialog\n",
      "\n",
      "\n",
      "Active minutes per day(2021-01-26 00:00:00) in Group\n",
      "\n",
      "\n",
      "Active minutes per day(2021-01-27 00:00:00) in Private dialog\n",
      "\n",
      "\n",
      "Active minutes per day(2021-01-27 00:00:00) in Group\n",
      "\n",
      "\n",
      "Active minutes per day(2021-01-28 00:00:00) in Private dialog\n",
      "\n",
      "\n",
      "Active minutes per day(2021-01-28 00:00:00) in Group\n",
      "\n",
      "\n",
      "Active minutes per day(2021-01-29 00:00:00) in Private dialog\n",
      "\n",
      "\n",
      "Active minutes per day(2021-01-29 00:00:00) in Group\n",
      "\n",
      "\n",
      "Active minutes per day(2021-01-30 00:00:00) in Private dialog\n",
      "\n",
      "\n",
      "Active minutes per day(2021-01-30 00:00:00) in Group\n",
      "\n",
      "\n",
      "Active minutes per day(2021-01-31 00:00:00) in Private dialog\n",
      "\n",
      "\n",
      "Active minutes per day(2021-01-31 00:00:00) in Group\n",
      "\n",
      "\n",
      "Active minutes per day(2021-02-01 00:00:00) in Private dialog\n",
      "\n",
      "\n",
      "Active minutes per day(2021-02-01 00:00:00) in Group\n",
      "\n",
      "\n",
      "Active minutes per day(2021-02-02 00:00:00) in Private dialog\n",
      "\n",
      "\n",
      "Active minutes per day(2021-02-02 00:00:00) in Group\n",
      "\n",
      "\n",
      "Active minutes per day(2021-02-03 00:00:00) in Private dialog\n",
      "\n",
      "\n",
      "Active minutes per day(2021-02-03 00:00:00) in Group\n",
      "\n",
      "\n",
      "Active minutes per day(2021-02-04 00:00:00) in Private dialog\n",
      "\n",
      "\n",
      "Active minutes per day(2021-02-04 00:00:00) in Group\n",
      "\n",
      "\n",
      "Active minutes per day(2021-02-05 00:00:00) in Private dialog\n",
      "\n",
      "\n",
      "Active minutes per day(2021-02-05 00:00:00) in Group\n",
      "\n",
      "\n",
      "Active minutes per day(2021-02-06 00:00:00) in Private dialog\n",
      "\n",
      "\n",
      "Active minutes per day(2021-02-06 00:00:00) in Group\n",
      "\n",
      "\n",
      "Active minutes per day(2021-02-07 00:00:00) in Private dialog\n",
      "\n",
      "\n",
      "Active minutes per day(2021-02-07 00:00:00) in Group\n",
      "\n",
      "\n",
      "Active minutes per day(2021-02-08 00:00:00) in Private dialog\n",
      "\n",
      "\n",
      "Active minutes per day(2021-02-08 00:00:00) in Group\n",
      "\n",
      "\n",
      "Active minutes per day(2021-02-09 00:00:00) in Private dialog\n",
      "\n",
      "\n",
      "Active minutes per day(2021-02-09 00:00:00) in Group\n",
      "\n",
      "\n",
      "Active minutes per day(2021-02-10 00:00:00) in Private dialog\n",
      "\n",
      "\n",
      "Active minutes per day(2021-02-10 00:00:00) in Group\n",
      "\n",
      "\n",
      "Active minutes per day(2021-02-11 00:00:00) in Private dialog\n",
      "\n",
      "\n",
      "Active minutes per day(2021-02-11 00:00:00) in Group\n",
      "\n",
      "\n",
      "Active minutes per day(2021-02-12 00:00:00) in Private dialog\n",
      "\n",
      "\n",
      "Active minutes per day(2021-02-12 00:00:00) in Group\n",
      "\n",
      "\n",
      "Active minutes per day(2021-02-13 00:00:00) in Private dialog\n",
      "\n",
      "\n",
      "Active minutes per day(2021-02-13 00:00:00) in Group\n",
      "\n",
      "\n",
      "Active minutes per day(2021-02-14 00:00:00) in Private dialog\n",
      "\n",
      "\n",
      "Active minutes per day(2021-02-14 00:00:00) in Group\n",
      "\n",
      "\n",
      "Active minutes per day(2021-02-15 00:00:00) in Private dialog\n",
      "\n",
      "\n",
      "Active minutes per day(2021-02-15 00:00:00) in Group\n",
      "\n",
      "\n",
      "Active minutes per day(2021-02-16 00:00:00) in Private dialog\n",
      "\n",
      "\n",
      "Active minutes per day(2021-02-16 00:00:00) in Group\n",
      "\n",
      "\n",
      "Active minutes per day(2021-02-17 00:00:00) in Private dialog\n",
      "\n",
      "\n",
      "Active minutes per day(2021-02-17 00:00:00) in Group\n",
      "\n",
      "\n",
      "Active minutes per day(2021-02-18 00:00:00) in Private dialog\n",
      "\n",
      "\n",
      "Active minutes per day(2021-02-18 00:00:00) in Group\n",
      "\n",
      "\n",
      "Active minutes per day(2021-02-19 00:00:00) in Private dialog\n",
      "\n",
      "\n",
      "Active minutes per day(2021-02-19 00:00:00) in Group\n",
      "\n",
      "\n",
      "Active minutes per day(2021-02-20 00:00:00) in Private dialog\n",
      "\n",
      "\n",
      "Active minutes per day(2021-02-20 00:00:00) in Group\n",
      "\n",
      "\n",
      "Active minutes per day(2021-02-21 00:00:00) in Private dialog\n",
      "\n",
      "\n",
      "Active minutes per day(2021-02-21 00:00:00) in Group\n",
      "\n",
      "\n",
      "Active minutes per day(2021-02-22 00:00:00) in Private dialog\n",
      "\n",
      "\n",
      "Active minutes per day(2021-02-22 00:00:00) in Group\n",
      "\n",
      "\n",
      "Active minutes per day(2021-02-23 00:00:00) in Private dialog\n",
      "\n",
      "\n",
      "Active minutes per day(2021-02-23 00:00:00) in Group\n",
      "\n",
      "\n",
      "Active minutes per day(2021-02-24 00:00:00) in Private dialog\n",
      "\n",
      "\n",
      "Active minutes per day(2021-02-24 00:00:00) in Group\n",
      "\n",
      "\n",
      "Active minutes per day(2021-02-25 00:00:00) in Private dialog\n",
      "\n",
      "\n",
      "Active minutes per day(2021-02-25 00:00:00) in Group\n",
      "\n",
      "\n",
      "Active minutes per day(2021-02-26 00:00:00) in Private dialog\n",
      "\n",
      "\n",
      "Active minutes per day(2021-02-26 00:00:00) in Group\n",
      "\n",
      "\n",
      "Active minutes per day(2021-02-27 00:00:00) in Private dialog\n",
      "\n",
      "\n",
      "Active minutes per day(2021-02-27 00:00:00) in Group\n",
      "\n",
      "\n",
      "Active minutes per day(2021-02-28 00:00:00) in Private dialog\n",
      "\n",
      "\n",
      "Active minutes per day(2021-02-28 00:00:00) in Group\n",
      "\n",
      "\n",
      "Active minutes per day(2021-03-01 00:00:00) in Private dialog\n",
      "\n",
      "\n",
      "Active minutes per day(2021-03-01 00:00:00) in Group\n",
      "\n",
      "\n",
      "Active minutes per day(2021-03-02 00:00:00) in Private dialog\n",
      "\n",
      "\n",
      "Active minutes per day(2021-03-02 00:00:00) in Group\n",
      "\n",
      "\n",
      "Active minutes per day(2021-03-03 00:00:00) in Private dialog\n",
      "\n",
      "\n",
      "Active minutes per day(2021-03-03 00:00:00) in Group\n",
      "\n",
      "\n",
      "Active minutes per day(2021-03-04 00:00:00) in Private dialog\n",
      "\n",
      "\n",
      "Active minutes per day(2021-03-04 00:00:00) in Group\n",
      "\n",
      "\n",
      "Active minutes per day(2021-03-05 00:00:00) in Private dialog\n",
      "\n",
      "\n",
      "Active minutes per day(2021-03-05 00:00:00) in Group\n",
      "\n",
      "\n",
      "Active minutes per day(2021-03-06 00:00:00) in Private dialog\n",
      "\n",
      "\n",
      "Active minutes per day(2021-03-06 00:00:00) in Group\n",
      "\n",
      "\n",
      "Active minutes per day(2021-03-07 00:00:00) in Private dialog\n",
      "\n",
      "\n",
      "Active minutes per day(2021-03-07 00:00:00) in Group\n",
      "\n",
      "\n",
      "Active minutes per day(2021-03-08 00:00:00) in Private dialog\n",
      "\n",
      "\n",
      "Active minutes per day(2021-03-08 00:00:00) in Group\n",
      "\n",
      "\n",
      "Active minutes per day(2021-03-09 00:00:00) in Private dialog\n",
      "\n",
      "\n",
      "Active minutes per day(2021-03-09 00:00:00) in Group\n",
      "\n",
      "\n",
      "Active minutes per day(2021-03-10 00:00:00) in Private dialog\n",
      "\n",
      "\n",
      "Active minutes per day(2021-03-10 00:00:00) in Group\n",
      "\n",
      "\n",
      "Active minutes per day(2021-03-11 00:00:00) in Private dialog\n",
      "\n",
      "\n",
      "Active minutes per day(2021-03-11 00:00:00) in Group\n",
      "\n",
      "\n",
      "Active minutes per day(2021-03-12 00:00:00) in Private dialog\n",
      "\n",
      "\n",
      "Active minutes per day(2021-03-12 00:00:00) in Group\n",
      "\n",
      "\n",
      "Active minutes per day(2021-03-13 00:00:00) in Private dialog\n",
      "\n",
      "\n",
      "Active minutes per day(2021-03-13 00:00:00) in Group\n",
      "\n",
      "\n",
      "Active minutes per day(2021-03-14 00:00:00) in Private dialog\n",
      "\n",
      "\n",
      "Active minutes per day(2021-03-14 00:00:00) in Group\n",
      "\n",
      "\n",
      "Active minutes per day(2021-03-15 00:00:00) in Private dialog\n",
      "\n",
      "\n",
      "Active minutes per day(2021-03-15 00:00:00) in Group\n",
      "\n",
      "\n",
      "Active minutes per day(2021-03-16 00:00:00) in Private dialog\n",
      "\n",
      "\n",
      "Active minutes per day(2021-03-16 00:00:00) in Group\n",
      "\n",
      "\n",
      "Active minutes per day(2021-03-17 00:00:00) in Private dialog\n",
      "\n",
      "\n",
      "Active minutes per day(2021-03-17 00:00:00) in Group\n",
      "\n",
      "\n",
      "Active minutes per day(2021-03-18 00:00:00) in Private dialog\n",
      "\n",
      "\n",
      "Active minutes per day(2021-03-18 00:00:00) in Group\n",
      "\n",
      "\n",
      "Active minutes per day(2021-03-19 00:00:00) in Private dialog\n",
      "\n",
      "\n",
      "Active minutes per day(2021-03-19 00:00:00) in Group\n",
      "\n",
      "\n",
      "Active minutes per day(2021-03-20 00:00:00) in Private dialog\n",
      "\n",
      "\n",
      "Active minutes per day(2021-03-20 00:00:00) in Group\n",
      "\n",
      "\n",
      "Active minutes per day(2021-03-21 00:00:00) in Private dialog\n",
      "\n",
      "\n",
      "Active minutes per day(2021-03-21 00:00:00) in Group\n",
      "\n",
      "\n",
      "Active minutes per day(2021-03-22 00:00:00) in Private dialog\n",
      "\n",
      "\n",
      "Active minutes per day(2021-03-22 00:00:00) in Group\n",
      "\n",
      "\n",
      "Active minutes per day(2021-03-23 00:00:00) in Private dialog\n",
      "\n",
      "\n",
      "Active minutes per day(2021-03-23 00:00:00) in Group\n",
      "\n",
      "\n",
      "Active minutes per day(2021-03-24 00:00:00) in Private dialog\n",
      "\n",
      "\n",
      "Active minutes per day(2021-03-24 00:00:00) in Group\n",
      "\n",
      "\n",
      "Active minutes per day(2021-03-25 00:00:00) in Private dialog\n",
      "\n",
      "\n",
      "Active minutes per day(2021-03-25 00:00:00) in Group\n",
      "\n",
      "\n",
      "Active minutes per day(2021-03-26 00:00:00) in Private dialog\n",
      "\n",
      "\n",
      "Active minutes per day(2021-03-26 00:00:00) in Group\n",
      "\n",
      "\n",
      "Active minutes per day(2021-03-27 00:00:00) in Private dialog\n",
      "\n",
      "\n",
      "Active minutes per day(2021-03-27 00:00:00) in Group\n",
      "\n",
      "\n",
      "Active minutes per day(2021-03-28 00:00:00) in Private dialog\n",
      "\n",
      "\n",
      "Active minutes per day(2021-03-28 00:00:00) in Group\n",
      "\n",
      "\n",
      "Active minutes per day(2021-03-29 00:00:00) in Private dialog\n",
      "\n",
      "\n",
      "Active minutes per day(2021-03-29 00:00:00) in Group\n",
      "\n",
      "\n",
      "Active minutes per day(2021-03-30 00:00:00) in Private dialog\n",
      "\n",
      "\n",
      "Active minutes per day(2021-03-30 00:00:00) in Group\n",
      "\n",
      "\n",
      "Active minutes per day(2021-03-31 00:00:00) in Private dialog\n",
      "\n",
      "\n",
      "Active minutes per day(2021-03-31 00:00:00) in Group\n",
      "\n",
      "\n",
      "Active minutes per day(2021-04-01 00:00:00) in Private dialog\n",
      "\n",
      "\n",
      "Active minutes per day(2021-04-01 00:00:00) in Group\n",
      "\n",
      "\n",
      "Active minutes per day(2021-04-02 00:00:00) in Private dialog\n",
      "\n",
      "\n",
      "Active minutes per day(2021-04-02 00:00:00) in Group\n",
      "\n",
      "\n",
      "Active minutes per day(2021-04-03 00:00:00) in Private dialog\n",
      "\n",
      "\n",
      "Active minutes per day(2021-04-03 00:00:00) in Group\n",
      "\n",
      "\n",
      "Active minutes per day(2021-04-04 00:00:00) in Private dialog\n",
      "\n",
      "\n",
      "Active minutes per day(2021-04-04 00:00:00) in Group\n",
      "\n",
      "\n",
      "Active minutes per day(2021-04-05 00:00:00) in Private dialog\n",
      "\n",
      "\n",
      "Active minutes per day(2021-04-05 00:00:00) in Group\n",
      "\n",
      "\n",
      "Active minutes per day(2021-04-06 00:00:00) in Private dialog\n",
      "\n",
      "\n",
      "Active minutes per day(2021-04-06 00:00:00) in Group\n",
      "\n",
      "\n",
      "Active minutes per day(2021-04-07 00:00:00) in Private dialog\n",
      "\n",
      "\n",
      "Active minutes per day(2021-04-07 00:00:00) in Group\n",
      "\n",
      "\n",
      "Active minutes per day(2021-04-08 00:00:00) in Private dialog\n",
      "\n",
      "\n",
      "Active minutes per day(2021-04-08 00:00:00) in Group\n",
      "\n",
      "\n",
      "Active minutes per day(2021-04-09 00:00:00) in Private dialog\n",
      "\n",
      "\n",
      "Active minutes per day(2021-04-09 00:00:00) in Group\n",
      "\n",
      "\n",
      "Active minutes per day(2021-04-10 00:00:00) in Private dialog\n",
      "\n",
      "\n",
      "Active minutes per day(2021-04-10 00:00:00) in Group\n",
      "\n",
      "\n",
      "Active minutes per day(2021-04-11 00:00:00) in Private dialog\n",
      "\n",
      "\n",
      "Active minutes per day(2021-04-11 00:00:00) in Group\n",
      "\n",
      "\n",
      "Active minutes per day(2021-04-12 00:00:00) in Private dialog\n",
      "\n",
      "\n",
      "Active minutes per day(2021-04-12 00:00:00) in Group\n",
      "\n",
      "\n",
      "Active minutes per day(2021-04-13 00:00:00) in Private dialog\n",
      "\n",
      "\n",
      "Active minutes per day(2021-04-13 00:00:00) in Group\n",
      "\n",
      "\n",
      "Active minutes per day(2021-04-14 00:00:00) in Private dialog\n",
      "\n",
      "\n",
      "Active minutes per day(2021-04-14 00:00:00) in Group\n",
      "\n",
      "\n",
      "Active minutes per day(2021-04-15 00:00:00) in Private dialog\n",
      "\n",
      "\n",
      "Active minutes per day(2021-04-15 00:00:00) in Group\n",
      "\n",
      "\n",
      "Active minutes per day(2021-04-16 00:00:00) in Private dialog\n",
      "\n",
      "\n",
      "Active minutes per day(2021-04-16 00:00:00) in Group\n",
      "\n",
      "\n",
      "Active minutes per day(2021-04-17 00:00:00) in Private dialog\n",
      "\n",
      "\n",
      "Active minutes per day(2021-04-17 00:00:00) in Group\n",
      "\n",
      "\n",
      "Active minutes per day(2021-04-18 00:00:00) in Private dialog\n",
      "\n",
      "\n",
      "Active minutes per day(2021-04-18 00:00:00) in Group\n",
      "\n",
      "\n",
      "Active minutes per day(2021-04-19 00:00:00) in Private dialog\n",
      "\n",
      "\n",
      "Active minutes per day(2021-04-19 00:00:00) in Group\n",
      "\n",
      "\n",
      "Active minutes per day(2021-04-20 00:00:00) in Private dialog\n",
      "\n",
      "\n",
      "Active minutes per day(2021-04-20 00:00:00) in Group\n",
      "\n",
      "\n",
      "Active minutes per day(2021-04-21 00:00:00) in Private dialog\n",
      "\n",
      "\n",
      "Active minutes per day(2021-04-21 00:00:00) in Group\n",
      "\n",
      "\n",
      "Active minutes per day(2021-04-22 00:00:00) in Private dialog\n",
      "\n",
      "\n",
      "Active minutes per day(2021-04-22 00:00:00) in Group\n",
      "\n",
      "\n",
      "Active minutes per day(2021-04-23 00:00:00) in Private dialog\n",
      "\n",
      "\n",
      "Active minutes per day(2021-04-23 00:00:00) in Group\n",
      "\n",
      "\n",
      "Active minutes per day(2021-04-24 00:00:00) in Private dialog\n",
      "\n",
      "\n",
      "Active minutes per day(2021-04-24 00:00:00) in Group\n",
      "\n",
      "\n",
      "Active minutes per day(2021-04-25 00:00:00) in Private dialog\n",
      "\n",
      "\n",
      "Active minutes per day(2021-04-25 00:00:00) in Group\n",
      "\n",
      "\n",
      "Active minutes per day(2021-04-26 00:00:00) in Private dialog\n",
      "\n",
      "\n",
      "Active minutes per day(2021-04-26 00:00:00) in Group\n",
      "\n",
      "\n",
      "Active minutes per day(2021-04-27 00:00:00) in Private dialog\n",
      "\n",
      "\n",
      "Active minutes per day(2021-04-27 00:00:00) in Group\n",
      "\n",
      "\n",
      "Active minutes per day(2021-04-28 00:00:00) in Private dialog\n",
      "\n",
      "\n",
      "Active minutes per day(2021-04-28 00:00:00) in Group\n",
      "\n",
      "\n",
      "Active minutes per day(2021-04-29 00:00:00) in Private dialog\n",
      "\n",
      "\n",
      "Active minutes per day(2021-04-29 00:00:00) in Group\n",
      "\n",
      "\n",
      "Active minutes per day(2021-04-30 00:00:00) in Private dialog\n",
      "\n",
      "\n",
      "Active minutes per day(2021-04-30 00:00:00) in Group\n",
      "\n",
      "\n",
      "Active minutes per day(2021-05-01 00:00:00) in Private dialog\n",
      "\n",
      "\n",
      "Active minutes per day(2021-05-01 00:00:00) in Group\n",
      "\n",
      "\n",
      "Active minutes per day(2021-05-02 00:00:00) in Private dialog\n",
      "\n",
      "\n",
      "Active minutes per day(2021-05-02 00:00:00) in Group\n",
      "\n",
      "\n",
      "Active minutes per day(2021-05-03 00:00:00) in Private dialog\n",
      "\n",
      "\n",
      "Active minutes per day(2021-05-03 00:00:00) in Group\n",
      "\n",
      "\n",
      "Active minutes per day(2021-05-04 00:00:00) in Private dialog\n",
      "\n",
      "\n",
      "Active minutes per day(2021-05-04 00:00:00) in Group\n",
      "\n",
      "\n",
      "Active minutes per day(2021-05-05 00:00:00) in Private dialog\n",
      "\n",
      "\n",
      "Active minutes per day(2021-05-05 00:00:00) in Group\n",
      "\n",
      "\n",
      "Active minutes per day(2021-05-06 00:00:00) in Private dialog\n",
      "\n",
      "\n",
      "Active minutes per day(2021-05-06 00:00:00) in Group\n",
      "\n",
      "\n",
      "Active minutes per day(2021-05-07 00:00:00) in Private dialog\n",
      "\n",
      "\n",
      "Active minutes per day(2021-05-07 00:00:00) in Group\n",
      "\n",
      "\n",
      "Active minutes per day(2021-05-08 00:00:00) in Private dialog\n",
      "\n",
      "\n",
      "Active minutes per day(2021-05-08 00:00:00) in Group\n",
      "\n",
      "\n",
      "Active minutes per day(2021-05-09 00:00:00) in Private dialog\n",
      "\n",
      "\n",
      "Active minutes per day(2021-05-09 00:00:00) in Group\n",
      "\n",
      "\n",
      "Active minutes per day(2021-05-10 00:00:00) in Private dialog\n",
      "\n",
      "\n",
      "Active minutes per day(2021-05-10 00:00:00) in Group\n",
      "\n",
      "\n",
      "Active minutes per day(2021-05-11 00:00:00) in Private dialog\n",
      "\n",
      "\n",
      "Active minutes per day(2021-05-11 00:00:00) in Group\n",
      "\n",
      "\n",
      "Active minutes per day(2021-05-12 00:00:00) in Private dialog\n",
      "\n",
      "\n",
      "Active minutes per day(2021-05-12 00:00:00) in Group\n",
      "\n",
      "\n",
      "Active minutes per day(2021-05-13 00:00:00) in Private dialog\n",
      "\n",
      "\n",
      "Active minutes per day(2021-05-13 00:00:00) in Group\n",
      "\n",
      "\n",
      "Active minutes per day(2021-05-14 00:00:00) in Private dialog\n",
      "\n",
      "\n",
      "Active minutes per day(2021-05-14 00:00:00) in Group\n",
      "\n",
      "\n",
      "Active minutes per day(2021-05-15 00:00:00) in Private dialog\n",
      "\n",
      "\n",
      "Active minutes per day(2021-05-15 00:00:00) in Group\n",
      "\n",
      "\n",
      "Active minutes per day(2021-05-16 00:00:00) in Private dialog\n",
      "\n",
      "\n",
      "Active minutes per day(2021-05-16 00:00:00) in Group\n",
      "\n",
      "\n",
      "Active minutes per day(2021-05-17 00:00:00) in Private dialog\n",
      "\n",
      "\n",
      "Active minutes per day(2021-05-17 00:00:00) in Group\n",
      "\n",
      "\n",
      "Active minutes per day(2021-05-18 00:00:00) in Private dialog\n",
      "\n",
      "\n",
      "Active minutes per day(2021-05-18 00:00:00) in Group\n",
      "\n",
      "\n",
      "Active minutes per day(2021-05-19 00:00:00) in Private dialog\n",
      "\n",
      "\n",
      "Active minutes per day(2021-05-19 00:00:00) in Group\n",
      "\n",
      "\n",
      "Active minutes per day(2021-05-20 00:00:00) in Private dialog\n",
      "\n",
      "\n",
      "Active minutes per day(2021-05-20 00:00:00) in Group\n",
      "\n",
      "\n",
      "Active minutes per day(2021-05-21 00:00:00) in Private dialog\n",
      "\n",
      "\n",
      "Active minutes per day(2021-05-21 00:00:00) in Group\n",
      "\n",
      "\n",
      "Active minutes per day(2021-05-22 00:00:00) in Private dialog\n",
      "\n",
      "\n",
      "Active minutes per day(2021-05-22 00:00:00) in Group\n",
      "\n",
      "\n",
      "Active minutes per day(2021-05-23 00:00:00) in Private dialog\n",
      "\n",
      "\n",
      "Active minutes per day(2021-05-23 00:00:00) in Group\n",
      "\n",
      "\n",
      "Active minutes per day(2021-05-24 00:00:00) in Private dialog\n",
      "\n",
      "\n",
      "Active minutes per day(2021-05-24 00:00:00) in Group\n",
      "\n",
      "\n",
      "Active minutes per day(2021-05-25 00:00:00) in Private dialog\n",
      "\n",
      "\n",
      "Active minutes per day(2021-05-25 00:00:00) in Group\n",
      "\n",
      "\n",
      "Active minutes per day(2021-05-26 00:00:00) in Private dialog\n",
      "\n",
      "\n",
      "Active minutes per day(2021-05-26 00:00:00) in Group\n",
      "\n",
      "\n",
      "Active minutes per day(2021-05-27 00:00:00) in Private dialog\n",
      "\n",
      "\n",
      "Active minutes per day(2021-05-27 00:00:00) in Group\n",
      "\n",
      "\n",
      "Active minutes per day(2021-05-28 00:00:00) in Private dialog\n",
      "\n",
      "\n",
      "Active minutes per day(2021-05-28 00:00:00) in Group\n",
      "\n",
      "\n",
      "Active minutes per day(2021-05-29 00:00:00) in Private dialog\n",
      "\n",
      "\n",
      "Active minutes per day(2021-05-29 00:00:00) in Group\n",
      "\n",
      "\n",
      "Active minutes per day(2021-05-30 00:00:00) in Private dialog\n",
      "\n",
      "\n",
      "Active minutes per day(2021-05-30 00:00:00) in Group\n",
      "\n",
      "\n",
      "Active minutes per day(2021-05-31 00:00:00) in Private dialog\n",
      "\n",
      "\n",
      "Active minutes per day(2021-05-31 00:00:00) in Group\n",
      "\n",
      "\n",
      "Active minutes per day(2021-06-01 00:00:00) in Private dialog\n",
      "\n",
      "\n",
      "Active minutes per day(2021-06-01 00:00:00) in Group\n",
      "\n",
      "\n",
      "Active minutes per day(2021-06-02 00:00:00) in Private dialog\n",
      "\n",
      "\n",
      "Active minutes per day(2021-06-02 00:00:00) in Group\n",
      "\n",
      "\n",
      "Active minutes per day(2021-06-03 00:00:00) in Private dialog\n",
      "\n",
      "\n",
      "Active minutes per day(2021-06-03 00:00:00) in Group\n",
      "\n",
      "\n",
      "Active minutes per day(2021-06-04 00:00:00) in Private dialog\n",
      "\n",
      "\n",
      "Active minutes per day(2021-06-04 00:00:00) in Group\n",
      "\n",
      "\n",
      "Active minutes per day(2021-06-05 00:00:00) in Private dialog\n",
      "\n",
      "\n",
      "Active minutes per day(2021-06-05 00:00:00) in Group\n",
      "\n",
      "\n",
      "Active minutes per day(2021-06-06 00:00:00) in Private dialog\n",
      "\n",
      "\n",
      "Active minutes per day(2021-06-06 00:00:00) in Group\n",
      "\n",
      "\n",
      "Active minutes per day(2021-06-07 00:00:00) in Private dialog\n",
      "\n",
      "\n",
      "Active minutes per day(2021-06-07 00:00:00) in Group\n",
      "\n",
      "\n",
      "Active minutes per day(2021-06-08 00:00:00) in Private dialog\n",
      "\n",
      "\n",
      "Active minutes per day(2021-06-08 00:00:00) in Group\n",
      "\n",
      "\n",
      "Active minutes per day(2021-06-09 00:00:00) in Private dialog\n",
      "\n",
      "\n",
      "Active minutes per day(2021-06-09 00:00:00) in Group\n",
      "\n",
      "\n",
      "Active minutes per day(2021-06-10 00:00:00) in Private dialog\n",
      "\n",
      "\n",
      "Active minutes per day(2021-06-10 00:00:00) in Group\n",
      "\n",
      "\n",
      "Active minutes per day(2021-06-11 00:00:00) in Private dialog\n",
      "\n",
      "\n",
      "Active minutes per day(2021-06-11 00:00:00) in Group\n",
      "\n",
      "\n",
      "Active minutes per day(2021-06-12 00:00:00) in Private dialog\n",
      "\n",
      "\n",
      "Active minutes per day(2021-06-12 00:00:00) in Group\n",
      "\n",
      "\n",
      "Active minutes per day(2021-06-13 00:00:00) in Private dialog\n",
      "\n",
      "\n",
      "Active minutes per day(2021-06-13 00:00:00) in Group\n",
      "\n",
      "\n",
      "Active minutes per day(2021-06-14 00:00:00) in Private dialog\n",
      "\n",
      "\n",
      "Active minutes per day(2021-06-14 00:00:00) in Group\n",
      "\n",
      "\n",
      "Active minutes per day(2021-06-15 00:00:00) in Private dialog\n",
      "\n",
      "\n",
      "Active minutes per day(2021-06-15 00:00:00) in Group\n",
      "\n",
      "\n",
      "Active minutes per day(2021-06-16 00:00:00) in Private dialog\n",
      "\n",
      "\n",
      "Active minutes per day(2021-06-16 00:00:00) in Group\n",
      "\n",
      "\n",
      "Active minutes per day(2021-06-17 00:00:00) in Private dialog\n",
      "\n",
      "\n",
      "Active minutes per day(2021-06-17 00:00:00) in Group\n",
      "\n",
      "\n",
      "Active minutes per day(2021-06-18 00:00:00) in Private dialog\n",
      "\n",
      "\n",
      "Active minutes per day(2021-06-18 00:00:00) in Group\n",
      "\n",
      "\n",
      "Active minutes per day(2021-06-19 00:00:00) in Private dialog\n",
      "\n",
      "\n",
      "Active minutes per day(2021-06-19 00:00:00) in Group\n",
      "\n",
      "\n",
      "Active minutes per day(2021-06-20 00:00:00) in Private dialog\n",
      "\n",
      "\n",
      "Active minutes per day(2021-06-20 00:00:00) in Group\n",
      "\n",
      "\n",
      "Active minutes per day(2021-06-21 00:00:00) in Private dialog\n",
      "\n",
      "\n",
      "Active minutes per day(2021-06-21 00:00:00) in Group\n",
      "\n",
      "\n",
      "Active minutes per day(2021-06-22 00:00:00) in Private dialog\n",
      "\n",
      "\n",
      "Active minutes per day(2021-06-22 00:00:00) in Group\n",
      "\n",
      "\n",
      "Active minutes per day(2021-06-23 00:00:00) in Private dialog\n",
      "\n",
      "\n",
      "Active minutes per day(2021-06-23 00:00:00) in Group\n",
      "\n",
      "\n",
      "Active minutes per day(2021-06-24 00:00:00) in Private dialog\n",
      "\n",
      "\n",
      "Active minutes per day(2021-06-24 00:00:00) in Group\n",
      "\n",
      "\n",
      "Active minutes per day(2021-06-25 00:00:00) in Private dialog\n",
      "\n",
      "\n",
      "Active minutes per day(2021-06-25 00:00:00) in Group\n",
      "\n",
      "\n",
      "Active minutes per day(2021-06-26 00:00:00) in Private dialog\n",
      "\n",
      "\n",
      "Active minutes per day(2021-06-26 00:00:00) in Group\n",
      "\n",
      "\n",
      "Active minutes per day(2021-06-27 00:00:00) in Private dialog\n",
      "\n",
      "\n",
      "Active minutes per day(2021-06-27 00:00:00) in Group\n",
      "\n",
      "\n",
      "Active minutes per day(2021-06-28 00:00:00) in Private dialog\n",
      "\n",
      "\n",
      "Active minutes per day(2021-06-28 00:00:00) in Group\n",
      "\n",
      "\n",
      "Active minutes per day(2021-06-29 00:00:00) in Private dialog\n",
      "\n",
      "\n",
      "Active minutes per day(2021-06-29 00:00:00) in Group\n",
      "\n",
      "\n",
      "Active minutes per day(2021-06-30 00:00:00) in Private dialog\n",
      "\n",
      "\n",
      "Active minutes per day(2021-06-30 00:00:00) in Group\n",
      "\n",
      "\n",
      "Active minutes per day(2021-07-01 00:00:00) in Private dialog\n",
      "\n",
      "\n",
      "Active minutes per day(2021-07-01 00:00:00) in Group\n",
      "\n",
      "\n",
      "Active minutes per day(2021-07-02 00:00:00) in Private dialog\n",
      "\n",
      "\n",
      "Active minutes per day(2021-07-02 00:00:00) in Group\n",
      "\n",
      "\n",
      "Active minutes per day(2021-07-03 00:00:00) in Private dialog\n",
      "\n",
      "\n",
      "Active minutes per day(2021-07-03 00:00:00) in Group\n",
      "\n",
      "\n",
      "Active minutes per day(2021-07-04 00:00:00) in Private dialog\n",
      "\n",
      "\n",
      "Active minutes per day(2021-07-04 00:00:00) in Group\n",
      "\n",
      "\n",
      "Active minutes per day(2021-07-05 00:00:00) in Private dialog\n",
      "\n",
      "\n",
      "Active minutes per day(2021-07-05 00:00:00) in Group\n",
      "\n",
      "\n",
      "Active minutes per day(2021-07-06 00:00:00) in Private dialog\n",
      "\n",
      "\n",
      "Active minutes per day(2021-07-06 00:00:00) in Group\n",
      "\n",
      "\n",
      "Active minutes per day(2021-07-07 00:00:00) in Private dialog\n",
      "\n",
      "\n",
      "Active minutes per day(2021-07-07 00:00:00) in Group\n",
      "\n",
      "\n",
      "Active minutes per day(2021-07-08 00:00:00) in Private dialog\n",
      "\n",
      "\n",
      "Active minutes per day(2021-07-08 00:00:00) in Group\n",
      "\n",
      "\n",
      "Active minutes per day(2021-07-09 00:00:00) in Private dialog\n",
      "\n",
      "\n",
      "Active minutes per day(2021-07-09 00:00:00) in Group\n",
      "\n",
      "\n",
      "Active minutes per day(2021-07-10 00:00:00) in Private dialog\n",
      "\n",
      "\n",
      "Active minutes per day(2021-07-10 00:00:00) in Group\n",
      "\n",
      "\n",
      "Active minutes per day(2021-07-11 00:00:00) in Private dialog\n",
      "\n",
      "\n",
      "Active minutes per day(2021-07-11 00:00:00) in Group\n",
      "\n",
      "\n",
      "Active minutes per day(2021-07-12 00:00:00) in Private dialog\n",
      "\n",
      "\n",
      "Active minutes per day(2021-07-12 00:00:00) in Group\n",
      "\n",
      "\n",
      "Active minutes per day(2021-07-13 00:00:00) in Private dialog\n",
      "\n",
      "\n",
      "Active minutes per day(2021-07-13 00:00:00) in Group\n",
      "\n",
      "\n",
      "Active minutes per day(2021-07-14 00:00:00) in Private dialog\n",
      "\n",
      "\n",
      "Active minutes per day(2021-07-14 00:00:00) in Group\n",
      "\n",
      "\n",
      "Active minutes per day(2021-07-15 00:00:00) in Private dialog\n",
      "\n",
      "\n",
      "Active minutes per day(2021-07-15 00:00:00) in Group\n",
      "\n",
      "\n",
      "Active minutes per day(2021-07-16 00:00:00) in Private dialog\n",
      "\n",
      "\n",
      "Active minutes per day(2021-07-16 00:00:00) in Group\n",
      "\n",
      "\n",
      "Active minutes per day(2021-07-17 00:00:00) in Private dialog\n",
      "\n",
      "\n",
      "Active minutes per day(2021-07-17 00:00:00) in Group\n",
      "\n",
      "\n",
      "Active minutes per day(2021-07-18 00:00:00) in Private dialog\n",
      "\n",
      "\n",
      "Active minutes per day(2021-07-18 00:00:00) in Group\n",
      "\n",
      "\n",
      "Active minutes per day(2021-07-19 00:00:00) in Private dialog\n",
      "\n",
      "\n",
      "Active minutes per day(2021-07-19 00:00:00) in Group\n",
      "\n",
      "\n",
      "Active minutes per day(2021-07-20 00:00:00) in Private dialog\n",
      "\n",
      "\n",
      "Active minutes per day(2021-07-20 00:00:00) in Group\n",
      "\n",
      "\n",
      "Active minutes per day(2021-07-21 00:00:00) in Private dialog\n",
      "\n",
      "\n",
      "Active minutes per day(2021-07-21 00:00:00) in Group\n",
      "\n",
      "\n",
      "Active minutes per day(2021-07-22 00:00:00) in Private dialog\n",
      "\n",
      "\n",
      "Active minutes per day(2021-07-22 00:00:00) in Group\n",
      "\n",
      "\n",
      "Active minutes per day(2021-07-23 00:00:00) in Private dialog\n",
      "\n",
      "\n",
      "Active minutes per day(2021-07-23 00:00:00) in Group\n",
      "\n",
      "\n",
      "Active minutes per day(2021-07-24 00:00:00) in Private dialog\n",
      "\n",
      "\n",
      "Active minutes per day(2021-07-24 00:00:00) in Group\n",
      "\n",
      "\n",
      "Active minutes per day(2021-07-25 00:00:00) in Private dialog\n",
      "\n",
      "\n",
      "Active minutes per day(2021-07-25 00:00:00) in Group\n",
      "\n",
      "\n",
      "Active minutes per day(2021-07-26 00:00:00) in Private dialog\n",
      "\n",
      "\n",
      "Active minutes per day(2021-07-26 00:00:00) in Group\n",
      "\n",
      "\n",
      "Active minutes per day(2021-07-27 00:00:00) in Private dialog\n",
      "\n",
      "\n",
      "Active minutes per day(2021-07-27 00:00:00) in Group\n",
      "\n",
      "\n",
      "Active minutes per day(2021-07-28 00:00:00) in Private dialog\n",
      "\n",
      "\n",
      "Active minutes per day(2021-07-28 00:00:00) in Group\n",
      "\n",
      "\n",
      "Active minutes per day(2021-07-29 00:00:00) in Private dialog\n",
      "\n",
      "\n",
      "Active minutes per day(2021-07-29 00:00:00) in Group\n",
      "\n",
      "\n",
      "Active minutes per day(2021-07-30 00:00:00) in Private dialog\n",
      "\n",
      "\n",
      "Active minutes per day(2021-07-30 00:00:00) in Group\n",
      "\n",
      "\n",
      "Active minutes per day(2021-07-31 00:00:00) in Private dialog\n",
      "\n",
      "\n",
      "Active minutes per day(2021-07-31 00:00:00) in Group\n",
      "\n",
      "\n"
     ]
    }
   ],
   "source": [
    "START_WEEK_YEAR = 2020\n",
    "START_WEEK_MONTH = 9\n",
    "START_WEEK_DAY = 1\n",
    "\n",
    "plot_data = {}\n",
    "\n",
    "\n",
    "week_month_year_data = []\n",
    "\n",
    "for j in [7, 30, 365]:\n",
    "    week_day = START_WEEK_DAY\n",
    "    next_day = START_WEEK_DAY + 1\n",
    "    day_month = START_WEEK_MONTH\n",
    "    next_day_month = START_WEEK_MONTH\n",
    "    day_year = START_WEEK_YEAR\n",
    "    next_day_year = START_WEEK_YEAR\n",
    "\n",
    "    for i in range(j):\n",
    "        if day_month in [1, 3, 5, 7, 8, 10, 12]:\n",
    "            days_in_month = 31\n",
    "\n",
    "        elif day_month == 2:\n",
    "            days_in_month = 28\n",
    "\n",
    "        else:\n",
    "            days_in_month = 30\n",
    "\n",
    "        if i != 0:\n",
    "            week_day += 1\n",
    "            next_day += 1\n",
    "\n",
    "        if week_day >= days_in_month + 1:\n",
    "            week_day = week_day % (days_in_month + 1) + 1\n",
    "            day_month += 1\n",
    "\n",
    "        if next_day >= days_in_month + 1:\n",
    "            next_day = next_day % (days_in_month + 1) + 1\n",
    "            next_day_month += 1\n",
    "\n",
    "        if day_month >= 13:\n",
    "            day_month = day_month % 13 + 1\n",
    "            day_year += 1\n",
    "\n",
    "        if next_day_month >= 13:\n",
    "            next_day_month = next_day_month % 13 + 1\n",
    "            next_day_year += 1\n",
    "\n",
    "        start_date = datetime.datetime(day_year, day_month,\n",
    "                                        week_day, 0, 0, 0)\n",
    "\n",
    "        end_date = datetime.datetime(next_day_year, next_day_month,\n",
    "                                        next_day, 0, 0, 0)\n",
    "\n",
    "        general_dialog_time = get_user_active_minutes_per_day(dialogs_info, start_date, end_date, \"Private dialog\", USER_ID) \\\n",
    "                              + get_user_active_minutes_per_day(dialogs_info, start_date, end_date, \"Group\", USER_ID)\n",
    "        plot_data[datetime.date(day_year, day_month, week_day)] = general_dialog_time\n",
    "\n",
    "    lists = sorted(plot_data.items())\n",
    "    dates, n_minutes_lst = zip(*lists)\n",
    "    week_month_year_data.append([dates, n_minutes_lst])"
   ],
   "metadata": {
    "collapsed": false,
    "pycharm": {
     "name": "#%%\n"
    }
   }
  },
  {
   "cell_type": "code",
   "execution_count": 47,
   "metadata": {
    "pycharm": {
     "name": "#%%\n"
    }
   },
   "outputs": [
    {
     "data": {
      "application/vnd.plotly.v1+json": {
       "config": {
        "plotlyServerURL": "https://plot.ly"
       },
       "data": [
        {
         "name": "Data 1",
         "type": "bar",
         "x": [
          "2020-08-01",
          "2020-08-02",
          "2020-08-03",
          "2020-08-04",
          "2020-08-05",
          "2020-08-06",
          "2020-08-07"
         ],
         "y": [
          0.0,
          0.0,
          0.34,
          5.75,
          6.75,
          6.6,
          2.14
         ]
        }
       ],
       "layout": {
        "autosize": false,
        "height": 800,
        "template": {
         "data": {
          "bar": [
           {
            "error_x": {
             "color": "#2a3f5f"
            },
            "error_y": {
             "color": "#2a3f5f"
            },
            "marker": {
             "line": {
              "color": "#E5ECF6",
              "width": 0.5
             }
            },
            "type": "bar"
           }
          ],
          "barpolar": [
           {
            "marker": {
             "line": {
              "color": "#E5ECF6",
              "width": 0.5
             }
            },
            "type": "barpolar"
           }
          ],
          "carpet": [
           {
            "aaxis": {
             "endlinecolor": "#2a3f5f",
             "gridcolor": "white",
             "linecolor": "white",
             "minorgridcolor": "white",
             "startlinecolor": "#2a3f5f"
            },
            "baxis": {
             "endlinecolor": "#2a3f5f",
             "gridcolor": "white",
             "linecolor": "white",
             "minorgridcolor": "white",
             "startlinecolor": "#2a3f5f"
            },
            "type": "carpet"
           }
          ],
          "choropleth": [
           {
            "colorbar": {
             "outlinewidth": 0,
             "ticks": ""
            },
            "type": "choropleth"
           }
          ],
          "contour": [
           {
            "colorbar": {
             "outlinewidth": 0,
             "ticks": ""
            },
            "colorscale": [
             [
              0.0,
              "#0d0887"
             ],
             [
              0.1111111111111111,
              "#46039f"
             ],
             [
              0.2222222222222222,
              "#7201a8"
             ],
             [
              0.3333333333333333,
              "#9c179e"
             ],
             [
              0.4444444444444444,
              "#bd3786"
             ],
             [
              0.5555555555555556,
              "#d8576b"
             ],
             [
              0.6666666666666666,
              "#ed7953"
             ],
             [
              0.7777777777777778,
              "#fb9f3a"
             ],
             [
              0.8888888888888888,
              "#fdca26"
             ],
             [
              1.0,
              "#f0f921"
             ]
            ],
            "type": "contour"
           }
          ],
          "contourcarpet": [
           {
            "colorbar": {
             "outlinewidth": 0,
             "ticks": ""
            },
            "type": "contourcarpet"
           }
          ],
          "heatmap": [
           {
            "colorbar": {
             "outlinewidth": 0,
             "ticks": ""
            },
            "colorscale": [
             [
              0.0,
              "#0d0887"
             ],
             [
              0.1111111111111111,
              "#46039f"
             ],
             [
              0.2222222222222222,
              "#7201a8"
             ],
             [
              0.3333333333333333,
              "#9c179e"
             ],
             [
              0.4444444444444444,
              "#bd3786"
             ],
             [
              0.5555555555555556,
              "#d8576b"
             ],
             [
              0.6666666666666666,
              "#ed7953"
             ],
             [
              0.7777777777777778,
              "#fb9f3a"
             ],
             [
              0.8888888888888888,
              "#fdca26"
             ],
             [
              1.0,
              "#f0f921"
             ]
            ],
            "type": "heatmap"
           }
          ],
          "heatmapgl": [
           {
            "colorbar": {
             "outlinewidth": 0,
             "ticks": ""
            },
            "colorscale": [
             [
              0.0,
              "#0d0887"
             ],
             [
              0.1111111111111111,
              "#46039f"
             ],
             [
              0.2222222222222222,
              "#7201a8"
             ],
             [
              0.3333333333333333,
              "#9c179e"
             ],
             [
              0.4444444444444444,
              "#bd3786"
             ],
             [
              0.5555555555555556,
              "#d8576b"
             ],
             [
              0.6666666666666666,
              "#ed7953"
             ],
             [
              0.7777777777777778,
              "#fb9f3a"
             ],
             [
              0.8888888888888888,
              "#fdca26"
             ],
             [
              1.0,
              "#f0f921"
             ]
            ],
            "type": "heatmapgl"
           }
          ],
          "histogram": [
           {
            "marker": {
             "colorbar": {
              "outlinewidth": 0,
              "ticks": ""
             }
            },
            "type": "histogram"
           }
          ],
          "histogram2d": [
           {
            "colorbar": {
             "outlinewidth": 0,
             "ticks": ""
            },
            "colorscale": [
             [
              0.0,
              "#0d0887"
             ],
             [
              0.1111111111111111,
              "#46039f"
             ],
             [
              0.2222222222222222,
              "#7201a8"
             ],
             [
              0.3333333333333333,
              "#9c179e"
             ],
             [
              0.4444444444444444,
              "#bd3786"
             ],
             [
              0.5555555555555556,
              "#d8576b"
             ],
             [
              0.6666666666666666,
              "#ed7953"
             ],
             [
              0.7777777777777778,
              "#fb9f3a"
             ],
             [
              0.8888888888888888,
              "#fdca26"
             ],
             [
              1.0,
              "#f0f921"
             ]
            ],
            "type": "histogram2d"
           }
          ],
          "histogram2dcontour": [
           {
            "colorbar": {
             "outlinewidth": 0,
             "ticks": ""
            },
            "colorscale": [
             [
              0.0,
              "#0d0887"
             ],
             [
              0.1111111111111111,
              "#46039f"
             ],
             [
              0.2222222222222222,
              "#7201a8"
             ],
             [
              0.3333333333333333,
              "#9c179e"
             ],
             [
              0.4444444444444444,
              "#bd3786"
             ],
             [
              0.5555555555555556,
              "#d8576b"
             ],
             [
              0.6666666666666666,
              "#ed7953"
             ],
             [
              0.7777777777777778,
              "#fb9f3a"
             ],
             [
              0.8888888888888888,
              "#fdca26"
             ],
             [
              1.0,
              "#f0f921"
             ]
            ],
            "type": "histogram2dcontour"
           }
          ],
          "mesh3d": [
           {
            "colorbar": {
             "outlinewidth": 0,
             "ticks": ""
            },
            "type": "mesh3d"
           }
          ],
          "parcoords": [
           {
            "line": {
             "colorbar": {
              "outlinewidth": 0,
              "ticks": ""
             }
            },
            "type": "parcoords"
           }
          ],
          "pie": [
           {
            "automargin": true,
            "type": "pie"
           }
          ],
          "scatter": [
           {
            "marker": {
             "colorbar": {
              "outlinewidth": 0,
              "ticks": ""
             }
            },
            "type": "scatter"
           }
          ],
          "scatter3d": [
           {
            "line": {
             "colorbar": {
              "outlinewidth": 0,
              "ticks": ""
             }
            },
            "marker": {
             "colorbar": {
              "outlinewidth": 0,
              "ticks": ""
             }
            },
            "type": "scatter3d"
           }
          ],
          "scattercarpet": [
           {
            "marker": {
             "colorbar": {
              "outlinewidth": 0,
              "ticks": ""
             }
            },
            "type": "scattercarpet"
           }
          ],
          "scattergeo": [
           {
            "marker": {
             "colorbar": {
              "outlinewidth": 0,
              "ticks": ""
             }
            },
            "type": "scattergeo"
           }
          ],
          "scattergl": [
           {
            "marker": {
             "colorbar": {
              "outlinewidth": 0,
              "ticks": ""
             }
            },
            "type": "scattergl"
           }
          ],
          "scattermapbox": [
           {
            "marker": {
             "colorbar": {
              "outlinewidth": 0,
              "ticks": ""
             }
            },
            "type": "scattermapbox"
           }
          ],
          "scatterpolar": [
           {
            "marker": {
             "colorbar": {
              "outlinewidth": 0,
              "ticks": ""
             }
            },
            "type": "scatterpolar"
           }
          ],
          "scatterpolargl": [
           {
            "marker": {
             "colorbar": {
              "outlinewidth": 0,
              "ticks": ""
             }
            },
            "type": "scatterpolargl"
           }
          ],
          "scatterternary": [
           {
            "marker": {
             "colorbar": {
              "outlinewidth": 0,
              "ticks": ""
             }
            },
            "type": "scatterternary"
           }
          ],
          "surface": [
           {
            "colorbar": {
             "outlinewidth": 0,
             "ticks": ""
            },
            "colorscale": [
             [
              0.0,
              "#0d0887"
             ],
             [
              0.1111111111111111,
              "#46039f"
             ],
             [
              0.2222222222222222,
              "#7201a8"
             ],
             [
              0.3333333333333333,
              "#9c179e"
             ],
             [
              0.4444444444444444,
              "#bd3786"
             ],
             [
              0.5555555555555556,
              "#d8576b"
             ],
             [
              0.6666666666666666,
              "#ed7953"
             ],
             [
              0.7777777777777778,
              "#fb9f3a"
             ],
             [
              0.8888888888888888,
              "#fdca26"
             ],
             [
              1.0,
              "#f0f921"
             ]
            ],
            "type": "surface"
           }
          ],
          "table": [
           {
            "cells": {
             "fill": {
              "color": "#EBF0F8"
             },
             "line": {
              "color": "white"
             }
            },
            "header": {
             "fill": {
              "color": "#C8D4E3"
             },
             "line": {
              "color": "white"
             }
            },
            "type": "table"
           }
          ]
         },
         "layout": {
          "annotationdefaults": {
           "arrowcolor": "#2a3f5f",
           "arrowhead": 0,
           "arrowwidth": 1
          },
          "coloraxis": {
           "colorbar": {
            "outlinewidth": 0,
            "ticks": ""
           }
          },
          "colorscale": {
           "diverging": [
            [
             0,
             "#8e0152"
            ],
            [
             0.1,
             "#c51b7d"
            ],
            [
             0.2,
             "#de77ae"
            ],
            [
             0.3,
             "#f1b6da"
            ],
            [
             0.4,
             "#fde0ef"
            ],
            [
             0.5,
             "#f7f7f7"
            ],
            [
             0.6,
             "#e6f5d0"
            ],
            [
             0.7,
             "#b8e186"
            ],
            [
             0.8,
             "#7fbc41"
            ],
            [
             0.9,
             "#4d9221"
            ],
            [
             1,
             "#276419"
            ]
           ],
           "sequential": [
            [
             0.0,
             "#0d0887"
            ],
            [
             0.1111111111111111,
             "#46039f"
            ],
            [
             0.2222222222222222,
             "#7201a8"
            ],
            [
             0.3333333333333333,
             "#9c179e"
            ],
            [
             0.4444444444444444,
             "#bd3786"
            ],
            [
             0.5555555555555556,
             "#d8576b"
            ],
            [
             0.6666666666666666,
             "#ed7953"
            ],
            [
             0.7777777777777778,
             "#fb9f3a"
            ],
            [
             0.8888888888888888,
             "#fdca26"
            ],
            [
             1.0,
             "#f0f921"
            ]
           ],
           "sequentialminus": [
            [
             0.0,
             "#0d0887"
            ],
            [
             0.1111111111111111,
             "#46039f"
            ],
            [
             0.2222222222222222,
             "#7201a8"
            ],
            [
             0.3333333333333333,
             "#9c179e"
            ],
            [
             0.4444444444444444,
             "#bd3786"
            ],
            [
             0.5555555555555556,
             "#d8576b"
            ],
            [
             0.6666666666666666,
             "#ed7953"
            ],
            [
             0.7777777777777778,
             "#fb9f3a"
            ],
            [
             0.8888888888888888,
             "#fdca26"
            ],
            [
             1.0,
             "#f0f921"
            ]
           ]
          },
          "colorway": [
           "#636efa",
           "#EF553B",
           "#00cc96",
           "#ab63fa",
           "#FFA15A",
           "#19d3f3",
           "#FF6692",
           "#B6E880",
           "#FF97FF",
           "#FECB52"
          ],
          "font": {
           "color": "#2a3f5f"
          },
          "geo": {
           "bgcolor": "white",
           "lakecolor": "white",
           "landcolor": "#E5ECF6",
           "showlakes": true,
           "showland": true,
           "subunitcolor": "white"
          },
          "hoverlabel": {
           "align": "left"
          },
          "hovermode": "closest",
          "mapbox": {
           "style": "light"
          },
          "paper_bgcolor": "white",
          "plot_bgcolor": "#E5ECF6",
          "polar": {
           "angularaxis": {
            "gridcolor": "white",
            "linecolor": "white",
            "ticks": ""
           },
           "bgcolor": "#E5ECF6",
           "radialaxis": {
            "gridcolor": "white",
            "linecolor": "white",
            "ticks": ""
           }
          },
          "scene": {
           "xaxis": {
            "backgroundcolor": "#E5ECF6",
            "gridcolor": "white",
            "gridwidth": 2,
            "linecolor": "white",
            "showbackground": true,
            "ticks": "",
            "zerolinecolor": "white"
           },
           "yaxis": {
            "backgroundcolor": "#E5ECF6",
            "gridcolor": "white",
            "gridwidth": 2,
            "linecolor": "white",
            "showbackground": true,
            "ticks": "",
            "zerolinecolor": "white"
           },
           "zaxis": {
            "backgroundcolor": "#E5ECF6",
            "gridcolor": "white",
            "gridwidth": 2,
            "linecolor": "white",
            "showbackground": true,
            "ticks": "",
            "zerolinecolor": "white"
           }
          },
          "shapedefaults": {
           "line": {
            "color": "#2a3f5f"
           }
          },
          "ternary": {
           "aaxis": {
            "gridcolor": "white",
            "linecolor": "white",
            "ticks": ""
           },
           "baxis": {
            "gridcolor": "white",
            "linecolor": "white",
            "ticks": ""
           },
           "bgcolor": "#E5ECF6",
           "caxis": {
            "gridcolor": "white",
            "linecolor": "white",
            "ticks": ""
           }
          },
          "title": {
           "x": 0.05
          },
          "xaxis": {
           "automargin": true,
           "gridcolor": "white",
           "linecolor": "white",
           "ticks": "",
           "title": {
            "standoff": 15
           },
           "zerolinecolor": "white",
           "zerolinewidth": 2
          },
          "yaxis": {
           "automargin": true,
           "gridcolor": "white",
           "linecolor": "white",
           "ticks": "",
           "title": {
            "standoff": 15
           },
           "zerolinecolor": "white",
           "zerolinewidth": 2
          }
         }
        },
        "title": {
         "text": "Weekly active minutes in Telegram"
        },
        "width": 800,
        "xaxis": {
         "tickfont": {
          "size": 14
         },
         "title": {
          "font": {
           "size": 16
          },
          "text": "Date"
         }
        },
        "yaxis": {
         "tickfont": {
          "size": 14
         },
         "title": {
          "font": {
           "size": 16
          },
          "text": "Number of minutes"
         }
        }
       }
      },
      "text/html": "<div>\n        \n        \n            <div id=\"64dd7c46-8972-48f5-a634-579311fd2426\" class=\"plotly-graph-div\" style=\"height:800px; width:800px;\"></div>\n            <script type=\"text/javascript\">\n                require([\"plotly\"], function(Plotly) {\n                    window.PLOTLYENV=window.PLOTLYENV || {};\n                    \n                if (document.getElementById(\"64dd7c46-8972-48f5-a634-579311fd2426\")) {\n                    Plotly.newPlot(\n                        '64dd7c46-8972-48f5-a634-579311fd2426',\n                        [{\"name\": \"Data 1\", \"type\": \"bar\", \"x\": [\"2020-08-01\", \"2020-08-02\", \"2020-08-03\", \"2020-08-04\", \"2020-08-05\", \"2020-08-06\", \"2020-08-07\"], \"y\": [0.0, 0.0, 0.34, 5.75, 6.75, 6.6, 2.14]}],\n                        {\"autosize\": false, \"height\": 800, \"template\": {\"data\": {\"bar\": [{\"error_x\": {\"color\": \"#2a3f5f\"}, \"error_y\": {\"color\": \"#2a3f5f\"}, \"marker\": {\"line\": {\"color\": \"#E5ECF6\", \"width\": 0.5}}, \"type\": \"bar\"}], \"barpolar\": [{\"marker\": {\"line\": {\"color\": \"#E5ECF6\", \"width\": 0.5}}, \"type\": \"barpolar\"}], \"carpet\": [{\"aaxis\": {\"endlinecolor\": \"#2a3f5f\", \"gridcolor\": \"white\", \"linecolor\": \"white\", \"minorgridcolor\": \"white\", \"startlinecolor\": \"#2a3f5f\"}, \"baxis\": {\"endlinecolor\": \"#2a3f5f\", \"gridcolor\": \"white\", \"linecolor\": \"white\", \"minorgridcolor\": \"white\", \"startlinecolor\": \"#2a3f5f\"}, \"type\": \"carpet\"}], \"choropleth\": [{\"colorbar\": {\"outlinewidth\": 0, \"ticks\": \"\"}, \"type\": \"choropleth\"}], \"contour\": [{\"colorbar\": {\"outlinewidth\": 0, \"ticks\": \"\"}, \"colorscale\": [[0.0, \"#0d0887\"], [0.1111111111111111, \"#46039f\"], [0.2222222222222222, \"#7201a8\"], [0.3333333333333333, \"#9c179e\"], [0.4444444444444444, \"#bd3786\"], [0.5555555555555556, \"#d8576b\"], [0.6666666666666666, \"#ed7953\"], [0.7777777777777778, \"#fb9f3a\"], [0.8888888888888888, \"#fdca26\"], [1.0, \"#f0f921\"]], \"type\": \"contour\"}], \"contourcarpet\": [{\"colorbar\": {\"outlinewidth\": 0, \"ticks\": \"\"}, \"type\": \"contourcarpet\"}], \"heatmap\": [{\"colorbar\": {\"outlinewidth\": 0, \"ticks\": \"\"}, \"colorscale\": [[0.0, \"#0d0887\"], [0.1111111111111111, \"#46039f\"], [0.2222222222222222, \"#7201a8\"], [0.3333333333333333, \"#9c179e\"], [0.4444444444444444, \"#bd3786\"], [0.5555555555555556, \"#d8576b\"], [0.6666666666666666, \"#ed7953\"], [0.7777777777777778, \"#fb9f3a\"], [0.8888888888888888, \"#fdca26\"], [1.0, \"#f0f921\"]], \"type\": \"heatmap\"}], \"heatmapgl\": [{\"colorbar\": {\"outlinewidth\": 0, \"ticks\": \"\"}, \"colorscale\": [[0.0, \"#0d0887\"], [0.1111111111111111, \"#46039f\"], [0.2222222222222222, \"#7201a8\"], [0.3333333333333333, \"#9c179e\"], [0.4444444444444444, \"#bd3786\"], [0.5555555555555556, \"#d8576b\"], [0.6666666666666666, \"#ed7953\"], [0.7777777777777778, \"#fb9f3a\"], [0.8888888888888888, \"#fdca26\"], [1.0, \"#f0f921\"]], \"type\": \"heatmapgl\"}], \"histogram\": [{\"marker\": {\"colorbar\": {\"outlinewidth\": 0, \"ticks\": \"\"}}, \"type\": \"histogram\"}], \"histogram2d\": [{\"colorbar\": {\"outlinewidth\": 0, \"ticks\": \"\"}, \"colorscale\": [[0.0, \"#0d0887\"], [0.1111111111111111, \"#46039f\"], [0.2222222222222222, \"#7201a8\"], [0.3333333333333333, \"#9c179e\"], [0.4444444444444444, \"#bd3786\"], [0.5555555555555556, \"#d8576b\"], [0.6666666666666666, \"#ed7953\"], [0.7777777777777778, \"#fb9f3a\"], [0.8888888888888888, \"#fdca26\"], [1.0, \"#f0f921\"]], \"type\": \"histogram2d\"}], \"histogram2dcontour\": [{\"colorbar\": {\"outlinewidth\": 0, \"ticks\": \"\"}, \"colorscale\": [[0.0, \"#0d0887\"], [0.1111111111111111, \"#46039f\"], [0.2222222222222222, \"#7201a8\"], [0.3333333333333333, \"#9c179e\"], [0.4444444444444444, \"#bd3786\"], [0.5555555555555556, \"#d8576b\"], [0.6666666666666666, \"#ed7953\"], [0.7777777777777778, \"#fb9f3a\"], [0.8888888888888888, \"#fdca26\"], [1.0, \"#f0f921\"]], \"type\": \"histogram2dcontour\"}], \"mesh3d\": [{\"colorbar\": {\"outlinewidth\": 0, \"ticks\": \"\"}, \"type\": \"mesh3d\"}], \"parcoords\": [{\"line\": {\"colorbar\": {\"outlinewidth\": 0, \"ticks\": \"\"}}, \"type\": \"parcoords\"}], \"pie\": [{\"automargin\": true, \"type\": \"pie\"}], \"scatter\": [{\"marker\": {\"colorbar\": {\"outlinewidth\": 0, \"ticks\": \"\"}}, \"type\": \"scatter\"}], \"scatter3d\": [{\"line\": {\"colorbar\": {\"outlinewidth\": 0, \"ticks\": \"\"}}, \"marker\": {\"colorbar\": {\"outlinewidth\": 0, \"ticks\": \"\"}}, \"type\": \"scatter3d\"}], \"scattercarpet\": [{\"marker\": {\"colorbar\": {\"outlinewidth\": 0, \"ticks\": \"\"}}, \"type\": \"scattercarpet\"}], \"scattergeo\": [{\"marker\": {\"colorbar\": {\"outlinewidth\": 0, \"ticks\": \"\"}}, \"type\": \"scattergeo\"}], \"scattergl\": [{\"marker\": {\"colorbar\": {\"outlinewidth\": 0, \"ticks\": \"\"}}, \"type\": \"scattergl\"}], \"scattermapbox\": [{\"marker\": {\"colorbar\": {\"outlinewidth\": 0, \"ticks\": \"\"}}, \"type\": \"scattermapbox\"}], \"scatterpolar\": [{\"marker\": {\"colorbar\": {\"outlinewidth\": 0, \"ticks\": \"\"}}, \"type\": \"scatterpolar\"}], \"scatterpolargl\": [{\"marker\": {\"colorbar\": {\"outlinewidth\": 0, \"ticks\": \"\"}}, \"type\": \"scatterpolargl\"}], \"scatterternary\": [{\"marker\": {\"colorbar\": {\"outlinewidth\": 0, \"ticks\": \"\"}}, \"type\": \"scatterternary\"}], \"surface\": [{\"colorbar\": {\"outlinewidth\": 0, \"ticks\": \"\"}, \"colorscale\": [[0.0, \"#0d0887\"], [0.1111111111111111, \"#46039f\"], [0.2222222222222222, \"#7201a8\"], [0.3333333333333333, \"#9c179e\"], [0.4444444444444444, \"#bd3786\"], [0.5555555555555556, \"#d8576b\"], [0.6666666666666666, \"#ed7953\"], [0.7777777777777778, \"#fb9f3a\"], [0.8888888888888888, \"#fdca26\"], [1.0, \"#f0f921\"]], \"type\": \"surface\"}], \"table\": [{\"cells\": {\"fill\": {\"color\": \"#EBF0F8\"}, \"line\": {\"color\": \"white\"}}, \"header\": {\"fill\": {\"color\": \"#C8D4E3\"}, \"line\": {\"color\": \"white\"}}, \"type\": \"table\"}]}, \"layout\": {\"annotationdefaults\": {\"arrowcolor\": \"#2a3f5f\", \"arrowhead\": 0, \"arrowwidth\": 1}, \"coloraxis\": {\"colorbar\": {\"outlinewidth\": 0, \"ticks\": \"\"}}, \"colorscale\": {\"diverging\": [[0, \"#8e0152\"], [0.1, \"#c51b7d\"], [0.2, \"#de77ae\"], [0.3, \"#f1b6da\"], [0.4, \"#fde0ef\"], [0.5, \"#f7f7f7\"], [0.6, \"#e6f5d0\"], [0.7, \"#b8e186\"], [0.8, \"#7fbc41\"], [0.9, \"#4d9221\"], [1, \"#276419\"]], \"sequential\": [[0.0, \"#0d0887\"], [0.1111111111111111, \"#46039f\"], [0.2222222222222222, \"#7201a8\"], [0.3333333333333333, \"#9c179e\"], [0.4444444444444444, \"#bd3786\"], [0.5555555555555556, \"#d8576b\"], [0.6666666666666666, \"#ed7953\"], [0.7777777777777778, \"#fb9f3a\"], [0.8888888888888888, \"#fdca26\"], [1.0, \"#f0f921\"]], \"sequentialminus\": [[0.0, \"#0d0887\"], [0.1111111111111111, \"#46039f\"], [0.2222222222222222, \"#7201a8\"], [0.3333333333333333, \"#9c179e\"], [0.4444444444444444, \"#bd3786\"], [0.5555555555555556, \"#d8576b\"], [0.6666666666666666, \"#ed7953\"], [0.7777777777777778, \"#fb9f3a\"], [0.8888888888888888, \"#fdca26\"], [1.0, \"#f0f921\"]]}, \"colorway\": [\"#636efa\", \"#EF553B\", \"#00cc96\", \"#ab63fa\", \"#FFA15A\", \"#19d3f3\", \"#FF6692\", \"#B6E880\", \"#FF97FF\", \"#FECB52\"], \"font\": {\"color\": \"#2a3f5f\"}, \"geo\": {\"bgcolor\": \"white\", \"lakecolor\": \"white\", \"landcolor\": \"#E5ECF6\", \"showlakes\": true, \"showland\": true, \"subunitcolor\": \"white\"}, \"hoverlabel\": {\"align\": \"left\"}, \"hovermode\": \"closest\", \"mapbox\": {\"style\": \"light\"}, \"paper_bgcolor\": \"white\", \"plot_bgcolor\": \"#E5ECF6\", \"polar\": {\"angularaxis\": {\"gridcolor\": \"white\", \"linecolor\": \"white\", \"ticks\": \"\"}, \"bgcolor\": \"#E5ECF6\", \"radialaxis\": {\"gridcolor\": \"white\", \"linecolor\": \"white\", \"ticks\": \"\"}}, \"scene\": {\"xaxis\": {\"backgroundcolor\": \"#E5ECF6\", \"gridcolor\": \"white\", \"gridwidth\": 2, \"linecolor\": \"white\", \"showbackground\": true, \"ticks\": \"\", \"zerolinecolor\": \"white\"}, \"yaxis\": {\"backgroundcolor\": \"#E5ECF6\", \"gridcolor\": \"white\", \"gridwidth\": 2, \"linecolor\": \"white\", \"showbackground\": true, \"ticks\": \"\", \"zerolinecolor\": \"white\"}, \"zaxis\": {\"backgroundcolor\": \"#E5ECF6\", \"gridcolor\": \"white\", \"gridwidth\": 2, \"linecolor\": \"white\", \"showbackground\": true, \"ticks\": \"\", \"zerolinecolor\": \"white\"}}, \"shapedefaults\": {\"line\": {\"color\": \"#2a3f5f\"}}, \"ternary\": {\"aaxis\": {\"gridcolor\": \"white\", \"linecolor\": \"white\", \"ticks\": \"\"}, \"baxis\": {\"gridcolor\": \"white\", \"linecolor\": \"white\", \"ticks\": \"\"}, \"bgcolor\": \"#E5ECF6\", \"caxis\": {\"gridcolor\": \"white\", \"linecolor\": \"white\", \"ticks\": \"\"}}, \"title\": {\"x\": 0.05}, \"xaxis\": {\"automargin\": true, \"gridcolor\": \"white\", \"linecolor\": \"white\", \"ticks\": \"\", \"title\": {\"standoff\": 15}, \"zerolinecolor\": \"white\", \"zerolinewidth\": 2}, \"yaxis\": {\"automargin\": true, \"gridcolor\": \"white\", \"linecolor\": \"white\", \"ticks\": \"\", \"title\": {\"standoff\": 15}, \"zerolinecolor\": \"white\", \"zerolinewidth\": 2}}}, \"title\": {\"text\": \"Weekly active minutes in Telegram\"}, \"width\": 800, \"xaxis\": {\"tickfont\": {\"size\": 14}, \"title\": {\"font\": {\"size\": 16}, \"text\": \"Date\"}}, \"yaxis\": {\"tickfont\": {\"size\": 14}, \"title\": {\"font\": {\"size\": 16}, \"text\": \"Number of minutes\"}}},\n                        {\"responsive\": true}\n                    ).then(function(){\n                            \nvar gd = document.getElementById('64dd7c46-8972-48f5-a634-579311fd2426');\nvar x = new MutationObserver(function (mutations, observer) {{\n        var display = window.getComputedStyle(gd).display;\n        if (!display || display === 'none') {{\n            console.log([gd, 'removed!']);\n            Plotly.purge(gd);\n            observer.disconnect();\n        }}\n}});\n\n// Listen for the removal of the full notebook cells\nvar notebookContainer = gd.closest('#notebook-container');\nif (notebookContainer) {{\n    x.observe(notebookContainer, {childList: true});\n}}\n\n// Listen for the clearing of the current output cell\nvar outputEl = gd.closest('.output');\nif (outputEl) {{\n    x.observe(outputEl, {childList: true});\n}}\n\n                        })\n                };\n                });\n            </script>\n        </div>"
     },
     "metadata": {},
     "output_type": "display_data"
    },
    {
     "data": {
      "application/vnd.plotly.v1+json": {
       "config": {
        "plotlyServerURL": "https://plot.ly"
       },
       "data": [
        {
         "name": "Data 1",
         "type": "bar",
         "x": [
          "2020-08-01",
          "2020-08-02",
          "2020-08-03",
          "2020-08-04",
          "2020-08-05",
          "2020-08-06",
          "2020-08-07",
          "2020-08-08",
          "2020-08-09",
          "2020-08-10",
          "2020-08-11",
          "2020-08-12",
          "2020-08-13",
          "2020-08-14",
          "2020-08-15",
          "2020-08-16",
          "2020-08-17",
          "2020-08-18",
          "2020-08-19",
          "2020-08-20",
          "2020-08-21",
          "2020-08-22",
          "2020-08-23",
          "2020-08-24",
          "2020-08-25",
          "2020-08-26",
          "2020-08-27",
          "2020-08-28",
          "2020-08-29",
          "2020-08-30"
         ],
         "y": [
          0.0,
          0.0,
          0.34,
          5.75,
          6.75,
          6.6,
          2.14,
          9.78,
          0.0,
          2.47,
          0.3,
          11.22,
          0.0,
          0.11,
          1.5899999999999999,
          0.0,
          2.25,
          1.03,
          0.65,
          10.84,
          0.0,
          0.45,
          0.0,
          0.39,
          0.26,
          0.23,
          1.74,
          2.83,
          0.89,
          0.13
         ]
        }
       ],
       "layout": {
        "autosize": false,
        "height": 800,
        "template": {
         "data": {
          "bar": [
           {
            "error_x": {
             "color": "#2a3f5f"
            },
            "error_y": {
             "color": "#2a3f5f"
            },
            "marker": {
             "line": {
              "color": "#E5ECF6",
              "width": 0.5
             }
            },
            "type": "bar"
           }
          ],
          "barpolar": [
           {
            "marker": {
             "line": {
              "color": "#E5ECF6",
              "width": 0.5
             }
            },
            "type": "barpolar"
           }
          ],
          "carpet": [
           {
            "aaxis": {
             "endlinecolor": "#2a3f5f",
             "gridcolor": "white",
             "linecolor": "white",
             "minorgridcolor": "white",
             "startlinecolor": "#2a3f5f"
            },
            "baxis": {
             "endlinecolor": "#2a3f5f",
             "gridcolor": "white",
             "linecolor": "white",
             "minorgridcolor": "white",
             "startlinecolor": "#2a3f5f"
            },
            "type": "carpet"
           }
          ],
          "choropleth": [
           {
            "colorbar": {
             "outlinewidth": 0,
             "ticks": ""
            },
            "type": "choropleth"
           }
          ],
          "contour": [
           {
            "colorbar": {
             "outlinewidth": 0,
             "ticks": ""
            },
            "colorscale": [
             [
              0.0,
              "#0d0887"
             ],
             [
              0.1111111111111111,
              "#46039f"
             ],
             [
              0.2222222222222222,
              "#7201a8"
             ],
             [
              0.3333333333333333,
              "#9c179e"
             ],
             [
              0.4444444444444444,
              "#bd3786"
             ],
             [
              0.5555555555555556,
              "#d8576b"
             ],
             [
              0.6666666666666666,
              "#ed7953"
             ],
             [
              0.7777777777777778,
              "#fb9f3a"
             ],
             [
              0.8888888888888888,
              "#fdca26"
             ],
             [
              1.0,
              "#f0f921"
             ]
            ],
            "type": "contour"
           }
          ],
          "contourcarpet": [
           {
            "colorbar": {
             "outlinewidth": 0,
             "ticks": ""
            },
            "type": "contourcarpet"
           }
          ],
          "heatmap": [
           {
            "colorbar": {
             "outlinewidth": 0,
             "ticks": ""
            },
            "colorscale": [
             [
              0.0,
              "#0d0887"
             ],
             [
              0.1111111111111111,
              "#46039f"
             ],
             [
              0.2222222222222222,
              "#7201a8"
             ],
             [
              0.3333333333333333,
              "#9c179e"
             ],
             [
              0.4444444444444444,
              "#bd3786"
             ],
             [
              0.5555555555555556,
              "#d8576b"
             ],
             [
              0.6666666666666666,
              "#ed7953"
             ],
             [
              0.7777777777777778,
              "#fb9f3a"
             ],
             [
              0.8888888888888888,
              "#fdca26"
             ],
             [
              1.0,
              "#f0f921"
             ]
            ],
            "type": "heatmap"
           }
          ],
          "heatmapgl": [
           {
            "colorbar": {
             "outlinewidth": 0,
             "ticks": ""
            },
            "colorscale": [
             [
              0.0,
              "#0d0887"
             ],
             [
              0.1111111111111111,
              "#46039f"
             ],
             [
              0.2222222222222222,
              "#7201a8"
             ],
             [
              0.3333333333333333,
              "#9c179e"
             ],
             [
              0.4444444444444444,
              "#bd3786"
             ],
             [
              0.5555555555555556,
              "#d8576b"
             ],
             [
              0.6666666666666666,
              "#ed7953"
             ],
             [
              0.7777777777777778,
              "#fb9f3a"
             ],
             [
              0.8888888888888888,
              "#fdca26"
             ],
             [
              1.0,
              "#f0f921"
             ]
            ],
            "type": "heatmapgl"
           }
          ],
          "histogram": [
           {
            "marker": {
             "colorbar": {
              "outlinewidth": 0,
              "ticks": ""
             }
            },
            "type": "histogram"
           }
          ],
          "histogram2d": [
           {
            "colorbar": {
             "outlinewidth": 0,
             "ticks": ""
            },
            "colorscale": [
             [
              0.0,
              "#0d0887"
             ],
             [
              0.1111111111111111,
              "#46039f"
             ],
             [
              0.2222222222222222,
              "#7201a8"
             ],
             [
              0.3333333333333333,
              "#9c179e"
             ],
             [
              0.4444444444444444,
              "#bd3786"
             ],
             [
              0.5555555555555556,
              "#d8576b"
             ],
             [
              0.6666666666666666,
              "#ed7953"
             ],
             [
              0.7777777777777778,
              "#fb9f3a"
             ],
             [
              0.8888888888888888,
              "#fdca26"
             ],
             [
              1.0,
              "#f0f921"
             ]
            ],
            "type": "histogram2d"
           }
          ],
          "histogram2dcontour": [
           {
            "colorbar": {
             "outlinewidth": 0,
             "ticks": ""
            },
            "colorscale": [
             [
              0.0,
              "#0d0887"
             ],
             [
              0.1111111111111111,
              "#46039f"
             ],
             [
              0.2222222222222222,
              "#7201a8"
             ],
             [
              0.3333333333333333,
              "#9c179e"
             ],
             [
              0.4444444444444444,
              "#bd3786"
             ],
             [
              0.5555555555555556,
              "#d8576b"
             ],
             [
              0.6666666666666666,
              "#ed7953"
             ],
             [
              0.7777777777777778,
              "#fb9f3a"
             ],
             [
              0.8888888888888888,
              "#fdca26"
             ],
             [
              1.0,
              "#f0f921"
             ]
            ],
            "type": "histogram2dcontour"
           }
          ],
          "mesh3d": [
           {
            "colorbar": {
             "outlinewidth": 0,
             "ticks": ""
            },
            "type": "mesh3d"
           }
          ],
          "parcoords": [
           {
            "line": {
             "colorbar": {
              "outlinewidth": 0,
              "ticks": ""
             }
            },
            "type": "parcoords"
           }
          ],
          "pie": [
           {
            "automargin": true,
            "type": "pie"
           }
          ],
          "scatter": [
           {
            "marker": {
             "colorbar": {
              "outlinewidth": 0,
              "ticks": ""
             }
            },
            "type": "scatter"
           }
          ],
          "scatter3d": [
           {
            "line": {
             "colorbar": {
              "outlinewidth": 0,
              "ticks": ""
             }
            },
            "marker": {
             "colorbar": {
              "outlinewidth": 0,
              "ticks": ""
             }
            },
            "type": "scatter3d"
           }
          ],
          "scattercarpet": [
           {
            "marker": {
             "colorbar": {
              "outlinewidth": 0,
              "ticks": ""
             }
            },
            "type": "scattercarpet"
           }
          ],
          "scattergeo": [
           {
            "marker": {
             "colorbar": {
              "outlinewidth": 0,
              "ticks": ""
             }
            },
            "type": "scattergeo"
           }
          ],
          "scattergl": [
           {
            "marker": {
             "colorbar": {
              "outlinewidth": 0,
              "ticks": ""
             }
            },
            "type": "scattergl"
           }
          ],
          "scattermapbox": [
           {
            "marker": {
             "colorbar": {
              "outlinewidth": 0,
              "ticks": ""
             }
            },
            "type": "scattermapbox"
           }
          ],
          "scatterpolar": [
           {
            "marker": {
             "colorbar": {
              "outlinewidth": 0,
              "ticks": ""
             }
            },
            "type": "scatterpolar"
           }
          ],
          "scatterpolargl": [
           {
            "marker": {
             "colorbar": {
              "outlinewidth": 0,
              "ticks": ""
             }
            },
            "type": "scatterpolargl"
           }
          ],
          "scatterternary": [
           {
            "marker": {
             "colorbar": {
              "outlinewidth": 0,
              "ticks": ""
             }
            },
            "type": "scatterternary"
           }
          ],
          "surface": [
           {
            "colorbar": {
             "outlinewidth": 0,
             "ticks": ""
            },
            "colorscale": [
             [
              0.0,
              "#0d0887"
             ],
             [
              0.1111111111111111,
              "#46039f"
             ],
             [
              0.2222222222222222,
              "#7201a8"
             ],
             [
              0.3333333333333333,
              "#9c179e"
             ],
             [
              0.4444444444444444,
              "#bd3786"
             ],
             [
              0.5555555555555556,
              "#d8576b"
             ],
             [
              0.6666666666666666,
              "#ed7953"
             ],
             [
              0.7777777777777778,
              "#fb9f3a"
             ],
             [
              0.8888888888888888,
              "#fdca26"
             ],
             [
              1.0,
              "#f0f921"
             ]
            ],
            "type": "surface"
           }
          ],
          "table": [
           {
            "cells": {
             "fill": {
              "color": "#EBF0F8"
             },
             "line": {
              "color": "white"
             }
            },
            "header": {
             "fill": {
              "color": "#C8D4E3"
             },
             "line": {
              "color": "white"
             }
            },
            "type": "table"
           }
          ]
         },
         "layout": {
          "annotationdefaults": {
           "arrowcolor": "#2a3f5f",
           "arrowhead": 0,
           "arrowwidth": 1
          },
          "coloraxis": {
           "colorbar": {
            "outlinewidth": 0,
            "ticks": ""
           }
          },
          "colorscale": {
           "diverging": [
            [
             0,
             "#8e0152"
            ],
            [
             0.1,
             "#c51b7d"
            ],
            [
             0.2,
             "#de77ae"
            ],
            [
             0.3,
             "#f1b6da"
            ],
            [
             0.4,
             "#fde0ef"
            ],
            [
             0.5,
             "#f7f7f7"
            ],
            [
             0.6,
             "#e6f5d0"
            ],
            [
             0.7,
             "#b8e186"
            ],
            [
             0.8,
             "#7fbc41"
            ],
            [
             0.9,
             "#4d9221"
            ],
            [
             1,
             "#276419"
            ]
           ],
           "sequential": [
            [
             0.0,
             "#0d0887"
            ],
            [
             0.1111111111111111,
             "#46039f"
            ],
            [
             0.2222222222222222,
             "#7201a8"
            ],
            [
             0.3333333333333333,
             "#9c179e"
            ],
            [
             0.4444444444444444,
             "#bd3786"
            ],
            [
             0.5555555555555556,
             "#d8576b"
            ],
            [
             0.6666666666666666,
             "#ed7953"
            ],
            [
             0.7777777777777778,
             "#fb9f3a"
            ],
            [
             0.8888888888888888,
             "#fdca26"
            ],
            [
             1.0,
             "#f0f921"
            ]
           ],
           "sequentialminus": [
            [
             0.0,
             "#0d0887"
            ],
            [
             0.1111111111111111,
             "#46039f"
            ],
            [
             0.2222222222222222,
             "#7201a8"
            ],
            [
             0.3333333333333333,
             "#9c179e"
            ],
            [
             0.4444444444444444,
             "#bd3786"
            ],
            [
             0.5555555555555556,
             "#d8576b"
            ],
            [
             0.6666666666666666,
             "#ed7953"
            ],
            [
             0.7777777777777778,
             "#fb9f3a"
            ],
            [
             0.8888888888888888,
             "#fdca26"
            ],
            [
             1.0,
             "#f0f921"
            ]
           ]
          },
          "colorway": [
           "#636efa",
           "#EF553B",
           "#00cc96",
           "#ab63fa",
           "#FFA15A",
           "#19d3f3",
           "#FF6692",
           "#B6E880",
           "#FF97FF",
           "#FECB52"
          ],
          "font": {
           "color": "#2a3f5f"
          },
          "geo": {
           "bgcolor": "white",
           "lakecolor": "white",
           "landcolor": "#E5ECF6",
           "showlakes": true,
           "showland": true,
           "subunitcolor": "white"
          },
          "hoverlabel": {
           "align": "left"
          },
          "hovermode": "closest",
          "mapbox": {
           "style": "light"
          },
          "paper_bgcolor": "white",
          "plot_bgcolor": "#E5ECF6",
          "polar": {
           "angularaxis": {
            "gridcolor": "white",
            "linecolor": "white",
            "ticks": ""
           },
           "bgcolor": "#E5ECF6",
           "radialaxis": {
            "gridcolor": "white",
            "linecolor": "white",
            "ticks": ""
           }
          },
          "scene": {
           "xaxis": {
            "backgroundcolor": "#E5ECF6",
            "gridcolor": "white",
            "gridwidth": 2,
            "linecolor": "white",
            "showbackground": true,
            "ticks": "",
            "zerolinecolor": "white"
           },
           "yaxis": {
            "backgroundcolor": "#E5ECF6",
            "gridcolor": "white",
            "gridwidth": 2,
            "linecolor": "white",
            "showbackground": true,
            "ticks": "",
            "zerolinecolor": "white"
           },
           "zaxis": {
            "backgroundcolor": "#E5ECF6",
            "gridcolor": "white",
            "gridwidth": 2,
            "linecolor": "white",
            "showbackground": true,
            "ticks": "",
            "zerolinecolor": "white"
           }
          },
          "shapedefaults": {
           "line": {
            "color": "#2a3f5f"
           }
          },
          "ternary": {
           "aaxis": {
            "gridcolor": "white",
            "linecolor": "white",
            "ticks": ""
           },
           "baxis": {
            "gridcolor": "white",
            "linecolor": "white",
            "ticks": ""
           },
           "bgcolor": "#E5ECF6",
           "caxis": {
            "gridcolor": "white",
            "linecolor": "white",
            "ticks": ""
           }
          },
          "title": {
           "x": 0.05
          },
          "xaxis": {
           "automargin": true,
           "gridcolor": "white",
           "linecolor": "white",
           "ticks": "",
           "title": {
            "standoff": 15
           },
           "zerolinecolor": "white",
           "zerolinewidth": 2
          },
          "yaxis": {
           "automargin": true,
           "gridcolor": "white",
           "linecolor": "white",
           "ticks": "",
           "title": {
            "standoff": 15
           },
           "zerolinecolor": "white",
           "zerolinewidth": 2
          }
         }
        },
        "title": {
         "text": "Monthly active minutes in Telegram"
        },
        "width": 800,
        "xaxis": {
         "tickfont": {
          "size": 14
         },
         "title": {
          "font": {
           "size": 16
          },
          "text": "Date"
         }
        },
        "yaxis": {
         "tickfont": {
          "size": 14
         },
         "title": {
          "font": {
           "size": 16
          },
          "text": "Number of minutes"
         }
        }
       }
      },
      "text/html": "<div>\n        \n        \n            <div id=\"e3804f25-3ca5-4573-9a6d-595eac12c9f6\" class=\"plotly-graph-div\" style=\"height:800px; width:800px;\"></div>\n            <script type=\"text/javascript\">\n                require([\"plotly\"], function(Plotly) {\n                    window.PLOTLYENV=window.PLOTLYENV || {};\n                    \n                if (document.getElementById(\"e3804f25-3ca5-4573-9a6d-595eac12c9f6\")) {\n                    Plotly.newPlot(\n                        'e3804f25-3ca5-4573-9a6d-595eac12c9f6',\n                        [{\"name\": \"Data 1\", \"type\": \"bar\", \"x\": [\"2020-08-01\", \"2020-08-02\", \"2020-08-03\", \"2020-08-04\", \"2020-08-05\", \"2020-08-06\", \"2020-08-07\", \"2020-08-08\", \"2020-08-09\", \"2020-08-10\", \"2020-08-11\", \"2020-08-12\", \"2020-08-13\", \"2020-08-14\", \"2020-08-15\", \"2020-08-16\", \"2020-08-17\", \"2020-08-18\", \"2020-08-19\", \"2020-08-20\", \"2020-08-21\", \"2020-08-22\", \"2020-08-23\", \"2020-08-24\", \"2020-08-25\", \"2020-08-26\", \"2020-08-27\", \"2020-08-28\", \"2020-08-29\", \"2020-08-30\"], \"y\": [0.0, 0.0, 0.34, 5.75, 6.75, 6.6, 2.14, 9.78, 0.0, 2.47, 0.3, 11.22, 0.0, 0.11, 1.5899999999999999, 0.0, 2.25, 1.03, 0.65, 10.84, 0.0, 0.45, 0.0, 0.39, 0.26, 0.23, 1.74, 2.83, 0.89, 0.13]}],\n                        {\"autosize\": false, \"height\": 800, \"template\": {\"data\": {\"bar\": [{\"error_x\": {\"color\": \"#2a3f5f\"}, \"error_y\": {\"color\": \"#2a3f5f\"}, \"marker\": {\"line\": {\"color\": \"#E5ECF6\", \"width\": 0.5}}, \"type\": \"bar\"}], \"barpolar\": [{\"marker\": {\"line\": {\"color\": \"#E5ECF6\", \"width\": 0.5}}, \"type\": \"barpolar\"}], \"carpet\": [{\"aaxis\": {\"endlinecolor\": \"#2a3f5f\", \"gridcolor\": \"white\", \"linecolor\": \"white\", \"minorgridcolor\": \"white\", \"startlinecolor\": \"#2a3f5f\"}, \"baxis\": {\"endlinecolor\": \"#2a3f5f\", \"gridcolor\": \"white\", \"linecolor\": \"white\", \"minorgridcolor\": \"white\", \"startlinecolor\": \"#2a3f5f\"}, \"type\": \"carpet\"}], \"choropleth\": [{\"colorbar\": {\"outlinewidth\": 0, \"ticks\": \"\"}, \"type\": \"choropleth\"}], \"contour\": [{\"colorbar\": {\"outlinewidth\": 0, \"ticks\": \"\"}, \"colorscale\": [[0.0, \"#0d0887\"], [0.1111111111111111, \"#46039f\"], [0.2222222222222222, \"#7201a8\"], [0.3333333333333333, \"#9c179e\"], [0.4444444444444444, \"#bd3786\"], [0.5555555555555556, \"#d8576b\"], [0.6666666666666666, \"#ed7953\"], [0.7777777777777778, \"#fb9f3a\"], [0.8888888888888888, \"#fdca26\"], [1.0, \"#f0f921\"]], \"type\": \"contour\"}], \"contourcarpet\": [{\"colorbar\": {\"outlinewidth\": 0, \"ticks\": \"\"}, \"type\": \"contourcarpet\"}], \"heatmap\": [{\"colorbar\": {\"outlinewidth\": 0, \"ticks\": \"\"}, \"colorscale\": [[0.0, \"#0d0887\"], [0.1111111111111111, \"#46039f\"], [0.2222222222222222, \"#7201a8\"], [0.3333333333333333, \"#9c179e\"], [0.4444444444444444, \"#bd3786\"], [0.5555555555555556, \"#d8576b\"], [0.6666666666666666, \"#ed7953\"], [0.7777777777777778, \"#fb9f3a\"], [0.8888888888888888, \"#fdca26\"], [1.0, \"#f0f921\"]], \"type\": \"heatmap\"}], \"heatmapgl\": [{\"colorbar\": {\"outlinewidth\": 0, \"ticks\": \"\"}, \"colorscale\": [[0.0, \"#0d0887\"], [0.1111111111111111, \"#46039f\"], [0.2222222222222222, \"#7201a8\"], [0.3333333333333333, \"#9c179e\"], [0.4444444444444444, \"#bd3786\"], [0.5555555555555556, \"#d8576b\"], [0.6666666666666666, \"#ed7953\"], [0.7777777777777778, \"#fb9f3a\"], [0.8888888888888888, \"#fdca26\"], [1.0, \"#f0f921\"]], \"type\": \"heatmapgl\"}], \"histogram\": [{\"marker\": {\"colorbar\": {\"outlinewidth\": 0, \"ticks\": \"\"}}, \"type\": \"histogram\"}], \"histogram2d\": [{\"colorbar\": {\"outlinewidth\": 0, \"ticks\": \"\"}, \"colorscale\": [[0.0, \"#0d0887\"], [0.1111111111111111, \"#46039f\"], [0.2222222222222222, \"#7201a8\"], [0.3333333333333333, \"#9c179e\"], [0.4444444444444444, \"#bd3786\"], [0.5555555555555556, \"#d8576b\"], [0.6666666666666666, \"#ed7953\"], [0.7777777777777778, \"#fb9f3a\"], [0.8888888888888888, \"#fdca26\"], [1.0, \"#f0f921\"]], \"type\": \"histogram2d\"}], \"histogram2dcontour\": [{\"colorbar\": {\"outlinewidth\": 0, \"ticks\": \"\"}, \"colorscale\": [[0.0, \"#0d0887\"], [0.1111111111111111, \"#46039f\"], [0.2222222222222222, \"#7201a8\"], [0.3333333333333333, \"#9c179e\"], [0.4444444444444444, \"#bd3786\"], [0.5555555555555556, \"#d8576b\"], [0.6666666666666666, \"#ed7953\"], [0.7777777777777778, \"#fb9f3a\"], [0.8888888888888888, \"#fdca26\"], [1.0, \"#f0f921\"]], \"type\": \"histogram2dcontour\"}], \"mesh3d\": [{\"colorbar\": {\"outlinewidth\": 0, \"ticks\": \"\"}, \"type\": \"mesh3d\"}], \"parcoords\": [{\"line\": {\"colorbar\": {\"outlinewidth\": 0, \"ticks\": \"\"}}, \"type\": \"parcoords\"}], \"pie\": [{\"automargin\": true, \"type\": \"pie\"}], \"scatter\": [{\"marker\": {\"colorbar\": {\"outlinewidth\": 0, \"ticks\": \"\"}}, \"type\": \"scatter\"}], \"scatter3d\": [{\"line\": {\"colorbar\": {\"outlinewidth\": 0, \"ticks\": \"\"}}, \"marker\": {\"colorbar\": {\"outlinewidth\": 0, \"ticks\": \"\"}}, \"type\": \"scatter3d\"}], \"scattercarpet\": [{\"marker\": {\"colorbar\": {\"outlinewidth\": 0, \"ticks\": \"\"}}, \"type\": \"scattercarpet\"}], \"scattergeo\": [{\"marker\": {\"colorbar\": {\"outlinewidth\": 0, \"ticks\": \"\"}}, \"type\": \"scattergeo\"}], \"scattergl\": [{\"marker\": {\"colorbar\": {\"outlinewidth\": 0, \"ticks\": \"\"}}, \"type\": \"scattergl\"}], \"scattermapbox\": [{\"marker\": {\"colorbar\": {\"outlinewidth\": 0, \"ticks\": \"\"}}, \"type\": \"scattermapbox\"}], \"scatterpolar\": [{\"marker\": {\"colorbar\": {\"outlinewidth\": 0, \"ticks\": \"\"}}, \"type\": \"scatterpolar\"}], \"scatterpolargl\": [{\"marker\": {\"colorbar\": {\"outlinewidth\": 0, \"ticks\": \"\"}}, \"type\": \"scatterpolargl\"}], \"scatterternary\": [{\"marker\": {\"colorbar\": {\"outlinewidth\": 0, \"ticks\": \"\"}}, \"type\": \"scatterternary\"}], \"surface\": [{\"colorbar\": {\"outlinewidth\": 0, \"ticks\": \"\"}, \"colorscale\": [[0.0, \"#0d0887\"], [0.1111111111111111, \"#46039f\"], [0.2222222222222222, \"#7201a8\"], [0.3333333333333333, \"#9c179e\"], [0.4444444444444444, \"#bd3786\"], [0.5555555555555556, \"#d8576b\"], [0.6666666666666666, \"#ed7953\"], [0.7777777777777778, \"#fb9f3a\"], [0.8888888888888888, \"#fdca26\"], [1.0, \"#f0f921\"]], \"type\": \"surface\"}], \"table\": [{\"cells\": {\"fill\": {\"color\": \"#EBF0F8\"}, \"line\": {\"color\": \"white\"}}, \"header\": {\"fill\": {\"color\": \"#C8D4E3\"}, \"line\": {\"color\": \"white\"}}, \"type\": \"table\"}]}, \"layout\": {\"annotationdefaults\": {\"arrowcolor\": \"#2a3f5f\", \"arrowhead\": 0, \"arrowwidth\": 1}, \"coloraxis\": {\"colorbar\": {\"outlinewidth\": 0, \"ticks\": \"\"}}, \"colorscale\": {\"diverging\": [[0, \"#8e0152\"], [0.1, \"#c51b7d\"], [0.2, \"#de77ae\"], [0.3, \"#f1b6da\"], [0.4, \"#fde0ef\"], [0.5, \"#f7f7f7\"], [0.6, \"#e6f5d0\"], [0.7, \"#b8e186\"], [0.8, \"#7fbc41\"], [0.9, \"#4d9221\"], [1, \"#276419\"]], \"sequential\": [[0.0, \"#0d0887\"], [0.1111111111111111, \"#46039f\"], [0.2222222222222222, \"#7201a8\"], [0.3333333333333333, \"#9c179e\"], [0.4444444444444444, \"#bd3786\"], [0.5555555555555556, \"#d8576b\"], [0.6666666666666666, \"#ed7953\"], [0.7777777777777778, \"#fb9f3a\"], [0.8888888888888888, \"#fdca26\"], [1.0, \"#f0f921\"]], \"sequentialminus\": [[0.0, \"#0d0887\"], [0.1111111111111111, \"#46039f\"], [0.2222222222222222, \"#7201a8\"], [0.3333333333333333, \"#9c179e\"], [0.4444444444444444, \"#bd3786\"], [0.5555555555555556, \"#d8576b\"], [0.6666666666666666, \"#ed7953\"], [0.7777777777777778, \"#fb9f3a\"], [0.8888888888888888, \"#fdca26\"], [1.0, \"#f0f921\"]]}, \"colorway\": [\"#636efa\", \"#EF553B\", \"#00cc96\", \"#ab63fa\", \"#FFA15A\", \"#19d3f3\", \"#FF6692\", \"#B6E880\", \"#FF97FF\", \"#FECB52\"], \"font\": {\"color\": \"#2a3f5f\"}, \"geo\": {\"bgcolor\": \"white\", \"lakecolor\": \"white\", \"landcolor\": \"#E5ECF6\", \"showlakes\": true, \"showland\": true, \"subunitcolor\": \"white\"}, \"hoverlabel\": {\"align\": \"left\"}, \"hovermode\": \"closest\", \"mapbox\": {\"style\": \"light\"}, \"paper_bgcolor\": \"white\", \"plot_bgcolor\": \"#E5ECF6\", \"polar\": {\"angularaxis\": {\"gridcolor\": \"white\", \"linecolor\": \"white\", \"ticks\": \"\"}, \"bgcolor\": \"#E5ECF6\", \"radialaxis\": {\"gridcolor\": \"white\", \"linecolor\": \"white\", \"ticks\": \"\"}}, \"scene\": {\"xaxis\": {\"backgroundcolor\": \"#E5ECF6\", \"gridcolor\": \"white\", \"gridwidth\": 2, \"linecolor\": \"white\", \"showbackground\": true, \"ticks\": \"\", \"zerolinecolor\": \"white\"}, \"yaxis\": {\"backgroundcolor\": \"#E5ECF6\", \"gridcolor\": \"white\", \"gridwidth\": 2, \"linecolor\": \"white\", \"showbackground\": true, \"ticks\": \"\", \"zerolinecolor\": \"white\"}, \"zaxis\": {\"backgroundcolor\": \"#E5ECF6\", \"gridcolor\": \"white\", \"gridwidth\": 2, \"linecolor\": \"white\", \"showbackground\": true, \"ticks\": \"\", \"zerolinecolor\": \"white\"}}, \"shapedefaults\": {\"line\": {\"color\": \"#2a3f5f\"}}, \"ternary\": {\"aaxis\": {\"gridcolor\": \"white\", \"linecolor\": \"white\", \"ticks\": \"\"}, \"baxis\": {\"gridcolor\": \"white\", \"linecolor\": \"white\", \"ticks\": \"\"}, \"bgcolor\": \"#E5ECF6\", \"caxis\": {\"gridcolor\": \"white\", \"linecolor\": \"white\", \"ticks\": \"\"}}, \"title\": {\"x\": 0.05}, \"xaxis\": {\"automargin\": true, \"gridcolor\": \"white\", \"linecolor\": \"white\", \"ticks\": \"\", \"title\": {\"standoff\": 15}, \"zerolinecolor\": \"white\", \"zerolinewidth\": 2}, \"yaxis\": {\"automargin\": true, \"gridcolor\": \"white\", \"linecolor\": \"white\", \"ticks\": \"\", \"title\": {\"standoff\": 15}, \"zerolinecolor\": \"white\", \"zerolinewidth\": 2}}}, \"title\": {\"text\": \"Monthly active minutes in Telegram\"}, \"width\": 800, \"xaxis\": {\"tickfont\": {\"size\": 14}, \"title\": {\"font\": {\"size\": 16}, \"text\": \"Date\"}}, \"yaxis\": {\"tickfont\": {\"size\": 14}, \"title\": {\"font\": {\"size\": 16}, \"text\": \"Number of minutes\"}}},\n                        {\"responsive\": true}\n                    ).then(function(){\n                            \nvar gd = document.getElementById('e3804f25-3ca5-4573-9a6d-595eac12c9f6');\nvar x = new MutationObserver(function (mutations, observer) {{\n        var display = window.getComputedStyle(gd).display;\n        if (!display || display === 'none') {{\n            console.log([gd, 'removed!']);\n            Plotly.purge(gd);\n            observer.disconnect();\n        }}\n}});\n\n// Listen for the removal of the full notebook cells\nvar notebookContainer = gd.closest('#notebook-container');\nif (notebookContainer) {{\n    x.observe(notebookContainer, {childList: true});\n}}\n\n// Listen for the clearing of the current output cell\nvar outputEl = gd.closest('.output');\nif (outputEl) {{\n    x.observe(outputEl, {childList: true});\n}}\n\n                        })\n                };\n                });\n            </script>\n        </div>"
     },
     "metadata": {},
     "output_type": "display_data"
    },
    {
     "data": {
      "application/vnd.plotly.v1+json": {
       "config": {
        "plotlyServerURL": "https://plot.ly"
       },
       "data": [
        {
         "name": "Data 1",
         "type": "bar",
         "x": [
          "2020-08-01",
          "2020-08-02",
          "2020-08-03",
          "2020-08-04",
          "2020-08-05",
          "2020-08-06",
          "2020-08-07",
          "2020-08-08",
          "2020-08-09",
          "2020-08-10",
          "2020-08-11",
          "2020-08-12",
          "2020-08-13",
          "2020-08-14",
          "2020-08-15",
          "2020-08-16",
          "2020-08-17",
          "2020-08-18",
          "2020-08-19",
          "2020-08-20",
          "2020-08-21",
          "2020-08-22",
          "2020-08-23",
          "2020-08-24",
          "2020-08-25",
          "2020-08-26",
          "2020-08-27",
          "2020-08-28",
          "2020-08-29",
          "2020-08-30",
          "2020-08-31",
          "2020-09-01",
          "2020-09-02",
          "2020-09-03",
          "2020-09-04",
          "2020-09-05",
          "2020-09-06",
          "2020-09-07",
          "2020-09-08",
          "2020-09-09",
          "2020-09-10",
          "2020-09-11",
          "2020-09-12",
          "2020-09-13",
          "2020-09-14",
          "2020-09-15",
          "2020-09-16",
          "2020-09-17",
          "2020-09-18",
          "2020-09-19",
          "2020-09-20",
          "2020-09-21",
          "2020-09-22",
          "2020-09-23",
          "2020-09-24",
          "2020-09-25",
          "2020-09-26",
          "2020-09-27",
          "2020-09-28",
          "2020-09-29",
          "2020-09-30",
          "2020-10-01",
          "2020-10-02",
          "2020-10-03",
          "2020-10-04",
          "2020-10-05",
          "2020-10-06",
          "2020-10-07",
          "2020-10-08",
          "2020-10-09",
          "2020-10-10",
          "2020-10-11",
          "2020-10-12",
          "2020-10-13",
          "2020-10-14",
          "2020-10-15",
          "2020-10-16",
          "2020-10-17",
          "2020-10-18",
          "2020-10-19",
          "2020-10-20",
          "2020-10-21",
          "2020-10-22",
          "2020-10-23",
          "2020-10-24",
          "2020-10-25",
          "2020-10-26",
          "2020-10-27",
          "2020-10-28",
          "2020-10-29",
          "2020-10-30",
          "2020-10-31",
          "2020-11-01",
          "2020-11-02",
          "2020-11-03",
          "2020-11-04",
          "2020-11-05",
          "2020-11-06",
          "2020-11-07",
          "2020-11-08",
          "2020-11-09",
          "2020-11-10",
          "2020-11-11",
          "2020-11-12",
          "2020-11-13",
          "2020-11-14",
          "2020-11-15",
          "2020-11-16",
          "2020-11-17",
          "2020-11-18",
          "2020-11-19",
          "2020-11-20",
          "2020-11-21",
          "2020-11-22",
          "2020-11-23",
          "2020-11-24",
          "2020-11-25",
          "2020-11-26",
          "2020-11-27",
          "2020-11-28",
          "2020-11-29",
          "2020-11-30",
          "2020-12-01",
          "2020-12-02",
          "2020-12-03",
          "2020-12-04",
          "2020-12-05",
          "2020-12-06",
          "2020-12-07",
          "2020-12-08",
          "2020-12-09",
          "2020-12-10",
          "2020-12-11",
          "2020-12-12",
          "2020-12-13",
          "2020-12-14",
          "2020-12-15",
          "2020-12-16",
          "2020-12-17",
          "2020-12-18",
          "2020-12-19",
          "2020-12-20",
          "2020-12-21",
          "2020-12-22",
          "2020-12-23",
          "2020-12-24",
          "2020-12-25",
          "2020-12-26",
          "2020-12-27",
          "2020-12-28",
          "2020-12-29",
          "2020-12-30",
          "2020-12-31",
          "2021-01-01",
          "2021-01-02",
          "2021-01-03",
          "2021-01-04",
          "2021-01-05",
          "2021-01-06",
          "2021-01-07",
          "2021-01-08",
          "2021-01-09",
          "2021-01-10",
          "2021-01-11",
          "2021-01-12",
          "2021-01-13",
          "2021-01-14",
          "2021-01-15",
          "2021-01-16",
          "2021-01-17",
          "2021-01-18",
          "2021-01-19",
          "2021-01-20",
          "2021-01-21",
          "2021-01-22",
          "2021-01-23",
          "2021-01-24",
          "2021-01-25",
          "2021-01-26",
          "2021-01-27",
          "2021-01-28",
          "2021-01-29",
          "2021-01-30",
          "2021-01-31",
          "2021-02-01",
          "2021-02-02",
          "2021-02-03",
          "2021-02-04",
          "2021-02-05",
          "2021-02-06",
          "2021-02-07",
          "2021-02-08",
          "2021-02-09",
          "2021-02-10",
          "2021-02-11",
          "2021-02-12",
          "2021-02-13",
          "2021-02-14",
          "2021-02-15",
          "2021-02-16",
          "2021-02-17",
          "2021-02-18",
          "2021-02-19",
          "2021-02-20",
          "2021-02-21",
          "2021-02-22",
          "2021-02-23",
          "2021-02-24",
          "2021-02-25",
          "2021-02-26",
          "2021-02-27",
          "2021-02-28",
          "2021-03-01",
          "2021-03-02",
          "2021-03-03",
          "2021-03-04",
          "2021-03-05",
          "2021-03-06",
          "2021-03-07",
          "2021-03-08",
          "2021-03-09",
          "2021-03-10",
          "2021-03-11",
          "2021-03-12",
          "2021-03-13",
          "2021-03-14",
          "2021-03-15",
          "2021-03-16",
          "2021-03-17",
          "2021-03-18",
          "2021-03-19",
          "2021-03-20",
          "2021-03-21",
          "2021-03-22",
          "2021-03-23",
          "2021-03-24",
          "2021-03-25",
          "2021-03-26",
          "2021-03-27",
          "2021-03-28",
          "2021-03-29",
          "2021-03-30",
          "2021-03-31",
          "2021-04-01",
          "2021-04-02",
          "2021-04-03",
          "2021-04-04",
          "2021-04-05",
          "2021-04-06",
          "2021-04-07",
          "2021-04-08",
          "2021-04-09",
          "2021-04-10",
          "2021-04-11",
          "2021-04-12",
          "2021-04-13",
          "2021-04-14",
          "2021-04-15",
          "2021-04-16",
          "2021-04-17",
          "2021-04-18",
          "2021-04-19",
          "2021-04-20",
          "2021-04-21",
          "2021-04-22",
          "2021-04-23",
          "2021-04-24",
          "2021-04-25",
          "2021-04-26",
          "2021-04-27",
          "2021-04-28",
          "2021-04-29",
          "2021-04-30",
          "2021-05-01",
          "2021-05-02",
          "2021-05-03",
          "2021-05-04",
          "2021-05-05",
          "2021-05-06",
          "2021-05-07",
          "2021-05-08",
          "2021-05-09",
          "2021-05-10",
          "2021-05-11",
          "2021-05-12",
          "2021-05-13",
          "2021-05-14",
          "2021-05-15",
          "2021-05-16",
          "2021-05-17",
          "2021-05-18",
          "2021-05-19",
          "2021-05-20",
          "2021-05-21",
          "2021-05-22",
          "2021-05-23",
          "2021-05-24",
          "2021-05-25",
          "2021-05-26",
          "2021-05-27",
          "2021-05-28",
          "2021-05-29",
          "2021-05-30",
          "2021-05-31",
          "2021-06-01",
          "2021-06-02",
          "2021-06-03",
          "2021-06-04",
          "2021-06-05",
          "2021-06-06",
          "2021-06-07",
          "2021-06-08",
          "2021-06-09",
          "2021-06-10",
          "2021-06-11",
          "2021-06-12",
          "2021-06-13",
          "2021-06-14",
          "2021-06-15",
          "2021-06-16",
          "2021-06-17",
          "2021-06-18",
          "2021-06-19",
          "2021-06-20",
          "2021-06-21",
          "2021-06-22",
          "2021-06-23",
          "2021-06-24",
          "2021-06-25",
          "2021-06-26",
          "2021-06-27",
          "2021-06-28",
          "2021-06-29",
          "2021-06-30",
          "2021-07-01",
          "2021-07-02",
          "2021-07-03",
          "2021-07-04",
          "2021-07-05",
          "2021-07-06",
          "2021-07-07",
          "2021-07-08",
          "2021-07-09",
          "2021-07-10",
          "2021-07-11",
          "2021-07-12",
          "2021-07-13",
          "2021-07-14",
          "2021-07-15",
          "2021-07-16",
          "2021-07-17",
          "2021-07-18",
          "2021-07-19",
          "2021-07-20",
          "2021-07-21",
          "2021-07-22",
          "2021-07-23",
          "2021-07-24",
          "2021-07-25",
          "2021-07-26",
          "2021-07-27",
          "2021-07-28",
          "2021-07-29",
          "2021-07-30",
          "2021-07-31"
         ],
         "y": [
          0.0,
          0.0,
          0.34,
          5.75,
          6.75,
          6.6,
          2.14,
          9.78,
          0.0,
          2.47,
          0.3,
          11.22,
          0.0,
          0.11,
          1.5899999999999999,
          0.0,
          2.25,
          1.03,
          0.65,
          10.84,
          0.0,
          0.45,
          0.0,
          0.39,
          0.26,
          0.23,
          1.74,
          2.83,
          0.89,
          0.13,
          9.229999999999999,
          26.72,
          18.91,
          6.1,
          6.08,
          17.45,
          7.61,
          26.83,
          47.53,
          47.71,
          64.99000000000001,
          0.0,
          0.0,
          0.0,
          0.0,
          0.0,
          0.0,
          0.0,
          0.0,
          0.0,
          0.0,
          0.0,
          0.0,
          0.0,
          0.0,
          0.0,
          0.0,
          0.0,
          0.0,
          0.0,
          0.0,
          0.0,
          0.0,
          0.0,
          0.0,
          0.0,
          0.0,
          0.0,
          0.0,
          0.0,
          0.0,
          0.0,
          0.0,
          0.0,
          0.0,
          0.0,
          0.0,
          0.0,
          0.0,
          0.0,
          0.0,
          0.0,
          0.0,
          0.0,
          0.0,
          0.0,
          0.0,
          0.0,
          0.0,
          0.0,
          0.0,
          0.0,
          0.0,
          0.0,
          0.0,
          0.0,
          0.0,
          0.0,
          0.0,
          0.0,
          0.0,
          0.0,
          0.0,
          0.0,
          0.0,
          0.0,
          0.0,
          0.0,
          0.0,
          0.0,
          0.0,
          0.0,
          0.0,
          0.0,
          0.0,
          0.0,
          0.0,
          0.0,
          0.0,
          0.0,
          0.0,
          0.0,
          0.0,
          0.0,
          0.0,
          0.0,
          0.0,
          0.0,
          0.0,
          0.0,
          0.0,
          0.0,
          0.0,
          0.0,
          0.0,
          0.0,
          0.0,
          0.0,
          0.0,
          0.0,
          0.0,
          0.0,
          0.0,
          0.0,
          0.0,
          0.0,
          0.0,
          0.0,
          0.0,
          0.0,
          0.0,
          0.0,
          0.0,
          0.0,
          0.0,
          0.0,
          0.0,
          0.0,
          0.0,
          0.0,
          0.0,
          0.0,
          0.0,
          0.0,
          0.0,
          0.0,
          0.0,
          0.0,
          0.0,
          0.0,
          0.0,
          0.0,
          0.0,
          0.0,
          0.0,
          0.0,
          0.0,
          0.0,
          0.0,
          0.0,
          0.0,
          0.0,
          0.0,
          0.0,
          0.0,
          0.0,
          0.0,
          0.0,
          0.0,
          0.0,
          0.0,
          0.0,
          0.0,
          0.0,
          0.0,
          0.0,
          0.0,
          0.0,
          0.0,
          0.0,
          0.0,
          0.0,
          0.0,
          0.0,
          0.0,
          0.0,
          0.0,
          0.0,
          0.0,
          0.0,
          0.0,
          0.0,
          0.0,
          0.0,
          0.0,
          0.0,
          0.0,
          0.0,
          0.0,
          0.0,
          0.0,
          0.0,
          0.0,
          0.0,
          0.0,
          0.0,
          0.0,
          0.0,
          0.0,
          0.0,
          0.0,
          0.0,
          0.0,
          0.0,
          0.0,
          0.0,
          0.0,
          0.0,
          0.0,
          0.0,
          0.0,
          0.0,
          0.0,
          0.0,
          0.0,
          0.0,
          0.0,
          0.0,
          0.0,
          0.0,
          0.0,
          0.0,
          0.0,
          0.0,
          0.0,
          0.0,
          0.0,
          0.0,
          0.0,
          0.0,
          0.0,
          0.0,
          0.0,
          0.0,
          0.0,
          0.0,
          0.0,
          0.0,
          0.0,
          0.0,
          0.0,
          0.0,
          0.0,
          0.0,
          0.0,
          0.0,
          0.0,
          0.0,
          0.0,
          0.0,
          0.0,
          0.0,
          0.0,
          0.0,
          0.0,
          0.0,
          0.0,
          0.0,
          0.0,
          0.0,
          0.0,
          0.0,
          0.0,
          0.0,
          0.0,
          0.0,
          0.0,
          0.0,
          0.0,
          0.0,
          0.0,
          0.0,
          0.0,
          0.0,
          0.0,
          0.0,
          0.0,
          0.0,
          0.0,
          0.0,
          0.0,
          0.0,
          0.0,
          0.0,
          0.0,
          0.0,
          0.0,
          0.0,
          0.0,
          0.0,
          0.0,
          0.0,
          0.0,
          0.0,
          0.0,
          0.0,
          0.0,
          0.0,
          0.0,
          0.0,
          0.0,
          0.0,
          0.0,
          0.0,
          0.0,
          0.0,
          0.0,
          0.0,
          0.0,
          0.0,
          0.0,
          0.0,
          0.0,
          0.0,
          0.0,
          0.0,
          0.0,
          0.0,
          0.0,
          0.0,
          0.0,
          0.0,
          0.0,
          0.0,
          0.0,
          0.0,
          0.0,
          0.0,
          0.0,
          0.0,
          0.0,
          0.0,
          0.0,
          0.0,
          0.0
         ]
        }
       ],
       "layout": {
        "autosize": false,
        "height": 800,
        "template": {
         "data": {
          "bar": [
           {
            "error_x": {
             "color": "#2a3f5f"
            },
            "error_y": {
             "color": "#2a3f5f"
            },
            "marker": {
             "line": {
              "color": "#E5ECF6",
              "width": 0.5
             }
            },
            "type": "bar"
           }
          ],
          "barpolar": [
           {
            "marker": {
             "line": {
              "color": "#E5ECF6",
              "width": 0.5
             }
            },
            "type": "barpolar"
           }
          ],
          "carpet": [
           {
            "aaxis": {
             "endlinecolor": "#2a3f5f",
             "gridcolor": "white",
             "linecolor": "white",
             "minorgridcolor": "white",
             "startlinecolor": "#2a3f5f"
            },
            "baxis": {
             "endlinecolor": "#2a3f5f",
             "gridcolor": "white",
             "linecolor": "white",
             "minorgridcolor": "white",
             "startlinecolor": "#2a3f5f"
            },
            "type": "carpet"
           }
          ],
          "choropleth": [
           {
            "colorbar": {
             "outlinewidth": 0,
             "ticks": ""
            },
            "type": "choropleth"
           }
          ],
          "contour": [
           {
            "colorbar": {
             "outlinewidth": 0,
             "ticks": ""
            },
            "colorscale": [
             [
              0.0,
              "#0d0887"
             ],
             [
              0.1111111111111111,
              "#46039f"
             ],
             [
              0.2222222222222222,
              "#7201a8"
             ],
             [
              0.3333333333333333,
              "#9c179e"
             ],
             [
              0.4444444444444444,
              "#bd3786"
             ],
             [
              0.5555555555555556,
              "#d8576b"
             ],
             [
              0.6666666666666666,
              "#ed7953"
             ],
             [
              0.7777777777777778,
              "#fb9f3a"
             ],
             [
              0.8888888888888888,
              "#fdca26"
             ],
             [
              1.0,
              "#f0f921"
             ]
            ],
            "type": "contour"
           }
          ],
          "contourcarpet": [
           {
            "colorbar": {
             "outlinewidth": 0,
             "ticks": ""
            },
            "type": "contourcarpet"
           }
          ],
          "heatmap": [
           {
            "colorbar": {
             "outlinewidth": 0,
             "ticks": ""
            },
            "colorscale": [
             [
              0.0,
              "#0d0887"
             ],
             [
              0.1111111111111111,
              "#46039f"
             ],
             [
              0.2222222222222222,
              "#7201a8"
             ],
             [
              0.3333333333333333,
              "#9c179e"
             ],
             [
              0.4444444444444444,
              "#bd3786"
             ],
             [
              0.5555555555555556,
              "#d8576b"
             ],
             [
              0.6666666666666666,
              "#ed7953"
             ],
             [
              0.7777777777777778,
              "#fb9f3a"
             ],
             [
              0.8888888888888888,
              "#fdca26"
             ],
             [
              1.0,
              "#f0f921"
             ]
            ],
            "type": "heatmap"
           }
          ],
          "heatmapgl": [
           {
            "colorbar": {
             "outlinewidth": 0,
             "ticks": ""
            },
            "colorscale": [
             [
              0.0,
              "#0d0887"
             ],
             [
              0.1111111111111111,
              "#46039f"
             ],
             [
              0.2222222222222222,
              "#7201a8"
             ],
             [
              0.3333333333333333,
              "#9c179e"
             ],
             [
              0.4444444444444444,
              "#bd3786"
             ],
             [
              0.5555555555555556,
              "#d8576b"
             ],
             [
              0.6666666666666666,
              "#ed7953"
             ],
             [
              0.7777777777777778,
              "#fb9f3a"
             ],
             [
              0.8888888888888888,
              "#fdca26"
             ],
             [
              1.0,
              "#f0f921"
             ]
            ],
            "type": "heatmapgl"
           }
          ],
          "histogram": [
           {
            "marker": {
             "colorbar": {
              "outlinewidth": 0,
              "ticks": ""
             }
            },
            "type": "histogram"
           }
          ],
          "histogram2d": [
           {
            "colorbar": {
             "outlinewidth": 0,
             "ticks": ""
            },
            "colorscale": [
             [
              0.0,
              "#0d0887"
             ],
             [
              0.1111111111111111,
              "#46039f"
             ],
             [
              0.2222222222222222,
              "#7201a8"
             ],
             [
              0.3333333333333333,
              "#9c179e"
             ],
             [
              0.4444444444444444,
              "#bd3786"
             ],
             [
              0.5555555555555556,
              "#d8576b"
             ],
             [
              0.6666666666666666,
              "#ed7953"
             ],
             [
              0.7777777777777778,
              "#fb9f3a"
             ],
             [
              0.8888888888888888,
              "#fdca26"
             ],
             [
              1.0,
              "#f0f921"
             ]
            ],
            "type": "histogram2d"
           }
          ],
          "histogram2dcontour": [
           {
            "colorbar": {
             "outlinewidth": 0,
             "ticks": ""
            },
            "colorscale": [
             [
              0.0,
              "#0d0887"
             ],
             [
              0.1111111111111111,
              "#46039f"
             ],
             [
              0.2222222222222222,
              "#7201a8"
             ],
             [
              0.3333333333333333,
              "#9c179e"
             ],
             [
              0.4444444444444444,
              "#bd3786"
             ],
             [
              0.5555555555555556,
              "#d8576b"
             ],
             [
              0.6666666666666666,
              "#ed7953"
             ],
             [
              0.7777777777777778,
              "#fb9f3a"
             ],
             [
              0.8888888888888888,
              "#fdca26"
             ],
             [
              1.0,
              "#f0f921"
             ]
            ],
            "type": "histogram2dcontour"
           }
          ],
          "mesh3d": [
           {
            "colorbar": {
             "outlinewidth": 0,
             "ticks": ""
            },
            "type": "mesh3d"
           }
          ],
          "parcoords": [
           {
            "line": {
             "colorbar": {
              "outlinewidth": 0,
              "ticks": ""
             }
            },
            "type": "parcoords"
           }
          ],
          "pie": [
           {
            "automargin": true,
            "type": "pie"
           }
          ],
          "scatter": [
           {
            "marker": {
             "colorbar": {
              "outlinewidth": 0,
              "ticks": ""
             }
            },
            "type": "scatter"
           }
          ],
          "scatter3d": [
           {
            "line": {
             "colorbar": {
              "outlinewidth": 0,
              "ticks": ""
             }
            },
            "marker": {
             "colorbar": {
              "outlinewidth": 0,
              "ticks": ""
             }
            },
            "type": "scatter3d"
           }
          ],
          "scattercarpet": [
           {
            "marker": {
             "colorbar": {
              "outlinewidth": 0,
              "ticks": ""
             }
            },
            "type": "scattercarpet"
           }
          ],
          "scattergeo": [
           {
            "marker": {
             "colorbar": {
              "outlinewidth": 0,
              "ticks": ""
             }
            },
            "type": "scattergeo"
           }
          ],
          "scattergl": [
           {
            "marker": {
             "colorbar": {
              "outlinewidth": 0,
              "ticks": ""
             }
            },
            "type": "scattergl"
           }
          ],
          "scattermapbox": [
           {
            "marker": {
             "colorbar": {
              "outlinewidth": 0,
              "ticks": ""
             }
            },
            "type": "scattermapbox"
           }
          ],
          "scatterpolar": [
           {
            "marker": {
             "colorbar": {
              "outlinewidth": 0,
              "ticks": ""
             }
            },
            "type": "scatterpolar"
           }
          ],
          "scatterpolargl": [
           {
            "marker": {
             "colorbar": {
              "outlinewidth": 0,
              "ticks": ""
             }
            },
            "type": "scatterpolargl"
           }
          ],
          "scatterternary": [
           {
            "marker": {
             "colorbar": {
              "outlinewidth": 0,
              "ticks": ""
             }
            },
            "type": "scatterternary"
           }
          ],
          "surface": [
           {
            "colorbar": {
             "outlinewidth": 0,
             "ticks": ""
            },
            "colorscale": [
             [
              0.0,
              "#0d0887"
             ],
             [
              0.1111111111111111,
              "#46039f"
             ],
             [
              0.2222222222222222,
              "#7201a8"
             ],
             [
              0.3333333333333333,
              "#9c179e"
             ],
             [
              0.4444444444444444,
              "#bd3786"
             ],
             [
              0.5555555555555556,
              "#d8576b"
             ],
             [
              0.6666666666666666,
              "#ed7953"
             ],
             [
              0.7777777777777778,
              "#fb9f3a"
             ],
             [
              0.8888888888888888,
              "#fdca26"
             ],
             [
              1.0,
              "#f0f921"
             ]
            ],
            "type": "surface"
           }
          ],
          "table": [
           {
            "cells": {
             "fill": {
              "color": "#EBF0F8"
             },
             "line": {
              "color": "white"
             }
            },
            "header": {
             "fill": {
              "color": "#C8D4E3"
             },
             "line": {
              "color": "white"
             }
            },
            "type": "table"
           }
          ]
         },
         "layout": {
          "annotationdefaults": {
           "arrowcolor": "#2a3f5f",
           "arrowhead": 0,
           "arrowwidth": 1
          },
          "coloraxis": {
           "colorbar": {
            "outlinewidth": 0,
            "ticks": ""
           }
          },
          "colorscale": {
           "diverging": [
            [
             0,
             "#8e0152"
            ],
            [
             0.1,
             "#c51b7d"
            ],
            [
             0.2,
             "#de77ae"
            ],
            [
             0.3,
             "#f1b6da"
            ],
            [
             0.4,
             "#fde0ef"
            ],
            [
             0.5,
             "#f7f7f7"
            ],
            [
             0.6,
             "#e6f5d0"
            ],
            [
             0.7,
             "#b8e186"
            ],
            [
             0.8,
             "#7fbc41"
            ],
            [
             0.9,
             "#4d9221"
            ],
            [
             1,
             "#276419"
            ]
           ],
           "sequential": [
            [
             0.0,
             "#0d0887"
            ],
            [
             0.1111111111111111,
             "#46039f"
            ],
            [
             0.2222222222222222,
             "#7201a8"
            ],
            [
             0.3333333333333333,
             "#9c179e"
            ],
            [
             0.4444444444444444,
             "#bd3786"
            ],
            [
             0.5555555555555556,
             "#d8576b"
            ],
            [
             0.6666666666666666,
             "#ed7953"
            ],
            [
             0.7777777777777778,
             "#fb9f3a"
            ],
            [
             0.8888888888888888,
             "#fdca26"
            ],
            [
             1.0,
             "#f0f921"
            ]
           ],
           "sequentialminus": [
            [
             0.0,
             "#0d0887"
            ],
            [
             0.1111111111111111,
             "#46039f"
            ],
            [
             0.2222222222222222,
             "#7201a8"
            ],
            [
             0.3333333333333333,
             "#9c179e"
            ],
            [
             0.4444444444444444,
             "#bd3786"
            ],
            [
             0.5555555555555556,
             "#d8576b"
            ],
            [
             0.6666666666666666,
             "#ed7953"
            ],
            [
             0.7777777777777778,
             "#fb9f3a"
            ],
            [
             0.8888888888888888,
             "#fdca26"
            ],
            [
             1.0,
             "#f0f921"
            ]
           ]
          },
          "colorway": [
           "#636efa",
           "#EF553B",
           "#00cc96",
           "#ab63fa",
           "#FFA15A",
           "#19d3f3",
           "#FF6692",
           "#B6E880",
           "#FF97FF",
           "#FECB52"
          ],
          "font": {
           "color": "#2a3f5f"
          },
          "geo": {
           "bgcolor": "white",
           "lakecolor": "white",
           "landcolor": "#E5ECF6",
           "showlakes": true,
           "showland": true,
           "subunitcolor": "white"
          },
          "hoverlabel": {
           "align": "left"
          },
          "hovermode": "closest",
          "mapbox": {
           "style": "light"
          },
          "paper_bgcolor": "white",
          "plot_bgcolor": "#E5ECF6",
          "polar": {
           "angularaxis": {
            "gridcolor": "white",
            "linecolor": "white",
            "ticks": ""
           },
           "bgcolor": "#E5ECF6",
           "radialaxis": {
            "gridcolor": "white",
            "linecolor": "white",
            "ticks": ""
           }
          },
          "scene": {
           "xaxis": {
            "backgroundcolor": "#E5ECF6",
            "gridcolor": "white",
            "gridwidth": 2,
            "linecolor": "white",
            "showbackground": true,
            "ticks": "",
            "zerolinecolor": "white"
           },
           "yaxis": {
            "backgroundcolor": "#E5ECF6",
            "gridcolor": "white",
            "gridwidth": 2,
            "linecolor": "white",
            "showbackground": true,
            "ticks": "",
            "zerolinecolor": "white"
           },
           "zaxis": {
            "backgroundcolor": "#E5ECF6",
            "gridcolor": "white",
            "gridwidth": 2,
            "linecolor": "white",
            "showbackground": true,
            "ticks": "",
            "zerolinecolor": "white"
           }
          },
          "shapedefaults": {
           "line": {
            "color": "#2a3f5f"
           }
          },
          "ternary": {
           "aaxis": {
            "gridcolor": "white",
            "linecolor": "white",
            "ticks": ""
           },
           "baxis": {
            "gridcolor": "white",
            "linecolor": "white",
            "ticks": ""
           },
           "bgcolor": "#E5ECF6",
           "caxis": {
            "gridcolor": "white",
            "linecolor": "white",
            "ticks": ""
           }
          },
          "title": {
           "x": 0.05
          },
          "xaxis": {
           "automargin": true,
           "gridcolor": "white",
           "linecolor": "white",
           "ticks": "",
           "title": {
            "standoff": 15
           },
           "zerolinecolor": "white",
           "zerolinewidth": 2
          },
          "yaxis": {
           "automargin": true,
           "gridcolor": "white",
           "linecolor": "white",
           "ticks": "",
           "title": {
            "standoff": 15
           },
           "zerolinecolor": "white",
           "zerolinewidth": 2
          }
         }
        },
        "title": {
         "text": "Annually active minutes in Telegram"
        },
        "width": 800,
        "xaxis": {
         "tickfont": {
          "size": 14
         },
         "title": {
          "font": {
           "size": 16
          },
          "text": "Date"
         }
        },
        "yaxis": {
         "tickfont": {
          "size": 14
         },
         "title": {
          "font": {
           "size": 16
          },
          "text": "Number of minutes"
         }
        }
       }
      },
      "text/html": "<div>\n        \n        \n            <div id=\"beb2bca7-3073-42d3-8839-5c56692c2326\" class=\"plotly-graph-div\" style=\"height:800px; width:800px;\"></div>\n            <script type=\"text/javascript\">\n                require([\"plotly\"], function(Plotly) {\n                    window.PLOTLYENV=window.PLOTLYENV || {};\n                    \n                if (document.getElementById(\"beb2bca7-3073-42d3-8839-5c56692c2326\")) {\n                    Plotly.newPlot(\n                        'beb2bca7-3073-42d3-8839-5c56692c2326',\n                        [{\"name\": \"Data 1\", \"type\": \"bar\", \"x\": [\"2020-08-01\", \"2020-08-02\", \"2020-08-03\", \"2020-08-04\", \"2020-08-05\", \"2020-08-06\", \"2020-08-07\", \"2020-08-08\", \"2020-08-09\", \"2020-08-10\", \"2020-08-11\", \"2020-08-12\", \"2020-08-13\", \"2020-08-14\", \"2020-08-15\", \"2020-08-16\", \"2020-08-17\", \"2020-08-18\", \"2020-08-19\", \"2020-08-20\", \"2020-08-21\", \"2020-08-22\", \"2020-08-23\", \"2020-08-24\", \"2020-08-25\", \"2020-08-26\", \"2020-08-27\", \"2020-08-28\", \"2020-08-29\", \"2020-08-30\", \"2020-08-31\", \"2020-09-01\", \"2020-09-02\", \"2020-09-03\", \"2020-09-04\", \"2020-09-05\", \"2020-09-06\", \"2020-09-07\", \"2020-09-08\", \"2020-09-09\", \"2020-09-10\", \"2020-09-11\", \"2020-09-12\", \"2020-09-13\", \"2020-09-14\", \"2020-09-15\", \"2020-09-16\", \"2020-09-17\", \"2020-09-18\", \"2020-09-19\", \"2020-09-20\", \"2020-09-21\", \"2020-09-22\", \"2020-09-23\", \"2020-09-24\", \"2020-09-25\", \"2020-09-26\", \"2020-09-27\", \"2020-09-28\", \"2020-09-29\", \"2020-09-30\", \"2020-10-01\", \"2020-10-02\", \"2020-10-03\", \"2020-10-04\", \"2020-10-05\", \"2020-10-06\", \"2020-10-07\", \"2020-10-08\", \"2020-10-09\", \"2020-10-10\", \"2020-10-11\", \"2020-10-12\", \"2020-10-13\", \"2020-10-14\", \"2020-10-15\", \"2020-10-16\", \"2020-10-17\", \"2020-10-18\", \"2020-10-19\", \"2020-10-20\", \"2020-10-21\", \"2020-10-22\", \"2020-10-23\", \"2020-10-24\", \"2020-10-25\", \"2020-10-26\", \"2020-10-27\", \"2020-10-28\", \"2020-10-29\", \"2020-10-30\", \"2020-10-31\", \"2020-11-01\", \"2020-11-02\", \"2020-11-03\", \"2020-11-04\", \"2020-11-05\", \"2020-11-06\", \"2020-11-07\", \"2020-11-08\", \"2020-11-09\", \"2020-11-10\", \"2020-11-11\", \"2020-11-12\", \"2020-11-13\", \"2020-11-14\", \"2020-11-15\", \"2020-11-16\", \"2020-11-17\", \"2020-11-18\", \"2020-11-19\", \"2020-11-20\", \"2020-11-21\", \"2020-11-22\", \"2020-11-23\", \"2020-11-24\", \"2020-11-25\", \"2020-11-26\", \"2020-11-27\", \"2020-11-28\", \"2020-11-29\", \"2020-11-30\", \"2020-12-01\", \"2020-12-02\", \"2020-12-03\", \"2020-12-04\", \"2020-12-05\", \"2020-12-06\", \"2020-12-07\", \"2020-12-08\", \"2020-12-09\", \"2020-12-10\", \"2020-12-11\", \"2020-12-12\", \"2020-12-13\", \"2020-12-14\", \"2020-12-15\", \"2020-12-16\", \"2020-12-17\", \"2020-12-18\", \"2020-12-19\", \"2020-12-20\", \"2020-12-21\", \"2020-12-22\", \"2020-12-23\", \"2020-12-24\", \"2020-12-25\", \"2020-12-26\", \"2020-12-27\", \"2020-12-28\", \"2020-12-29\", \"2020-12-30\", \"2020-12-31\", \"2021-01-01\", \"2021-01-02\", \"2021-01-03\", \"2021-01-04\", \"2021-01-05\", \"2021-01-06\", \"2021-01-07\", \"2021-01-08\", \"2021-01-09\", \"2021-01-10\", \"2021-01-11\", \"2021-01-12\", \"2021-01-13\", \"2021-01-14\", \"2021-01-15\", \"2021-01-16\", \"2021-01-17\", \"2021-01-18\", \"2021-01-19\", \"2021-01-20\", \"2021-01-21\", \"2021-01-22\", \"2021-01-23\", \"2021-01-24\", \"2021-01-25\", \"2021-01-26\", \"2021-01-27\", \"2021-01-28\", \"2021-01-29\", \"2021-01-30\", \"2021-01-31\", \"2021-02-01\", \"2021-02-02\", \"2021-02-03\", \"2021-02-04\", \"2021-02-05\", \"2021-02-06\", \"2021-02-07\", \"2021-02-08\", \"2021-02-09\", \"2021-02-10\", \"2021-02-11\", \"2021-02-12\", \"2021-02-13\", \"2021-02-14\", \"2021-02-15\", \"2021-02-16\", \"2021-02-17\", \"2021-02-18\", \"2021-02-19\", \"2021-02-20\", \"2021-02-21\", \"2021-02-22\", \"2021-02-23\", \"2021-02-24\", \"2021-02-25\", \"2021-02-26\", \"2021-02-27\", \"2021-02-28\", \"2021-03-01\", \"2021-03-02\", \"2021-03-03\", \"2021-03-04\", \"2021-03-05\", \"2021-03-06\", \"2021-03-07\", \"2021-03-08\", \"2021-03-09\", \"2021-03-10\", \"2021-03-11\", \"2021-03-12\", \"2021-03-13\", \"2021-03-14\", \"2021-03-15\", \"2021-03-16\", \"2021-03-17\", \"2021-03-18\", \"2021-03-19\", \"2021-03-20\", \"2021-03-21\", \"2021-03-22\", \"2021-03-23\", \"2021-03-24\", \"2021-03-25\", \"2021-03-26\", \"2021-03-27\", \"2021-03-28\", \"2021-03-29\", \"2021-03-30\", \"2021-03-31\", \"2021-04-01\", \"2021-04-02\", \"2021-04-03\", \"2021-04-04\", \"2021-04-05\", \"2021-04-06\", \"2021-04-07\", \"2021-04-08\", \"2021-04-09\", \"2021-04-10\", \"2021-04-11\", \"2021-04-12\", \"2021-04-13\", \"2021-04-14\", \"2021-04-15\", \"2021-04-16\", \"2021-04-17\", \"2021-04-18\", \"2021-04-19\", \"2021-04-20\", \"2021-04-21\", \"2021-04-22\", \"2021-04-23\", \"2021-04-24\", \"2021-04-25\", \"2021-04-26\", \"2021-04-27\", \"2021-04-28\", \"2021-04-29\", \"2021-04-30\", \"2021-05-01\", \"2021-05-02\", \"2021-05-03\", \"2021-05-04\", \"2021-05-05\", \"2021-05-06\", \"2021-05-07\", \"2021-05-08\", \"2021-05-09\", \"2021-05-10\", \"2021-05-11\", \"2021-05-12\", \"2021-05-13\", \"2021-05-14\", \"2021-05-15\", \"2021-05-16\", \"2021-05-17\", \"2021-05-18\", \"2021-05-19\", \"2021-05-20\", \"2021-05-21\", \"2021-05-22\", \"2021-05-23\", \"2021-05-24\", \"2021-05-25\", \"2021-05-26\", \"2021-05-27\", \"2021-05-28\", \"2021-05-29\", \"2021-05-30\", \"2021-05-31\", \"2021-06-01\", \"2021-06-02\", \"2021-06-03\", \"2021-06-04\", \"2021-06-05\", \"2021-06-06\", \"2021-06-07\", \"2021-06-08\", \"2021-06-09\", \"2021-06-10\", \"2021-06-11\", \"2021-06-12\", \"2021-06-13\", \"2021-06-14\", \"2021-06-15\", \"2021-06-16\", \"2021-06-17\", \"2021-06-18\", \"2021-06-19\", \"2021-06-20\", \"2021-06-21\", \"2021-06-22\", \"2021-06-23\", \"2021-06-24\", \"2021-06-25\", \"2021-06-26\", \"2021-06-27\", \"2021-06-28\", \"2021-06-29\", \"2021-06-30\", \"2021-07-01\", \"2021-07-02\", \"2021-07-03\", \"2021-07-04\", \"2021-07-05\", \"2021-07-06\", \"2021-07-07\", \"2021-07-08\", \"2021-07-09\", \"2021-07-10\", \"2021-07-11\", \"2021-07-12\", \"2021-07-13\", \"2021-07-14\", \"2021-07-15\", \"2021-07-16\", \"2021-07-17\", \"2021-07-18\", \"2021-07-19\", \"2021-07-20\", \"2021-07-21\", \"2021-07-22\", \"2021-07-23\", \"2021-07-24\", \"2021-07-25\", \"2021-07-26\", \"2021-07-27\", \"2021-07-28\", \"2021-07-29\", \"2021-07-30\", \"2021-07-31\"], \"y\": [0.0, 0.0, 0.34, 5.75, 6.75, 6.6, 2.14, 9.78, 0.0, 2.47, 0.3, 11.22, 0.0, 0.11, 1.5899999999999999, 0.0, 2.25, 1.03, 0.65, 10.84, 0.0, 0.45, 0.0, 0.39, 0.26, 0.23, 1.74, 2.83, 0.89, 0.13, 9.229999999999999, 26.72, 18.91, 6.1, 6.08, 17.45, 7.61, 26.83, 47.53, 47.71, 64.99000000000001, 0.0, 0.0, 0.0, 0.0, 0.0, 0.0, 0.0, 0.0, 0.0, 0.0, 0.0, 0.0, 0.0, 0.0, 0.0, 0.0, 0.0, 0.0, 0.0, 0.0, 0.0, 0.0, 0.0, 0.0, 0.0, 0.0, 0.0, 0.0, 0.0, 0.0, 0.0, 0.0, 0.0, 0.0, 0.0, 0.0, 0.0, 0.0, 0.0, 0.0, 0.0, 0.0, 0.0, 0.0, 0.0, 0.0, 0.0, 0.0, 0.0, 0.0, 0.0, 0.0, 0.0, 0.0, 0.0, 0.0, 0.0, 0.0, 0.0, 0.0, 0.0, 0.0, 0.0, 0.0, 0.0, 0.0, 0.0, 0.0, 0.0, 0.0, 0.0, 0.0, 0.0, 0.0, 0.0, 0.0, 0.0, 0.0, 0.0, 0.0, 0.0, 0.0, 0.0, 0.0, 0.0, 0.0, 0.0, 0.0, 0.0, 0.0, 0.0, 0.0, 0.0, 0.0, 0.0, 0.0, 0.0, 0.0, 0.0, 0.0, 0.0, 0.0, 0.0, 0.0, 0.0, 0.0, 0.0, 0.0, 0.0, 0.0, 0.0, 0.0, 0.0, 0.0, 0.0, 0.0, 0.0, 0.0, 0.0, 0.0, 0.0, 0.0, 0.0, 0.0, 0.0, 0.0, 0.0, 0.0, 0.0, 0.0, 0.0, 0.0, 0.0, 0.0, 0.0, 0.0, 0.0, 0.0, 0.0, 0.0, 0.0, 0.0, 0.0, 0.0, 0.0, 0.0, 0.0, 0.0, 0.0, 0.0, 0.0, 0.0, 0.0, 0.0, 0.0, 0.0, 0.0, 0.0, 0.0, 0.0, 0.0, 0.0, 0.0, 0.0, 0.0, 0.0, 0.0, 0.0, 0.0, 0.0, 0.0, 0.0, 0.0, 0.0, 0.0, 0.0, 0.0, 0.0, 0.0, 0.0, 0.0, 0.0, 0.0, 0.0, 0.0, 0.0, 0.0, 0.0, 0.0, 0.0, 0.0, 0.0, 0.0, 0.0, 0.0, 0.0, 0.0, 0.0, 0.0, 0.0, 0.0, 0.0, 0.0, 0.0, 0.0, 0.0, 0.0, 0.0, 0.0, 0.0, 0.0, 0.0, 0.0, 0.0, 0.0, 0.0, 0.0, 0.0, 0.0, 0.0, 0.0, 0.0, 0.0, 0.0, 0.0, 0.0, 0.0, 0.0, 0.0, 0.0, 0.0, 0.0, 0.0, 0.0, 0.0, 0.0, 0.0, 0.0, 0.0, 0.0, 0.0, 0.0, 0.0, 0.0, 0.0, 0.0, 0.0, 0.0, 0.0, 0.0, 0.0, 0.0, 0.0, 0.0, 0.0, 0.0, 0.0, 0.0, 0.0, 0.0, 0.0, 0.0, 0.0, 0.0, 0.0, 0.0, 0.0, 0.0, 0.0, 0.0, 0.0, 0.0, 0.0, 0.0, 0.0, 0.0, 0.0, 0.0, 0.0, 0.0, 0.0, 0.0, 0.0, 0.0, 0.0, 0.0, 0.0, 0.0, 0.0, 0.0, 0.0, 0.0, 0.0, 0.0, 0.0, 0.0, 0.0, 0.0, 0.0, 0.0, 0.0, 0.0, 0.0, 0.0, 0.0, 0.0, 0.0, 0.0, 0.0, 0.0, 0.0, 0.0, 0.0, 0.0, 0.0, 0.0, 0.0, 0.0, 0.0, 0.0, 0.0, 0.0, 0.0, 0.0]}],\n                        {\"autosize\": false, \"height\": 800, \"template\": {\"data\": {\"bar\": [{\"error_x\": {\"color\": \"#2a3f5f\"}, \"error_y\": {\"color\": \"#2a3f5f\"}, \"marker\": {\"line\": {\"color\": \"#E5ECF6\", \"width\": 0.5}}, \"type\": \"bar\"}], \"barpolar\": [{\"marker\": {\"line\": {\"color\": \"#E5ECF6\", \"width\": 0.5}}, \"type\": \"barpolar\"}], \"carpet\": [{\"aaxis\": {\"endlinecolor\": \"#2a3f5f\", \"gridcolor\": \"white\", \"linecolor\": \"white\", \"minorgridcolor\": \"white\", \"startlinecolor\": \"#2a3f5f\"}, \"baxis\": {\"endlinecolor\": \"#2a3f5f\", \"gridcolor\": \"white\", \"linecolor\": \"white\", \"minorgridcolor\": \"white\", \"startlinecolor\": \"#2a3f5f\"}, \"type\": \"carpet\"}], \"choropleth\": [{\"colorbar\": {\"outlinewidth\": 0, \"ticks\": \"\"}, \"type\": \"choropleth\"}], \"contour\": [{\"colorbar\": {\"outlinewidth\": 0, \"ticks\": \"\"}, \"colorscale\": [[0.0, \"#0d0887\"], [0.1111111111111111, \"#46039f\"], [0.2222222222222222, \"#7201a8\"], [0.3333333333333333, \"#9c179e\"], [0.4444444444444444, \"#bd3786\"], [0.5555555555555556, \"#d8576b\"], [0.6666666666666666, \"#ed7953\"], [0.7777777777777778, \"#fb9f3a\"], [0.8888888888888888, \"#fdca26\"], [1.0, \"#f0f921\"]], \"type\": \"contour\"}], \"contourcarpet\": [{\"colorbar\": {\"outlinewidth\": 0, \"ticks\": \"\"}, \"type\": \"contourcarpet\"}], \"heatmap\": [{\"colorbar\": {\"outlinewidth\": 0, \"ticks\": \"\"}, \"colorscale\": [[0.0, \"#0d0887\"], [0.1111111111111111, \"#46039f\"], [0.2222222222222222, \"#7201a8\"], [0.3333333333333333, \"#9c179e\"], [0.4444444444444444, \"#bd3786\"], [0.5555555555555556, \"#d8576b\"], [0.6666666666666666, \"#ed7953\"], [0.7777777777777778, \"#fb9f3a\"], [0.8888888888888888, \"#fdca26\"], [1.0, \"#f0f921\"]], \"type\": \"heatmap\"}], \"heatmapgl\": [{\"colorbar\": {\"outlinewidth\": 0, \"ticks\": \"\"}, \"colorscale\": [[0.0, \"#0d0887\"], [0.1111111111111111, \"#46039f\"], [0.2222222222222222, \"#7201a8\"], [0.3333333333333333, \"#9c179e\"], [0.4444444444444444, \"#bd3786\"], [0.5555555555555556, \"#d8576b\"], [0.6666666666666666, \"#ed7953\"], [0.7777777777777778, \"#fb9f3a\"], [0.8888888888888888, \"#fdca26\"], [1.0, \"#f0f921\"]], \"type\": \"heatmapgl\"}], \"histogram\": [{\"marker\": {\"colorbar\": {\"outlinewidth\": 0, \"ticks\": \"\"}}, \"type\": \"histogram\"}], \"histogram2d\": [{\"colorbar\": {\"outlinewidth\": 0, \"ticks\": \"\"}, \"colorscale\": [[0.0, \"#0d0887\"], [0.1111111111111111, \"#46039f\"], [0.2222222222222222, \"#7201a8\"], [0.3333333333333333, \"#9c179e\"], [0.4444444444444444, \"#bd3786\"], [0.5555555555555556, \"#d8576b\"], [0.6666666666666666, \"#ed7953\"], [0.7777777777777778, \"#fb9f3a\"], [0.8888888888888888, \"#fdca26\"], [1.0, \"#f0f921\"]], \"type\": \"histogram2d\"}], \"histogram2dcontour\": [{\"colorbar\": {\"outlinewidth\": 0, \"ticks\": \"\"}, \"colorscale\": [[0.0, \"#0d0887\"], [0.1111111111111111, \"#46039f\"], [0.2222222222222222, \"#7201a8\"], [0.3333333333333333, \"#9c179e\"], [0.4444444444444444, \"#bd3786\"], [0.5555555555555556, \"#d8576b\"], [0.6666666666666666, \"#ed7953\"], [0.7777777777777778, \"#fb9f3a\"], [0.8888888888888888, \"#fdca26\"], [1.0, \"#f0f921\"]], \"type\": \"histogram2dcontour\"}], \"mesh3d\": [{\"colorbar\": {\"outlinewidth\": 0, \"ticks\": \"\"}, \"type\": \"mesh3d\"}], \"parcoords\": [{\"line\": {\"colorbar\": {\"outlinewidth\": 0, \"ticks\": \"\"}}, \"type\": \"parcoords\"}], \"pie\": [{\"automargin\": true, \"type\": \"pie\"}], \"scatter\": [{\"marker\": {\"colorbar\": {\"outlinewidth\": 0, \"ticks\": \"\"}}, \"type\": \"scatter\"}], \"scatter3d\": [{\"line\": {\"colorbar\": {\"outlinewidth\": 0, \"ticks\": \"\"}}, \"marker\": {\"colorbar\": {\"outlinewidth\": 0, \"ticks\": \"\"}}, \"type\": \"scatter3d\"}], \"scattercarpet\": [{\"marker\": {\"colorbar\": {\"outlinewidth\": 0, \"ticks\": \"\"}}, \"type\": \"scattercarpet\"}], \"scattergeo\": [{\"marker\": {\"colorbar\": {\"outlinewidth\": 0, \"ticks\": \"\"}}, \"type\": \"scattergeo\"}], \"scattergl\": [{\"marker\": {\"colorbar\": {\"outlinewidth\": 0, \"ticks\": \"\"}}, \"type\": \"scattergl\"}], \"scattermapbox\": [{\"marker\": {\"colorbar\": {\"outlinewidth\": 0, \"ticks\": \"\"}}, \"type\": \"scattermapbox\"}], \"scatterpolar\": [{\"marker\": {\"colorbar\": {\"outlinewidth\": 0, \"ticks\": \"\"}}, \"type\": \"scatterpolar\"}], \"scatterpolargl\": [{\"marker\": {\"colorbar\": {\"outlinewidth\": 0, \"ticks\": \"\"}}, \"type\": \"scatterpolargl\"}], \"scatterternary\": [{\"marker\": {\"colorbar\": {\"outlinewidth\": 0, \"ticks\": \"\"}}, \"type\": \"scatterternary\"}], \"surface\": [{\"colorbar\": {\"outlinewidth\": 0, \"ticks\": \"\"}, \"colorscale\": [[0.0, \"#0d0887\"], [0.1111111111111111, \"#46039f\"], [0.2222222222222222, \"#7201a8\"], [0.3333333333333333, \"#9c179e\"], [0.4444444444444444, \"#bd3786\"], [0.5555555555555556, \"#d8576b\"], [0.6666666666666666, \"#ed7953\"], [0.7777777777777778, \"#fb9f3a\"], [0.8888888888888888, \"#fdca26\"], [1.0, \"#f0f921\"]], \"type\": \"surface\"}], \"table\": [{\"cells\": {\"fill\": {\"color\": \"#EBF0F8\"}, \"line\": {\"color\": \"white\"}}, \"header\": {\"fill\": {\"color\": \"#C8D4E3\"}, \"line\": {\"color\": \"white\"}}, \"type\": \"table\"}]}, \"layout\": {\"annotationdefaults\": {\"arrowcolor\": \"#2a3f5f\", \"arrowhead\": 0, \"arrowwidth\": 1}, \"coloraxis\": {\"colorbar\": {\"outlinewidth\": 0, \"ticks\": \"\"}}, \"colorscale\": {\"diverging\": [[0, \"#8e0152\"], [0.1, \"#c51b7d\"], [0.2, \"#de77ae\"], [0.3, \"#f1b6da\"], [0.4, \"#fde0ef\"], [0.5, \"#f7f7f7\"], [0.6, \"#e6f5d0\"], [0.7, \"#b8e186\"], [0.8, \"#7fbc41\"], [0.9, \"#4d9221\"], [1, \"#276419\"]], \"sequential\": [[0.0, \"#0d0887\"], [0.1111111111111111, \"#46039f\"], [0.2222222222222222, \"#7201a8\"], [0.3333333333333333, \"#9c179e\"], [0.4444444444444444, \"#bd3786\"], [0.5555555555555556, \"#d8576b\"], [0.6666666666666666, \"#ed7953\"], [0.7777777777777778, \"#fb9f3a\"], [0.8888888888888888, \"#fdca26\"], [1.0, \"#f0f921\"]], \"sequentialminus\": [[0.0, \"#0d0887\"], [0.1111111111111111, \"#46039f\"], [0.2222222222222222, \"#7201a8\"], [0.3333333333333333, \"#9c179e\"], [0.4444444444444444, \"#bd3786\"], [0.5555555555555556, \"#d8576b\"], [0.6666666666666666, \"#ed7953\"], [0.7777777777777778, \"#fb9f3a\"], [0.8888888888888888, \"#fdca26\"], [1.0, \"#f0f921\"]]}, \"colorway\": [\"#636efa\", \"#EF553B\", \"#00cc96\", \"#ab63fa\", \"#FFA15A\", \"#19d3f3\", \"#FF6692\", \"#B6E880\", \"#FF97FF\", \"#FECB52\"], \"font\": {\"color\": \"#2a3f5f\"}, \"geo\": {\"bgcolor\": \"white\", \"lakecolor\": \"white\", \"landcolor\": \"#E5ECF6\", \"showlakes\": true, \"showland\": true, \"subunitcolor\": \"white\"}, \"hoverlabel\": {\"align\": \"left\"}, \"hovermode\": \"closest\", \"mapbox\": {\"style\": \"light\"}, \"paper_bgcolor\": \"white\", \"plot_bgcolor\": \"#E5ECF6\", \"polar\": {\"angularaxis\": {\"gridcolor\": \"white\", \"linecolor\": \"white\", \"ticks\": \"\"}, \"bgcolor\": \"#E5ECF6\", \"radialaxis\": {\"gridcolor\": \"white\", \"linecolor\": \"white\", \"ticks\": \"\"}}, \"scene\": {\"xaxis\": {\"backgroundcolor\": \"#E5ECF6\", \"gridcolor\": \"white\", \"gridwidth\": 2, \"linecolor\": \"white\", \"showbackground\": true, \"ticks\": \"\", \"zerolinecolor\": \"white\"}, \"yaxis\": {\"backgroundcolor\": \"#E5ECF6\", \"gridcolor\": \"white\", \"gridwidth\": 2, \"linecolor\": \"white\", \"showbackground\": true, \"ticks\": \"\", \"zerolinecolor\": \"white\"}, \"zaxis\": {\"backgroundcolor\": \"#E5ECF6\", \"gridcolor\": \"white\", \"gridwidth\": 2, \"linecolor\": \"white\", \"showbackground\": true, \"ticks\": \"\", \"zerolinecolor\": \"white\"}}, \"shapedefaults\": {\"line\": {\"color\": \"#2a3f5f\"}}, \"ternary\": {\"aaxis\": {\"gridcolor\": \"white\", \"linecolor\": \"white\", \"ticks\": \"\"}, \"baxis\": {\"gridcolor\": \"white\", \"linecolor\": \"white\", \"ticks\": \"\"}, \"bgcolor\": \"#E5ECF6\", \"caxis\": {\"gridcolor\": \"white\", \"linecolor\": \"white\", \"ticks\": \"\"}}, \"title\": {\"x\": 0.05}, \"xaxis\": {\"automargin\": true, \"gridcolor\": \"white\", \"linecolor\": \"white\", \"ticks\": \"\", \"title\": {\"standoff\": 15}, \"zerolinecolor\": \"white\", \"zerolinewidth\": 2}, \"yaxis\": {\"automargin\": true, \"gridcolor\": \"white\", \"linecolor\": \"white\", \"ticks\": \"\", \"title\": {\"standoff\": 15}, \"zerolinecolor\": \"white\", \"zerolinewidth\": 2}}}, \"title\": {\"text\": \"Annually active minutes in Telegram\"}, \"width\": 800, \"xaxis\": {\"tickfont\": {\"size\": 14}, \"title\": {\"font\": {\"size\": 16}, \"text\": \"Date\"}}, \"yaxis\": {\"tickfont\": {\"size\": 14}, \"title\": {\"font\": {\"size\": 16}, \"text\": \"Number of minutes\"}}},\n                        {\"responsive\": true}\n                    ).then(function(){\n                            \nvar gd = document.getElementById('beb2bca7-3073-42d3-8839-5c56692c2326');\nvar x = new MutationObserver(function (mutations, observer) {{\n        var display = window.getComputedStyle(gd).display;\n        if (!display || display === 'none') {{\n            console.log([gd, 'removed!']);\n            Plotly.purge(gd);\n            observer.disconnect();\n        }}\n}});\n\n// Listen for the removal of the full notebook cells\nvar notebookContainer = gd.closest('#notebook-container');\nif (notebookContainer) {{\n    x.observe(notebookContainer, {childList: true});\n}}\n\n// Listen for the clearing of the current output cell\nvar outputEl = gd.closest('.output');\nif (outputEl) {{\n    x.observe(outputEl, {childList: true});\n}}\n\n                        })\n                };\n                });\n            </script>\n        </div>"
     },
     "metadata": {},
     "output_type": "display_data"
    }
   ],
   "source": [
    "import plotly.graph_objects as px\n",
    "\n",
    "plot_titles = ['Weekly active minutes in Telegram',\n",
    "               'Monthly active minutes in Telegram',\n",
    "               'Annually active minutes in Telegram']\n",
    "\n",
    "for n_data, period_data in enumerate(week_month_year_data):\n",
    "    plot = px.Figure(data=[go.Bar(\n",
    "        name = 'Data 1',\n",
    "        x = period_data[0],\n",
    "        y = period_data[1]\n",
    "       )])\n",
    "\n",
    "    plot.update_layout(\n",
    "        title_text=plot_titles[n_data],\n",
    "        autosize=False,\n",
    "        width=800,\n",
    "        height=800,\n",
    "        yaxis = dict(\n",
    "                title='Number of minutes',\n",
    "                titlefont_size=16,\n",
    "                tickfont_size=14),\n",
    "        xaxis = dict(\n",
    "                title='Date',\n",
    "                titlefont_size=16,\n",
    "                tickfont_size=14)\n",
    "    )\n",
    "\n",
    "    plot.show()\n"
   ]
  },
  {
   "cell_type": "code",
   "execution_count": 48,
   "outputs": [],
   "source": [
    "def convert_to_datetime_column(dialog_data):\n",
    "    dialog_data['date'] = pd.to_datetime(dialog_data['date']).dt.tz_localize(None)\n",
    "\n",
    "\n",
    "def get_read_write_time_on_msg(dialog_data, user_id_get_msg, start_date, end_date,\n",
    "                               column_name_write, column_name_read):\n",
    "    filtered_dialog_data = dialog_data[(start_date <= dialog_data['date']) & (dialog_data['date'] <= end_date)]\n",
    "\n",
    "    flag_first_my_message, previous_message_time = 0, ''\n",
    "    start_dialog_time, stop_dialog_time = 0, 0\n",
    "    dialog_active_seconds = 0\n",
    "\n",
    "    for index, row in filtered_dialog_data.iterrows():\n",
    "        if pd.isnull(row.message):\n",
    "            continue\n",
    "\n",
    "        if user_id_get_msg != \"all\":\n",
    "            if row.from_id != user_id_get_msg:\n",
    "                general_dialogs_df.at[index, column_name_read] = len(row.message.split()) / WORDS_SPEED_READING * 60\n",
    "                general_dialogs_df.at[index, column_name_write] =  0\n",
    "                dialog_active_seconds += len(row.message.split()) / WORDS_SPEED_READING * 60\n",
    "                continue\n",
    "\n",
    "        if flag_first_my_message == 0:\n",
    "            previous_message_time = row.date\n",
    "            flag_first_my_message = 1\n",
    "\n",
    "        time_before_my_messages = previous_message_time - row.date\n",
    "\n",
    "        TIME_FOR_READING_MESSAGE = len(row.message) / CHAR_SPEED_WRITING * 60\n",
    "        general_dialogs_df.at[index, column_name_read] = 0\n",
    "        general_dialogs_df.at[index, column_name_write] = TIME_FOR_READING_MESSAGE\n",
    "\n",
    "        # if message in user_id_get_msg queue of messages\n",
    "        if index < dialog_data.index[-1] and dialog_data[\"from_id\"][index + 1] == user_id_get_msg and \\\n",
    "                time_before_my_messages.total_seconds() < TIME_BETWEEN_USER_REPLIES:\n",
    "            previous_message_time = row.date\n",
    "            if stop_dialog_time == 0:\n",
    "                stop_dialog_time = row.date\n",
    "\n",
    "        else:\n",
    "            TIME_FOR_FIRST_YOUR_MESSAGE = TIME_FOR_THINKING + \\\n",
    "                                          len(row.message) / CHAR_SPEED_WRITING * 60\n",
    "            if stop_dialog_time == 0:\n",
    "                # if in user_id_get_msg queue of messages is only 1 message so add\n",
    "                # time for:\n",
    "                # reading received messages + thinking + writing the message\n",
    "                dialog_active_seconds += TIME_FOR_FIRST_YOUR_MESSAGE\n",
    "\n",
    "            else:\n",
    "                start_dialog_time = row.date\n",
    "\n",
    "                # get time between your query of messages\n",
    "                time_since = stop_dialog_time - start_dialog_time\n",
    "\n",
    "                # if time between messages is more TIME_BETWEEN_USER_REPLIES sec,\n",
    "                # so the dialog is stopped and\n",
    "                # we should not add this time to general time\n",
    "                if time_since.total_seconds() >= TIME_BETWEEN_USER_REPLIES:\n",
    "                    time_since = stop_dialog_time - previous_message_time\n",
    "                    dialog_active_seconds += time_since.total_seconds() + TIME_FOR_FIRST_YOUR_MESSAGE\n",
    "\n",
    "                else:\n",
    "                    # add TIME_FOR_FIRST_YOUR_MESSAGE sec - time for reading + writing first message\n",
    "                    dialog_active_seconds += time_since.total_seconds() + TIME_FOR_FIRST_YOUR_MESSAGE\n",
    "\n",
    "\n",
    "            previous_message_time = row.date\n",
    "            start_dialog_time, stop_dialog_time = 0, 0\n",
    "\n",
    "    return round(dialog_active_seconds / 60, 2)"
   ],
   "metadata": {
    "collapsed": false,
    "pycharm": {
     "name": "#%%\n"
    }
   }
  },
  {
   "cell_type": "code",
   "execution_count": 49,
   "outputs": [],
   "source": [
    "members_statistic_df = pd.read_csv(USER_PATH_TO_SAVE_GENERAL_DF)"
   ],
   "metadata": {
    "collapsed": false,
    "pycharm": {
     "name": "#%%\n"
    }
   }
  },
  {
   "cell_type": "markdown",
   "source": [
    "### 5) Change global variables to yours"
   ],
   "metadata": {
    "collapsed": false
   }
  },
  {
   "cell_type": "code",
   "execution_count": 50,
   "outputs": [],
   "source": [
    "user_id_get_msg = USER_ID\n",
    "\n",
    "# from what time start to analyse msgs - to what time to analyse msgs\n",
    "# set value to dates which are more on 1 day that days you want to be include\n",
    "# ex. if you set:\n",
    "# start_date = datetime.datetime(2020, 9, 1, 0, 0, 0)\n",
    "# end_date = datetime.datetime(2020, 9, 11, 0, 0, 0)\n",
    "# so real date range to analyse is 2.09.2020 - 10.09.2020\n",
    "start_date = datetime.datetime(2020, 8, 1, 0, 0, 0)\n",
    "end_date = datetime.datetime(2020, 9, 11, 0, 0, 0)"
   ],
   "metadata": {
    "collapsed": false,
    "pycharm": {
     "name": "#%%\n"
    }
   }
  },
  {
   "cell_type": "code",
   "execution_count": 51,
   "outputs": [
    {
     "name": "stderr",
     "output_type": "stream",
     "text": [
      "d:\\python\\envs\\venv_telegram_analysis\\lib\\site-packages\\ipykernel_launcher.py:2: SettingWithCopyWarning:\n",
      "\n",
      "\n",
      "A value is trying to be set on a copy of a slice from a DataFrame.\n",
      "Try using .loc[row_indexer,col_indexer] = value instead\n",
      "\n",
      "See the caveats in the documentation: http://pandas.pydata.org/pandas-docs/stable/user_guide/indexing.html#returning-a-view-versus-a-copy\n",
      "\n"
     ]
    },
    {
     "name": "stdout",
     "output_type": "stream",
     "text": [
      "My time spent on conversation with nan -- 42.95 min\n",
      "Friend's time spent on conversation with nan -- 7.11 min\n",
      "\n",
      "\n",
      "My time spent on conversation with nan -- 22.83 min\n",
      "Friend's time spent on conversation with nan -- 34.41 min\n",
      "\n",
      "\n",
      "My time spent on conversation with nan -- 0.05 min\n",
      "Friend's time spent on conversation with nan -- 1.07 min\n",
      "\n",
      "\n",
      "My time spent on conversation with nan -- 24.25 min\n",
      "Friend's time spent on conversation with nan -- 3.48 min\n",
      "\n",
      "\n",
      "My time spent on conversation with nan -- 115.4 min\n",
      "Friend's time spent on conversation with nan -- 11.63 min\n",
      "\n",
      "\n",
      "My time spent on conversation with nan -- 2.19 min\n",
      "Friend's time spent on conversation with nan -- 0.33 min\n",
      "\n",
      "\n",
      "My time spent on conversation with nan -- 36.37 min\n",
      "Friend's time spent on conversation with nan -- 36.44 min\n",
      "\n",
      "\n",
      "My time spent on conversation with nan -- 8.27 min\n",
      "Friend's time spent on conversation with nan -- 59.59 min\n",
      "\n",
      "\n",
      "My time spent on conversation with nan -- 39.51 min\n",
      "Friend's time spent on conversation with nan -- 3.71 min\n",
      "\n",
      "\n",
      "My time spent on conversation with nan -- 1.22 min\n",
      "Friend's time spent on conversation with nan -- 0.67 min\n",
      "\n",
      "\n"
     ]
    }
   ],
   "source": [
    "members_statistic_df[\"my_dialog_active_minutes_in_date_range\"] = -1\n",
    "members_statistic_df[\"friend_dialog_active_minutes_in_date_range\"] = -1\n",
    "general_dialogs_df[\"my_time_seconds_read\"], general_dialogs_df[\"my_time_seconds_write\"] = -1, -1\n",
    "general_dialogs_df[\"friend_time_seconds_read\"], general_dialogs_df[\"friend_time_seconds_write\"] = -1, -1\n",
    "\n",
    "for index, row in members_statistic_df.iterrows():\n",
    "    dialog_df = general_dialogs_df.loc[general_dialogs_df['dialog ID'] == row.user_id]\n",
    "    if dialog_df.empty:\n",
    "        continue\n",
    "\n",
    "    convert_to_datetime_column(dialog_df)\n",
    "\n",
    "    my_dialog_active_minutes_in_date_range = get_read_write_time_on_msg(dialog_df, user_id_get_msg,\n",
    "                                                                                   start_date, end_date,\n",
    "                                                                        'my_time_seconds_write',\n",
    "                                                                        'my_time_seconds_read'\n",
    "                                                                        )\n",
    "    if dialog_df[\"from_id\"][dialog_df.index[0]] == user_id_get_msg:\n",
    "        friend_id_get_msg = dialog_df[\"to_id\"][dialog_df.index[0]]\n",
    "    else:\n",
    "        friend_id_get_msg = dialog_df[\"from_id\"][dialog_df.index[0]]\n",
    "\n",
    "    friend_dialog_active_minutes_in_date_range = get_read_write_time_on_msg(dialog_df, friend_id_get_msg,\n",
    "                                                                                   start_date, end_date,\n",
    "                                                                            'my_time_seconds_write',\n",
    "                                                                            'my_time_seconds_read'\n",
    "                                                                            )\n",
    "    print(f'My time spent on conversation with {row.first_name} -- {my_dialog_active_minutes_in_date_range} min')\n",
    "    print(f'Friend\\'s time spent on conversation with {row.first_name} -- {friend_dialog_active_minutes_in_date_range} min')\n",
    "    print('\\n')\n",
    "    members_statistic_df.at[index, \"my_dialog_active_minutes_in_date_range\"] = my_dialog_active_minutes_in_date_range\n",
    "    members_statistic_df.at[index, \"friend_dialog_active_minutes_in_date_range\"] = friend_dialog_active_minutes_in_date_range"
   ],
   "metadata": {
    "collapsed": false,
    "pycharm": {
     "name": "#%%\n"
    }
   }
  },
  {
   "cell_type": "code",
   "execution_count": 52,
   "outputs": [
    {
     "name": "stdout",
     "output_type": "stream",
     "text": [
      "Check data\\processed_dialog_files\\user_stats.csv to see result statistics\n"
     ]
    },
    {
     "data": {
      "text/plain": "          user_id  first_name  last_name  username  gender  get_up_hour  \\\n0    4.189576e+07         NaN        NaN       NaN     NaN         14.0   \n1    5.241456e+07         NaN        NaN       NaN     NaN         10.0   \n2    5.411751e+07         NaN        NaN       NaN     NaN         13.0   \n3    5.515643e+07         NaN        NaN       NaN     NaN          2.0   \n4    5.641309e+07         NaN        NaN       NaN     NaN          6.0   \n..            ...         ...        ...       ...     ...          ...   \n293  1.266328e+09         NaN        NaN       NaN     NaN         -1.0   \n294  1.293020e+09         NaN        NaN       NaN     NaN         -1.0   \n295  1.348358e+09         NaN        NaN       NaN     NaN          6.0   \n296  1.353513e+09         NaN        NaN       NaN     NaN         13.0   \n297  1.359838e+09         NaN        NaN       NaN     NaN         -1.0   \n\n     go_bed_hour  my_dialog_active_minutes_in_date_range  \\\n0           20.0                                      -1   \n1           11.0                                      -1   \n2           14.0                                      -1   \n3            2.0                                      -1   \n4            6.0                                      -1   \n..           ...                                     ...   \n293         -1.0                                      -1   \n294         -1.0                                      -1   \n295          9.0                                      -1   \n296         14.0                                      -1   \n297         -1.0                                      -1   \n\n     friend_dialog_active_minutes_in_date_range  \n0                                            -1  \n1                                            -1  \n2                                            -1  \n3                                            -1  \n4                                            -1  \n..                                          ...  \n293                                          -1  \n294                                          -1  \n295                                          -1  \n296                                          -1  \n297                                          -1  \n\n[298 rows x 9 columns]",
      "text/html": "<div>\n<style scoped>\n    .dataframe tbody tr th:only-of-type {\n        vertical-align: middle;\n    }\n\n    .dataframe tbody tr th {\n        vertical-align: top;\n    }\n\n    .dataframe thead th {\n        text-align: right;\n    }\n</style>\n<table border=\"1\" class=\"dataframe\">\n  <thead>\n    <tr style=\"text-align: right;\">\n      <th></th>\n      <th>user_id</th>\n      <th>first_name</th>\n      <th>last_name</th>\n      <th>username</th>\n      <th>gender</th>\n      <th>get_up_hour</th>\n      <th>go_bed_hour</th>\n      <th>my_dialog_active_minutes_in_date_range</th>\n      <th>friend_dialog_active_minutes_in_date_range</th>\n    </tr>\n  </thead>\n  <tbody>\n    <tr>\n      <th>0</th>\n      <td>4.189576e+07</td>\n      <td>NaN</td>\n      <td>NaN</td>\n      <td>NaN</td>\n      <td>NaN</td>\n      <td>14.0</td>\n      <td>20.0</td>\n      <td>-1</td>\n      <td>-1</td>\n    </tr>\n    <tr>\n      <th>1</th>\n      <td>5.241456e+07</td>\n      <td>NaN</td>\n      <td>NaN</td>\n      <td>NaN</td>\n      <td>NaN</td>\n      <td>10.0</td>\n      <td>11.0</td>\n      <td>-1</td>\n      <td>-1</td>\n    </tr>\n    <tr>\n      <th>2</th>\n      <td>5.411751e+07</td>\n      <td>NaN</td>\n      <td>NaN</td>\n      <td>NaN</td>\n      <td>NaN</td>\n      <td>13.0</td>\n      <td>14.0</td>\n      <td>-1</td>\n      <td>-1</td>\n    </tr>\n    <tr>\n      <th>3</th>\n      <td>5.515643e+07</td>\n      <td>NaN</td>\n      <td>NaN</td>\n      <td>NaN</td>\n      <td>NaN</td>\n      <td>2.0</td>\n      <td>2.0</td>\n      <td>-1</td>\n      <td>-1</td>\n    </tr>\n    <tr>\n      <th>4</th>\n      <td>5.641309e+07</td>\n      <td>NaN</td>\n      <td>NaN</td>\n      <td>NaN</td>\n      <td>NaN</td>\n      <td>6.0</td>\n      <td>6.0</td>\n      <td>-1</td>\n      <td>-1</td>\n    </tr>\n    <tr>\n      <th>...</th>\n      <td>...</td>\n      <td>...</td>\n      <td>...</td>\n      <td>...</td>\n      <td>...</td>\n      <td>...</td>\n      <td>...</td>\n      <td>...</td>\n      <td>...</td>\n    </tr>\n    <tr>\n      <th>293</th>\n      <td>1.266328e+09</td>\n      <td>NaN</td>\n      <td>NaN</td>\n      <td>NaN</td>\n      <td>NaN</td>\n      <td>-1.0</td>\n      <td>-1.0</td>\n      <td>-1</td>\n      <td>-1</td>\n    </tr>\n    <tr>\n      <th>294</th>\n      <td>1.293020e+09</td>\n      <td>NaN</td>\n      <td>NaN</td>\n      <td>NaN</td>\n      <td>NaN</td>\n      <td>-1.0</td>\n      <td>-1.0</td>\n      <td>-1</td>\n      <td>-1</td>\n    </tr>\n    <tr>\n      <th>295</th>\n      <td>1.348358e+09</td>\n      <td>NaN</td>\n      <td>NaN</td>\n      <td>NaN</td>\n      <td>NaN</td>\n      <td>6.0</td>\n      <td>9.0</td>\n      <td>-1</td>\n      <td>-1</td>\n    </tr>\n    <tr>\n      <th>296</th>\n      <td>1.353513e+09</td>\n      <td>NaN</td>\n      <td>NaN</td>\n      <td>NaN</td>\n      <td>NaN</td>\n      <td>13.0</td>\n      <td>14.0</td>\n      <td>-1</td>\n      <td>-1</td>\n    </tr>\n    <tr>\n      <th>297</th>\n      <td>1.359838e+09</td>\n      <td>NaN</td>\n      <td>NaN</td>\n      <td>NaN</td>\n      <td>NaN</td>\n      <td>-1.0</td>\n      <td>-1.0</td>\n      <td>-1</td>\n      <td>-1</td>\n    </tr>\n  </tbody>\n</table>\n<p>298 rows × 9 columns</p>\n</div>"
     },
     "execution_count": 52,
     "metadata": {},
     "output_type": "execute_result"
    }
   ],
   "source": [
    "members_statistic_df.to_csv(USER_PATH_TO_SAVE_GENERAL_DF, index=False)\n",
    "print(f'Check {USER_PATH_TO_SAVE_GENERAL_DF} to see result statistics')\n",
    "members_statistic_df"
   ],
   "metadata": {
    "collapsed": false,
    "pycharm": {
     "name": "#%%\n"
    }
   }
  },
  {
   "cell_type": "code",
   "execution_count": null,
   "outputs": [],
   "source": [],
   "metadata": {
    "collapsed": false,
    "pycharm": {
     "name": "#%%\n"
    }
   }
  }
 ],
 "metadata": {
  "kernelspec": {
   "display_name": "Python 3",
   "language": "python",
   "name": "python3"
  },
  "language_info": {
   "codemirror_mode": {
    "name": "ipython",
    "version": 3
   },
   "file_extension": ".py",
   "mimetype": "text/x-python",
   "name": "python",
   "nbconvert_exporter": "python",
   "pygments_lexer": "ipython3",
   "version": "3.7.4"
  }
 },
 "nbformat": 4,
 "nbformat_minor": 2
}