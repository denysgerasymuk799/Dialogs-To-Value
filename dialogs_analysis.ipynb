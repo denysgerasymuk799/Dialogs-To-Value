{
 "cells": [
  {
   "cell_type": "code",
   "execution_count": 1,
   "metadata": {},
   "outputs": [
    {
     "ename": "ImportError",
     "evalue": "cannot import name 'Exception' from 'api' (/Users/akurochkin/testenv/lib/python3.8/site-packages/api/__init__.py)",
     "output_type": "error",
     "traceback": [
      "\u001b[0;31m---------------------------------------------------------------------------\u001b[0m",
      "\u001b[0;31mImportError\u001b[0m                               Traceback (most recent call last)",
      "\u001b[0;32m<ipython-input-1-8febec18c4db>\u001b[0m in \u001b[0;36m<module>\u001b[0;34m\u001b[0m\n\u001b[1;32m      1\u001b[0m \u001b[0;32mfrom\u001b[0m \u001b[0mpprint\u001b[0m \u001b[0;32mimport\u001b[0m \u001b[0mpprint\u001b[0m\u001b[0;34m\u001b[0m\u001b[0;34m\u001b[0m\u001b[0m\n\u001b[0;32m----> 2\u001b[0;31m \u001b[0;32mfrom\u001b[0m \u001b[0mutils\u001b[0m\u001b[0;34m.\u001b[0m\u001b[0mdata_transformation\u001b[0m \u001b[0;32mimport\u001b[0m \u001b[0mif_in_date_range\u001b[0m\u001b[0;34m\u001b[0m\u001b[0;34m\u001b[0m\u001b[0m\n\u001b[0m\u001b[1;32m      3\u001b[0m \u001b[0mget_ipython\u001b[0m\u001b[0;34m(\u001b[0m\u001b[0;34m)\u001b[0m\u001b[0;34m.\u001b[0m\u001b[0mrun_line_magic\u001b[0m\u001b[0;34m(\u001b[0m\u001b[0;34m'matplotlib'\u001b[0m\u001b[0;34m,\u001b[0m \u001b[0;34m'inline'\u001b[0m\u001b[0;34m)\u001b[0m\u001b[0;34m\u001b[0m\u001b[0;34m\u001b[0m\u001b[0m\n\u001b[1;32m      4\u001b[0m \u001b[0;32mimport\u001b[0m \u001b[0mjson\u001b[0m\u001b[0;34m\u001b[0m\u001b[0;34m\u001b[0m\u001b[0m\n\u001b[1;32m      5\u001b[0m \u001b[0;32mimport\u001b[0m \u001b[0mos\u001b[0m\u001b[0;34m\u001b[0m\u001b[0;34m\u001b[0m\u001b[0m\n",
      "\u001b[0;32m~/main/project/python/telegram-dialogs-analysis/utils/data_transformation.py\u001b[0m in \u001b[0;36m<module>\u001b[0;34m\u001b[0m\n\u001b[1;32m      9\u001b[0m \u001b[0;32mimport\u001b[0m \u001b[0mpymorphy2\u001b[0m\u001b[0;34m\u001b[0m\u001b[0;34m\u001b[0m\u001b[0m\n\u001b[1;32m     10\u001b[0m \u001b[0;32mimport\u001b[0m \u001b[0mtokenize_uk\u001b[0m\u001b[0;34m\u001b[0m\u001b[0;34m\u001b[0m\u001b[0m\n\u001b[0;32m---> 11\u001b[0;31m \u001b[0;32mfrom\u001b[0m \u001b[0mcube\u001b[0m\u001b[0;34m.\u001b[0m\u001b[0mapi\u001b[0m \u001b[0;32mimport\u001b[0m \u001b[0mCube\u001b[0m\u001b[0;34m\u001b[0m\u001b[0;34m\u001b[0m\u001b[0m\n\u001b[0m\u001b[1;32m     12\u001b[0m \u001b[0;32mfrom\u001b[0m \u001b[0mnltk\u001b[0m\u001b[0;34m.\u001b[0m\u001b[0mstem\u001b[0m\u001b[0;34m.\u001b[0m\u001b[0msnowball\u001b[0m \u001b[0;32mimport\u001b[0m \u001b[0mSnowballStemmer\u001b[0m\u001b[0;34m\u001b[0m\u001b[0;34m\u001b[0m\u001b[0m\n\u001b[1;32m     13\u001b[0m \u001b[0;32mfrom\u001b[0m \u001b[0mnltk\u001b[0m\u001b[0;34m.\u001b[0m\u001b[0mtokenize\u001b[0m \u001b[0;32mimport\u001b[0m \u001b[0mword_tokenize\u001b[0m\u001b[0;34m\u001b[0m\u001b[0;34m\u001b[0m\u001b[0m\n",
      "\u001b[0;32m~/testenv/lib/python3.8/site-packages/cube/__init__.py\u001b[0m in \u001b[0;36m<module>\u001b[0;34m\u001b[0m\n\u001b[1;32m      1\u001b[0m \u001b[0;32mfrom\u001b[0m \u001b[0mapi\u001b[0m \u001b[0;32mimport\u001b[0m \u001b[0;34m*\u001b[0m\u001b[0;34m\u001b[0m\u001b[0;34m\u001b[0m\u001b[0m\n\u001b[0;32m----> 2\u001b[0;31m \u001b[0;32mfrom\u001b[0m \u001b[0mapi\u001b[0m \u001b[0;32mimport\u001b[0m \u001b[0mException\u001b[0m\u001b[0;34m\u001b[0m\u001b[0;34m\u001b[0m\u001b[0m\n\u001b[0m\u001b[1;32m      3\u001b[0m \u001b[0;34m\u001b[0m\u001b[0m\n\u001b[1;32m      4\u001b[0m \u001b[0mException\u001b[0m \u001b[0;34m=\u001b[0m \u001b[0mException\u001b[0m\u001b[0;34m(\u001b[0m\u001b[0;34m\"cube.Exception\"\u001b[0m\u001b[0;34m)\u001b[0m\u001b[0;34m\u001b[0m\u001b[0;34m\u001b[0m\u001b[0m\n",
      "\u001b[0;31mImportError\u001b[0m: cannot import name 'Exception' from 'api' (/Users/akurochkin/testenv/lib/python3.8/site-packages/api/__init__.py)"
     ]
    }
   ],
   "source": [
    "from pprint import pprint\n",
    "from utils.data_transformation import if_in_date_range\n",
    "%matplotlib inline\n",
    "import json\n",
    "import os\n",
    "import pandas as pd\n",
    "import matplotlib.pyplot as plt\n",
    "import datetime\n",
    "import numpy as np\n",
    "\n",
    "from matplotlib.pyplot import figure\n",
    "import plotly.graph_objects as go"
   ]
  },
  {
   "cell_type": "code",
   "execution_count": 123,
   "metadata": {
    "pycharm": {
     "name": "#%%\n"
    }
   },
   "outputs": [],
   "source": [
    "# 1) Change USER_ID and paths to your dir locations=======================================\n",
    "# you can get your USER_ID from downloaded csv files\n",
    "\n",
    "# set paths to dirs in data dir\n",
    "path_data_dir = os.path.join(os.getcwd(), \"data\")\n",
    "\n",
    "path_dialogs_meta_dir = os.path.join(path_data_dir, \"dialogs_meta\")\n",
    "path_dialogs_dir = os.path.join(path_data_dir, \"dialogs\")\n",
    "\n",
    "path_to_dialogs_info = \"dialogs_info.json\"\n",
    "\n",
    "USER_ID = 511986933\n",
    "RESULT_NAME_STATISTICS = \"dialogs_data\""
   ]
  },
  {
   "cell_type": "code",
   "execution_count": 124,
   "metadata": {
    "pycharm": {
     "name": "#%%\n"
    }
   },
   "outputs": [],
   "source": [
    "dialogs_info = {\n",
    "    \"Private dialog\": {},\n",
    "    \"Group\": {},\n",
    "    \"Channel\": {}\n",
    "}\n",
    "\n",
    "# make dialogs_info dict: first level keys - \"Channel\", \"Private dialog\", \"Group\"\n",
    "# second level items - \"<name_of_dialog>\": <id>\n",
    "for file in os.listdir(path_dialogs_meta_dir):\n",
    "    if file[-4:] == \"json\":\n",
    "        with open(os.path.join(path_dialogs_meta_dir, file), \"r\", encoding=\"utf8\") as meta_file:\n",
    "            data = json.load(meta_file)\n",
    "\n",
    "        dialogs_info[data[\"type\"]][data[\"name\"]] = data[\"id\"]\n",
    "\n",
    "# 1) save results\n",
    "with open(path_to_dialogs_info, \"w\", encoding=\"utf-8\") as f:\n",
    "    json.dump(dialogs_info, f, indent=4, ensure_ascii=False)\n",
    "\n",
    "# print(\"dialogs_info\")\n",
    "# pprint(dialogs_info)"
   ]
  },
  {
   "cell_type": "markdown",
   "metadata": {
    "pycharm": {
     "name": "#%% md\n"
    }
   },
   "source": [
    "## Plot of daily activity (09.08.2020)"
   ]
  },
  {
   "cell_type": "code",
   "execution_count": 125,
   "metadata": {
    "pycharm": {
     "name": "#%%\n"
    }
   },
   "outputs": [],
   "source": [
    "# TODO: write such functions is a antipattern.\n",
    "# such code is a spagetti code\n",
    "# you should: 1. decompose it on the simpler methods, 2. move all constants as (40 + 30) to the variables and comment logic behind them\n",
    "\n",
    "def get_hours_dict():\n",
    "    plot_data = {}\n",
    "    for hour in range(24):\n",
    "        if hour < 10:\n",
    "            hour = '0' + str(hour)\n",
    "            plot_data[hour] = 0\n",
    "        else:\n",
    "            plot_data[str(hour)] = 0\n",
    "    return plot_data\n",
    "\n",
    "\n",
    "def get_our_local_time(msg_time):\n",
    "    our_local_time = int(msg_time) + 2\n",
    "    if our_local_time < 10:\n",
    "        our_local_time = \"0\" + str(our_local_time)\n",
    "\n",
    "    else:\n",
    "        our_local_time = str(our_local_time)\n",
    "\n",
    "    return our_local_time\n",
    "\n",
    "\n",
    "def get_user_daily_activity(dialogs_info, dialog_type, user_id_get_msg, date_before, date_after):\n",
    "    plot_data = get_hours_dict()\n",
    "\n",
    "    # go through all dialogs on special dialog type in dialogs_info dict\n",
    "    # friend - name of dialog\n",
    "    for friend, dialog_id in dialogs_info[dialog_type].items():\n",
    "        dialog_id = str(dialog_id)\n",
    "        if dialog_id + \".csv\" not in os.listdir(path_dialogs_dir):\n",
    "            continue\n",
    "\n",
    "        dialog_data = pd.read_csv(os.path.join(path_dialogs_dir, dialog_id + \".csv\"))\n",
    "\n",
    "        for row in dialog_data.index:\n",
    "            if user_id_get_msg != \"all\":\n",
    "                if dialog_data[\"from_id\"][row] != user_id_get_msg:\n",
    "                    continue\n",
    "\n",
    "            dialog_datetime = dialog_data[\"date\"][row][:-6]\n",
    "            flag_in_range = if_in_date_range(dialog_datetime, date_before, date_after)\n",
    "            if flag_in_range == 'Dialog after date_after':\n",
    "                continue\n",
    "\n",
    "            elif not flag_in_range:\n",
    "                break\n",
    "\n",
    "            elif flag_in_range:\n",
    "                our_local_time = get_our_local_time(dialog_data['date'][row][11:13])\n",
    "                plot_data[our_local_time] += 1\n",
    "\n",
    "    lists = sorted(plot_data.items())\n",
    "    x, y = zip(*lists)\n",
    "\n",
    "    return x, y, lists"
   ]
  },
  {
   "cell_type": "code",
   "execution_count": 127,
   "metadata": {
    "pycharm": {
     "name": "#%%\n"
    }
   },
   "outputs": [
    {
     "data": {
      "image/png": "[encoded data removed]",
      "text/plain": [
       "<Figure size 800x640 with 1 Axes>"
      ]
     },
     "metadata": {},
     "output_type": "display_data"
    },
    {
     "data": {
      "application/vnd.plotly.v1+json": {
       "config": {
        "plotlyServerURL": "https://plot.ly"
       },
       "data": [
        {
         "marker": {
          "line": {
           "color": "rgb(105, 105, 105, 1.0)",
           "width": 3
          }
         },
         "name": "4-08-2020",
         "orientation": "h",
         "type": "bar",
         "x": [
          0,
          0,
          0,
          0,
          0,
          0,
          0,
          0,
          2,
          3,
          0,
          0,
          3,
          6,
          0,
          1,
          2,
          1,
          0,
          0,
          9,
          0,
          0,
          16
         ],
         "y": [
          "00",
          "01",
          "02",
          "03",
          "04",
          "05",
          "06",
          "07",
          "08",
          "09",
          "10",
          "11",
          "12",
          "13",
          "14",
          "15",
          "16",
          "17",
          "18",
          "19",
          "20",
          "21",
          "22",
          "23"
         ]
        },
        {
         "marker": {
          "line": {
           "color": "rgb(105, 105, 105, 1.0)",
           "width": 3
          }
         },
         "name": "5-08-2020",
         "orientation": "h",
         "type": "bar",
         "x": [
          0,
          0,
          0,
          0,
          0,
          0,
          0,
          0,
          0,
          0,
          20,
          23,
          12,
          5,
          1,
          0,
          10,
          19,
          12,
          5,
          8,
          0,
          11,
          16
         ],
         "y": [
          "00",
          "01",
          "02",
          "03",
          "04",
          "05",
          "06",
          "07",
          "08",
          "09",
          "10",
          "11",
          "12",
          "13",
          "14",
          "15",
          "16",
          "17",
          "18",
          "19",
          "20",
          "21",
          "22",
          "23"
         ]
        },
        {
         "marker": {
          "line": {
           "color": "rgb(105, 105, 105, 1.0)",
           "width": 3
          }
         },
         "name": "6-08-2020",
         "orientation": "h",
         "type": "bar",
         "x": [
          0,
          0,
          0,
          0,
          0,
          0,
          0,
          0,
          0,
          1,
          5,
          2,
          4,
          60,
          0,
          6,
          3,
          3,
          0,
          8,
          14,
          12,
          0,
          1
         ],
         "y": [
          "00",
          "01",
          "02",
          "03",
          "04",
          "05",
          "06",
          "07",
          "08",
          "09",
          "10",
          "11",
          "12",
          "13",
          "14",
          "15",
          "16",
          "17",
          "18",
          "19",
          "20",
          "21",
          "22",
          "23"
         ]
        },
        {
         "marker": {
          "line": {
           "color": "rgb(105, 105, 105, 1.0)",
           "width": 3
          }
         },
         "name": "7-08-2020",
         "orientation": "h",
         "type": "bar",
         "x": [
          0,
          0,
          0,
          0,
          0,
          0,
          0,
          0,
          0,
          0,
          4,
          3,
          2,
          1,
          16,
          0,
          3,
          0,
          0,
          0,
          2,
          0,
          0,
          1
         ],
         "y": [
          "00",
          "01",
          "02",
          "03",
          "04",
          "05",
          "06",
          "07",
          "08",
          "09",
          "10",
          "11",
          "12",
          "13",
          "14",
          "15",
          "16",
          "17",
          "18",
          "19",
          "20",
          "21",
          "22",
          "23"
         ]
        },
        {
         "marker": {
          "line": {
           "color": "rgb(105, 105, 105, 1.0)",
           "width": 3
          }
         },
         "name": "8-08-2020",
         "orientation": "h",
         "type": "bar",
         "x": [
          0,
          0,
          0,
          0,
          0,
          0,
          0,
          0,
          0,
          2,
          18,
          3,
          6,
          5,
          0,
          0,
          0,
          0,
          0,
          3,
          7,
          0,
          2,
          2
         ],
         "y": [
          "00",
          "01",
          "02",
          "03",
          "04",
          "05",
          "06",
          "07",
          "08",
          "09",
          "10",
          "11",
          "12",
          "13",
          "14",
          "15",
          "16",
          "17",
          "18",
          "19",
          "20",
          "21",
          "22",
          "23"
         ]
        },
        {
         "marker": {
          "line": {
           "color": "rgb(105, 105, 105, 1.0)",
           "width": 3
          }
         },
         "name": "9-08-2020",
         "orientation": "h",
         "type": "bar",
         "x": [
          0,
          0,
          0,
          0,
          0,
          0,
          0,
          0,
          0,
          5,
          0,
          0,
          0,
          0,
          0,
          0,
          3,
          27,
          33,
          15,
          0,
          3,
          1,
          0
         ],
         "y": [
          "00",
          "01",
          "02",
          "03",
          "04",
          "05",
          "06",
          "07",
          "08",
          "09",
          "10",
          "11",
          "12",
          "13",
          "14",
          "15",
          "16",
          "17",
          "18",
          "19",
          "20",
          "21",
          "22",
          "23"
         ]
        },
        {
         "marker": {
          "line": {
           "color": "rgb(105, 105, 105, 1.0)",
           "width": 3
          }
         },
         "name": "10-08-2020",
         "orientation": "h",
         "type": "bar",
         "x": [
          0,
          0,
          0,
          0,
          0,
          0,
          0,
          0,
          1,
          1,
          6,
          0,
          0,
          0,
          0,
          1,
          0,
          0,
          0,
          7,
          5,
          11,
          2,
          19
         ],
         "y": [
          "00",
          "01",
          "02",
          "03",
          "04",
          "05",
          "06",
          "07",
          "08",
          "09",
          "10",
          "11",
          "12",
          "13",
          "14",
          "15",
          "16",
          "17",
          "18",
          "19",
          "20",
          "21",
          "22",
          "23"
         ]
        }
       ],
       "layout": {
        "autosize": false,
        "barmode": "stack",
        "height": 800,
        "template": {
         "data": {
          "bar": [
           {
            "error_x": {
             "color": "#2a3f5f"
            },
            "error_y": {
             "color": "#2a3f5f"
            },
            "marker": {
             "line": {
              "color": "#E5ECF6",
              "width": 0.5
             }
            },
            "type": "bar"
           }
          ],
          "barpolar": [
           {
            "marker": {
             "line": {
              "color": "#E5ECF6",
              "width": 0.5
             }
            },
            "type": "barpolar"
           }
          ],
          "carpet": [
           {
            "aaxis": {
             "endlinecolor": "#2a3f5f",
             "gridcolor": "white",
             "linecolor": "white",
             "minorgridcolor": "white",
             "startlinecolor": "#2a3f5f"
            },
            "baxis": {
             "endlinecolor": "#2a3f5f",
             "gridcolor": "white",
             "linecolor": "white",
             "minorgridcolor": "white",
             "startlinecolor": "#2a3f5f"
            },
            "type": "carpet"
           }
          ],
          "choropleth": [
           {
            "colorbar": {
             "outlinewidth": 0,
             "ticks": ""
            },
            "type": "choropleth"
           }
          ],
          "contour": [
           {
            "colorbar": {
             "outlinewidth": 0,
             "ticks": ""
            },
            "colorscale": [
             [
              0,
              "#0d0887"
             ],
             [
              0.1111111111111111,
              "#46039f"
             ],
             [
              0.2222222222222222,
              "#7201a8"
             ],
             [
              0.3333333333333333,
              "#9c179e"
             ],
             [
              0.4444444444444444,
              "#bd3786"
             ],
             [
              0.5555555555555556,
              "#d8576b"
             ],
             [
              0.6666666666666666,
              "#ed7953"
             ],
             [
              0.7777777777777778,
              "#fb9f3a"
             ],
             [
              0.8888888888888888,
              "#fdca26"
             ],
             [
              1,
              "#f0f921"
             ]
            ],
            "type": "contour"
           }
          ],
          "contourcarpet": [
           {
            "colorbar": {
             "outlinewidth": 0,
             "ticks": ""
            },
            "type": "contourcarpet"
           }
          ],
          "heatmap": [
           {
            "colorbar": {
             "outlinewidth": 0,
             "ticks": ""
            },
            "colorscale": [
             [
              0,
              "#0d0887"
             ],
             [
              0.1111111111111111,
              "#46039f"
             ],
             [
              0.2222222222222222,
              "#7201a8"
             ],
             [
              0.3333333333333333,
              "#9c179e"
             ],
             [
              0.4444444444444444,
              "#bd3786"
             ],
             [
              0.5555555555555556,
              "#d8576b"
             ],
             [
              0.6666666666666666,
              "#ed7953"
             ],
             [
              0.7777777777777778,
              "#fb9f3a"
             ],
             [
              0.8888888888888888,
              "#fdca26"
             ],
             [
              1,
              "#f0f921"
             ]
            ],
            "type": "heatmap"
           }
          ],
          "heatmapgl": [
           {
            "colorbar": {
             "outlinewidth": 0,
             "ticks": ""
            },
            "colorscale": [
             [
              0,
              "#0d0887"
             ],
             [
              0.1111111111111111,
              "#46039f"
             ],
             [
              0.2222222222222222,
              "#7201a8"
             ],
             [
              0.3333333333333333,
              "#9c179e"
             ],
             [
              0.4444444444444444,
              "#bd3786"
             ],
             [
              0.5555555555555556,
              "#d8576b"
             ],
             [
              0.6666666666666666,
              "#ed7953"
             ],
             [
              0.7777777777777778,
              "#fb9f3a"
             ],
             [
              0.8888888888888888,
              "#fdca26"
             ],
             [
              1,
              "#f0f921"
             ]
            ],
            "type": "heatmapgl"
           }
          ],
          "histogram": [
           {
            "marker": {
             "colorbar": {
              "outlinewidth": 0,
              "ticks": ""
             }
            },
            "type": "histogram"
           }
          ],
          "histogram2d": [
           {
            "colorbar": {
             "outlinewidth": 0,
             "ticks": ""
            },
            "colorscale": [
             [
              0,
              "#0d0887"
             ],
             [
              0.1111111111111111,
              "#46039f"
             ],
             [
              0.2222222222222222,
              "#7201a8"
             ],
             [
              0.3333333333333333,
              "#9c179e"
             ],
             [
              0.4444444444444444,
              "#bd3786"
             ],
             [
              0.5555555555555556,
              "#d8576b"
             ],
             [
              0.6666666666666666,
              "#ed7953"
             ],
             [
              0.7777777777777778,
              "#fb9f3a"
             ],
             [
              0.8888888888888888,
              "#fdca26"
             ],
             [
              1,
              "#f0f921"
             ]
            ],
            "type": "histogram2d"
           }
          ],
          "histogram2dcontour": [
           {
            "colorbar": {
             "outlinewidth": 0,
             "ticks": ""
            },
            "colorscale": [
             [
              0,
              "#0d0887"
             ],
             [
              0.1111111111111111,
              "#46039f"
             ],
             [
              0.2222222222222222,
              "#7201a8"
             ],
             [
              0.3333333333333333,
              "#9c179e"
             ],
             [
              0.4444444444444444,
              "#bd3786"
             ],
             [
              0.5555555555555556,
              "#d8576b"
             ],
             [
              0.6666666666666666,
              "#ed7953"
             ],
             [
              0.7777777777777778,
              "#fb9f3a"
             ],
             [
              0.8888888888888888,
              "#fdca26"
             ],
             [
              1,
              "#f0f921"
             ]
            ],
            "type": "histogram2dcontour"
           }
          ],
          "mesh3d": [
           {
            "colorbar": {
             "outlinewidth": 0,
             "ticks": ""
            },
            "type": "mesh3d"
           }
          ],
          "parcoords": [
           {
            "line": {
             "colorbar": {
              "outlinewidth": 0,
              "ticks": ""
             }
            },
            "type": "parcoords"
           }
          ],
          "pie": [
           {
            "automargin": true,
            "type": "pie"
           }
          ],
          "scatter": [
           {
            "marker": {
             "colorbar": {
              "outlinewidth": 0,
              "ticks": ""
             }
            },
            "type": "scatter"
           }
          ],
          "scatter3d": [
           {
            "line": {
             "colorbar": {
              "outlinewidth": 0,
              "ticks": ""
             }
            },
            "marker": {
             "colorbar": {
              "outlinewidth": 0,
              "ticks": ""
             }
            },
            "type": "scatter3d"
           }
          ],
          "scattercarpet": [
           {
            "marker": {
             "colorbar": {
              "outlinewidth": 0,
              "ticks": ""
             }
            },
            "type": "scattercarpet"
           }
          ],
          "scattergeo": [
           {
            "marker": {
             "colorbar": {
              "outlinewidth": 0,
              "ticks": ""
             }
            },
            "type": "scattergeo"
           }
          ],
          "scattergl": [
           {
            "marker": {
             "colorbar": {
              "outlinewidth": 0,
              "ticks": ""
             }
            },
            "type": "scattergl"
           }
          ],
          "scattermapbox": [
           {
            "marker": {
             "colorbar": {
              "outlinewidth": 0,
              "ticks": ""
             }
            },
            "type": "scattermapbox"
           }
          ],
          "scatterpolar": [
           {
            "marker": {
             "colorbar": {
              "outlinewidth": 0,
              "ticks": ""
             }
            },
            "type": "scatterpolar"
           }
          ],
          "scatterpolargl": [
           {
            "marker": {
             "colorbar": {
              "outlinewidth": 0,
              "ticks": ""
             }
            },
            "type": "scatterpolargl"
           }
          ],
          "scatterternary": [
           {
            "marker": {
             "colorbar": {
              "outlinewidth": 0,
              "ticks": ""
             }
            },
            "type": "scatterternary"
           }
          ],
          "surface": [
           {
            "colorbar": {
             "outlinewidth": 0,
             "ticks": ""
            },
            "colorscale": [
             [
              0,
              "#0d0887"
             ],
             [
              0.1111111111111111,
              "#46039f"
             ],
             [
              0.2222222222222222,
              "#7201a8"
             ],
             [
              0.3333333333333333,
              "#9c179e"
             ],
             [
              0.4444444444444444,
              "#bd3786"
             ],
             [
              0.5555555555555556,
              "#d8576b"
             ],
             [
              0.6666666666666666,
              "#ed7953"
             ],
             [
              0.7777777777777778,
              "#fb9f3a"
             ],
             [
              0.8888888888888888,
              "#fdca26"
             ],
             [
              1,
              "#f0f921"
             ]
            ],
            "type": "surface"
           }
          ],
          "table": [
           {
            "cells": {
             "fill": {
              "color": "#EBF0F8"
             },
             "line": {
              "color": "white"
             }
            },
            "header": {
             "fill": {
              "color": "#C8D4E3"
             },
             "line": {
              "color": "white"
             }
            },
            "type": "table"
           }
          ]
         },
         "layout": {
          "annotationdefaults": {
           "arrowcolor": "#2a3f5f",
           "arrowhead": 0,
           "arrowwidth": 1
          },
          "coloraxis": {
           "colorbar": {
            "outlinewidth": 0,
            "ticks": ""
           }
          },
          "colorscale": {
           "diverging": [
            [
             0,
             "#8e0152"
            ],
            [
             0.1,
             "#c51b7d"
            ],
            [
             0.2,
             "#de77ae"
            ],
            [
             0.3,
             "#f1b6da"
            ],
            [
             0.4,
             "#fde0ef"
            ],
            [
             0.5,
             "#f7f7f7"
            ],
            [
             0.6,
             "#e6f5d0"
            ],
            [
             0.7,
             "#b8e186"
            ],
            [
             0.8,
             "#7fbc41"
            ],
            [
             0.9,
             "#4d9221"
            ],
            [
             1,
             "#276419"
            ]
           ],
           "sequential": [
            [
             0,
             "#0d0887"
            ],
            [
             0.1111111111111111,
             "#46039f"
            ],
            [
             0.2222222222222222,
             "#7201a8"
            ],
            [
             0.3333333333333333,
             "#9c179e"
            ],
            [
             0.4444444444444444,
             "#bd3786"
            ],
            [
             0.5555555555555556,
             "#d8576b"
            ],
            [
             0.6666666666666666,
             "#ed7953"
            ],
            [
             0.7777777777777778,
             "#fb9f3a"
            ],
            [
             0.8888888888888888,
             "#fdca26"
            ],
            [
             1,
             "#f0f921"
            ]
           ],
           "sequentialminus": [
            [
             0,
             "#0d0887"
            ],
            [
             0.1111111111111111,
             "#46039f"
            ],
            [
             0.2222222222222222,
             "#7201a8"
            ],
            [
             0.3333333333333333,
             "#9c179e"
            ],
            [
             0.4444444444444444,
             "#bd3786"
            ],
            [
             0.5555555555555556,
             "#d8576b"
            ],
            [
             0.6666666666666666,
             "#ed7953"
            ],
            [
             0.7777777777777778,
             "#fb9f3a"
            ],
            [
             0.8888888888888888,
             "#fdca26"
            ],
            [
             1,
             "#f0f921"
            ]
           ]
          },
          "colorway": [
           "#636efa",
           "#EF553B",
           "#00cc96",
           "#ab63fa",
           "#FFA15A",
           "#19d3f3",
           "#FF6692",
           "#B6E880",
           "#FF97FF",
           "#FECB52"
          ],
          "font": {
           "color": "#2a3f5f"
          },
          "geo": {
           "bgcolor": "white",
           "lakecolor": "white",
           "landcolor": "#E5ECF6",
           "showlakes": true,
           "showland": true,
           "subunitcolor": "white"
          },
          "hoverlabel": {
           "align": "left"
          },
          "hovermode": "closest",
          "mapbox": {
           "style": "light"
          },
          "paper_bgcolor": "white",
          "plot_bgcolor": "#E5ECF6",
          "polar": {
           "angularaxis": {
            "gridcolor": "white",
            "linecolor": "white",
            "ticks": ""
           },
           "bgcolor": "#E5ECF6",
           "radialaxis": {
            "gridcolor": "white",
            "linecolor": "white",
            "ticks": ""
           }
          },
          "scene": {
           "xaxis": {
            "backgroundcolor": "#E5ECF6",
            "gridcolor": "white",
            "gridwidth": 2,
            "linecolor": "white",
            "showbackground": true,
            "ticks": "",
            "zerolinecolor": "white"
           },
           "yaxis": {
            "backgroundcolor": "#E5ECF6",
            "gridcolor": "white",
            "gridwidth": 2,
            "linecolor": "white",
            "showbackground": true,
            "ticks": "",
            "zerolinecolor": "white"
           },
           "zaxis": {
            "backgroundcolor": "#E5ECF6",
            "gridcolor": "white",
            "gridwidth": 2,
            "linecolor": "white",
            "showbackground": true,
            "ticks": "",
            "zerolinecolor": "white"
           }
          },
          "shapedefaults": {
           "line": {
            "color": "#2a3f5f"
           }
          },
          "ternary": {
           "aaxis": {
            "gridcolor": "white",
            "linecolor": "white",
            "ticks": ""
           },
           "baxis": {
            "gridcolor": "white",
            "linecolor": "white",
            "ticks": ""
           },
           "bgcolor": "#E5ECF6",
           "caxis": {
            "gridcolor": "white",
            "linecolor": "white",
            "ticks": ""
           }
          },
          "title": {
           "x": 0.05
          },
          "xaxis": {
           "automargin": true,
           "gridcolor": "white",
           "linecolor": "white",
           "ticks": "",
           "title": {
            "standoff": 15
           },
           "zerolinecolor": "white",
           "zerolinewidth": 2
          },
          "yaxis": {
           "automargin": true,
           "gridcolor": "white",
           "linecolor": "white",
           "ticks": "",
           "title": {
            "standoff": 15
           },
           "zerolinecolor": "white",
           "zerolinewidth": 2
          }
         }
        },
        "width": 800,
        "xaxis": {
         "tickfont": {
          "size": 14
         },
         "title": {
          "font": {
           "size": 16
          },
          "text": "Number of messages"
         }
        },
        "yaxis": {
         "tickfont": {
          "size": 14
         },
         "tickmode": "array",
         "tickvals": [
          0,
          1,
          2,
          3,
          4,
          5,
          6,
          7,
          8,
          9,
          10,
          11,
          12,
          13,
          14,
          15,
          16,
          17,
          18,
          19,
          20,
          21,
          22,
          23
         ],
         "title": {
          "font": {
           "size": 16
          },
          "text": "Hours"
         }
        }
       }
      },
      "text/html": [
       "<div>\n",
       "        \n",
       "        \n",
       "            <div id=\"cd3a5695-fe9f-4747-b13a-54b8b45021fa\" class=\"plotly-graph-div\" style=\"height:800px; width:800px;\"></div>\n",
       "            <script type=\"text/javascript\">\n",
       "                require([\"plotly\"], function(Plotly) {\n",
       "                    window.PLOTLYENV=window.PLOTLYENV || {};\n",
       "                    \n",
       "                if (document.getElementById(\"cd3a5695-fe9f-4747-b13a-54b8b45021fa\")) {\n",
       "                    Plotly.newPlot(\n",
       "                        'cd3a5695-fe9f-4747-b13a-54b8b45021fa',\n",
       "                        [{\"marker\": {\"line\": {\"color\": \"rgb(105, 105, 105, 1.0)\", \"width\": 3}}, \"name\": \"4-08-2020\", \"orientation\": \"h\", \"type\": \"bar\", \"x\": [0, 0, 0, 0, 0, 0, 0, 0, 2, 3, 0, 0, 3, 6, 0, 1, 2, 1, 0, 0, 9, 0, 0, 16], \"y\": [\"00\", \"01\", \"02\", \"03\", \"04\", \"05\", \"06\", \"07\", \"08\", \"09\", \"10\", \"11\", \"12\", \"13\", \"14\", \"15\", \"16\", \"17\", \"18\", \"19\", \"20\", \"21\", \"22\", \"23\"]}, {\"marker\": {\"line\": {\"color\": \"rgb(105, 105, 105, 1.0)\", \"width\": 3}}, \"name\": \"5-08-2020\", \"orientation\": \"h\", \"type\": \"bar\", \"x\": [0, 0, 0, 0, 0, 0, 0, 0, 0, 0, 20, 23, 12, 5, 1, 0, 10, 19, 12, 5, 8, 0, 11, 16], \"y\": [\"00\", \"01\", \"02\", \"03\", \"04\", \"05\", \"06\", \"07\", \"08\", \"09\", \"10\", \"11\", \"12\", \"13\", \"14\", \"15\", \"16\", \"17\", \"18\", \"19\", \"20\", \"21\", \"22\", \"23\"]}, {\"marker\": {\"line\": {\"color\": \"rgb(105, 105, 105, 1.0)\", \"width\": 3}}, \"name\": \"6-08-2020\", \"orientation\": \"h\", \"type\": \"bar\", \"x\": [0, 0, 0, 0, 0, 0, 0, 0, 0, 1, 5, 2, 4, 60, 0, 6, 3, 3, 0, 8, 14, 12, 0, 1], \"y\": [\"00\", \"01\", \"02\", \"03\", \"04\", \"05\", \"06\", \"07\", \"08\", \"09\", \"10\", \"11\", \"12\", \"13\", \"14\", \"15\", \"16\", \"17\", \"18\", \"19\", \"20\", \"21\", \"22\", \"23\"]}, {\"marker\": {\"line\": {\"color\": \"rgb(105, 105, 105, 1.0)\", \"width\": 3}}, \"name\": \"7-08-2020\", \"orientation\": \"h\", \"type\": \"bar\", \"x\": [0, 0, 0, 0, 0, 0, 0, 0, 0, 0, 4, 3, 2, 1, 16, 0, 3, 0, 0, 0, 2, 0, 0, 1], \"y\": [\"00\", \"01\", \"02\", \"03\", \"04\", \"05\", \"06\", \"07\", \"08\", \"09\", \"10\", \"11\", \"12\", \"13\", \"14\", \"15\", \"16\", \"17\", \"18\", \"19\", \"20\", \"21\", \"22\", \"23\"]}, {\"marker\": {\"line\": {\"color\": \"rgb(105, 105, 105, 1.0)\", \"width\": 3}}, \"name\": \"8-08-2020\", \"orientation\": \"h\", \"type\": \"bar\", \"x\": [0, 0, 0, 0, 0, 0, 0, 0, 0, 2, 18, 3, 6, 5, 0, 0, 0, 0, 0, 3, 7, 0, 2, 2], \"y\": [\"00\", \"01\", \"02\", \"03\", \"04\", \"05\", \"06\", \"07\", \"08\", \"09\", \"10\", \"11\", \"12\", \"13\", \"14\", \"15\", \"16\", \"17\", \"18\", \"19\", \"20\", \"21\", \"22\", \"23\"]}, {\"marker\": {\"line\": {\"color\": \"rgb(105, 105, 105, 1.0)\", \"width\": 3}}, \"name\": \"9-08-2020\", \"orientation\": \"h\", \"type\": \"bar\", \"x\": [0, 0, 0, 0, 0, 0, 0, 0, 0, 5, 0, 0, 0, 0, 0, 0, 3, 27, 33, 15, 0, 3, 1, 0], \"y\": [\"00\", \"01\", \"02\", \"03\", \"04\", \"05\", \"06\", \"07\", \"08\", \"09\", \"10\", \"11\", \"12\", \"13\", \"14\", \"15\", \"16\", \"17\", \"18\", \"19\", \"20\", \"21\", \"22\", \"23\"]}, {\"marker\": {\"line\": {\"color\": \"rgb(105, 105, 105, 1.0)\", \"width\": 3}}, \"name\": \"10-08-2020\", \"orientation\": \"h\", \"type\": \"bar\", \"x\": [0, 0, 0, 0, 0, 0, 0, 0, 1, 1, 6, 0, 0, 0, 0, 1, 0, 0, 0, 7, 5, 11, 2, 19], \"y\": [\"00\", \"01\", \"02\", \"03\", \"04\", \"05\", \"06\", \"07\", \"08\", \"09\", \"10\", \"11\", \"12\", \"13\", \"14\", \"15\", \"16\", \"17\", \"18\", \"19\", \"20\", \"21\", \"22\", \"23\"]}],\n",
       "                        {\"autosize\": false, \"barmode\": \"stack\", \"height\": 800, \"template\": {\"data\": {\"bar\": [{\"error_x\": {\"color\": \"#2a3f5f\"}, \"error_y\": {\"color\": \"#2a3f5f\"}, \"marker\": {\"line\": {\"color\": \"#E5ECF6\", \"width\": 0.5}}, \"type\": \"bar\"}], \"barpolar\": [{\"marker\": {\"line\": {\"color\": \"#E5ECF6\", \"width\": 0.5}}, \"type\": \"barpolar\"}], \"carpet\": [{\"aaxis\": {\"endlinecolor\": \"#2a3f5f\", \"gridcolor\": \"white\", \"linecolor\": \"white\", \"minorgridcolor\": \"white\", \"startlinecolor\": \"#2a3f5f\"}, \"baxis\": {\"endlinecolor\": \"#2a3f5f\", \"gridcolor\": \"white\", \"linecolor\": \"white\", \"minorgridcolor\": \"white\", \"startlinecolor\": \"#2a3f5f\"}, \"type\": \"carpet\"}], \"choropleth\": [{\"colorbar\": {\"outlinewidth\": 0, \"ticks\": \"\"}, \"type\": \"choropleth\"}], \"contour\": [{\"colorbar\": {\"outlinewidth\": 0, \"ticks\": \"\"}, \"colorscale\": [[0.0, \"#0d0887\"], [0.1111111111111111, \"#46039f\"], [0.2222222222222222, \"#7201a8\"], [0.3333333333333333, \"#9c179e\"], [0.4444444444444444, \"#bd3786\"], [0.5555555555555556, \"#d8576b\"], [0.6666666666666666, \"#ed7953\"], [0.7777777777777778, \"#fb9f3a\"], [0.8888888888888888, \"#fdca26\"], [1.0, \"#f0f921\"]], \"type\": \"contour\"}], \"contourcarpet\": [{\"colorbar\": {\"outlinewidth\": 0, \"ticks\": \"\"}, \"type\": \"contourcarpet\"}], \"heatmap\": [{\"colorbar\": {\"outlinewidth\": 0, \"ticks\": \"\"}, \"colorscale\": [[0.0, \"#0d0887\"], [0.1111111111111111, \"#46039f\"], [0.2222222222222222, \"#7201a8\"], [0.3333333333333333, \"#9c179e\"], [0.4444444444444444, \"#bd3786\"], [0.5555555555555556, \"#d8576b\"], [0.6666666666666666, \"#ed7953\"], [0.7777777777777778, \"#fb9f3a\"], [0.8888888888888888, \"#fdca26\"], [1.0, \"#f0f921\"]], \"type\": \"heatmap\"}], \"heatmapgl\": [{\"colorbar\": {\"outlinewidth\": 0, \"ticks\": \"\"}, \"colorscale\": [[0.0, \"#0d0887\"], [0.1111111111111111, \"#46039f\"], [0.2222222222222222, \"#7201a8\"], [0.3333333333333333, \"#9c179e\"], [0.4444444444444444, \"#bd3786\"], [0.5555555555555556, \"#d8576b\"], [0.6666666666666666, \"#ed7953\"], [0.7777777777777778, \"#fb9f3a\"], [0.8888888888888888, \"#fdca26\"], [1.0, \"#f0f921\"]], \"type\": \"heatmapgl\"}], \"histogram\": [{\"marker\": {\"colorbar\": {\"outlinewidth\": 0, \"ticks\": \"\"}}, \"type\": \"histogram\"}], \"histogram2d\": [{\"colorbar\": {\"outlinewidth\": 0, \"ticks\": \"\"}, \"colorscale\": [[0.0, \"#0d0887\"], [0.1111111111111111, \"#46039f\"], [0.2222222222222222, \"#7201a8\"], [0.3333333333333333, \"#9c179e\"], [0.4444444444444444, \"#bd3786\"], [0.5555555555555556, \"#d8576b\"], [0.6666666666666666, \"#ed7953\"], [0.7777777777777778, \"#fb9f3a\"], [0.8888888888888888, \"#fdca26\"], [1.0, \"#f0f921\"]], \"type\": \"histogram2d\"}], \"histogram2dcontour\": [{\"colorbar\": {\"outlinewidth\": 0, \"ticks\": \"\"}, \"colorscale\": [[0.0, \"#0d0887\"], [0.1111111111111111, \"#46039f\"], [0.2222222222222222, \"#7201a8\"], [0.3333333333333333, \"#9c179e\"], [0.4444444444444444, \"#bd3786\"], [0.5555555555555556, \"#d8576b\"], [0.6666666666666666, \"#ed7953\"], [0.7777777777777778, \"#fb9f3a\"], [0.8888888888888888, \"#fdca26\"], [1.0, \"#f0f921\"]], \"type\": \"histogram2dcontour\"}], \"mesh3d\": [{\"colorbar\": {\"outlinewidth\": 0, \"ticks\": \"\"}, \"type\": \"mesh3d\"}], \"parcoords\": [{\"line\": {\"colorbar\": {\"outlinewidth\": 0, \"ticks\": \"\"}}, \"type\": \"parcoords\"}], \"pie\": [{\"automargin\": true, \"type\": \"pie\"}], \"scatter\": [{\"marker\": {\"colorbar\": {\"outlinewidth\": 0, \"ticks\": \"\"}}, \"type\": \"scatter\"}], \"scatter3d\": [{\"line\": {\"colorbar\": {\"outlinewidth\": 0, \"ticks\": \"\"}}, \"marker\": {\"colorbar\": {\"outlinewidth\": 0, \"ticks\": \"\"}}, \"type\": \"scatter3d\"}], \"scattercarpet\": [{\"marker\": {\"colorbar\": {\"outlinewidth\": 0, \"ticks\": \"\"}}, \"type\": \"scattercarpet\"}], \"scattergeo\": [{\"marker\": {\"colorbar\": {\"outlinewidth\": 0, \"ticks\": \"\"}}, \"type\": \"scattergeo\"}], \"scattergl\": [{\"marker\": {\"colorbar\": {\"outlinewidth\": 0, \"ticks\": \"\"}}, \"type\": \"scattergl\"}], \"scattermapbox\": [{\"marker\": {\"colorbar\": {\"outlinewidth\": 0, \"ticks\": \"\"}}, \"type\": \"scattermapbox\"}], \"scatterpolar\": [{\"marker\": {\"colorbar\": {\"outlinewidth\": 0, \"ticks\": \"\"}}, \"type\": \"scatterpolar\"}], \"scatterpolargl\": [{\"marker\": {\"colorbar\": {\"outlinewidth\": 0, \"ticks\": \"\"}}, \"type\": \"scatterpolargl\"}], \"scatterternary\": [{\"marker\": {\"colorbar\": {\"outlinewidth\": 0, \"ticks\": \"\"}}, \"type\": \"scatterternary\"}], \"surface\": [{\"colorbar\": {\"outlinewidth\": 0, \"ticks\": \"\"}, \"colorscale\": [[0.0, \"#0d0887\"], [0.1111111111111111, \"#46039f\"], [0.2222222222222222, \"#7201a8\"], [0.3333333333333333, \"#9c179e\"], [0.4444444444444444, \"#bd3786\"], [0.5555555555555556, \"#d8576b\"], [0.6666666666666666, \"#ed7953\"], [0.7777777777777778, \"#fb9f3a\"], [0.8888888888888888, \"#fdca26\"], [1.0, \"#f0f921\"]], \"type\": \"surface\"}], \"table\": [{\"cells\": {\"fill\": {\"color\": \"#EBF0F8\"}, \"line\": {\"color\": \"white\"}}, \"header\": {\"fill\": {\"color\": \"#C8D4E3\"}, \"line\": {\"color\": \"white\"}}, \"type\": \"table\"}]}, \"layout\": {\"annotationdefaults\": {\"arrowcolor\": \"#2a3f5f\", \"arrowhead\": 0, \"arrowwidth\": 1}, \"coloraxis\": {\"colorbar\": {\"outlinewidth\": 0, \"ticks\": \"\"}}, \"colorscale\": {\"diverging\": [[0, \"#8e0152\"], [0.1, \"#c51b7d\"], [0.2, \"#de77ae\"], [0.3, \"#f1b6da\"], [0.4, \"#fde0ef\"], [0.5, \"#f7f7f7\"], [0.6, \"#e6f5d0\"], [0.7, \"#b8e186\"], [0.8, \"#7fbc41\"], [0.9, \"#4d9221\"], [1, \"#276419\"]], \"sequential\": [[0.0, \"#0d0887\"], [0.1111111111111111, \"#46039f\"], [0.2222222222222222, \"#7201a8\"], [0.3333333333333333, \"#9c179e\"], [0.4444444444444444, \"#bd3786\"], [0.5555555555555556, \"#d8576b\"], [0.6666666666666666, \"#ed7953\"], [0.7777777777777778, \"#fb9f3a\"], [0.8888888888888888, \"#fdca26\"], [1.0, \"#f0f921\"]], \"sequentialminus\": [[0.0, \"#0d0887\"], [0.1111111111111111, \"#46039f\"], [0.2222222222222222, \"#7201a8\"], [0.3333333333333333, \"#9c179e\"], [0.4444444444444444, \"#bd3786\"], [0.5555555555555556, \"#d8576b\"], [0.6666666666666666, \"#ed7953\"], [0.7777777777777778, \"#fb9f3a\"], [0.8888888888888888, \"#fdca26\"], [1.0, \"#f0f921\"]]}, \"colorway\": [\"#636efa\", \"#EF553B\", \"#00cc96\", \"#ab63fa\", \"#FFA15A\", \"#19d3f3\", \"#FF6692\", \"#B6E880\", \"#FF97FF\", \"#FECB52\"], \"font\": {\"color\": \"#2a3f5f\"}, \"geo\": {\"bgcolor\": \"white\", \"lakecolor\": \"white\", \"landcolor\": \"#E5ECF6\", \"showlakes\": true, \"showland\": true, \"subunitcolor\": \"white\"}, \"hoverlabel\": {\"align\": \"left\"}, \"hovermode\": \"closest\", \"mapbox\": {\"style\": \"light\"}, \"paper_bgcolor\": \"white\", \"plot_bgcolor\": \"#E5ECF6\", \"polar\": {\"angularaxis\": {\"gridcolor\": \"white\", \"linecolor\": \"white\", \"ticks\": \"\"}, \"bgcolor\": \"#E5ECF6\", \"radialaxis\": {\"gridcolor\": \"white\", \"linecolor\": \"white\", \"ticks\": \"\"}}, \"scene\": {\"xaxis\": {\"backgroundcolor\": \"#E5ECF6\", \"gridcolor\": \"white\", \"gridwidth\": 2, \"linecolor\": \"white\", \"showbackground\": true, \"ticks\": \"\", \"zerolinecolor\": \"white\"}, \"yaxis\": {\"backgroundcolor\": \"#E5ECF6\", \"gridcolor\": \"white\", \"gridwidth\": 2, \"linecolor\": \"white\", \"showbackground\": true, \"ticks\": \"\", \"zerolinecolor\": \"white\"}, \"zaxis\": {\"backgroundcolor\": \"#E5ECF6\", \"gridcolor\": \"white\", \"gridwidth\": 2, \"linecolor\": \"white\", \"showbackground\": true, \"ticks\": \"\", \"zerolinecolor\": \"white\"}}, \"shapedefaults\": {\"line\": {\"color\": \"#2a3f5f\"}}, \"ternary\": {\"aaxis\": {\"gridcolor\": \"white\", \"linecolor\": \"white\", \"ticks\": \"\"}, \"baxis\": {\"gridcolor\": \"white\", \"linecolor\": \"white\", \"ticks\": \"\"}, \"bgcolor\": \"#E5ECF6\", \"caxis\": {\"gridcolor\": \"white\", \"linecolor\": \"white\", \"ticks\": \"\"}}, \"title\": {\"x\": 0.05}, \"xaxis\": {\"automargin\": true, \"gridcolor\": \"white\", \"linecolor\": \"white\", \"ticks\": \"\", \"title\": {\"standoff\": 15}, \"zerolinecolor\": \"white\", \"zerolinewidth\": 2}, \"yaxis\": {\"automargin\": true, \"gridcolor\": \"white\", \"linecolor\": \"white\", \"ticks\": \"\", \"title\": {\"standoff\": 15}, \"zerolinecolor\": \"white\", \"zerolinewidth\": 2}}}, \"width\": 800, \"xaxis\": {\"tickfont\": {\"size\": 14}, \"title\": {\"font\": {\"size\": 16}, \"text\": \"Number of messages\"}}, \"yaxis\": {\"tickfont\": {\"size\": 14}, \"tickmode\": \"array\", \"tickvals\": [0, 1, 2, 3, 4, 5, 6, 7, 8, 9, 10, 11, 12, 13, 14, 15, 16, 17, 18, 19, 20, 21, 22, 23], \"title\": {\"font\": {\"size\": 16}, \"text\": \"Hours\"}}},\n",
       "                        {\"responsive\": true}\n",
       "                    ).then(function(){\n",
       "                            \n",
       "var gd = document.getElementById('cd3a5695-fe9f-4747-b13a-54b8b45021fa');\n",
       "var x = new MutationObserver(function (mutations, observer) {{\n",
       "        var display = window.getComputedStyle(gd).display;\n",
       "        if (!display || display === 'none') {{\n",
       "            console.log([gd, 'removed!']);\n",
       "            Plotly.purge(gd);\n",
       "            observer.disconnect();\n",
       "        }}\n",
       "}});\n",
       "\n",
       "// Listen for the removal of the full notebook cells\n",
       "var notebookContainer = gd.closest('#notebook-container');\n",
       "if (notebookContainer) {{\n",
       "    x.observe(notebookContainer, {childList: true});\n",
       "}}\n",
       "\n",
       "// Listen for the clearing of the current output cell\n",
       "var outputEl = gd.closest('.output');\n",
       "if (outputEl) {{\n",
       "    x.observe(outputEl, {childList: true});\n",
       "}}\n",
       "\n",
       "                        })\n",
       "                };\n",
       "                });\n",
       "            </script>\n",
       "        </div>"
      ]
     },
     "metadata": {},
     "output_type": "display_data"
    }
   ],
   "source": [
    "# TODO: 1. add some explanation to the plot: title, labels for axises, maybe legend. Now it tells nothing\n",
    "# TODO: 2. fix KeyError: '24'\n",
    "\n",
    "\n",
    "figure(num=None, figsize=(10, 8), dpi=80, facecolor='w', edgecolor='k')\n",
    "fig = go.Figure()\n",
    "\n",
    "for i in range(7):\n",
    "    date_before = datetime.datetime(2020, 8, 3 + i, 0, 0, 0)\n",
    "    date_after = datetime.datetime(2020, 8, 4 + i, 0, 0, 0)\n",
    "\n",
    "    x, y, lists = get_user_daily_activity(dialogs_info, \"Private dialog\", USER_ID, date_before, date_after)\n",
    "\n",
    "    fig.add_trace(go.Bar(\n",
    "        y=x,\n",
    "        x=y,\n",
    "        name=\"{}-08-2020\".format(4 + i),\n",
    "        orientation='h',\n",
    "        marker=dict(\n",
    "            line=dict(color='rgb(105, 105, 105, 1.0)', width=3)\n",
    "        )\n",
    "    ))\n",
    "    plt.plot(x, y, linewidth=2.5, marker='o', linestyle=\"-\", label=\"{}-08-2020\".format(4 + i))\n",
    "\n",
    "plt.xticks([i for i in range(0, 24)])\n",
    "plt.xlabel(\"Hours\")\n",
    "plt.ylabel(\"Number of messages\")\n",
    "plt.legend(loc='upper left', frameon=False)\n",
    "plt.show()\n",
    "\n",
    "# show comparing bar\n",
    "fig.update_layout(\n",
    "    barmode='stack',\n",
    "    autosize=False,\n",
    "    width=800,\n",
    "    height=800,\n",
    "    yaxis = dict(\n",
    "            title='Hours',\n",
    "            titlefont_size=16,\n",
    "            tickfont_size=14,\n",
    "            tickmode = 'array',\n",
    "            tickvals = [i for i in range(24)]),\n",
    "    xaxis = dict(\n",
    "            title='Number of messages',\n",
    "            titlefont_size=16,\n",
    "            tickfont_size=14)\n",
    ")\n",
    "fig.show()"
   ]
  },
  {
   "cell_type": "markdown",
   "metadata": {},
   "source": [
    "## Collect general statistics for user during DATE_BEFORE - DATE_AFTER"
   ]
  },
  {
   "cell_type": "code",
   "execution_count": 128,
   "metadata": {
    "pycharm": {
     "name": "#%%\n"
    }
   },
   "outputs": [],
   "source": [
    "def get_statistics_msgs(df, user_id_get_msg, dialog_type, statistics_type,\n",
    "                        date_before, date_after):\n",
    "    \"\"\"\n",
    "\n",
    "    :param df: your dataframe\n",
    "    :param user_id_get_msg: int, user id\n",
    "    :param dialog_type: \"Channel\" or \"Private dialog\" or \"Group\"\n",
    "    :param statistics_type: \"received\" or \"sent\", to analyse received or sent messages\n",
    "    :param date_before: datetime type, from what time start to analyse msgs\n",
    "    :param date_after: datetime type, to what time to analyse msgs\n",
    "    :return: added dataframe with statistics in range (date_before, date_after) and\n",
    "    average_n_msgs, average_n_words\n",
    "    \"\"\"\n",
    "    dialogs_places_dict = {}\n",
    "\n",
    "    # go through all dialogs on special dialog type in dialogs_info dict\n",
    "    # friend - name of dialog\n",
    "    msgs_lst, words_lst = [], []\n",
    "    for friend, dialog_id in dialogs_info[dialog_type].items():\n",
    "        dialog_id = str(dialog_id)\n",
    "        if dialog_id + \".csv\" not in os.listdir(path_dialogs_dir):\n",
    "            msgs_lst.append(0)\n",
    "            words_lst.append(0)\n",
    "            dialogs_places_dict[friend] = 0\n",
    "            continue\n",
    "\n",
    "        dialog_data = pd.read_csv(os.path.join(path_dialogs_dir, dialog_id + \".csv\"))\n",
    "\n",
    "        # if it is Group, so to get number of received messages to you in it\n",
    "        # it is sent to_id like PeerChannel(channel_id=1387547322), it is not your id\n",
    "        # so we change it\n",
    "        if dialog_type == \"Group\" and statistics_type == \"received\":\n",
    "            user_id_get_msg = dialog_data[\"to_id\"][dialog_data.index[0]]\n",
    "\n",
    "        n_msgs_in_date_range, n_words_in_date_range = 0, 0\n",
    "        dialogs_places_dict[friend] = 0\n",
    "\n",
    "        for row in dialog_data.index:\n",
    "            dialog_datetime = dialog_data[\"date\"][row][:-6]\n",
    "            flag_in_range = if_in_date_range(dialog_datetime, date_before, date_after)\n",
    "            if flag_in_range == 'Dialog after date_after':\n",
    "                continue\n",
    "\n",
    "            if not flag_in_range:\n",
    "                break\n",
    "\n",
    "            if statistics_type == \"received\":\n",
    "                if dialog_data[\"from_id\"][row] == user_id_get_msg:\n",
    "                    continue\n",
    "                    \n",
    "            elif statistics_type == \"sent\":\n",
    "                if dialog_data[\"from_id\"][row] != user_id_get_msg:\n",
    "                    continue\n",
    "\n",
    "            if not pd.isnull(dialog_data[\"message\"][row]):\n",
    "                n_words_in_date_range += len(dialog_data[\"message\"][row].split())\n",
    "            dialogs_places_dict[friend] = dialogs_places_dict.get(friend, 0) + 1\n",
    "\n",
    "        words_lst.append(n_words_in_date_range)\n",
    "\n",
    "    dialogs_places_dict = {k: v for k, v in sorted(dialogs_places_dict.items(), key=lambda item: item[1], reverse=True)}\n",
    "    msgs_lst = []\n",
    "    for i in df.index:\n",
    "        msgs_lst.append(dialogs_places_dict[df[\"dialog_name\"][i]])\n",
    "\n",
    "    df[\"n_{}_msgs_in_date_range\".format(statistics_type)] = msgs_lst\n",
    "    df[\"n_{}_words_in_date_range\".format(statistics_type)] = words_lst\n",
    "\n",
    "    df[\"place_dialog_by_n_{}_msgs\".format(statistics_type)] = [0 for _ in range(len(df.index))]\n",
    "\n",
    "    print(\"Top 10 {} by {} messages during {} - {}\".format(dialog_type, statistics_type, DATE_BEFORE, DATE_AFTER))\n",
    "    for place, friend in enumerate(dialogs_places_dict.items()):\n",
    "        if place < 10:\n",
    "            print(\"{} place is {} with {} messages\".format(place + 1, friend[0], friend[1]))\n",
    "        n_row = df.loc[df['dialog_name'] == friend[0]][\"id\"]\n",
    "        df[\"place_dialog_by_n_{}_msgs\".format(statistics_type)][n_row] = place + 1\n",
    "\n",
    "    print(\"\\n\\n\")\n",
    "    average_n_msgs = int(df[\"n_{}_msgs_in_date_range\".format(statistics_type)].mean(skipna = True))\n",
    "    average_n_words = int(df[\"n_{}_words_in_date_range\".format(statistics_type)].mean(skipna = True))\n",
    "\n",
    "    return df, average_n_msgs, average_n_words\n",
    "\n",
    "\n",
    "# TODO: are these recived messages? or sent? can you pls give statistics for both(sent and recived). store this in the dataframe\n",
    "\n",
    "# 2) Change DATE_BEFORE and DATE_AFTER to yours===================================\n",
    "\n",
    "# from what time start to analyse msgs - to what time to analyse msgs\n",
    "DATE_BEFORE = datetime.datetime(2017, 1, 10, 0, 0, 0)\n",
    "DATE_AFTER = datetime.datetime(2020, 8, 10, 0, 0, 0)\n",
    "\n",
    "# get general statistics\n",
    "df = pd.DataFrame(dialogs_info[\"Private dialog\"].items(), columns=[\"dialog_name\", \"dialog_id\"])\n",
    "df[\"id\"] = [i for i in range(df.index[-1] + 1)]"
   ]
  },
  {
   "cell_type": "markdown",
   "metadata": {},
   "source": [
    "## Top people with whom communicate during DATE_BEFORE - DATE_AFTER"
   ]
  },
  {
   "cell_type": "code",
   "execution_count": 129,
   "metadata": {
    "pycharm": {
     "name": "#%%\n"
    }
   },
   "outputs": [
    {
     "name": "stdout",
     "output_type": "stream",
     "text": [
      "Top 10 Private dialog by received messages during 2017-01-10 00:00:00 - 2020-08-10 00:00:00\n",
      "1 place is H_bot with 1428 messages\n",
      "2 place is H_bot29.06 with 1323 messages\n",
      "3 place is Harmix with 1172 messages\n",
      "4 place is Назар Поночевний with 901 messages\n",
      "5 place is NewsKit with 901 messages\n",
      "6 place is Клименко with 848 messages\n",
      "7 place is Діма Лопушанський with 828 messages\n",
      "8 place is Добосевич Олесь with 708 messages\n",
      "9 place is Паша Уку Астроном with 691 messages\n",
      "10 place is Elena Lazarus with 656 messages\n",
      "\n",
      "\n",
      "\n",
      "Top 10 Private dialog by sent messages during 2017-01-10 00:00:00 - 2020-08-10 00:00:00\n",
      "1 place is Denys Herasymuk with 1973 messages\n",
      "2 place is Добосевич Олесь with 1286 messages\n",
      "3 place is Паша Уку Астроном with 966 messages\n",
      "4 place is Назар Поночевний with 957 messages\n",
      "5 place is Цапів Володимир Аі with 957 messages\n",
      "6 place is Клименко with 895 messages\n",
      "7 place is Діма Лопушанський with 809 messages\n",
      "8 place is H_bot29.06 with 572 messages\n",
      "9 place is H_bot with 572 messages\n",
      "10 place is Євген Панкевич with 562 messages\n",
      "\n",
      "\n",
      "\n"
     ]
    },
    {
     "name": "stderr",
     "output_type": "stream",
     "text": [
      "d:\\python\\envs\\venv_telegram_analysis\\lib\\site-packages\\ipykernel_launcher.py:65: SettingWithCopyWarning:\n",
      "\n",
      "\n",
      "A value is trying to be set on a copy of a slice from a DataFrame\n",
      "\n",
      "See the caveats in the documentation: http://pandas.pydata.org/pandas-docs/stable/user_guide/indexing.html#returning-a-view-versus-a-copy\n",
      "\n"
     ]
    },
    {
     "data": {
      "text/html": [
       "<div>\n",
       "<style scoped>\n",
       "    .dataframe tbody tr th:only-of-type {\n",
       "        vertical-align: middle;\n",
       "    }\n",
       "\n",
       "    .dataframe tbody tr th {\n",
       "        vertical-align: top;\n",
       "    }\n",
       "\n",
       "    .dataframe thead th {\n",
       "        text-align: right;\n",
       "    }\n",
       "</style>\n",
       "<table border=\"1\" class=\"dataframe\">\n",
       "  <thead>\n",
       "    <tr style=\"text-align: right;\">\n",
       "      <th></th>\n",
       "      <th>dialog_name</th>\n",
       "      <th>dialog_id</th>\n",
       "      <th>id</th>\n",
       "      <th>n_received_msgs_in_date_range</th>\n",
       "      <th>n_received_words_in_date_range</th>\n",
       "      <th>place_dialog_by_n_received_msgs</th>\n",
       "      <th>n_sent_msgs_in_date_range</th>\n",
       "      <th>n_sent_words_in_date_range</th>\n",
       "      <th>place_dialog_by_n_sent_msgs</th>\n",
       "    </tr>\n",
       "  </thead>\n",
       "  <tbody>\n",
       "    <tr>\n",
       "      <th>0</th>\n",
       "      <td>Harmix</td>\n",
       "      <td>1001618937</td>\n",
       "      <td>0.0</td>\n",
       "      <td>1172</td>\n",
       "      <td>16736</td>\n",
       "      <td>3</td>\n",
       "      <td>531</td>\n",
       "      <td>486</td>\n",
       "      <td>12</td>\n",
       "    </tr>\n",
       "    <tr>\n",
       "      <th>1</th>\n",
       "      <td>Берегов</td>\n",
       "      <td>1002879007</td>\n",
       "      <td>1.0</td>\n",
       "      <td>1</td>\n",
       "      <td>0</td>\n",
       "      <td>198</td>\n",
       "      <td>0</td>\n",
       "      <td>0</td>\n",
       "      <td>218</td>\n",
       "    </tr>\n",
       "    <tr>\n",
       "      <th>2</th>\n",
       "      <td>Pastukh Yaroslav</td>\n",
       "      <td>100314790</td>\n",
       "      <td>2.0</td>\n",
       "      <td>0</td>\n",
       "      <td>0</td>\n",
       "      <td>257</td>\n",
       "      <td>0</td>\n",
       "      <td>0</td>\n",
       "      <td>219</td>\n",
       "    </tr>\n",
       "    <tr>\n",
       "      <th>3</th>\n",
       "      <td>Іра Їжачок</td>\n",
       "      <td>1013106861</td>\n",
       "      <td>3.0</td>\n",
       "      <td>1</td>\n",
       "      <td>0</td>\n",
       "      <td>199</td>\n",
       "      <td>0</td>\n",
       "      <td>0</td>\n",
       "      <td>220</td>\n",
       "    </tr>\n",
       "    <tr>\n",
       "      <th>4</th>\n",
       "      <td>Гордіян Олег Вікторович Баня</td>\n",
       "      <td>1019177627</td>\n",
       "      <td>4.0</td>\n",
       "      <td>1</td>\n",
       "      <td>0</td>\n",
       "      <td>200</td>\n",
       "      <td>0</td>\n",
       "      <td>0</td>\n",
       "      <td>221</td>\n",
       "    </tr>\n",
       "    <tr>\n",
       "      <th>...</th>\n",
       "      <td>...</td>\n",
       "      <td>...</td>\n",
       "      <td>...</td>\n",
       "      <td>...</td>\n",
       "      <td>...</td>\n",
       "      <td>...</td>\n",
       "      <td>...</td>\n",
       "      <td>...</td>\n",
       "      <td>...</td>\n",
       "    </tr>\n",
       "    <tr>\n",
       "      <th>269</th>\n",
       "      <td>Maria Danchak</td>\n",
       "      <td>988636074</td>\n",
       "      <td>269.0</td>\n",
       "      <td>7</td>\n",
       "      <td>35</td>\n",
       "      <td>152</td>\n",
       "      <td>3</td>\n",
       "      <td>33</td>\n",
       "      <td>189</td>\n",
       "    </tr>\n",
       "    <tr>\n",
       "      <th>270</th>\n",
       "      <td>Тарас Карате Адвокат</td>\n",
       "      <td>994276855</td>\n",
       "      <td>270.0</td>\n",
       "      <td>1</td>\n",
       "      <td>0</td>\n",
       "      <td>254</td>\n",
       "      <td>0</td>\n",
       "      <td>0</td>\n",
       "      <td>271</td>\n",
       "    </tr>\n",
       "    <tr>\n",
       "      <th>271</th>\n",
       "      <td>Аліна Авраменко</td>\n",
       "      <td>995165576</td>\n",
       "      <td>271.0</td>\n",
       "      <td>1</td>\n",
       "      <td>0</td>\n",
       "      <td>255</td>\n",
       "      <td>0</td>\n",
       "      <td>0</td>\n",
       "      <td>272</td>\n",
       "    </tr>\n",
       "    <tr>\n",
       "      <th>272</th>\n",
       "      <td>Приставка</td>\n",
       "      <td>997302074</td>\n",
       "      <td>272.0</td>\n",
       "      <td>1</td>\n",
       "      <td>0</td>\n",
       "      <td>256</td>\n",
       "      <td>0</td>\n",
       "      <td>0</td>\n",
       "      <td>273</td>\n",
       "    </tr>\n",
       "    <tr>\n",
       "      <th>273</th>\n",
       "      <td>Total average statistics msgs</td>\n",
       "      <td>-1</td>\n",
       "      <td>NaN</td>\n",
       "      <td>68</td>\n",
       "      <td>705</td>\n",
       "      <td>-1</td>\n",
       "      <td>71</td>\n",
       "      <td>699</td>\n",
       "      <td>-1</td>\n",
       "    </tr>\n",
       "  </tbody>\n",
       "</table>\n",
       "<p>274 rows × 9 columns</p>\n",
       "</div>"
      ],
      "text/plain": [
       "                       dialog_name   dialog_id     id  \\\n",
       "0                           Harmix  1001618937    0.0   \n",
       "1                          Берегов  1002879007    1.0   \n",
       "2                 Pastukh Yaroslav   100314790    2.0   \n",
       "3                       Іра Їжачок  1013106861    3.0   \n",
       "4     Гордіян Олег Вікторович Баня  1019177627    4.0   \n",
       "..                             ...         ...    ...   \n",
       "269                  Maria Danchak   988636074  269.0   \n",
       "270           Тарас Карате Адвокат   994276855  270.0   \n",
       "271                Аліна Авраменко   995165576  271.0   \n",
       "272                      Приставка   997302074  272.0   \n",
       "273  Total average statistics msgs          -1    NaN   \n",
       "\n",
       "     n_received_msgs_in_date_range  n_received_words_in_date_range  \\\n",
       "0                             1172                           16736   \n",
       "1                                1                               0   \n",
       "2                                0                               0   \n",
       "3                                1                               0   \n",
       "4                                1                               0   \n",
       "..                             ...                             ...   \n",
       "269                              7                              35   \n",
       "270                              1                               0   \n",
       "271                              1                               0   \n",
       "272                              1                               0   \n",
       "273                             68                             705   \n",
       "\n",
       "     place_dialog_by_n_received_msgs  n_sent_msgs_in_date_range  \\\n",
       "0                                  3                        531   \n",
       "1                                198                          0   \n",
       "2                                257                          0   \n",
       "3                                199                          0   \n",
       "4                                200                          0   \n",
       "..                               ...                        ...   \n",
       "269                              152                          3   \n",
       "270                              254                          0   \n",
       "271                              255                          0   \n",
       "272                              256                          0   \n",
       "273                               -1                         71   \n",
       "\n",
       "     n_sent_words_in_date_range  place_dialog_by_n_sent_msgs  \n",
       "0                           486                           12  \n",
       "1                             0                          218  \n",
       "2                             0                          219  \n",
       "3                             0                          220  \n",
       "4                             0                          221  \n",
       "..                          ...                          ...  \n",
       "269                          33                          189  \n",
       "270                           0                          271  \n",
       "271                           0                          272  \n",
       "272                           0                          273  \n",
       "273                         699                           -1  \n",
       "\n",
       "[274 rows x 9 columns]"
      ]
     },
     "execution_count": 129,
     "metadata": {},
     "output_type": "execute_result"
    }
   ],
   "source": [
    "df, average_n_received_msgs, average_n_received_words = get_statistics_msgs(df, USER_ID, \"Private dialog\", \"received\",\n",
    "                                                                            DATE_BEFORE, DATE_AFTER)\n",
    "df, average_n_sent_msgs, average_n_sent_words = get_statistics_msgs(df, USER_ID, \"Private dialog\", \"sent\",\n",
    "                                                                    DATE_BEFORE, DATE_AFTER)\n",
    "\n",
    "new_row = {\n",
    "    \"dialog_name\": \"Total average statistics msgs\",\n",
    "    \"dialog_id\": -1,\n",
    "    \"n_received_msgs_in_date_range\": average_n_received_msgs,\n",
    "    \"n_received_words_in_date_range\": average_n_received_words,\n",
    "    \"n_sent_msgs_in_date_range\": average_n_sent_msgs,\n",
    "    \"n_sent_words_in_date_range\": average_n_sent_words,\n",
    "    \"place_dialog_by_n_received_msgs\": -1,\n",
    "    \"place_dialog_by_n_sent_msgs\": -1\n",
    "}\n",
    "\n",
    "df = df.append(new_row, ignore_index=True)\n",
    "\n",
    "df.to_csv(os.path.join(\"data\", \"tmp_static\", f\"private_{RESULT_NAME_STATISTICS}.csv\"))\n",
    "df"
   ]
  },
  {
   "cell_type": "code",
   "execution_count": 130,
   "metadata": {},
   "outputs": [],
   "source": [
    "# TODO: add same calculations for number of words. add it to the same dataframe"
   ]
  },
  {
   "cell_type": "markdown",
   "metadata": {
    "pycharm": {
     "name": "#%% md\n"
    }
   },
   "source": [
    "## Top groups with whom communicate during DATE_BEFORE - DATE_AFTER"
   ]
  },
  {
   "cell_type": "code",
   "execution_count": 131,
   "metadata": {
    "pycharm": {
     "name": "#%%\n"
    }
   },
   "outputs": [
    {
     "name": "stdout",
     "output_type": "stream",
     "text": [
      "Top 10 Group by received messages during 2017-01-10 00:00:00 - 2020-08-10 00:00:00\n",
      "1 place is Крильце Надії with 2000 messages\n",
      "2 place is 🤪Будущі бомжі (4K)🥴 with 2000 messages\n",
      "3 place is English 5 група with 2000 messages\n",
      "4 place is UGS 2019 Finalists 2.0 with 2000 messages\n",
      "5 place is CS & BA 2019 💚💜 with 1998 messages\n",
      "6 place is CS‘19👨🏻‍💻 with 1997 messages\n",
      "7 place is 2.0 Головна бесіда колегіуму без спаму with 1994 messages\n",
      "8 place is UGS Q&A with 1983 messages\n",
      "9 place is AI challenge with 1977 messages\n",
      "10 place is APPS@UCU (всі) ❤️ with 1861 messages\n",
      "\n",
      "\n",
      "\n",
      "Top 10 Group by sent messages during 2017-01-10 00:00:00 - 2020-08-10 00:00:00\n",
      "1 place is AI challenge with 1161 messages\n",
      "2 place is Group with 799 messages\n",
      "3 place is Курси та навчання with 190 messages\n",
      "4 place is Груповуха з ****** with 159 messages\n",
      "5 place is Центр опіки сиріт with 146 messages\n",
      "6 place is Gettothedream with 134 messages\n",
      "7 place is d2v with 77 messages\n",
      "8 place is AI Guardians - Ukraine team with 61 messages\n",
      "9 place is Portfolio mentoring chat with 46 messages\n",
      "10 place is Хісторі with 45 messages\n",
      "\n",
      "\n",
      "\n"
     ]
    },
    {
     "name": "stderr",
     "output_type": "stream",
     "text": [
      "d:\\python\\envs\\venv_telegram_analysis\\lib\\site-packages\\ipykernel_launcher.py:65: SettingWithCopyWarning:\n",
      "\n",
      "\n",
      "A value is trying to be set on a copy of a slice from a DataFrame\n",
      "\n",
      "See the caveats in the documentation: http://pandas.pydata.org/pandas-docs/stable/user_guide/indexing.html#returning-a-view-versus-a-copy\n",
      "\n"
     ]
    },
    {
     "data": {
      "text/html": [
       "<div>\n",
       "<style scoped>\n",
       "    .dataframe tbody tr th:only-of-type {\n",
       "        vertical-align: middle;\n",
       "    }\n",
       "\n",
       "    .dataframe tbody tr th {\n",
       "        vertical-align: top;\n",
       "    }\n",
       "\n",
       "    .dataframe thead th {\n",
       "        text-align: right;\n",
       "    }\n",
       "</style>\n",
       "<table border=\"1\" class=\"dataframe\">\n",
       "  <thead>\n",
       "    <tr style=\"text-align: right;\">\n",
       "      <th></th>\n",
       "      <th>dialog_name</th>\n",
       "      <th>dialog_id</th>\n",
       "      <th>id</th>\n",
       "      <th>n_received_msgs_in_date_range</th>\n",
       "      <th>n_received_words_in_date_range</th>\n",
       "      <th>place_dialog_by_n_received_msgs</th>\n",
       "      <th>n_sent_msgs_in_date_range</th>\n",
       "      <th>n_sent_words_in_date_range</th>\n",
       "      <th>place_dialog_by_n_sent_msgs</th>\n",
       "    </tr>\n",
       "  </thead>\n",
       "  <tbody>\n",
       "    <tr>\n",
       "      <th>0</th>\n",
       "      <td>Harmix</td>\n",
       "      <td>1001618937</td>\n",
       "      <td>0.0</td>\n",
       "      <td>1172</td>\n",
       "      <td>16736</td>\n",
       "      <td>3</td>\n",
       "      <td>531</td>\n",
       "      <td>486</td>\n",
       "      <td>12</td>\n",
       "    </tr>\n",
       "    <tr>\n",
       "      <th>1</th>\n",
       "      <td>Берегов</td>\n",
       "      <td>1002879007</td>\n",
       "      <td>1.0</td>\n",
       "      <td>1</td>\n",
       "      <td>0</td>\n",
       "      <td>198</td>\n",
       "      <td>0</td>\n",
       "      <td>0</td>\n",
       "      <td>218</td>\n",
       "    </tr>\n",
       "    <tr>\n",
       "      <th>2</th>\n",
       "      <td>Pastukh Yaroslav</td>\n",
       "      <td>100314790</td>\n",
       "      <td>2.0</td>\n",
       "      <td>0</td>\n",
       "      <td>0</td>\n",
       "      <td>257</td>\n",
       "      <td>0</td>\n",
       "      <td>0</td>\n",
       "      <td>219</td>\n",
       "    </tr>\n",
       "    <tr>\n",
       "      <th>3</th>\n",
       "      <td>Іра Їжачок</td>\n",
       "      <td>1013106861</td>\n",
       "      <td>3.0</td>\n",
       "      <td>1</td>\n",
       "      <td>0</td>\n",
       "      <td>199</td>\n",
       "      <td>0</td>\n",
       "      <td>0</td>\n",
       "      <td>220</td>\n",
       "    </tr>\n",
       "    <tr>\n",
       "      <th>4</th>\n",
       "      <td>Гордіян Олег Вікторович Баня</td>\n",
       "      <td>1019177627</td>\n",
       "      <td>4.0</td>\n",
       "      <td>1</td>\n",
       "      <td>0</td>\n",
       "      <td>200</td>\n",
       "      <td>0</td>\n",
       "      <td>0</td>\n",
       "      <td>221</td>\n",
       "    </tr>\n",
       "    <tr>\n",
       "      <th>...</th>\n",
       "      <td>...</td>\n",
       "      <td>...</td>\n",
       "      <td>...</td>\n",
       "      <td>...</td>\n",
       "      <td>...</td>\n",
       "      <td>...</td>\n",
       "      <td>...</td>\n",
       "      <td>...</td>\n",
       "      <td>...</td>\n",
       "    </tr>\n",
       "    <tr>\n",
       "      <th>270</th>\n",
       "      <td>Тарас Карате Адвокат</td>\n",
       "      <td>994276855</td>\n",
       "      <td>270.0</td>\n",
       "      <td>1</td>\n",
       "      <td>0</td>\n",
       "      <td>254</td>\n",
       "      <td>0</td>\n",
       "      <td>0</td>\n",
       "      <td>271</td>\n",
       "    </tr>\n",
       "    <tr>\n",
       "      <th>271</th>\n",
       "      <td>Аліна Авраменко</td>\n",
       "      <td>995165576</td>\n",
       "      <td>271.0</td>\n",
       "      <td>1</td>\n",
       "      <td>0</td>\n",
       "      <td>255</td>\n",
       "      <td>0</td>\n",
       "      <td>0</td>\n",
       "      <td>272</td>\n",
       "    </tr>\n",
       "    <tr>\n",
       "      <th>272</th>\n",
       "      <td>Приставка</td>\n",
       "      <td>997302074</td>\n",
       "      <td>272.0</td>\n",
       "      <td>1</td>\n",
       "      <td>0</td>\n",
       "      <td>256</td>\n",
       "      <td>0</td>\n",
       "      <td>0</td>\n",
       "      <td>273</td>\n",
       "    </tr>\n",
       "    <tr>\n",
       "      <th>273</th>\n",
       "      <td>Total average statistics msgs</td>\n",
       "      <td>-1</td>\n",
       "      <td>NaN</td>\n",
       "      <td>68</td>\n",
       "      <td>705</td>\n",
       "      <td>-1</td>\n",
       "      <td>71</td>\n",
       "      <td>699</td>\n",
       "      <td>-1</td>\n",
       "    </tr>\n",
       "    <tr>\n",
       "      <th>274</th>\n",
       "      <td>Total average statistics msgs</td>\n",
       "      <td>-1</td>\n",
       "      <td>NaN</td>\n",
       "      <td>621</td>\n",
       "      <td>4050</td>\n",
       "      <td>-1</td>\n",
       "      <td>52</td>\n",
       "      <td>531</td>\n",
       "      <td>-1</td>\n",
       "    </tr>\n",
       "  </tbody>\n",
       "</table>\n",
       "<p>275 rows × 9 columns</p>\n",
       "</div>"
      ],
      "text/plain": [
       "                       dialog_name   dialog_id     id  \\\n",
       "0                           Harmix  1001618937    0.0   \n",
       "1                          Берегов  1002879007    1.0   \n",
       "2                 Pastukh Yaroslav   100314790    2.0   \n",
       "3                       Іра Їжачок  1013106861    3.0   \n",
       "4     Гордіян Олег Вікторович Баня  1019177627    4.0   \n",
       "..                             ...         ...    ...   \n",
       "270           Тарас Карате Адвокат   994276855  270.0   \n",
       "271                Аліна Авраменко   995165576  271.0   \n",
       "272                      Приставка   997302074  272.0   \n",
       "273  Total average statistics msgs          -1    NaN   \n",
       "274  Total average statistics msgs          -1    NaN   \n",
       "\n",
       "     n_received_msgs_in_date_range  n_received_words_in_date_range  \\\n",
       "0                             1172                           16736   \n",
       "1                                1                               0   \n",
       "2                                0                               0   \n",
       "3                                1                               0   \n",
       "4                                1                               0   \n",
       "..                             ...                             ...   \n",
       "270                              1                               0   \n",
       "271                              1                               0   \n",
       "272                              1                               0   \n",
       "273                             68                             705   \n",
       "274                            621                            4050   \n",
       "\n",
       "     place_dialog_by_n_received_msgs  n_sent_msgs_in_date_range  \\\n",
       "0                                  3                        531   \n",
       "1                                198                          0   \n",
       "2                                257                          0   \n",
       "3                                199                          0   \n",
       "4                                200                          0   \n",
       "..                               ...                        ...   \n",
       "270                              254                          0   \n",
       "271                              255                          0   \n",
       "272                              256                          0   \n",
       "273                               -1                         71   \n",
       "274                               -1                         52   \n",
       "\n",
       "     n_sent_words_in_date_range  place_dialog_by_n_sent_msgs  \n",
       "0                           486                           12  \n",
       "1                             0                          218  \n",
       "2                             0                          219  \n",
       "3                             0                          220  \n",
       "4                             0                          221  \n",
       "..                          ...                          ...  \n",
       "270                           0                          271  \n",
       "271                           0                          272  \n",
       "272                           0                          273  \n",
       "273                         699                           -1  \n",
       "274                         531                           -1  \n",
       "\n",
       "[275 rows x 9 columns]"
      ]
     },
     "execution_count": 131,
     "metadata": {},
     "output_type": "execute_result"
    }
   ],
   "source": [
    "# get general statistics\n",
    "df_groups = pd.DataFrame(dialogs_info[\"Group\"].items(), columns=[\"dialog_name\", \"dialog_id\"])\n",
    "df_groups[\"id\"] = [i for i in range(df_groups.index[-1] + 1)]\n",
    "\n",
    "df_groups, average_n_received_msgs, average_n_received_words = get_statistics_msgs(df_groups, \"all\", \"Group\", \"received\",\n",
    "                                                                            DATE_BEFORE, DATE_AFTER)\n",
    "df_groups, average_n_sent_msgs, average_n_sent_words = get_statistics_msgs(df_groups, USER_ID, \"Group\", \"sent\",\n",
    "                                                                    DATE_BEFORE, DATE_AFTER)\n",
    "\n",
    "new_row = {\n",
    "    \"dialog_name\": \"Total average statistics msgs\",\n",
    "    \"dialog_id\": -1,\n",
    "    \"n_received_msgs_in_date_range\": average_n_received_msgs,\n",
    "    \"n_received_words_in_date_range\": average_n_received_words,\n",
    "    \"n_sent_msgs_in_date_range\": average_n_sent_msgs,\n",
    "    \"n_sent_words_in_date_range\": average_n_sent_words,\n",
    "    \"place_dialog_by_n_received_msgs\": -1,\n",
    "    \"place_dialog_by_n_sent_msgs\": -1\n",
    "}\n",
    "\n",
    "df = df.append(new_row, ignore_index=True)\n",
    "\n",
    "df.to_csv(os.path.join(\"data\", \"tmp_static\", f\"groups_{RESULT_NAME_STATISTICS}.csv\"))\n",
    "df"
   ]
  },
  {
   "cell_type": "markdown",
   "metadata": {},
   "source": [
    "## Time spending on conversations during DATE_BEFORE - DATE_AFTER"
   ]
  },
  {
   "cell_type": "code",
   "execution_count": 134,
   "metadata": {
    "pycharm": {
     "name": "#%%\n"
    }
   },
   "outputs": [
    {
     "name": "stdout",
     "output_type": "stream",
     "text": [
      "Active minutes per day(2020-08-01 00:00:00) in Private dialog\n",
      "Time spend on conversation: dialog Діма Лопушанський 22.0 minutes\n",
      "Time spend on conversation: dialog Andrew Kurochkin 4.0 minutes\n",
      "Time spend on conversation: dialog Назар Поночевний 2.0 minutes\n",
      "Time spend on conversation: dialog Султанов Андрій 2.0 minutes\n",
      "Time spend on conversation: dialog Max Bilyk 11.0 minutes\n",
      "Time spend on conversation: dialog Паша Уку Астроном 3.0 minutes\n",
      "Time spend on conversation: dialog Євген Домерецький 10.0 minutes\n",
      "Time spend on conversation: dialog Цапів Володимир Аі 4.0 minutes\n",
      "\n",
      "\n",
      "Active minutes per day(2020-08-01 00:00:00) in Group\n",
      "Time spend on conversation: dialog AI challenge 4.0 minutes\n",
      "\n",
      "\n",
      "Active minutes per day(2020-08-02 00:00:00) in Private dialog\n",
      "Time spend on conversation: dialog Назар Поночевний 5.0 minutes\n",
      "\n",
      "\n",
      "Active minutes per day(2020-08-02 00:00:00) in Group\n",
      "\n",
      "\n",
      "Active minutes per day(2020-08-03 00:00:00) in Private dialog\n",
      "Time spend on conversation: dialog Діма Лопушанський 1.0 minutes\n",
      "Time spend on conversation: dialog Andrew Kurochkin 1.0 minutes\n",
      "Time spend on conversation: dialog Назар Поночевний 1.0 minutes\n",
      "Time spend on conversation: dialog Христина БА 2.0 minutes\n",
      "Time spend on conversation: dialog Євген Домерецький 7.0 minutes\n",
      "Time spend on conversation: dialog Цапів Володимир Аі 3.0 minutes\n",
      "\n",
      "\n",
      "Active minutes per day(2020-08-03 00:00:00) in Group\n",
      "Time spend on conversation: dialog CS‘19👨🏻‍💻 1 minutes\n",
      "\n",
      "\n",
      "Active minutes per day(2020-08-04 00:00:00) in Private dialog\n",
      "Time spend on conversation: dialog H_bot29.06 7 minutes\n",
      "Time spend on conversation: dialog Діма Лопушанський 7.0 minutes\n",
      "Time spend on conversation: dialog Andrew Kurochkin 15.0 minutes\n",
      "Time spend on conversation: dialog Gleb Plakhtiy 10.0 minutes\n",
      "Time spend on conversation: dialog Denys Herasymuk 3.0 minutes\n",
      "Time spend on conversation: dialog Бек Андрій Уку 12.0 minutes\n",
      "Time spend on conversation: dialog Цапів Володимир Аі 17.0 minutes\n",
      "\n",
      "\n",
      "Active minutes per day(2020-08-04 00:00:00) in Group\n",
      "Time spend on conversation: dialog d2v 25.0 minutes\n",
      "\n",
      "\n",
      "Active minutes per day(2020-08-05 00:00:00) in Private dialog\n",
      "Time spend on conversation: dialog Діма Лопушанський 9.0 minutes\n",
      "Time spend on conversation: dialog Володя Савчук 2.0 minutes\n",
      "Time spend on conversation: dialog ピカチュウ 2.0 minutes\n",
      "Time spend on conversation: dialog Andrew Kurochkin 3.0 minutes\n",
      "Time spend on conversation: dialog Євген Панкевич 2.0 minutes\n",
      "Time spend on conversation: dialog Denys Herasymuk 9.0 minutes\n",
      "Time spend on conversation: dialog Цапів Володимир Аі 15.0 minutes\n",
      "\n",
      "\n",
      "Active minutes per day(2020-08-05 00:00:00) in Group\n",
      "Time spend on conversation: dialog d2v 2.0 minutes\n",
      "\n",
      "\n",
      "Active minutes per day(2020-08-06 00:00:00) in Private dialog\n",
      "Time spend on conversation: dialog Діма Лопушанський 20.0 minutes\n",
      "Time spend on conversation: dialog Denys Herasymuk 2.0 minutes\n",
      "\n",
      "\n",
      "Active minutes per day(2020-08-06 00:00:00) in Group\n",
      "Time spend on conversation: dialog d2v 4.0 minutes\n",
      "\n",
      "\n",
      "Active minutes per day(2020-08-07 00:00:00) in Private dialog\n",
      "Time spend on conversation: dialog Діма Лопушанський 12.0 minutes\n",
      "Time spend on conversation: dialog Andrew Kurochkin 4.0 minutes\n",
      "Time spend on conversation: dialog Gleb Plakhtiy 3.0 minutes\n",
      "Time spend on conversation: dialog Max Bilyk 2.0 minutes\n",
      "Time spend on conversation: dialog Паша Уку Астроном 1.0 minutes\n",
      "\n",
      "\n",
      "Active minutes per day(2020-08-07 00:00:00) in Group\n",
      "Time spend on conversation: dialog AI challenge 1.0 minutes\n",
      "Time spend on conversation: dialog d2v 5.0 minutes\n",
      "\n",
      "\n"
     ]
    }
   ],
   "source": [
    "# 3) Change to yours===================================\n",
    "\n",
    "# add UNPREDICTABLE_EXTRA_TIME minutes TO get_user_active_minutes_per_day in case of unpredictable situations\n",
    "UNPREDICTABLE_EXTRA_TIME = 5\n",
    "\n",
    "# add TIME_FOR_FIRST_YOUR_MESSAGE sec - time for reading yur friend messages or one message + writing your first message\n",
    "TIME_FOR_FIRST_YOUR_MESSAGE = 40\n",
    "\n",
    "# if time between messages is more TIME_BETWEEN_USER_REPLIES sec,\n",
    "# so the dialog is stopped and\n",
    "# we should not add this time to general time\n",
    "TIME_BETWEEN_USER_REPLIES = 600\n",
    "\n",
    "\n",
    "def get_user_active_minutes_per_day(dialogs_info, date_before, date_after, dialog_type, user_id_get_msg):\n",
    "    \"\"\"\n",
    "\n",
    "    :param dialogs_info: dict: first level keys - \"Channel\", \"Private dialog\", \"Group\"\n",
    "    second level items - \"<name_of_dialog>\": <id>\n",
    "    :param date_before: datetime type, from what time start to analyse msgs\n",
    "    :param date_after: datetime type, to what time to analyse msgs\n",
    "    :param dialog_type: \"Channel\" or \"Private dialog\" or \"Group\"\n",
    "    :param user_id_get_msg: int, user id\n",
    "    :return: lists for a plot of \"top_friends\" or \"daily_activity\", depends on\n",
    "    your input plot_type\n",
    "    \"\"\"\n",
    "    dialog_active_minutes, previous_message_time = 0, 0\n",
    "\n",
    "    # go through all dialogs on special dialog type in dialogs_info dict\n",
    "    # friend - name of dialog\n",
    "    print(f\"Active minutes per day({date_before}) in {dialog_type}\")\n",
    "    for friend, dialog_id in dialogs_info[dialog_type].items():\n",
    "        dialog_id = str(dialog_id)\n",
    "        start_dialog_time, stop_dialog_time = 0, 0\n",
    "        if dialog_id + \".csv\" not in os.listdir(path_dialogs_dir):\n",
    "            continue\n",
    "\n",
    "        dialog_data = pd.read_csv(os.path.join(path_dialogs_dir, dialog_id + \".csv\"))\n",
    "        dialog_active_minutes_before = dialog_active_minutes\n",
    "        flag_first_my_message = 0\n",
    "\n",
    "        for row in dialog_data.index:\n",
    "            if user_id_get_msg != \"all\":\n",
    "                if dialog_data[\"from_id\"][row] != user_id_get_msg:\n",
    "                    continue\n",
    "\n",
    "            dialog_datetime = dialog_data[\"date\"][row][:-6]\n",
    "            flag_in_range = if_in_date_range(dialog_datetime, date_before, date_after)\n",
    "            if flag_in_range == 'Dialog after date_after':\n",
    "                continue\n",
    "\n",
    "            elif not flag_in_range:\n",
    "                break\n",
    "\n",
    "            elif flag_in_range:\n",
    "                dialog_datetime = datetime.datetime.strptime(dialog_data[\"date\"][row][:-6],\n",
    "                                                                         \"%Y-%m-%d %H:%M:%S\")\n",
    "                if flag_first_my_message == 0:\n",
    "                    previous_message_time = dialog_datetime\n",
    "                    flag_first_my_message = 1\n",
    "\n",
    "                time_before_my_messages = previous_message_time - dialog_datetime\n",
    "\n",
    "                # if message in user_id_get_msg queue of messages\n",
    "                if row != dialog_data.index[-1] and dialog_data[\"from_id\"][row + 1] == user_id_get_msg and \\\n",
    "                        time_before_my_messages.total_seconds() < 600:\n",
    "                    previous_message_time = dialog_datetime\n",
    "                    if stop_dialog_time == 0:\n",
    "                        stop_dialog_time = dialog_datetime\n",
    "\n",
    "                else:\n",
    "                    if stop_dialog_time == 0:\n",
    "                        # if in user_id_get_msg queue of messages is only 1 message so add\n",
    "                        # time for writing it\n",
    "                        dialog_active_minutes += TIME_FOR_FIRST_YOUR_MESSAGE\n",
    "                    else:\n",
    "                        start_dialog_time = dialog_datetime\n",
    "\n",
    "                        # get time between your query of messages\n",
    "                        time_since = stop_dialog_time - start_dialog_time\n",
    "\n",
    "                        # if time between messages is more TIME_BETWEEN_USER_REPLIES sec,\n",
    "                        # so the dialog is stopped and\n",
    "                        # we should not add this time to general time\n",
    "                        if time_since.total_seconds() >= TIME_BETWEEN_USER_REPLIES:\n",
    "                            time_since = stop_dialog_time - previous_message_time\n",
    "                            dialog_active_minutes += time_since.total_seconds() + TIME_FOR_FIRST_YOUR_MESSAGE\n",
    "                            # TIME_FOR_LAST_MESSAGE\n",
    "\n",
    "                        else:\n",
    "                            # add TIME_FOR_FIRST_YOUR_MESSAGE sec - time for reading + writing first message\n",
    "                            dialog_active_minutes += time_since.total_seconds() + TIME_FOR_FIRST_YOUR_MESSAGE\n",
    "\n",
    "                    previous_message_time = dialog_datetime\n",
    "                    start_dialog_time, stop_dialog_time = 0, 0\n",
    "\n",
    "        if (dialog_active_minutes - dialog_active_minutes_before) // 60 > 0:\n",
    "            print(\"Time spend on conversation: dialog {} {} minutes\".format(friend,\n",
    "                                                                            (dialog_active_minutes -\n",
    "                                                                             dialog_active_minutes_before) // 60))\n",
    "    print(\"\\n\")\n",
    "    # add UNPREDICTABLE_EXTRA_TIME minutes in case of unpredictable situations\n",
    "    return dialog_active_minutes // 60 + UNPREDICTABLE_EXTRA_TIME\n"
   ]
  },
  {
   "cell_type": "code",
   "execution_count": null,
   "metadata": {
    "pycharm": {
     "name": "#%%\n"
    }
   },
   "outputs": [],
   "source": [
    "# TODO: it's not okay to have so mane KEYERROR!!!s, something in the logic is wrong\n",
    "# table with time spend on the dialog should be in the dataframe\n",
    "# when I dwar chart for long time period(7 months) I see same bars, with values 7000minutes per day, are you sure it's okay?\n",
    "\n",
    "# 4) Change START_WEEK_YEAR, START_WEEK_MONTH and START_WEEK_DAY to yours===================================\n",
    "\n",
    "# be sure to input date which is in your data, not date in the future !!!\n",
    "START_WEEK_YEAR = 2020\n",
    "START_WEEK_MONTH = 8\n",
    "START_WEEK_DAY = 1\n",
    "\n",
    "plot_data = {}\n",
    "for i in range(7):\n",
    "    date_before = datetime.datetime(START_WEEK_YEAR, START_WEEK_MONTH,\n",
    "                                    START_WEEK_DAY + i, 0, 0, 0)\n",
    "\n",
    "    date_after = datetime.datetime(START_WEEK_YEAR, START_WEEK_MONTH,\n",
    "                                    START_WEEK_DAY + i + 1, 0, 0, 0)\n",
    "\n",
    "    general_dialog_time = get_user_active_minutes_per_day(dialogs_info, date_before, date_after, \"Private dialog\", USER_ID) \\\n",
    "                          + get_user_active_minutes_per_day(dialogs_info, date_before, date_after, \"Group\", USER_ID)\n",
    "    plot_data[datetime.date(START_WEEK_YEAR, START_WEEK_MONTH, START_WEEK_DAY + i)] = general_dialog_time\n",
    "\n",
    "lists = sorted(plot_data.items())\n",
    "dates, n_minutes_lst = zip(*lists)"
   ]
  },
  {
   "cell_type": "code",
   "execution_count": 133,
   "metadata": {
    "pycharm": {
     "name": "#%%\n"
    }
   },
   "outputs": [
    {
     "data": {
      "application/vnd.plotly.v1+json": {
       "config": {
        "plotlyServerURL": "https://plot.ly"
       },
       "data": [
        {
         "name": "Data 1",
         "type": "bar",
         "x": [
          "2020-08-01",
          "2020-08-02",
          "2020-08-03",
          "2020-08-04",
          "2020-08-05",
          "2020-08-06",
          "2020-08-07"
         ],
         "y": [
          74,
          15,
          29,
          109,
          56,
          37,
          39
         ]
        }
       ],
       "layout": {
        "autosize": false,
        "height": 800,
        "template": {
         "data": {
          "bar": [
           {
            "error_x": {
             "color": "#2a3f5f"
            },
            "error_y": {
             "color": "#2a3f5f"
            },
            "marker": {
             "line": {
              "color": "#E5ECF6",
              "width": 0.5
             }
            },
            "type": "bar"
           }
          ],
          "barpolar": [
           {
            "marker": {
             "line": {
              "color": "#E5ECF6",
              "width": 0.5
             }
            },
            "type": "barpolar"
           }
          ],
          "carpet": [
           {
            "aaxis": {
             "endlinecolor": "#2a3f5f",
             "gridcolor": "white",
             "linecolor": "white",
             "minorgridcolor": "white",
             "startlinecolor": "#2a3f5f"
            },
            "baxis": {
             "endlinecolor": "#2a3f5f",
             "gridcolor": "white",
             "linecolor": "white",
             "minorgridcolor": "white",
             "startlinecolor": "#2a3f5f"
            },
            "type": "carpet"
           }
          ],
          "choropleth": [
           {
            "colorbar": {
             "outlinewidth": 0,
             "ticks": ""
            },
            "type": "choropleth"
           }
          ],
          "contour": [
           {
            "colorbar": {
             "outlinewidth": 0,
             "ticks": ""
            },
            "colorscale": [
             [
              0,
              "#0d0887"
             ],
             [
              0.1111111111111111,
              "#46039f"
             ],
             [
              0.2222222222222222,
              "#7201a8"
             ],
             [
              0.3333333333333333,
              "#9c179e"
             ],
             [
              0.4444444444444444,
              "#bd3786"
             ],
             [
              0.5555555555555556,
              "#d8576b"
             ],
             [
              0.6666666666666666,
              "#ed7953"
             ],
             [
              0.7777777777777778,
              "#fb9f3a"
             ],
             [
              0.8888888888888888,
              "#fdca26"
             ],
             [
              1,
              "#f0f921"
             ]
            ],
            "type": "contour"
           }
          ],
          "contourcarpet": [
           {
            "colorbar": {
             "outlinewidth": 0,
             "ticks": ""
            },
            "type": "contourcarpet"
           }
          ],
          "heatmap": [
           {
            "colorbar": {
             "outlinewidth": 0,
             "ticks": ""
            },
            "colorscale": [
             [
              0,
              "#0d0887"
             ],
             [
              0.1111111111111111,
              "#46039f"
             ],
             [
              0.2222222222222222,
              "#7201a8"
             ],
             [
              0.3333333333333333,
              "#9c179e"
             ],
             [
              0.4444444444444444,
              "#bd3786"
             ],
             [
              0.5555555555555556,
              "#d8576b"
             ],
             [
              0.6666666666666666,
              "#ed7953"
             ],
             [
              0.7777777777777778,
              "#fb9f3a"
             ],
             [
              0.8888888888888888,
              "#fdca26"
             ],
             [
              1,
              "#f0f921"
             ]
            ],
            "type": "heatmap"
           }
          ],
          "heatmapgl": [
           {
            "colorbar": {
             "outlinewidth": 0,
             "ticks": ""
            },
            "colorscale": [
             [
              0,
              "#0d0887"
             ],
             [
              0.1111111111111111,
              "#46039f"
             ],
             [
              0.2222222222222222,
              "#7201a8"
             ],
             [
              0.3333333333333333,
              "#9c179e"
             ],
             [
              0.4444444444444444,
              "#bd3786"
             ],
             [
              0.5555555555555556,
              "#d8576b"
             ],
             [
              0.6666666666666666,
              "#ed7953"
             ],
             [
              0.7777777777777778,
              "#fb9f3a"
             ],
             [
              0.8888888888888888,
              "#fdca26"
             ],
             [
              1,
              "#f0f921"
             ]
            ],
            "type": "heatmapgl"
           }
          ],
          "histogram": [
           {
            "marker": {
             "colorbar": {
              "outlinewidth": 0,
              "ticks": ""
             }
            },
            "type": "histogram"
           }
          ],
          "histogram2d": [
           {
            "colorbar": {
             "outlinewidth": 0,
             "ticks": ""
            },
            "colorscale": [
             [
              0,
              "#0d0887"
             ],
             [
              0.1111111111111111,
              "#46039f"
             ],
             [
              0.2222222222222222,
              "#7201a8"
             ],
             [
              0.3333333333333333,
              "#9c179e"
             ],
             [
              0.4444444444444444,
              "#bd3786"
             ],
             [
              0.5555555555555556,
              "#d8576b"
             ],
             [
              0.6666666666666666,
              "#ed7953"
             ],
             [
              0.7777777777777778,
              "#fb9f3a"
             ],
             [
              0.8888888888888888,
              "#fdca26"
             ],
             [
              1,
              "#f0f921"
             ]
            ],
            "type": "histogram2d"
           }
          ],
          "histogram2dcontour": [
           {
            "colorbar": {
             "outlinewidth": 0,
             "ticks": ""
            },
            "colorscale": [
             [
              0,
              "#0d0887"
             ],
             [
              0.1111111111111111,
              "#46039f"
             ],
             [
              0.2222222222222222,
              "#7201a8"
             ],
             [
              0.3333333333333333,
              "#9c179e"
             ],
             [
              0.4444444444444444,
              "#bd3786"
             ],
             [
              0.5555555555555556,
              "#d8576b"
             ],
             [
              0.6666666666666666,
              "#ed7953"
             ],
             [
              0.7777777777777778,
              "#fb9f3a"
             ],
             [
              0.8888888888888888,
              "#fdca26"
             ],
             [
              1,
              "#f0f921"
             ]
            ],
            "type": "histogram2dcontour"
           }
          ],
          "mesh3d": [
           {
            "colorbar": {
             "outlinewidth": 0,
             "ticks": ""
            },
            "type": "mesh3d"
           }
          ],
          "parcoords": [
           {
            "line": {
             "colorbar": {
              "outlinewidth": 0,
              "ticks": ""
             }
            },
            "type": "parcoords"
           }
          ],
          "pie": [
           {
            "automargin": true,
            "type": "pie"
           }
          ],
          "scatter": [
           {
            "marker": {
             "colorbar": {
              "outlinewidth": 0,
              "ticks": ""
             }
            },
            "type": "scatter"
           }
          ],
          "scatter3d": [
           {
            "line": {
             "colorbar": {
              "outlinewidth": 0,
              "ticks": ""
             }
            },
            "marker": {
             "colorbar": {
              "outlinewidth": 0,
              "ticks": ""
             }
            },
            "type": "scatter3d"
           }
          ],
          "scattercarpet": [
           {
            "marker": {
             "colorbar": {
              "outlinewidth": 0,
              "ticks": ""
             }
            },
            "type": "scattercarpet"
           }
          ],
          "scattergeo": [
           {
            "marker": {
             "colorbar": {
              "outlinewidth": 0,
              "ticks": ""
             }
            },
            "type": "scattergeo"
           }
          ],
          "scattergl": [
           {
            "marker": {
             "colorbar": {
              "outlinewidth": 0,
              "ticks": ""
             }
            },
            "type": "scattergl"
           }
          ],
          "scattermapbox": [
           {
            "marker": {
             "colorbar": {
              "outlinewidth": 0,
              "ticks": ""
             }
            },
            "type": "scattermapbox"
           }
          ],
          "scatterpolar": [
           {
            "marker": {
             "colorbar": {
              "outlinewidth": 0,
              "ticks": ""
             }
            },
            "type": "scatterpolar"
           }
          ],
          "scatterpolargl": [
           {
            "marker": {
             "colorbar": {
              "outlinewidth": 0,
              "ticks": ""
             }
            },
            "type": "scatterpolargl"
           }
          ],
          "scatterternary": [
           {
            "marker": {
             "colorbar": {
              "outlinewidth": 0,
              "ticks": ""
             }
            },
            "type": "scatterternary"
           }
          ],
          "surface": [
           {
            "colorbar": {
             "outlinewidth": 0,
             "ticks": ""
            },
            "colorscale": [
             [
              0,
              "#0d0887"
             ],
             [
              0.1111111111111111,
              "#46039f"
             ],
             [
              0.2222222222222222,
              "#7201a8"
             ],
             [
              0.3333333333333333,
              "#9c179e"
             ],
             [
              0.4444444444444444,
              "#bd3786"
             ],
             [
              0.5555555555555556,
              "#d8576b"
             ],
             [
              0.6666666666666666,
              "#ed7953"
             ],
             [
              0.7777777777777778,
              "#fb9f3a"
             ],
             [
              0.8888888888888888,
              "#fdca26"
             ],
             [
              1,
              "#f0f921"
             ]
            ],
            "type": "surface"
           }
          ],
          "table": [
           {
            "cells": {
             "fill": {
              "color": "#EBF0F8"
             },
             "line": {
              "color": "white"
             }
            },
            "header": {
             "fill": {
              "color": "#C8D4E3"
             },
             "line": {
              "color": "white"
             }
            },
            "type": "table"
           }
          ]
         },
         "layout": {
          "annotationdefaults": {
           "arrowcolor": "#2a3f5f",
           "arrowhead": 0,
           "arrowwidth": 1
          },
          "coloraxis": {
           "colorbar": {
            "outlinewidth": 0,
            "ticks": ""
           }
          },
          "colorscale": {
           "diverging": [
            [
             0,
             "#8e0152"
            ],
            [
             0.1,
             "#c51b7d"
            ],
            [
             0.2,
             "#de77ae"
            ],
            [
             0.3,
             "#f1b6da"
            ],
            [
             0.4,
             "#fde0ef"
            ],
            [
             0.5,
             "#f7f7f7"
            ],
            [
             0.6,
             "#e6f5d0"
            ],
            [
             0.7,
             "#b8e186"
            ],
            [
             0.8,
             "#7fbc41"
            ],
            [
             0.9,
             "#4d9221"
            ],
            [
             1,
             "#276419"
            ]
           ],
           "sequential": [
            [
             0,
             "#0d0887"
            ],
            [
             0.1111111111111111,
             "#46039f"
            ],
            [
             0.2222222222222222,
             "#7201a8"
            ],
            [
             0.3333333333333333,
             "#9c179e"
            ],
            [
             0.4444444444444444,
             "#bd3786"
            ],
            [
             0.5555555555555556,
             "#d8576b"
            ],
            [
             0.6666666666666666,
             "#ed7953"
            ],
            [
             0.7777777777777778,
             "#fb9f3a"
            ],
            [
             0.8888888888888888,
             "#fdca26"
            ],
            [
             1,
             "#f0f921"
            ]
           ],
           "sequentialminus": [
            [
             0,
             "#0d0887"
            ],
            [
             0.1111111111111111,
             "#46039f"
            ],
            [
             0.2222222222222222,
             "#7201a8"
            ],
            [
             0.3333333333333333,
             "#9c179e"
            ],
            [
             0.4444444444444444,
             "#bd3786"
            ],
            [
             0.5555555555555556,
             "#d8576b"
            ],
            [
             0.6666666666666666,
             "#ed7953"
            ],
            [
             0.7777777777777778,
             "#fb9f3a"
            ],
            [
             0.8888888888888888,
             "#fdca26"
            ],
            [
             1,
             "#f0f921"
            ]
           ]
          },
          "colorway": [
           "#636efa",
           "#EF553B",
           "#00cc96",
           "#ab63fa",
           "#FFA15A",
           "#19d3f3",
           "#FF6692",
           "#B6E880",
           "#FF97FF",
           "#FECB52"
          ],
          "font": {
           "color": "#2a3f5f"
          },
          "geo": {
           "bgcolor": "white",
           "lakecolor": "white",
           "landcolor": "#E5ECF6",
           "showlakes": true,
           "showland": true,
           "subunitcolor": "white"
          },
          "hoverlabel": {
           "align": "left"
          },
          "hovermode": "closest",
          "mapbox": {
           "style": "light"
          },
          "paper_bgcolor": "white",
          "plot_bgcolor": "#E5ECF6",
          "polar": {
           "angularaxis": {
            "gridcolor": "white",
            "linecolor": "white",
            "ticks": ""
           },
           "bgcolor": "#E5ECF6",
           "radialaxis": {
            "gridcolor": "white",
            "linecolor": "white",
            "ticks": ""
           }
          },
          "scene": {
           "xaxis": {
            "backgroundcolor": "#E5ECF6",
            "gridcolor": "white",
            "gridwidth": 2,
            "linecolor": "white",
            "showbackground": true,
            "ticks": "",
            "zerolinecolor": "white"
           },
           "yaxis": {
            "backgroundcolor": "#E5ECF6",
            "gridcolor": "white",
            "gridwidth": 2,
            "linecolor": "white",
            "showbackground": true,
            "ticks": "",
            "zerolinecolor": "white"
           },
           "zaxis": {
            "backgroundcolor": "#E5ECF6",
            "gridcolor": "white",
            "gridwidth": 2,
            "linecolor": "white",
            "showbackground": true,
            "ticks": "",
            "zerolinecolor": "white"
           }
          },
          "shapedefaults": {
           "line": {
            "color": "#2a3f5f"
           }
          },
          "ternary": {
           "aaxis": {
            "gridcolor": "white",
            "linecolor": "white",
            "ticks": ""
           },
           "baxis": {
            "gridcolor": "white",
            "linecolor": "white",
            "ticks": ""
           },
           "bgcolor": "#E5ECF6",
           "caxis": {
            "gridcolor": "white",
            "linecolor": "white",
            "ticks": ""
           }
          },
          "title": {
           "x": 0.05
          },
          "xaxis": {
           "automargin": true,
           "gridcolor": "white",
           "linecolor": "white",
           "ticks": "",
           "title": {
            "standoff": 15
           },
           "zerolinecolor": "white",
           "zerolinewidth": 2
          },
          "yaxis": {
           "automargin": true,
           "gridcolor": "white",
           "linecolor": "white",
           "ticks": "",
           "title": {
            "standoff": 15
           },
           "zerolinecolor": "white",
           "zerolinewidth": 2
          }
         }
        },
        "width": 800,
        "xaxis": {
         "tickfont": {
          "size": 14
         },
         "title": {
          "font": {
           "size": 16
          },
          "text": "Dates"
         }
        },
        "yaxis": {
         "tickfont": {
          "size": 14
         },
         "title": {
          "font": {
           "size": 16
          },
          "text": "N minutes"
         }
        }
       }
      },
      "text/html": [
       "<div>\n",
       "        \n",
       "        \n",
       "            <div id=\"445011ff-e03c-4e6b-9b02-01790d3fbf25\" class=\"plotly-graph-div\" style=\"height:800px; width:800px;\"></div>\n",
       "            <script type=\"text/javascript\">\n",
       "                require([\"plotly\"], function(Plotly) {\n",
       "                    window.PLOTLYENV=window.PLOTLYENV || {};\n",
       "                    \n",
       "                if (document.getElementById(\"445011ff-e03c-4e6b-9b02-01790d3fbf25\")) {\n",
       "                    Plotly.newPlot(\n",
       "                        '445011ff-e03c-4e6b-9b02-01790d3fbf25',\n",
       "                        [{\"name\": \"Data 1\", \"type\": \"bar\", \"x\": [\"2020-08-01\", \"2020-08-02\", \"2020-08-03\", \"2020-08-04\", \"2020-08-05\", \"2020-08-06\", \"2020-08-07\"], \"y\": [74.0, 15.0, 29.0, 109.0, 56.0, 37.0, 39.0]}],\n",
       "                        {\"autosize\": false, \"height\": 800, \"template\": {\"data\": {\"bar\": [{\"error_x\": {\"color\": \"#2a3f5f\"}, \"error_y\": {\"color\": \"#2a3f5f\"}, \"marker\": {\"line\": {\"color\": \"#E5ECF6\", \"width\": 0.5}}, \"type\": \"bar\"}], \"barpolar\": [{\"marker\": {\"line\": {\"color\": \"#E5ECF6\", \"width\": 0.5}}, \"type\": \"barpolar\"}], \"carpet\": [{\"aaxis\": {\"endlinecolor\": \"#2a3f5f\", \"gridcolor\": \"white\", \"linecolor\": \"white\", \"minorgridcolor\": \"white\", \"startlinecolor\": \"#2a3f5f\"}, \"baxis\": {\"endlinecolor\": \"#2a3f5f\", \"gridcolor\": \"white\", \"linecolor\": \"white\", \"minorgridcolor\": \"white\", \"startlinecolor\": \"#2a3f5f\"}, \"type\": \"carpet\"}], \"choropleth\": [{\"colorbar\": {\"outlinewidth\": 0, \"ticks\": \"\"}, \"type\": \"choropleth\"}], \"contour\": [{\"colorbar\": {\"outlinewidth\": 0, \"ticks\": \"\"}, \"colorscale\": [[0.0, \"#0d0887\"], [0.1111111111111111, \"#46039f\"], [0.2222222222222222, \"#7201a8\"], [0.3333333333333333, \"#9c179e\"], [0.4444444444444444, \"#bd3786\"], [0.5555555555555556, \"#d8576b\"], [0.6666666666666666, \"#ed7953\"], [0.7777777777777778, \"#fb9f3a\"], [0.8888888888888888, \"#fdca26\"], [1.0, \"#f0f921\"]], \"type\": \"contour\"}], \"contourcarpet\": [{\"colorbar\": {\"outlinewidth\": 0, \"ticks\": \"\"}, \"type\": \"contourcarpet\"}], \"heatmap\": [{\"colorbar\": {\"outlinewidth\": 0, \"ticks\": \"\"}, \"colorscale\": [[0.0, \"#0d0887\"], [0.1111111111111111, \"#46039f\"], [0.2222222222222222, \"#7201a8\"], [0.3333333333333333, \"#9c179e\"], [0.4444444444444444, \"#bd3786\"], [0.5555555555555556, \"#d8576b\"], [0.6666666666666666, \"#ed7953\"], [0.7777777777777778, \"#fb9f3a\"], [0.8888888888888888, \"#fdca26\"], [1.0, \"#f0f921\"]], \"type\": \"heatmap\"}], \"heatmapgl\": [{\"colorbar\": {\"outlinewidth\": 0, \"ticks\": \"\"}, \"colorscale\": [[0.0, \"#0d0887\"], [0.1111111111111111, \"#46039f\"], [0.2222222222222222, \"#7201a8\"], [0.3333333333333333, \"#9c179e\"], [0.4444444444444444, \"#bd3786\"], [0.5555555555555556, \"#d8576b\"], [0.6666666666666666, \"#ed7953\"], [0.7777777777777778, \"#fb9f3a\"], [0.8888888888888888, \"#fdca26\"], [1.0, \"#f0f921\"]], \"type\": \"heatmapgl\"}], \"histogram\": [{\"marker\": {\"colorbar\": {\"outlinewidth\": 0, \"ticks\": \"\"}}, \"type\": \"histogram\"}], \"histogram2d\": [{\"colorbar\": {\"outlinewidth\": 0, \"ticks\": \"\"}, \"colorscale\": [[0.0, \"#0d0887\"], [0.1111111111111111, \"#46039f\"], [0.2222222222222222, \"#7201a8\"], [0.3333333333333333, \"#9c179e\"], [0.4444444444444444, \"#bd3786\"], [0.5555555555555556, \"#d8576b\"], [0.6666666666666666, \"#ed7953\"], [0.7777777777777778, \"#fb9f3a\"], [0.8888888888888888, \"#fdca26\"], [1.0, \"#f0f921\"]], \"type\": \"histogram2d\"}], \"histogram2dcontour\": [{\"colorbar\": {\"outlinewidth\": 0, \"ticks\": \"\"}, \"colorscale\": [[0.0, \"#0d0887\"], [0.1111111111111111, \"#46039f\"], [0.2222222222222222, \"#7201a8\"], [0.3333333333333333, \"#9c179e\"], [0.4444444444444444, \"#bd3786\"], [0.5555555555555556, \"#d8576b\"], [0.6666666666666666, \"#ed7953\"], [0.7777777777777778, \"#fb9f3a\"], [0.8888888888888888, \"#fdca26\"], [1.0, \"#f0f921\"]], \"type\": \"histogram2dcontour\"}], \"mesh3d\": [{\"colorbar\": {\"outlinewidth\": 0, \"ticks\": \"\"}, \"type\": \"mesh3d\"}], \"parcoords\": [{\"line\": {\"colorbar\": {\"outlinewidth\": 0, \"ticks\": \"\"}}, \"type\": \"parcoords\"}], \"pie\": [{\"automargin\": true, \"type\": \"pie\"}], \"scatter\": [{\"marker\": {\"colorbar\": {\"outlinewidth\": 0, \"ticks\": \"\"}}, \"type\": \"scatter\"}], \"scatter3d\": [{\"line\": {\"colorbar\": {\"outlinewidth\": 0, \"ticks\": \"\"}}, \"marker\": {\"colorbar\": {\"outlinewidth\": 0, \"ticks\": \"\"}}, \"type\": \"scatter3d\"}], \"scattercarpet\": [{\"marker\": {\"colorbar\": {\"outlinewidth\": 0, \"ticks\": \"\"}}, \"type\": \"scattercarpet\"}], \"scattergeo\": [{\"marker\": {\"colorbar\": {\"outlinewidth\": 0, \"ticks\": \"\"}}, \"type\": \"scattergeo\"}], \"scattergl\": [{\"marker\": {\"colorbar\": {\"outlinewidth\": 0, \"ticks\": \"\"}}, \"type\": \"scattergl\"}], \"scattermapbox\": [{\"marker\": {\"colorbar\": {\"outlinewidth\": 0, \"ticks\": \"\"}}, \"type\": \"scattermapbox\"}], \"scatterpolar\": [{\"marker\": {\"colorbar\": {\"outlinewidth\": 0, \"ticks\": \"\"}}, \"type\": \"scatterpolar\"}], \"scatterpolargl\": [{\"marker\": {\"colorbar\": {\"outlinewidth\": 0, \"ticks\": \"\"}}, \"type\": \"scatterpolargl\"}], \"scatterternary\": [{\"marker\": {\"colorbar\": {\"outlinewidth\": 0, \"ticks\": \"\"}}, \"type\": \"scatterternary\"}], \"surface\": [{\"colorbar\": {\"outlinewidth\": 0, \"ticks\": \"\"}, \"colorscale\": [[0.0, \"#0d0887\"], [0.1111111111111111, \"#46039f\"], [0.2222222222222222, \"#7201a8\"], [0.3333333333333333, \"#9c179e\"], [0.4444444444444444, \"#bd3786\"], [0.5555555555555556, \"#d8576b\"], [0.6666666666666666, \"#ed7953\"], [0.7777777777777778, \"#fb9f3a\"], [0.8888888888888888, \"#fdca26\"], [1.0, \"#f0f921\"]], \"type\": \"surface\"}], \"table\": [{\"cells\": {\"fill\": {\"color\": \"#EBF0F8\"}, \"line\": {\"color\": \"white\"}}, \"header\": {\"fill\": {\"color\": \"#C8D4E3\"}, \"line\": {\"color\": \"white\"}}, \"type\": \"table\"}]}, \"layout\": {\"annotationdefaults\": {\"arrowcolor\": \"#2a3f5f\", \"arrowhead\": 0, \"arrowwidth\": 1}, \"coloraxis\": {\"colorbar\": {\"outlinewidth\": 0, \"ticks\": \"\"}}, \"colorscale\": {\"diverging\": [[0, \"#8e0152\"], [0.1, \"#c51b7d\"], [0.2, \"#de77ae\"], [0.3, \"#f1b6da\"], [0.4, \"#fde0ef\"], [0.5, \"#f7f7f7\"], [0.6, \"#e6f5d0\"], [0.7, \"#b8e186\"], [0.8, \"#7fbc41\"], [0.9, \"#4d9221\"], [1, \"#276419\"]], \"sequential\": [[0.0, \"#0d0887\"], [0.1111111111111111, \"#46039f\"], [0.2222222222222222, \"#7201a8\"], [0.3333333333333333, \"#9c179e\"], [0.4444444444444444, \"#bd3786\"], [0.5555555555555556, \"#d8576b\"], [0.6666666666666666, \"#ed7953\"], [0.7777777777777778, \"#fb9f3a\"], [0.8888888888888888, \"#fdca26\"], [1.0, \"#f0f921\"]], \"sequentialminus\": [[0.0, \"#0d0887\"], [0.1111111111111111, \"#46039f\"], [0.2222222222222222, \"#7201a8\"], [0.3333333333333333, \"#9c179e\"], [0.4444444444444444, \"#bd3786\"], [0.5555555555555556, \"#d8576b\"], [0.6666666666666666, \"#ed7953\"], [0.7777777777777778, \"#fb9f3a\"], [0.8888888888888888, \"#fdca26\"], [1.0, \"#f0f921\"]]}, \"colorway\": [\"#636efa\", \"#EF553B\", \"#00cc96\", \"#ab63fa\", \"#FFA15A\", \"#19d3f3\", \"#FF6692\", \"#B6E880\", \"#FF97FF\", \"#FECB52\"], \"font\": {\"color\": \"#2a3f5f\"}, \"geo\": {\"bgcolor\": \"white\", \"lakecolor\": \"white\", \"landcolor\": \"#E5ECF6\", \"showlakes\": true, \"showland\": true, \"subunitcolor\": \"white\"}, \"hoverlabel\": {\"align\": \"left\"}, \"hovermode\": \"closest\", \"mapbox\": {\"style\": \"light\"}, \"paper_bgcolor\": \"white\", \"plot_bgcolor\": \"#E5ECF6\", \"polar\": {\"angularaxis\": {\"gridcolor\": \"white\", \"linecolor\": \"white\", \"ticks\": \"\"}, \"bgcolor\": \"#E5ECF6\", \"radialaxis\": {\"gridcolor\": \"white\", \"linecolor\": \"white\", \"ticks\": \"\"}}, \"scene\": {\"xaxis\": {\"backgroundcolor\": \"#E5ECF6\", \"gridcolor\": \"white\", \"gridwidth\": 2, \"linecolor\": \"white\", \"showbackground\": true, \"ticks\": \"\", \"zerolinecolor\": \"white\"}, \"yaxis\": {\"backgroundcolor\": \"#E5ECF6\", \"gridcolor\": \"white\", \"gridwidth\": 2, \"linecolor\": \"white\", \"showbackground\": true, \"ticks\": \"\", \"zerolinecolor\": \"white\"}, \"zaxis\": {\"backgroundcolor\": \"#E5ECF6\", \"gridcolor\": \"white\", \"gridwidth\": 2, \"linecolor\": \"white\", \"showbackground\": true, \"ticks\": \"\", \"zerolinecolor\": \"white\"}}, \"shapedefaults\": {\"line\": {\"color\": \"#2a3f5f\"}}, \"ternary\": {\"aaxis\": {\"gridcolor\": \"white\", \"linecolor\": \"white\", \"ticks\": \"\"}, \"baxis\": {\"gridcolor\": \"white\", \"linecolor\": \"white\", \"ticks\": \"\"}, \"bgcolor\": \"#E5ECF6\", \"caxis\": {\"gridcolor\": \"white\", \"linecolor\": \"white\", \"ticks\": \"\"}}, \"title\": {\"x\": 0.05}, \"xaxis\": {\"automargin\": true, \"gridcolor\": \"white\", \"linecolor\": \"white\", \"ticks\": \"\", \"title\": {\"standoff\": 15}, \"zerolinecolor\": \"white\", \"zerolinewidth\": 2}, \"yaxis\": {\"automargin\": true, \"gridcolor\": \"white\", \"linecolor\": \"white\", \"ticks\": \"\", \"title\": {\"standoff\": 15}, \"zerolinecolor\": \"white\", \"zerolinewidth\": 2}}}, \"width\": 800, \"xaxis\": {\"tickfont\": {\"size\": 14}, \"title\": {\"font\": {\"size\": 16}, \"text\": \"Dates\"}}, \"yaxis\": {\"tickfont\": {\"size\": 14}, \"title\": {\"font\": {\"size\": 16}, \"text\": \"N minutes\"}}},\n",
       "                        {\"responsive\": true}\n",
       "                    ).then(function(){\n",
       "                            \n",
       "var gd = document.getElementById('445011ff-e03c-4e6b-9b02-01790d3fbf25');\n",
       "var x = new MutationObserver(function (mutations, observer) {{\n",
       "        var display = window.getComputedStyle(gd).display;\n",
       "        if (!display || display === 'none') {{\n",
       "            console.log([gd, 'removed!']);\n",
       "            Plotly.purge(gd);\n",
       "            observer.disconnect();\n",
       "        }}\n",
       "}});\n",
       "\n",
       "// Listen for the removal of the full notebook cells\n",
       "var notebookContainer = gd.closest('#notebook-container');\n",
       "if (notebookContainer) {{\n",
       "    x.observe(notebookContainer, {childList: true});\n",
       "}}\n",
       "\n",
       "// Listen for the clearing of the current output cell\n",
       "var outputEl = gd.closest('.output');\n",
       "if (outputEl) {{\n",
       "    x.observe(outputEl, {childList: true});\n",
       "}}\n",
       "\n",
       "                        })\n",
       "                };\n",
       "                });\n",
       "            </script>\n",
       "        </div>"
      ]
     },
     "metadata": {},
     "output_type": "display_data"
    }
   ],
   "source": [
    "import plotly.graph_objects as px\n",
    "\n",
    "\n",
    "plot = px.Figure(data=[go.Bar(\n",
    "    name = 'Data 1',\n",
    "    x = dates,\n",
    "    y = n_minutes_lst\n",
    "   )])\n",
    "\n",
    "plot.update_layout(\n",
    "    autosize=False,\n",
    "    width=800,\n",
    "    height=800,\n",
    "    yaxis = dict(\n",
    "            title='N minutes',\n",
    "            titlefont_size=16,\n",
    "            tickfont_size=14),\n",
    "    xaxis = dict(\n",
    "            title='Dates',\n",
    "            titlefont_size=16,\n",
    "            tickfont_size=14)\n",
    ")\n",
    "\n",
    "plot.show()\n",
    "\n"
   ]
  }
 ],
 "metadata": {
  "kernelspec": {
   "display_name": "Python 3",
   "language": "python",
   "name": "python3"
  },
  "language_info": {
   "codemirror_mode": {
    "name": "ipython",
    "version": 3
   },
   "file_extension": ".py",
   "mimetype": "text/x-python",
   "name": "python",
   "nbconvert_exporter": "python",
   "pygments_lexer": "ipython3",
   "version": "3.8.5"
  }
 },
 "nbformat": 4,
 "nbformat_minor": 2
}
