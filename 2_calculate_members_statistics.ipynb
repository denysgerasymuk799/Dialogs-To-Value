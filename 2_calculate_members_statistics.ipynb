{
 "cells": [
  {
   "cell_type": "code",
   "execution_count": 1,
   "metadata": {},
   "outputs": [],
   "source": [
    "import pandas as pd\n",
    "import glob\n",
    "import os\n",
    "import logging\n",
    "\n",
    "import gender_guesser.detector as gender\n",
    "\n",
    "import ipywidgets as widgets\n",
    "import altair as alt\n",
    "\n",
    "from utils.text_data_transformation import url_to_domain, word_to_num, delete_special_characters, transform_raw_data\n",
    "from utils.dialog_manipulation import add_subdialogs_ids, add_reply_time, detect_data_language, \\\n",
    "    get_user_step_msgs, if_name_in_dict"
   ]
  },
  {
   "cell_type": "code",
   "execution_count": 2,
   "metadata": {},
   "outputs": [],
   "source": [
    "# Set up\n",

    "DIALOGS_FOLDER = \"data/new_type_dialogs/\"\n",
    "RESULT_FOLDER = \"data/stats/\"\n",
    "PREPARED_FOLDER = 'data/new_type_dialogs_prepared/'\n",
    "META_FOLDER = 'data/new_type_dialogs_meta2'\n",
    "GENERAL_DIALOGS_DF = 'data/processed_dialog_files2/general_df.csv'"
   ]
  },
  {
   "cell_type": "code",
   "execution_count": null,
   "metadata": {},
   "outputs": [],
   "source": [
    "# Initialisation\n",
    "# Note: Your dialogs must be under data/prepared_dialogs/\n",
    "\n",
    "dialogs = glob.glob(PREPARED_FOLDER + '/*.csv')\n",
    "AVERAGE_STATS = {'word_count', 'msg_len', 'reply_time'}\n",
    "user_stats = {}\n",
    "basic_data = {'msg_count': 1,\n",
    "              'word_count': [],\n",
    "              'msg_len': [],\n",
    "              'reply_time': []}\n",
    "user_data = {\n",
    "    'basic_data': copy.deepcopy(basic_data),\n",
    "    'hours_data': {i: copy.deepcopy(basic_data) for i in range(24)},\n",
    "    'weeks_data': {day: {'basic_data': copy.deepcopy(basic_data),\n",
    "                         'hours_data': {i: copy.deepcopy(basic_data) for i in range(24)}\n",
    "                         }\n",
    "                   for day in ['Monday', 'Tuesday', 'Wednesday', 'Thursday',\n",
    "                               'Friday', 'Saturday', 'Sunday']\n",
    "                   }\n",
    "}\n",
    "\n",
    "\n",
    "def prepare_messages(data: pd.DataFrame) -> None:\n",
    "    \"\"\"\n",
    "    Prepares each message in \"message\" column.\n",
    "    \"\"\"\n",
    "    for index, row in data.iterrows():\n",
    "        out_msg = []\n",
    "        for word in str(row['message']).split():\n",
    "            if url_to_domain(word, check=True):\n",
    "                out_msg.append(url_to_domain(word))\n",
    "            else:\n",
    "                word = word_to_num(word)\n",
    "                out_msg.append(delete_special_characters(word))\n",
    "        data.loc[index, 'message'] = re.sub(r'\\s\\s+', ' ', ' '.join(out_msg))\n",
    "\n",
    "\n",
    "def prepare_dialog(dialog_file: str, prep_folder: str) -> None:\n",
    "    \"\"\"\n",
    "    Reads raw csv data and creates prepared copy\n",
    "    \"\"\"\n",
    "    file_name = dialog_file.split('/')[-1]\n",
    "    data = pd.read_csv(dialog_file)\n",
    "\n",
    "    prepare_messages(data)\n",
    "    add_reply_time(data)\n",
    "    add_subdialogs_ids(data)\n",
    "\n",
    "    data.to_csv(f'{prep_folder}{file_name}')\n",
    "\n",
    "\n",
    "def get_stats(row: pd.DataFrame) -> dict:\n",
    "    \"\"\"\n",
    "    Function to gather the information per row\n",
    "    @ DataFrame.\n",
    "    \"\"\"\n",
    "    stats = copy.deepcopy(basic_data)\n",
    "    stats['msg_count'] = 1\n",
    "    stats['word_count'].append(len(str(row['message']).split()))\n",
    "    stats['msg_len'].append(len(str(row['message'])))\n",
    "    if reply_time := row['reply_btw_sender_time']:\n",
    "        stats['reply_time'].append(reply_time)\n",
    "    return stats\n",

    "\n",
    "DATAFRAME_PATH = \"data/processed_dialog_files/general_dialogs_sentiment.csv\"\n",
    "USER_DATAFRAME_PATH = 'data/processed_dialog_files/user_stats.csv'\n",
    "pd.set_option('display.max_rows', None)"
   ]
  },
  {
   "cell_type": "code",
   "execution_count": null,
   "metadata": {},
   "outputs": [],
   "source": [
    "# Checking the path\n",
    "\n",
    "if not os.path.isfile(DATAFRAME_PATH):\n",
    "    logging.error(f'No Dataframe associated with {DATAFRAME_PATH}')\n",
    "else:\n",
    "    df = pd.read_csv(DATAFRAME_PATH)\n",
    "    df = df.rename(columns={'dialog ID': 'dialog_id'})"
   ]
  },
  {
   "cell_type": "code",
   "execution_count": null,
   "metadata": {},
   "outputs": [],
   "source": [
    "# Initialisation\n",
    "\n",
    "def add_sleep_data(data: pd.DataFrame, user_df_path, save=True):\n",
    "    \"\"\"\n",
    "    Add sleep data for each message in a dialog,\n",
    "    and add it in a new column for a particular user,\n",
    "    return new dataframe\n",
    "    \"\"\"\n",
    "    gdf = pd.DataFrame(add_sleep_bounds(data))\n",
    "    if save:\n",
    "        gdf.to_csv(user_df_path, index=False)\n",
    "\n",
    "def add_stats_data(data: pd.DataFrame, df_path, save=True):\n",
    "    \"\"\"\n",
    "    Add mean data for each subdialogs in a dialog,\n",
    "    and add it in a new column for a particular stats,\n",
    "    return new dataframe\n",
    "    \"\"\"\n",
    "    adf = add_subdialogs_stats(data)\n",
    "    data['words_num_mean'] = adf['words_num_mean']\n",
    "    data['reply_time_mean'] = adf['reply_time_mean']\n",
    "    data['message_number_mean'] = adf['message_number_mean']\n",
    "    if save:\n",
    "        data.to_csv(df_path, index=False)"
   ]
  },
  {
   "cell_type": "code",
   "execution_count": null,
   "metadata": {},
   "outputs": [],
   "source": [
    "# Aggregating data\n",
    "add_stats_data(df, DATAFRAME_PATH)"
   ]
  },
  {
   "cell_type": "code",
   "execution_count": null,
   "metadata": {
    "scrolled": true
   },
   "outputs": [],
   "source": [
    "# User stats\n",
    "add_sleep_data(df, USER_DATAFRAME_PATH)"
   ]

  },
  {
   "cell_type": "code",
   "execution_count": 3,
   "outputs": [],
   "source": [
    "def get_user_gender(username, name_dicts):\n",
    "    user_gender = ''\n",
    "\n",
    "    first_name = username.strip().split()[0].lower()\n",
    "    print('first_name', first_name)\n",
    "\n",
    "    new_df = pd.DataFrame({'message': [first_name]})\n",
    "    word_lang = detect_data_language(new_df, 'one_word')\n",
    "\n",
    "    for num_df, names_df in enumerate(name_dicts[word_lang]):\n",
    "        if not names_df.loc[names_df['name'].str.lower() == first_name].empty or\\\n",
    "                if_name_in_dict(first_name, names_df):\n",
    "            if num_df == 0:\n",
    "                user_gender = 'female'\n",
    "            else:\n",
    "                user_gender = 'male'\n",
    "            print(f\"{first_name} gender is {user_gender}\\n\")\n",
    "            break\n",
    "\n",
    "    if user_gender == '' and word_lang == 'en':\n",
    "        gender_detector = gender.Detector()\n",
    "        user_gender = gender_detector.get_gender(first_name.capitalize())\n",
    "        if user_gender == 'unknown':\n",
    "            user_gender = ''\n",
    "        print(f\"{first_name} gender is {user_gender}\\n\")\n",
    "\n",
    "    return user_gender\n"
   ],
   "metadata": {
    "collapsed": false,
    "pycharm": {
     "name": "#%%\n"
    }
   }
  },
  {
   "cell_type": "code",
   "execution_count": 4,
   "outputs": [],
   "source": [
    "import pymorphy2\n",
    "from natasha import (\n",
    "    Segmenter,\n",
    "    NewsEmbedding,\n",
    "    NewsMorphTagger,\n",
    "    Doc\n",
    ")\n",
    "\n",
    "morph = pymorphy2.MorphAnalyzer()\n",
    "\n",
    "\n",
    "def get_gender_by_verb(user_id, dialog_id, user_general_df):\n",
    "    lang = detect_data_language('', 'df_loc', GENERAL_DIALOGS_DF, dialog_id, user_id)\n",
    "\n",
    "    user_gender = ''\n",
    "    if lang == 'en':\n",
    "        return user_gender\n",
    "\n",
    "    female_gender, male_gender = 0, 0\n",
    "    dialog_step_msgs = get_user_step_msgs(GENERAL_DIALOGS_DF, dialog_id, user_id, 100, user_general_df)\n",
    "\n",
    "    for msg in dialog_step_msgs:\n",
    "        msg = transform_raw_data(msg, lang, '', '', 'without_lemma')\n",
    "        for word in msg.split():\n",
    "            word = word.strip()\n",
    "            print(word)\n",
    "            if len(word) <= 2:\n",
    "                continue\n",
    "\n",
    "            if lang == 'ua':\n",
    "                if word[-2:] == 'ла' and morph.tag(word)[0].POS in ('VERB', 'GRND'):\n",
    "                    print('ukr word', word)\n",
    "                    female_gender += 1\n",
    "\n",
    "                elif word[-1] in ('в','к','с')  and morph.tag(word)[0].POS in ('VERB', 'GRND'):\n",
    "                    print('ukr word', word)\n",
    "                    male_gender += 1\n",
    "\n",
    "            elif lang == 'ru':\n",
    "                segmenter = Segmenter()\n",
    "                doc = Doc(word)\n",
    "                emb = NewsEmbedding()\n",
    "                morph_tagger = NewsMorphTagger(emb)\n",
    "\n",
    "                doc.segment(segmenter)\n",
    "                doc.tag_morph(morph_tagger)\n",
    "\n",
    "                if word[-2:] == 'ла' and doc.tokens[0].pos in ('VERB', 'AUX'):\n",
    "                    print('ru word', word)\n",
    "                    female_gender += 1\n",
    "\n",
    "\n",
    "                elif word[-1] in ('л','к','с') and doc.tokens[0].pos in ('VERB', 'AUX'):\n",
    "                    print('ru word', word)\n",
    "                    male_gender += 1\n",
    "\n",
    "    if male_gender > female_gender:\n",
    "        user_gender = 'male'\n",
    "\n",
    "    elif male_gender < female_gender:\n",
    "        user_gender = 'female'\n",
    "\n",
    "    else:\n",
    "        user_gender = ''\n",
    "\n",
    "    return user_gender"
   ],
   "metadata": {
    "collapsed": false,
    "pycharm": {
     "name": "#%%\n"
    }
   }
  },
  {
   "cell_type": "code",
   "execution_count": null,
   "outputs": [],
   "source": [
    "!pip install -U pymorphy2-dicts-uk\n",
    "!pip install -U pymorphy2-dicts-ru"
   ],
   "metadata": {
    "collapsed": false,
    "pycharm": {
     "name": "#%%\n"
    }
   }
  },
  {
   "cell_type": "code",
   "execution_count": 9,
   "outputs": [
    {
     "name": "stderr",
     "output_type": "stream",
     "text": [
      "d:\\python\\envs\\venv_telegram_analysis\\lib\\site-packages\\ipykernel_launcher.py:46: FutureWarning: set_value is deprecated and will be removed in a future release. Please use .at[] or .iat[] accessors instead\n",
      "d:\\python\\envs\\venv_telegram_analysis\\lib\\site-packages\\ipykernel_launcher.py:55: FutureWarning: set_value is deprecated and will be removed in a future release. Please use .at[] or .iat[] accessors instead\n",
      "d:\\python\\envs\\venv_telegram_analysis\\lib\\site-packages\\ipykernel_launcher.py:65: FutureWarning: set_value is deprecated and will be removed in a future release. Please use .at[] or .iat[] accessors instead\n",
      "d:\\python\\envs\\venv_telegram_analysis\\lib\\site-packages\\ipykernel_launcher.py:50: FutureWarning: set_value is deprecated and will be removed in a future release. Please use .at[] or .iat[] accessors instead\n"
     ]
    },
    {
     "name": "stdout",
     "output_type": "stream",
     "text": [
      "first_name назар\n",
      "назар gender is male\n",
      "\n",
      "first_name діма\n",
      "діма gender is male\n",
      "\n",
      "first_name solomiya\n",
      "solomiya gender is female\n",
      "\n"
     ]
    },
    {
     "data": {
      "text/plain": "     user_id        first_name     last_name            username  gender  \\\n0  347963763  Назар Поночевний                  NazarPonochevnyi    male   \n1  138918380              Діма  Лопушанський  dmytrolopushanskyy    male   \n2  386414449          Solomiya         Lenio              sol4ik  female   \n\n    weekday sleep_bounds  my_dialog_active_minutes_in_date_range  \\\n0    Monday  23:30-07:30                                     482   \n1    Monday  22:00-07:30                                       0   \n2  Saturday  22:00-07:30                                       0   \n\n   friend_dialog_active_minutes_in_date_range  \n0                                         450  \n1                                           0  \n2                                           0  ",
      "text/html": "<div>\n<style scoped>\n    .dataframe tbody tr th:only-of-type {\n        vertical-align: middle;\n    }\n\n    .dataframe tbody tr th {\n        vertical-align: top;\n    }\n\n    .dataframe thead th {\n        text-align: right;\n    }\n</style>\n<table border=\"1\" class=\"dataframe\">\n  <thead>\n    <tr style=\"text-align: right;\">\n      <th></th>\n      <th>user_id</th>\n      <th>first_name</th>\n      <th>last_name</th>\n      <th>username</th>\n      <th>gender</th>\n      <th>weekday</th>\n      <th>sleep_bounds</th>\n      <th>my_dialog_active_minutes_in_date_range</th>\n      <th>friend_dialog_active_minutes_in_date_range</th>\n    </tr>\n  </thead>\n  <tbody>\n    <tr>\n      <th>0</th>\n      <td>347963763</td>\n      <td>Назар Поночевний</td>\n      <td></td>\n      <td>NazarPonochevnyi</td>\n      <td>male</td>\n      <td>Monday</td>\n      <td>23:30-07:30</td>\n      <td>482</td>\n      <td>450</td>\n    </tr>\n    <tr>\n      <th>1</th>\n      <td>138918380</td>\n      <td>Діма</td>\n      <td>Лопушанський</td>\n      <td>dmytrolopushanskyy</td>\n      <td>male</td>\n      <td>Monday</td>\n      <td>22:00-07:30</td>\n      <td>0</td>\n      <td>0</td>\n    </tr>\n    <tr>\n      <th>2</th>\n      <td>386414449</td>\n      <td>Solomiya</td>\n      <td>Lenio</td>\n      <td>sol4ik</td>\n      <td>female</td>\n      <td>Saturday</td>\n      <td>22:00-07:30</td>\n      <td>0</td>\n      <td>0</td>\n    </tr>\n  </tbody>\n</table>\n</div>"
     },
     "execution_count": 9,
     "metadata": {},
     "output_type": "execute_result"
    }
   ],
   "source": [
    "female_ukr_names = pd.read_csv(os.path.join('dicts', 'female_ukrainian_names.csv'))\n",
    "male_ukr_names = pd.read_csv(os.path.join('dicts', 'male_ukrainian_names.csv'))\n",
    "female_ru_names = pd.read_csv(os.path.join('dicts', 'female_russian_names.csv'))\n",
    "male_ru_names = pd.read_csv(os.path.join('dicts', 'male_russian_names.csv'))\n",
    "\n",
    "female_ru_ukr_trans_names = pd.read_csv(os.path.join('dicts', 'female_ru_ukr_trans_names.csv'))\n",
    "male_ru_ukr_trans_names = pd.read_csv(os.path.join('dicts', 'male_ru_ukr_trans_names.csv'))\n",
    "\n",
    "members_statistics_df = pd.read_csv('data/members_statistics.csv')\n",
    "# for filename in ['620593584.csv']:\n",
    "# for filename in os.listdir(PREPARED_FOLDER):\n",
    "members_statistics_df['first_name'], members_statistics_df['last_name'],\\\n",
    "members_statistics_df['username'], members_statistics_df['gender'] = '', '', '', ''\n",
    "for index, row in members_statistics_df.iterrows():\n",
    "    user_id = row.user_id\n",
    "    # print(\"\\n\\n\\nfilename\", filename)\n",
    "    # if not filename[1].isdigit():\n",
    "    #     continue\n",
    "\n",
    "    general_dialogs_df = pd.read_csv(GENERAL_DIALOGS_DF)\n",
    "    user_general_df = general_dialogs_df.loc[general_dialogs_df['from_id'] == user_id]\n",
    "    # dialog_data = pd.read_csv(os.path.join(PREPARED_FOLDER, filename))\n",
    "    # if 'channel' in str(dialog_data['to_id'][0]):\n",
    "    #     continue\n",
    "\n",
    "    dialog_id = user_general_df['dialog ID'][user_general_df.index[0]]\n",
    "    dialog_id = str(dialog_id)\n",
    "    # dialog_id = filename[:-4]\n",
    "    try:\n",
    "        with open(os.path.join(META_FOLDER, dialog_id + '.json'), 'r', encoding='utf-8') as f:\n",
    "            meta_dialog_data = json.load(f)\n",
    "    except FileNotFoundError:\n",
    "        print(f'{dialog_id} not found in {META_FOLDER}')\n",
    "        continue\n",
    "\n",
    "    name_dicts = {\n",
    "        \"ru\": [female_ru_names, male_ru_names],\n",
    "        \"en\": [female_ru_ukr_trans_names, male_ru_ukr_trans_names],\n",
    "        \"ua\": [female_ukr_names, male_ukr_names]\n",
    "    }\n",
    "\n",
    "    user_gender = ''\n",
    "    for user in meta_dialog_data['users']:\n",
    "        if user['user_id'] == user_id:\n",
    "            if user['first_name'] is not None:\n",
    "                members_statistics_df.set_value(index, 'first_name', user['first_name'])\n",
    "                user_gender = get_user_gender(user['first_name'], name_dicts)\n",
    "\n",
    "            if user['last_name'] is not None:\n",
    "                members_statistics_df.set_value(index, 'last_name', user['last_name'])\n",
    "                if user_gender == '':\n",
    "                    user_gender = get_user_gender(user['last_name'], name_dicts)\n",
    "\n",
    "            if user['username'] is not None:\n",
    "                members_statistics_df.set_value(index, 'username', user['username'])\n",
    "                if user_gender == '':\n",
    "                    if user['username'][-3:] == 'bot':\n",
    "                        print(f'{user[\"username\"]} is bot and we do not analyse it to get gender')\n",
    "                        continue\n",
    "\n",
    "                    user_gender = get_gender_by_verb(user['user_id'], int(dialog_id), user_general_df)\n",
    "                    print(f'Final gender is {user_gender}')\n",
    "\n",
    "            if user_gender != '':\n",
    "                members_statistics_df.set_value(index, 'gender', user_gender)\n",
    "\n",
    "            break\n",
    "\n",
    "        # if user['first_name'] is not None:\n",
    "        #     user_gender = get_user_gender(user['first_name'], name_dicts)\n",
    "        #\n",
    "        # if user['last_name'] is not None and user_gender == '':\n",
    "        #     user_gender = get_user_gender(user['last_name'], name_dicts)\n",
    "        #\n",
    "        # if user_gender == '':\n",
    "        #     if user['username'] is not None:\n",
    "        #         if user['username'][-3:] == 'bot':\n",
    "        #             print(f'{user[\"username\"]} is bot and we do not analyse it to get gender')\n",
    "        #             continue\n",
    "        #\n",
    "        #     user_gender = get_gender_by_verb(user['user_id'], int(dialog_id))\n",
    "        #     print(f'Final gender is {user_gender}')\n",
    "        #\n",
    "        # if user_gender == '':\n",
    "        #     user_gender = get_gender_by_verb(user['user_id'], int(dialog_id))\n",
    "        #     print(f'Final gender is {user_gender}')\n",
    "\n",
    "cols = ['user_id', 'first_name', \"last_name\", \"username\", \"gender\"]\n",
    "\n",
    "rest_cols = [col for col in members_statistics_df.columns if col not in cols]\n",
    "\n",
    "cols = cols + rest_cols\n",
    "members_statistics_df = members_statistics_df[cols]\n",
    "members_statistics_df"
   ],
   "metadata": {
    "collapsed": false,
    "pycharm": {
     "name": "#%%\n"
    }
   }
  },
  {
   "cell_type": "code",
   "execution_count": null,
   "outputs": [],
   "source": [
    "import pymorphy2\n",
    "morph = pymorphy2.MorphAnalyzer()\n",
    "\n",
    "ukr_words = ['зробив', 'робив', 'бачив',\n",
    "             'сказав', 'розклав',\n",
    "             'був', 'чув',\n",
    "             'приніс', 'доніс',\n",
    "             'з\\'їв', 'всунув', 'розм\\'як']\n",
    "\n",
    "ru_words = ['сделал', 'делал',\n",
    "            'видел',\n",
    "             'сказал', 'расклал',\n",
    "             'был', 'слышал',\n",
    "             'принес', 'донес',\n",
    "             'съел', 'всунул', 'размяк']\n",
    "\n",
    "for word in ukr_words:\n",
    "    print('\\n' + word)\n",
    "    print(morph.tag(word)[0].POS)\n",
    "    print(morph.tag(word)[0].gender)\n"
   ],
   "metadata": {
    "collapsed": false,
    "pycharm": {
     "name": "#%%\n"
    }
   }
  },
  {
   "cell_type": "code",
   "execution_count": null,
   "outputs": [],
   "source": [],
   "metadata": {
    "collapsed": false,
    "pycharm": {
     "name": "#%%\n"
    }
   }
  },
  {
   "cell_type": "code",
   "execution_count": null,
   "outputs": [],
   "source": [
    "female_ukr_names = pd.read_csv(os.path.join('dicts', 'female_ukrainian_names.csv'))\n",
    "male_ukr_names = pd.read_csv(os.path.join('dicts', 'male_ukrainian_names.csv'))\n",
    "female_ru_names = pd.read_csv(os.path.join('dicts', 'female_russian_names.csv'))\n",
    "male_ru_names = pd.read_csv(os.path.join('dicts', 'male_russian_names.csv'))\n",
    "\n",
    "female_ru_ukr_trans_names = pd.read_csv(os.path.join('dicts', 'female_ru_ukr_trans_names.csv'))\n",
    "male_ru_ukr_trans_names = pd.read_csv(os.path.join('dicts', 'male_ru_ukr_trans_names.csv'))\n",
    "\n",
    "# for filename in ['620593584.csv']:\n",
    "for filename in os.listdir(PREPARED_FOLDER):\n",
    "    print(\"\\n\\n\\nfilename\", filename)\n",
    "    if not filename[1].isdigit():\n",
    "        continue\n",
    "\n",
    "    dialog_data = pd.read_csv(os.path.join(PREPARED_FOLDER, filename))\n",
    "    if 'channel' in str(dialog_data['to_id'][0]):\n",
    "        continue\n",
    "\n",
    "    dialog_id = filename[:-4]\n",
    "    try:\n",
    "        with open(os.path.join(META_FOLDER, dialog_id + '.json'), 'r', encoding='utf-8') as f:\n",
    "            meta_dialog_data = json.load(f)\n",
    "    except FileNotFoundError:\n",
    "        print(f'{dialog_id} not found in {META_FOLDER}')\n",
    "        continue\n",
    "\n",
    "    name_dicts = {\n",
    "        \"ru\": [female_ru_names, male_ru_names],\n",
    "        \"en\": [female_ru_ukr_trans_names, male_ru_ukr_trans_names],\n",
    "        \"ua\": [female_ukr_names, male_ukr_names]\n",
    "    }\n",
    "\n",
    "    user_gender = ''\n",
    "    for user in meta_dialog_data['users']:\n",
    "        if user['first_name'] is not None:\n",
    "            user_gender = get_user_gender(user['first_name'], name_dicts)\n",
    "\n",
    "        if user['last_name'] is not None and user_gender == '':\n",
    "            user_gender = get_user_gender(user['last_name'], name_dicts)\n",
    "\n",
    "        if user_gender == '':\n",
    "            if user['username'] is not None:\n",
    "                if user['username'][-3:] == 'bot':\n",
    "                    print(f'{user[\"username\"]} is bot and we do not analyse it to get gender')\n",
    "                    continue\n",
    "\n",
    "            user_gender = get_gender_by_verb(user['user_id'], int(dialog_id))\n",
    "            print(f'Final gender is {user_gender}')\n",
    "        #\n",
    "        # if user_gender == '':\n",
    "        #     user_gender = get_gender_by_verb(user['user_id'], int(dialog_id))\n",
    "        #     print(f'Final gender is {user_gender}')\n"
   ],
   "metadata": {
    "collapsed": false,
    "pycharm": {
     "name": "#%%\n"
    }
   }
  },
  {
   "cell_type": "code",
   "execution_count": null,
   "outputs": [],
   "source": [
    "import pymorphy2\n",
    "morph = pymorphy2.MorphAnalyzer()\n",
    "\n",
    "ukr_words = ['зробив', 'робив', 'бачив',\n",
    "             'сказав', 'розклав',\n",
    "             'був', 'чув',\n",
    "             'приніс', 'доніс',\n",
    "             'з\\'їв', 'всунув', 'розм\\'як']\n",
    "\n",
    "ru_words = ['сделал', 'делал',\n",
    "            'видел',\n",
    "             'сказал', 'расклал',\n",
    "             'был', 'слышал',\n",
    "             'принес', 'донес',\n",
    "             'съел', 'всунул', 'размяк']\n",
    "\n",
    "for word in ukr_words:\n",
    "    print('\\n' + word)\n",
    "    print(morph.tag(word)[0].POS)\n",
    "    print(morph.tag(word)[0].gender)\n"
   ],
   "metadata": {
    "collapsed": false,
    "pycharm": {
     "name": "#%%\n"
    }
   }
  },
  {
   "cell_type": "code",
   "execution_count": null,
   "outputs": [],
   "source": [],
   "metadata": {
    "collapsed": false,
    "pycharm": {
     "name": "#%%\n"
    }
   }

  }
 ],
 "metadata": {
  "kernelspec": {
   "display_name": "Python 3",
   "language": "python",
   "name": "python3"
  },
  "language_info": {
   "codemirror_mode": {
    "name": "ipython",
    "version": 3
   },
   "file_extension": ".py",
   "mimetype": "text/x-python",
   "name": "python",
   "nbconvert_exporter": "python",
   "pygments_lexer": "ipython3",
   "version": "3.7.0"
  }
 },
 "nbformat": 4,
 "nbformat_minor": 4
}
