{
 "cells": [
  {
   "cell_type": "code",
   "execution_count": null,
   "metadata": {},
   "outputs": [],
   "source": [
    "import pandas as pd\n",
    "import glob\n",
    "import os\n",
    "import logging\n",
    "\n",
    "from utils.dialog_manipulation import add_typing_speed, add_sleep_bounds, add_subdialogs_stats"
   ]
  },
  {
   "cell_type": "code",
   "execution_count": null,
   "metadata": {},
   "outputs": [],
   "source": [
    "# Set up\n",
    "\n",
    "DATAFRAME_PATH = \"data/processed_dialog_files/general_dialogs_sentiment.csv\"\n",
    "USER_DATAFRAME_PATH = 'data/processed_dialog_files/user_stats.csv'\n",
    "pd.set_option('display.max_rows', None)"
   ]
  },
  {
   "cell_type": "code",
   "execution_count": null,
   "metadata": {},
   "outputs": [],
   "source": [
    "# Checking the path\n",
    "\n",
    "if not os.path.isfile(DATAFRAME_PATH):\n",
    "    logging.error(f'No Dataframe associated with {DATAFRAME_PATH}')\n",
    "else:\n",
    "    df = pd.read_csv(DATAFRAME_PATH)\n",
    "    df = df.rename(columns={'dialog ID': 'dialog_id'})"
   ]
  },
  {
   "cell_type": "code",
   "execution_count": null,
   "metadata": {},
   "outputs": [],
   "source": [
    "# Initialisation\n",
    "\n",
    "def add_sleep_data(data: pd.DataFrame, user_df_path, save=True):\n",
    "    \"\"\"\n",
    "    Add sleep data for each message in a dialog,\n",
    "    and add it in a new column for a particular user,\n",
    "    return new dataframe\n",
    "    \"\"\"\n",
    "    gdf = pd.DataFrame(add_sleep_bounds(data))\n",
    "    if save:\n",
    "        gdf.to_csv(user_df_path, index=False)\n",
    "\n",
    "def add_stats_data(data: pd.DataFrame, df_path, save=True):\n",
    "    \"\"\"\n",
    "    Add mean data for each subdialogs in a dialog,\n",
    "    and add it in a new column for a particular stats,\n",
    "    return new dataframe\n",
    "    \"\"\"\n",
    "    adf = add_subdialogs_stats(data)\n",
    "    data['words_num_mean'] = adf['words_num_mean']\n",
    "    data['reply_time_mean'] = adf['reply_time_mean']\n",
    "    data['message_number_mean'] = adf['message_number_mean']\n",
    "    if save:\n",
    "        data.to_csv(df_path, index=False)"
   ]
  },
  {
   "cell_type": "code",
   "execution_count": null,
   "metadata": {},
   "outputs": [],
   "source": [
    "# Aggregating data\n",
    "add_stats_data(df, DATAFRAME_PATH)"
   ]
  },
  {
   "cell_type": "code",
   "execution_count": null,
   "metadata": {
    "scrolled": true
   },
   "outputs": [],
   "source": [
    "# User stats\n",
    "add_sleep_data(df, USER_DATAFRAME_PATH)"
   ]
  }
 ],
 "metadata": {
  "kernelspec": {
   "display_name": "Python 3",
   "language": "python",
   "name": "python3"
  },
  "language_info": {
   "codemirror_mode": {
    "name": "ipython",
    "version": 3
   },
   "file_extension": ".py",
   "mimetype": "text/x-python",
   "name": "python",
   "nbconvert_exporter": "python",
   "pygments_lexer": "ipython3",
   "version": "3.7.0"
  }
 },
 "nbformat": 4,
 "nbformat_minor": 4
}
