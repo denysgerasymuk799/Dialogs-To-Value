{
 "cells": [
  {
   "cell_type": "code",
   "execution_count": 1,
   "metadata": {},
   "outputs": [],
   "source": [
    "import pandas as pd\n",
    "import json\n",
    "import copy\n",
    "import glob\n",
    "import math\n",
    "import re\n",
    "import os\n",
    "\n",
    "import ipywidgets as widgets\n",
    "import altair as alt\n",
    "\n",
    "\n",
    "from utils.text_data_transformation import url_to_domain, word_to_num, delete_special_characters\n",
    "from utils.dialog_manipulation import add_subdialogs_ids, add_reply_time"
   ]
  },
  {
   "cell_type": "code",
   "execution_count": 4,
   "metadata": {},
   "outputs": [],
   "source": [
    "pd.set_option('display.max_rows', None)"
   ]
  },
  {
   "cell_type": "code",
   "execution_count": 5,
   "metadata": {},
   "outputs": [],
   "source": [
    "DIALOGS_FOLDER = \"data/dialogs/\"\n",
    "RESULT_FOLDER = \"result/\"\n",
    "PREPARED_FOLDER = 'data/prepared_dialogs/'"
   ]
  },
  {
   "cell_type": "code",
   "execution_count": 6,
   "metadata": {},
   "outputs": [],
   "source": [
    "if os.path.isdir(DIALOGS_FOLDER):\n",
    "    if not os.path.isdir(PREPARED_FOLDER):\n",
    "        os.mkdir(PREPARED_FOLDER)\n",
    "        \n",
    "    if not os.path.isdir(RESULT_FOLDER):\n",
    "        os.mkdir(RESULT_FOLDER)"
   ]
  },
  {
   "cell_type": "code",
   "execution_count": 7,
   "metadata": {},
   "outputs": [],
   "source": [
    "def prepare_messages(data):\n",
    "    \"\"\"\n",
    "    Makes preparation for the given message.\n",
    "    :param data: DataFrame\n",
    "    :return: None\n",
    "    \"\"\"\n",
    "    for i in data.index:\n",
    "        out_msg = []\n",
    "        for word in str(data.loc[i, 'message']).split():\n",
    "            if url_to_domain(word, check=True):\n",
    "                out_msg.append(url_to_domain(word))\n",
    "            else:\n",
    "                word = word_to_num(word)\n",
    "                out_msg.append(delete_special_characters(word))\n",
    "        data.loc[i, 'message'] = re.sub(r'\\s\\s+', ' ', ' '.join(out_msg))\n",
    "\n",
    "\n",
    "\n",
    "def prepare_dialog(dialog_file: str, prep_folder: str) -> None:\n",
    "    \"\"\"\n",
    "    Reads raw csv data and creates prepared copy\n",
    "    \"\"\"\n",
    "    file_name = dialog_file.split('/')[-1]\n",
    "    data = pd.read_csv(dialog_file)\n",
    "    \n",
    "    prepare_messages(data)\n",
    "\n",
    "    add_reply_time(data)\n",
    "    add_subdialogs_ids(data)\n",
    "    \n",
    "    data.to_csv(f'{prep_folder}{file_name}')"
   ]
  },
  {
   "cell_type": "code",
   "execution_count": 11,
   "metadata": {},
   "outputs": [
    {
     "name": "stdout",
     "output_type": "stream",
     "text": [
      "data/dialogs/845827105.csv\n",
      "data/dialogs/448703929.csv\n",
      "data/dialogs/-411310808.csv\n",
      "data/dialogs/349360409.csv\n",
      "data/dialogs/-377680544.csv\n",
      "data/dialogs/-1001044495541.csv\n"
     ]
    },
    {
     "ename": "KeyError",
     "evalue": "1000",
     "output_type": "error",
     "traceback": [
      "\u001b[0;31m---------------------------------------------------------------------------\u001b[0m",
      "\u001b[0;31mValueError\u001b[0m                                Traceback (most recent call last)",
      "\u001b[0;32m~/testenv/lib/python3.8/site-packages/pandas/core/indexes/range.py\u001b[0m in \u001b[0;36mget_loc\u001b[0;34m(self, key, method, tolerance)\u001b[0m\n\u001b[1;32m    350\u001b[0m                 \u001b[0;32mtry\u001b[0m\u001b[0;34m:\u001b[0m\u001b[0;34m\u001b[0m\u001b[0;34m\u001b[0m\u001b[0m\n\u001b[0;32m--> 351\u001b[0;31m                     \u001b[0;32mreturn\u001b[0m \u001b[0mself\u001b[0m\u001b[0;34m.\u001b[0m\u001b[0m_range\u001b[0m\u001b[0;34m.\u001b[0m\u001b[0mindex\u001b[0m\u001b[0;34m(\u001b[0m\u001b[0mnew_key\u001b[0m\u001b[0;34m)\u001b[0m\u001b[0;34m\u001b[0m\u001b[0;34m\u001b[0m\u001b[0m\n\u001b[0m\u001b[1;32m    352\u001b[0m                 \u001b[0;32mexcept\u001b[0m \u001b[0mValueError\u001b[0m \u001b[0;32mas\u001b[0m \u001b[0merr\u001b[0m\u001b[0;34m:\u001b[0m\u001b[0;34m\u001b[0m\u001b[0;34m\u001b[0m\u001b[0m\n",
      "\u001b[0;31mValueError\u001b[0m: 1000 is not in range",
      "\nThe above exception was the direct cause of the following exception:\n",
      "\u001b[0;31mKeyError\u001b[0m                                  Traceback (most recent call last)",
      "\u001b[0;32m<ipython-input-11-7dac262881e9>\u001b[0m in \u001b[0;36m<module>\u001b[0;34m\u001b[0m\n\u001b[1;32m      3\u001b[0m \u001b[0;32mfor\u001b[0m \u001b[0mdialog\u001b[0m \u001b[0;32min\u001b[0m \u001b[0mglob\u001b[0m\u001b[0;34m.\u001b[0m\u001b[0mglob\u001b[0m\u001b[0;34m(\u001b[0m\u001b[0mDIALOGS_FOLDER\u001b[0m\u001b[0;34m+\u001b[0m\u001b[0;34m'/*.csv'\u001b[0m\u001b[0;34m)\u001b[0m\u001b[0;34m:\u001b[0m\u001b[0;34m\u001b[0m\u001b[0;34m\u001b[0m\u001b[0m\n\u001b[1;32m      4\u001b[0m     \u001b[0mprint\u001b[0m\u001b[0;34m(\u001b[0m\u001b[0mdialog\u001b[0m\u001b[0;34m)\u001b[0m\u001b[0;34m\u001b[0m\u001b[0;34m\u001b[0m\u001b[0m\n\u001b[0;32m----> 5\u001b[0;31m     \u001b[0mprepare_dialog\u001b[0m\u001b[0;34m(\u001b[0m\u001b[0mdialog\u001b[0m\u001b[0;34m,\u001b[0m \u001b[0mPREPARED_FOLDER\u001b[0m\u001b[0;34m)\u001b[0m\u001b[0;34m\u001b[0m\u001b[0;34m\u001b[0m\u001b[0m\n\u001b[0m",
      "\u001b[0;32m<ipython-input-7-61c88eaad576>\u001b[0m in \u001b[0;36mprepare_dialog\u001b[0;34m(dialog_file, prep_folder)\u001b[0m\n\u001b[1;32m     26\u001b[0m     \u001b[0mprepare_messages\u001b[0m\u001b[0;34m(\u001b[0m\u001b[0mdata\u001b[0m\u001b[0;34m)\u001b[0m\u001b[0;34m\u001b[0m\u001b[0;34m\u001b[0m\u001b[0m\n\u001b[1;32m     27\u001b[0m \u001b[0;34m\u001b[0m\u001b[0m\n\u001b[0;32m---> 28\u001b[0;31m     \u001b[0madd_reply_time\u001b[0m\u001b[0;34m(\u001b[0m\u001b[0mdata\u001b[0m\u001b[0;34m)\u001b[0m\u001b[0;34m\u001b[0m\u001b[0;34m\u001b[0m\u001b[0m\n\u001b[0m\u001b[1;32m     29\u001b[0m     \u001b[0madd_subdialogs_ids\u001b[0m\u001b[0;34m(\u001b[0m\u001b[0mdata\u001b[0m\u001b[0;34m)\u001b[0m\u001b[0;34m\u001b[0m\u001b[0;34m\u001b[0m\u001b[0m\n\u001b[1;32m     30\u001b[0m \u001b[0;34m\u001b[0m\u001b[0m\n",
      "\u001b[0;32m~/main/project/python/telegram-dialogs-analysis/utils/dialog_manipulation.py\u001b[0m in \u001b[0;36madd_reply_time\u001b[0;34m(data)\u001b[0m\n\u001b[1;32m     33\u001b[0m     \u001b[0mmsg_counter\u001b[0m \u001b[0;34m=\u001b[0m \u001b[0;36m0\u001b[0m\u001b[0;34m\u001b[0m\u001b[0;34m\u001b[0m\u001b[0m\n\u001b[1;32m     34\u001b[0m     \u001b[0;32mwhile\u001b[0m \u001b[0mi\u001b[0m \u001b[0;34m>\u001b[0m \u001b[0;36m0\u001b[0m \u001b[0;32mand\u001b[0m \u001b[0mk\u001b[0m \u001b[0;34m>\u001b[0m \u001b[0;36m0\u001b[0m\u001b[0;34m:\u001b[0m\u001b[0;34m\u001b[0m\u001b[0;34m\u001b[0m\u001b[0m\n\u001b[0;32m---> 35\u001b[0;31m         \u001b[0msender\u001b[0m \u001b[0;34m=\u001b[0m \u001b[0mdata\u001b[0m\u001b[0;34m[\u001b[0m\u001b[0;34m'from_id'\u001b[0m\u001b[0;34m]\u001b[0m\u001b[0;34m[\u001b[0m\u001b[0mi\u001b[0m\u001b[0;34m]\u001b[0m\u001b[0;34m\u001b[0m\u001b[0;34m\u001b[0m\u001b[0m\n\u001b[0m\u001b[1;32m     36\u001b[0m         \u001b[0mj\u001b[0m \u001b[0;34m=\u001b[0m \u001b[0mi\u001b[0m\u001b[0;34m\u001b[0m\u001b[0;34m\u001b[0m\u001b[0m\n\u001b[1;32m     37\u001b[0m         \u001b[0;32mwhile\u001b[0m \u001b[0msender\u001b[0m \u001b[0;34m==\u001b[0m \u001b[0mdata\u001b[0m\u001b[0;34m[\u001b[0m\u001b[0;34m'from_id'\u001b[0m\u001b[0;34m]\u001b[0m\u001b[0;34m[\u001b[0m\u001b[0mj\u001b[0m\u001b[0;34m]\u001b[0m\u001b[0;34m:\u001b[0m\u001b[0;34m\u001b[0m\u001b[0;34m\u001b[0m\u001b[0m\n",
      "\u001b[0;32m~/testenv/lib/python3.8/site-packages/pandas/core/series.py\u001b[0m in \u001b[0;36m__getitem__\u001b[0;34m(self, key)\u001b[0m\n\u001b[1;32m    880\u001b[0m \u001b[0;34m\u001b[0m\u001b[0m\n\u001b[1;32m    881\u001b[0m         \u001b[0;32melif\u001b[0m \u001b[0mkey_is_scalar\u001b[0m\u001b[0;34m:\u001b[0m\u001b[0;34m\u001b[0m\u001b[0;34m\u001b[0m\u001b[0m\n\u001b[0;32m--> 882\u001b[0;31m             \u001b[0;32mreturn\u001b[0m \u001b[0mself\u001b[0m\u001b[0;34m.\u001b[0m\u001b[0m_get_value\u001b[0m\u001b[0;34m(\u001b[0m\u001b[0mkey\u001b[0m\u001b[0;34m)\u001b[0m\u001b[0;34m\u001b[0m\u001b[0;34m\u001b[0m\u001b[0m\n\u001b[0m\u001b[1;32m    883\u001b[0m \u001b[0;34m\u001b[0m\u001b[0m\n\u001b[1;32m    884\u001b[0m         if (\n",
      "\u001b[0;32m~/testenv/lib/python3.8/site-packages/pandas/core/series.py\u001b[0m in \u001b[0;36m_get_value\u001b[0;34m(self, label, takeable)\u001b[0m\n\u001b[1;32m    989\u001b[0m \u001b[0;34m\u001b[0m\u001b[0m\n\u001b[1;32m    990\u001b[0m         \u001b[0;31m# Similar to Index.get_value, but we do not fall back to positional\u001b[0m\u001b[0;34m\u001b[0m\u001b[0;34m\u001b[0m\u001b[0;34m\u001b[0m\u001b[0m\n\u001b[0;32m--> 991\u001b[0;31m         \u001b[0mloc\u001b[0m \u001b[0;34m=\u001b[0m \u001b[0mself\u001b[0m\u001b[0;34m.\u001b[0m\u001b[0mindex\u001b[0m\u001b[0;34m.\u001b[0m\u001b[0mget_loc\u001b[0m\u001b[0;34m(\u001b[0m\u001b[0mlabel\u001b[0m\u001b[0;34m)\u001b[0m\u001b[0;34m\u001b[0m\u001b[0;34m\u001b[0m\u001b[0m\n\u001b[0m\u001b[1;32m    992\u001b[0m         \u001b[0;32mreturn\u001b[0m \u001b[0mself\u001b[0m\u001b[0;34m.\u001b[0m\u001b[0mindex\u001b[0m\u001b[0;34m.\u001b[0m\u001b[0m_get_values_for_loc\u001b[0m\u001b[0;34m(\u001b[0m\u001b[0mself\u001b[0m\u001b[0;34m,\u001b[0m \u001b[0mloc\u001b[0m\u001b[0;34m,\u001b[0m \u001b[0mlabel\u001b[0m\u001b[0;34m)\u001b[0m\u001b[0;34m\u001b[0m\u001b[0;34m\u001b[0m\u001b[0m\n\u001b[1;32m    993\u001b[0m \u001b[0;34m\u001b[0m\u001b[0m\n",
      "\u001b[0;32m~/testenv/lib/python3.8/site-packages/pandas/core/indexes/range.py\u001b[0m in \u001b[0;36mget_loc\u001b[0;34m(self, key, method, tolerance)\u001b[0m\n\u001b[1;32m    351\u001b[0m                     \u001b[0;32mreturn\u001b[0m \u001b[0mself\u001b[0m\u001b[0;34m.\u001b[0m\u001b[0m_range\u001b[0m\u001b[0;34m.\u001b[0m\u001b[0mindex\u001b[0m\u001b[0;34m(\u001b[0m\u001b[0mnew_key\u001b[0m\u001b[0;34m)\u001b[0m\u001b[0;34m\u001b[0m\u001b[0;34m\u001b[0m\u001b[0m\n\u001b[1;32m    352\u001b[0m                 \u001b[0;32mexcept\u001b[0m \u001b[0mValueError\u001b[0m \u001b[0;32mas\u001b[0m \u001b[0merr\u001b[0m\u001b[0;34m:\u001b[0m\u001b[0;34m\u001b[0m\u001b[0;34m\u001b[0m\u001b[0m\n\u001b[0;32m--> 353\u001b[0;31m                     \u001b[0;32mraise\u001b[0m \u001b[0mKeyError\u001b[0m\u001b[0;34m(\u001b[0m\u001b[0mkey\u001b[0m\u001b[0;34m)\u001b[0m \u001b[0;32mfrom\u001b[0m \u001b[0merr\u001b[0m\u001b[0;34m\u001b[0m\u001b[0;34m\u001b[0m\u001b[0m\n\u001b[0m\u001b[1;32m    354\u001b[0m             \u001b[0;32mraise\u001b[0m \u001b[0mKeyError\u001b[0m\u001b[0;34m(\u001b[0m\u001b[0mkey\u001b[0m\u001b[0;34m)\u001b[0m\u001b[0;34m\u001b[0m\u001b[0;34m\u001b[0m\u001b[0m\n\u001b[1;32m    355\u001b[0m         \u001b[0;32mreturn\u001b[0m \u001b[0msuper\u001b[0m\u001b[0;34m(\u001b[0m\u001b[0;34m)\u001b[0m\u001b[0;34m.\u001b[0m\u001b[0mget_loc\u001b[0m\u001b[0;34m(\u001b[0m\u001b[0mkey\u001b[0m\u001b[0;34m,\u001b[0m \u001b[0mmethod\u001b[0m\u001b[0;34m=\u001b[0m\u001b[0mmethod\u001b[0m\u001b[0;34m,\u001b[0m \u001b[0mtolerance\u001b[0m\u001b[0;34m=\u001b[0m\u001b[0mtolerance\u001b[0m\u001b[0;34m)\u001b[0m\u001b[0;34m\u001b[0m\u001b[0;34m\u001b[0m\u001b[0m\n",
      "\u001b[0;31mKeyError\u001b[0m: 1000"
     ]
    }
   ],
   "source": [
    "# Preparing raw data\n",
    "\n",
    "for dialog in glob.glob(DIALOGS_FOLDER+'/*.csv'):\n",
    "    print(dialog)\n",
    "    prepare_dialog(dialog, PREPARED_FOLDER)"
   ]
  },
  {
   "cell_type": "code",
   "execution_count": null,
   "metadata": {
    "pycharm": {
     "name": "#%%\n"
    }
   },
   "outputs": [],
   "source": [
    "# Initialization\n",
    "\n",
    "# Your dialogs must be under data/prepared_dialogs/\n",
    "dialogs = glob.glob(PREPARED_FOLDER+'/*.csv')\n",
    "\n",
    "basic_info = {}\n",
    "\n",
    "user = {\n",
    "    'msg_count': 1,\n",
    "    'msg_len': 0,\n",
    "    'total_word_num': 0,\n",
    "    'reply_avg_time': [],\n",
    "    'msg_per_hour': {x: 0 for x in range(24)},\n",
    "    'reply_per_hour': {x: [] for x in range(24)},\n",
    "    'reply_time_word_length': {}\n",
    "}"
   ]
  },
  {
   "cell_type": "code",
   "execution_count": null,
   "metadata": {},
   "outputs": [],
   "source": [
    "# Extracting basic information from all dialogs\n",
    "\n",
    "for dialog_csv_path in dialogs:\n",
    "    data = pd.read_csv(dialog_csv_path)\n",
    "    \n",
    "    #TODO: FIX THIS, never transform file name in this way, we need id data\n",
    "    #dialog = re.findall(r'\\d\\d+', dialog_csv_path)[0]\n",
    "    dialog = dialog_csv_path[len(PREPARED_FOLDER):-4]\n",
    "\n",
    "    if not basic_info.get(dialog):\n",
    "        basic_info.setdefault(dialog, {})\n",
    "\n",
    "    # Gathering data for each user\n",
    "    for i in data.index:\n",
    "        sender = str(data['from_id'][i])\n",
    "        msg_length = len(str(data['message'][i]))\n",
    "\n",
    "        if not basic_info[dialog].get(sender):\n",
    "            basic_info[dialog].setdefault(sender, copy.deepcopy(user))\n",
    "\n",
    "        basic_info[dialog][sender]['msg_count'] += 1\n",
    "        basic_info[dialog][sender]['msg_len'] += msg_length\n",
    "        basic_info[dialog][sender]['msg_per_hour'][int(data['date'][i][11:13])] += 1\n",
    "        basic_info[dialog][sender]['total_word_num'] += len(str(data['message'][i]).split())\n",
    "\n",
    "        if reply_time := data['reply_time'][i]:\n",
    "            basic_info[dialog][sender]['reply_avg_time'].append(reply_time)\n",
    "            basic_info[dialog][sender]['reply_per_hour'][int(data['date'][i][11:13])].append(reply_time)\n",
    "\n",
    "        reply_time = int(data['reply_time'][i])\n",
    "        reply_frequency = basic_info[dialog][sender]['reply_time_word_length']\n",
    "        if not reply_frequency.get(reply_time):\n",
    "            reply_frequency.setdefault(reply_time, [msg_length])\n",
    "        else:\n",
    "            reply_frequency[reply_time].append(msg_length)\n",
    "\n",
    "    # Calculate average values\n",
    "    for sender, value in basic_info[dialog].items():\n",
    "        basic_info[dialog][sender]['msg_len'] /= data['id'].count()\n",
    "        \n",
    "        if reply_time:=basic_info[dialog][sender]['reply_avg_time']:\n",
    "            basic_info[dialog][sender]['reply_avg_time'] = sum(reply_time) / len(reply_time)\n",
    "        else:\n",
    "            print(reply_time)\n",
    "            basic_info[dialog][sender]['reply_avg_time'] = -1\n",
    "\n",
    "        # Calculating avg reply_time per hour\n",
    "        reply_per_hour = basic_info[dialog][sender]['reply_per_hour']\n",
    "        for k, v in reply_per_hour.items():\n",
    "            if reply_time := reply_per_hour[k]:\n",
    "                reply_per_hour[k] = sum(reply_time) / len(reply_time)\n",
    "            else:\n",
    "                reply_per_hour[k] = -1\n",
    "\n",
    "        # Calculating avg msg length per reply_time\n",
    "        reply_time_word_length = basic_info[dialog][sender]['reply_time_word_length']\n",
    "        for k, v in reply_time_word_length.items():\n",
    "            reply_time_word_length[k] = sum(v) / len(v)"
   ]
  },
  {
   "cell_type": "code",
   "execution_count": null,
   "metadata": {},
   "outputs": [],
   "source": [
    "# Dumping gathered data to data/basic_info.json\n",
    "\n",
    "with open(f'{RESULT_FOLDER}dialogs_statistics.json', 'w', encoding='utf-8') as f:\n",
    "    json.dump(basic_info, f, ensure_ascii=False, indent=4)"
   ]
  },
  {
   "cell_type": "code",
   "execution_count": null,
   "metadata": {},
   "outputs": [],
   "source": [
    "# Selecting dialog id to plot data\n",
    "\n",
    "dialogs = list(basic_info.keys())\n",
    "dialog_id = widgets.Dropdown(\n",
    "    options=dialogs,\n",
    "    value=dialogs[0],\n",
    "    description='Dialog:',\n",
    "    disabled=False,\n",
    ")\n",
    "display(dialog_id)\n"
   ]
  },
  {
   "cell_type": "code",
   "execution_count": null,
   "metadata": {
    "pycharm": {
     "name": "#%%\n"
    }
   },
   "outputs": [],
   "source": [
    "# Selecting user id to plot data\n",
    "\n",
    "users = list(basic_info[dialog_id.value].keys())\n",
    "user_id = widgets.Dropdown(\n",
    "    options=users,\n",
    "    value=users[0],\n",
    "    description='User:',\n",
    "    disabled=False,\n",
    ")\n",
    "display(user_id)\n"
   ]
  },
  {
   "cell_type": "code",
   "execution_count": null,
   "metadata": {},
   "outputs": [],
   "source": [
    "# Reply time on y-axis, daytime hours on x-axis, radius of circles corespondes to the message number\n",
    "# at that hour.\n",
    "\n",
    "plotting_data = pd.DataFrame({'Hour': range(24),\n",
    "                              'ReplyTime': list(basic_info[dialog_id.value][user_id.value]['reply_per_hour'].values()),\n",
    "                              'MessageNumber': list(basic_info[dialog_id.value][user_id.value]['msg_per_hour'].values())}).sort_values(by='Hour')\n",
    "\n",
    "alt.Chart(plotting_data).mark_circle(size=60).encode(\n",
    "    x='Hour',\n",
    "    y='ReplyTime',\n",
    "    size='MessageNumber:Q',\n",
    "    tooltip=['Hour', 'ReplyTime', 'MessageNumber']\n",
    ").properties(\n",
    "    width=800,\n",
    "    height=300\n",
    ")"
   ]
  },
  {
   "cell_type": "code",
   "execution_count": null,
   "metadata": {
    "pycharm": {
     "name": "#%%\n"
    }
   },
   "outputs": [],
   "source": [
    "# Plot: Reply time sec on x-axis, radius of mark_circle avg message length\n",
    "\n",
    "# Create DataFrame for plotting\n",
    "reply_time_word_length = basic_info[dialog_id.value][user_id.value]['reply_time_word_length']\n",
    "plotting_data = pd.DataFrame({'ReplyTime': list(reply_time_word_length.keys()),\n",
    "                              'MessageLength': list(reply_time_word_length.values())}).sort_values(by='ReplyTime')\n",
    "\n",
    "alt.Chart(plotting_data).mark_circle().encode(\n",
    "    alt.X('ReplyTime:Q',),\n",
    "    size='MessageLength:Q'\n",
    ").properties(\n",
    "    width=800,\n",
    "    height=300\n",
    ")\n"
   ]
  },
  {
   "cell_type": "code",
   "execution_count": null,
   "metadata": {},
   "outputs": [],
   "source": []
  }
 ],
 "metadata": {
  "kernelspec": {
   "display_name": "Python 3",
   "language": "python",
   "name": "python3"
  },
  "language_info": {
   "codemirror_mode": {
    "name": "ipython",
    "version": 3
   },
   "file_extension": ".py",
   "mimetype": "text/x-python",
   "name": "python",
   "nbconvert_exporter": "python",
   "pygments_lexer": "ipython3",
   "version": "3.7.4"
  }
 },
 "nbformat": 4,
 "nbformat_minor": 4
}
