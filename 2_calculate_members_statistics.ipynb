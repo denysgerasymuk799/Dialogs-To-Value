{
 "cells": [
  {
   "cell_type": "code",
   "execution_count": null,
   "metadata": {},
   "outputs": [],
   "source": [
    "import pandas as pd\n",
    "import datetime as dt\n",
    "import json\n",
    "import copy\n",
    "import glob\n",
    "import re\n",
    "import os\n",
    "\n",
    "import ipywidgets as widgets\n",
    "import altair as alt\n",
    "\n",
    "from utils.text_data_transformation import url_to_domain, word_to_num, delete_special_characters\n",
    "from utils.dialog_manipulation import add_subdialogs_ids, add_reply_time"
   ]
  },
  {
   "cell_type": "code",
   "execution_count": null,
   "metadata": {},
   "outputs": [],
   "source": [
    "# Set up\n",
    "DIALOGS_FOLDER = \"data/dialogs/\"\n",
    "RESULT_FOLDER = \"data/stats/\"\n",
    "PREPARED_FOLDER = 'data/prepared_dialogs/'"
   ]
  },
  {
   "cell_type": "code",
   "execution_count": null,
   "metadata": {},
   "outputs": [],
   "source": [
    "# Initialisation\n",
    "# Note: Your dialogs must be under data/prepared_dialogs/\n",
    "\n",
    "dialogs = glob.glob(PREPARED_FOLDER + '/*.csv')\n",
    "AVERAGE_STATS = {'word_count', 'msg_len', 'reply_time'}\n",
    "user_stats = {}\n",
    "basic_data = {'msg_count': 1,\n",
    "              'word_count': [],\n",
    "              'msg_len': [],\n",
    "              'reply_time': []}\n",
    "user_data = {\n",
    "    'basic_data': copy.deepcopy(basic_data),\n",
    "    'hours_data': {i: copy.deepcopy(basic_data) for i in range(24)},\n",
    "    'weeks_data': {day: {'basic_data': copy.deepcopy(basic_data),\n",
    "                         'hours_data': {i: copy.deepcopy(basic_data) for i in range(24)}\n",
    "                         }\n",
    "                   for day in ['Monday', 'Tuesday', 'Wednesday', 'Thursday',\n",
    "                               'Friday', 'Saturday', 'Sunday']\n",
    "                   }\n",
    "}\n",
    "\n",
    "\n",
    "def prepare_messages(data: pd.DataFrame) -> None:\n",
    "    \"\"\"\n",
    "    Prepares each message in \"message\" column.\n",
    "    \"\"\"\n",
    "    for index, row in data.iterrows():\n",
    "        out_msg = []\n",
    "        for word in str(row['message']).split():\n",
    "            if url_to_domain(word, check=True):\n",
    "                out_msg.append(url_to_domain(word))\n",
    "            else:\n",
    "                word = word_to_num(word)\n",
    "                out_msg.append(delete_special_characters(word))\n",
    "        data.loc[index, 'message'] = re.sub(r'\\s\\s+', ' ', ' '.join(out_msg))\n",
    "\n",
    "\n",
    "def prepare_dialog(dialog_file: str, prep_folder: str) -> None:\n",
    "    \"\"\"\n",
    "    Reads raw csv data and creates prepared copy\n",
    "    \"\"\"\n",
    "    file_name = dialog_file.split('/')[-1]\n",
    "    data = pd.read_csv(dialog_file)\n",
    "\n",
    "    prepare_messages(data)\n",
    "    add_reply_time(data)\n",
    "    add_subdialogs_ids(data)\n",
    "\n",
    "    data.to_csv(f'{prep_folder}{file_name}')\n",
    "\n",
    "\n",
    "def get_stats(row: pd.DataFrame) -> dict:\n",
    "    \"\"\"\n",
    "    Function to gather the information per row\n",
    "    @ DataFrame.\n",
    "    \"\"\"\n",
    "    stats = copy.deepcopy(basic_data)\n",
    "    stats['msg_count'] = 1\n",
    "    stats['word_count'].append(len(str(row['message']).split()))\n",
    "    stats['msg_len'].append(len(str(row['message'])))\n",
    "    if reply_time := row['reply_btw_sender_time']:\n",
    "        stats['reply_time'].append(reply_time)\n",
    "    return stats\n",
    "\n",
    "\n",
    "def add_basic_stats(dialog_name: str, user_name: str, stats: dict) -> None:\n",
    "    \"\"\"\n",
    "    Adds average statistics. Such as\n",
    "    message count, word count, message length,\n",
    "    reply_time.\n",
    "    \"\"\"\n",
    "    for key, value in stats.items():\n",
    "        user_stats[dialog_name][user_name]['basic_data'][key] += value\n",
    "\n",
    "\n",
    "def add_hour_stats(dialog_name: str, user_name: str, row: pd.DataFrame, stats: dict) -> None:\n",
    "    \"\"\"\n",
    "    Adds average hourly statistics. Such as\n",
    "    message count, word count, message length,\n",
    "    reply_time.\n",
    "    \"\"\"\n",
    "    hour = user_stats[dialog_name][user_name]['hours_data'][int(row['date'][11:13])]\n",
    "    for key, value in stats.items():\n",
    "        hour[key] += value\n",
    "\n",
    "\n",
    "def add_week_stats(dialog_name: str, user_name: str, row: pd.DataFrame, stats: dict) -> None:\n",
    "    \"\"\"\n",
    "    Adds average week days hourly statistics. Such as\n",
    "    message count, word count, message length,\n",
    "    reply_time.\n",
    "    \"\"\"\n",
    "    day_name = dt.datetime.strptime(row['date'][:10], '%Y-%m-%d').strftime(\"%A\")\n",
    "    hour_name = int(row['date'][11:13])\n",
    "    day = user_stats[dialog_name][user_name]['weeks_data'][day_name]\n",
    "    for key, value in stats.items():\n",
    "        day['basic_data'][key] += value\n",
    "        day['hours_data'][hour_name][key] += value\n",
    "\n",
    "\n",
    "def calculate_average(dialog_name: str) -> None:\n",
    "    \"\"\"\n",
    "    Crawls across dictionary looking for\n",
    "    average data keys and then calculates the average.\n",
    "    \"\"\"\n",
    "    dialog = user_stats[dialog_name]\n",
    "\n",
    "    def crawl_for_average_values(dialog):\n",
    "        for key, value in dialog.items():\n",
    "            if isinstance(value, dict):\n",
    "                crawl_for_average_values(value)\n",
    "            elif key in AVERAGE_STATS and value:\n",
    "                dialog[key] = sum(value) / len(value)\n",
    "            elif key in AVERAGE_STATS:\n",
    "                dialog[key] = -1\n",
    "\n",
    "    crawl_for_average_values(dialog)"
   ]
  },
  {
   "cell_type": "code",
   "execution_count": null,
   "metadata": {},
   "outputs": [],
   "source": [
    "# Checking the path\n",
    "if os.path.isdir(DIALOGS_FOLDER):\n",
    "    if not os.path.isdir(PREPARED_FOLDER):\n",
    "        os.mkdir(PREPARED_FOLDER)\n",
    "\n",
    "    if not os.path.isdir(RESULT_FOLDER):\n",
    "        os.mkdir(RESULT_FOLDER)"
   ]
  },
  {
   "cell_type": "code",
   "execution_count": null,
   "metadata": {},
   "outputs": [],
   "source": [
    "# Preparing raw data\n",
    "for dialog in glob.glob(DIALOGS_FOLDER + '/*.csv'):\n",
    "    prepare_dialog(dialog, PREPARED_FOLDER)\n",
    "    print('Done preparing file: ', dialog)"
   ]
  },
  {
   "cell_type": "code",
   "execution_count": null,
   "metadata": {
    "scrolled": true
   },
   "outputs": [],
   "source": [
    "# Extracting basic information from all dialogs\n",
    "for dialog_csv_path in dialogs:\n",
    "    data = pd.read_csv(dialog_csv_path)\n",
    "    dialog = dialog_csv_path[len(PREPARED_FOLDER):-4]\n",
    "\n",
    "    if not user_stats.get(dialog):\n",
    "        user_stats.setdefault(dialog, {})\n",
    "\n",
    "    # Iterating over each user @ dialog\n",
    "    for index, row in data.iterrows():\n",
    "        user = str(row['from_id'])\n",
    "        if not user_stats[dialog].get(user):\n",
    "            user_stats[dialog].setdefault(user, copy.deepcopy(user_data))\n",
    "\n",
    "        # Gathering data\n",
    "        stats = get_stats(row)\n",
    "        add_basic_stats(dialog, user, stats)\n",
    "        add_hour_stats(dialog, user, row, stats)\n",
    "        add_week_stats(dialog, user, row, stats)\n",
    "\n",
    "    # Calculating average values for this user\n",
    "    calculate_average(dialog)\n",
    "    print(\"Done extracting data from dialog #\", dialog, sep='')"
   ]
  },
  {
   "cell_type": "code",
   "execution_count": null,
   "metadata": {
    "pycharm": {
     "name": "#%%\n"
    }
   },
   "outputs": [],
   "source": [
    "# Dumping gathered data to data/basic_info.json\n",
    "with open(f'{RESULT_FOLDER}dialog_members_statistics.json', 'w', encoding='utf-8') as f:\n",
    "    json.dump(user_stats, f, ensure_ascii=False)"
   ]
  },
  {
   "cell_type": "code",
   "execution_count": null,
   "metadata": {},
   "outputs": [],
   "source": [
    "# Selecting dialog id to plot data\n",
    "dialogs = list(user_stats.keys())\n",
    "dialog_id = widgets.Dropdown(\n",
    "    options=dialogs,\n",
    "    value=dialogs[0],\n",
    "    description='Dialog:',\n",
    "    disabled=False,\n",
    ")\n",
    "display(dialog_id)"
   ]
  },
  {
   "cell_type": "code",
   "execution_count": null,
   "metadata": {
    "pycharm": {
     "name": "#%%\n"
    }
   },
   "outputs": [],
   "source": [
    "# Selecting user id to plot data\n",
    "users = list(user_stats[dialog_id.value].keys())\n",
    "user_id = widgets.Dropdown(\n",
    "    options=users,\n",
    "    value=users[0],\n",
    "    description='User:',\n",
    "    disabled=False,\n",
    ")\n",
    "display(user_id)"
   ]
  },
  {
   "cell_type": "code",
   "execution_count": null,
   "metadata": {
    "pycharm": {
     "name": "#%%\n"
    }
   },
   "outputs": [],
   "source": [
    "# Reply time on y-axis, daytime hours on x-axis, radius of circles corespondes to the message number\n",
    "# at that hour.\n",
    "\n",
    "plotting_data = pd. \\\n",
    "    DataFrame({'Hour': range(24),\n",
    "               'ReplyTime': [x['reply_time'] for x in user_stats[dialog_id.value][user_id.value]['hours_data'].values()],\n",
    "               'MessageNumber': [x['msg_count'] for x in user_stats[dialog_id.value][user_id.value]['hours_data'].values()]\n",
    "               }).sort_values(by='Hour')\n",
    "\n",
    "alt.Chart(plotting_data).mark_circle(size=60) \\\n",
    "    .encode(x='Hour',\n",
    "            y='ReplyTime',\n",
    "            size='MessageNumber:Q',\n",
    "            tooltip=['Hour', 'ReplyTime', 'MessageNumber']\n",
    "            ).properties(width=800, height=300)"
   ]
  },
  {
   "cell_type": "code",
   "execution_count": null,
   "outputs": [],
   "source": [],
   "metadata": {
    "collapsed": false,
    "pycharm": {
     "name": "#%%\n"
    }
   }
  },
  {
   "cell_type": "code",
   "execution_count": null,
   "metadata": {},
   "outputs": [],
   "source": []
  },
  {
   "cell_type": "code",
   "execution_count": null,
   "metadata": {},
   "outputs": [],
   "source": []
  }
 ],
 "metadata": {
  "kernelspec": {
   "display_name": "Python 3",
   "language": "python",
   "name": "python3"
  },
  "language_info": {
   "codemirror_mode": {
    "name": "ipython",
    "version": 3
   },
   "file_extension": ".py",
   "mimetype": "text/x-python",
   "name": "python",
   "nbconvert_exporter": "python",
   "pygments_lexer": "ipython3",
   "version": "3.8.5"
  }
 },
 "nbformat": 4,
 "nbformat_minor": 4
}