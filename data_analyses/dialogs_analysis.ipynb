{
 "cells": [
  {
   "cell_type": "code",
   "execution_count": 1,
   "metadata": {},
   "outputs": [],
   "source": [
    "%matplotlib inline\n",
    "import json\n",
    "import os\n",
    "import pandas as pd\n",
    "import matplotlib.pyplot as plt\n",
    "import datetime\n",
    "import numpy as np\n"
   ]
  },
  {
   "cell_type": "code",
   "execution_count": 2,
   "metadata": {
    "pycharm": {
     "name": "#%%\n"
    }
   },
   "outputs": [],
   "source": [
    "dialogs_info = {\n",
    "    \"Private dialog\": {},\n",
    "    \"Group\": {},\n",
    "    \"Channel\": {}\n",
    "                }\n",
    "\n",
    "# set paths to dirs in data dir\n",
    "temp_dir = os.getcwd()\n",
    "os.chdir(\"..\")\n",
    "path_data_dir = os.path.join(os.getcwd(), \"data\")\n",
    "path_dialogs_meta_dir = os.path.join(path_data_dir, \"dialogs_meta\")\n",
    "path_dialogs_dir = os.path.join(path_data_dir, \"dialogs\")\n",
    "os.chdir(temp_dir)\n",
    "\n",
    "# make dialogs_info dict: first level keys - \"Channel\", \"Private dialog\", \"Group\"\n",
    "# second level items - \"<name_of_dialog>\": <id>\n",
    "for file in os.listdir(path_dialogs_meta_dir):\n",
    "    if file[-4:] == \"json\":\n",
    "        with open(os.path.join(path_dialogs_meta_dir, file), \"r\", encoding=\"utf8\") as meta_file:\n",
    "            data = json.load(meta_file)\n",
    "\n",
    "        dialogs_info[data[\"type\"]][data[\"name\"]] = data[\"id\"]\n",
    "\n",
    "# 1) look at results in ../static/dialogs_info.json\n",
    "with open(\"../static/dialogs_info.json\", \"w\", encoding=\"utf-8\") as f:\n",
    "    json.dump(dialogs_info, f, indent=4, ensure_ascii=False)"
   ]
  },
  {
   "cell_type": "markdown",
   "metadata": {
    "pycharm": {
     "name": "#%% md\n"
    }
   },
   "source": [
    "## Plot of daily activity (09.08.2020)"
   ]
  },
  {
   "cell_type": "code",
   "execution_count": 3,
   "metadata": {
    "pycharm": {
     "name": "#%%\n"
    }
   },
   "outputs": [],
   "source": [
    "def get_user_activity(dialogs_info, date_before, date_after, dialog_type,\n",
    "                      plot_type=\"daily_activity\"):\n",
    "    \"\"\"\n",
    "\n",
    "    :param dialogs_info: dict: first level keys - \"Channel\", \"Private dialog\", \"Group\"\n",
    "    second level items - \"<name_of_dialog>\": <id>\n",
    "    :param date_before: datetime type, from what time start to analyse msgs\n",
    "    :param date_after: datetime type, to what time to analyse msgs\n",
    "    :param dialog_type: \"Channel\" or \"Private dialog\" or \"Group\"\n",
    "    :param plot_type: plot name for which you prepare your data\n",
    "    :return: lists for a plot of \"top_friends\" or \"daily_activity\", depends on\n",
    "    your input plot_type\n",
    "    \"\"\"\n",
    "    dialog_active_minutes = 0\n",
    "\n",
    "    plot_data = {}\n",
    "    if plot_type == \"daily_activity\":\n",
    "        for hour in range(24):\n",
    "            if hour < 10:\n",
    "                hour = '0' + str(hour)\n",
    "                plot_data[hour] = 0\n",
    "            else:\n",
    "                plot_data[str(hour)] = 0\n",
    "\n",
    "    # go through all dialogs on special dialog type in dialogs_info dict\n",
    "    # friend - name of dialog\n",
    "    for friend, dialog_id in dialogs_info[dialog_type].items():\n",
    "        dialog_id = str(dialog_id)\n",
    "        start_dialog_time, stop_dialog_time = 0, 0\n",
    "        if dialog_id + \".csv\" not in os.listdir(path_dialogs_dir):\n",
    "            print(dialog_id)\n",
    "            continue\n",
    "\n",
    "        dialog_data = pd.read_csv(\"../data/dialogs/{}.csv\".format(dialog_id))\n",
    "        dialog_active_minutes_before = dialog_active_minutes\n",
    "        flag_first_my_message = 0\n",
    "        for row in dialog_data.index:\n",
    "            if dialog_data[\"from_id\"][row] == 511986933:\n",
    "\n",
    "                date_time = dialog_data[\"date\"][row][:-6]\n",
    "                dialog_datetime = datetime.datetime.strptime(date_time,\"%Y-%m-%d %H:%M:%S\")\n",
    "                \n",
    "                # get previous message time for plot of \"active_minutes\" - number of minutes spending on\n",
    "                # conversations during a day\n",
    "                if flag_first_my_message == 0:\n",
    "                    previous_message_time = dialog_datetime\n",
    "                    flag_first_my_message = 1\n",
    "\n",
    "                if dialog_datetime <= date_before:\n",
    "                    break\n",
    "\n",
    "                elif date_before < dialog_datetime < date_after:\n",
    "                    if plot_type == \"daily_activity\":\n",
    "                        our_local_time = int(dialog_data['date'][row][11:13]) + 2\n",
    "                        if our_local_time < 10:\n",
    "                            our_local_time = \"0\" + str(our_local_time)\n",
    "                            \n",
    "                        else:\n",
    "                            our_local_time = str(our_local_time)\n",
    "                                \n",
    "                        plot_data[our_local_time] += 1\n",
    "\n",
    "                    elif plot_type == \"top_friends\":\n",
    "                        plot_data[friend] = plot_data.get(friend, 0) + 1\n",
    "\n",
    "                    elif plot_type == \"active_minutes\":\n",
    "                        time_before_my_messages = previous_message_time - dialog_datetime\n",
    "                        try:\n",
    "                            if dialog_data[\"from_id\"][row + 1] == 511986933 and \\\n",
    "                                    time_before_my_messages.total_seconds() < 600:\n",
    "                                previous_message_time = dialog_datetime\n",
    "                                if stop_dialog_time == 0:\n",
    "                                    stop_dialog_time = dialog_datetime\n",
    "\n",
    "                            else:\n",
    "                                if stop_dialog_time == 0:\n",
    "                                    dialog_active_minutes += 15\n",
    "                                else:\n",
    "                                    start_dialog_time = dialog_datetime\n",
    "                                    time_since = stop_dialog_time - start_dialog_time\n",
    "                                    if time_since.total_seconds() >= 600:\n",
    "                                        time_since = stop_dialog_time - previous_message_time\n",
    "                                        dialog_active_minutes += time_since.total_seconds() + 40 + 30\n",
    "\n",
    "                                    else:\n",
    "                                        # add 40 sec - time for reading, writing first message\n",
    "                                        dialog_active_minutes += time_since.total_seconds() + 40\n",
    "\n",
    "                                previous_message_time = dialog_datetime\n",
    "                                start_dialog_time, stop_dialog_time = 0, 0\n",
    "\n",
    "                        except KeyError as error:\n",
    "                            print(\"KEYERROR!!!\", error)\n",
    "\n",
    "        if plot_type == \"active_minutes\":\n",
    "            print(\"Time spend on conversation: dialog {} {} minutes\".format(friend,\n",
    "                                                                            (dialog_active_minutes - dialog_active_minutes_before) // 60))\n",
    "\n",
    "    if plot_type == \"active_minutes\":\n",
    "        # add 5 minutes in case of unpredictable situations\n",
    "        return dialog_active_minutes // 60 + 5\n",
    "\n",
    "    x, y = \"\", \"\"\n",
    "    lists = []\n",
    "    if plot_type == \"daily_activity\":\n",
    "        lists = sorted(plot_data.items())\n",
    "        x, y = zip(*lists)\n",
    "    elif plot_type == \"top_friends\":\n",
    "        lists = {k: v for k, v in sorted(plot_data.items(), key=lambda item: item[1], reverse=True)}\n",
    "\n",
    "    return x, y, lists"
   ]
  },
  {
   "cell_type": "code",
   "execution_count": 10,
   "metadata": {
    "pycharm": {
     "name": "#%%\n"
    }
   },
   "outputs": [
    {
     "name": "stdout",
     "output_type": "stream",
     "text": [
      "777000\n",
      "777000\n",
      "777000\n",
      "777000\n",
      "777000\n",
      "777000\n",
      "777000\n"
     ]
    },
    {
     "data": {
      "text/plain": "<Figure size 800x640 with 1 Axes>",
      "image/png": "[encoded data removed]"
     },
     "metadata": {},
     "output_type": "display_data"
    },
    {
     "data": {
      "application/vnd.plotly.v1+json": {
       "config": {
        "plotlyServerURL": "https://plot.ly"
       },
       "data": [
        {
         "marker": {
          "line": {
           "color": "rgb(105, 105, 105, 1.0)",
           "width": 3
          }
         },
         "name": "4-08-2020",
         "orientation": "h",
         "type": "bar",
         "x": [
          0,
          0,
          0,
          0,
          0,
          0,
          0,
          0,
          1,
          3,
          0,
          0,
          3,
          6,
          0,
          1,
          2,
          0,
          0,
          0,
          0,
          0,
          0,
          0
         ],
         "y": [
          "00",
          "01",
          "02",
          "03",
          "04",
          "05",
          "06",
          "07",
          "08",
          "09",
          "10",
          "11",
          "12",
          "13",
          "14",
          "15",
          "16",
          "17",
          "18",
          "19",
          "20",
          "21",
          "22",
          "23"
         ]
        },
        {
         "marker": {
          "line": {
           "color": "rgb(105, 105, 105, 1.0)",
           "width": 3
          }
         },
         "name": "5-08-2020",
         "orientation": "h",
         "type": "bar",
         "x": [
          0,
          0,
          0,
          0,
          0,
          0,
          0,
          0,
          0,
          0,
          13,
          8,
          1,
          5,
          1,
          0,
          4,
          4,
          1,
          5,
          2,
          0,
          3,
          0
         ],
         "y": [
          "00",
          "01",
          "02",
          "03",
          "04",
          "05",
          "06",
          "07",
          "08",
          "09",
          "10",
          "11",
          "12",
          "13",
          "14",
          "15",
          "16",
          "17",
          "18",
          "19",
          "20",
          "21",
          "22",
          "23"
         ]
        },
        {
         "marker": {
          "line": {
           "color": "rgb(105, 105, 105, 1.0)",
           "width": 3
          }
         },
         "name": "6-08-2020",
         "orientation": "h",
         "type": "bar",
         "x": [
          0,
          0,
          0,
          0,
          0,
          0,
          0,
          0,
          0,
          1,
          4,
          2,
          1,
          11,
          0,
          2,
          3,
          3,
          0,
          8,
          5,
          11,
          0,
          1
         ],
         "y": [
          "00",
          "01",
          "02",
          "03",
          "04",
          "05",
          "06",
          "07",
          "08",
          "09",
          "10",
          "11",
          "12",
          "13",
          "14",
          "15",
          "16",
          "17",
          "18",
          "19",
          "20",
          "21",
          "22",
          "23"
         ]
        },
        {
         "marker": {
          "line": {
           "color": "rgb(105, 105, 105, 1.0)",
           "width": 3
          }
         },
         "name": "7-08-2020",
         "orientation": "h",
         "type": "bar",
         "x": [
          0,
          0,
          0,
          0,
          0,
          0,
          0,
          0,
          0,
          0,
          4,
          3,
          2,
          1,
          16,
          0,
          3,
          0,
          0,
          0,
          2,
          0,
          0,
          1
         ],
         "y": [
          "00",
          "01",
          "02",
          "03",
          "04",
          "05",
          "06",
          "07",
          "08",
          "09",
          "10",
          "11",
          "12",
          "13",
          "14",
          "15",
          "16",
          "17",
          "18",
          "19",
          "20",
          "21",
          "22",
          "23"
         ]
        },
        {
         "marker": {
          "line": {
           "color": "rgb(105, 105, 105, 1.0)",
           "width": 3
          }
         },
         "name": "8-08-2020",
         "orientation": "h",
         "type": "bar",
         "x": [
          0,
          0,
          0,
          0,
          0,
          0,
          0,
          0,
          0,
          2,
          18,
          3,
          6,
          2,
          0,
          0,
          0,
          0,
          0,
          2,
          1,
          0,
          0,
          0
         ],
         "y": [
          "00",
          "01",
          "02",
          "03",
          "04",
          "05",
          "06",
          "07",
          "08",
          "09",
          "10",
          "11",
          "12",
          "13",
          "14",
          "15",
          "16",
          "17",
          "18",
          "19",
          "20",
          "21",
          "22",
          "23"
         ]
        },
        {
         "marker": {
          "line": {
           "color": "rgb(105, 105, 105, 1.0)",
           "width": 3
          }
         },
         "name": "9-08-2020",
         "orientation": "h",
         "type": "bar",
         "x": [
          0,
          0,
          0,
          0,
          0,
          0,
          0,
          0,
          0,
          0,
          0,
          0,
          0,
          0,
          0,
          0,
          3,
          24,
          29,
          2,
          0,
          0,
          1,
          0
         ],
         "y": [
          "00",
          "01",
          "02",
          "03",
          "04",
          "05",
          "06",
          "07",
          "08",
          "09",
          "10",
          "11",
          "12",
          "13",
          "14",
          "15",
          "16",
          "17",
          "18",
          "19",
          "20",
          "21",
          "22",
          "23"
         ]
        },
        {
         "marker": {
          "line": {
           "color": "rgb(105, 105, 105, 1.0)",
           "width": 3
          }
         },
         "name": "10-08-2020",
         "orientation": "h",
         "type": "bar",
         "x": [
          0,
          0,
          0,
          0,
          0,
          0,
          0,
          0,
          1,
          1,
          6,
          0,
          0,
          0,
          0,
          1,
          0,
          0,
          0,
          7,
          5,
          11,
          2,
          19
         ],
         "y": [
          "00",
          "01",
          "02",
          "03",
          "04",
          "05",
          "06",
          "07",
          "08",
          "09",
          "10",
          "11",
          "12",
          "13",
          "14",
          "15",
          "16",
          "17",
          "18",
          "19",
          "20",
          "21",
          "22",
          "23"
         ]
        }
       ],
       "layout": {
        "autosize": false,
        "barmode": "stack",
        "height": 800,
        "template": {
         "data": {
          "bar": [
           {
            "error_x": {
             "color": "#2a3f5f"
            },
            "error_y": {
             "color": "#2a3f5f"
            },
            "marker": {
             "line": {
              "color": "#E5ECF6",
              "width": 0.5
             }
            },
            "type": "bar"
           }
          ],
          "barpolar": [
           {
            "marker": {
             "line": {
              "color": "#E5ECF6",
              "width": 0.5
             }
            },
            "type": "barpolar"
           }
          ],
          "carpet": [
           {
            "aaxis": {
             "endlinecolor": "#2a3f5f",
             "gridcolor": "white",
             "linecolor": "white",
             "minorgridcolor": "white",
             "startlinecolor": "#2a3f5f"
            },
            "baxis": {
             "endlinecolor": "#2a3f5f",
             "gridcolor": "white",
             "linecolor": "white",
             "minorgridcolor": "white",
             "startlinecolor": "#2a3f5f"
            },
            "type": "carpet"
           }
          ],
          "choropleth": [
           {
            "colorbar": {
             "outlinewidth": 0,
             "ticks": ""
            },
            "type": "choropleth"
           }
          ],
          "contour": [
           {
            "colorbar": {
             "outlinewidth": 0,
             "ticks": ""
            },
            "colorscale": [
             [
              0.0,
              "#0d0887"
             ],
             [
              0.1111111111111111,
              "#46039f"
             ],
             [
              0.2222222222222222,
              "#7201a8"
             ],
             [
              0.3333333333333333,
              "#9c179e"
             ],
             [
              0.4444444444444444,
              "#bd3786"
             ],
             [
              0.5555555555555556,
              "#d8576b"
             ],
             [
              0.6666666666666666,
              "#ed7953"
             ],
             [
              0.7777777777777778,
              "#fb9f3a"
             ],
             [
              0.8888888888888888,
              "#fdca26"
             ],
             [
              1.0,
              "#f0f921"
             ]
            ],
            "type": "contour"
           }
          ],
          "contourcarpet": [
           {
            "colorbar": {
             "outlinewidth": 0,
             "ticks": ""
            },
            "type": "contourcarpet"
           }
          ],
          "heatmap": [
           {
            "colorbar": {
             "outlinewidth": 0,
             "ticks": ""
            },
            "colorscale": [
             [
              0.0,
              "#0d0887"
             ],
             [
              0.1111111111111111,
              "#46039f"
             ],
             [
              0.2222222222222222,
              "#7201a8"
             ],
             [
              0.3333333333333333,
              "#9c179e"
             ],
             [
              0.4444444444444444,
              "#bd3786"
             ],
             [
              0.5555555555555556,
              "#d8576b"
             ],
             [
              0.6666666666666666,
              "#ed7953"
             ],
             [
              0.7777777777777778,
              "#fb9f3a"
             ],
             [
              0.8888888888888888,
              "#fdca26"
             ],
             [
              1.0,
              "#f0f921"
             ]
            ],
            "type": "heatmap"
           }
          ],
          "heatmapgl": [
           {
            "colorbar": {
             "outlinewidth": 0,
             "ticks": ""
            },
            "colorscale": [
             [
              0.0,
              "#0d0887"
             ],
             [
              0.1111111111111111,
              "#46039f"
             ],
             [
              0.2222222222222222,
              "#7201a8"
             ],
             [
              0.3333333333333333,
              "#9c179e"
             ],
             [
              0.4444444444444444,
              "#bd3786"
             ],
             [
              0.5555555555555556,
              "#d8576b"
             ],
             [
              0.6666666666666666,
              "#ed7953"
             ],
             [
              0.7777777777777778,
              "#fb9f3a"
             ],
             [
              0.8888888888888888,
              "#fdca26"
             ],
             [
              1.0,
              "#f0f921"
             ]
            ],
            "type": "heatmapgl"
           }
          ],
          "histogram": [
           {
            "marker": {
             "colorbar": {
              "outlinewidth": 0,
              "ticks": ""
             }
            },
            "type": "histogram"
           }
          ],
          "histogram2d": [
           {
            "colorbar": {
             "outlinewidth": 0,
             "ticks": ""
            },
            "colorscale": [
             [
              0.0,
              "#0d0887"
             ],
             [
              0.1111111111111111,
              "#46039f"
             ],
             [
              0.2222222222222222,
              "#7201a8"
             ],
             [
              0.3333333333333333,
              "#9c179e"
             ],
             [
              0.4444444444444444,
              "#bd3786"
             ],
             [
              0.5555555555555556,
              "#d8576b"
             ],
             [
              0.6666666666666666,
              "#ed7953"
             ],
             [
              0.7777777777777778,
              "#fb9f3a"
             ],
             [
              0.8888888888888888,
              "#fdca26"
             ],
             [
              1.0,
              "#f0f921"
             ]
            ],
            "type": "histogram2d"
           }
          ],
          "histogram2dcontour": [
           {
            "colorbar": {
             "outlinewidth": 0,
             "ticks": ""
            },
            "colorscale": [
             [
              0.0,
              "#0d0887"
             ],
             [
              0.1111111111111111,
              "#46039f"
             ],
             [
              0.2222222222222222,
              "#7201a8"
             ],
             [
              0.3333333333333333,
              "#9c179e"
             ],
             [
              0.4444444444444444,
              "#bd3786"
             ],
             [
              0.5555555555555556,
              "#d8576b"
             ],
             [
              0.6666666666666666,
              "#ed7953"
             ],
             [
              0.7777777777777778,
              "#fb9f3a"
             ],
             [
              0.8888888888888888,
              "#fdca26"
             ],
             [
              1.0,
              "#f0f921"
             ]
            ],
            "type": "histogram2dcontour"
           }
          ],
          "mesh3d": [
           {
            "colorbar": {
             "outlinewidth": 0,
             "ticks": ""
            },
            "type": "mesh3d"
           }
          ],
          "parcoords": [
           {
            "line": {
             "colorbar": {
              "outlinewidth": 0,
              "ticks": ""
             }
            },
            "type": "parcoords"
           }
          ],
          "pie": [
           {
            "automargin": true,
            "type": "pie"
           }
          ],
          "scatter": [
           {
            "marker": {
             "colorbar": {
              "outlinewidth": 0,
              "ticks": ""
             }
            },
            "type": "scatter"
           }
          ],
          "scatter3d": [
           {
            "line": {
             "colorbar": {
              "outlinewidth": 0,
              "ticks": ""
             }
            },
            "marker": {
             "colorbar": {
              "outlinewidth": 0,
              "ticks": ""
             }
            },
            "type": "scatter3d"
           }
          ],
          "scattercarpet": [
           {
            "marker": {
             "colorbar": {
              "outlinewidth": 0,
              "ticks": ""
             }
            },
            "type": "scattercarpet"
           }
          ],
          "scattergeo": [
           {
            "marker": {
             "colorbar": {
              "outlinewidth": 0,
              "ticks": ""
             }
            },
            "type": "scattergeo"
           }
          ],
          "scattergl": [
           {
            "marker": {
             "colorbar": {
              "outlinewidth": 0,
              "ticks": ""
             }
            },
            "type": "scattergl"
           }
          ],
          "scattermapbox": [
           {
            "marker": {
             "colorbar": {
              "outlinewidth": 0,
              "ticks": ""
             }
            },
            "type": "scattermapbox"
           }
          ],
          "scatterpolar": [
           {
            "marker": {
             "colorbar": {
              "outlinewidth": 0,
              "ticks": ""
             }
            },
            "type": "scatterpolar"
           }
          ],
          "scatterpolargl": [
           {
            "marker": {
             "colorbar": {
              "outlinewidth": 0,
              "ticks": ""
             }
            },
            "type": "scatterpolargl"
           }
          ],
          "scatterternary": [
           {
            "marker": {
             "colorbar": {
              "outlinewidth": 0,
              "ticks": ""
             }
            },
            "type": "scatterternary"
           }
          ],
          "surface": [
           {
            "colorbar": {
             "outlinewidth": 0,
             "ticks": ""
            },
            "colorscale": [
             [
              0.0,
              "#0d0887"
             ],
             [
              0.1111111111111111,
              "#46039f"
             ],
             [
              0.2222222222222222,
              "#7201a8"
             ],
             [
              0.3333333333333333,
              "#9c179e"
             ],
             [
              0.4444444444444444,
              "#bd3786"
             ],
             [
              0.5555555555555556,
              "#d8576b"
             ],
             [
              0.6666666666666666,
              "#ed7953"
             ],
             [
              0.7777777777777778,
              "#fb9f3a"
             ],
             [
              0.8888888888888888,
              "#fdca26"
             ],
             [
              1.0,
              "#f0f921"
             ]
            ],
            "type": "surface"
           }
          ],
          "table": [
           {
            "cells": {
             "fill": {
              "color": "#EBF0F8"
             },
             "line": {
              "color": "white"
             }
            },
            "header": {
             "fill": {
              "color": "#C8D4E3"
             },
             "line": {
              "color": "white"
             }
            },
            "type": "table"
           }
          ]
         },
         "layout": {
          "annotationdefaults": {
           "arrowcolor": "#2a3f5f",
           "arrowhead": 0,
           "arrowwidth": 1
          },
          "coloraxis": {
           "colorbar": {
            "outlinewidth": 0,
            "ticks": ""
           }
          },
          "colorscale": {
           "diverging": [
            [
             0,
             "#8e0152"
            ],
            [
             0.1,
             "#c51b7d"
            ],
            [
             0.2,
             "#de77ae"
            ],
            [
             0.3,
             "#f1b6da"
            ],
            [
             0.4,
             "#fde0ef"
            ],
            [
             0.5,
             "#f7f7f7"
            ],
            [
             0.6,
             "#e6f5d0"
            ],
            [
             0.7,
             "#b8e186"
            ],
            [
             0.8,
             "#7fbc41"
            ],
            [
             0.9,
             "#4d9221"
            ],
            [
             1,
             "#276419"
            ]
           ],
           "sequential": [
            [
             0.0,
             "#0d0887"
            ],
            [
             0.1111111111111111,
             "#46039f"
            ],
            [
             0.2222222222222222,
             "#7201a8"
            ],
            [
             0.3333333333333333,
             "#9c179e"
            ],
            [
             0.4444444444444444,
             "#bd3786"
            ],
            [
             0.5555555555555556,
             "#d8576b"
            ],
            [
             0.6666666666666666,
             "#ed7953"
            ],
            [
             0.7777777777777778,
             "#fb9f3a"
            ],
            [
             0.8888888888888888,
             "#fdca26"
            ],
            [
             1.0,
             "#f0f921"
            ]
           ],
           "sequentialminus": [
            [
             0.0,
             "#0d0887"
            ],
            [
             0.1111111111111111,
             "#46039f"
            ],
            [
             0.2222222222222222,
             "#7201a8"
            ],
            [
             0.3333333333333333,
             "#9c179e"
            ],
            [
             0.4444444444444444,
             "#bd3786"
            ],
            [
             0.5555555555555556,
             "#d8576b"
            ],
            [
             0.6666666666666666,
             "#ed7953"
            ],
            [
             0.7777777777777778,
             "#fb9f3a"
            ],
            [
             0.8888888888888888,
             "#fdca26"
            ],
            [
             1.0,
             "#f0f921"
            ]
           ]
          },
          "colorway": [
           "#636efa",
           "#EF553B",
           "#00cc96",
           "#ab63fa",
           "#FFA15A",
           "#19d3f3",
           "#FF6692",
           "#B6E880",
           "#FF97FF",
           "#FECB52"
          ],
          "font": {
           "color": "#2a3f5f"
          },
          "geo": {
           "bgcolor": "white",
           "lakecolor": "white",
           "landcolor": "#E5ECF6",
           "showlakes": true,
           "showland": true,
           "subunitcolor": "white"
          },
          "hoverlabel": {
           "align": "left"
          },
          "hovermode": "closest",
          "mapbox": {
           "style": "light"
          },
          "paper_bgcolor": "white",
          "plot_bgcolor": "#E5ECF6",
          "polar": {
           "angularaxis": {
            "gridcolor": "white",
            "linecolor": "white",
            "ticks": ""
           },
           "bgcolor": "#E5ECF6",
           "radialaxis": {
            "gridcolor": "white",
            "linecolor": "white",
            "ticks": ""
           }
          },
          "scene": {
           "xaxis": {
            "backgroundcolor": "#E5ECF6",
            "gridcolor": "white",
            "gridwidth": 2,
            "linecolor": "white",
            "showbackground": true,
            "ticks": "",
            "zerolinecolor": "white"
           },
           "yaxis": {
            "backgroundcolor": "#E5ECF6",
            "gridcolor": "white",
            "gridwidth": 2,
            "linecolor": "white",
            "showbackground": true,
            "ticks": "",
            "zerolinecolor": "white"
           },
           "zaxis": {
            "backgroundcolor": "#E5ECF6",
            "gridcolor": "white",
            "gridwidth": 2,
            "linecolor": "white",
            "showbackground": true,
            "ticks": "",
            "zerolinecolor": "white"
           }
          },
          "shapedefaults": {
           "line": {
            "color": "#2a3f5f"
           }
          },
          "ternary": {
           "aaxis": {
            "gridcolor": "white",
            "linecolor": "white",
            "ticks": ""
           },
           "baxis": {
            "gridcolor": "white",
            "linecolor": "white",
            "ticks": ""
           },
           "bgcolor": "#E5ECF6",
           "caxis": {
            "gridcolor": "white",
            "linecolor": "white",
            "ticks": ""
           }
          },
          "title": {
           "x": 0.05
          },
          "xaxis": {
           "automargin": true,
           "gridcolor": "white",
           "linecolor": "white",
           "ticks": "",
           "title": {
            "standoff": 15
           },
           "zerolinecolor": "white",
           "zerolinewidth": 2
          },
          "yaxis": {
           "automargin": true,
           "gridcolor": "white",
           "linecolor": "white",
           "ticks": "",
           "title": {
            "standoff": 15
           },
           "zerolinecolor": "white",
           "zerolinewidth": 2
          }
         }
        },
        "width": 800,
        "xaxis": {
         "tickfont": {
          "size": 14
         },
         "title": {
          "font": {
           "size": 16
          },
          "text": "Number of messages"
         }
        },
        "yaxis": {
         "tickfont": {
          "size": 14
         },
         "tickmode": "array",
         "tickvals": [
          0,
          1,
          2,
          3,
          4,
          5,
          6,
          7,
          8,
          9,
          10,
          11,
          12,
          13,
          14,
          15,
          16,
          17,
          18,
          19,
          20,
          21,
          22,
          23
         ],
         "title": {
          "font": {
           "size": 16
          },
          "text": "Hours"
         }
        }
       }
      },
      "text/html": "<div>\n        \n        \n            <div id=\"7e004352-f0d6-4cec-899b-2c0e47a380ca\" class=\"plotly-graph-div\" style=\"height:800px; width:800px;\"></div>\n            <script type=\"text/javascript\">\n                require([\"plotly\"], function(Plotly) {\n                    window.PLOTLYENV=window.PLOTLYENV || {};\n                    \n                if (document.getElementById(\"7e004352-f0d6-4cec-899b-2c0e47a380ca\")) {\n                    Plotly.newPlot(\n                        '7e004352-f0d6-4cec-899b-2c0e47a380ca',\n                        [{\"marker\": {\"line\": {\"color\": \"rgb(105, 105, 105, 1.0)\", \"width\": 3}}, \"name\": \"4-08-2020\", \"orientation\": \"h\", \"type\": \"bar\", \"x\": [0, 0, 0, 0, 0, 0, 0, 0, 1, 3, 0, 0, 3, 6, 0, 1, 2, 0, 0, 0, 0, 0, 0, 0], \"y\": [\"00\", \"01\", \"02\", \"03\", \"04\", \"05\", \"06\", \"07\", \"08\", \"09\", \"10\", \"11\", \"12\", \"13\", \"14\", \"15\", \"16\", \"17\", \"18\", \"19\", \"20\", \"21\", \"22\", \"23\"]}, {\"marker\": {\"line\": {\"color\": \"rgb(105, 105, 105, 1.0)\", \"width\": 3}}, \"name\": \"5-08-2020\", \"orientation\": \"h\", \"type\": \"bar\", \"x\": [0, 0, 0, 0, 0, 0, 0, 0, 0, 0, 13, 8, 1, 5, 1, 0, 4, 4, 1, 5, 2, 0, 3, 0], \"y\": [\"00\", \"01\", \"02\", \"03\", \"04\", \"05\", \"06\", \"07\", \"08\", \"09\", \"10\", \"11\", \"12\", \"13\", \"14\", \"15\", \"16\", \"17\", \"18\", \"19\", \"20\", \"21\", \"22\", \"23\"]}, {\"marker\": {\"line\": {\"color\": \"rgb(105, 105, 105, 1.0)\", \"width\": 3}}, \"name\": \"6-08-2020\", \"orientation\": \"h\", \"type\": \"bar\", \"x\": [0, 0, 0, 0, 0, 0, 0, 0, 0, 1, 4, 2, 1, 11, 0, 2, 3, 3, 0, 8, 5, 11, 0, 1], \"y\": [\"00\", \"01\", \"02\", \"03\", \"04\", \"05\", \"06\", \"07\", \"08\", \"09\", \"10\", \"11\", \"12\", \"13\", \"14\", \"15\", \"16\", \"17\", \"18\", \"19\", \"20\", \"21\", \"22\", \"23\"]}, {\"marker\": {\"line\": {\"color\": \"rgb(105, 105, 105, 1.0)\", \"width\": 3}}, \"name\": \"7-08-2020\", \"orientation\": \"h\", \"type\": \"bar\", \"x\": [0, 0, 0, 0, 0, 0, 0, 0, 0, 0, 4, 3, 2, 1, 16, 0, 3, 0, 0, 0, 2, 0, 0, 1], \"y\": [\"00\", \"01\", \"02\", \"03\", \"04\", \"05\", \"06\", \"07\", \"08\", \"09\", \"10\", \"11\", \"12\", \"13\", \"14\", \"15\", \"16\", \"17\", \"18\", \"19\", \"20\", \"21\", \"22\", \"23\"]}, {\"marker\": {\"line\": {\"color\": \"rgb(105, 105, 105, 1.0)\", \"width\": 3}}, \"name\": \"8-08-2020\", \"orientation\": \"h\", \"type\": \"bar\", \"x\": [0, 0, 0, 0, 0, 0, 0, 0, 0, 2, 18, 3, 6, 2, 0, 0, 0, 0, 0, 2, 1, 0, 0, 0], \"y\": [\"00\", \"01\", \"02\", \"03\", \"04\", \"05\", \"06\", \"07\", \"08\", \"09\", \"10\", \"11\", \"12\", \"13\", \"14\", \"15\", \"16\", \"17\", \"18\", \"19\", \"20\", \"21\", \"22\", \"23\"]}, {\"marker\": {\"line\": {\"color\": \"rgb(105, 105, 105, 1.0)\", \"width\": 3}}, \"name\": \"9-08-2020\", \"orientation\": \"h\", \"type\": \"bar\", \"x\": [0, 0, 0, 0, 0, 0, 0, 0, 0, 0, 0, 0, 0, 0, 0, 0, 3, 24, 29, 2, 0, 0, 1, 0], \"y\": [\"00\", \"01\", \"02\", \"03\", \"04\", \"05\", \"06\", \"07\", \"08\", \"09\", \"10\", \"11\", \"12\", \"13\", \"14\", \"15\", \"16\", \"17\", \"18\", \"19\", \"20\", \"21\", \"22\", \"23\"]}, {\"marker\": {\"line\": {\"color\": \"rgb(105, 105, 105, 1.0)\", \"width\": 3}}, \"name\": \"10-08-2020\", \"orientation\": \"h\", \"type\": \"bar\", \"x\": [0, 0, 0, 0, 0, 0, 0, 0, 1, 1, 6, 0, 0, 0, 0, 1, 0, 0, 0, 7, 5, 11, 2, 19], \"y\": [\"00\", \"01\", \"02\", \"03\", \"04\", \"05\", \"06\", \"07\", \"08\", \"09\", \"10\", \"11\", \"12\", \"13\", \"14\", \"15\", \"16\", \"17\", \"18\", \"19\", \"20\", \"21\", \"22\", \"23\"]}],\n                        {\"autosize\": false, \"barmode\": \"stack\", \"height\": 800, \"template\": {\"data\": {\"bar\": [{\"error_x\": {\"color\": \"#2a3f5f\"}, \"error_y\": {\"color\": \"#2a3f5f\"}, \"marker\": {\"line\": {\"color\": \"#E5ECF6\", \"width\": 0.5}}, \"type\": \"bar\"}], \"barpolar\": [{\"marker\": {\"line\": {\"color\": \"#E5ECF6\", \"width\": 0.5}}, \"type\": \"barpolar\"}], \"carpet\": [{\"aaxis\": {\"endlinecolor\": \"#2a3f5f\", \"gridcolor\": \"white\", \"linecolor\": \"white\", \"minorgridcolor\": \"white\", \"startlinecolor\": \"#2a3f5f\"}, \"baxis\": {\"endlinecolor\": \"#2a3f5f\", \"gridcolor\": \"white\", \"linecolor\": \"white\", \"minorgridcolor\": \"white\", \"startlinecolor\": \"#2a3f5f\"}, \"type\": \"carpet\"}], \"choropleth\": [{\"colorbar\": {\"outlinewidth\": 0, \"ticks\": \"\"}, \"type\": \"choropleth\"}], \"contour\": [{\"colorbar\": {\"outlinewidth\": 0, \"ticks\": \"\"}, \"colorscale\": [[0.0, \"#0d0887\"], [0.1111111111111111, \"#46039f\"], [0.2222222222222222, \"#7201a8\"], [0.3333333333333333, \"#9c179e\"], [0.4444444444444444, \"#bd3786\"], [0.5555555555555556, \"#d8576b\"], [0.6666666666666666, \"#ed7953\"], [0.7777777777777778, \"#fb9f3a\"], [0.8888888888888888, \"#fdca26\"], [1.0, \"#f0f921\"]], \"type\": \"contour\"}], \"contourcarpet\": [{\"colorbar\": {\"outlinewidth\": 0, \"ticks\": \"\"}, \"type\": \"contourcarpet\"}], \"heatmap\": [{\"colorbar\": {\"outlinewidth\": 0, \"ticks\": \"\"}, \"colorscale\": [[0.0, \"#0d0887\"], [0.1111111111111111, \"#46039f\"], [0.2222222222222222, \"#7201a8\"], [0.3333333333333333, \"#9c179e\"], [0.4444444444444444, \"#bd3786\"], [0.5555555555555556, \"#d8576b\"], [0.6666666666666666, \"#ed7953\"], [0.7777777777777778, \"#fb9f3a\"], [0.8888888888888888, \"#fdca26\"], [1.0, \"#f0f921\"]], \"type\": \"heatmap\"}], \"heatmapgl\": [{\"colorbar\": {\"outlinewidth\": 0, \"ticks\": \"\"}, \"colorscale\": [[0.0, \"#0d0887\"], [0.1111111111111111, \"#46039f\"], [0.2222222222222222, \"#7201a8\"], [0.3333333333333333, \"#9c179e\"], [0.4444444444444444, \"#bd3786\"], [0.5555555555555556, \"#d8576b\"], [0.6666666666666666, \"#ed7953\"], [0.7777777777777778, \"#fb9f3a\"], [0.8888888888888888, \"#fdca26\"], [1.0, \"#f0f921\"]], \"type\": \"heatmapgl\"}], \"histogram\": [{\"marker\": {\"colorbar\": {\"outlinewidth\": 0, \"ticks\": \"\"}}, \"type\": \"histogram\"}], \"histogram2d\": [{\"colorbar\": {\"outlinewidth\": 0, \"ticks\": \"\"}, \"colorscale\": [[0.0, \"#0d0887\"], [0.1111111111111111, \"#46039f\"], [0.2222222222222222, \"#7201a8\"], [0.3333333333333333, \"#9c179e\"], [0.4444444444444444, \"#bd3786\"], [0.5555555555555556, \"#d8576b\"], [0.6666666666666666, \"#ed7953\"], [0.7777777777777778, \"#fb9f3a\"], [0.8888888888888888, \"#fdca26\"], [1.0, \"#f0f921\"]], \"type\": \"histogram2d\"}], \"histogram2dcontour\": [{\"colorbar\": {\"outlinewidth\": 0, \"ticks\": \"\"}, \"colorscale\": [[0.0, \"#0d0887\"], [0.1111111111111111, \"#46039f\"], [0.2222222222222222, \"#7201a8\"], [0.3333333333333333, \"#9c179e\"], [0.4444444444444444, \"#bd3786\"], [0.5555555555555556, \"#d8576b\"], [0.6666666666666666, \"#ed7953\"], [0.7777777777777778, \"#fb9f3a\"], [0.8888888888888888, \"#fdca26\"], [1.0, \"#f0f921\"]], \"type\": \"histogram2dcontour\"}], \"mesh3d\": [{\"colorbar\": {\"outlinewidth\": 0, \"ticks\": \"\"}, \"type\": \"mesh3d\"}], \"parcoords\": [{\"line\": {\"colorbar\": {\"outlinewidth\": 0, \"ticks\": \"\"}}, \"type\": \"parcoords\"}], \"pie\": [{\"automargin\": true, \"type\": \"pie\"}], \"scatter\": [{\"marker\": {\"colorbar\": {\"outlinewidth\": 0, \"ticks\": \"\"}}, \"type\": \"scatter\"}], \"scatter3d\": [{\"line\": {\"colorbar\": {\"outlinewidth\": 0, \"ticks\": \"\"}}, \"marker\": {\"colorbar\": {\"outlinewidth\": 0, \"ticks\": \"\"}}, \"type\": \"scatter3d\"}], \"scattercarpet\": [{\"marker\": {\"colorbar\": {\"outlinewidth\": 0, \"ticks\": \"\"}}, \"type\": \"scattercarpet\"}], \"scattergeo\": [{\"marker\": {\"colorbar\": {\"outlinewidth\": 0, \"ticks\": \"\"}}, \"type\": \"scattergeo\"}], \"scattergl\": [{\"marker\": {\"colorbar\": {\"outlinewidth\": 0, \"ticks\": \"\"}}, \"type\": \"scattergl\"}], \"scattermapbox\": [{\"marker\": {\"colorbar\": {\"outlinewidth\": 0, \"ticks\": \"\"}}, \"type\": \"scattermapbox\"}], \"scatterpolar\": [{\"marker\": {\"colorbar\": {\"outlinewidth\": 0, \"ticks\": \"\"}}, \"type\": \"scatterpolar\"}], \"scatterpolargl\": [{\"marker\": {\"colorbar\": {\"outlinewidth\": 0, \"ticks\": \"\"}}, \"type\": \"scatterpolargl\"}], \"scatterternary\": [{\"marker\": {\"colorbar\": {\"outlinewidth\": 0, \"ticks\": \"\"}}, \"type\": \"scatterternary\"}], \"surface\": [{\"colorbar\": {\"outlinewidth\": 0, \"ticks\": \"\"}, \"colorscale\": [[0.0, \"#0d0887\"], [0.1111111111111111, \"#46039f\"], [0.2222222222222222, \"#7201a8\"], [0.3333333333333333, \"#9c179e\"], [0.4444444444444444, \"#bd3786\"], [0.5555555555555556, \"#d8576b\"], [0.6666666666666666, \"#ed7953\"], [0.7777777777777778, \"#fb9f3a\"], [0.8888888888888888, \"#fdca26\"], [1.0, \"#f0f921\"]], \"type\": \"surface\"}], \"table\": [{\"cells\": {\"fill\": {\"color\": \"#EBF0F8\"}, \"line\": {\"color\": \"white\"}}, \"header\": {\"fill\": {\"color\": \"#C8D4E3\"}, \"line\": {\"color\": \"white\"}}, \"type\": \"table\"}]}, \"layout\": {\"annotationdefaults\": {\"arrowcolor\": \"#2a3f5f\", \"arrowhead\": 0, \"arrowwidth\": 1}, \"coloraxis\": {\"colorbar\": {\"outlinewidth\": 0, \"ticks\": \"\"}}, \"colorscale\": {\"diverging\": [[0, \"#8e0152\"], [0.1, \"#c51b7d\"], [0.2, \"#de77ae\"], [0.3, \"#f1b6da\"], [0.4, \"#fde0ef\"], [0.5, \"#f7f7f7\"], [0.6, \"#e6f5d0\"], [0.7, \"#b8e186\"], [0.8, \"#7fbc41\"], [0.9, \"#4d9221\"], [1, \"#276419\"]], \"sequential\": [[0.0, \"#0d0887\"], [0.1111111111111111, \"#46039f\"], [0.2222222222222222, \"#7201a8\"], [0.3333333333333333, \"#9c179e\"], [0.4444444444444444, \"#bd3786\"], [0.5555555555555556, \"#d8576b\"], [0.6666666666666666, \"#ed7953\"], [0.7777777777777778, \"#fb9f3a\"], [0.8888888888888888, \"#fdca26\"], [1.0, \"#f0f921\"]], \"sequentialminus\": [[0.0, \"#0d0887\"], [0.1111111111111111, \"#46039f\"], [0.2222222222222222, \"#7201a8\"], [0.3333333333333333, \"#9c179e\"], [0.4444444444444444, \"#bd3786\"], [0.5555555555555556, \"#d8576b\"], [0.6666666666666666, \"#ed7953\"], [0.7777777777777778, \"#fb9f3a\"], [0.8888888888888888, \"#fdca26\"], [1.0, \"#f0f921\"]]}, \"colorway\": [\"#636efa\", \"#EF553B\", \"#00cc96\", \"#ab63fa\", \"#FFA15A\", \"#19d3f3\", \"#FF6692\", \"#B6E880\", \"#FF97FF\", \"#FECB52\"], \"font\": {\"color\": \"#2a3f5f\"}, \"geo\": {\"bgcolor\": \"white\", \"lakecolor\": \"white\", \"landcolor\": \"#E5ECF6\", \"showlakes\": true, \"showland\": true, \"subunitcolor\": \"white\"}, \"hoverlabel\": {\"align\": \"left\"}, \"hovermode\": \"closest\", \"mapbox\": {\"style\": \"light\"}, \"paper_bgcolor\": \"white\", \"plot_bgcolor\": \"#E5ECF6\", \"polar\": {\"angularaxis\": {\"gridcolor\": \"white\", \"linecolor\": \"white\", \"ticks\": \"\"}, \"bgcolor\": \"#E5ECF6\", \"radialaxis\": {\"gridcolor\": \"white\", \"linecolor\": \"white\", \"ticks\": \"\"}}, \"scene\": {\"xaxis\": {\"backgroundcolor\": \"#E5ECF6\", \"gridcolor\": \"white\", \"gridwidth\": 2, \"linecolor\": \"white\", \"showbackground\": true, \"ticks\": \"\", \"zerolinecolor\": \"white\"}, \"yaxis\": {\"backgroundcolor\": \"#E5ECF6\", \"gridcolor\": \"white\", \"gridwidth\": 2, \"linecolor\": \"white\", \"showbackground\": true, \"ticks\": \"\", \"zerolinecolor\": \"white\"}, \"zaxis\": {\"backgroundcolor\": \"#E5ECF6\", \"gridcolor\": \"white\", \"gridwidth\": 2, \"linecolor\": \"white\", \"showbackground\": true, \"ticks\": \"\", \"zerolinecolor\": \"white\"}}, \"shapedefaults\": {\"line\": {\"color\": \"#2a3f5f\"}}, \"ternary\": {\"aaxis\": {\"gridcolor\": \"white\", \"linecolor\": \"white\", \"ticks\": \"\"}, \"baxis\": {\"gridcolor\": \"white\", \"linecolor\": \"white\", \"ticks\": \"\"}, \"bgcolor\": \"#E5ECF6\", \"caxis\": {\"gridcolor\": \"white\", \"linecolor\": \"white\", \"ticks\": \"\"}}, \"title\": {\"x\": 0.05}, \"xaxis\": {\"automargin\": true, \"gridcolor\": \"white\", \"linecolor\": \"white\", \"ticks\": \"\", \"title\": {\"standoff\": 15}, \"zerolinecolor\": \"white\", \"zerolinewidth\": 2}, \"yaxis\": {\"automargin\": true, \"gridcolor\": \"white\", \"linecolor\": \"white\", \"ticks\": \"\", \"title\": {\"standoff\": 15}, \"zerolinecolor\": \"white\", \"zerolinewidth\": 2}}}, \"width\": 800, \"xaxis\": {\"tickfont\": {\"size\": 14}, \"title\": {\"font\": {\"size\": 16}, \"text\": \"Number of messages\"}}, \"yaxis\": {\"tickfont\": {\"size\": 14}, \"tickmode\": \"array\", \"tickvals\": [0, 1, 2, 3, 4, 5, 6, 7, 8, 9, 10, 11, 12, 13, 14, 15, 16, 17, 18, 19, 20, 21, 22, 23], \"title\": {\"font\": {\"size\": 16}, \"text\": \"Hours\"}}},\n                        {\"responsive\": true}\n                    ).then(function(){\n                            \nvar gd = document.getElementById('7e004352-f0d6-4cec-899b-2c0e47a380ca');\nvar x = new MutationObserver(function (mutations, observer) {{\n        var display = window.getComputedStyle(gd).display;\n        if (!display || display === 'none') {{\n            console.log([gd, 'removed!']);\n            Plotly.purge(gd);\n            observer.disconnect();\n        }}\n}});\n\n// Listen for the removal of the full notebook cells\nvar notebookContainer = gd.closest('#notebook-container');\nif (notebookContainer) {{\n    x.observe(notebookContainer, {childList: true});\n}}\n\n// Listen for the clearing of the current output cell\nvar outputEl = gd.closest('.output');\nif (outputEl) {{\n    x.observe(outputEl, {childList: true});\n}}\n\n                        })\n                };\n                });\n            </script>\n        </div>"
     },
     "metadata": {},
     "output_type": "display_data"
    }
   ],
   "source": [
    "from matplotlib.pyplot import figure\n",
    "import plotly.graph_objects as go\n",
    "\n",
    "figure(num=None, figsize=(10, 8), dpi=80, facecolor='w', edgecolor='k')\n",
    "fig = go.Figure()\n",
    "\n",
    "for i in range(7):\n",
    "    date_before = datetime.datetime(2020, 8, 3 + i, 0, 0, 0)\n",
    "    date_after = datetime.datetime(2020, 8, 4 + i, 0, 0, 0)\n",
    "\n",
    "    x, y, lists = get_user_activity(dialogs_info, date_before, date_after, \"Private dialog\")\n",
    "\n",
    "    fig.add_trace(go.Bar(\n",
    "        y=x,\n",
    "        x=y,\n",
    "        name=\"{}-08-2020\".format(4 + i),\n",
    "        orientation='h',\n",
    "        marker=dict(\n",
    "            line=dict(color='rgb(105, 105, 105, 1.0)', width=3)\n",
    "        )\n",
    "    ))\n",
    "    plt.plot(x, y, linewidth=2.5, marker='o', linestyle=\"-\", label=\"{}-08-2020\".format(4 + i))\n",
    "\n",
    "plt.xticks([i for i in range(0, 24)])\n",
    "plt.legend(loc='upper left', frameon=False)\n",
    "plt.show()\n",
    "\n",
    "# show comparing bar\n",
    "fig.update_layout(\n",
    "    barmode='stack',\n",
    "    autosize=False,\n",
    "    width=800,\n",
    "    height=800,\n",
    "    yaxis = dict(\n",
    "            title='Hours',\n",
    "            titlefont_size=16,\n",
    "            tickfont_size=14,\n",
    "            tickmode = 'array',\n",
    "            tickvals = [i for i in range(24)]),\n",
    "    xaxis = dict(\n",
    "            title='Number of messages',\n",
    "            titlefont_size=16,\n",
    "            tickfont_size=14)\n",
    ")\n",
    "fig.show()"
   ]
  },
  {
   "cell_type": "markdown",
   "metadata": {
    "pycharm": {
     "name": "#%% md\n"
    }
   },
   "source": [
    "## Top people with whom communicate during 10.06.2020 - 09.08.2020"
   ]
  },
  {
   "cell_type": "code",
   "execution_count": 7,
   "metadata": {},
   "outputs": [
    {
     "name": "stdout",
     "output_type": "stream",
     "text": [
      "777000\n",
      "1 place is Діма Лопушанський with 508 messages\n",
      "2 place is Назар Поночевний with 470 messages\n",
      "3 place is Паша Уку Астроном with 365 messages\n",
      "4 place is Добосевич Олесь with 350 messages\n",
      "5 place is Denys Herasymuk with 297 messages\n",
      "6 place is Gleb Plakhtiy with 207 messages\n",
      "7 place is Христина БА with 49 messages\n",
      "8 place is Володя Савчук with 21 messages\n"
     ]
    }
   ],
   "source": [
    "date_before = datetime.datetime(2020, 6, 10, 0, 0, 0)\n",
    "date_after = datetime.datetime(2020, 8, 10, 0, 0, 0)\n",
    "x, y, lists = get_user_activity(dialogs_info, date_before, date_after, \"Private dialog\", \"top_friends\")\n",
    "for place, friend in enumerate(lists.items()):\n",
    "    print(\"{} place is {} with {} messages\".format(place + 1, friend[0], friend[1]))"
   ]
  },
  {
   "cell_type": "markdown",
   "metadata": {
    "pycharm": {
     "name": "#%% md\n"
    }
   },
   "source": [
    "## Top groups with whom communicate during 10.06.2020 - 09.08.2020"
   ]
  },
  {
   "cell_type": "code",
   "execution_count": 8,
   "metadata": {
    "pycharm": {
     "name": "#%%\n"
    }
   },
   "outputs": [
    {
     "name": "stdout",
     "output_type": "stream",
     "text": [
      "1 place is d2v with 77 messages\n",
      "2 place is ПОК Проект with 9 messages\n",
      "3 place is 🤪Будущі бомжі (4K)🥴 with 7 messages\n",
      "4 place is APPS@UCU (всі) ❤️ with 1 messages\n"
     ]
    }
   ],
   "source": [
    "x, y, lists = get_user_activity(dialogs_info, date_before, date_after, \"Group\", \"top_friends\")\n",
    "for place, friend in enumerate(lists.items()):\n",
    "    print(\"{} place is {} with {} messages\".format(place + 1, friend[0], friend[1]))"
   ]
  },
  {
   "cell_type": "markdown",
   "metadata": {},
   "source": [
    "## Time spending on conversations during 03.08.2020 - 09.08.2020"
   ]
  },
  {
   "cell_type": "code",
   "execution_count": 23,
   "metadata": {
    "pycharm": {
     "name": "#%%\n"
    }
   },
   "outputs": [
    {
     "name": "stdout",
     "output_type": "stream",
     "text": [
      "Time spend on conversation: dialog Діма Лопушанський 1.0 minutes\n",
      "Time spend on conversation: dialog Володя Савчук 0.0 minutes\n",
      "Time spend on conversation: dialog Добосевич Олесь 0.0 minutes\n",
      "Time spend on conversation: dialog Назар Поночевний 1.0 minutes\n",
      "Time spend on conversation: dialog Gleb Plakhtiy 0.0 minutes\n",
      "Time spend on conversation: dialog Паша Уку Астроном 0.0 minutes\n",
      "Time spend on conversation: dialog Denys Herasymuk 0.0 minutes\n",
      "Time spend on conversation: dialog Христина БА 1.0 minutes\n",
      "777000\n",
      "Time spend on conversation: dialog BookCrossing - Обмен книгами 0 minutes\n",
      "Time spend on conversation: dialog React Kyiv 0 minutes\n",
      "Time spend on conversation: dialog Arch Linux RU 0 minutes\n",
      "Time spend on conversation: dialog УКУ Рандом | REBOOTED 0 minutes\n",
      "Time spend on conversation: dialog APPS@UCU (всі) ❤️ 0 minutes\n",
      "Time spend on conversation: dialog sns_internships 0 minutes\n",
      "Time spend on conversation: dialog ПОК Проект 0 minutes\n",
      "Time spend on conversation: dialog 🤪Будущі бомжі (4K)🥴 0 minutes\n",
      "Time spend on conversation: dialog Group 0 minutes\n",
      "Time spend on conversation: dialog d2v 0 minutes\n",
      "Time spend on conversation: dialog Діма Лопушанський 5.0 minutes\n",
      "Time spend on conversation: dialog Володя Савчук 0.0 minutes\n",
      "Time spend on conversation: dialog Добосевич Олесь 0.0 minutes\n",
      "Time spend on conversation: dialog Назар Поночевний 1.0 minutes\n",
      "Time spend on conversation: dialog Gleb Plakhtiy 10.0 minutes\n",
      "Time spend on conversation: dialog Паша Уку Астроном 0.0 minutes\n",
      "Time spend on conversation: dialog Denys Herasymuk 4.0 minutes\n",
      "Time spend on conversation: dialog Христина БА 0.0 minutes\n",
      "777000\n",
      "Time spend on conversation: dialog BookCrossing - Обмен книгами 0 minutes\n",
      "Time spend on conversation: dialog React Kyiv 0 minutes\n",
      "Time spend on conversation: dialog Arch Linux RU 0 minutes\n",
      "Time spend on conversation: dialog УКУ Рандом | REBOOTED 0 minutes\n",
      "Time spend on conversation: dialog APPS@UCU (всі) ❤️ 0 minutes\n",
      "Time spend on conversation: dialog sns_internships 0 minutes\n",
      "Time spend on conversation: dialog ПОК Проект 0 minutes\n",
      "Time spend on conversation: dialog 🤪Будущі бомжі (4K)🥴 0 minutes\n",
      "Time spend on conversation: dialog Group 0 minutes\n",
      "KEYERROR!!! 195\n",
      "Time spend on conversation: dialog d2v 19.0 minutes\n",
      "Time spend on conversation: dialog Діма Лопушанський 8.0 minutes\n",
      "Time spend on conversation: dialog Володя Савчук 1.0 minutes\n",
      "Time spend on conversation: dialog Добосевич Олесь 0.0 minutes\n",
      "Time spend on conversation: dialog Назар Поночевний 0.0 minutes\n",
      "Time spend on conversation: dialog Gleb Plakhtiy 0.0 minutes\n",
      "Time spend on conversation: dialog Паша Уку Астроном 0.0 minutes\n",
      "Time spend on conversation: dialog Denys Herasymuk 12.0 minutes\n",
      "Time spend on conversation: dialog Христина БА 0.0 minutes\n",
      "777000\n",
      "Time spend on conversation: dialog BookCrossing - Обмен книгами 0 minutes\n",
      "Time spend on conversation: dialog React Kyiv 0 minutes\n",
      "Time spend on conversation: dialog Arch Linux RU 0 minutes\n",
      "Time spend on conversation: dialog УКУ Рандом | REBOOTED 0 minutes\n",
      "Time spend on conversation: dialog APPS@UCU (всі) ❤️ 0 minutes\n",
      "Time spend on conversation: dialog sns_internships 0 minutes\n",
      "Time spend on conversation: dialog ПОК Проект 0 minutes\n",
      "Time spend on conversation: dialog 🤪Будущі бомжі (4K)🥴 0 minutes\n",
      "Time spend on conversation: dialog Group 0 minutes\n",
      "Time spend on conversation: dialog d2v 1.0 minutes\n",
      "Time spend on conversation: dialog Діма Лопушанський 19.0 minutes\n",
      "Time spend on conversation: dialog Володя Савчук 0.0 minutes\n",
      "Time spend on conversation: dialog Добосевич Олесь 0.0 minutes\n",
      "Time spend on conversation: dialog Назар Поночевний 0.0 minutes\n",
      "Time spend on conversation: dialog Gleb Plakhtiy 0.0 minutes\n",
      "Time spend on conversation: dialog Паша Уку Астроном 0.0 minutes\n",
      "Time spend on conversation: dialog Denys Herasymuk 1.0 minutes\n",
      "Time spend on conversation: dialog Христина БА 0.0 minutes\n",
      "777000\n",
      "Time spend on conversation: dialog BookCrossing - Обмен книгами 0 minutes\n",
      "Time spend on conversation: dialog React Kyiv 0 minutes\n",
      "Time spend on conversation: dialog Arch Linux RU 0 minutes\n",
      "Time spend on conversation: dialog УКУ Рандом | REBOOTED 0 minutes\n",
      "Time spend on conversation: dialog APPS@UCU (всі) ❤️ 0 minutes\n",
      "Time spend on conversation: dialog sns_internships 0 minutes\n",
      "Time spend on conversation: dialog ПОК Проект 1.0 minutes\n",
      "Time spend on conversation: dialog 🤪Будущі бомжі (4K)🥴 0.0 minutes\n",
      "Time spend on conversation: dialog Group 0.0 minutes\n",
      "Time spend on conversation: dialog d2v 2.0 minutes\n",
      "Time spend on conversation: dialog Діма Лопушанський 9.0 minutes\n",
      "Time spend on conversation: dialog Володя Савчук 0.0 minutes\n",
      "Time spend on conversation: dialog Добосевич Олесь 0.0 minutes\n",
      "Time spend on conversation: dialog Назар Поночевний 0.0 minutes\n",
      "Time spend on conversation: dialog Gleb Plakhtiy 2.0 minutes\n",
      "Time spend on conversation: dialog Паша Уку Астроном 0.0 minutes\n",
      "Time spend on conversation: dialog Denys Herasymuk 0.0 minutes\n",
      "Time spend on conversation: dialog Христина БА 0.0 minutes\n",
      "777000\n",
      "Time spend on conversation: dialog BookCrossing - Обмен книгами 0 minutes\n",
      "Time spend on conversation: dialog React Kyiv 0 minutes\n",
      "Time spend on conversation: dialog Arch Linux RU 0 minutes\n",
      "Time spend on conversation: dialog УКУ Рандом | REBOOTED 0 minutes\n",
      "Time spend on conversation: dialog APPS@UCU (всі) ❤️ 0 minutes\n",
      "Time spend on conversation: dialog sns_internships 0 minutes\n",
      "Time spend on conversation: dialog ПОК Проект 2.0 minutes\n",
      "Time spend on conversation: dialog 🤪Будущі бомжі (4K)🥴 0.0 minutes\n",
      "Time spend on conversation: dialog Group 0.0 minutes\n",
      "Time spend on conversation: dialog d2v 4.0 minutes\n",
      "Time spend on conversation: dialog Діма Лопушанський 21.0 minutes\n",
      "Time spend on conversation: dialog Володя Савчук 0.0 minutes\n",
      "Time spend on conversation: dialog Добосевич Олесь 0.0 minutes\n",
      "Time spend on conversation: dialog Назар Поночевний 0.0 minutes\n",
      "Time spend on conversation: dialog Gleb Plakhtiy 1.0 minutes\n",
      "Time spend on conversation: dialog Паша Уку Астроном 0.0 minutes\n",
      "Time spend on conversation: dialog Denys Herasymuk 0.0 minutes\n",
      "Time spend on conversation: dialog Христина БА 0.0 minutes\n",
      "777000\n",
      "Time spend on conversation: dialog BookCrossing - Обмен книгами 0 minutes\n",
      "Time spend on conversation: dialog React Kyiv 0 minutes\n",
      "Time spend on conversation: dialog Arch Linux RU 0 minutes\n",
      "Time spend on conversation: dialog УКУ Рандом | REBOOTED 0 minutes\n",
      "Time spend on conversation: dialog APPS@UCU (всі) ❤️ 0 minutes\n",
      "Time spend on conversation: dialog sns_internships 0 minutes\n",
      "Time spend on conversation: dialog ПОК Проект 0 minutes\n",
      "Time spend on conversation: dialog 🤪Будущі бомжі (4K)🥴 0 minutes\n",
      "Time spend on conversation: dialog Group 0 minutes\n",
      "Time spend on conversation: dialog d2v 0 minutes\n",
      "Time spend on conversation: dialog Діма Лопушанський 1.0 minutes\n",
      "Time spend on conversation: dialog Володя Савчук 0.0 minutes\n",
      "Time spend on conversation: dialog Добосевич Олесь 0.0 minutes\n",
      "Time spend on conversation: dialog Назар Поночевний 1.0 minutes\n",
      "Time spend on conversation: dialog Gleb Plakhtiy 2.0 minutes\n",
      "Time spend on conversation: dialog Паша Уку Астроном 11.0 minutes\n",
      "Time spend on conversation: dialog Denys Herasymuk 0.0 minutes\n",
      "Time spend on conversation: dialog Христина БА 0.0 minutes\n",
      "777000\n",
      "Time spend on conversation: dialog BookCrossing - Обмен книгами 0 minutes\n",
      "Time spend on conversation: dialog React Kyiv 0 minutes\n",
      "Time spend on conversation: dialog Arch Linux RU 0 minutes\n",
      "Time spend on conversation: dialog УКУ Рандом | REBOOTED 0 minutes\n",
      "Time spend on conversation: dialog APPS@UCU (всі) ❤️ 0 minutes\n",
      "Time spend on conversation: dialog sns_internships 0 minutes\n",
      "Time spend on conversation: dialog ПОК Проект 0 minutes\n",
      "Time spend on conversation: dialog 🤪Будущі бомжі (4K)🥴 0 minutes\n",
      "Time spend on conversation: dialog Group 0 minutes\n",
      "Time spend on conversation: dialog d2v 4.0 minutes\n",
      "{datetime.date(2020, 8, 3): 15.0, datetime.date(2020, 8, 4): 51.0, datetime.date(2020, 8, 5): 33.0, datetime.date(2020, 8, 6): 35.0, datetime.date(2020, 8, 7): 28.0, datetime.date(2020, 8, 8): 33.0, datetime.date(2020, 8, 9): 32.0}\n"
     ]
    },
    {
     "data": {
      "text/plain": [
       "<Figure size 1280x1120 with 0 Axes>"
      ]
     },
     "metadata": {},
     "output_type": "display_data"
    },
    {
     "data": {
      "image/png": "[encoded data removed]",
      "text/plain": [
       "<Figure size 432x288 with 1 Axes>"
      ]
     },
     "metadata": {
      "needs_background": "light"
     },
     "output_type": "display_data"
    }
   ],
   "source": [
    "plot_data = {}\n",
    "for i in range(7):\n",
    "    date_before = datetime.datetime(2020, 8, 3 + i, 0, 0, 0)\n",
    "    date_after = datetime.datetime(2020, 8, 4 + i, 0, 0, 0)\n",
    "\n",
    "    general_dialog_time = get_user_activity(dialogs_info, date_before, date_after, \"Private dialog\", \"active_minutes\") \\\n",
    "                          + get_user_activity(dialogs_info, date_before, date_after, \"Group\", \"active_minutes\")\n",
    "    plot_data[datetime.date(2020, 8, 3 + i)] = general_dialog_time\n",
    "\n",
    "print(plot_data)\n",
    "lists = sorted(plot_data.items())\n",
    "dates, n_minutes_lst = zip(*lists)\n",
    "\n",
    "n_days = 7\n",
    "\n",
    "# create plot\n",
    "from matplotlib.pyplot import figure\n",
    "figure(num=None, figsize=(16, 14), dpi=80, facecolor='w', edgecolor='k')\n",
    "fig, ax = plt.subplots()\n",
    "index = np.arange(n_days)\n",
    "bar_width = 0.35\n",
    "opacity = 0.8\n",
    "\n",
    "rects1 = plt.bar(index, n_minutes_lst, bar_width,\n",
    "alpha=opacity,\n",
    "color='b')\n",
    "\n",
    "plt.xlabel('Dates')\n",
    "plt.ylabel('Minutes per a day')\n",
    "plt.title('Time spending on conversations during 03.08.2020 - 09.08.2020')\n",
    "plt.xticks(index + bar_width, dates)\n",
    "\n",
    "plt.show()"
   ]
  },
  {
   "cell_type": "code",
   "execution_count": 42,
   "metadata": {
    "pycharm": {
     "name": "#%%\n"
    }
   },
   "outputs": [
    {
     "ename": "AttributeError",
     "evalue": "'tuple' object has no attribute 'add'",
     "output_type": "error",
     "traceback": [
      "\u001B[1;31m---------------------------------------------------------------------------\u001B[0m",
      "\u001B[1;31mAttributeError\u001B[0m                            Traceback (most recent call last)",
      "\u001B[1;32m<ipython-input-42-c70b3fec197c>\u001B[0m in \u001B[0;36m<module>\u001B[1;34m\u001B[0m\n\u001B[0;32m      1\u001B[0m \u001B[0mm\u001B[0m \u001B[1;33m=\u001B[0m \u001B[0mtuple\u001B[0m\u001B[1;33m(\u001B[0m\u001B[1;33m)\u001B[0m\u001B[1;33m\u001B[0m\u001B[1;33m\u001B[0m\u001B[0m\n\u001B[1;32m----> 2\u001B[1;33m \u001B[0mm\u001B[0m\u001B[1;33m.\u001B[0m\u001B[0madd\u001B[0m\u001B[1;33m(\u001B[0m\u001B[1;36m1\u001B[0m\u001B[1;33m)\u001B[0m\u001B[1;33m\u001B[0m\u001B[1;33m\u001B[0m\u001B[0m\n\u001B[0m\u001B[0;32m      3\u001B[0m \u001B[0mm\u001B[0m\u001B[1;33m.\u001B[0m\u001B[0madd\u001B[0m\u001B[1;33m(\u001B[0m\u001B[1;36m1\u001B[0m\u001B[1;33m)\u001B[0m\u001B[1;33m\u001B[0m\u001B[1;33m\u001B[0m\u001B[0m\n\u001B[0;32m      4\u001B[0m \u001B[0mprint\u001B[0m\u001B[1;33m(\u001B[0m\u001B[0mm\u001B[0m\u001B[1;33m)\u001B[0m\u001B[1;33m\u001B[0m\u001B[1;33m\u001B[0m\u001B[0m\n\u001B[0;32m      5\u001B[0m \u001B[1;33m\u001B[0m\u001B[0m\n",
      "\u001B[1;31mAttributeError\u001B[0m: 'tuple' object has no attribute 'add'"
     ]
    }
   ],
   "source": []
  },
  {
   "cell_type": "code",
   "execution_count": null,
   "metadata": {
    "pycharm": {
     "name": "#%%\n"
    }
   },
   "outputs": [],
   "source": [
    "\n"
   ]
  }
 ],
 "metadata": {
  "kernelspec": {
   "display_name": "Python 3",
   "language": "python",
   "name": "python3"
  },
  "language_info": {
   "codemirror_mode": {
    "name": "ipython",
    "version": 3
   },
   "file_extension": ".py",
   "mimetype": "text/x-python",
   "name": "python",
   "nbconvert_exporter": "python",
   "pygments_lexer": "ipython3",
   "version": "3.8.3"
  }
 },
 "nbformat": 4,
 "nbformat_minor": 2
}