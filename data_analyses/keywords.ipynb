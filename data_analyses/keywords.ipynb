{
 "cells": [
  {
   "cell_type": "code",
   "execution_count": 8,
   "metadata": {
    "collapsed": true
   },
   "outputs": [
    {
     "name": "stdout",
     "output_type": "stream",
     "text": [
      "Schema:\n",
      "\n",
      " id              int64\n",
      "title          object\n",
      "en_title       object\n",
      "body           object\n",
      "date           object\n",
      "source_url     object\n",
      "article_url    object\n",
      "dtype: object\n",
      "Number of questions,columns= (20, 7)\n"
     ]
    },
    {
     "data": {
      "text/plain": "    id                                              title  \\\n0    1  Авіакомпанії відкрили бронювання квитків на ре...   \n1    2        Коли можна буде зняти маски – пояснення МОЗ   \n2    3  Українці потрапили в ДТП у Росії: є загиблий і...   \n3    4  У Запорізькій області Lanos виїхав на зустрічн...   \n4    5  З початку тижня 12 загиблих у пожежах: рятувал...   \n5    6  У День матері Зеленський нагородив 678 україно...   \n6    7  Авіган під час коронавірусу – чи допомагає пре...   \n7    8            День матері: як зірки вітають своїх мам   \n8    9       На Вінниччині троє військових загинули в ДТП   \n9   10  МЗС спростувало інформацію щодо дозволів для в...   \n10  11  Стало відомо, яка країна першою отримає від Яп...   \n11  12  Біля берегів Африки пірати викрали українськог...   \n12  13  Ляшко затвердив рекомендації для роботи заклад...   \n13  14  Україна забороняє виїзд громадян без дозволу М...   \n14  15  В Івано-Франківську від коронавірусу помер гол...   \n15  16  Дякуйте їм кожного дня: Зеленський привітав ук...   \n16  17  Коронавірус у Києві: статистика поширення за р...   \n17  18    За добу Covid-19 підтвердили у 34 киян – Кличко   \n18  19  У МОЗ розповіли, наскільки заповнені лікарні в...   \n19  20                    Коли День батька 2020 в Україні   \n\n                                             en_title  \\\n0   Airlines opened the booking of flights from Uk...   \n1   When the mask can be removed - an explanation ...   \n2   Ukrainians got in an accident in Russia: there...   \n3   In the Zaporozhye region Lanos went into the o...   \n4   Since week 12, died in the fire, rescuers call...   \n5   On Mother's Day 678 Ukrainians Zelensky awarde...   \n6           Avihan during coronavirus - Does the drug   \n7      Mother's Day, as the stars greet their mothers   \n8   At Vinnytsia three military killed in road acc...   \n9   Foreign Ministry refuted the information on pe...   \n10  It is known that the first country of Japan wi...   \n11  Off the coast of Africa pirates hijacked Ukrai...   \n12  Lyashko approved recommendations for instituti...   \n13  Ukraine bans citizens travel without MFA - Bri...   \n14  Ivano-Frankivsk died of coronavirus chief doct...   \n15  Thank them every day: Zelensky congratulated U...   \n16  Coronavirus in Kiev: distribution statistics b...   \n17      By day 19 confirmed Covid-34 Kiev - Klitschko   \n18  The Health Ministry told how filled hospitals ...   \n19                  When Father's Day 2020 in Ukraine   \n\n                                                 body                 date  \\\n0   Авіакомпанії в Україні відкрили бронювання кви...  Травень, 10 в 17:49   \n1   Якщо кількість випадків коронавірусу зменшуват...  Травень, 10 в 17:27   \n2   Один із українців загинув і ще троє наших гром...  Травень, 10 в 17:16   \n3   У Бердянську Запорізької області водій автомоб...  Травень, 10 в 17:09   \n4   З початку 2020 року в Україні під час пожеж за...  Травень, 10 в 16:38   \n5   У День матері 10 травня 678 українки отримали ...  Травень, 10 в 16:18   \n6   Ефективність препарату Авіган (Фавіпіравір) у ...  Травень, 10 в 16:09   \n7   День матері відзначається щорічно у другу неді...  Травень, 10 в 15:39   \n8   Троє військових загинули в ДТП на автодорозі м...  Травень, 10 в 15:16   \n9   У Міністерстві закордонних справ України заявл...  Травень, 10 в 14:44   \n10  Уряд Японії надіслав посольству Естонії в Токі...  Травень, 10 в 14:44   \n11  10 травня біля берегів екваторіальної Гвінеї п...  Травень, 10 в 13:56   \n12  Рекомендації щодо організації протиепідемічних...  Травень, 10 в 13:40   \n13  Посольство Великої Британії в Україні стверджу...  Травень, 10 в 13:02   \n14  10 травня від коронавірусу помер головний ліка...  Травень, 10 в 12:39   \n15  Президент України Володимир Зеленський привіта...  Травень, 10 в 12:05   \n16  Станом на 10 травня у Києві підтвердили ще 34 ...  Травень, 10 в 11:24   \n17  У Києві 10 травня лабораторно підтвердили захв...  Травень, 10 в 11:07   \n18  Заповненість лікарень по Україні не перевищує ...  Травень, 10 в 11:01   \n19  День батька в Україні відзначають у третю неді...  Травень, 10 в 10:47   \n\n                 source_url                                        article_url  \n0   https://fakty.com.ua/ua  https://fakty.com.ua/ua/ukraine/20200510-aviak...  \n1   https://fakty.com.ua/ua  https://fakty.com.ua/ua/ukraine/20200510-koly-...  \n2   https://fakty.com.ua/ua  https://fakty.com.ua/ua/proisshestvija/2020051...  \n3   https://fakty.com.ua/ua  https://fakty.com.ua/ua/proisshestvija/2020051...  \n4   https://fakty.com.ua/ua  https://fakty.com.ua/ua/proisshestvija/2020051...  \n5   https://fakty.com.ua/ua  https://fakty.com.ua/ua/ukraine/20200510-u-den...  \n6   https://fakty.com.ua/ua  https://fakty.com.ua/ua/lifestyle/zdorove/2020...  \n7   https://fakty.com.ua/ua  https://fakty.com.ua/ua/showbiz/20200510-den-m...  \n8   https://fakty.com.ua/ua  https://fakty.com.ua/ua/proisshestvija/2020051...  \n9   https://fakty.com.ua/ua  https://fakty.com.ua/ua/ukraine/20200510-mzs-s...  \n10  https://fakty.com.ua/ua  https://fakty.com.ua/ua/svit/svitovi-novyny/20...  \n11  https://fakty.com.ua/ua  https://fakty.com.ua/ua/ukraine/20200510-bilya...  \n12  https://fakty.com.ua/ua  https://fakty.com.ua/ua/ukraine/20200510-lyash...  \n13  https://fakty.com.ua/ua  https://fakty.com.ua/ua/ukraine/20200510-ukray...  \n14  https://fakty.com.ua/ua  https://fakty.com.ua/ua/ukraine/20200510-v-iva...  \n15  https://fakty.com.ua/ua  https://fakty.com.ua/ua/ukraine/20200510-dyaku...  \n16  https://fakty.com.ua/ua  https://fakty.com.ua/ua/ukraine/20200510-koron...  \n17  https://fakty.com.ua/ua  https://fakty.com.ua/ua/ukraine/20200510-za-do...  \n18  https://fakty.com.ua/ua  https://fakty.com.ua/ua/ukraine/20200510-u-moz...  \n19  https://fakty.com.ua/ua  https://fakty.com.ua/ua/lifestyle/20200510-kol...  ",
      "text/html": "<div>\n<style scoped>\n    .dataframe tbody tr th:only-of-type {\n        vertical-align: middle;\n    }\n\n    .dataframe tbody tr th {\n        vertical-align: top;\n    }\n\n    .dataframe thead th {\n        text-align: right;\n    }\n</style>\n<table border=\"1\" class=\"dataframe\">\n  <thead>\n    <tr style=\"text-align: right;\">\n      <th></th>\n      <th>id</th>\n      <th>title</th>\n      <th>en_title</th>\n      <th>body</th>\n      <th>date</th>\n      <th>source_url</th>\n      <th>article_url</th>\n    </tr>\n  </thead>\n  <tbody>\n    <tr>\n      <th>0</th>\n      <td>1</td>\n      <td>Авіакомпанії відкрили бронювання квитків на ре...</td>\n      <td>Airlines opened the booking of flights from Uk...</td>\n      <td>Авіакомпанії в Україні відкрили бронювання кви...</td>\n      <td>Травень, 10 в 17:49</td>\n      <td>https://fakty.com.ua/ua</td>\n      <td>https://fakty.com.ua/ua/ukraine/20200510-aviak...</td>\n    </tr>\n    <tr>\n      <th>1</th>\n      <td>2</td>\n      <td>Коли можна буде зняти маски – пояснення МОЗ</td>\n      <td>When the mask can be removed - an explanation ...</td>\n      <td>Якщо кількість випадків коронавірусу зменшуват...</td>\n      <td>Травень, 10 в 17:27</td>\n      <td>https://fakty.com.ua/ua</td>\n      <td>https://fakty.com.ua/ua/ukraine/20200510-koly-...</td>\n    </tr>\n    <tr>\n      <th>2</th>\n      <td>3</td>\n      <td>Українці потрапили в ДТП у Росії: є загиблий і...</td>\n      <td>Ukrainians got in an accident in Russia: there...</td>\n      <td>Один із українців загинув і ще троє наших гром...</td>\n      <td>Травень, 10 в 17:16</td>\n      <td>https://fakty.com.ua/ua</td>\n      <td>https://fakty.com.ua/ua/proisshestvija/2020051...</td>\n    </tr>\n    <tr>\n      <th>3</th>\n      <td>4</td>\n      <td>У Запорізькій області Lanos виїхав на зустрічн...</td>\n      <td>In the Zaporozhye region Lanos went into the o...</td>\n      <td>У Бердянську Запорізької області водій автомоб...</td>\n      <td>Травень, 10 в 17:09</td>\n      <td>https://fakty.com.ua/ua</td>\n      <td>https://fakty.com.ua/ua/proisshestvija/2020051...</td>\n    </tr>\n    <tr>\n      <th>4</th>\n      <td>5</td>\n      <td>З початку тижня 12 загиблих у пожежах: рятувал...</td>\n      <td>Since week 12, died in the fire, rescuers call...</td>\n      <td>З початку 2020 року в Україні під час пожеж за...</td>\n      <td>Травень, 10 в 16:38</td>\n      <td>https://fakty.com.ua/ua</td>\n      <td>https://fakty.com.ua/ua/proisshestvija/2020051...</td>\n    </tr>\n    <tr>\n      <th>5</th>\n      <td>6</td>\n      <td>У День матері Зеленський нагородив 678 україно...</td>\n      <td>On Mother's Day 678 Ukrainians Zelensky awarde...</td>\n      <td>У День матері 10 травня 678 українки отримали ...</td>\n      <td>Травень, 10 в 16:18</td>\n      <td>https://fakty.com.ua/ua</td>\n      <td>https://fakty.com.ua/ua/ukraine/20200510-u-den...</td>\n    </tr>\n    <tr>\n      <th>6</th>\n      <td>7</td>\n      <td>Авіган під час коронавірусу – чи допомагає пре...</td>\n      <td>Avihan during coronavirus - Does the drug</td>\n      <td>Ефективність препарату Авіган (Фавіпіравір) у ...</td>\n      <td>Травень, 10 в 16:09</td>\n      <td>https://fakty.com.ua/ua</td>\n      <td>https://fakty.com.ua/ua/lifestyle/zdorove/2020...</td>\n    </tr>\n    <tr>\n      <th>7</th>\n      <td>8</td>\n      <td>День матері: як зірки вітають своїх мам</td>\n      <td>Mother's Day, as the stars greet their mothers</td>\n      <td>День матері відзначається щорічно у другу неді...</td>\n      <td>Травень, 10 в 15:39</td>\n      <td>https://fakty.com.ua/ua</td>\n      <td>https://fakty.com.ua/ua/showbiz/20200510-den-m...</td>\n    </tr>\n    <tr>\n      <th>8</th>\n      <td>9</td>\n      <td>На Вінниччині троє військових загинули в ДТП</td>\n      <td>At Vinnytsia three military killed in road acc...</td>\n      <td>Троє військових загинули в ДТП на автодорозі м...</td>\n      <td>Травень, 10 в 15:16</td>\n      <td>https://fakty.com.ua/ua</td>\n      <td>https://fakty.com.ua/ua/proisshestvija/2020051...</td>\n    </tr>\n    <tr>\n      <th>9</th>\n      <td>10</td>\n      <td>МЗС спростувало інформацію щодо дозволів для в...</td>\n      <td>Foreign Ministry refuted the information on pe...</td>\n      <td>У Міністерстві закордонних справ України заявл...</td>\n      <td>Травень, 10 в 14:44</td>\n      <td>https://fakty.com.ua/ua</td>\n      <td>https://fakty.com.ua/ua/ukraine/20200510-mzs-s...</td>\n    </tr>\n    <tr>\n      <th>10</th>\n      <td>11</td>\n      <td>Стало відомо, яка країна першою отримає від Яп...</td>\n      <td>It is known that the first country of Japan wi...</td>\n      <td>Уряд Японії надіслав посольству Естонії в Токі...</td>\n      <td>Травень, 10 в 14:44</td>\n      <td>https://fakty.com.ua/ua</td>\n      <td>https://fakty.com.ua/ua/svit/svitovi-novyny/20...</td>\n    </tr>\n    <tr>\n      <th>11</th>\n      <td>12</td>\n      <td>Біля берегів Африки пірати викрали українськог...</td>\n      <td>Off the coast of Africa pirates hijacked Ukrai...</td>\n      <td>10 травня біля берегів екваторіальної Гвінеї п...</td>\n      <td>Травень, 10 в 13:56</td>\n      <td>https://fakty.com.ua/ua</td>\n      <td>https://fakty.com.ua/ua/ukraine/20200510-bilya...</td>\n    </tr>\n    <tr>\n      <th>12</th>\n      <td>13</td>\n      <td>Ляшко затвердив рекомендації для роботи заклад...</td>\n      <td>Lyashko approved recommendations for instituti...</td>\n      <td>Рекомендації щодо організації протиепідемічних...</td>\n      <td>Травень, 10 в 13:40</td>\n      <td>https://fakty.com.ua/ua</td>\n      <td>https://fakty.com.ua/ua/ukraine/20200510-lyash...</td>\n    </tr>\n    <tr>\n      <th>13</th>\n      <td>14</td>\n      <td>Україна забороняє виїзд громадян без дозволу М...</td>\n      <td>Ukraine bans citizens travel without MFA - Bri...</td>\n      <td>Посольство Великої Британії в Україні стверджу...</td>\n      <td>Травень, 10 в 13:02</td>\n      <td>https://fakty.com.ua/ua</td>\n      <td>https://fakty.com.ua/ua/ukraine/20200510-ukray...</td>\n    </tr>\n    <tr>\n      <th>14</th>\n      <td>15</td>\n      <td>В Івано-Франківську від коронавірусу помер гол...</td>\n      <td>Ivano-Frankivsk died of coronavirus chief doct...</td>\n      <td>10 травня від коронавірусу помер головний ліка...</td>\n      <td>Травень, 10 в 12:39</td>\n      <td>https://fakty.com.ua/ua</td>\n      <td>https://fakty.com.ua/ua/ukraine/20200510-v-iva...</td>\n    </tr>\n    <tr>\n      <th>15</th>\n      <td>16</td>\n      <td>Дякуйте їм кожного дня: Зеленський привітав ук...</td>\n      <td>Thank them every day: Zelensky congratulated U...</td>\n      <td>Президент України Володимир Зеленський привіта...</td>\n      <td>Травень, 10 в 12:05</td>\n      <td>https://fakty.com.ua/ua</td>\n      <td>https://fakty.com.ua/ua/ukraine/20200510-dyaku...</td>\n    </tr>\n    <tr>\n      <th>16</th>\n      <td>17</td>\n      <td>Коронавірус у Києві: статистика поширення за р...</td>\n      <td>Coronavirus in Kiev: distribution statistics b...</td>\n      <td>Станом на 10 травня у Києві підтвердили ще 34 ...</td>\n      <td>Травень, 10 в 11:24</td>\n      <td>https://fakty.com.ua/ua</td>\n      <td>https://fakty.com.ua/ua/ukraine/20200510-koron...</td>\n    </tr>\n    <tr>\n      <th>17</th>\n      <td>18</td>\n      <td>За добу Covid-19 підтвердили у 34 киян – Кличко</td>\n      <td>By day 19 confirmed Covid-34 Kiev - Klitschko</td>\n      <td>У Києві 10 травня лабораторно підтвердили захв...</td>\n      <td>Травень, 10 в 11:07</td>\n      <td>https://fakty.com.ua/ua</td>\n      <td>https://fakty.com.ua/ua/ukraine/20200510-za-do...</td>\n    </tr>\n    <tr>\n      <th>18</th>\n      <td>19</td>\n      <td>У МОЗ розповіли, наскільки заповнені лікарні в...</td>\n      <td>The Health Ministry told how filled hospitals ...</td>\n      <td>Заповненість лікарень по Україні не перевищує ...</td>\n      <td>Травень, 10 в 11:01</td>\n      <td>https://fakty.com.ua/ua</td>\n      <td>https://fakty.com.ua/ua/ukraine/20200510-u-moz...</td>\n    </tr>\n    <tr>\n      <th>19</th>\n      <td>20</td>\n      <td>Коли День батька 2020 в Україні</td>\n      <td>When Father's Day 2020 in Ukraine</td>\n      <td>День батька в Україні відзначають у третю неді...</td>\n      <td>Травень, 10 в 10:47</td>\n      <td>https://fakty.com.ua/ua</td>\n      <td>https://fakty.com.ua/ua/lifestyle/20200510-kol...</td>\n    </tr>\n  </tbody>\n</table>\n</div>"
     },
     "execution_count": 8,
     "metadata": {},
     "output_type": "execute_result"
    }
   ],
   "source": [
    "import os\n",
    "import pandas as pd\n",
    "\n",
    "from cube.api import Cube\n",
    "from utils.data_transformation import prepare_dialogs, transform_raw_data\n",
    "\n",
    "# 0) Install (or update) NLP-Cube with:\n",
    "    # pip3 install -U nlpcube\n",
    "\n",
    "path_to_articles = '../static/ukr_articles'\n",
    "data = pd.read_csv(path_to_articles, sep = ';', header = None)\n",
    "\n",
    "# write your number of rows to analyse. max == 695,\n",
    "# but to clean and analyse 30 rows is spending 6 minutes\n",
    "df_idf = pd.DataFrame(data[:20])\n",
    "\n",
    "df_idf.columns = [\"id\", \"title\", \"en_title\", \"body\", \"date\", \"source_url\",\n",
    "                  \"article_url\"]\n",
    "\n",
    "print(\"Schema:\\n\\n\",df_idf.dtypes)\n",
    "print(\"Number of questions,columns=\",df_idf.shape)\n",
    "df_idf"
   ]
  },
  {
   "cell_type": "code",
   "execution_count": 9,
   "outputs": [
    {
     "name": "stdout",
     "output_type": "stream",
     "text": [
      "Loading latest local model: uk-1.1\n",
      "\tLoading embeddings ... \n",
      "\tLoading tokenization model ...\n",
      "\tLoading lemmatization model ...\n",
      "\tLoading tagger model ...\n",
      "\tLoading parser model ...\n",
      "Model loading complete.\n",
      "\n"
     ]
    },
    {
     "data": {
      "text/plain": "'українець потрапити дтп росія загиблий постраждаліодина українець загинути троє наш громадянин отримати травма дтпа вязьма смоленський область субота повідомити директор департамент консульський служба міністерство закордонний справа україни сергія погорельцево постраждалий важкий травма госпіталізувати реанімаційний відділення місцевий лікарня двоє українець отримати травма легкий середній тяжкість їхній життя загрожувати'"
     },
     "execution_count": 9,
     "metadata": {},
     "output_type": "execute_result"
    }
   ],
   "source": [
    "# change to language of articles\n",
    "lang = \"ua\"\n",
    "if lang == \"ua\":\n",
    "    cube = Cube(verbose=True)\n",
    "    cube.load(\"uk\")\n",
    "\n",
    "df_idf.dropna(subset = [\"title\"], inplace=True)\n",
    "df_idf.dropna(subset = [\"body\"], inplace=True)\n",
    "\n",
    "df_idf['text'] = df_idf['title'] + df_idf['body']\n",
    "df_idf['text'] = df_idf['text'].apply(lambda x: transform_raw_data(x, lang, \"words_frequency\", cube))\n",
    "\n",
    "#show the first 'text'\n",
    "df_idf['text'][2]"
   ],
   "metadata": {
    "collapsed": false,
    "pycharm": {
     "name": "#%%\n"
    }
   }
  },
  {
   "cell_type": "code",
   "execution_count": 18,
   "outputs": [
    {
     "name": "stderr",
     "output_type": "stream",
     "text": [
      "d:\\python\\envs\\venv_telegram_analysis\\lib\\site-packages\\sklearn\\feature_extraction\\text.py:386: UserWarning: Your stop_words may be inconsistent with your preprocessing. Tokenizing the stop words generated tokens ['_io', 'analysis', 'data_analyses', 'dialogs', 'encoding', 'mode', 'my_work', 'name', 'programming', 'static', 'telegram', 'telegram_analysis2', 'textiowrapper', 'txt', 'ukrainian_stopwords', 'utf'] not in stop_words.\n",
      "  'stop_words.' % sorted(inconsistent))\n"
     ]
    }
   ],
   "source": [
    "from sklearn.feature_extraction.text import CountVectorizer\n",
    "import re\n",
    "\n",
    "def get_stop_words():\n",
    "    \"\"\"load stop words \"\"\"\n",
    "\n",
    "    try:\n",
    "        with open(os.path.join(os.getcwd(), \"..\", \"static\", \"ukrainian_stopwords.txt\"), \"r\", encoding=\"utf-8\") as file:\n",
    "            stop_words = str(file).strip().split()\n",
    "\n",
    "    except FileNotFoundError:\n",
    "        with open(os.path.join(os.getcwd(), \"static\", \"ukrainian_stopwords.txt\"), \"r\",\n",
    "                  encoding=\"utf-8\") as file:\n",
    "            stop_words = str(file).strip().split()\n",
    "\n",
    "    return stop_words\n",
    "\n",
    "#load a set of stop words\n",
    "stopwords=get_stop_words()\n",
    "\n",
    "#get the text column\n",
    "docs=df_idf['text'].tolist()\n",
    "\n",
    "#create a vocabulary of words,\n",
    "#ignore words that appear in 85% of documents,\n",
    "#eliminate stop words\n",
    "cv=CountVectorizer(max_df=0.85,stop_words=stopwords)\n",
    "word_count_vector=cv.fit_transform(docs)"
   ],
   "metadata": {
    "collapsed": false,
    "pycharm": {
     "name": "#%%\n"
    }
   }
  },
  {
   "cell_type": "code",
   "execution_count": 19,
   "outputs": [
    {
     "data": {
      "text/plain": "(20, 903)"
     },
     "execution_count": 19,
     "metadata": {},
     "output_type": "execute_result"
    }
   ],
   "source": [
    "cv=CountVectorizer(max_df=0.85,stop_words=stopwords,max_features=10000, ngram_range=(2, 2))\n",
    "word_count_vector=cv.fit_transform(docs)\n",
    "word_count_vector.shape"
   ],
   "metadata": {
    "collapsed": false,
    "pycharm": {
     "name": "#%%\n"
    }
   }
  },
  {
   "cell_type": "code",
   "execution_count": 20,
   "outputs": [],
   "source": [
    "from sklearn.feature_extraction.text import TfidfTransformer\n",
    "\n",
    "tfidf_transformer=TfidfTransformer(smooth_idf=True,use_idf=True)\n",
    "tfidf_transformer.fit(word_count_vector)\n",
    "\n",
    "# get test docs into a list\n",
    "docs_test=df_idf['text'].tolist()\n",
    "docs_title=df_idf['title'].tolist()\n",
    "docs_body=df_idf['body'].tolist()"
   ],
   "metadata": {
    "collapsed": false,
    "pycharm": {
     "name": "#%%\n"
    }
   }
  },
  {
   "cell_type": "code",
   "execution_count": 21,
   "outputs": [
    {
     "name": "stdout",
     "output_type": "stream",
     "text": [
      "\n",
      "=====Title=====\n",
      "Авіакомпанії відкрили бронювання квитків на рейси з України\n",
      "\n",
      "=====Body=====\n",
      "Авіакомпанії в Україні відкрили бронювання квитків на регулярні рейси з кінця травня.\n",
      "На сайті Міжнародних авіаліній України вже доступні квитки на рейси 23 травня. Наприклад, можна забронювати політ до Тбілісі в Грузії. МАУ запланувала як міжнародні, так і внутрішні рейси.\n",
      "\n",
      "Зі свого боку компанія Wizz Аir також дозволила бронювання квитків на 23 травня. Наприклад, на цю дату заплановано виліт із Києва до Відня.\n",
      "\n",
      "===Keywords===\n",
      "бронювання квиток 0.405\n",
      "травень наприклад 0.27\n",
      "відкрити бронювання 0.27\n",
      "україниавіакомпанія україна 0.135\n",
      "україни доступний 0.135\n",
      "україна відкрити 0.135\n",
      "травень сайт 0.135\n",
      "тбілісй грузія 0.135\n",
      "сайт міжнародний 0.135\n",
      "рейса україниавіакомпанія 0.135\n"
     ]
    }
   ],
   "source": [
    "def sort_coo(coo_matrix):\n",
    "    tuples = zip(coo_matrix.col, coo_matrix.data)\n",
    "    return sorted(tuples, key=lambda x: (x[1], x[0]), reverse=True)\n",
    "\n",
    "def extract_topn_from_vector(feature_names, sorted_items, topn=10):\n",
    "    \"\"\"get the feature names and tf-idf score of top n items\"\"\"\n",
    "\n",
    "    #use only topn items from vector\n",
    "    sorted_items = sorted_items[:topn]\n",
    "\n",
    "    score_vals = []\n",
    "    feature_vals = []\n",
    "\n",
    "    for idx, score in sorted_items:\n",
    "        fname = feature_names[idx]\n",
    "\n",
    "        #keep track of feature name and its corresponding score\n",
    "        score_vals.append(round(score, 3))\n",
    "        feature_vals.append(feature_names[idx])\n",
    "\n",
    "    #create a tuples of feature,score\n",
    "    results= {}\n",
    "    for idx in range(len(feature_vals)):\n",
    "        results[feature_vals[idx]]=score_vals[idx]\n",
    "\n",
    "    return results\n",
    "\n",
    "# you only needs to do this once\n",
    "feature_names=cv.get_feature_names()\n",
    "\n",
    "# get the document that we want to extract keywords from\n",
    "doc=docs_test[0]\n",
    "\n",
    "#generate tf-idf for the given document\n",
    "tf_idf_vector=tfidf_transformer.transform(cv.transform([doc]))\n",
    "\n",
    "#sort the tf-idf vectors by descending order of scores\n",
    "sorted_items=sort_coo(tf_idf_vector.tocoo())\n",
    "\n",
    "#extract only the top n; n here is 10\n",
    "keywords=extract_topn_from_vector(feature_names,sorted_items,10)\n",
    "\n",
    "# now print the results\n",
    "print(\"\\n=====Title=====\")\n",
    "print(docs_title[0])\n",
    "print(\"\\n=====Body=====\")\n",
    "print(docs_body[0])\n",
    "print(\"\\n===Keywords===\")\n",
    "for k in keywords:\n",
    "    print(k,keywords[k])"
   ],
   "metadata": {
    "collapsed": false,
    "pycharm": {
     "name": "#%%\n"
    }
   }
  },
  {
   "cell_type": "code",
   "execution_count": 22,
   "outputs": [],
   "source": [
    "# put the common code into several methods\n",
    "def get_keywords(idx):\n",
    "\n",
    "    #generate tf-idf for the given document\n",
    "    tf_idf_vector=tfidf_transformer.transform(cv.transform([docs_test[idx]]))\n",
    "\n",
    "    #sort the tf-idf vectors by descending order of scores\n",
    "    sorted_items=sort_coo(tf_idf_vector.tocoo())\n",
    "\n",
    "    #extract only the top n; n here is 10\n",
    "    keywords=extract_topn_from_vector(feature_names,sorted_items,10)\n",
    "\n",
    "    return keywords\n",
    "\n",
    "def print_results(idx,keywords):\n",
    "    # now print the results\n",
    "    print(\"\\n=====Title=====\")\n",
    "    print(docs_title[idx])\n",
    "    print(\"\\n=====Body=====\")\n",
    "    print(docs_body[idx])\n",
    "    print(\"\\n===Keywords===\")\n",
    "    for k in keywords:\n",
    "        print(k,keywords[k])"
   ],
   "metadata": {
    "collapsed": false,
    "pycharm": {
     "name": "#%%\n"
    }
   }
  },
  {
   "cell_type": "code",
   "execution_count": 23,
   "outputs": [
    {
     "name": "stdout",
     "output_type": "stream",
     "text": [
      "{'бронювання квиток': 0.405, 'травень наприклад': 0.27, 'відкрити бронювання': 0.27, 'україниавіакомпанія україна': 0.135, 'україни доступний': 0.135, 'україна відкрити': 0.135, 'травень сайт': 0.135, 'тбілісй грузія': 0.135, 'сайт міжнародний': 0.135, 'рейса україниавіакомпанія': 0.135}\n",
      "{'інфекція складніше': 0.136, 'якщо число': 0.136, 'якщо бачити': 0.136, 'швидко вийти': 0.136, 'читать коронавірус': 0.136, 'число випадок': 0.136, 'ходити маска': 0.136, 'складніше балансувати': 0.136, 'сказати читать': 0.136, 'сезонність впливати': 0.136}\n",
      "{'отримати травма': 0.294, 'їхній життя': 0.147, 'україни сергія': 0.147, 'українець потрапити': 0.147, 'українець отримати': 0.147, 'українець загинути': 0.147, 'тяжкість їхній': 0.147, 'троє наш': 0.147, 'травма легкий': 0.147, 'травма дтпа': 0.147}\n",
      "{'запорізький область': 0.293, 'lanos виїхати': 0.293, 'читати вінничина': 0.147, 'ушкодження доставити': 0.147, 'тілесний ушкодження': 0.147, 'троє людина': 0.147, 'троє військовий': 0.147, 'травмуватися троє': 0.147, 'смуга зустрічний': 0.147, 'смуга загиблія': 0.147}\n",
      "{'який спровокувати': 0.167, 'чоловік який': 0.167, 'читать підпалити': 0.167, 'україна під': 0.167, 'травень житловий': 0.167, 'тиждень загиблий': 0.167, 'сусід ліс': 0.167, 'спровокувати пожежа': 0.167, 'служба надзвичайний': 0.167, 'ситуація травень': 0.167}\n",
      "{'звання мати': 0.345, 'ятьох дитина': 0.173, 'українок звання': 0.173, 'українка отримати': 0.173, 'указ нагородження': 0.173, 'травень українка': 0.173, 'серед нагороджений': 0.173, 'річний вік': 0.173, 'підписати президент': 0.173, 'президент україни': 0.173}\n",
      "{'лікування коронавірус': 0.238, 'інфекція доведений': 0.135, 'японія дані': 0.135, 'який використовуватися': 0.135, 'щодо застосування': 0.135, 'читати допомагати': 0.135, 'хворий коронавіруса': 0.135, 'фавіпіравір боротьбь': 0.135, 'терапевт різ': 0.135, 'стан позитивний': 0.135}\n",
      "{'щорічно другий': 0.155, 'фото свій': 0.155, 'факта ictv': 0.155, 'українець святкувати': 0.155, 'українець публікувати': 0.155, 'травень українець': 0.155, 'травень рік': 0.155, 'сторінка привітання': 0.155, 'соцмережа фото': 0.155, 'слово адреса': 0.155}\n",
      "{'їхати дорога': 0.284, 'дорога врізатися': 0.284, 'врізатися дерево': 0.284, 'швидкість їхати': 0.142, 'швидкий допомога': 0.142, 'читати швидкий': 0.142, 'фельдшер лікарня': 0.142, 'троє військові': 0.142, 'травень автомобілл': 0.142, 'слідство читати': 0.142}\n",
      "{'виїзд українець': 0.24, 'міністерство закордонний': 0.211, 'закордонний справа': 0.211, 'дозвіл виїзд': 0.211, 'інший інформація': 0.12, 'інформувати іноземний': 0.12, 'інформація щодо': 0.12, 'інформація обмеження': 0.12, 'іноземний дипломатичний': 0.12, 'щодо пункт': 0.12}\n",
      "{'отримати японія': 0.229, 'ліки проти': 0.229, 'японія надіслати': 0.114, 'японія ліка': 0.114, 'японія ймовірний': 0.114, 'японський фармацевтичний': 0.114, 'японський колега': 0.114, 'четвер японський': 0.114, 'хороший приклад': 0.114, 'фармацевтичний компанія': 0.114}\n",
      "{'український моряк': 0.279, 'біля берег': 0.279, 'інформація результать': 0.139, 'член екіпаж': 0.139, 'україни член': 0.139, 'травень біля': 0.139, 'судно сказати': 0.139, 'судна rio': 0.139, 'суден rio': 0.139, 'статися поблизу': 0.139}\n",
      "{'щодо організація': 0.144, 'частково послабити': 0.144, 'умова карантина': 0.144, 'україна віктор': 0.144, 'травень вступити': 0.144, 'сила частково': 0.144, 'санітарний лікар': 0.144, 'робота заклад': 0.144, 'рекомендація робота': 0.144, 'під надання': 0.144}\n",
      "{'виїзд громадянин': 0.238, 'український влада': 0.135, 'україни постійний': 0.135, 'україни йтися': 0.135, 'україни заборонити': 0.135, 'українець мати': 0.135, 'україна стверджувати': 0.135, 'україна забороняти': 0.135, 'територія україни': 0.135, 'сторінка посольство': 0.135}\n",
      "{'івано франківський': 0.302, 'станція швидкий': 0.302, 'іваний франківський': 0.151, 'іваии франківський': 0.151, 'шість день': 0.151, 'швидкий медичний': 0.151, 'швидкий допомоги10': 0.151, 'читати смерть': 0.151, 'франківський станція': 0.151, 'франківський русланин': 0.151}\n",
      "{'зеленський привітати': 0.229, 'їхній дитина': 0.115, 'який вимовляти': 0.115, 'школа розуміти': 0.115, 'шапка під': 0.115, 'чекати дзвінок': 0.115, 'цілувати ніжка': 0.115, 'хотіти шапка': 0.115, 'ходити витримувати': 0.115, 'український жінка': 0.115}\n",
      "{'вік рік': 0.325, 'інфікований пацієнт': 0.162, 'чоловікi вік': 0.162, 'хворий зросло': 0.162, 'травень києві': 0.162, 'статистика поширення': 0.162, 'стан травень': 0.162, 'рік чоловікi': 0.162, 'рік лікарня': 0.162, 'район оновлюватися': 0.162}\n",
      "{'хворий повідомити': 0.162, 'троє хворий': 0.162, 'травня лабораторно': 0.162, 'столиця підтверджений': 0.162, 'підтвердити кияни': 0.162, 'підтвердити захворювання': 0.162, 'підтверджений випадок': 0.162, 'померло минути': 0.162, 'повідомити міський': 0.162, 'нині столиця': 0.162}\n",
      "{'кількість госпіталізація': 0.298, 'якщо дивитися': 0.149, 'щодо кількість': 0.149, 'цілий україна': 0.149, 'українізаповненість лікарня': 0.149, 'україна статистик': 0.149, 'україна показник': 0.149, 'україна перевищувати': 0.149, 'степан щодо': 0.149, 'статистик поширення': 0.149}\n",
      "{'третій неділя': 0.272, 'татус вітати': 0.272, 'неділя червень': 0.272, 'ірландія індія': 0.136, 'індія нідерланда': 0.136, 'японія ірландія': 0.136, 'червень червень': 0.136, 'червень україна': 0.136, 'червень тато': 0.136, 'червень рік': 0.136}\n"
     ]
    }
   ],
   "source": [
    "#generate tf-idf for all documents in your list. docs_test has 500 documents\n",
    "tf_idf_vector=tfidf_transformer.transform(cv.transform(docs_test))\n",
    "\n",
    "results=[]\n",
    "for i in range(tf_idf_vector.shape[0]):\n",
    "\n",
    "    # get vector for a single document\n",
    "    curr_vector=tf_idf_vector[i]\n",
    "\n",
    "    #sort the tf-idf vector by descending order of scores\n",
    "    sorted_items=sort_coo(curr_vector.tocoo())\n",
    "\n",
    "    #extract only the top n; n here is 10\n",
    "    keywords=extract_topn_from_vector(feature_names,sorted_items,10)\n",
    "\n",
    "\n",
    "    results.append(keywords)\n",
    "\n",
    "df=pd.DataFrame(zip(docs,results),columns=['doc','keywords'])\n",
    "for result in results:\n",
    "    result2 = {k: v for k, v in sorted(result.items(), key=lambda item: item[1], reverse=True)}\n",
    "    print(result2)"
   ],
   "metadata": {
    "collapsed": false,
    "pycharm": {
     "name": "#%%\n"
    }
   }
  },
  {
   "cell_type": "code",
   "execution_count": null,
   "outputs": [],
   "source": [],
   "metadata": {
    "collapsed": false,
    "pycharm": {
     "name": "#%%\n"
    }
   }
  }
 ],
 "metadata": {
  "kernelspec": {
   "display_name": "Python 3",
   "language": "python",
   "name": "python3"
  },
  "language_info": {
   "codemirror_mode": {
    "name": "ipython",
    "version": 2
   },
   "file_extension": ".py",
   "mimetype": "text/x-python",
   "name": "python",
   "nbconvert_exporter": "python",
   "pygments_lexer": "ipython2",
   "version": "2.7.6"
  }
 },
 "nbformat": 4,
 "nbformat_minor": 0
}